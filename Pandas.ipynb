{
 "cells": [
  {
   "cell_type": "markdown",
   "metadata": {},
   "source": [
    "# 1. Pandas\n",
    "\n",
    "- 정의 : 데이터 가공 및 분석을 위해 만들어진 Python 라이브러리\n",
    "- Pandas라는 이름은 \"Panel data\"에서 유래함(개량경제학 용어로써 다차원의 구조화된 데이터셋을 다룸)\n",
    "> balanced panel\n",
    "![balanced panel](https://wikimedia.org/api/rest_v1/media/math/render/svg/de4ab9449dffb05244e681551e6f3ce710856ac6)\n",
    "unbalanced panel\n",
    "![unbalanced panel](https://wikimedia.org/api/rest_v1/media/math/render/svg/fad5580f0bc2deadc1a110b647dded40867600c0)\n",
    "\n",
    "## 1.1 10 Minute to pandas (http://pandas.pydata.org/pandas-docs/stable/10min.html)\n",
    " - Object 생성([Object Creation](http://pandas.pydata.org/pandas-docs/stable/10min.html#object-creation))\n",
    " - 데이터 조회([Viewing Data](http://pandas.pydata.org/pandas-docs/stable/10min.html#viewing-data))\n",
    " - 데이터 선택([Selection](http://pandas.pydata.org/pandas-docs/stable/10min.html#selection))\n",
    "     - Selection by Label\n",
    "     - Selection by Position\n",
    "     - Boolean Indexing\n",
    "     - Setting\n",
    " - 누락 데이터([Missing Data](http://pandas.pydata.org/pandas-docs/stable/10min.html#missing-data))\n",
    " - Pandas 계산([Operations](http://pandas.pydata.org/pandas-docs/stable/10min.html#operations))\n",
    "     - Stats\n",
    "     - Apply\n",
    "     - Histogramming\n",
    "     - String Methods\n",
    " - 병합([Merge](http://pandas.pydata.org/pandas-docs/stable/10min.html#merge))\n",
    "     - Concat\n",
    "     - Join\n",
    "     - Append\n",
    " - 그룹화([Grouping](http://pandas.pydata.org/pandas-docs/stable/10min.html#grouping))\n",
    " - 변형([Reshaping](http://pandas.pydata.org/pandas-docs/stable/10min.html#reshaping))\n",
    "     - Stack\n",
    "     - Pivot Tables\n",
    " - 시계열([Time Series](http://pandas.pydata.org/pandas-docs/stable/10min.html#time-series))\n",
    " - 분류([Categoricals](http://pandas.pydata.org/pandas-docs/stable/10min.html#categoricals))\n",
    " - 피벗([Plotting](http://pandas.pydata.org/pandas-docs/stable/10min.html#plotting))\n",
    " - 데이터 입출력([Getting Data in/out](http://pandas.pydata.org/pandas-docs/stable/10min.html#getting-data-in-out))\n",
    " - [Gotchas](http://pandas.pydata.org/pandas-docs/stable/10min.html#gotchas)"
   ]
  },
  {
   "cell_type": "markdown",
   "metadata": {},
   "source": [
    "### 1.1.1 Object 생성"
   ]
  },
  {
   "cell_type": "code",
   "execution_count": 10,
   "metadata": {
    "collapsed": false
   },
   "outputs": [],
   "source": [
    "import pandas as pd\n",
    "import numpy as np\n",
    "s = pd.Series([1,3,5,np.nan,6,8])\n",
    "dates = pd.date_range('20130101', periods=6)\n",
    "df = pd.DataFrame(np.random.randn(6,4), index=dates, columns=list('ABCD'))"
   ]
  },
  {
   "cell_type": "markdown",
   "metadata": {},
   "source": [
    "### 1.1.2 데이터 조회"
   ]
  },
  {
   "cell_type": "markdown",
   "metadata": {},
   "source": [
    "#### 1.1.2.1 처음과 끝 조회"
   ]
  },
  {
   "cell_type": "code",
   "execution_count": 23,
   "metadata": {
    "collapsed": true
   },
   "outputs": [
    {
     "data": {
      "text/html": [
       "<div>\n",
       "<table border=\"1\" class=\"dataframe\">\n",
       "  <thead>\n",
       "    <tr style=\"text-align: right;\">\n",
       "      <th></th>\n",
       "      <th>A</th>\n",
       "      <th>B</th>\n",
       "      <th>C</th>\n",
       "      <th>D</th>\n",
       "    </tr>\n",
       "  </thead>\n",
       "  <tbody>\n",
       "    <tr>\n",
       "      <th>2013-01-01</th>\n",
       "      <td>1.119708</td>\n",
       "      <td>0.483102</td>\n",
       "      <td>-0.180153</td>\n",
       "      <td>0.101865</td>\n",
       "    </tr>\n",
       "    <tr>\n",
       "      <th>2013-01-02</th>\n",
       "      <td>-1.376163</td>\n",
       "      <td>-0.652957</td>\n",
       "      <td>-0.970354</td>\n",
       "      <td>-0.780968</td>\n",
       "    </tr>\n",
       "    <tr>\n",
       "      <th>2013-01-03</th>\n",
       "      <td>0.680812</td>\n",
       "      <td>2.514244</td>\n",
       "      <td>0.458267</td>\n",
       "      <td>0.959558</td>\n",
       "    </tr>\n",
       "    <tr>\n",
       "      <th>2013-01-04</th>\n",
       "      <td>0.713789</td>\n",
       "      <td>-0.831499</td>\n",
       "      <td>-0.319867</td>\n",
       "      <td>0.489508</td>\n",
       "    </tr>\n",
       "    <tr>\n",
       "      <th>2013-01-05</th>\n",
       "      <td>0.304497</td>\n",
       "      <td>-1.900502</td>\n",
       "      <td>-0.405913</td>\n",
       "      <td>-0.317476</td>\n",
       "    </tr>\n",
       "  </tbody>\n",
       "</table>\n",
       "</div>"
      ],
      "text/plain": [
       "                   A         B         C         D\n",
       "2013-01-01  1.119708  0.483102 -0.180153  0.101865\n",
       "2013-01-02 -1.376163 -0.652957 -0.970354 -0.780968\n",
       "2013-01-03  0.680812  2.514244  0.458267  0.959558\n",
       "2013-01-04  0.713789 -0.831499 -0.319867  0.489508\n",
       "2013-01-05  0.304497 -1.900502 -0.405913 -0.317476"
      ]
     },
     "execution_count": 23,
     "metadata": {},
     "output_type": "execute_result"
    }
   ],
   "source": [
    "df.head()"
   ]
  },
  {
   "cell_type": "code",
   "execution_count": 28,
   "metadata": {
    "collapsed": true
   },
   "outputs": [
    {
     "data": {
      "text/html": [
       "<div>\n",
       "<table border=\"1\" class=\"dataframe\">\n",
       "  <thead>\n",
       "    <tr style=\"text-align: right;\">\n",
       "      <th></th>\n",
       "      <th>A</th>\n",
       "      <th>B</th>\n",
       "      <th>C</th>\n",
       "      <th>D</th>\n",
       "    </tr>\n",
       "  </thead>\n",
       "  <tbody>\n",
       "    <tr>\n",
       "      <th>2013-01-04</th>\n",
       "      <td>0.713789</td>\n",
       "      <td>-0.831499</td>\n",
       "      <td>-0.319867</td>\n",
       "      <td>0.489508</td>\n",
       "    </tr>\n",
       "    <tr>\n",
       "      <th>2013-01-05</th>\n",
       "      <td>0.304497</td>\n",
       "      <td>-1.900502</td>\n",
       "      <td>-0.405913</td>\n",
       "      <td>-0.317476</td>\n",
       "    </tr>\n",
       "    <tr>\n",
       "      <th>2013-01-06</th>\n",
       "      <td>0.101727</td>\n",
       "      <td>-2.034357</td>\n",
       "      <td>-1.000661</td>\n",
       "      <td>1.020726</td>\n",
       "    </tr>\n",
       "  </tbody>\n",
       "</table>\n",
       "</div>"
      ],
      "text/plain": [
       "                   A         B         C         D\n",
       "2013-01-04  0.713789 -0.831499 -0.319867  0.489508\n",
       "2013-01-05  0.304497 -1.900502 -0.405913 -0.317476\n",
       "2013-01-06  0.101727 -2.034357 -1.000661  1.020726"
      ]
     },
     "execution_count": 28,
     "metadata": {},
     "output_type": "execute_result"
    }
   ],
   "source": [
    "df.tail(3)"
   ]
  },
  {
   "cell_type": "markdown",
   "metadata": {},
   "source": [
    "#### 1.1.2.2 인덱스, 컬럼, 값 조회"
   ]
  },
  {
   "cell_type": "code",
   "execution_count": 30,
   "metadata": {
    "collapsed": true
   },
   "outputs": [
    {
     "data": {
      "text/plain": [
       "DatetimeIndex(['2013-01-01', '2013-01-02', '2013-01-03', '2013-01-04',\n",
       "               '2013-01-05', '2013-01-06'],\n",
       "              dtype='datetime64[ns]', freq='D')"
      ]
     },
     "execution_count": 30,
     "metadata": {},
     "output_type": "execute_result"
    }
   ],
   "source": [
    "df.index"
   ]
  },
  {
   "cell_type": "code",
   "execution_count": 31,
   "metadata": {
    "collapsed": true
   },
   "outputs": [
    {
     "data": {
      "text/plain": [
       "Index(['A', 'B', 'C', 'D'], dtype='object')"
      ]
     },
     "execution_count": 31,
     "metadata": {},
     "output_type": "execute_result"
    }
   ],
   "source": [
    "df.columns"
   ]
  },
  {
   "cell_type": "code",
   "execution_count": 32,
   "metadata": {
    "collapsed": true
   },
   "outputs": [
    {
     "data": {
      "text/plain": [
       "array([[ 1.11970756,  0.48310213, -0.18015284,  0.10186534],\n",
       "       [-1.37616261, -0.65295705, -0.9703541 , -0.78096833],\n",
       "       [ 0.68081228,  2.5142443 ,  0.45826721,  0.95955849],\n",
       "       [ 0.71378907, -0.83149881, -0.31986691,  0.48950839],\n",
       "       [ 0.30449663, -1.90050208, -0.40591298, -0.31747643],\n",
       "       [ 0.10172693, -2.03435697, -1.00066125,  1.02072628]])"
      ]
     },
     "execution_count": 32,
     "metadata": {},
     "output_type": "execute_result"
    }
   ],
   "source": [
    "df.values"
   ]
  },
  {
   "cell_type": "markdown",
   "metadata": {},
   "source": [
    "#### 1.1.2.3 통계 데이터, 변환, 정렬"
   ]
  },
  {
   "cell_type": "code",
   "execution_count": 33,
   "metadata": {
    "collapsed": true
   },
   "outputs": [
    {
     "data": {
      "text/html": [
       "<div>\n",
       "<table border=\"1\" class=\"dataframe\">\n",
       "  <thead>\n",
       "    <tr style=\"text-align: right;\">\n",
       "      <th></th>\n",
       "      <th>A</th>\n",
       "      <th>B</th>\n",
       "      <th>C</th>\n",
       "      <th>D</th>\n",
       "    </tr>\n",
       "  </thead>\n",
       "  <tbody>\n",
       "    <tr>\n",
       "      <th>count</th>\n",
       "      <td>6.000000</td>\n",
       "      <td>6.000000</td>\n",
       "      <td>6.000000</td>\n",
       "      <td>6.000000</td>\n",
       "    </tr>\n",
       "    <tr>\n",
       "      <th>mean</th>\n",
       "      <td>0.257395</td>\n",
       "      <td>-0.403661</td>\n",
       "      <td>-0.403113</td>\n",
       "      <td>0.245536</td>\n",
       "    </tr>\n",
       "    <tr>\n",
       "      <th>std</th>\n",
       "      <td>0.874771</td>\n",
       "      <td>1.699730</td>\n",
       "      <td>0.543590</td>\n",
       "      <td>0.715766</td>\n",
       "    </tr>\n",
       "    <tr>\n",
       "      <th>min</th>\n",
       "      <td>-1.376163</td>\n",
       "      <td>-2.034357</td>\n",
       "      <td>-1.000661</td>\n",
       "      <td>-0.780968</td>\n",
       "    </tr>\n",
       "    <tr>\n",
       "      <th>25%</th>\n",
       "      <td>0.152419</td>\n",
       "      <td>-1.633251</td>\n",
       "      <td>-0.829244</td>\n",
       "      <td>-0.212641</td>\n",
       "    </tr>\n",
       "    <tr>\n",
       "      <th>50%</th>\n",
       "      <td>0.492654</td>\n",
       "      <td>-0.742228</td>\n",
       "      <td>-0.362890</td>\n",
       "      <td>0.295687</td>\n",
       "    </tr>\n",
       "    <tr>\n",
       "      <th>75%</th>\n",
       "      <td>0.705545</td>\n",
       "      <td>0.199087</td>\n",
       "      <td>-0.215081</td>\n",
       "      <td>0.842046</td>\n",
       "    </tr>\n",
       "    <tr>\n",
       "      <th>max</th>\n",
       "      <td>1.119708</td>\n",
       "      <td>2.514244</td>\n",
       "      <td>0.458267</td>\n",
       "      <td>1.020726</td>\n",
       "    </tr>\n",
       "  </tbody>\n",
       "</table>\n",
       "</div>"
      ],
      "text/plain": [
       "              A         B         C         D\n",
       "count  6.000000  6.000000  6.000000  6.000000\n",
       "mean   0.257395 -0.403661 -0.403113  0.245536\n",
       "std    0.874771  1.699730  0.543590  0.715766\n",
       "min   -1.376163 -2.034357 -1.000661 -0.780968\n",
       "25%    0.152419 -1.633251 -0.829244 -0.212641\n",
       "50%    0.492654 -0.742228 -0.362890  0.295687\n",
       "75%    0.705545  0.199087 -0.215081  0.842046\n",
       "max    1.119708  2.514244  0.458267  1.020726"
      ]
     },
     "execution_count": 33,
     "metadata": {},
     "output_type": "execute_result"
    }
   ],
   "source": [
    "df.describe()"
   ]
  },
  {
   "cell_type": "code",
   "execution_count": 34,
   "metadata": {
    "collapsed": true
   },
   "outputs": [
    {
     "data": {
      "text/html": [
       "<div>\n",
       "<table border=\"1\" class=\"dataframe\">\n",
       "  <thead>\n",
       "    <tr style=\"text-align: right;\">\n",
       "      <th></th>\n",
       "      <th>2013-01-01 00:00:00</th>\n",
       "      <th>2013-01-02 00:00:00</th>\n",
       "      <th>2013-01-03 00:00:00</th>\n",
       "      <th>2013-01-04 00:00:00</th>\n",
       "      <th>2013-01-05 00:00:00</th>\n",
       "      <th>2013-01-06 00:00:00</th>\n",
       "    </tr>\n",
       "  </thead>\n",
       "  <tbody>\n",
       "    <tr>\n",
       "      <th>A</th>\n",
       "      <td>1.119708</td>\n",
       "      <td>-1.376163</td>\n",
       "      <td>0.680812</td>\n",
       "      <td>0.713789</td>\n",
       "      <td>0.304497</td>\n",
       "      <td>0.101727</td>\n",
       "    </tr>\n",
       "    <tr>\n",
       "      <th>B</th>\n",
       "      <td>0.483102</td>\n",
       "      <td>-0.652957</td>\n",
       "      <td>2.514244</td>\n",
       "      <td>-0.831499</td>\n",
       "      <td>-1.900502</td>\n",
       "      <td>-2.034357</td>\n",
       "    </tr>\n",
       "    <tr>\n",
       "      <th>C</th>\n",
       "      <td>-0.180153</td>\n",
       "      <td>-0.970354</td>\n",
       "      <td>0.458267</td>\n",
       "      <td>-0.319867</td>\n",
       "      <td>-0.405913</td>\n",
       "      <td>-1.000661</td>\n",
       "    </tr>\n",
       "    <tr>\n",
       "      <th>D</th>\n",
       "      <td>0.101865</td>\n",
       "      <td>-0.780968</td>\n",
       "      <td>0.959558</td>\n",
       "      <td>0.489508</td>\n",
       "      <td>-0.317476</td>\n",
       "      <td>1.020726</td>\n",
       "    </tr>\n",
       "  </tbody>\n",
       "</table>\n",
       "</div>"
      ],
      "text/plain": [
       "   2013-01-01  2013-01-02  2013-01-03  2013-01-04  2013-01-05  2013-01-06\n",
       "A    1.119708   -1.376163    0.680812    0.713789    0.304497    0.101727\n",
       "B    0.483102   -0.652957    2.514244   -0.831499   -1.900502   -2.034357\n",
       "C   -0.180153   -0.970354    0.458267   -0.319867   -0.405913   -1.000661\n",
       "D    0.101865   -0.780968    0.959558    0.489508   -0.317476    1.020726"
      ]
     },
     "execution_count": 34,
     "metadata": {},
     "output_type": "execute_result"
    }
   ],
   "source": [
    "df.T"
   ]
  },
  {
   "cell_type": "code",
   "execution_count": 43,
   "metadata": {
    "collapsed": true
   },
   "outputs": [
    {
     "data": {
      "text/html": [
       "<div>\n",
       "<table border=\"1\" class=\"dataframe\">\n",
       "  <thead>\n",
       "    <tr style=\"text-align: right;\">\n",
       "      <th></th>\n",
       "      <th>D</th>\n",
       "      <th>C</th>\n",
       "      <th>B</th>\n",
       "      <th>A</th>\n",
       "    </tr>\n",
       "  </thead>\n",
       "  <tbody>\n",
       "    <tr>\n",
       "      <th>2013-01-01</th>\n",
       "      <td>0.101865</td>\n",
       "      <td>-0.180153</td>\n",
       "      <td>0.483102</td>\n",
       "      <td>1.119708</td>\n",
       "    </tr>\n",
       "    <tr>\n",
       "      <th>2013-01-02</th>\n",
       "      <td>-0.780968</td>\n",
       "      <td>-0.970354</td>\n",
       "      <td>-0.652957</td>\n",
       "      <td>-1.376163</td>\n",
       "    </tr>\n",
       "    <tr>\n",
       "      <th>2013-01-03</th>\n",
       "      <td>0.959558</td>\n",
       "      <td>0.458267</td>\n",
       "      <td>2.514244</td>\n",
       "      <td>0.680812</td>\n",
       "    </tr>\n",
       "    <tr>\n",
       "      <th>2013-01-04</th>\n",
       "      <td>0.489508</td>\n",
       "      <td>-0.319867</td>\n",
       "      <td>-0.831499</td>\n",
       "      <td>0.713789</td>\n",
       "    </tr>\n",
       "    <tr>\n",
       "      <th>2013-01-05</th>\n",
       "      <td>-0.317476</td>\n",
       "      <td>-0.405913</td>\n",
       "      <td>-1.900502</td>\n",
       "      <td>0.304497</td>\n",
       "    </tr>\n",
       "    <tr>\n",
       "      <th>2013-01-06</th>\n",
       "      <td>1.020726</td>\n",
       "      <td>-1.000661</td>\n",
       "      <td>-2.034357</td>\n",
       "      <td>0.101727</td>\n",
       "    </tr>\n",
       "  </tbody>\n",
       "</table>\n",
       "</div>"
      ],
      "text/plain": [
       "                   D         C         B         A\n",
       "2013-01-01  0.101865 -0.180153  0.483102  1.119708\n",
       "2013-01-02 -0.780968 -0.970354 -0.652957 -1.376163\n",
       "2013-01-03  0.959558  0.458267  2.514244  0.680812\n",
       "2013-01-04  0.489508 -0.319867 -0.831499  0.713789\n",
       "2013-01-05 -0.317476 -0.405913 -1.900502  0.304497\n",
       "2013-01-06  1.020726 -1.000661 -2.034357  0.101727"
      ]
     },
     "execution_count": 43,
     "metadata": {},
     "output_type": "execute_result"
    }
   ],
   "source": [
    "df.sort_index(axis=1, ascending=False)"
   ]
  },
  {
   "cell_type": "code",
   "execution_count": 47,
   "metadata": {
    "collapsed": true
   },
   "outputs": [
    {
     "data": {
      "text/html": [
       "<div>\n",
       "<table border=\"1\" class=\"dataframe\">\n",
       "  <thead>\n",
       "    <tr style=\"text-align: right;\">\n",
       "      <th></th>\n",
       "      <th>A</th>\n",
       "      <th>B</th>\n",
       "      <th>C</th>\n",
       "      <th>D</th>\n",
       "    </tr>\n",
       "  </thead>\n",
       "  <tbody>\n",
       "    <tr>\n",
       "      <th>2013-01-06</th>\n",
       "      <td>0.101727</td>\n",
       "      <td>-2.034357</td>\n",
       "      <td>-1.000661</td>\n",
       "      <td>1.020726</td>\n",
       "    </tr>\n",
       "    <tr>\n",
       "      <th>2013-01-05</th>\n",
       "      <td>0.304497</td>\n",
       "      <td>-1.900502</td>\n",
       "      <td>-0.405913</td>\n",
       "      <td>-0.317476</td>\n",
       "    </tr>\n",
       "    <tr>\n",
       "      <th>2013-01-04</th>\n",
       "      <td>0.713789</td>\n",
       "      <td>-0.831499</td>\n",
       "      <td>-0.319867</td>\n",
       "      <td>0.489508</td>\n",
       "    </tr>\n",
       "    <tr>\n",
       "      <th>2013-01-02</th>\n",
       "      <td>-1.376163</td>\n",
       "      <td>-0.652957</td>\n",
       "      <td>-0.970354</td>\n",
       "      <td>-0.780968</td>\n",
       "    </tr>\n",
       "    <tr>\n",
       "      <th>2013-01-01</th>\n",
       "      <td>1.119708</td>\n",
       "      <td>0.483102</td>\n",
       "      <td>-0.180153</td>\n",
       "      <td>0.101865</td>\n",
       "    </tr>\n",
       "    <tr>\n",
       "      <th>2013-01-03</th>\n",
       "      <td>0.680812</td>\n",
       "      <td>2.514244</td>\n",
       "      <td>0.458267</td>\n",
       "      <td>0.959558</td>\n",
       "    </tr>\n",
       "  </tbody>\n",
       "</table>\n",
       "</div>"
      ],
      "text/plain": [
       "                   A         B         C         D\n",
       "2013-01-06  0.101727 -2.034357 -1.000661  1.020726\n",
       "2013-01-05  0.304497 -1.900502 -0.405913 -0.317476\n",
       "2013-01-04  0.713789 -0.831499 -0.319867  0.489508\n",
       "2013-01-02 -1.376163 -0.652957 -0.970354 -0.780968\n",
       "2013-01-01  1.119708  0.483102 -0.180153  0.101865\n",
       "2013-01-03  0.680812  2.514244  0.458267  0.959558"
      ]
     },
     "execution_count": 47,
     "metadata": {},
     "output_type": "execute_result"
    }
   ],
   "source": [
    "df.sort_values(by='B')"
   ]
  },
  {
   "cell_type": "markdown",
   "metadata": {},
   "source": [
    "### 1.1.3 선택\n",
    "#### 1.1.3.1 List 표현"
   ]
  },
  {
   "cell_type": "code",
   "execution_count": 48,
   "metadata": {
    "collapsed": true
   },
   "outputs": [
    {
     "data": {
      "text/plain": [
       "2013-01-01    1.119708\n",
       "2013-01-02   -1.376163\n",
       "2013-01-03    0.680812\n",
       "2013-01-04    0.713789\n",
       "2013-01-05    0.304497\n",
       "2013-01-06    0.101727\n",
       "Freq: D, Name: A, dtype: float64"
      ]
     },
     "execution_count": 48,
     "metadata": {},
     "output_type": "execute_result"
    }
   ],
   "source": [
    "df['A']"
   ]
  },
  {
   "cell_type": "code",
   "execution_count": 49,
   "metadata": {
    "collapsed": true
   },
   "outputs": [
    {
     "data": {
      "text/html": [
       "<div>\n",
       "<table border=\"1\" class=\"dataframe\">\n",
       "  <thead>\n",
       "    <tr style=\"text-align: right;\">\n",
       "      <th></th>\n",
       "      <th>A</th>\n",
       "      <th>B</th>\n",
       "      <th>C</th>\n",
       "      <th>D</th>\n",
       "    </tr>\n",
       "  </thead>\n",
       "  <tbody>\n",
       "    <tr>\n",
       "      <th>2013-01-01</th>\n",
       "      <td>1.119708</td>\n",
       "      <td>0.483102</td>\n",
       "      <td>-0.180153</td>\n",
       "      <td>0.101865</td>\n",
       "    </tr>\n",
       "    <tr>\n",
       "      <th>2013-01-02</th>\n",
       "      <td>-1.376163</td>\n",
       "      <td>-0.652957</td>\n",
       "      <td>-0.970354</td>\n",
       "      <td>-0.780968</td>\n",
       "    </tr>\n",
       "    <tr>\n",
       "      <th>2013-01-03</th>\n",
       "      <td>0.680812</td>\n",
       "      <td>2.514244</td>\n",
       "      <td>0.458267</td>\n",
       "      <td>0.959558</td>\n",
       "    </tr>\n",
       "  </tbody>\n",
       "</table>\n",
       "</div>"
      ],
      "text/plain": [
       "                   A         B         C         D\n",
       "2013-01-01  1.119708  0.483102 -0.180153  0.101865\n",
       "2013-01-02 -1.376163 -0.652957 -0.970354 -0.780968\n",
       "2013-01-03  0.680812  2.514244  0.458267  0.959558"
      ]
     },
     "execution_count": 49,
     "metadata": {},
     "output_type": "execute_result"
    }
   ],
   "source": [
    "df[0:3]"
   ]
  },
  {
   "cell_type": "code",
   "execution_count": 51,
   "metadata": {
    "collapsed": true
   },
   "outputs": [
    {
     "data": {
      "text/html": [
       "<div>\n",
       "<table border=\"1\" class=\"dataframe\">\n",
       "  <thead>\n",
       "    <tr style=\"text-align: right;\">\n",
       "      <th></th>\n",
       "      <th>A</th>\n",
       "      <th>B</th>\n",
       "      <th>C</th>\n",
       "      <th>D</th>\n",
       "    </tr>\n",
       "  </thead>\n",
       "  <tbody>\n",
       "    <tr>\n",
       "      <th>2013-01-02</th>\n",
       "      <td>-1.376163</td>\n",
       "      <td>-0.652957</td>\n",
       "      <td>-0.970354</td>\n",
       "      <td>-0.780968</td>\n",
       "    </tr>\n",
       "    <tr>\n",
       "      <th>2013-01-03</th>\n",
       "      <td>0.680812</td>\n",
       "      <td>2.514244</td>\n",
       "      <td>0.458267</td>\n",
       "      <td>0.959558</td>\n",
       "    </tr>\n",
       "  </tbody>\n",
       "</table>\n",
       "</div>"
      ],
      "text/plain": [
       "                   A         B         C         D\n",
       "2013-01-02 -1.376163 -0.652957 -0.970354 -0.780968\n",
       "2013-01-03  0.680812  2.514244  0.458267  0.959558"
      ]
     },
     "execution_count": 51,
     "metadata": {},
     "output_type": "execute_result"
    }
   ],
   "source": [
    "df['2013-01-02':'2013-01-03']"
   ]
  },
  {
   "cell_type": "markdown",
   "metadata": {},
   "source": [
    "#### 1.1.3.2 Label 을 이용한 표현"
   ]
  },
  {
   "cell_type": "code",
   "execution_count": 52,
   "metadata": {
    "collapsed": false
   },
   "outputs": [
    {
     "data": {
      "text/plain": [
       "A    1.119708\n",
       "B    0.483102\n",
       "C   -0.180153\n",
       "D    0.101865\n",
       "Name: 2013-01-01 00:00:00, dtype: float64"
      ]
     },
     "execution_count": 52,
     "metadata": {},
     "output_type": "execute_result"
    }
   ],
   "source": [
    "df.loc[dates[0]]"
   ]
  },
  {
   "cell_type": "code",
   "execution_count": 54,
   "metadata": {
    "collapsed": false
   },
   "outputs": [
    {
     "data": {
      "text/plain": [
       "A   -1.376163\n",
       "B   -0.652957\n",
       "C   -0.970354\n",
       "D   -0.780968\n",
       "Name: 2013-01-02 00:00:00, dtype: float64"
      ]
     },
     "execution_count": 54,
     "metadata": {},
     "output_type": "execute_result"
    }
   ],
   "source": [
    "df.loc['2013-01-02']"
   ]
  },
  {
   "cell_type": "code",
   "execution_count": 58,
   "metadata": {
    "collapsed": false
   },
   "outputs": [
    {
     "data": {
      "text/html": [
       "<div>\n",
       "<table border=\"1\" class=\"dataframe\">\n",
       "  <thead>\n",
       "    <tr style=\"text-align: right;\">\n",
       "      <th></th>\n",
       "      <th>A</th>\n",
       "      <th>B</th>\n",
       "    </tr>\n",
       "  </thead>\n",
       "  <tbody>\n",
       "    <tr>\n",
       "      <th>2013-01-01</th>\n",
       "      <td>1.119708</td>\n",
       "      <td>0.483102</td>\n",
       "    </tr>\n",
       "    <tr>\n",
       "      <th>2013-01-02</th>\n",
       "      <td>-1.376163</td>\n",
       "      <td>-0.652957</td>\n",
       "    </tr>\n",
       "    <tr>\n",
       "      <th>2013-01-03</th>\n",
       "      <td>0.680812</td>\n",
       "      <td>2.514244</td>\n",
       "    </tr>\n",
       "    <tr>\n",
       "      <th>2013-01-04</th>\n",
       "      <td>0.713789</td>\n",
       "      <td>-0.831499</td>\n",
       "    </tr>\n",
       "    <tr>\n",
       "      <th>2013-01-05</th>\n",
       "      <td>0.304497</td>\n",
       "      <td>-1.900502</td>\n",
       "    </tr>\n",
       "    <tr>\n",
       "      <th>2013-01-06</th>\n",
       "      <td>0.101727</td>\n",
       "      <td>-2.034357</td>\n",
       "    </tr>\n",
       "  </tbody>\n",
       "</table>\n",
       "</div>"
      ],
      "text/plain": [
       "                   A         B\n",
       "2013-01-01  1.119708  0.483102\n",
       "2013-01-02 -1.376163 -0.652957\n",
       "2013-01-03  0.680812  2.514244\n",
       "2013-01-04  0.713789 -0.831499\n",
       "2013-01-05  0.304497 -1.900502\n",
       "2013-01-06  0.101727 -2.034357"
      ]
     },
     "execution_count": 58,
     "metadata": {},
     "output_type": "execute_result"
    }
   ],
   "source": [
    "df.loc[:,['A', 'B']]"
   ]
  },
  {
   "cell_type": "code",
   "execution_count": 59,
   "metadata": {
    "collapsed": false
   },
   "outputs": [
    {
     "data": {
      "text/html": [
       "<div>\n",
       "<table border=\"1\" class=\"dataframe\">\n",
       "  <thead>\n",
       "    <tr style=\"text-align: right;\">\n",
       "      <th></th>\n",
       "      <th>A</th>\n",
       "      <th>B</th>\n",
       "    </tr>\n",
       "  </thead>\n",
       "  <tbody>\n",
       "    <tr>\n",
       "      <th>2013-01-02</th>\n",
       "      <td>-1.376163</td>\n",
       "      <td>-0.652957</td>\n",
       "    </tr>\n",
       "    <tr>\n",
       "      <th>2013-01-03</th>\n",
       "      <td>0.680812</td>\n",
       "      <td>2.514244</td>\n",
       "    </tr>\n",
       "    <tr>\n",
       "      <th>2013-01-04</th>\n",
       "      <td>0.713789</td>\n",
       "      <td>-0.831499</td>\n",
       "    </tr>\n",
       "  </tbody>\n",
       "</table>\n",
       "</div>"
      ],
      "text/plain": [
       "                   A         B\n",
       "2013-01-02 -1.376163 -0.652957\n",
       "2013-01-03  0.680812  2.514244\n",
       "2013-01-04  0.713789 -0.831499"
      ]
     },
     "execution_count": 59,
     "metadata": {},
     "output_type": "execute_result"
    }
   ],
   "source": [
    "df.loc['20130102':'20130104',['A','B']]"
   ]
  },
  {
   "cell_type": "code",
   "execution_count": 62,
   "metadata": {
    "collapsed": false,
    "scrolled": false
   },
   "outputs": [
    {
     "data": {
      "text/plain": [
       "A   -1.376163\n",
       "B   -0.652957\n",
       "Name: 2013-01-02 00:00:00, dtype: float64"
      ]
     },
     "execution_count": 62,
     "metadata": {},
     "output_type": "execute_result"
    }
   ],
   "source": [
    "df.loc['20130102',['A','B']]"
   ]
  },
  {
   "cell_type": "code",
   "execution_count": 63,
   "metadata": {
    "collapsed": false,
    "scrolled": true
   },
   "outputs": [
    {
     "data": {
      "text/plain": [
       "1.119707557327283"
      ]
     },
     "execution_count": 63,
     "metadata": {},
     "output_type": "execute_result"
    }
   ],
   "source": [
    "df.loc[dates[0],'A']"
   ]
  },
  {
   "cell_type": "markdown",
   "metadata": {},
   "source": [
    "아래가 좀더 빠르다"
   ]
  },
  {
   "cell_type": "code",
   "execution_count": 64,
   "metadata": {
    "collapsed": false
   },
   "outputs": [
    {
     "data": {
      "text/plain": [
       "1.119707557327283"
      ]
     },
     "execution_count": 64,
     "metadata": {},
     "output_type": "execute_result"
    }
   ],
   "source": [
    "df.at[dates[0],'A']"
   ]
  },
  {
   "cell_type": "markdown",
   "metadata": {},
   "source": [
    "#### 1.1.3.3 위치를 이용한 표현"
   ]
  },
  {
   "cell_type": "code",
   "execution_count": 65,
   "metadata": {
    "collapsed": false
   },
   "outputs": [
    {
     "data": {
      "text/plain": [
       "A    0.713789\n",
       "B   -0.831499\n",
       "C   -0.319867\n",
       "D    0.489508\n",
       "Name: 2013-01-04 00:00:00, dtype: float64"
      ]
     },
     "execution_count": 65,
     "metadata": {},
     "output_type": "execute_result"
    }
   ],
   "source": [
    "df.iloc[3]"
   ]
  },
  {
   "cell_type": "code",
   "execution_count": 66,
   "metadata": {
    "collapsed": false
   },
   "outputs": [
    {
     "data": {
      "text/html": [
       "<div>\n",
       "<table border=\"1\" class=\"dataframe\">\n",
       "  <thead>\n",
       "    <tr style=\"text-align: right;\">\n",
       "      <th></th>\n",
       "      <th>A</th>\n",
       "      <th>B</th>\n",
       "    </tr>\n",
       "  </thead>\n",
       "  <tbody>\n",
       "    <tr>\n",
       "      <th>2013-01-04</th>\n",
       "      <td>0.713789</td>\n",
       "      <td>-0.831499</td>\n",
       "    </tr>\n",
       "    <tr>\n",
       "      <th>2013-01-05</th>\n",
       "      <td>0.304497</td>\n",
       "      <td>-1.900502</td>\n",
       "    </tr>\n",
       "  </tbody>\n",
       "</table>\n",
       "</div>"
      ],
      "text/plain": [
       "                   A         B\n",
       "2013-01-04  0.713789 -0.831499\n",
       "2013-01-05  0.304497 -1.900502"
      ]
     },
     "execution_count": 66,
     "metadata": {},
     "output_type": "execute_result"
    }
   ],
   "source": [
    "df.iloc[3:5,0:2]"
   ]
  },
  {
   "cell_type": "code",
   "execution_count": 67,
   "metadata": {
    "collapsed": false
   },
   "outputs": [
    {
     "data": {
      "text/html": [
       "<div>\n",
       "<table border=\"1\" class=\"dataframe\">\n",
       "  <thead>\n",
       "    <tr style=\"text-align: right;\">\n",
       "      <th></th>\n",
       "      <th>A</th>\n",
       "      <th>C</th>\n",
       "    </tr>\n",
       "  </thead>\n",
       "  <tbody>\n",
       "    <tr>\n",
       "      <th>2013-01-02</th>\n",
       "      <td>-1.376163</td>\n",
       "      <td>-0.970354</td>\n",
       "    </tr>\n",
       "    <tr>\n",
       "      <th>2013-01-03</th>\n",
       "      <td>0.680812</td>\n",
       "      <td>0.458267</td>\n",
       "    </tr>\n",
       "    <tr>\n",
       "      <th>2013-01-05</th>\n",
       "      <td>0.304497</td>\n",
       "      <td>-0.405913</td>\n",
       "    </tr>\n",
       "  </tbody>\n",
       "</table>\n",
       "</div>"
      ],
      "text/plain": [
       "                   A         C\n",
       "2013-01-02 -1.376163 -0.970354\n",
       "2013-01-03  0.680812  0.458267\n",
       "2013-01-05  0.304497 -0.405913"
      ]
     },
     "execution_count": 67,
     "metadata": {},
     "output_type": "execute_result"
    }
   ],
   "source": [
    "df.iloc[[1,2,4],[0,2]]"
   ]
  },
  {
   "cell_type": "code",
   "execution_count": 68,
   "metadata": {
    "collapsed": false
   },
   "outputs": [
    {
     "data": {
      "text/html": [
       "<div>\n",
       "<table border=\"1\" class=\"dataframe\">\n",
       "  <thead>\n",
       "    <tr style=\"text-align: right;\">\n",
       "      <th></th>\n",
       "      <th>A</th>\n",
       "      <th>B</th>\n",
       "      <th>C</th>\n",
       "      <th>D</th>\n",
       "    </tr>\n",
       "  </thead>\n",
       "  <tbody>\n",
       "    <tr>\n",
       "      <th>2013-01-02</th>\n",
       "      <td>-1.376163</td>\n",
       "      <td>-0.652957</td>\n",
       "      <td>-0.970354</td>\n",
       "      <td>-0.780968</td>\n",
       "    </tr>\n",
       "    <tr>\n",
       "      <th>2013-01-03</th>\n",
       "      <td>0.680812</td>\n",
       "      <td>2.514244</td>\n",
       "      <td>0.458267</td>\n",
       "      <td>0.959558</td>\n",
       "    </tr>\n",
       "  </tbody>\n",
       "</table>\n",
       "</div>"
      ],
      "text/plain": [
       "                   A         B         C         D\n",
       "2013-01-02 -1.376163 -0.652957 -0.970354 -0.780968\n",
       "2013-01-03  0.680812  2.514244  0.458267  0.959558"
      ]
     },
     "execution_count": 68,
     "metadata": {},
     "output_type": "execute_result"
    }
   ],
   "source": [
    "df.iloc[1:3,:]"
   ]
  },
  {
   "cell_type": "code",
   "execution_count": 69,
   "metadata": {
    "collapsed": false
   },
   "outputs": [
    {
     "data": {
      "text/html": [
       "<div>\n",
       "<table border=\"1\" class=\"dataframe\">\n",
       "  <thead>\n",
       "    <tr style=\"text-align: right;\">\n",
       "      <th></th>\n",
       "      <th>B</th>\n",
       "      <th>C</th>\n",
       "    </tr>\n",
       "  </thead>\n",
       "  <tbody>\n",
       "    <tr>\n",
       "      <th>2013-01-01</th>\n",
       "      <td>0.483102</td>\n",
       "      <td>-0.180153</td>\n",
       "    </tr>\n",
       "    <tr>\n",
       "      <th>2013-01-02</th>\n",
       "      <td>-0.652957</td>\n",
       "      <td>-0.970354</td>\n",
       "    </tr>\n",
       "    <tr>\n",
       "      <th>2013-01-03</th>\n",
       "      <td>2.514244</td>\n",
       "      <td>0.458267</td>\n",
       "    </tr>\n",
       "    <tr>\n",
       "      <th>2013-01-04</th>\n",
       "      <td>-0.831499</td>\n",
       "      <td>-0.319867</td>\n",
       "    </tr>\n",
       "    <tr>\n",
       "      <th>2013-01-05</th>\n",
       "      <td>-1.900502</td>\n",
       "      <td>-0.405913</td>\n",
       "    </tr>\n",
       "    <tr>\n",
       "      <th>2013-01-06</th>\n",
       "      <td>-2.034357</td>\n",
       "      <td>-1.000661</td>\n",
       "    </tr>\n",
       "  </tbody>\n",
       "</table>\n",
       "</div>"
      ],
      "text/plain": [
       "                   B         C\n",
       "2013-01-01  0.483102 -0.180153\n",
       "2013-01-02 -0.652957 -0.970354\n",
       "2013-01-03  2.514244  0.458267\n",
       "2013-01-04 -0.831499 -0.319867\n",
       "2013-01-05 -1.900502 -0.405913\n",
       "2013-01-06 -2.034357 -1.000661"
      ]
     },
     "execution_count": 69,
     "metadata": {},
     "output_type": "execute_result"
    }
   ],
   "source": [
    " df.iloc[:,1:3]"
   ]
  },
  {
   "cell_type": "code",
   "execution_count": 70,
   "metadata": {
    "collapsed": false
   },
   "outputs": [
    {
     "data": {
      "text/plain": [
       "-0.65295704945799671"
      ]
     },
     "execution_count": 70,
     "metadata": {},
     "output_type": "execute_result"
    }
   ],
   "source": [
    "df.iloc[1,1]"
   ]
  },
  {
   "cell_type": "markdown",
   "metadata": {},
   "source": [
    "아래가 더 빠르다"
   ]
  },
  {
   "cell_type": "code",
   "execution_count": 73,
   "metadata": {
    "collapsed": false
   },
   "outputs": [
    {
     "data": {
      "text/plain": [
       "-0.65295704945799671"
      ]
     },
     "execution_count": 73,
     "metadata": {},
     "output_type": "execute_result"
    }
   ],
   "source": [
    "df.iat[1,1]"
   ]
  },
  {
   "cell_type": "markdown",
   "metadata": {},
   "source": [
    "#### 1.1.3.4 조건식을 이용"
   ]
  },
  {
   "cell_type": "code",
   "execution_count": 74,
   "metadata": {
    "collapsed": false
   },
   "outputs": [
    {
     "data": {
      "text/html": [
       "<div>\n",
       "<table border=\"1\" class=\"dataframe\">\n",
       "  <thead>\n",
       "    <tr style=\"text-align: right;\">\n",
       "      <th></th>\n",
       "      <th>A</th>\n",
       "      <th>B</th>\n",
       "      <th>C</th>\n",
       "      <th>D</th>\n",
       "    </tr>\n",
       "  </thead>\n",
       "  <tbody>\n",
       "    <tr>\n",
       "      <th>2013-01-01</th>\n",
       "      <td>1.119708</td>\n",
       "      <td>0.483102</td>\n",
       "      <td>-0.180153</td>\n",
       "      <td>0.101865</td>\n",
       "    </tr>\n",
       "    <tr>\n",
       "      <th>2013-01-03</th>\n",
       "      <td>0.680812</td>\n",
       "      <td>2.514244</td>\n",
       "      <td>0.458267</td>\n",
       "      <td>0.959558</td>\n",
       "    </tr>\n",
       "    <tr>\n",
       "      <th>2013-01-04</th>\n",
       "      <td>0.713789</td>\n",
       "      <td>-0.831499</td>\n",
       "      <td>-0.319867</td>\n",
       "      <td>0.489508</td>\n",
       "    </tr>\n",
       "    <tr>\n",
       "      <th>2013-01-05</th>\n",
       "      <td>0.304497</td>\n",
       "      <td>-1.900502</td>\n",
       "      <td>-0.405913</td>\n",
       "      <td>-0.317476</td>\n",
       "    </tr>\n",
       "    <tr>\n",
       "      <th>2013-01-06</th>\n",
       "      <td>0.101727</td>\n",
       "      <td>-2.034357</td>\n",
       "      <td>-1.000661</td>\n",
       "      <td>1.020726</td>\n",
       "    </tr>\n",
       "  </tbody>\n",
       "</table>\n",
       "</div>"
      ],
      "text/plain": [
       "                   A         B         C         D\n",
       "2013-01-01  1.119708  0.483102 -0.180153  0.101865\n",
       "2013-01-03  0.680812  2.514244  0.458267  0.959558\n",
       "2013-01-04  0.713789 -0.831499 -0.319867  0.489508\n",
       "2013-01-05  0.304497 -1.900502 -0.405913 -0.317476\n",
       "2013-01-06  0.101727 -2.034357 -1.000661  1.020726"
      ]
     },
     "execution_count": 74,
     "metadata": {},
     "output_type": "execute_result"
    }
   ],
   "source": [
    "df[df.A>0]"
   ]
  },
  {
   "cell_type": "code",
   "execution_count": 75,
   "metadata": {
    "collapsed": false
   },
   "outputs": [
    {
     "data": {
      "text/html": [
       "<div>\n",
       "<table border=\"1\" class=\"dataframe\">\n",
       "  <thead>\n",
       "    <tr style=\"text-align: right;\">\n",
       "      <th></th>\n",
       "      <th>A</th>\n",
       "      <th>B</th>\n",
       "      <th>C</th>\n",
       "      <th>D</th>\n",
       "    </tr>\n",
       "  </thead>\n",
       "  <tbody>\n",
       "    <tr>\n",
       "      <th>2013-01-01</th>\n",
       "      <td>1.119708</td>\n",
       "      <td>0.483102</td>\n",
       "      <td>NaN</td>\n",
       "      <td>0.101865</td>\n",
       "    </tr>\n",
       "    <tr>\n",
       "      <th>2013-01-02</th>\n",
       "      <td>NaN</td>\n",
       "      <td>NaN</td>\n",
       "      <td>NaN</td>\n",
       "      <td>NaN</td>\n",
       "    </tr>\n",
       "    <tr>\n",
       "      <th>2013-01-03</th>\n",
       "      <td>0.680812</td>\n",
       "      <td>2.514244</td>\n",
       "      <td>0.458267</td>\n",
       "      <td>0.959558</td>\n",
       "    </tr>\n",
       "    <tr>\n",
       "      <th>2013-01-04</th>\n",
       "      <td>0.713789</td>\n",
       "      <td>NaN</td>\n",
       "      <td>NaN</td>\n",
       "      <td>0.489508</td>\n",
       "    </tr>\n",
       "    <tr>\n",
       "      <th>2013-01-05</th>\n",
       "      <td>0.304497</td>\n",
       "      <td>NaN</td>\n",
       "      <td>NaN</td>\n",
       "      <td>NaN</td>\n",
       "    </tr>\n",
       "    <tr>\n",
       "      <th>2013-01-06</th>\n",
       "      <td>0.101727</td>\n",
       "      <td>NaN</td>\n",
       "      <td>NaN</td>\n",
       "      <td>1.020726</td>\n",
       "    </tr>\n",
       "  </tbody>\n",
       "</table>\n",
       "</div>"
      ],
      "text/plain": [
       "                   A         B         C         D\n",
       "2013-01-01  1.119708  0.483102       NaN  0.101865\n",
       "2013-01-02       NaN       NaN       NaN       NaN\n",
       "2013-01-03  0.680812  2.514244  0.458267  0.959558\n",
       "2013-01-04  0.713789       NaN       NaN  0.489508\n",
       "2013-01-05  0.304497       NaN       NaN       NaN\n",
       "2013-01-06  0.101727       NaN       NaN  1.020726"
      ]
     },
     "execution_count": 75,
     "metadata": {},
     "output_type": "execute_result"
    }
   ],
   "source": [
    "df[df>0]"
   ]
  },
  {
   "cell_type": "code",
   "execution_count": 77,
   "metadata": {
    "collapsed": true
   },
   "outputs": [],
   "source": [
    "df2 = df.copy()\n",
    "df2['E'] = ['one', 'one','two','three','four','three']"
   ]
  },
  {
   "cell_type": "code",
   "execution_count": 78,
   "metadata": {
    "collapsed": false
   },
   "outputs": [
    {
     "data": {
      "text/html": [
       "<div>\n",
       "<table border=\"1\" class=\"dataframe\">\n",
       "  <thead>\n",
       "    <tr style=\"text-align: right;\">\n",
       "      <th></th>\n",
       "      <th>A</th>\n",
       "      <th>B</th>\n",
       "      <th>C</th>\n",
       "      <th>D</th>\n",
       "      <th>E</th>\n",
       "    </tr>\n",
       "  </thead>\n",
       "  <tbody>\n",
       "    <tr>\n",
       "      <th>2013-01-01</th>\n",
       "      <td>1.119708</td>\n",
       "      <td>0.483102</td>\n",
       "      <td>-0.180153</td>\n",
       "      <td>0.101865</td>\n",
       "      <td>one</td>\n",
       "    </tr>\n",
       "    <tr>\n",
       "      <th>2013-01-02</th>\n",
       "      <td>-1.376163</td>\n",
       "      <td>-0.652957</td>\n",
       "      <td>-0.970354</td>\n",
       "      <td>-0.780968</td>\n",
       "      <td>one</td>\n",
       "    </tr>\n",
       "    <tr>\n",
       "      <th>2013-01-03</th>\n",
       "      <td>0.680812</td>\n",
       "      <td>2.514244</td>\n",
       "      <td>0.458267</td>\n",
       "      <td>0.959558</td>\n",
       "      <td>two</td>\n",
       "    </tr>\n",
       "    <tr>\n",
       "      <th>2013-01-04</th>\n",
       "      <td>0.713789</td>\n",
       "      <td>-0.831499</td>\n",
       "      <td>-0.319867</td>\n",
       "      <td>0.489508</td>\n",
       "      <td>three</td>\n",
       "    </tr>\n",
       "    <tr>\n",
       "      <th>2013-01-05</th>\n",
       "      <td>0.304497</td>\n",
       "      <td>-1.900502</td>\n",
       "      <td>-0.405913</td>\n",
       "      <td>-0.317476</td>\n",
       "      <td>four</td>\n",
       "    </tr>\n",
       "    <tr>\n",
       "      <th>2013-01-06</th>\n",
       "      <td>0.101727</td>\n",
       "      <td>-2.034357</td>\n",
       "      <td>-1.000661</td>\n",
       "      <td>1.020726</td>\n",
       "      <td>three</td>\n",
       "    </tr>\n",
       "  </tbody>\n",
       "</table>\n",
       "</div>"
      ],
      "text/plain": [
       "                   A         B         C         D      E\n",
       "2013-01-01  1.119708  0.483102 -0.180153  0.101865    one\n",
       "2013-01-02 -1.376163 -0.652957 -0.970354 -0.780968    one\n",
       "2013-01-03  0.680812  2.514244  0.458267  0.959558    two\n",
       "2013-01-04  0.713789 -0.831499 -0.319867  0.489508  three\n",
       "2013-01-05  0.304497 -1.900502 -0.405913 -0.317476   four\n",
       "2013-01-06  0.101727 -2.034357 -1.000661  1.020726  three"
      ]
     },
     "execution_count": 78,
     "metadata": {},
     "output_type": "execute_result"
    }
   ],
   "source": [
    "df2"
   ]
  },
  {
   "cell_type": "code",
   "execution_count": 79,
   "metadata": {
    "collapsed": false
   },
   "outputs": [
    {
     "data": {
      "text/html": [
       "<div>\n",
       "<table border=\"1\" class=\"dataframe\">\n",
       "  <thead>\n",
       "    <tr style=\"text-align: right;\">\n",
       "      <th></th>\n",
       "      <th>A</th>\n",
       "      <th>B</th>\n",
       "      <th>C</th>\n",
       "      <th>D</th>\n",
       "      <th>E</th>\n",
       "    </tr>\n",
       "  </thead>\n",
       "  <tbody>\n",
       "    <tr>\n",
       "      <th>2013-01-03</th>\n",
       "      <td>0.680812</td>\n",
       "      <td>2.514244</td>\n",
       "      <td>0.458267</td>\n",
       "      <td>0.959558</td>\n",
       "      <td>two</td>\n",
       "    </tr>\n",
       "    <tr>\n",
       "      <th>2013-01-05</th>\n",
       "      <td>0.304497</td>\n",
       "      <td>-1.900502</td>\n",
       "      <td>-0.405913</td>\n",
       "      <td>-0.317476</td>\n",
       "      <td>four</td>\n",
       "    </tr>\n",
       "  </tbody>\n",
       "</table>\n",
       "</div>"
      ],
      "text/plain": [
       "                   A         B         C         D     E\n",
       "2013-01-03  0.680812  2.514244  0.458267  0.959558   two\n",
       "2013-01-05  0.304497 -1.900502 -0.405913 -0.317476  four"
      ]
     },
     "execution_count": 79,
     "metadata": {},
     "output_type": "execute_result"
    }
   ],
   "source": [
    "df2[df2['E'].isin(['two','four'])]"
   ]
  },
  {
   "cell_type": "markdown",
   "metadata": {},
   "source": [
    "#### 1.1.3.5 Setting"
   ]
  },
  {
   "cell_type": "code",
   "execution_count": 80,
   "metadata": {
    "collapsed": false
   },
   "outputs": [],
   "source": [
    "s1 = pd.Series([1,2,3,4,5,6], index=pd.date_range('20130102', periods=6))"
   ]
  },
  {
   "cell_type": "code",
   "execution_count": 81,
   "metadata": {
    "collapsed": false
   },
   "outputs": [
    {
     "data": {
      "text/plain": [
       "2013-01-02    1\n",
       "2013-01-03    2\n",
       "2013-01-04    3\n",
       "2013-01-05    4\n",
       "2013-01-06    5\n",
       "2013-01-07    6\n",
       "Freq: D, dtype: int64"
      ]
     },
     "execution_count": 81,
     "metadata": {},
     "output_type": "execute_result"
    }
   ],
   "source": [
    "s1"
   ]
  },
  {
   "cell_type": "code",
   "execution_count": 82,
   "metadata": {
    "collapsed": true
   },
   "outputs": [],
   "source": [
    "df['F'] = s1"
   ]
  },
  {
   "cell_type": "code",
   "execution_count": 83,
   "metadata": {
    "collapsed": true
   },
   "outputs": [],
   "source": [
    "df.at[dates[0], 'A'] = 0"
   ]
  },
  {
   "cell_type": "code",
   "execution_count": 84,
   "metadata": {
    "collapsed": false
   },
   "outputs": [],
   "source": [
    "df.iat[0,1] = 0"
   ]
  },
  {
   "cell_type": "code",
   "execution_count": 85,
   "metadata": {
    "collapsed": true
   },
   "outputs": [],
   "source": [
    "df.loc[:,'D'] = np.array([5]* len(df))"
   ]
  },
  {
   "cell_type": "code",
   "execution_count": 86,
   "metadata": {
    "collapsed": false
   },
   "outputs": [
    {
     "data": {
      "text/html": [
       "<div>\n",
       "<table border=\"1\" class=\"dataframe\">\n",
       "  <thead>\n",
       "    <tr style=\"text-align: right;\">\n",
       "      <th></th>\n",
       "      <th>A</th>\n",
       "      <th>B</th>\n",
       "      <th>C</th>\n",
       "      <th>D</th>\n",
       "      <th>F</th>\n",
       "    </tr>\n",
       "  </thead>\n",
       "  <tbody>\n",
       "    <tr>\n",
       "      <th>2013-01-01</th>\n",
       "      <td>0.000000</td>\n",
       "      <td>0.000000</td>\n",
       "      <td>-0.180153</td>\n",
       "      <td>5</td>\n",
       "      <td>NaN</td>\n",
       "    </tr>\n",
       "    <tr>\n",
       "      <th>2013-01-02</th>\n",
       "      <td>-1.376163</td>\n",
       "      <td>-0.652957</td>\n",
       "      <td>-0.970354</td>\n",
       "      <td>5</td>\n",
       "      <td>1.0</td>\n",
       "    </tr>\n",
       "    <tr>\n",
       "      <th>2013-01-03</th>\n",
       "      <td>0.680812</td>\n",
       "      <td>2.514244</td>\n",
       "      <td>0.458267</td>\n",
       "      <td>5</td>\n",
       "      <td>2.0</td>\n",
       "    </tr>\n",
       "    <tr>\n",
       "      <th>2013-01-04</th>\n",
       "      <td>0.713789</td>\n",
       "      <td>-0.831499</td>\n",
       "      <td>-0.319867</td>\n",
       "      <td>5</td>\n",
       "      <td>3.0</td>\n",
       "    </tr>\n",
       "    <tr>\n",
       "      <th>2013-01-05</th>\n",
       "      <td>0.304497</td>\n",
       "      <td>-1.900502</td>\n",
       "      <td>-0.405913</td>\n",
       "      <td>5</td>\n",
       "      <td>4.0</td>\n",
       "    </tr>\n",
       "    <tr>\n",
       "      <th>2013-01-06</th>\n",
       "      <td>0.101727</td>\n",
       "      <td>-2.034357</td>\n",
       "      <td>-1.000661</td>\n",
       "      <td>5</td>\n",
       "      <td>5.0</td>\n",
       "    </tr>\n",
       "  </tbody>\n",
       "</table>\n",
       "</div>"
      ],
      "text/plain": [
       "                   A         B         C  D    F\n",
       "2013-01-01  0.000000  0.000000 -0.180153  5  NaN\n",
       "2013-01-02 -1.376163 -0.652957 -0.970354  5  1.0\n",
       "2013-01-03  0.680812  2.514244  0.458267  5  2.0\n",
       "2013-01-04  0.713789 -0.831499 -0.319867  5  3.0\n",
       "2013-01-05  0.304497 -1.900502 -0.405913  5  4.0\n",
       "2013-01-06  0.101727 -2.034357 -1.000661  5  5.0"
      ]
     },
     "execution_count": 86,
     "metadata": {},
     "output_type": "execute_result"
    }
   ],
   "source": [
    "df"
   ]
  },
  {
   "cell_type": "code",
   "execution_count": 87,
   "metadata": {
    "collapsed": true
   },
   "outputs": [],
   "source": [
    "df2 = df.copy()\n",
    "df2[df2>0] = -df2"
   ]
  },
  {
   "cell_type": "code",
   "execution_count": 88,
   "metadata": {
    "collapsed": false,
    "scrolled": true
   },
   "outputs": [
    {
     "data": {
      "text/html": [
       "<div>\n",
       "<table border=\"1\" class=\"dataframe\">\n",
       "  <thead>\n",
       "    <tr style=\"text-align: right;\">\n",
       "      <th></th>\n",
       "      <th>A</th>\n",
       "      <th>B</th>\n",
       "      <th>C</th>\n",
       "      <th>D</th>\n",
       "      <th>F</th>\n",
       "    </tr>\n",
       "  </thead>\n",
       "  <tbody>\n",
       "    <tr>\n",
       "      <th>2013-01-01</th>\n",
       "      <td>0.000000</td>\n",
       "      <td>0.000000</td>\n",
       "      <td>-0.180153</td>\n",
       "      <td>-5</td>\n",
       "      <td>NaN</td>\n",
       "    </tr>\n",
       "    <tr>\n",
       "      <th>2013-01-02</th>\n",
       "      <td>-1.376163</td>\n",
       "      <td>-0.652957</td>\n",
       "      <td>-0.970354</td>\n",
       "      <td>-5</td>\n",
       "      <td>-1.0</td>\n",
       "    </tr>\n",
       "    <tr>\n",
       "      <th>2013-01-03</th>\n",
       "      <td>-0.680812</td>\n",
       "      <td>-2.514244</td>\n",
       "      <td>-0.458267</td>\n",
       "      <td>-5</td>\n",
       "      <td>-2.0</td>\n",
       "    </tr>\n",
       "    <tr>\n",
       "      <th>2013-01-04</th>\n",
       "      <td>-0.713789</td>\n",
       "      <td>-0.831499</td>\n",
       "      <td>-0.319867</td>\n",
       "      <td>-5</td>\n",
       "      <td>-3.0</td>\n",
       "    </tr>\n",
       "    <tr>\n",
       "      <th>2013-01-05</th>\n",
       "      <td>-0.304497</td>\n",
       "      <td>-1.900502</td>\n",
       "      <td>-0.405913</td>\n",
       "      <td>-5</td>\n",
       "      <td>-4.0</td>\n",
       "    </tr>\n",
       "    <tr>\n",
       "      <th>2013-01-06</th>\n",
       "      <td>-0.101727</td>\n",
       "      <td>-2.034357</td>\n",
       "      <td>-1.000661</td>\n",
       "      <td>-5</td>\n",
       "      <td>-5.0</td>\n",
       "    </tr>\n",
       "  </tbody>\n",
       "</table>\n",
       "</div>"
      ],
      "text/plain": [
       "                   A         B         C  D    F\n",
       "2013-01-01  0.000000  0.000000 -0.180153 -5  NaN\n",
       "2013-01-02 -1.376163 -0.652957 -0.970354 -5 -1.0\n",
       "2013-01-03 -0.680812 -2.514244 -0.458267 -5 -2.0\n",
       "2013-01-04 -0.713789 -0.831499 -0.319867 -5 -3.0\n",
       "2013-01-05 -0.304497 -1.900502 -0.405913 -5 -4.0\n",
       "2013-01-06 -0.101727 -2.034357 -1.000661 -5 -5.0"
      ]
     },
     "execution_count": 88,
     "metadata": {},
     "output_type": "execute_result"
    }
   ],
   "source": [
    "df2"
   ]
  },
  {
   "cell_type": "code",
   "execution_count": null,
   "metadata": {
    "collapsed": true
   },
   "outputs": [],
   "source": []
  },
  {
   "cell_type": "markdown",
   "metadata": {},
   "source": [
    "### 1.1.4 누락 데이터"
   ]
  },
  {
   "cell_type": "markdown",
   "metadata": {},
   "source": [
    "## 1.2 전체 API 목록\n",
    "\n",
    "http://pandas.pydata.org/pandas-docs/stable/api.html"
   ]
  },
  {
   "cell_type": "markdown",
   "metadata": {},
   "source": [
    "### Input/Output\n",
    "- [read_json([path_or_buf, orient, typ, dtype, ...])](http://pandas.pydata.org/pandas-docs/stable/generated/pandas.read_json.html#pandas.read_json) : JSON을 Dataframe으로 변경\n",
    "- [json_normalize(data[, record_path, meta, ...])](http://pandas.pydata.org/pandas-docs/stable/generated/pandas.io.json.json_normalize.html#pandas.io.json.json_normalize) : semi-structured JSON을 Dataframe으로 변경\n",
    "- [read_html(io[, match, flavor, header, ...])](http://pandas.pydata.org/pandasdocs/stable/generated/pandas.read_html.html#pandas.read_html) : "
   ]
  },
  {
   "cell_type": "markdown",
   "metadata": {},
   "source": [
    "## 1.4 Usage\n",
    "### 1.4.1 Object 생성\n",
    "### 1.4.2 Viewing Data"
   ]
  },
  {
   "cell_type": "code",
   "execution_count": null,
   "metadata": {
    "collapsed": true
   },
   "outputs": [],
   "source": [
    "import pandas as pd\n",
    "import pandas_datareader.data\n",
    "import requests\n",
    "import datetime"
   ]
  },
  {
   "cell_type": "code",
   "execution_count": 111,
   "metadata": {
    "collapsed": false
   },
   "outputs": [
    {
     "data": {
      "text/html": [
       "<div>\n",
       "<table border=\"1\" class=\"dataframe\">\n",
       "  <thead>\n",
       "    <tr style=\"text-align: right;\">\n",
       "      <th></th>\n",
       "      <th>Open</th>\n",
       "      <th>High</th>\n",
       "      <th>Low</th>\n",
       "      <th>Close</th>\n",
       "      <th>Volume</th>\n",
       "      <th>Adj Close</th>\n",
       "    </tr>\n",
       "    <tr>\n",
       "      <th>Date</th>\n",
       "      <th></th>\n",
       "      <th></th>\n",
       "      <th></th>\n",
       "      <th></th>\n",
       "      <th></th>\n",
       "      <th></th>\n",
       "    </tr>\n",
       "  </thead>\n",
       "  <tbody>\n",
       "    <tr>\n",
       "      <th>2017-02-01</th>\n",
       "      <td>1977000.0</td>\n",
       "      <td>1983000.0</td>\n",
       "      <td>1952000.0</td>\n",
       "      <td>1956000.0</td>\n",
       "      <td>283000</td>\n",
       "      <td>1956000.0</td>\n",
       "    </tr>\n",
       "    <tr>\n",
       "      <th>2017-02-02</th>\n",
       "      <td>1980000.0</td>\n",
       "      <td>1983000.0</td>\n",
       "      <td>1960000.0</td>\n",
       "      <td>1968000.0</td>\n",
       "      <td>300500</td>\n",
       "      <td>1968000.0</td>\n",
       "    </tr>\n",
       "    <tr>\n",
       "      <th>2017-02-03</th>\n",
       "      <td>1970000.0</td>\n",
       "      <td>1975000.0</td>\n",
       "      <td>1959000.0</td>\n",
       "      <td>1973000.0</td>\n",
       "      <td>207700</td>\n",
       "      <td>1973000.0</td>\n",
       "    </tr>\n",
       "    <tr>\n",
       "      <th>2017-02-06</th>\n",
       "      <td>1979000.0</td>\n",
       "      <td>1983000.0</td>\n",
       "      <td>1957000.0</td>\n",
       "      <td>1978000.0</td>\n",
       "      <td>177200</td>\n",
       "      <td>1978000.0</td>\n",
       "    </tr>\n",
       "    <tr>\n",
       "      <th>2017-02-07</th>\n",
       "      <td>1978000.0</td>\n",
       "      <td>1979000.0</td>\n",
       "      <td>1938000.0</td>\n",
       "      <td>1941000.0</td>\n",
       "      <td>280800</td>\n",
       "      <td>1941000.0</td>\n",
       "    </tr>\n",
       "    <tr>\n",
       "      <th>2017-02-08</th>\n",
       "      <td>1937000.0</td>\n",
       "      <td>1939000.0</td>\n",
       "      <td>1910000.0</td>\n",
       "      <td>1920000.0</td>\n",
       "      <td>341800</td>\n",
       "      <td>1920000.0</td>\n",
       "    </tr>\n",
       "    <tr>\n",
       "      <th>2017-02-09</th>\n",
       "      <td>1939000.0</td>\n",
       "      <td>1942000.0</td>\n",
       "      <td>1911000.0</td>\n",
       "      <td>1920000.0</td>\n",
       "      <td>273800</td>\n",
       "      <td>1920000.0</td>\n",
       "    </tr>\n",
       "    <tr>\n",
       "      <th>2017-02-10</th>\n",
       "      <td>1920000.0</td>\n",
       "      <td>1938000.0</td>\n",
       "      <td>1915000.0</td>\n",
       "      <td>1918000.0</td>\n",
       "      <td>220400</td>\n",
       "      <td>1918000.0</td>\n",
       "    </tr>\n",
       "    <tr>\n",
       "      <th>2017-02-13</th>\n",
       "      <td>1887000.0</td>\n",
       "      <td>1903000.0</td>\n",
       "      <td>1886000.0</td>\n",
       "      <td>1898000.0</td>\n",
       "      <td>222000</td>\n",
       "      <td>1898000.0</td>\n",
       "    </tr>\n",
       "    <tr>\n",
       "      <th>2017-02-14</th>\n",
       "      <td>1898000.0</td>\n",
       "      <td>1913000.0</td>\n",
       "      <td>1866000.0</td>\n",
       "      <td>1879000.0</td>\n",
       "      <td>262400</td>\n",
       "      <td>1879000.0</td>\n",
       "    </tr>\n",
       "    <tr>\n",
       "      <th>2017-02-15</th>\n",
       "      <td>1854000.0</td>\n",
       "      <td>1898000.0</td>\n",
       "      <td>1854000.0</td>\n",
       "      <td>1886000.0</td>\n",
       "      <td>283800</td>\n",
       "      <td>1886000.0</td>\n",
       "    </tr>\n",
       "    <tr>\n",
       "      <th>2017-02-16</th>\n",
       "      <td>1890000.0</td>\n",
       "      <td>1918000.0</td>\n",
       "      <td>1889000.0</td>\n",
       "      <td>1901000.0</td>\n",
       "      <td>204500</td>\n",
       "      <td>1901000.0</td>\n",
       "    </tr>\n",
       "    <tr>\n",
       "      <th>2017-02-17</th>\n",
       "      <td>1878000.0</td>\n",
       "      <td>1902000.0</td>\n",
       "      <td>1864000.0</td>\n",
       "      <td>1893000.0</td>\n",
       "      <td>307500</td>\n",
       "      <td>1893000.0</td>\n",
       "    </tr>\n",
       "    <tr>\n",
       "      <th>2017-02-20</th>\n",
       "      <td>1911000.0</td>\n",
       "      <td>1939000.0</td>\n",
       "      <td>1908000.0</td>\n",
       "      <td>1933000.0</td>\n",
       "      <td>149700</td>\n",
       "      <td>1933000.0</td>\n",
       "    </tr>\n",
       "    <tr>\n",
       "      <th>2017-02-21</th>\n",
       "      <td>1927000.0</td>\n",
       "      <td>1978000.0</td>\n",
       "      <td>1921000.0</td>\n",
       "      <td>1947000.0</td>\n",
       "      <td>211200</td>\n",
       "      <td>1947000.0</td>\n",
       "    </tr>\n",
       "    <tr>\n",
       "      <th>2017-02-22</th>\n",
       "      <td>1950000.0</td>\n",
       "      <td>1967000.0</td>\n",
       "      <td>1949000.0</td>\n",
       "      <td>1965000.0</td>\n",
       "      <td>170700</td>\n",
       "      <td>1965000.0</td>\n",
       "    </tr>\n",
       "    <tr>\n",
       "      <th>2017-02-23</th>\n",
       "      <td>1951000.0</td>\n",
       "      <td>1972000.0</td>\n",
       "      <td>1951000.0</td>\n",
       "      <td>1959000.0</td>\n",
       "      <td>204300</td>\n",
       "      <td>1959000.0</td>\n",
       "    </tr>\n",
       "    <tr>\n",
       "      <th>2017-02-24</th>\n",
       "      <td>1948000.0</td>\n",
       "      <td>1955000.0</td>\n",
       "      <td>1903000.0</td>\n",
       "      <td>1911000.0</td>\n",
       "      <td>185900</td>\n",
       "      <td>1911000.0</td>\n",
       "    </tr>\n",
       "    <tr>\n",
       "      <th>2017-02-27</th>\n",
       "      <td>1901000.0</td>\n",
       "      <td>1907000.0</td>\n",
       "      <td>1885000.0</td>\n",
       "      <td>1903000.0</td>\n",
       "      <td>180600</td>\n",
       "      <td>1903000.0</td>\n",
       "    </tr>\n",
       "    <tr>\n",
       "      <th>2017-02-28</th>\n",
       "      <td>1903000.0</td>\n",
       "      <td>1938000.0</td>\n",
       "      <td>1898000.0</td>\n",
       "      <td>1922000.0</td>\n",
       "      <td>301700</td>\n",
       "      <td>1922000.0</td>\n",
       "    </tr>\n",
       "    <tr>\n",
       "      <th>2017-03-01</th>\n",
       "      <td>1922000.0</td>\n",
       "      <td>1922000.0</td>\n",
       "      <td>1922000.0</td>\n",
       "      <td>1922000.0</td>\n",
       "      <td>0</td>\n",
       "      <td>1922000.0</td>\n",
       "    </tr>\n",
       "    <tr>\n",
       "      <th>2017-03-02</th>\n",
       "      <td>1921000.0</td>\n",
       "      <td>1993000.0</td>\n",
       "      <td>1921000.0</td>\n",
       "      <td>1986000.0</td>\n",
       "      <td>424900</td>\n",
       "      <td>1986000.0</td>\n",
       "    </tr>\n",
       "    <tr>\n",
       "      <th>2017-03-03</th>\n",
       "      <td>1967000.0</td>\n",
       "      <td>1986000.0</td>\n",
       "      <td>1958000.0</td>\n",
       "      <td>1981000.0</td>\n",
       "      <td>254100</td>\n",
       "      <td>1981000.0</td>\n",
       "    </tr>\n",
       "    <tr>\n",
       "      <th>2017-03-06</th>\n",
       "      <td>1961000.0</td>\n",
       "      <td>2011000.0</td>\n",
       "      <td>1961000.0</td>\n",
       "      <td>2004000.0</td>\n",
       "      <td>244600</td>\n",
       "      <td>2004000.0</td>\n",
       "    </tr>\n",
       "    <tr>\n",
       "      <th>2017-03-07</th>\n",
       "      <td>1990000.0</td>\n",
       "      <td>2016000.0</td>\n",
       "      <td>1990000.0</td>\n",
       "      <td>2010000.0</td>\n",
       "      <td>211000</td>\n",
       "      <td>2010000.0</td>\n",
       "    </tr>\n",
       "    <tr>\n",
       "      <th>2017-03-08</th>\n",
       "      <td>2010000.0</td>\n",
       "      <td>2031000.0</td>\n",
       "      <td>2007000.0</td>\n",
       "      <td>2010000.0</td>\n",
       "      <td>242800</td>\n",
       "      <td>2010000.0</td>\n",
       "    </tr>\n",
       "    <tr>\n",
       "      <th>2017-03-09</th>\n",
       "      <td>2010000.0</td>\n",
       "      <td>2015000.0</td>\n",
       "      <td>2001000.0</td>\n",
       "      <td>2010000.0</td>\n",
       "      <td>287400</td>\n",
       "      <td>2010000.0</td>\n",
       "    </tr>\n",
       "    <tr>\n",
       "      <th>2017-03-10</th>\n",
       "      <td>1998000.0</td>\n",
       "      <td>2021000.0</td>\n",
       "      <td>1993000.0</td>\n",
       "      <td>2009000.0</td>\n",
       "      <td>204500</td>\n",
       "      <td>2009000.0</td>\n",
       "    </tr>\n",
       "    <tr>\n",
       "      <th>2017-03-13</th>\n",
       "      <td>2002000.0</td>\n",
       "      <td>2049000.0</td>\n",
       "      <td>2002000.0</td>\n",
       "      <td>2030000.0</td>\n",
       "      <td>148400</td>\n",
       "      <td>2030000.0</td>\n",
       "    </tr>\n",
       "    <tr>\n",
       "      <th>2017-03-14</th>\n",
       "      <td>2031000.0</td>\n",
       "      <td>2077000.0</td>\n",
       "      <td>2025000.0</td>\n",
       "      <td>2068000.0</td>\n",
       "      <td>226500</td>\n",
       "      <td>2068000.0</td>\n",
       "    </tr>\n",
       "    <tr>\n",
       "      <th>2017-03-15</th>\n",
       "      <td>2040000.0</td>\n",
       "      <td>2072000.0</td>\n",
       "      <td>2040000.0</td>\n",
       "      <td>2070000.0</td>\n",
       "      <td>191700</td>\n",
       "      <td>2070000.0</td>\n",
       "    </tr>\n",
       "    <tr>\n",
       "      <th>2017-03-16</th>\n",
       "      <td>2090000.0</td>\n",
       "      <td>2109000.0</td>\n",
       "      <td>2077000.0</td>\n",
       "      <td>2092000.0</td>\n",
       "      <td>198600</td>\n",
       "      <td>2092000.0</td>\n",
       "    </tr>\n",
       "    <tr>\n",
       "      <th>2017-03-17</th>\n",
       "      <td>2090000.0</td>\n",
       "      <td>2125000.0</td>\n",
       "      <td>2086000.0</td>\n",
       "      <td>2120000.0</td>\n",
       "      <td>252000</td>\n",
       "      <td>2120000.0</td>\n",
       "    </tr>\n",
       "    <tr>\n",
       "      <th>2017-03-20</th>\n",
       "      <td>2100000.0</td>\n",
       "      <td>2106000.0</td>\n",
       "      <td>2087000.0</td>\n",
       "      <td>2095000.0</td>\n",
       "      <td>205000</td>\n",
       "      <td>2095000.0</td>\n",
       "    </tr>\n",
       "    <tr>\n",
       "      <th>2017-03-21</th>\n",
       "      <td>2089000.0</td>\n",
       "      <td>2134000.0</td>\n",
       "      <td>2088000.0</td>\n",
       "      <td>2128000.0</td>\n",
       "      <td>284400</td>\n",
       "      <td>2128000.0</td>\n",
       "    </tr>\n",
       "  </tbody>\n",
       "</table>\n",
       "</div>"
      ],
      "text/plain": [
       "                 Open       High        Low      Close  Volume  Adj Close\n",
       "Date                                                                     \n",
       "2017-02-01  1977000.0  1983000.0  1952000.0  1956000.0  283000  1956000.0\n",
       "2017-02-02  1980000.0  1983000.0  1960000.0  1968000.0  300500  1968000.0\n",
       "2017-02-03  1970000.0  1975000.0  1959000.0  1973000.0  207700  1973000.0\n",
       "2017-02-06  1979000.0  1983000.0  1957000.0  1978000.0  177200  1978000.0\n",
       "2017-02-07  1978000.0  1979000.0  1938000.0  1941000.0  280800  1941000.0\n",
       "2017-02-08  1937000.0  1939000.0  1910000.0  1920000.0  341800  1920000.0\n",
       "2017-02-09  1939000.0  1942000.0  1911000.0  1920000.0  273800  1920000.0\n",
       "2017-02-10  1920000.0  1938000.0  1915000.0  1918000.0  220400  1918000.0\n",
       "2017-02-13  1887000.0  1903000.0  1886000.0  1898000.0  222000  1898000.0\n",
       "2017-02-14  1898000.0  1913000.0  1866000.0  1879000.0  262400  1879000.0\n",
       "2017-02-15  1854000.0  1898000.0  1854000.0  1886000.0  283800  1886000.0\n",
       "2017-02-16  1890000.0  1918000.0  1889000.0  1901000.0  204500  1901000.0\n",
       "2017-02-17  1878000.0  1902000.0  1864000.0  1893000.0  307500  1893000.0\n",
       "2017-02-20  1911000.0  1939000.0  1908000.0  1933000.0  149700  1933000.0\n",
       "2017-02-21  1927000.0  1978000.0  1921000.0  1947000.0  211200  1947000.0\n",
       "2017-02-22  1950000.0  1967000.0  1949000.0  1965000.0  170700  1965000.0\n",
       "2017-02-23  1951000.0  1972000.0  1951000.0  1959000.0  204300  1959000.0\n",
       "2017-02-24  1948000.0  1955000.0  1903000.0  1911000.0  185900  1911000.0\n",
       "2017-02-27  1901000.0  1907000.0  1885000.0  1903000.0  180600  1903000.0\n",
       "2017-02-28  1903000.0  1938000.0  1898000.0  1922000.0  301700  1922000.0\n",
       "2017-03-01  1922000.0  1922000.0  1922000.0  1922000.0       0  1922000.0\n",
       "2017-03-02  1921000.0  1993000.0  1921000.0  1986000.0  424900  1986000.0\n",
       "2017-03-03  1967000.0  1986000.0  1958000.0  1981000.0  254100  1981000.0\n",
       "2017-03-06  1961000.0  2011000.0  1961000.0  2004000.0  244600  2004000.0\n",
       "2017-03-07  1990000.0  2016000.0  1990000.0  2010000.0  211000  2010000.0\n",
       "2017-03-08  2010000.0  2031000.0  2007000.0  2010000.0  242800  2010000.0\n",
       "2017-03-09  2010000.0  2015000.0  2001000.0  2010000.0  287400  2010000.0\n",
       "2017-03-10  1998000.0  2021000.0  1993000.0  2009000.0  204500  2009000.0\n",
       "2017-03-13  2002000.0  2049000.0  2002000.0  2030000.0  148400  2030000.0\n",
       "2017-03-14  2031000.0  2077000.0  2025000.0  2068000.0  226500  2068000.0\n",
       "2017-03-15  2040000.0  2072000.0  2040000.0  2070000.0  191700  2070000.0\n",
       "2017-03-16  2090000.0  2109000.0  2077000.0  2092000.0  198600  2092000.0\n",
       "2017-03-17  2090000.0  2125000.0  2086000.0  2120000.0  252000  2120000.0\n",
       "2017-03-20  2100000.0  2106000.0  2087000.0  2095000.0  205000  2095000.0\n",
       "2017-03-21  2089000.0  2134000.0  2088000.0  2128000.0  284400  2128000.0"
      ]
     },
     "execution_count": 111,
     "metadata": {},
     "output_type": "execute_result"
    }
   ],
   "source": [
    "CODE='005930.KS'\n",
    "df = pandas_datareader.data.DataReader(CODE, \"yahoo\", '2017-02-01', datetime.datetime.now())\n",
    "df"
   ]
  },
  {
   "cell_type": "code",
   "execution_count": 112,
   "metadata": {
    "collapsed": false
   },
   "outputs": [
    {
     "data": {
      "text/plain": [
       "Index(['Open', 'High', 'Low', 'Close', 'Volume', 'Adj Close'], dtype='object')"
      ]
     },
     "execution_count": 112,
     "metadata": {},
     "output_type": "execute_result"
    }
   ],
   "source": [
    "df.columns"
   ]
  },
  {
   "cell_type": "code",
   "execution_count": 113,
   "metadata": {
    "collapsed": false
   },
   "outputs": [
    {
     "data": {
      "text/plain": [
       "DatetimeIndex(['2017-02-01', '2017-02-02', '2017-02-03', '2017-02-06',\n",
       "               '2017-02-07', '2017-02-08', '2017-02-09', '2017-02-10',\n",
       "               '2017-02-13', '2017-02-14', '2017-02-15', '2017-02-16',\n",
       "               '2017-02-17', '2017-02-20', '2017-02-21', '2017-02-22',\n",
       "               '2017-02-23', '2017-02-24', '2017-02-27', '2017-02-28',\n",
       "               '2017-03-01', '2017-03-02', '2017-03-03', '2017-03-06',\n",
       "               '2017-03-07', '2017-03-08', '2017-03-09', '2017-03-10',\n",
       "               '2017-03-13', '2017-03-14', '2017-03-15', '2017-03-16',\n",
       "               '2017-03-17', '2017-03-20', '2017-03-21'],\n",
       "              dtype='datetime64[ns]', name='Date', freq=None)"
      ]
     },
     "execution_count": 113,
     "metadata": {},
     "output_type": "execute_result"
    }
   ],
   "source": [
    "df.index"
   ]
  },
  {
   "cell_type": "code",
   "execution_count": 114,
   "metadata": {
    "collapsed": false
   },
   "outputs": [
    {
     "data": {
      "text/plain": [
       "Open         1977000.0\n",
       "High         1983000.0\n",
       "Low          1952000.0\n",
       "Close        1956000.0\n",
       "Volume        283000.0\n",
       "Adj Close    1956000.0\n",
       "Name: 2017-02-01 00:00:00, dtype: float64"
      ]
     },
     "execution_count": 114,
     "metadata": {},
     "output_type": "execute_result"
    }
   ],
   "source": [
    "df.ix[0]"
   ]
  },
  {
   "cell_type": "code",
   "execution_count": 115,
   "metadata": {
    "collapsed": false
   },
   "outputs": [
    {
     "data": {
      "text/html": [
       "<div>\n",
       "<table border=\"1\" class=\"dataframe\">\n",
       "  <thead>\n",
       "    <tr style=\"text-align: right;\">\n",
       "      <th></th>\n",
       "      <th>Open</th>\n",
       "      <th>High</th>\n",
       "      <th>Low</th>\n",
       "      <th>Close</th>\n",
       "      <th>Volume</th>\n",
       "      <th>Adj Close</th>\n",
       "    </tr>\n",
       "    <tr>\n",
       "      <th>Date</th>\n",
       "      <th></th>\n",
       "      <th></th>\n",
       "      <th></th>\n",
       "      <th></th>\n",
       "      <th></th>\n",
       "      <th></th>\n",
       "    </tr>\n",
       "  </thead>\n",
       "  <tbody>\n",
       "    <tr>\n",
       "      <th>2017-02-01</th>\n",
       "      <td>1977000.0</td>\n",
       "      <td>1983000.0</td>\n",
       "      <td>1952000.0</td>\n",
       "      <td>1956000.0</td>\n",
       "      <td>283000</td>\n",
       "      <td>1956000.0</td>\n",
       "    </tr>\n",
       "    <tr>\n",
       "      <th>2017-02-02</th>\n",
       "      <td>1980000.0</td>\n",
       "      <td>1983000.0</td>\n",
       "      <td>1960000.0</td>\n",
       "      <td>1968000.0</td>\n",
       "      <td>300500</td>\n",
       "      <td>1968000.0</td>\n",
       "    </tr>\n",
       "    <tr>\n",
       "      <th>2017-02-03</th>\n",
       "      <td>1970000.0</td>\n",
       "      <td>1975000.0</td>\n",
       "      <td>1959000.0</td>\n",
       "      <td>1973000.0</td>\n",
       "      <td>207700</td>\n",
       "      <td>1973000.0</td>\n",
       "    </tr>\n",
       "  </tbody>\n",
       "</table>\n",
       "</div>"
      ],
      "text/plain": [
       "                 Open       High        Low      Close  Volume  Adj Close\n",
       "Date                                                                     \n",
       "2017-02-01  1977000.0  1983000.0  1952000.0  1956000.0  283000  1956000.0\n",
       "2017-02-02  1980000.0  1983000.0  1960000.0  1968000.0  300500  1968000.0\n",
       "2017-02-03  1970000.0  1975000.0  1959000.0  1973000.0  207700  1973000.0"
      ]
     },
     "execution_count": 115,
     "metadata": {},
     "output_type": "execute_result"
    }
   ],
   "source": [
    "df.head(3)"
   ]
  },
  {
   "cell_type": "code",
   "execution_count": 116,
   "metadata": {
    "collapsed": false
   },
   "outputs": [
    {
     "data": {
      "text/html": [
       "<div>\n",
       "<table border=\"1\" class=\"dataframe\">\n",
       "  <thead>\n",
       "    <tr style=\"text-align: right;\">\n",
       "      <th></th>\n",
       "      <th>Open</th>\n",
       "      <th>High</th>\n",
       "      <th>Low</th>\n",
       "      <th>Close</th>\n",
       "      <th>Volume</th>\n",
       "      <th>Adj Close</th>\n",
       "    </tr>\n",
       "    <tr>\n",
       "      <th>Date</th>\n",
       "      <th></th>\n",
       "      <th></th>\n",
       "      <th></th>\n",
       "      <th></th>\n",
       "      <th></th>\n",
       "      <th></th>\n",
       "    </tr>\n",
       "  </thead>\n",
       "  <tbody>\n",
       "    <tr>\n",
       "      <th>2017-03-20</th>\n",
       "      <td>2100000.0</td>\n",
       "      <td>2106000.0</td>\n",
       "      <td>2087000.0</td>\n",
       "      <td>2095000.0</td>\n",
       "      <td>205000</td>\n",
       "      <td>2095000.0</td>\n",
       "    </tr>\n",
       "    <tr>\n",
       "      <th>2017-03-21</th>\n",
       "      <td>2089000.0</td>\n",
       "      <td>2134000.0</td>\n",
       "      <td>2088000.0</td>\n",
       "      <td>2128000.0</td>\n",
       "      <td>284400</td>\n",
       "      <td>2128000.0</td>\n",
       "    </tr>\n",
       "  </tbody>\n",
       "</table>\n",
       "</div>"
      ],
      "text/plain": [
       "                 Open       High        Low      Close  Volume  Adj Close\n",
       "Date                                                                     \n",
       "2017-03-20  2100000.0  2106000.0  2087000.0  2095000.0  205000  2095000.0\n",
       "2017-03-21  2089000.0  2134000.0  2088000.0  2128000.0  284400  2128000.0"
      ]
     },
     "execution_count": 116,
     "metadata": {},
     "output_type": "execute_result"
    }
   ],
   "source": [
    "df.tail(2)"
   ]
  },
  {
   "cell_type": "code",
   "execution_count": 120,
   "metadata": {
    "collapsed": false
   },
   "outputs": [
    {
     "data": {
      "text/html": [
       "<div>\n",
       "<table border=\"1\" class=\"dataframe\">\n",
       "  <thead>\n",
       "    <tr style=\"text-align: right;\">\n",
       "      <th></th>\n",
       "      <th>Open</th>\n",
       "      <th>High</th>\n",
       "      <th>Low</th>\n",
       "      <th>Close</th>\n",
       "      <th>Volume</th>\n",
       "      <th>Adj Close</th>\n",
       "    </tr>\n",
       "    <tr>\n",
       "      <th>Date</th>\n",
       "      <th></th>\n",
       "      <th></th>\n",
       "      <th></th>\n",
       "      <th></th>\n",
       "      <th></th>\n",
       "      <th></th>\n",
       "    </tr>\n",
       "  </thead>\n",
       "  <tbody>\n",
       "    <tr>\n",
       "      <th>2017-02-01</th>\n",
       "      <td>1977000.0</td>\n",
       "      <td>1983000.0</td>\n",
       "      <td>1952000.0</td>\n",
       "      <td>1956000.0</td>\n",
       "      <td>283000</td>\n",
       "      <td>1956000.0</td>\n",
       "    </tr>\n",
       "    <tr>\n",
       "      <th>2017-02-02</th>\n",
       "      <td>1980000.0</td>\n",
       "      <td>1983000.0</td>\n",
       "      <td>1960000.0</td>\n",
       "      <td>1968000.0</td>\n",
       "      <td>300500</td>\n",
       "      <td>1968000.0</td>\n",
       "    </tr>\n",
       "    <tr>\n",
       "      <th>2017-02-03</th>\n",
       "      <td>1970000.0</td>\n",
       "      <td>1975000.0</td>\n",
       "      <td>1959000.0</td>\n",
       "      <td>1973000.0</td>\n",
       "      <td>207700</td>\n",
       "      <td>1973000.0</td>\n",
       "    </tr>\n",
       "    <tr>\n",
       "      <th>2017-02-06</th>\n",
       "      <td>1979000.0</td>\n",
       "      <td>1983000.0</td>\n",
       "      <td>1957000.0</td>\n",
       "      <td>1978000.0</td>\n",
       "      <td>177200</td>\n",
       "      <td>1978000.0</td>\n",
       "    </tr>\n",
       "    <tr>\n",
       "      <th>2017-02-07</th>\n",
       "      <td>1978000.0</td>\n",
       "      <td>1979000.0</td>\n",
       "      <td>1938000.0</td>\n",
       "      <td>1941000.0</td>\n",
       "      <td>280800</td>\n",
       "      <td>1941000.0</td>\n",
       "    </tr>\n",
       "    <tr>\n",
       "      <th>2017-02-08</th>\n",
       "      <td>1937000.0</td>\n",
       "      <td>1939000.0</td>\n",
       "      <td>1910000.0</td>\n",
       "      <td>1920000.0</td>\n",
       "      <td>341800</td>\n",
       "      <td>1920000.0</td>\n",
       "    </tr>\n",
       "    <tr>\n",
       "      <th>2017-02-09</th>\n",
       "      <td>1939000.0</td>\n",
       "      <td>1942000.0</td>\n",
       "      <td>1911000.0</td>\n",
       "      <td>1920000.0</td>\n",
       "      <td>273800</td>\n",
       "      <td>1920000.0</td>\n",
       "    </tr>\n",
       "    <tr>\n",
       "      <th>2017-02-10</th>\n",
       "      <td>1920000.0</td>\n",
       "      <td>1938000.0</td>\n",
       "      <td>1915000.0</td>\n",
       "      <td>1918000.0</td>\n",
       "      <td>220400</td>\n",
       "      <td>1918000.0</td>\n",
       "    </tr>\n",
       "    <tr>\n",
       "      <th>2017-02-13</th>\n",
       "      <td>1887000.0</td>\n",
       "      <td>1903000.0</td>\n",
       "      <td>1886000.0</td>\n",
       "      <td>1898000.0</td>\n",
       "      <td>222000</td>\n",
       "      <td>1898000.0</td>\n",
       "    </tr>\n",
       "    <tr>\n",
       "      <th>2017-02-14</th>\n",
       "      <td>1898000.0</td>\n",
       "      <td>1913000.0</td>\n",
       "      <td>1866000.0</td>\n",
       "      <td>1879000.0</td>\n",
       "      <td>262400</td>\n",
       "      <td>1879000.0</td>\n",
       "    </tr>\n",
       "    <tr>\n",
       "      <th>2017-02-15</th>\n",
       "      <td>1854000.0</td>\n",
       "      <td>1898000.0</td>\n",
       "      <td>1854000.0</td>\n",
       "      <td>1886000.0</td>\n",
       "      <td>283800</td>\n",
       "      <td>1886000.0</td>\n",
       "    </tr>\n",
       "    <tr>\n",
       "      <th>2017-02-16</th>\n",
       "      <td>1890000.0</td>\n",
       "      <td>1918000.0</td>\n",
       "      <td>1889000.0</td>\n",
       "      <td>1901000.0</td>\n",
       "      <td>204500</td>\n",
       "      <td>1901000.0</td>\n",
       "    </tr>\n",
       "    <tr>\n",
       "      <th>2017-02-17</th>\n",
       "      <td>1878000.0</td>\n",
       "      <td>1902000.0</td>\n",
       "      <td>1864000.0</td>\n",
       "      <td>1893000.0</td>\n",
       "      <td>307500</td>\n",
       "      <td>1893000.0</td>\n",
       "    </tr>\n",
       "    <tr>\n",
       "      <th>2017-02-20</th>\n",
       "      <td>1911000.0</td>\n",
       "      <td>1939000.0</td>\n",
       "      <td>1908000.0</td>\n",
       "      <td>1933000.0</td>\n",
       "      <td>149700</td>\n",
       "      <td>1933000.0</td>\n",
       "    </tr>\n",
       "    <tr>\n",
       "      <th>2017-02-21</th>\n",
       "      <td>1927000.0</td>\n",
       "      <td>1978000.0</td>\n",
       "      <td>1921000.0</td>\n",
       "      <td>1947000.0</td>\n",
       "      <td>211200</td>\n",
       "      <td>1947000.0</td>\n",
       "    </tr>\n",
       "    <tr>\n",
       "      <th>2017-02-22</th>\n",
       "      <td>1950000.0</td>\n",
       "      <td>1967000.0</td>\n",
       "      <td>1949000.0</td>\n",
       "      <td>1965000.0</td>\n",
       "      <td>170700</td>\n",
       "      <td>1965000.0</td>\n",
       "    </tr>\n",
       "    <tr>\n",
       "      <th>2017-02-23</th>\n",
       "      <td>1951000.0</td>\n",
       "      <td>1972000.0</td>\n",
       "      <td>1951000.0</td>\n",
       "      <td>1959000.0</td>\n",
       "      <td>204300</td>\n",
       "      <td>1959000.0</td>\n",
       "    </tr>\n",
       "    <tr>\n",
       "      <th>2017-02-24</th>\n",
       "      <td>1948000.0</td>\n",
       "      <td>1955000.0</td>\n",
       "      <td>1903000.0</td>\n",
       "      <td>1911000.0</td>\n",
       "      <td>185900</td>\n",
       "      <td>1911000.0</td>\n",
       "    </tr>\n",
       "    <tr>\n",
       "      <th>2017-02-27</th>\n",
       "      <td>1901000.0</td>\n",
       "      <td>1907000.0</td>\n",
       "      <td>1885000.0</td>\n",
       "      <td>1903000.0</td>\n",
       "      <td>180600</td>\n",
       "      <td>1903000.0</td>\n",
       "    </tr>\n",
       "    <tr>\n",
       "      <th>2017-02-28</th>\n",
       "      <td>1903000.0</td>\n",
       "      <td>1938000.0</td>\n",
       "      <td>1898000.0</td>\n",
       "      <td>1922000.0</td>\n",
       "      <td>301700</td>\n",
       "      <td>1922000.0</td>\n",
       "    </tr>\n",
       "  </tbody>\n",
       "</table>\n",
       "</div>"
      ],
      "text/plain": [
       "                 Open       High        Low      Close  Volume  Adj Close\n",
       "Date                                                                     \n",
       "2017-02-01  1977000.0  1983000.0  1952000.0  1956000.0  283000  1956000.0\n",
       "2017-02-02  1980000.0  1983000.0  1960000.0  1968000.0  300500  1968000.0\n",
       "2017-02-03  1970000.0  1975000.0  1959000.0  1973000.0  207700  1973000.0\n",
       "2017-02-06  1979000.0  1983000.0  1957000.0  1978000.0  177200  1978000.0\n",
       "2017-02-07  1978000.0  1979000.0  1938000.0  1941000.0  280800  1941000.0\n",
       "2017-02-08  1937000.0  1939000.0  1910000.0  1920000.0  341800  1920000.0\n",
       "2017-02-09  1939000.0  1942000.0  1911000.0  1920000.0  273800  1920000.0\n",
       "2017-02-10  1920000.0  1938000.0  1915000.0  1918000.0  220400  1918000.0\n",
       "2017-02-13  1887000.0  1903000.0  1886000.0  1898000.0  222000  1898000.0\n",
       "2017-02-14  1898000.0  1913000.0  1866000.0  1879000.0  262400  1879000.0\n",
       "2017-02-15  1854000.0  1898000.0  1854000.0  1886000.0  283800  1886000.0\n",
       "2017-02-16  1890000.0  1918000.0  1889000.0  1901000.0  204500  1901000.0\n",
       "2017-02-17  1878000.0  1902000.0  1864000.0  1893000.0  307500  1893000.0\n",
       "2017-02-20  1911000.0  1939000.0  1908000.0  1933000.0  149700  1933000.0\n",
       "2017-02-21  1927000.0  1978000.0  1921000.0  1947000.0  211200  1947000.0\n",
       "2017-02-22  1950000.0  1967000.0  1949000.0  1965000.0  170700  1965000.0\n",
       "2017-02-23  1951000.0  1972000.0  1951000.0  1959000.0  204300  1959000.0\n",
       "2017-02-24  1948000.0  1955000.0  1903000.0  1911000.0  185900  1911000.0\n",
       "2017-02-27  1901000.0  1907000.0  1885000.0  1903000.0  180600  1903000.0\n",
       "2017-02-28  1903000.0  1938000.0  1898000.0  1922000.0  301700  1922000.0"
      ]
     },
     "execution_count": 120,
     "metadata": {},
     "output_type": "execute_result"
    }
   ],
   "source": [
    "df['2017-02']"
   ]
  },
  {
   "cell_type": "code",
   "execution_count": 121,
   "metadata": {
    "collapsed": false
   },
   "outputs": [
    {
     "data": {
      "text/html": [
       "<div>\n",
       "<table border=\"1\" class=\"dataframe\">\n",
       "  <thead>\n",
       "    <tr style=\"text-align: right;\">\n",
       "      <th></th>\n",
       "      <th>Open</th>\n",
       "      <th>High</th>\n",
       "      <th>Low</th>\n",
       "      <th>Close</th>\n",
       "      <th>Volume</th>\n",
       "      <th>Adj Close</th>\n",
       "    </tr>\n",
       "    <tr>\n",
       "      <th>Date</th>\n",
       "      <th></th>\n",
       "      <th></th>\n",
       "      <th></th>\n",
       "      <th></th>\n",
       "      <th></th>\n",
       "      <th></th>\n",
       "    </tr>\n",
       "  </thead>\n",
       "  <tbody>\n",
       "    <tr>\n",
       "      <th>2017-02-01</th>\n",
       "      <td>1977000.0</td>\n",
       "      <td>1983000.0</td>\n",
       "      <td>1952000.0</td>\n",
       "      <td>1956000.0</td>\n",
       "      <td>283000</td>\n",
       "      <td>1956000.0</td>\n",
       "    </tr>\n",
       "    <tr>\n",
       "      <th>2017-02-02</th>\n",
       "      <td>1980000.0</td>\n",
       "      <td>1983000.0</td>\n",
       "      <td>1960000.0</td>\n",
       "      <td>1968000.0</td>\n",
       "      <td>300500</td>\n",
       "      <td>1968000.0</td>\n",
       "    </tr>\n",
       "    <tr>\n",
       "      <th>2017-02-03</th>\n",
       "      <td>1970000.0</td>\n",
       "      <td>1975000.0</td>\n",
       "      <td>1959000.0</td>\n",
       "      <td>1973000.0</td>\n",
       "      <td>207700</td>\n",
       "      <td>1973000.0</td>\n",
       "    </tr>\n",
       "    <tr>\n",
       "      <th>2017-02-06</th>\n",
       "      <td>1979000.0</td>\n",
       "      <td>1983000.0</td>\n",
       "      <td>1957000.0</td>\n",
       "      <td>1978000.0</td>\n",
       "      <td>177200</td>\n",
       "      <td>1978000.0</td>\n",
       "    </tr>\n",
       "    <tr>\n",
       "      <th>2017-02-07</th>\n",
       "      <td>1978000.0</td>\n",
       "      <td>1979000.0</td>\n",
       "      <td>1938000.0</td>\n",
       "      <td>1941000.0</td>\n",
       "      <td>280800</td>\n",
       "      <td>1941000.0</td>\n",
       "    </tr>\n",
       "    <tr>\n",
       "      <th>2017-02-08</th>\n",
       "      <td>1937000.0</td>\n",
       "      <td>1939000.0</td>\n",
       "      <td>1910000.0</td>\n",
       "      <td>1920000.0</td>\n",
       "      <td>341800</td>\n",
       "      <td>1920000.0</td>\n",
       "    </tr>\n",
       "    <tr>\n",
       "      <th>2017-02-09</th>\n",
       "      <td>1939000.0</td>\n",
       "      <td>1942000.0</td>\n",
       "      <td>1911000.0</td>\n",
       "      <td>1920000.0</td>\n",
       "      <td>273800</td>\n",
       "      <td>1920000.0</td>\n",
       "    </tr>\n",
       "    <tr>\n",
       "      <th>2017-02-10</th>\n",
       "      <td>1920000.0</td>\n",
       "      <td>1938000.0</td>\n",
       "      <td>1915000.0</td>\n",
       "      <td>1918000.0</td>\n",
       "      <td>220400</td>\n",
       "      <td>1918000.0</td>\n",
       "    </tr>\n",
       "    <tr>\n",
       "      <th>2017-02-13</th>\n",
       "      <td>1887000.0</td>\n",
       "      <td>1903000.0</td>\n",
       "      <td>1886000.0</td>\n",
       "      <td>1898000.0</td>\n",
       "      <td>222000</td>\n",
       "      <td>1898000.0</td>\n",
       "    </tr>\n",
       "    <tr>\n",
       "      <th>2017-02-14</th>\n",
       "      <td>1898000.0</td>\n",
       "      <td>1913000.0</td>\n",
       "      <td>1866000.0</td>\n",
       "      <td>1879000.0</td>\n",
       "      <td>262400</td>\n",
       "      <td>1879000.0</td>\n",
       "    </tr>\n",
       "    <tr>\n",
       "      <th>2017-02-15</th>\n",
       "      <td>1854000.0</td>\n",
       "      <td>1898000.0</td>\n",
       "      <td>1854000.0</td>\n",
       "      <td>1886000.0</td>\n",
       "      <td>283800</td>\n",
       "      <td>1886000.0</td>\n",
       "    </tr>\n",
       "    <tr>\n",
       "      <th>2017-02-16</th>\n",
       "      <td>1890000.0</td>\n",
       "      <td>1918000.0</td>\n",
       "      <td>1889000.0</td>\n",
       "      <td>1901000.0</td>\n",
       "      <td>204500</td>\n",
       "      <td>1901000.0</td>\n",
       "    </tr>\n",
       "    <tr>\n",
       "      <th>2017-02-17</th>\n",
       "      <td>1878000.0</td>\n",
       "      <td>1902000.0</td>\n",
       "      <td>1864000.0</td>\n",
       "      <td>1893000.0</td>\n",
       "      <td>307500</td>\n",
       "      <td>1893000.0</td>\n",
       "    </tr>\n",
       "    <tr>\n",
       "      <th>2017-02-20</th>\n",
       "      <td>1911000.0</td>\n",
       "      <td>1939000.0</td>\n",
       "      <td>1908000.0</td>\n",
       "      <td>1933000.0</td>\n",
       "      <td>149700</td>\n",
       "      <td>1933000.0</td>\n",
       "    </tr>\n",
       "    <tr>\n",
       "      <th>2017-02-21</th>\n",
       "      <td>1927000.0</td>\n",
       "      <td>1978000.0</td>\n",
       "      <td>1921000.0</td>\n",
       "      <td>1947000.0</td>\n",
       "      <td>211200</td>\n",
       "      <td>1947000.0</td>\n",
       "    </tr>\n",
       "    <tr>\n",
       "      <th>2017-02-22</th>\n",
       "      <td>1950000.0</td>\n",
       "      <td>1967000.0</td>\n",
       "      <td>1949000.0</td>\n",
       "      <td>1965000.0</td>\n",
       "      <td>170700</td>\n",
       "      <td>1965000.0</td>\n",
       "    </tr>\n",
       "    <tr>\n",
       "      <th>2017-02-23</th>\n",
       "      <td>1951000.0</td>\n",
       "      <td>1972000.0</td>\n",
       "      <td>1951000.0</td>\n",
       "      <td>1959000.0</td>\n",
       "      <td>204300</td>\n",
       "      <td>1959000.0</td>\n",
       "    </tr>\n",
       "    <tr>\n",
       "      <th>2017-02-24</th>\n",
       "      <td>1948000.0</td>\n",
       "      <td>1955000.0</td>\n",
       "      <td>1903000.0</td>\n",
       "      <td>1911000.0</td>\n",
       "      <td>185900</td>\n",
       "      <td>1911000.0</td>\n",
       "    </tr>\n",
       "    <tr>\n",
       "      <th>2017-02-27</th>\n",
       "      <td>1901000.0</td>\n",
       "      <td>1907000.0</td>\n",
       "      <td>1885000.0</td>\n",
       "      <td>1903000.0</td>\n",
       "      <td>180600</td>\n",
       "      <td>1903000.0</td>\n",
       "    </tr>\n",
       "    <tr>\n",
       "      <th>2017-02-28</th>\n",
       "      <td>1903000.0</td>\n",
       "      <td>1938000.0</td>\n",
       "      <td>1898000.0</td>\n",
       "      <td>1922000.0</td>\n",
       "      <td>301700</td>\n",
       "      <td>1922000.0</td>\n",
       "    </tr>\n",
       "    <tr>\n",
       "      <th>2017-03-01</th>\n",
       "      <td>1922000.0</td>\n",
       "      <td>1922000.0</td>\n",
       "      <td>1922000.0</td>\n",
       "      <td>1922000.0</td>\n",
       "      <td>0</td>\n",
       "      <td>1922000.0</td>\n",
       "    </tr>\n",
       "    <tr>\n",
       "      <th>2017-03-02</th>\n",
       "      <td>1921000.0</td>\n",
       "      <td>1993000.0</td>\n",
       "      <td>1921000.0</td>\n",
       "      <td>1986000.0</td>\n",
       "      <td>424900</td>\n",
       "      <td>1986000.0</td>\n",
       "    </tr>\n",
       "    <tr>\n",
       "      <th>2017-03-03</th>\n",
       "      <td>1967000.0</td>\n",
       "      <td>1986000.0</td>\n",
       "      <td>1958000.0</td>\n",
       "      <td>1981000.0</td>\n",
       "      <td>254100</td>\n",
       "      <td>1981000.0</td>\n",
       "    </tr>\n",
       "    <tr>\n",
       "      <th>2017-03-06</th>\n",
       "      <td>1961000.0</td>\n",
       "      <td>2011000.0</td>\n",
       "      <td>1961000.0</td>\n",
       "      <td>2004000.0</td>\n",
       "      <td>244600</td>\n",
       "      <td>2004000.0</td>\n",
       "    </tr>\n",
       "    <tr>\n",
       "      <th>2017-03-07</th>\n",
       "      <td>1990000.0</td>\n",
       "      <td>2016000.0</td>\n",
       "      <td>1990000.0</td>\n",
       "      <td>2010000.0</td>\n",
       "      <td>211000</td>\n",
       "      <td>2010000.0</td>\n",
       "    </tr>\n",
       "    <tr>\n",
       "      <th>2017-03-08</th>\n",
       "      <td>2010000.0</td>\n",
       "      <td>2031000.0</td>\n",
       "      <td>2007000.0</td>\n",
       "      <td>2010000.0</td>\n",
       "      <td>242800</td>\n",
       "      <td>2010000.0</td>\n",
       "    </tr>\n",
       "    <tr>\n",
       "      <th>2017-03-09</th>\n",
       "      <td>2010000.0</td>\n",
       "      <td>2015000.0</td>\n",
       "      <td>2001000.0</td>\n",
       "      <td>2010000.0</td>\n",
       "      <td>287400</td>\n",
       "      <td>2010000.0</td>\n",
       "    </tr>\n",
       "    <tr>\n",
       "      <th>2017-03-10</th>\n",
       "      <td>1998000.0</td>\n",
       "      <td>2021000.0</td>\n",
       "      <td>1993000.0</td>\n",
       "      <td>2009000.0</td>\n",
       "      <td>204500</td>\n",
       "      <td>2009000.0</td>\n",
       "    </tr>\n",
       "    <tr>\n",
       "      <th>2017-03-13</th>\n",
       "      <td>2002000.0</td>\n",
       "      <td>2049000.0</td>\n",
       "      <td>2002000.0</td>\n",
       "      <td>2030000.0</td>\n",
       "      <td>148400</td>\n",
       "      <td>2030000.0</td>\n",
       "    </tr>\n",
       "    <tr>\n",
       "      <th>2017-03-14</th>\n",
       "      <td>2031000.0</td>\n",
       "      <td>2077000.0</td>\n",
       "      <td>2025000.0</td>\n",
       "      <td>2068000.0</td>\n",
       "      <td>226500</td>\n",
       "      <td>2068000.0</td>\n",
       "    </tr>\n",
       "    <tr>\n",
       "      <th>2017-03-15</th>\n",
       "      <td>2040000.0</td>\n",
       "      <td>2072000.0</td>\n",
       "      <td>2040000.0</td>\n",
       "      <td>2070000.0</td>\n",
       "      <td>191700</td>\n",
       "      <td>2070000.0</td>\n",
       "    </tr>\n",
       "    <tr>\n",
       "      <th>2017-03-16</th>\n",
       "      <td>2090000.0</td>\n",
       "      <td>2109000.0</td>\n",
       "      <td>2077000.0</td>\n",
       "      <td>2092000.0</td>\n",
       "      <td>198600</td>\n",
       "      <td>2092000.0</td>\n",
       "    </tr>\n",
       "    <tr>\n",
       "      <th>2017-03-17</th>\n",
       "      <td>2090000.0</td>\n",
       "      <td>2125000.0</td>\n",
       "      <td>2086000.0</td>\n",
       "      <td>2120000.0</td>\n",
       "      <td>252000</td>\n",
       "      <td>2120000.0</td>\n",
       "    </tr>\n",
       "    <tr>\n",
       "      <th>2017-03-20</th>\n",
       "      <td>2100000.0</td>\n",
       "      <td>2106000.0</td>\n",
       "      <td>2087000.0</td>\n",
       "      <td>2095000.0</td>\n",
       "      <td>205000</td>\n",
       "      <td>2095000.0</td>\n",
       "    </tr>\n",
       "    <tr>\n",
       "      <th>2017-03-21</th>\n",
       "      <td>2089000.0</td>\n",
       "      <td>2134000.0</td>\n",
       "      <td>2088000.0</td>\n",
       "      <td>2128000.0</td>\n",
       "      <td>284400</td>\n",
       "      <td>2128000.0</td>\n",
       "    </tr>\n",
       "  </tbody>\n",
       "</table>\n",
       "</div>"
      ],
      "text/plain": [
       "                 Open       High        Low      Close  Volume  Adj Close\n",
       "Date                                                                     \n",
       "2017-02-01  1977000.0  1983000.0  1952000.0  1956000.0  283000  1956000.0\n",
       "2017-02-02  1980000.0  1983000.0  1960000.0  1968000.0  300500  1968000.0\n",
       "2017-02-03  1970000.0  1975000.0  1959000.0  1973000.0  207700  1973000.0\n",
       "2017-02-06  1979000.0  1983000.0  1957000.0  1978000.0  177200  1978000.0\n",
       "2017-02-07  1978000.0  1979000.0  1938000.0  1941000.0  280800  1941000.0\n",
       "2017-02-08  1937000.0  1939000.0  1910000.0  1920000.0  341800  1920000.0\n",
       "2017-02-09  1939000.0  1942000.0  1911000.0  1920000.0  273800  1920000.0\n",
       "2017-02-10  1920000.0  1938000.0  1915000.0  1918000.0  220400  1918000.0\n",
       "2017-02-13  1887000.0  1903000.0  1886000.0  1898000.0  222000  1898000.0\n",
       "2017-02-14  1898000.0  1913000.0  1866000.0  1879000.0  262400  1879000.0\n",
       "2017-02-15  1854000.0  1898000.0  1854000.0  1886000.0  283800  1886000.0\n",
       "2017-02-16  1890000.0  1918000.0  1889000.0  1901000.0  204500  1901000.0\n",
       "2017-02-17  1878000.0  1902000.0  1864000.0  1893000.0  307500  1893000.0\n",
       "2017-02-20  1911000.0  1939000.0  1908000.0  1933000.0  149700  1933000.0\n",
       "2017-02-21  1927000.0  1978000.0  1921000.0  1947000.0  211200  1947000.0\n",
       "2017-02-22  1950000.0  1967000.0  1949000.0  1965000.0  170700  1965000.0\n",
       "2017-02-23  1951000.0  1972000.0  1951000.0  1959000.0  204300  1959000.0\n",
       "2017-02-24  1948000.0  1955000.0  1903000.0  1911000.0  185900  1911000.0\n",
       "2017-02-27  1901000.0  1907000.0  1885000.0  1903000.0  180600  1903000.0\n",
       "2017-02-28  1903000.0  1938000.0  1898000.0  1922000.0  301700  1922000.0\n",
       "2017-03-01  1922000.0  1922000.0  1922000.0  1922000.0       0  1922000.0\n",
       "2017-03-02  1921000.0  1993000.0  1921000.0  1986000.0  424900  1986000.0\n",
       "2017-03-03  1967000.0  1986000.0  1958000.0  1981000.0  254100  1981000.0\n",
       "2017-03-06  1961000.0  2011000.0  1961000.0  2004000.0  244600  2004000.0\n",
       "2017-03-07  1990000.0  2016000.0  1990000.0  2010000.0  211000  2010000.0\n",
       "2017-03-08  2010000.0  2031000.0  2007000.0  2010000.0  242800  2010000.0\n",
       "2017-03-09  2010000.0  2015000.0  2001000.0  2010000.0  287400  2010000.0\n",
       "2017-03-10  1998000.0  2021000.0  1993000.0  2009000.0  204500  2009000.0\n",
       "2017-03-13  2002000.0  2049000.0  2002000.0  2030000.0  148400  2030000.0\n",
       "2017-03-14  2031000.0  2077000.0  2025000.0  2068000.0  226500  2068000.0\n",
       "2017-03-15  2040000.0  2072000.0  2040000.0  2070000.0  191700  2070000.0\n",
       "2017-03-16  2090000.0  2109000.0  2077000.0  2092000.0  198600  2092000.0\n",
       "2017-03-17  2090000.0  2125000.0  2086000.0  2120000.0  252000  2120000.0\n",
       "2017-03-20  2100000.0  2106000.0  2087000.0  2095000.0  205000  2095000.0\n",
       "2017-03-21  2089000.0  2134000.0  2088000.0  2128000.0  284400  2128000.0"
      ]
     },
     "execution_count": 121,
     "metadata": {},
     "output_type": "execute_result"
    }
   ],
   "source": [
    "df['2016-07-01':'2017-12-31']"
   ]
  },
  {
   "cell_type": "code",
   "execution_count": 122,
   "metadata": {
    "collapsed": false
   },
   "outputs": [
    {
     "data": {
      "text/html": [
       "<div>\n",
       "<table border=\"1\" class=\"dataframe\">\n",
       "  <thead>\n",
       "    <tr style=\"text-align: right;\">\n",
       "      <th></th>\n",
       "      <th>Open</th>\n",
       "      <th>High</th>\n",
       "      <th>Low</th>\n",
       "      <th>Close</th>\n",
       "      <th>Volume</th>\n",
       "      <th>Adj Close</th>\n",
       "    </tr>\n",
       "    <tr>\n",
       "      <th>Date</th>\n",
       "      <th></th>\n",
       "      <th></th>\n",
       "      <th></th>\n",
       "      <th></th>\n",
       "      <th></th>\n",
       "      <th></th>\n",
       "    </tr>\n",
       "  </thead>\n",
       "  <tbody>\n",
       "    <tr>\n",
       "      <th>2017-02-01</th>\n",
       "      <td>1977000.0</td>\n",
       "      <td>1983000.0</td>\n",
       "      <td>1952000.0</td>\n",
       "      <td>1956000.0</td>\n",
       "      <td>283000</td>\n",
       "      <td>1956000.0</td>\n",
       "    </tr>\n",
       "    <tr>\n",
       "      <th>2017-02-02</th>\n",
       "      <td>1980000.0</td>\n",
       "      <td>1983000.0</td>\n",
       "      <td>1960000.0</td>\n",
       "      <td>1968000.0</td>\n",
       "      <td>300500</td>\n",
       "      <td>1968000.0</td>\n",
       "    </tr>\n",
       "    <tr>\n",
       "      <th>2017-02-03</th>\n",
       "      <td>1970000.0</td>\n",
       "      <td>1975000.0</td>\n",
       "      <td>1959000.0</td>\n",
       "      <td>1973000.0</td>\n",
       "      <td>207700</td>\n",
       "      <td>1973000.0</td>\n",
       "    </tr>\n",
       "    <tr>\n",
       "      <th>2017-02-06</th>\n",
       "      <td>1979000.0</td>\n",
       "      <td>1983000.0</td>\n",
       "      <td>1957000.0</td>\n",
       "      <td>1978000.0</td>\n",
       "      <td>177200</td>\n",
       "      <td>1978000.0</td>\n",
       "    </tr>\n",
       "    <tr>\n",
       "      <th>2017-02-07</th>\n",
       "      <td>1978000.0</td>\n",
       "      <td>1979000.0</td>\n",
       "      <td>1938000.0</td>\n",
       "      <td>1941000.0</td>\n",
       "      <td>280800</td>\n",
       "      <td>1941000.0</td>\n",
       "    </tr>\n",
       "    <tr>\n",
       "      <th>2017-02-08</th>\n",
       "      <td>1937000.0</td>\n",
       "      <td>1939000.0</td>\n",
       "      <td>1910000.0</td>\n",
       "      <td>1920000.0</td>\n",
       "      <td>341800</td>\n",
       "      <td>1920000.0</td>\n",
       "    </tr>\n",
       "    <tr>\n",
       "      <th>2017-02-09</th>\n",
       "      <td>1939000.0</td>\n",
       "      <td>1942000.0</td>\n",
       "      <td>1911000.0</td>\n",
       "      <td>1920000.0</td>\n",
       "      <td>273800</td>\n",
       "      <td>1920000.0</td>\n",
       "    </tr>\n",
       "    <tr>\n",
       "      <th>2017-02-10</th>\n",
       "      <td>1920000.0</td>\n",
       "      <td>1938000.0</td>\n",
       "      <td>1915000.0</td>\n",
       "      <td>1918000.0</td>\n",
       "      <td>220400</td>\n",
       "      <td>1918000.0</td>\n",
       "    </tr>\n",
       "    <tr>\n",
       "      <th>2017-02-13</th>\n",
       "      <td>1887000.0</td>\n",
       "      <td>1903000.0</td>\n",
       "      <td>1886000.0</td>\n",
       "      <td>1898000.0</td>\n",
       "      <td>222000</td>\n",
       "      <td>1898000.0</td>\n",
       "    </tr>\n",
       "    <tr>\n",
       "      <th>2017-02-14</th>\n",
       "      <td>1898000.0</td>\n",
       "      <td>1913000.0</td>\n",
       "      <td>1866000.0</td>\n",
       "      <td>1879000.0</td>\n",
       "      <td>262400</td>\n",
       "      <td>1879000.0</td>\n",
       "    </tr>\n",
       "    <tr>\n",
       "      <th>2017-02-15</th>\n",
       "      <td>1854000.0</td>\n",
       "      <td>1898000.0</td>\n",
       "      <td>1854000.0</td>\n",
       "      <td>1886000.0</td>\n",
       "      <td>283800</td>\n",
       "      <td>1886000.0</td>\n",
       "    </tr>\n",
       "    <tr>\n",
       "      <th>2017-02-16</th>\n",
       "      <td>1890000.0</td>\n",
       "      <td>1918000.0</td>\n",
       "      <td>1889000.0</td>\n",
       "      <td>1901000.0</td>\n",
       "      <td>204500</td>\n",
       "      <td>1901000.0</td>\n",
       "    </tr>\n",
       "    <tr>\n",
       "      <th>2017-02-17</th>\n",
       "      <td>1878000.0</td>\n",
       "      <td>1902000.0</td>\n",
       "      <td>1864000.0</td>\n",
       "      <td>1893000.0</td>\n",
       "      <td>307500</td>\n",
       "      <td>1893000.0</td>\n",
       "    </tr>\n",
       "    <tr>\n",
       "      <th>2017-02-20</th>\n",
       "      <td>1911000.0</td>\n",
       "      <td>1939000.0</td>\n",
       "      <td>1908000.0</td>\n",
       "      <td>1933000.0</td>\n",
       "      <td>149700</td>\n",
       "      <td>1933000.0</td>\n",
       "    </tr>\n",
       "    <tr>\n",
       "      <th>2017-02-21</th>\n",
       "      <td>1927000.0</td>\n",
       "      <td>1978000.0</td>\n",
       "      <td>1921000.0</td>\n",
       "      <td>1947000.0</td>\n",
       "      <td>211200</td>\n",
       "      <td>1947000.0</td>\n",
       "    </tr>\n",
       "    <tr>\n",
       "      <th>2017-02-22</th>\n",
       "      <td>1950000.0</td>\n",
       "      <td>1967000.0</td>\n",
       "      <td>1949000.0</td>\n",
       "      <td>1965000.0</td>\n",
       "      <td>170700</td>\n",
       "      <td>1965000.0</td>\n",
       "    </tr>\n",
       "    <tr>\n",
       "      <th>2017-02-23</th>\n",
       "      <td>1951000.0</td>\n",
       "      <td>1972000.0</td>\n",
       "      <td>1951000.0</td>\n",
       "      <td>1959000.0</td>\n",
       "      <td>204300</td>\n",
       "      <td>1959000.0</td>\n",
       "    </tr>\n",
       "    <tr>\n",
       "      <th>2017-02-24</th>\n",
       "      <td>1948000.0</td>\n",
       "      <td>1955000.0</td>\n",
       "      <td>1903000.0</td>\n",
       "      <td>1911000.0</td>\n",
       "      <td>185900</td>\n",
       "      <td>1911000.0</td>\n",
       "    </tr>\n",
       "    <tr>\n",
       "      <th>2017-02-27</th>\n",
       "      <td>1901000.0</td>\n",
       "      <td>1907000.0</td>\n",
       "      <td>1885000.0</td>\n",
       "      <td>1903000.0</td>\n",
       "      <td>180600</td>\n",
       "      <td>1903000.0</td>\n",
       "    </tr>\n",
       "    <tr>\n",
       "      <th>2017-02-28</th>\n",
       "      <td>1903000.0</td>\n",
       "      <td>1938000.0</td>\n",
       "      <td>1898000.0</td>\n",
       "      <td>1922000.0</td>\n",
       "      <td>301700</td>\n",
       "      <td>1922000.0</td>\n",
       "    </tr>\n",
       "    <tr>\n",
       "      <th>2017-03-01</th>\n",
       "      <td>1922000.0</td>\n",
       "      <td>1922000.0</td>\n",
       "      <td>1922000.0</td>\n",
       "      <td>1922000.0</td>\n",
       "      <td>0</td>\n",
       "      <td>1922000.0</td>\n",
       "    </tr>\n",
       "    <tr>\n",
       "      <th>2017-03-02</th>\n",
       "      <td>1921000.0</td>\n",
       "      <td>1993000.0</td>\n",
       "      <td>1921000.0</td>\n",
       "      <td>1986000.0</td>\n",
       "      <td>424900</td>\n",
       "      <td>1986000.0</td>\n",
       "    </tr>\n",
       "    <tr>\n",
       "      <th>2017-03-03</th>\n",
       "      <td>1967000.0</td>\n",
       "      <td>1986000.0</td>\n",
       "      <td>1958000.0</td>\n",
       "      <td>1981000.0</td>\n",
       "      <td>254100</td>\n",
       "      <td>1981000.0</td>\n",
       "    </tr>\n",
       "    <tr>\n",
       "      <th>2017-03-06</th>\n",
       "      <td>1961000.0</td>\n",
       "      <td>2011000.0</td>\n",
       "      <td>1961000.0</td>\n",
       "      <td>2004000.0</td>\n",
       "      <td>244600</td>\n",
       "      <td>2004000.0</td>\n",
       "    </tr>\n",
       "    <tr>\n",
       "      <th>2017-03-07</th>\n",
       "      <td>1990000.0</td>\n",
       "      <td>2016000.0</td>\n",
       "      <td>1990000.0</td>\n",
       "      <td>2010000.0</td>\n",
       "      <td>211000</td>\n",
       "      <td>2010000.0</td>\n",
       "    </tr>\n",
       "    <tr>\n",
       "      <th>2017-03-08</th>\n",
       "      <td>2010000.0</td>\n",
       "      <td>2031000.0</td>\n",
       "      <td>2007000.0</td>\n",
       "      <td>2010000.0</td>\n",
       "      <td>242800</td>\n",
       "      <td>2010000.0</td>\n",
       "    </tr>\n",
       "    <tr>\n",
       "      <th>2017-03-09</th>\n",
       "      <td>2010000.0</td>\n",
       "      <td>2015000.0</td>\n",
       "      <td>2001000.0</td>\n",
       "      <td>2010000.0</td>\n",
       "      <td>287400</td>\n",
       "      <td>2010000.0</td>\n",
       "    </tr>\n",
       "    <tr>\n",
       "      <th>2017-03-10</th>\n",
       "      <td>1998000.0</td>\n",
       "      <td>2021000.0</td>\n",
       "      <td>1993000.0</td>\n",
       "      <td>2009000.0</td>\n",
       "      <td>204500</td>\n",
       "      <td>2009000.0</td>\n",
       "    </tr>\n",
       "    <tr>\n",
       "      <th>2017-03-13</th>\n",
       "      <td>2002000.0</td>\n",
       "      <td>2049000.0</td>\n",
       "      <td>2002000.0</td>\n",
       "      <td>2030000.0</td>\n",
       "      <td>148400</td>\n",
       "      <td>2030000.0</td>\n",
       "    </tr>\n",
       "    <tr>\n",
       "      <th>2017-03-14</th>\n",
       "      <td>2031000.0</td>\n",
       "      <td>2077000.0</td>\n",
       "      <td>2025000.0</td>\n",
       "      <td>2068000.0</td>\n",
       "      <td>226500</td>\n",
       "      <td>2068000.0</td>\n",
       "    </tr>\n",
       "    <tr>\n",
       "      <th>2017-03-15</th>\n",
       "      <td>2040000.0</td>\n",
       "      <td>2072000.0</td>\n",
       "      <td>2040000.0</td>\n",
       "      <td>2070000.0</td>\n",
       "      <td>191700</td>\n",
       "      <td>2070000.0</td>\n",
       "    </tr>\n",
       "    <tr>\n",
       "      <th>2017-03-16</th>\n",
       "      <td>2090000.0</td>\n",
       "      <td>2109000.0</td>\n",
       "      <td>2077000.0</td>\n",
       "      <td>2092000.0</td>\n",
       "      <td>198600</td>\n",
       "      <td>2092000.0</td>\n",
       "    </tr>\n",
       "    <tr>\n",
       "      <th>2017-03-17</th>\n",
       "      <td>2090000.0</td>\n",
       "      <td>2125000.0</td>\n",
       "      <td>2086000.0</td>\n",
       "      <td>2120000.0</td>\n",
       "      <td>252000</td>\n",
       "      <td>2120000.0</td>\n",
       "    </tr>\n",
       "    <tr>\n",
       "      <th>2017-03-20</th>\n",
       "      <td>2100000.0</td>\n",
       "      <td>2106000.0</td>\n",
       "      <td>2087000.0</td>\n",
       "      <td>2095000.0</td>\n",
       "      <td>205000</td>\n",
       "      <td>2095000.0</td>\n",
       "    </tr>\n",
       "    <tr>\n",
       "      <th>2017-03-21</th>\n",
       "      <td>2089000.0</td>\n",
       "      <td>2134000.0</td>\n",
       "      <td>2088000.0</td>\n",
       "      <td>2128000.0</td>\n",
       "      <td>284400</td>\n",
       "      <td>2128000.0</td>\n",
       "    </tr>\n",
       "  </tbody>\n",
       "</table>\n",
       "</div>"
      ],
      "text/plain": [
       "                 Open       High        Low      Close  Volume  Adj Close\n",
       "Date                                                                     \n",
       "2017-02-01  1977000.0  1983000.0  1952000.0  1956000.0  283000  1956000.0\n",
       "2017-02-02  1980000.0  1983000.0  1960000.0  1968000.0  300500  1968000.0\n",
       "2017-02-03  1970000.0  1975000.0  1959000.0  1973000.0  207700  1973000.0\n",
       "2017-02-06  1979000.0  1983000.0  1957000.0  1978000.0  177200  1978000.0\n",
       "2017-02-07  1978000.0  1979000.0  1938000.0  1941000.0  280800  1941000.0\n",
       "2017-02-08  1937000.0  1939000.0  1910000.0  1920000.0  341800  1920000.0\n",
       "2017-02-09  1939000.0  1942000.0  1911000.0  1920000.0  273800  1920000.0\n",
       "2017-02-10  1920000.0  1938000.0  1915000.0  1918000.0  220400  1918000.0\n",
       "2017-02-13  1887000.0  1903000.0  1886000.0  1898000.0  222000  1898000.0\n",
       "2017-02-14  1898000.0  1913000.0  1866000.0  1879000.0  262400  1879000.0\n",
       "2017-02-15  1854000.0  1898000.0  1854000.0  1886000.0  283800  1886000.0\n",
       "2017-02-16  1890000.0  1918000.0  1889000.0  1901000.0  204500  1901000.0\n",
       "2017-02-17  1878000.0  1902000.0  1864000.0  1893000.0  307500  1893000.0\n",
       "2017-02-20  1911000.0  1939000.0  1908000.0  1933000.0  149700  1933000.0\n",
       "2017-02-21  1927000.0  1978000.0  1921000.0  1947000.0  211200  1947000.0\n",
       "2017-02-22  1950000.0  1967000.0  1949000.0  1965000.0  170700  1965000.0\n",
       "2017-02-23  1951000.0  1972000.0  1951000.0  1959000.0  204300  1959000.0\n",
       "2017-02-24  1948000.0  1955000.0  1903000.0  1911000.0  185900  1911000.0\n",
       "2017-02-27  1901000.0  1907000.0  1885000.0  1903000.0  180600  1903000.0\n",
       "2017-02-28  1903000.0  1938000.0  1898000.0  1922000.0  301700  1922000.0\n",
       "2017-03-01  1922000.0  1922000.0  1922000.0  1922000.0       0  1922000.0\n",
       "2017-03-02  1921000.0  1993000.0  1921000.0  1986000.0  424900  1986000.0\n",
       "2017-03-03  1967000.0  1986000.0  1958000.0  1981000.0  254100  1981000.0\n",
       "2017-03-06  1961000.0  2011000.0  1961000.0  2004000.0  244600  2004000.0\n",
       "2017-03-07  1990000.0  2016000.0  1990000.0  2010000.0  211000  2010000.0\n",
       "2017-03-08  2010000.0  2031000.0  2007000.0  2010000.0  242800  2010000.0\n",
       "2017-03-09  2010000.0  2015000.0  2001000.0  2010000.0  287400  2010000.0\n",
       "2017-03-10  1998000.0  2021000.0  1993000.0  2009000.0  204500  2009000.0\n",
       "2017-03-13  2002000.0  2049000.0  2002000.0  2030000.0  148400  2030000.0\n",
       "2017-03-14  2031000.0  2077000.0  2025000.0  2068000.0  226500  2068000.0\n",
       "2017-03-15  2040000.0  2072000.0  2040000.0  2070000.0  191700  2070000.0\n",
       "2017-03-16  2090000.0  2109000.0  2077000.0  2092000.0  198600  2092000.0\n",
       "2017-03-17  2090000.0  2125000.0  2086000.0  2120000.0  252000  2120000.0\n",
       "2017-03-20  2100000.0  2106000.0  2087000.0  2095000.0  205000  2095000.0\n",
       "2017-03-21  2089000.0  2134000.0  2088000.0  2128000.0  284400  2128000.0"
      ]
     },
     "execution_count": 122,
     "metadata": {},
     "output_type": "execute_result"
    }
   ],
   "source": [
    "df['2017-01-01':]"
   ]
  },
  {
   "cell_type": "code",
   "execution_count": 123,
   "metadata": {
    "collapsed": false
   },
   "outputs": [
    {
     "data": {
      "text/html": [
       "<div>\n",
       "<table border=\"1\" class=\"dataframe\">\n",
       "  <thead>\n",
       "    <tr style=\"text-align: right;\">\n",
       "      <th></th>\n",
       "      <th>Open</th>\n",
       "      <th>High</th>\n",
       "      <th>Low</th>\n",
       "      <th>Close</th>\n",
       "      <th>Volume</th>\n",
       "      <th>Adj Close</th>\n",
       "    </tr>\n",
       "  </thead>\n",
       "  <tbody>\n",
       "    <tr>\n",
       "      <th>count</th>\n",
       "      <td>3.500000e+01</td>\n",
       "      <td>3.500000e+01</td>\n",
       "      <td>3.500000e+01</td>\n",
       "      <td>3.500000e+01</td>\n",
       "      <td>35.000000</td>\n",
       "      <td>3.500000e+01</td>\n",
       "    </tr>\n",
       "    <tr>\n",
       "      <th>mean</th>\n",
       "      <td>1.965686e+06</td>\n",
       "      <td>1.987971e+06</td>\n",
       "      <td>1.955257e+06</td>\n",
       "      <td>1.974457e+06</td>\n",
       "      <td>232725.714286</td>\n",
       "      <td>1.974457e+06</td>\n",
       "    </tr>\n",
       "    <tr>\n",
       "      <th>std</th>\n",
       "      <td>6.396128e+04</td>\n",
       "      <td>6.656465e+04</td>\n",
       "      <td>6.574520e+04</td>\n",
       "      <td>6.923674e+04</td>\n",
       "      <td>70378.377958</td>\n",
       "      <td>6.923674e+04</td>\n",
       "    </tr>\n",
       "    <tr>\n",
       "      <th>min</th>\n",
       "      <td>1.854000e+06</td>\n",
       "      <td>1.898000e+06</td>\n",
       "      <td>1.854000e+06</td>\n",
       "      <td>1.879000e+06</td>\n",
       "      <td>0.000000</td>\n",
       "      <td>1.879000e+06</td>\n",
       "    </tr>\n",
       "    <tr>\n",
       "      <th>25%</th>\n",
       "      <td>1.920500e+06</td>\n",
       "      <td>1.938500e+06</td>\n",
       "      <td>1.909000e+06</td>\n",
       "      <td>1.920000e+06</td>\n",
       "      <td>201450.000000</td>\n",
       "      <td>1.920000e+06</td>\n",
       "    </tr>\n",
       "    <tr>\n",
       "      <th>50%</th>\n",
       "      <td>1.961000e+06</td>\n",
       "      <td>1.979000e+06</td>\n",
       "      <td>1.951000e+06</td>\n",
       "      <td>1.965000e+06</td>\n",
       "      <td>222000.000000</td>\n",
       "      <td>1.965000e+06</td>\n",
       "    </tr>\n",
       "    <tr>\n",
       "      <th>75%</th>\n",
       "      <td>2.000000e+06</td>\n",
       "      <td>2.018500e+06</td>\n",
       "      <td>1.997000e+06</td>\n",
       "      <td>2.010000e+06</td>\n",
       "      <td>281900.000000</td>\n",
       "      <td>2.010000e+06</td>\n",
       "    </tr>\n",
       "    <tr>\n",
       "      <th>max</th>\n",
       "      <td>2.100000e+06</td>\n",
       "      <td>2.134000e+06</td>\n",
       "      <td>2.088000e+06</td>\n",
       "      <td>2.128000e+06</td>\n",
       "      <td>424900.000000</td>\n",
       "      <td>2.128000e+06</td>\n",
       "    </tr>\n",
       "  </tbody>\n",
       "</table>\n",
       "</div>"
      ],
      "text/plain": [
       "               Open          High           Low         Close         Volume  \\\n",
       "count  3.500000e+01  3.500000e+01  3.500000e+01  3.500000e+01      35.000000   \n",
       "mean   1.965686e+06  1.987971e+06  1.955257e+06  1.974457e+06  232725.714286   \n",
       "std    6.396128e+04  6.656465e+04  6.574520e+04  6.923674e+04   70378.377958   \n",
       "min    1.854000e+06  1.898000e+06  1.854000e+06  1.879000e+06       0.000000   \n",
       "25%    1.920500e+06  1.938500e+06  1.909000e+06  1.920000e+06  201450.000000   \n",
       "50%    1.961000e+06  1.979000e+06  1.951000e+06  1.965000e+06  222000.000000   \n",
       "75%    2.000000e+06  2.018500e+06  1.997000e+06  2.010000e+06  281900.000000   \n",
       "max    2.100000e+06  2.134000e+06  2.088000e+06  2.128000e+06  424900.000000   \n",
       "\n",
       "          Adj Close  \n",
       "count  3.500000e+01  \n",
       "mean   1.974457e+06  \n",
       "std    6.923674e+04  \n",
       "min    1.879000e+06  \n",
       "25%    1.920000e+06  \n",
       "50%    1.965000e+06  \n",
       "75%    2.010000e+06  \n",
       "max    2.128000e+06  "
      ]
     },
     "execution_count": 123,
     "metadata": {},
     "output_type": "execute_result"
    }
   ],
   "source": [
    "df.describe()"
   ]
  },
  {
   "cell_type": "markdown",
   "metadata": {},
   "source": [
    "## 주식 데이터 표현 예제"
   ]
  },
  {
   "cell_type": "code",
   "execution_count": null,
   "metadata": {
    "collapsed": false
   },
   "outputs": [],
   "source": [
    "import pandas as pd\n",
    "import pandas_datareader.data\n",
    "import requests\n",
    "import datetime\n",
    "import matplotlib.pyplot as plt\n",
    "\n",
    "CODE='005930.KS'\n",
    "df = pandas_datareader.data.DataReader(CODE, \"yahoo\", '2017-01-01', datetime.datetime.now())\n",
    "\n",
    "df['MA_5'] = df['Adj Close'].rolling(window=5, center=False).mean()\n",
    "df['MA_20'] = df['Adj Close'].rolling(window=20, center=False).mean()\n",
    "df['diff'] = df['MA_5'] - df['MA_20']"
   ]
  },
  {
   "cell_type": "code",
   "execution_count": 71,
   "metadata": {
    "collapsed": false
   },
   "outputs": [
    {
     "data": {
      "text/plain": [
       "<bound method FramePlotMethods.line of <pandas.tools.plotting.FramePlotMethods object at 0x0CF71B50>>"
      ]
     },
     "execution_count": 71,
     "metadata": {},
     "output_type": "execute_result"
    }
   ],
   "source": []
  },
  {
   "cell_type": "code",
   "execution_count": null,
   "metadata": {
    "collapsed": true
   },
   "outputs": [],
   "source": [
    "fig = plt.gcf()\n",
    "fig.set_size_inches(16,8)\n",
    "\n",
    "#price(가격)\n",
    "price_chart = plt.subplot2grid((4,1),(0,0),rowspan=2)\n",
    "price_chart.plot(df.index, df['Adj Close'], label = 'Adj Close')\n",
    "price_chart.plot(df.index, df['MA_5'], label = 'MA_5')\n",
    "price_chart.plot(df.index, df['MA_20'], label = 'MA_20')\n",
    "\n",
    "plt.title(\"Samsung 2017\")\n",
    "plt.legend(loc='best')\n",
    "\n",
    "vol_chart = plt.subplot2grid((4,1),(2,0), rowspan = 1)\n",
    "vol_chart.bar(df.index, df['Volume'], color = 'c')\n",
    "\n",
    "signal_chart = plt.subplot2grid((4,1), (3,0), rowspan=1)\n",
    "signal_chart.plot(df.index, df['diff'].fillna(0), color = 'g')\n",
    "plt.axhline(y=0, linestyle = '--', color = 'k')\n",
    "\n",
    "prev_key = prev_val = 0\n",
    "for key, val in df['diff'][1:].iteritems():\n",
    "    if val == 0:\n",
    "        continue\n",
    "    elif val * prev_val < 0 and val > prev_val:\n",
    "        print('GOLD', key, val)\n",
    "        price_chart.annotate('Golden', xy = (key, df['MA_20'][key]), xytext=(10,-30), \n",
    "                             textcoords='offset points', arrowprops=dict(arrowstyle='-|>'))        \n",
    "        signal_chart.annotate('BUY', xy = (key, df['diff'][key]), xytext=(10,-30),\n",
    "                              textcoords='offset points', arrowprops=dict(arrowstyle='-|>'))        \n",
    "    elif val * prev_val < 0 and val < prev_val:\n",
    "        print('DEAD', key, val)\n",
    "        price_chart.annotate('Dead', xy = (key, df['MA_20'][key]), xytext=(10,30),\n",
    "                             textcoords='offset points', arrowprops=dict(arrowstyle='-|>'))\n",
    "        signal_chart.annotate('Sell', xy = (key, df['diff'][key]), xytext=(10,30),\n",
    "                             textcoords='offset points', arrowprops=dict(arrowstyle='-|>'))\n",
    "    prev_key, prev_val = key, val\n"
   ]
  },
  {
   "cell_type": "code",
   "execution_count": null,
   "metadata": {
    "collapsed": true
   },
   "outputs": [],
   "source": [
    "plt.show()"
   ]
  },
  {
   "cell_type": "code",
   "execution_count": 105,
   "metadata": {
    "collapsed": true
   },
   "outputs": [],
   "source": [
    "import pandas as pd\n",
    "import pandas_datareader.data\n",
    "import requests\n",
    "import datetime\n",
    "import matplotlib.pyplot as plt\n",
    "\n",
    "CODE='005930.KS'\n",
    "df = pandas_datareader.data.DataReader(CODE, \"yahoo\", '2017-01-01', datetime.datetime.now())"
   ]
  },
  {
   "cell_type": "code",
   "execution_count": 106,
   "metadata": {
    "collapsed": false
   },
   "outputs": [
    {
     "data": {
      "text/html": [
       "<div>\n",
       "<table border=\"1\" class=\"dataframe\">\n",
       "  <thead>\n",
       "    <tr style=\"text-align: right;\">\n",
       "      <th></th>\n",
       "      <th>Open</th>\n",
       "      <th>High</th>\n",
       "      <th>Low</th>\n",
       "      <th>Close</th>\n",
       "      <th>Volume</th>\n",
       "      <th>Adj Close</th>\n",
       "    </tr>\n",
       "    <tr>\n",
       "      <th>Date</th>\n",
       "      <th></th>\n",
       "      <th></th>\n",
       "      <th></th>\n",
       "      <th></th>\n",
       "      <th></th>\n",
       "      <th></th>\n",
       "    </tr>\n",
       "  </thead>\n",
       "  <tbody>\n",
       "    <tr>\n",
       "      <th>2017-03-17</th>\n",
       "      <td>2090000.0</td>\n",
       "      <td>2125000.0</td>\n",
       "      <td>2086000.0</td>\n",
       "      <td>2120000.0</td>\n",
       "      <td>252000</td>\n",
       "      <td>2120000.0</td>\n",
       "    </tr>\n",
       "    <tr>\n",
       "      <th>2017-03-20</th>\n",
       "      <td>2100000.0</td>\n",
       "      <td>2106000.0</td>\n",
       "      <td>2087000.0</td>\n",
       "      <td>2095000.0</td>\n",
       "      <td>205000</td>\n",
       "      <td>2095000.0</td>\n",
       "    </tr>\n",
       "    <tr>\n",
       "      <th>2017-03-21</th>\n",
       "      <td>2089000.0</td>\n",
       "      <td>2134000.0</td>\n",
       "      <td>2088000.0</td>\n",
       "      <td>2128000.0</td>\n",
       "      <td>284400</td>\n",
       "      <td>2128000.0</td>\n",
       "    </tr>\n",
       "  </tbody>\n",
       "</table>\n",
       "</div>"
      ],
      "text/plain": [
       "                 Open       High        Low      Close  Volume  Adj Close\n",
       "Date                                                                     \n",
       "2017-03-17  2090000.0  2125000.0  2086000.0  2120000.0  252000  2120000.0\n",
       "2017-03-20  2100000.0  2106000.0  2087000.0  2095000.0  205000  2095000.0\n",
       "2017-03-21  2089000.0  2134000.0  2088000.0  2128000.0  284400  2128000.0"
      ]
     },
     "execution_count": 106,
     "metadata": {},
     "output_type": "execute_result"
    }
   ],
   "source": [
    "df.tail(3)"
   ]
  },
  {
   "cell_type": "code",
   "execution_count": 109,
   "metadata": {
    "collapsed": false
   },
   "outputs": [
    {
     "data": {
      "image/png": "[encoded data removed]",
      "text/plain": [
       "<matplotlib.figure.Figure at 0xcf6e7b0>"
      ]
     },
     "metadata": {},
     "output_type": "display_data"
    }
   ],
   "source": [
    "plt.show()"
   ]
  },
  {
   "cell_type": "markdown",
   "metadata": {},
   "source": [
    "1. Clipboard에 있는것을 pandas형식으로 저장\n",
    " - 웹페이지의 단어를 Copy : <a href =\"http://www.koreabaseball.com/teamrank/teamrank.aspx\"> 야구 순위 </a>"
   ]
  },
  {
   "cell_type": "code",
   "execution_count": null,
   "metadata": {
    "collapsed": true
   },
   "outputs": [],
   "source": [
    "#df = pd.read_clipboard()"
   ]
  },
  {
   "cell_type": "markdown",
   "metadata": {},
   "source": [
    "[Object Creation]"
   ]
  },
  {
   "cell_type": "code",
   "execution_count": null,
   "metadata": {
    "collapsed": false
   },
   "outputs": [],
   "source": [
    "import pandas as pd\n",
    "import numpy as np\n",
    "import matplotlib.pyplot as plt\n",
    "\n",
    "s = pd.Series([1,3,5,np.nan, 6,8])"
   ]
  },
  {
   "cell_type": "code",
   "execution_count": null,
   "metadata": {
    "collapsed": false
   },
   "outputs": [],
   "source": [
    "s"
   ]
  },
  {
   "cell_type": "code",
   "execution_count": null,
   "metadata": {
    "collapsed": false
   },
   "outputs": [],
   "source": [
    "data = np.zeros((2,), dtype=[('A', 'i4'),('B', 'f4'),('C', 'a10')])"
   ]
  },
  {
   "cell_type": "code",
   "execution_count": null,
   "metadata": {
    "collapsed": false
   },
   "outputs": [],
   "source": [
    "data"
   ]
  },
  {
   "cell_type": "code",
   "execution_count": null,
   "metadata": {
    "collapsed": true
   },
   "outputs": [],
   "source": [
    "data[:] = [(1,2,'hello'), (2,3,'world')]"
   ]
  },
  {
   "cell_type": "code",
   "execution_count": null,
   "metadata": {
    "collapsed": false
   },
   "outputs": [],
   "source": [
    "data"
   ]
  },
  {
   "cell_type": "code",
   "execution_count": null,
   "metadata": {
    "collapsed": false
   },
   "outputs": [],
   "source": [
    "pd.DataFrame(data)"
   ]
  },
  {
   "cell_type": "code",
   "execution_count": null,
   "metadata": {
    "collapsed": true
   },
   "outputs": [],
   "source": [
    "data2 = [{'a': 1, 'b': 2}, {'a': 5, 'b': 10, 'c': 20}]"
   ]
  },
  {
   "cell_type": "code",
   "execution_count": null,
   "metadata": {
    "collapsed": false
   },
   "outputs": [],
   "source": [
    "pd.DataFrame(data2)"
   ]
  },
  {
   "cell_type": "code",
   "execution_count": null,
   "metadata": {
    "collapsed": true
   },
   "outputs": [],
   "source": [
    "d = {'one' : [1., 2., 3., ],}"
   ]
  },
  {
   "cell_type": "code",
   "execution_count": null,
   "metadata": {
    "collapsed": true
   },
   "outputs": [],
   "source": [
    "df = pd.DataFrame(d)"
   ]
  },
  {
   "cell_type": "code",
   "execution_count": null,
   "metadata": {
    "collapsed": false
   },
   "outputs": [],
   "source": [
    "df"
   ]
  },
  {
   "cell_type": "code",
   "execution_count": null,
   "metadata": {
    "collapsed": false
   },
   "outputs": [],
   "source": [
    "e = {'one' : [1., 2., 3., 4. ],}"
   ]
  },
  {
   "cell_type": "code",
   "execution_count": null,
   "metadata": {
    "collapsed": false
   },
   "outputs": [],
   "source": [
    "e = pd.DataFrame(e)"
   ]
  },
  {
   "cell_type": "code",
   "execution_count": null,
   "metadata": {
    "collapsed": false
   },
   "outputs": [],
   "source": [
    "e"
   ]
  },
  {
   "cell_type": "code",
   "execution_count": null,
   "metadata": {
    "collapsed": false
   },
   "outputs": [],
   "source": [
    "df.insert(1, 'bar', e)"
   ]
  },
  {
   "cell_type": "code",
   "execution_count": null,
   "metadata": {
    "collapsed": false
   },
   "outputs": [],
   "source": [
    "df"
   ]
  },
  {
   "cell_type": "code",
   "execution_count": null,
   "metadata": {
    "collapsed": true
   },
   "outputs": [],
   "source": [
    "df1 = e"
   ]
  },
  {
   "cell_type": "code",
   "execution_count": null,
   "metadata": {
    "collapsed": false
   },
   "outputs": [],
   "source": [
    "df1.insert(1, 'bar', e)"
   ]
  },
  {
   "cell_type": "code",
   "execution_count": null,
   "metadata": {
    "collapsed": false
   },
   "outputs": [],
   "source": [
    "df1"
   ]
  },
  {
   "cell_type": "code",
   "execution_count": null,
   "metadata": {
    "collapsed": true
   },
   "outputs": [],
   "source": [
    "index = pd.date_range('1/1/2000', periods=8)"
   ]
  },
  {
   "cell_type": "code",
   "execution_count": null,
   "metadata": {
    "collapsed": true
   },
   "outputs": [],
   "source": [
    "df = pd.DataFrame(np.random.randn(8, 3), index=index, columns=list('ABC'))"
   ]
  },
  {
   "cell_type": "code",
   "execution_count": null,
   "metadata": {
    "collapsed": false
   },
   "outputs": [],
   "source": [
    "index"
   ]
  },
  {
   "cell_type": "code",
   "execution_count": null,
   "metadata": {
    "collapsed": false
   },
   "outputs": [],
   "source": [
    "df"
   ]
  },
  {
   "cell_type": "code",
   "execution_count": null,
   "metadata": {
    "collapsed": false
   },
   "outputs": [],
   "source": [
    "df.loc['2000-01-01']"
   ]
  },
  {
   "cell_type": "code",
   "execution_count": null,
   "metadata": {
    "collapsed": false
   },
   "outputs": [],
   "source": [
    "df"
   ]
  },
  {
   "cell_type": "code",
   "execution_count": null,
   "metadata": {
    "collapsed": false
   },
   "outputs": [],
   "source": [
    "df.sub(df['A'], axis=0)"
   ]
  },
  {
   "cell_type": "code",
   "execution_count": null,
   "metadata": {
    "collapsed": false
   },
   "outputs": [],
   "source": [
    "df.info()"
   ]
  },
  {
   "cell_type": "code",
   "execution_count": null,
   "metadata": {
    "collapsed": false
   },
   "outputs": [],
   "source": [
    "df.A"
   ]
  },
  {
   "cell_type": "code",
   "execution_count": null,
   "metadata": {
    "collapsed": true
   },
   "outputs": [],
   "source": [
    "midx = pd.MultiIndex(levels=[['one', 'two'], ['x','y']], labels=[[1,1,0,0],[1,0,1,0]])\n"
   ]
  },
  {
   "cell_type": "code",
   "execution_count": null,
   "metadata": {
    "collapsed": false
   },
   "outputs": [],
   "source": [
    "midx"
   ]
  },
  {
   "cell_type": "code",
   "execution_count": null,
   "metadata": {
    "collapsed": true
   },
   "outputs": [],
   "source": [
    "df = pd.DataFrame({'A' : [1, 2, 3, 4], 'B': [5, 6, 7, 8]}, index=midx)\n"
   ]
  },
  {
   "cell_type": "code",
   "execution_count": null,
   "metadata": {
    "collapsed": false
   },
   "outputs": [],
   "source": [
    "df"
   ]
  },
  {
   "cell_type": "code",
   "execution_count": null,
   "metadata": {
    "collapsed": true
   },
   "outputs": [],
   "source": [
    "pn = df.to_panel()"
   ]
  },
  {
   "cell_type": "code",
   "execution_count": null,
   "metadata": {
    "collapsed": false
   },
   "outputs": [],
   "source": [
    "pn"
   ]
  }
 ],
 "metadata": {
  "anaconda-cloud": {},
  "kernelspec": {
   "display_name": "Python [default]",
   "language": "python",
   "name": "python3"
  },
  "language_info": {
   "codemirror_mode": {
    "name": "ipython",
    "version": 3
   },
   "file_extension": ".py",
   "mimetype": "text/x-python",
   "name": "python",
   "nbconvert_exporter": "python",
   "pygments_lexer": "ipython3",
   "version": "3.5.2"
  },
  "nbpresent": {
   "slides": {
    "00870f5c-31a5-4208-a7b7-2d38d83ed4d7": {
     "id": "00870f5c-31a5-4208-a7b7-2d38d83ed4d7",
     "prev": "6a553b2a-266d-470d-87be-e2f56a222553",
     "regions": {
      "82cbe250-fc56-40db-9191-5d1697561dca": {
       "attrs": {
        "height": 0.8,
        "width": 0.8,
        "x": 0.1,
        "y": 0.1
       },
       "content": {
        "cell": "20e352ab-edf1-4638-8aac-94e0828c1706",
        "part": "whole"
       },
       "id": "82cbe250-fc56-40db-9191-5d1697561dca"
      }
     }
    },
    "0e23b95f-a5e3-4e54-be93-9fadbce5d094": {
     "id": "0e23b95f-a5e3-4e54-be93-9fadbce5d094",
     "prev": "9e696514-1c3c-40a0-8428-761c2a8362d6",
     "regions": {
      "03c550f2-9809-46f1-8a0f-a815934eac3b": {
       "attrs": {
        "height": 0.8,
        "width": 0.8,
        "x": 0.1,
        "y": 0.1
       },
       "content": {
        "cell": "49be9dae-a566-426a-b455-ae4a207bc3e2",
        "part": "whole"
       },
       "id": "03c550f2-9809-46f1-8a0f-a815934eac3b"
      }
     }
    },
    "0e3dba63-13e2-4b7a-86cb-872f924d872f": {
     "id": "0e3dba63-13e2-4b7a-86cb-872f924d872f",
     "prev": null,
     "regions": {
      "51130638-3ad6-4459-8310-35f20d890f6c": {
       "attrs": {
        "height": 0.8,
        "width": 0.8,
        "x": 0.1,
        "y": 0.1
       },
       "content": {
        "cell": "e66d5c5e-12a7-4e3a-9e90-c13209cbcb9e",
        "part": "whole"
       },
       "id": "51130638-3ad6-4459-8310-35f20d890f6c"
      }
     }
    },
    "0f0390cb-2a89-49f3-90cd-f8e790473b2c": {
     "id": "0f0390cb-2a89-49f3-90cd-f8e790473b2c",
     "prev": "b4379257-b19c-4eeb-81a1-2b5f02b785c1",
     "regions": {
      "b0c1b299-8c8d-4a77-8513-67a8c5f44f68": {
       "attrs": {
        "height": 0.8,
        "width": 0.8,
        "x": 0.1,
        "y": 0.1
       },
       "content": {
        "cell": "932d560b-5e40-4311-9ed4-267bfed1244e",
        "part": "whole"
       },
       "id": "b0c1b299-8c8d-4a77-8513-67a8c5f44f68"
      }
     }
    },
    "1470d8ae-6651-4e77-aa56-2c9f42ccb1c5": {
     "id": "1470d8ae-6651-4e77-aa56-2c9f42ccb1c5",
     "prev": "0e23b95f-a5e3-4e54-be93-9fadbce5d094",
     "regions": {
      "663fa50c-4268-4b19-b1eb-2e7ace42fb78": {
       "attrs": {
        "height": 0.8,
        "width": 0.8,
        "x": 0.1,
        "y": 0.1
       },
       "content": {
        "cell": "ed924741-ca42-456a-8693-8cf881d51a33",
        "part": "whole"
       },
       "id": "663fa50c-4268-4b19-b1eb-2e7ace42fb78"
      }
     }
    },
    "3e9b9061-bfa6-4b6d-89d0-e1a5d6bbff79": {
     "id": "3e9b9061-bfa6-4b6d-89d0-e1a5d6bbff79",
     "prev": "bdcae75d-3237-4aab-93f2-3c59de0274b4",
     "regions": {
      "6601da4c-4ad2-4e2c-b596-7bd71d52970b": {
       "attrs": {
        "height": 0.8,
        "width": 0.8,
        "x": 0.1,
        "y": 0.1
       },
       "content": {
        "cell": "6864bb3d-20e4-4a07-886e-09f118a76812",
        "part": "whole"
       },
       "id": "6601da4c-4ad2-4e2c-b596-7bd71d52970b"
      }
     }
    },
    "4a293482-4dbd-48bb-90bc-583bd6a3f073": {
     "id": "4a293482-4dbd-48bb-90bc-583bd6a3f073",
     "prev": "ab3dbcc8-d92f-46d3-82b7-35950cdd9d4a",
     "regions": {
      "63d7de15-d00d-4e2e-b718-7320a5da48d9": {
       "attrs": {
        "height": 0.8,
        "width": 0.8,
        "x": 0.1,
        "y": 0.1
       },
       "content": {
        "cell": "17d3dfc4-8c9b-4161-aff0-08135ce7cf20",
        "part": "whole"
       },
       "id": "63d7de15-d00d-4e2e-b718-7320a5da48d9"
      }
     }
    },
    "4bee371b-0c15-429c-8da0-af26970be1f5": {
     "id": "4bee371b-0c15-429c-8da0-af26970be1f5",
     "prev": "fcef3fed-f763-4b67-8aff-6f7fee4cc733",
     "regions": {
      "15918063-4d0a-4d74-af73-ac0db915039b": {
       "attrs": {
        "height": 0.8,
        "width": 0.8,
        "x": 0.1,
        "y": 0.1
       },
       "content": {
        "cell": "bc1eb46c-fb0a-4bd3-852c-c143041ede5c",
        "part": "whole"
       },
       "id": "15918063-4d0a-4d74-af73-ac0db915039b"
      }
     }
    },
    "512b4732-4b42-46d9-8d5a-d444a7957926": {
     "id": "512b4732-4b42-46d9-8d5a-d444a7957926",
     "prev": "98bb26cf-7edf-4876-b004-bc69d9b2b41d",
     "regions": {
      "9a9e3d8c-451c-417b-ac6a-cfe1adf3559f": {
       "attrs": {
        "height": 1,
        "width": 1,
        "x": 0,
        "y": 0
       },
       "id": "9a9e3d8c-451c-417b-ac6a-cfe1adf3559f"
      }
     }
    },
    "6a553b2a-266d-470d-87be-e2f56a222553": {
     "id": "6a553b2a-266d-470d-87be-e2f56a222553",
     "prev": "4bee371b-0c15-429c-8da0-af26970be1f5",
     "regions": {
      "167940fd-cef0-45c7-887b-3480580a469d": {
       "attrs": {
        "height": 0.8,
        "width": 0.8,
        "x": 0.1,
        "y": 0.1
       },
       "content": {
        "cell": "714e0777-6935-497a-b23e-5a38d0db64e1",
        "part": "whole"
       },
       "id": "167940fd-cef0-45c7-887b-3480580a469d"
      }
     }
    },
    "7809296a-f0ce-4571-a300-79b8676d48e4": {
     "id": "7809296a-f0ce-4571-a300-79b8676d48e4",
     "prev": "1470d8ae-6651-4e77-aa56-2c9f42ccb1c5",
     "regions": {
      "149a4f14-1baf-4185-956a-955c1965f1c6": {
       "attrs": {
        "height": 0.8,
        "width": 0.8,
        "x": 0.1,
        "y": 0.1
       },
       "content": {
        "cell": "ad387461-4005-4e32-85dd-bae890bd3379",
        "part": "whole"
       },
       "id": "149a4f14-1baf-4185-956a-955c1965f1c6"
      }
     }
    },
    "8d2ea0de-4597-48b8-91b0-c75ad79c328d": {
     "id": "8d2ea0de-4597-48b8-91b0-c75ad79c328d",
     "prev": "988f7f09-2623-4d16-978f-7651877bf00a",
     "regions": {
      "5097b89d-e19f-4a1f-8c6e-133757b92af1": {
       "attrs": {
        "height": 0.8,
        "width": 0.8,
        "x": 0.1,
        "y": 0.1
       },
       "content": {
        "cell": "4a38d4ae-1654-4126-ae5b-330eae12f00f",
        "part": "whole"
       },
       "id": "5097b89d-e19f-4a1f-8c6e-133757b92af1"
      }
     }
    },
    "8f46b258-371f-4050-8296-7879cc833a51": {
     "id": "8f46b258-371f-4050-8296-7879cc833a51",
     "prev": "b5010567-1802-4449-8280-abf8867e5e08",
     "regions": {
      "dc2a3459-0371-4c1d-aaad-a7b9ca9beaa1": {
       "attrs": {
        "height": 0.8,
        "width": 0.8,
        "x": 0.1,
        "y": 0.1
       },
       "content": {
        "cell": "45c30890-f0ab-4aff-a38e-9cc1f09b97e3",
        "part": "whole"
       },
       "id": "dc2a3459-0371-4c1d-aaad-a7b9ca9beaa1"
      }
     }
    },
    "95aac8f4-df31-4104-943e-399b03956bb7": {
     "id": "95aac8f4-df31-4104-943e-399b03956bb7",
     "prev": "00870f5c-31a5-4208-a7b7-2d38d83ed4d7",
     "regions": {
      "3519c092-2961-4edd-bd81-4178bb017e4a": {
       "attrs": {
        "height": 0.8,
        "width": 0.8,
        "x": 0.1,
        "y": 0.1
       },
       "content": {
        "cell": "032d0ffe-fcc4-489f-8afe-c592a0bb615e",
        "part": "whole"
       },
       "id": "3519c092-2961-4edd-bd81-4178bb017e4a"
      }
     }
    },
    "988f7f09-2623-4d16-978f-7651877bf00a": {
     "id": "988f7f09-2623-4d16-978f-7651877bf00a",
     "prev": "0f0390cb-2a89-49f3-90cd-f8e790473b2c",
     "regions": {
      "3c886705-ea62-4b96-9f87-41f4941c18d1": {
       "attrs": {
        "height": 0.8,
        "width": 0.8,
        "x": 0.1,
        "y": 0.1
       },
       "content": {
        "cell": "54edce2a-b734-418b-8e35-ab3f5483988a",
        "part": "whole"
       },
       "id": "3c886705-ea62-4b96-9f87-41f4941c18d1"
      }
     }
    },
    "98bb26cf-7edf-4876-b004-bc69d9b2b41d": {
     "id": "98bb26cf-7edf-4876-b004-bc69d9b2b41d",
     "prev": "cbdd725e-7f09-447b-be3d-c4c764fff67b",
     "regions": {
      "c644d39c-1b21-4b88-a929-fcc8d068032d": {
       "attrs": {
        "height": 0.8,
        "width": 0.8,
        "x": 0.1,
        "y": 0.1
       },
       "content": {
        "cell": "8b93f980-e6fd-4e04-9102-055a0adf8083",
        "part": "whole"
       },
       "id": "c644d39c-1b21-4b88-a929-fcc8d068032d"
      }
     }
    },
    "9e696514-1c3c-40a0-8428-761c2a8362d6": {
     "id": "9e696514-1c3c-40a0-8428-761c2a8362d6",
     "prev": "8d2ea0de-4597-48b8-91b0-c75ad79c328d",
     "regions": {
      "fdfd4c33-74b3-4adb-bb7b-556e841e3a18": {
       "attrs": {
        "height": 0.8,
        "width": 0.8,
        "x": 0.1,
        "y": 0.1
       },
       "content": {
        "cell": "b689cd05-fb87-402a-b739-24fb7e5b1890",
        "part": "whole"
       },
       "id": "fdfd4c33-74b3-4adb-bb7b-556e841e3a18"
      }
     }
    },
    "a6f9351c-b4f9-4a1d-931d-68755bf1887a": {
     "id": "a6f9351c-b4f9-4a1d-931d-68755bf1887a",
     "prev": "4a293482-4dbd-48bb-90bc-583bd6a3f073",
     "regions": {
      "fb570c40-1760-4573-8fdd-c8b04ad43540": {
       "attrs": {
        "height": 0.8,
        "width": 0.8,
        "x": 0.1,
        "y": 0.1
       },
       "content": {
        "cell": "c71482d8-3d84-4cd7-a865-cdbf346c8aa1",
        "part": "whole"
       },
       "id": "fb570c40-1760-4573-8fdd-c8b04ad43540"
      }
     }
    },
    "ab3dbcc8-d92f-46d3-82b7-35950cdd9d4a": {
     "id": "ab3dbcc8-d92f-46d3-82b7-35950cdd9d4a",
     "prev": "ac0c7e3b-d1f9-4302-80c1-a01bbfca315c",
     "regions": {
      "e1c2a0bc-91f5-4638-b0d4-ab9692c0baae": {
       "attrs": {
        "height": 0.8,
        "width": 0.8,
        "x": 0.1,
        "y": 0.1
       },
       "content": {
        "cell": "f54b486c-c240-416c-960b-98a82c0b5cf8",
        "part": "whole"
       },
       "id": "e1c2a0bc-91f5-4638-b0d4-ab9692c0baae"
      }
     }
    },
    "ac0c7e3b-d1f9-4302-80c1-a01bbfca315c": {
     "id": "ac0c7e3b-d1f9-4302-80c1-a01bbfca315c",
     "prev": "e0bfa90f-0c5a-4ce6-91db-6cc6e7f40ff3",
     "regions": {
      "d73f250d-b0b3-41df-8d47-b82978afca3f": {
       "attrs": {
        "height": 0.8,
        "width": 0.8,
        "x": 0.1,
        "y": 0.1
       },
       "content": {
        "cell": "61b4fc74-bb38-4286-8ec4-22cf1a0ab3f4",
        "part": "whole"
       },
       "id": "d73f250d-b0b3-41df-8d47-b82978afca3f"
      }
     }
    },
    "b4379257-b19c-4eeb-81a1-2b5f02b785c1": {
     "id": "b4379257-b19c-4eeb-81a1-2b5f02b785c1",
     "prev": "512b4732-4b42-46d9-8d5a-d444a7957926",
     "regions": {
      "37f40f87-4790-47c0-9fa3-a1636d9c2229": {
       "attrs": {
        "height": 0.8,
        "width": 0.2,
        "x": 0.7,
        "y": 0.1
       },
       "id": "37f40f87-4790-47c0-9fa3-a1636d9c2229"
      },
      "41599c37-50de-49ee-aa33-37aa030bff13": {
       "attrs": {
        "height": 0.8,
        "width": 0.2,
        "x": 0.1,
        "y": 0.1
       },
       "id": "41599c37-50de-49ee-aa33-37aa030bff13"
      },
      "cbf99f4e-467a-4802-b5e7-0cf5263f86fb": {
       "attrs": {
        "height": 0.8,
        "width": 0.2,
        "x": 0.4,
        "y": 0.1
       },
       "id": "cbf99f4e-467a-4802-b5e7-0cf5263f86fb"
      }
     }
    },
    "b5010567-1802-4449-8280-abf8867e5e08": {
     "id": "b5010567-1802-4449-8280-abf8867e5e08",
     "prev": "3e9b9061-bfa6-4b6d-89d0-e1a5d6bbff79",
     "regions": {
      "c8ac9174-2950-4ef7-b90c-b9bfff51a4d1": {
       "attrs": {
        "height": 0.8,
        "width": 0.8,
        "x": 0.1,
        "y": 0.1
       },
       "content": {
        "cell": "5cc3fb9d-fc2c-42da-8434-7fb374a279b5",
        "part": "whole"
       },
       "id": "c8ac9174-2950-4ef7-b90c-b9bfff51a4d1"
      }
     }
    },
    "bdcae75d-3237-4aab-93f2-3c59de0274b4": {
     "id": "bdcae75d-3237-4aab-93f2-3c59de0274b4",
     "prev": "0e3dba63-13e2-4b7a-86cb-872f924d872f",
     "regions": {
      "659fbdf5-3634-45bb-8f55-cb2ad81a5da5": {
       "attrs": {
        "height": 0.8,
        "width": 0.8,
        "x": 0.1,
        "y": 0.1
       },
       "content": {
        "cell": "7fa00731-2d0a-4a98-9ef0-d5b23e4b26f5",
        "part": "whole"
       },
       "id": "659fbdf5-3634-45bb-8f55-cb2ad81a5da5"
      }
     }
    },
    "cbdd725e-7f09-447b-be3d-c4c764fff67b": {
     "id": "cbdd725e-7f09-447b-be3d-c4c764fff67b",
     "prev": "a6f9351c-b4f9-4a1d-931d-68755bf1887a",
     "regions": {
      "59ecb648-6092-47e8-866c-6b5d8c3ed85c": {
       "attrs": {
        "height": 0.8,
        "width": 0.8,
        "x": 0.1,
        "y": 0.1
       },
       "content": {
        "cell": "47c47743-9d61-4373-9218-b0df14437d90",
        "part": "whole"
       },
       "id": "59ecb648-6092-47e8-866c-6b5d8c3ed85c"
      }
     }
    },
    "e0bfa90f-0c5a-4ce6-91db-6cc6e7f40ff3": {
     "id": "e0bfa90f-0c5a-4ce6-91db-6cc6e7f40ff3",
     "prev": "8f46b258-371f-4050-8296-7879cc833a51",
     "regions": {
      "58a80420-ebb7-4733-9823-36e29dcc3b9c": {
       "attrs": {
        "height": 0.8,
        "width": 0.8,
        "x": 0.1,
        "y": 0.1
       },
       "content": {
        "cell": "96066229-e5cc-4285-bde6-08381edd2468",
        "part": "whole"
       },
       "id": "58a80420-ebb7-4733-9823-36e29dcc3b9c"
      }
     }
    },
    "fcef3fed-f763-4b67-8aff-6f7fee4cc733": {
     "id": "fcef3fed-f763-4b67-8aff-6f7fee4cc733",
     "prev": "7809296a-f0ce-4571-a300-79b8676d48e4",
     "regions": {
      "9e2c95c4-c24f-4591-80a1-83753156d463": {
       "attrs": {
        "height": 0.8,
        "width": 0.8,
        "x": 0.1,
        "y": 0.1
       },
       "content": {
        "cell": "cbfdbbd5-2a28-4b7c-8aea-0173595333ed",
        "part": "whole"
       },
       "id": "9e2c95c4-c24f-4591-80a1-83753156d463"
      }
     }
    }
   },
   "themes": {}
  }
 },
 "nbformat": 4,
 "nbformat_minor": 1
}
