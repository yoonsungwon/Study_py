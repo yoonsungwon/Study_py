{
 "cells": [
  {
   "cell_type": "markdown",
   "metadata": {
    "deletable": true,
    "editable": true
   },
   "source": [
    "# 1. Pandas\n",
    "\n",
    "- 정의 : 데이터 가공 및 분석을 위해 만들어진 Python 라이브러리\n",
    "- Pandas라는 이름은 \"Panel data\"에서 유래함(개량경제학 용어로써 다차원의 구조화된 데이터셋을 다룸)\n",
    "> balanced panel\n",
    "![balanced panel](https://wikimedia.org/api/rest_v1/media/math/render/svg/de4ab9449dffb05244e681551e6f3ce710856ac6)\n",
    "unbalanced panel\n",
    "![unbalanced panel](https://wikimedia.org/api/rest_v1/media/math/render/svg/fad5580f0bc2deadc1a110b647dded40867600c0)\n",
    "\n",
    "## 1.1 10 Minute to pandas (http://pandas.pydata.org/pandas-docs/stable/10min.html)\n",
    " - Object 생성([Object Creation](http://pandas.pydata.org/pandas-docs/stable/10min.html#object-creation))\n",
    " - 데이터 조회([Viewing Data](http://pandas.pydata.org/pandas-docs/stable/10min.html#viewing-data))\n",
    " - 데이터 선택([Selection](http://pandas.pydata.org/pandas-docs/stable/10min.html#selection))\n",
    "     - Selection by Label\n",
    "     - Selection by Position\n",
    "     - Boolean Indexing\n",
    "     - Setting\n",
    " - 누락 데이터([Missing Data](http://pandas.pydata.org/pandas-docs/stable/10min.html#missing-data))\n",
    " - Pandas 계산([Operations](http://pandas.pydata.org/pandas-docs/stable/10min.html#operations))\n",
    "     - Stats\n",
    "     - Apply\n",
    "     - Histogramming\n",
    "     - String Methods\n",
    " - 병합([Merge](http://pandas.pydata.org/pandas-docs/stable/10min.html#merge))\n",
    "     - Concat\n",
    "     - Join\n",
    "     - Append\n",
    " - 그룹화([Grouping](http://pandas.pydata.org/pandas-docs/stable/10min.html#grouping))\n",
    " - 변형([Reshaping](http://pandas.pydata.org/pandas-docs/stable/10min.html#reshaping))\n",
    "     - Stack\n",
    "     - Pivot Tables\n",
    " - 시계열([Time Series](http://pandas.pydata.org/pandas-docs/stable/10min.html#time-series))\n",
    " - 분류([Categoricals](http://pandas.pydata.org/pandas-docs/stable/10min.html#categoricals))\n",
    " - 그래프([Plotting](http://pandas.pydata.org/pandas-docs/stable/10min.html#plotting))\n",
    " - 데이터 입출력([Getting Data in/out](http://pandas.pydata.org/pandas-docs/stable/10min.html#getting-data-in-out))\n",
    " - [Gotchas](http://pandas.pydata.org/pandas-docs/stable/10min.html#gotchas)"
   ]
  },
  {
   "cell_type": "markdown",
   "metadata": {
    "deletable": true,
    "editable": true
   },
   "source": [
    "### 1.1.1 Object 생성"
   ]
  },
  {
   "cell_type": "code",
   "execution_count": 1,
   "metadata": {
    "collapsed": false,
    "deletable": true,
    "editable": true
   },
   "outputs": [],
   "source": [
    "import pandas as pd\n",
    "import numpy as np\n",
    "s = pd.Series([1,3,5,np.nan,6,8])\n",
    "dates = pd.date_range('20130101', periods=6)\n",
    "df = pd.DataFrame(np.random.randn(6,4), index=dates, columns=list('ABCD'))"
   ]
  },
  {
   "cell_type": "markdown",
   "metadata": {
    "deletable": true,
    "editable": true
   },
   "source": [
    "### 1.1.2 데이터 조회"
   ]
  },
  {
   "cell_type": "markdown",
   "metadata": {
    "deletable": true,
    "editable": true
   },
   "source": [
    "#### 1.1.2.1 처음과 끝 조회"
   ]
  },
  {
   "cell_type": "code",
   "execution_count": 2,
   "metadata": {
    "collapsed": false,
    "deletable": true,
    "editable": true
   },
   "outputs": [
    {
     "data": {
      "text/html": [
       "<div>\n",
       "<table border=\"1\" class=\"dataframe\">\n",
       "  <thead>\n",
       "    <tr style=\"text-align: right;\">\n",
       "      <th></th>\n",
       "      <th>A</th>\n",
       "      <th>B</th>\n",
       "      <th>C</th>\n",
       "      <th>D</th>\n",
       "    </tr>\n",
       "  </thead>\n",
       "  <tbody>\n",
       "    <tr>\n",
       "      <th>2013-01-01</th>\n",
       "      <td>-0.653940</td>\n",
       "      <td>-1.157310</td>\n",
       "      <td>-0.211337</td>\n",
       "      <td>-0.180736</td>\n",
       "    </tr>\n",
       "    <tr>\n",
       "      <th>2013-01-02</th>\n",
       "      <td>-0.371667</td>\n",
       "      <td>1.622355</td>\n",
       "      <td>1.058329</td>\n",
       "      <td>0.482739</td>\n",
       "    </tr>\n",
       "    <tr>\n",
       "      <th>2013-01-03</th>\n",
       "      <td>2.570225</td>\n",
       "      <td>-0.354195</td>\n",
       "      <td>-0.136308</td>\n",
       "      <td>2.269301</td>\n",
       "    </tr>\n",
       "    <tr>\n",
       "      <th>2013-01-04</th>\n",
       "      <td>0.323254</td>\n",
       "      <td>-1.012833</td>\n",
       "      <td>-0.073677</td>\n",
       "      <td>0.320976</td>\n",
       "    </tr>\n",
       "    <tr>\n",
       "      <th>2013-01-05</th>\n",
       "      <td>1.308554</td>\n",
       "      <td>-1.058535</td>\n",
       "      <td>-2.045659</td>\n",
       "      <td>-0.746443</td>\n",
       "    </tr>\n",
       "  </tbody>\n",
       "</table>\n",
       "</div>"
      ],
      "text/plain": [
       "                   A         B         C         D\n",
       "2013-01-01 -0.653940 -1.157310 -0.211337 -0.180736\n",
       "2013-01-02 -0.371667  1.622355  1.058329  0.482739\n",
       "2013-01-03  2.570225 -0.354195 -0.136308  2.269301\n",
       "2013-01-04  0.323254 -1.012833 -0.073677  0.320976\n",
       "2013-01-05  1.308554 -1.058535 -2.045659 -0.746443"
      ]
     },
     "execution_count": 2,
     "metadata": {},
     "output_type": "execute_result"
    }
   ],
   "source": [
    "df.head()"
   ]
  },
  {
   "cell_type": "code",
   "execution_count": 3,
   "metadata": {
    "collapsed": false,
    "deletable": true,
    "editable": true
   },
   "outputs": [
    {
     "data": {
      "text/html": [
       "<div>\n",
       "<table border=\"1\" class=\"dataframe\">\n",
       "  <thead>\n",
       "    <tr style=\"text-align: right;\">\n",
       "      <th></th>\n",
       "      <th>A</th>\n",
       "      <th>B</th>\n",
       "      <th>C</th>\n",
       "      <th>D</th>\n",
       "    </tr>\n",
       "  </thead>\n",
       "  <tbody>\n",
       "    <tr>\n",
       "      <th>2013-01-04</th>\n",
       "      <td>0.323254</td>\n",
       "      <td>-1.012833</td>\n",
       "      <td>-0.073677</td>\n",
       "      <td>0.320976</td>\n",
       "    </tr>\n",
       "    <tr>\n",
       "      <th>2013-01-05</th>\n",
       "      <td>1.308554</td>\n",
       "      <td>-1.058535</td>\n",
       "      <td>-2.045659</td>\n",
       "      <td>-0.746443</td>\n",
       "    </tr>\n",
       "    <tr>\n",
       "      <th>2013-01-06</th>\n",
       "      <td>0.632386</td>\n",
       "      <td>2.071605</td>\n",
       "      <td>0.096008</td>\n",
       "      <td>0.668358</td>\n",
       "    </tr>\n",
       "  </tbody>\n",
       "</table>\n",
       "</div>"
      ],
      "text/plain": [
       "                   A         B         C         D\n",
       "2013-01-04  0.323254 -1.012833 -0.073677  0.320976\n",
       "2013-01-05  1.308554 -1.058535 -2.045659 -0.746443\n",
       "2013-01-06  0.632386  2.071605  0.096008  0.668358"
      ]
     },
     "execution_count": 3,
     "metadata": {},
     "output_type": "execute_result"
    }
   ],
   "source": [
    "df.tail(3)"
   ]
  },
  {
   "cell_type": "markdown",
   "metadata": {
    "deletable": true,
    "editable": true
   },
   "source": [
    "#### 1.1.2.2 인덱스, 컬럼, 값 조회"
   ]
  },
  {
   "cell_type": "code",
   "execution_count": 4,
   "metadata": {
    "collapsed": false,
    "deletable": true,
    "editable": true
   },
   "outputs": [
    {
     "data": {
      "text/plain": [
       "DatetimeIndex(['2013-01-01', '2013-01-02', '2013-01-03', '2013-01-04',\n",
       "               '2013-01-05', '2013-01-06'],\n",
       "              dtype='datetime64[ns]', freq='D')"
      ]
     },
     "execution_count": 4,
     "metadata": {},
     "output_type": "execute_result"
    }
   ],
   "source": [
    "df.index"
   ]
  },
  {
   "cell_type": "code",
   "execution_count": 5,
   "metadata": {
    "collapsed": false,
    "deletable": true,
    "editable": true
   },
   "outputs": [
    {
     "data": {
      "text/plain": [
       "Index(['A', 'B', 'C', 'D'], dtype='object')"
      ]
     },
     "execution_count": 5,
     "metadata": {},
     "output_type": "execute_result"
    }
   ],
   "source": [
    "df.columns"
   ]
  },
  {
   "cell_type": "code",
   "execution_count": 6,
   "metadata": {
    "collapsed": false,
    "deletable": true,
    "editable": true
   },
   "outputs": [
    {
     "data": {
      "text/plain": [
       "array([[-0.65393978, -1.1573103 , -0.21133657, -0.18073593],\n",
       "       [-0.37166657,  1.62235525,  1.0583288 ,  0.48273929],\n",
       "       [ 2.5702251 , -0.35419548, -0.13630752,  2.26930085],\n",
       "       [ 0.32325367, -1.01283313, -0.07367668,  0.32097586],\n",
       "       [ 1.30855411, -1.05853535, -2.04565906, -0.74644337],\n",
       "       [ 0.6323863 ,  2.07160514,  0.09600751,  0.6683584 ]])"
      ]
     },
     "execution_count": 6,
     "metadata": {},
     "output_type": "execute_result"
    }
   ],
   "source": [
    "df.values"
   ]
  },
  {
   "cell_type": "markdown",
   "metadata": {
    "deletable": true,
    "editable": true
   },
   "source": [
    "#### 1.1.2.3 통계 데이터, 변환, 정렬"
   ]
  },
  {
   "cell_type": "code",
   "execution_count": 7,
   "metadata": {
    "collapsed": false,
    "deletable": true,
    "editable": true
   },
   "outputs": [
    {
     "data": {
      "text/html": [
       "<div>\n",
       "<table border=\"1\" class=\"dataframe\">\n",
       "  <thead>\n",
       "    <tr style=\"text-align: right;\">\n",
       "      <th></th>\n",
       "      <th>A</th>\n",
       "      <th>B</th>\n",
       "      <th>C</th>\n",
       "      <th>D</th>\n",
       "    </tr>\n",
       "  </thead>\n",
       "  <tbody>\n",
       "    <tr>\n",
       "      <th>count</th>\n",
       "      <td>6.000000</td>\n",
       "      <td>6.000000</td>\n",
       "      <td>6.000000</td>\n",
       "      <td>6.000000</td>\n",
       "    </tr>\n",
       "    <tr>\n",
       "      <th>mean</th>\n",
       "      <td>0.634802</td>\n",
       "      <td>0.018514</td>\n",
       "      <td>-0.218774</td>\n",
       "      <td>0.469033</td>\n",
       "    </tr>\n",
       "    <tr>\n",
       "      <th>std</th>\n",
       "      <td>1.180738</td>\n",
       "      <td>1.451391</td>\n",
       "      <td>1.009505</td>\n",
       "      <td>1.020038</td>\n",
       "    </tr>\n",
       "    <tr>\n",
       "      <th>min</th>\n",
       "      <td>-0.653940</td>\n",
       "      <td>-1.157310</td>\n",
       "      <td>-2.045659</td>\n",
       "      <td>-0.746443</td>\n",
       "    </tr>\n",
       "    <tr>\n",
       "      <th>25%</th>\n",
       "      <td>-0.197937</td>\n",
       "      <td>-1.047110</td>\n",
       "      <td>-0.192579</td>\n",
       "      <td>-0.055308</td>\n",
       "    </tr>\n",
       "    <tr>\n",
       "      <th>50%</th>\n",
       "      <td>0.477820</td>\n",
       "      <td>-0.683514</td>\n",
       "      <td>-0.104992</td>\n",
       "      <td>0.401858</td>\n",
       "    </tr>\n",
       "    <tr>\n",
       "      <th>75%</th>\n",
       "      <td>1.139512</td>\n",
       "      <td>1.128218</td>\n",
       "      <td>0.053586</td>\n",
       "      <td>0.621954</td>\n",
       "    </tr>\n",
       "    <tr>\n",
       "      <th>max</th>\n",
       "      <td>2.570225</td>\n",
       "      <td>2.071605</td>\n",
       "      <td>1.058329</td>\n",
       "      <td>2.269301</td>\n",
       "    </tr>\n",
       "  </tbody>\n",
       "</table>\n",
       "</div>"
      ],
      "text/plain": [
       "              A         B         C         D\n",
       "count  6.000000  6.000000  6.000000  6.000000\n",
       "mean   0.634802  0.018514 -0.218774  0.469033\n",
       "std    1.180738  1.451391  1.009505  1.020038\n",
       "min   -0.653940 -1.157310 -2.045659 -0.746443\n",
       "25%   -0.197937 -1.047110 -0.192579 -0.055308\n",
       "50%    0.477820 -0.683514 -0.104992  0.401858\n",
       "75%    1.139512  1.128218  0.053586  0.621954\n",
       "max    2.570225  2.071605  1.058329  2.269301"
      ]
     },
     "execution_count": 7,
     "metadata": {},
     "output_type": "execute_result"
    }
   ],
   "source": [
    "df.describe()"
   ]
  },
  {
   "cell_type": "code",
   "execution_count": 8,
   "metadata": {
    "collapsed": false,
    "deletable": true,
    "editable": true
   },
   "outputs": [
    {
     "data": {
      "text/html": [
       "<div>\n",
       "<table border=\"1\" class=\"dataframe\">\n",
       "  <thead>\n",
       "    <tr style=\"text-align: right;\">\n",
       "      <th></th>\n",
       "      <th>2013-01-01 00:00:00</th>\n",
       "      <th>2013-01-02 00:00:00</th>\n",
       "      <th>2013-01-03 00:00:00</th>\n",
       "      <th>2013-01-04 00:00:00</th>\n",
       "      <th>2013-01-05 00:00:00</th>\n",
       "      <th>2013-01-06 00:00:00</th>\n",
       "    </tr>\n",
       "  </thead>\n",
       "  <tbody>\n",
       "    <tr>\n",
       "      <th>A</th>\n",
       "      <td>-0.653940</td>\n",
       "      <td>-0.371667</td>\n",
       "      <td>2.570225</td>\n",
       "      <td>0.323254</td>\n",
       "      <td>1.308554</td>\n",
       "      <td>0.632386</td>\n",
       "    </tr>\n",
       "    <tr>\n",
       "      <th>B</th>\n",
       "      <td>-1.157310</td>\n",
       "      <td>1.622355</td>\n",
       "      <td>-0.354195</td>\n",
       "      <td>-1.012833</td>\n",
       "      <td>-1.058535</td>\n",
       "      <td>2.071605</td>\n",
       "    </tr>\n",
       "    <tr>\n",
       "      <th>C</th>\n",
       "      <td>-0.211337</td>\n",
       "      <td>1.058329</td>\n",
       "      <td>-0.136308</td>\n",
       "      <td>-0.073677</td>\n",
       "      <td>-2.045659</td>\n",
       "      <td>0.096008</td>\n",
       "    </tr>\n",
       "    <tr>\n",
       "      <th>D</th>\n",
       "      <td>-0.180736</td>\n",
       "      <td>0.482739</td>\n",
       "      <td>2.269301</td>\n",
       "      <td>0.320976</td>\n",
       "      <td>-0.746443</td>\n",
       "      <td>0.668358</td>\n",
       "    </tr>\n",
       "  </tbody>\n",
       "</table>\n",
       "</div>"
      ],
      "text/plain": [
       "   2013-01-01  2013-01-02  2013-01-03  2013-01-04  2013-01-05  2013-01-06\n",
       "A   -0.653940   -0.371667    2.570225    0.323254    1.308554    0.632386\n",
       "B   -1.157310    1.622355   -0.354195   -1.012833   -1.058535    2.071605\n",
       "C   -0.211337    1.058329   -0.136308   -0.073677   -2.045659    0.096008\n",
       "D   -0.180736    0.482739    2.269301    0.320976   -0.746443    0.668358"
      ]
     },
     "execution_count": 8,
     "metadata": {},
     "output_type": "execute_result"
    }
   ],
   "source": [
    "df.T"
   ]
  },
  {
   "cell_type": "code",
   "execution_count": 9,
   "metadata": {
    "collapsed": false,
    "deletable": true,
    "editable": true
   },
   "outputs": [
    {
     "data": {
      "text/html": [
       "<div>\n",
       "<table border=\"1\" class=\"dataframe\">\n",
       "  <thead>\n",
       "    <tr style=\"text-align: right;\">\n",
       "      <th></th>\n",
       "      <th>D</th>\n",
       "      <th>C</th>\n",
       "      <th>B</th>\n",
       "      <th>A</th>\n",
       "    </tr>\n",
       "  </thead>\n",
       "  <tbody>\n",
       "    <tr>\n",
       "      <th>2013-01-01</th>\n",
       "      <td>-0.180736</td>\n",
       "      <td>-0.211337</td>\n",
       "      <td>-1.157310</td>\n",
       "      <td>-0.653940</td>\n",
       "    </tr>\n",
       "    <tr>\n",
       "      <th>2013-01-02</th>\n",
       "      <td>0.482739</td>\n",
       "      <td>1.058329</td>\n",
       "      <td>1.622355</td>\n",
       "      <td>-0.371667</td>\n",
       "    </tr>\n",
       "    <tr>\n",
       "      <th>2013-01-03</th>\n",
       "      <td>2.269301</td>\n",
       "      <td>-0.136308</td>\n",
       "      <td>-0.354195</td>\n",
       "      <td>2.570225</td>\n",
       "    </tr>\n",
       "    <tr>\n",
       "      <th>2013-01-04</th>\n",
       "      <td>0.320976</td>\n",
       "      <td>-0.073677</td>\n",
       "      <td>-1.012833</td>\n",
       "      <td>0.323254</td>\n",
       "    </tr>\n",
       "    <tr>\n",
       "      <th>2013-01-05</th>\n",
       "      <td>-0.746443</td>\n",
       "      <td>-2.045659</td>\n",
       "      <td>-1.058535</td>\n",
       "      <td>1.308554</td>\n",
       "    </tr>\n",
       "    <tr>\n",
       "      <th>2013-01-06</th>\n",
       "      <td>0.668358</td>\n",
       "      <td>0.096008</td>\n",
       "      <td>2.071605</td>\n",
       "      <td>0.632386</td>\n",
       "    </tr>\n",
       "  </tbody>\n",
       "</table>\n",
       "</div>"
      ],
      "text/plain": [
       "                   D         C         B         A\n",
       "2013-01-01 -0.180736 -0.211337 -1.157310 -0.653940\n",
       "2013-01-02  0.482739  1.058329  1.622355 -0.371667\n",
       "2013-01-03  2.269301 -0.136308 -0.354195  2.570225\n",
       "2013-01-04  0.320976 -0.073677 -1.012833  0.323254\n",
       "2013-01-05 -0.746443 -2.045659 -1.058535  1.308554\n",
       "2013-01-06  0.668358  0.096008  2.071605  0.632386"
      ]
     },
     "execution_count": 9,
     "metadata": {},
     "output_type": "execute_result"
    }
   ],
   "source": [
    "df.sort_index(axis=1, ascending=False)"
   ]
  },
  {
   "cell_type": "code",
   "execution_count": 10,
   "metadata": {
    "collapsed": false,
    "deletable": true,
    "editable": true
   },
   "outputs": [
    {
     "data": {
      "text/html": [
       "<div>\n",
       "<table border=\"1\" class=\"dataframe\">\n",
       "  <thead>\n",
       "    <tr style=\"text-align: right;\">\n",
       "      <th></th>\n",
       "      <th>A</th>\n",
       "      <th>B</th>\n",
       "      <th>C</th>\n",
       "      <th>D</th>\n",
       "    </tr>\n",
       "  </thead>\n",
       "  <tbody>\n",
       "    <tr>\n",
       "      <th>2013-01-01</th>\n",
       "      <td>-0.653940</td>\n",
       "      <td>-1.157310</td>\n",
       "      <td>-0.211337</td>\n",
       "      <td>-0.180736</td>\n",
       "    </tr>\n",
       "    <tr>\n",
       "      <th>2013-01-05</th>\n",
       "      <td>1.308554</td>\n",
       "      <td>-1.058535</td>\n",
       "      <td>-2.045659</td>\n",
       "      <td>-0.746443</td>\n",
       "    </tr>\n",
       "    <tr>\n",
       "      <th>2013-01-04</th>\n",
       "      <td>0.323254</td>\n",
       "      <td>-1.012833</td>\n",
       "      <td>-0.073677</td>\n",
       "      <td>0.320976</td>\n",
       "    </tr>\n",
       "    <tr>\n",
       "      <th>2013-01-03</th>\n",
       "      <td>2.570225</td>\n",
       "      <td>-0.354195</td>\n",
       "      <td>-0.136308</td>\n",
       "      <td>2.269301</td>\n",
       "    </tr>\n",
       "    <tr>\n",
       "      <th>2013-01-02</th>\n",
       "      <td>-0.371667</td>\n",
       "      <td>1.622355</td>\n",
       "      <td>1.058329</td>\n",
       "      <td>0.482739</td>\n",
       "    </tr>\n",
       "    <tr>\n",
       "      <th>2013-01-06</th>\n",
       "      <td>0.632386</td>\n",
       "      <td>2.071605</td>\n",
       "      <td>0.096008</td>\n",
       "      <td>0.668358</td>\n",
       "    </tr>\n",
       "  </tbody>\n",
       "</table>\n",
       "</div>"
      ],
      "text/plain": [
       "                   A         B         C         D\n",
       "2013-01-01 -0.653940 -1.157310 -0.211337 -0.180736\n",
       "2013-01-05  1.308554 -1.058535 -2.045659 -0.746443\n",
       "2013-01-04  0.323254 -1.012833 -0.073677  0.320976\n",
       "2013-01-03  2.570225 -0.354195 -0.136308  2.269301\n",
       "2013-01-02 -0.371667  1.622355  1.058329  0.482739\n",
       "2013-01-06  0.632386  2.071605  0.096008  0.668358"
      ]
     },
     "execution_count": 10,
     "metadata": {},
     "output_type": "execute_result"
    }
   ],
   "source": [
    "df.sort_values(by='B')"
   ]
  },
  {
   "cell_type": "markdown",
   "metadata": {
    "deletable": true,
    "editable": true
   },
   "source": [
    "### 1.1.3 선택\n",
    "#### 1.1.3.1 List 표현"
   ]
  },
  {
   "cell_type": "code",
   "execution_count": 11,
   "metadata": {
    "collapsed": false,
    "deletable": true,
    "editable": true
   },
   "outputs": [
    {
     "data": {
      "text/plain": [
       "2013-01-01   -0.653940\n",
       "2013-01-02   -0.371667\n",
       "2013-01-03    2.570225\n",
       "2013-01-04    0.323254\n",
       "2013-01-05    1.308554\n",
       "2013-01-06    0.632386\n",
       "Freq: D, Name: A, dtype: float64"
      ]
     },
     "execution_count": 11,
     "metadata": {},
     "output_type": "execute_result"
    }
   ],
   "source": [
    "df['A']"
   ]
  },
  {
   "cell_type": "code",
   "execution_count": 12,
   "metadata": {
    "collapsed": false,
    "deletable": true,
    "editable": true
   },
   "outputs": [
    {
     "data": {
      "text/html": [
       "<div>\n",
       "<table border=\"1\" class=\"dataframe\">\n",
       "  <thead>\n",
       "    <tr style=\"text-align: right;\">\n",
       "      <th></th>\n",
       "      <th>A</th>\n",
       "      <th>B</th>\n",
       "      <th>C</th>\n",
       "      <th>D</th>\n",
       "    </tr>\n",
       "  </thead>\n",
       "  <tbody>\n",
       "    <tr>\n",
       "      <th>2013-01-01</th>\n",
       "      <td>-0.653940</td>\n",
       "      <td>-1.157310</td>\n",
       "      <td>-0.211337</td>\n",
       "      <td>-0.180736</td>\n",
       "    </tr>\n",
       "    <tr>\n",
       "      <th>2013-01-02</th>\n",
       "      <td>-0.371667</td>\n",
       "      <td>1.622355</td>\n",
       "      <td>1.058329</td>\n",
       "      <td>0.482739</td>\n",
       "    </tr>\n",
       "    <tr>\n",
       "      <th>2013-01-03</th>\n",
       "      <td>2.570225</td>\n",
       "      <td>-0.354195</td>\n",
       "      <td>-0.136308</td>\n",
       "      <td>2.269301</td>\n",
       "    </tr>\n",
       "  </tbody>\n",
       "</table>\n",
       "</div>"
      ],
      "text/plain": [
       "                   A         B         C         D\n",
       "2013-01-01 -0.653940 -1.157310 -0.211337 -0.180736\n",
       "2013-01-02 -0.371667  1.622355  1.058329  0.482739\n",
       "2013-01-03  2.570225 -0.354195 -0.136308  2.269301"
      ]
     },
     "execution_count": 12,
     "metadata": {},
     "output_type": "execute_result"
    }
   ],
   "source": [
    "df[0:3]"
   ]
  },
  {
   "cell_type": "code",
   "execution_count": 13,
   "metadata": {
    "collapsed": false,
    "deletable": true,
    "editable": true
   },
   "outputs": [
    {
     "data": {
      "text/html": [
       "<div>\n",
       "<table border=\"1\" class=\"dataframe\">\n",
       "  <thead>\n",
       "    <tr style=\"text-align: right;\">\n",
       "      <th></th>\n",
       "      <th>A</th>\n",
       "      <th>B</th>\n",
       "      <th>C</th>\n",
       "      <th>D</th>\n",
       "    </tr>\n",
       "  </thead>\n",
       "  <tbody>\n",
       "    <tr>\n",
       "      <th>2013-01-02</th>\n",
       "      <td>-0.371667</td>\n",
       "      <td>1.622355</td>\n",
       "      <td>1.058329</td>\n",
       "      <td>0.482739</td>\n",
       "    </tr>\n",
       "    <tr>\n",
       "      <th>2013-01-03</th>\n",
       "      <td>2.570225</td>\n",
       "      <td>-0.354195</td>\n",
       "      <td>-0.136308</td>\n",
       "      <td>2.269301</td>\n",
       "    </tr>\n",
       "  </tbody>\n",
       "</table>\n",
       "</div>"
      ],
      "text/plain": [
       "                   A         B         C         D\n",
       "2013-01-02 -0.371667  1.622355  1.058329  0.482739\n",
       "2013-01-03  2.570225 -0.354195 -0.136308  2.269301"
      ]
     },
     "execution_count": 13,
     "metadata": {},
     "output_type": "execute_result"
    }
   ],
   "source": [
    "df['2013-01-02':'2013-01-03']"
   ]
  },
  {
   "cell_type": "markdown",
   "metadata": {
    "deletable": true,
    "editable": true
   },
   "source": [
    "#### 1.1.3.2 Label 을 이용한 표현"
   ]
  },
  {
   "cell_type": "code",
   "execution_count": 14,
   "metadata": {
    "collapsed": false,
    "deletable": true,
    "editable": true
   },
   "outputs": [
    {
     "data": {
      "text/plain": [
       "A   -0.653940\n",
       "B   -1.157310\n",
       "C   -0.211337\n",
       "D   -0.180736\n",
       "Name: 2013-01-01 00:00:00, dtype: float64"
      ]
     },
     "execution_count": 14,
     "metadata": {},
     "output_type": "execute_result"
    }
   ],
   "source": [
    "df.loc[dates[0]]"
   ]
  },
  {
   "cell_type": "code",
   "execution_count": 15,
   "metadata": {
    "collapsed": false,
    "deletable": true,
    "editable": true
   },
   "outputs": [
    {
     "data": {
      "text/plain": [
       "A   -0.371667\n",
       "B    1.622355\n",
       "C    1.058329\n",
       "D    0.482739\n",
       "Name: 2013-01-02 00:00:00, dtype: float64"
      ]
     },
     "execution_count": 15,
     "metadata": {},
     "output_type": "execute_result"
    }
   ],
   "source": [
    "df.loc['2013-01-02']"
   ]
  },
  {
   "cell_type": "code",
   "execution_count": 16,
   "metadata": {
    "collapsed": false,
    "deletable": true,
    "editable": true
   },
   "outputs": [
    {
     "data": {
      "text/html": [
       "<div>\n",
       "<table border=\"1\" class=\"dataframe\">\n",
       "  <thead>\n",
       "    <tr style=\"text-align: right;\">\n",
       "      <th></th>\n",
       "      <th>A</th>\n",
       "      <th>B</th>\n",
       "    </tr>\n",
       "  </thead>\n",
       "  <tbody>\n",
       "    <tr>\n",
       "      <th>2013-01-01</th>\n",
       "      <td>-0.653940</td>\n",
       "      <td>-1.157310</td>\n",
       "    </tr>\n",
       "    <tr>\n",
       "      <th>2013-01-02</th>\n",
       "      <td>-0.371667</td>\n",
       "      <td>1.622355</td>\n",
       "    </tr>\n",
       "    <tr>\n",
       "      <th>2013-01-03</th>\n",
       "      <td>2.570225</td>\n",
       "      <td>-0.354195</td>\n",
       "    </tr>\n",
       "    <tr>\n",
       "      <th>2013-01-04</th>\n",
       "      <td>0.323254</td>\n",
       "      <td>-1.012833</td>\n",
       "    </tr>\n",
       "    <tr>\n",
       "      <th>2013-01-05</th>\n",
       "      <td>1.308554</td>\n",
       "      <td>-1.058535</td>\n",
       "    </tr>\n",
       "    <tr>\n",
       "      <th>2013-01-06</th>\n",
       "      <td>0.632386</td>\n",
       "      <td>2.071605</td>\n",
       "    </tr>\n",
       "  </tbody>\n",
       "</table>\n",
       "</div>"
      ],
      "text/plain": [
       "                   A         B\n",
       "2013-01-01 -0.653940 -1.157310\n",
       "2013-01-02 -0.371667  1.622355\n",
       "2013-01-03  2.570225 -0.354195\n",
       "2013-01-04  0.323254 -1.012833\n",
       "2013-01-05  1.308554 -1.058535\n",
       "2013-01-06  0.632386  2.071605"
      ]
     },
     "execution_count": 16,
     "metadata": {},
     "output_type": "execute_result"
    }
   ],
   "source": [
    "df.loc[:,['A', 'B']]"
   ]
  },
  {
   "cell_type": "code",
   "execution_count": 17,
   "metadata": {
    "collapsed": false,
    "deletable": true,
    "editable": true
   },
   "outputs": [
    {
     "data": {
      "text/html": [
       "<div>\n",
       "<table border=\"1\" class=\"dataframe\">\n",
       "  <thead>\n",
       "    <tr style=\"text-align: right;\">\n",
       "      <th></th>\n",
       "      <th>A</th>\n",
       "      <th>B</th>\n",
       "    </tr>\n",
       "  </thead>\n",
       "  <tbody>\n",
       "    <tr>\n",
       "      <th>2013-01-02</th>\n",
       "      <td>-0.371667</td>\n",
       "      <td>1.622355</td>\n",
       "    </tr>\n",
       "    <tr>\n",
       "      <th>2013-01-03</th>\n",
       "      <td>2.570225</td>\n",
       "      <td>-0.354195</td>\n",
       "    </tr>\n",
       "    <tr>\n",
       "      <th>2013-01-04</th>\n",
       "      <td>0.323254</td>\n",
       "      <td>-1.012833</td>\n",
       "    </tr>\n",
       "  </tbody>\n",
       "</table>\n",
       "</div>"
      ],
      "text/plain": [
       "                   A         B\n",
       "2013-01-02 -0.371667  1.622355\n",
       "2013-01-03  2.570225 -0.354195\n",
       "2013-01-04  0.323254 -1.012833"
      ]
     },
     "execution_count": 17,
     "metadata": {},
     "output_type": "execute_result"
    }
   ],
   "source": [
    "df.loc['20130102':'20130104',['A','B']]"
   ]
  },
  {
   "cell_type": "code",
   "execution_count": 18,
   "metadata": {
    "collapsed": false,
    "deletable": true,
    "editable": true,
    "scrolled": false
   },
   "outputs": [
    {
     "data": {
      "text/plain": [
       "A   -0.371667\n",
       "B    1.622355\n",
       "Name: 2013-01-02 00:00:00, dtype: float64"
      ]
     },
     "execution_count": 18,
     "metadata": {},
     "output_type": "execute_result"
    }
   ],
   "source": [
    "df.loc['20130102',['A','B']]"
   ]
  },
  {
   "cell_type": "code",
   "execution_count": 19,
   "metadata": {
    "collapsed": false,
    "deletable": true,
    "editable": true,
    "scrolled": true
   },
   "outputs": [
    {
     "data": {
      "text/plain": [
       "-0.65393977621389299"
      ]
     },
     "execution_count": 19,
     "metadata": {},
     "output_type": "execute_result"
    }
   ],
   "source": [
    "df.loc[dates[0],'A']"
   ]
  },
  {
   "cell_type": "markdown",
   "metadata": {
    "deletable": true,
    "editable": true
   },
   "source": [
    "아래가 좀더 빠르다"
   ]
  },
  {
   "cell_type": "code",
   "execution_count": 20,
   "metadata": {
    "collapsed": false,
    "deletable": true,
    "editable": true
   },
   "outputs": [
    {
     "data": {
      "text/plain": [
       "-0.65393977621389299"
      ]
     },
     "execution_count": 20,
     "metadata": {},
     "output_type": "execute_result"
    }
   ],
   "source": [
    "df.at[dates[0],'A']"
   ]
  },
  {
   "cell_type": "markdown",
   "metadata": {
    "deletable": true,
    "editable": true
   },
   "source": [
    "#### 1.1.3.3 위치를 이용한 표현"
   ]
  },
  {
   "cell_type": "code",
   "execution_count": 21,
   "metadata": {
    "collapsed": false,
    "deletable": true,
    "editable": true
   },
   "outputs": [
    {
     "data": {
      "text/plain": [
       "A    0.323254\n",
       "B   -1.012833\n",
       "C   -0.073677\n",
       "D    0.320976\n",
       "Name: 2013-01-04 00:00:00, dtype: float64"
      ]
     },
     "execution_count": 21,
     "metadata": {},
     "output_type": "execute_result"
    }
   ],
   "source": [
    "df.iloc[3]"
   ]
  },
  {
   "cell_type": "code",
   "execution_count": 22,
   "metadata": {
    "collapsed": false,
    "deletable": true,
    "editable": true
   },
   "outputs": [
    {
     "data": {
      "text/html": [
       "<div>\n",
       "<table border=\"1\" class=\"dataframe\">\n",
       "  <thead>\n",
       "    <tr style=\"text-align: right;\">\n",
       "      <th></th>\n",
       "      <th>A</th>\n",
       "      <th>B</th>\n",
       "    </tr>\n",
       "  </thead>\n",
       "  <tbody>\n",
       "    <tr>\n",
       "      <th>2013-01-04</th>\n",
       "      <td>0.323254</td>\n",
       "      <td>-1.012833</td>\n",
       "    </tr>\n",
       "    <tr>\n",
       "      <th>2013-01-05</th>\n",
       "      <td>1.308554</td>\n",
       "      <td>-1.058535</td>\n",
       "    </tr>\n",
       "  </tbody>\n",
       "</table>\n",
       "</div>"
      ],
      "text/plain": [
       "                   A         B\n",
       "2013-01-04  0.323254 -1.012833\n",
       "2013-01-05  1.308554 -1.058535"
      ]
     },
     "execution_count": 22,
     "metadata": {},
     "output_type": "execute_result"
    }
   ],
   "source": [
    "df.iloc[3:5,0:2]"
   ]
  },
  {
   "cell_type": "code",
   "execution_count": 23,
   "metadata": {
    "collapsed": false,
    "deletable": true,
    "editable": true
   },
   "outputs": [
    {
     "data": {
      "text/html": [
       "<div>\n",
       "<table border=\"1\" class=\"dataframe\">\n",
       "  <thead>\n",
       "    <tr style=\"text-align: right;\">\n",
       "      <th></th>\n",
       "      <th>A</th>\n",
       "      <th>C</th>\n",
       "    </tr>\n",
       "  </thead>\n",
       "  <tbody>\n",
       "    <tr>\n",
       "      <th>2013-01-02</th>\n",
       "      <td>-0.371667</td>\n",
       "      <td>1.058329</td>\n",
       "    </tr>\n",
       "    <tr>\n",
       "      <th>2013-01-03</th>\n",
       "      <td>2.570225</td>\n",
       "      <td>-0.136308</td>\n",
       "    </tr>\n",
       "    <tr>\n",
       "      <th>2013-01-05</th>\n",
       "      <td>1.308554</td>\n",
       "      <td>-2.045659</td>\n",
       "    </tr>\n",
       "  </tbody>\n",
       "</table>\n",
       "</div>"
      ],
      "text/plain": [
       "                   A         C\n",
       "2013-01-02 -0.371667  1.058329\n",
       "2013-01-03  2.570225 -0.136308\n",
       "2013-01-05  1.308554 -2.045659"
      ]
     },
     "execution_count": 23,
     "metadata": {},
     "output_type": "execute_result"
    }
   ],
   "source": [
    "df.iloc[[1,2,4],[0,2]]"
   ]
  },
  {
   "cell_type": "code",
   "execution_count": 24,
   "metadata": {
    "collapsed": false,
    "deletable": true,
    "editable": true
   },
   "outputs": [
    {
     "data": {
      "text/html": [
       "<div>\n",
       "<table border=\"1\" class=\"dataframe\">\n",
       "  <thead>\n",
       "    <tr style=\"text-align: right;\">\n",
       "      <th></th>\n",
       "      <th>A</th>\n",
       "      <th>B</th>\n",
       "      <th>C</th>\n",
       "      <th>D</th>\n",
       "    </tr>\n",
       "  </thead>\n",
       "  <tbody>\n",
       "    <tr>\n",
       "      <th>2013-01-02</th>\n",
       "      <td>-0.371667</td>\n",
       "      <td>1.622355</td>\n",
       "      <td>1.058329</td>\n",
       "      <td>0.482739</td>\n",
       "    </tr>\n",
       "    <tr>\n",
       "      <th>2013-01-03</th>\n",
       "      <td>2.570225</td>\n",
       "      <td>-0.354195</td>\n",
       "      <td>-0.136308</td>\n",
       "      <td>2.269301</td>\n",
       "    </tr>\n",
       "  </tbody>\n",
       "</table>\n",
       "</div>"
      ],
      "text/plain": [
       "                   A         B         C         D\n",
       "2013-01-02 -0.371667  1.622355  1.058329  0.482739\n",
       "2013-01-03  2.570225 -0.354195 -0.136308  2.269301"
      ]
     },
     "execution_count": 24,
     "metadata": {},
     "output_type": "execute_result"
    }
   ],
   "source": [
    "df.iloc[1:3,:]"
   ]
  },
  {
   "cell_type": "code",
   "execution_count": 25,
   "metadata": {
    "collapsed": false,
    "deletable": true,
    "editable": true
   },
   "outputs": [
    {
     "data": {
      "text/html": [
       "<div>\n",
       "<table border=\"1\" class=\"dataframe\">\n",
       "  <thead>\n",
       "    <tr style=\"text-align: right;\">\n",
       "      <th></th>\n",
       "      <th>B</th>\n",
       "      <th>C</th>\n",
       "    </tr>\n",
       "  </thead>\n",
       "  <tbody>\n",
       "    <tr>\n",
       "      <th>2013-01-01</th>\n",
       "      <td>-1.157310</td>\n",
       "      <td>-0.211337</td>\n",
       "    </tr>\n",
       "    <tr>\n",
       "      <th>2013-01-02</th>\n",
       "      <td>1.622355</td>\n",
       "      <td>1.058329</td>\n",
       "    </tr>\n",
       "    <tr>\n",
       "      <th>2013-01-03</th>\n",
       "      <td>-0.354195</td>\n",
       "      <td>-0.136308</td>\n",
       "    </tr>\n",
       "    <tr>\n",
       "      <th>2013-01-04</th>\n",
       "      <td>-1.012833</td>\n",
       "      <td>-0.073677</td>\n",
       "    </tr>\n",
       "    <tr>\n",
       "      <th>2013-01-05</th>\n",
       "      <td>-1.058535</td>\n",
       "      <td>-2.045659</td>\n",
       "    </tr>\n",
       "    <tr>\n",
       "      <th>2013-01-06</th>\n",
       "      <td>2.071605</td>\n",
       "      <td>0.096008</td>\n",
       "    </tr>\n",
       "  </tbody>\n",
       "</table>\n",
       "</div>"
      ],
      "text/plain": [
       "                   B         C\n",
       "2013-01-01 -1.157310 -0.211337\n",
       "2013-01-02  1.622355  1.058329\n",
       "2013-01-03 -0.354195 -0.136308\n",
       "2013-01-04 -1.012833 -0.073677\n",
       "2013-01-05 -1.058535 -2.045659\n",
       "2013-01-06  2.071605  0.096008"
      ]
     },
     "execution_count": 25,
     "metadata": {},
     "output_type": "execute_result"
    }
   ],
   "source": [
    " df.iloc[:,1:3]"
   ]
  },
  {
   "cell_type": "code",
   "execution_count": 26,
   "metadata": {
    "collapsed": false,
    "deletable": true,
    "editable": true
   },
   "outputs": [
    {
     "data": {
      "text/plain": [
       "1.6223552454039052"
      ]
     },
     "execution_count": 26,
     "metadata": {},
     "output_type": "execute_result"
    }
   ],
   "source": [
    "df.iloc[1,1]"
   ]
  },
  {
   "cell_type": "markdown",
   "metadata": {
    "deletable": true,
    "editable": true
   },
   "source": [
    "아래가 더 빠르다"
   ]
  },
  {
   "cell_type": "code",
   "execution_count": 27,
   "metadata": {
    "collapsed": false,
    "deletable": true,
    "editable": true
   },
   "outputs": [
    {
     "data": {
      "text/plain": [
       "1.6223552454039052"
      ]
     },
     "execution_count": 27,
     "metadata": {},
     "output_type": "execute_result"
    }
   ],
   "source": [
    "df.iat[1,1]"
   ]
  },
  {
   "cell_type": "markdown",
   "metadata": {
    "deletable": true,
    "editable": true
   },
   "source": [
    "#### 1.1.3.4 조건식을 이용"
   ]
  },
  {
   "cell_type": "code",
   "execution_count": 28,
   "metadata": {
    "collapsed": false,
    "deletable": true,
    "editable": true
   },
   "outputs": [
    {
     "data": {
      "text/html": [
       "<div>\n",
       "<table border=\"1\" class=\"dataframe\">\n",
       "  <thead>\n",
       "    <tr style=\"text-align: right;\">\n",
       "      <th></th>\n",
       "      <th>A</th>\n",
       "      <th>B</th>\n",
       "      <th>C</th>\n",
       "      <th>D</th>\n",
       "    </tr>\n",
       "  </thead>\n",
       "  <tbody>\n",
       "    <tr>\n",
       "      <th>2013-01-03</th>\n",
       "      <td>2.570225</td>\n",
       "      <td>-0.354195</td>\n",
       "      <td>-0.136308</td>\n",
       "      <td>2.269301</td>\n",
       "    </tr>\n",
       "    <tr>\n",
       "      <th>2013-01-04</th>\n",
       "      <td>0.323254</td>\n",
       "      <td>-1.012833</td>\n",
       "      <td>-0.073677</td>\n",
       "      <td>0.320976</td>\n",
       "    </tr>\n",
       "    <tr>\n",
       "      <th>2013-01-05</th>\n",
       "      <td>1.308554</td>\n",
       "      <td>-1.058535</td>\n",
       "      <td>-2.045659</td>\n",
       "      <td>-0.746443</td>\n",
       "    </tr>\n",
       "    <tr>\n",
       "      <th>2013-01-06</th>\n",
       "      <td>0.632386</td>\n",
       "      <td>2.071605</td>\n",
       "      <td>0.096008</td>\n",
       "      <td>0.668358</td>\n",
       "    </tr>\n",
       "  </tbody>\n",
       "</table>\n",
       "</div>"
      ],
      "text/plain": [
       "                   A         B         C         D\n",
       "2013-01-03  2.570225 -0.354195 -0.136308  2.269301\n",
       "2013-01-04  0.323254 -1.012833 -0.073677  0.320976\n",
       "2013-01-05  1.308554 -1.058535 -2.045659 -0.746443\n",
       "2013-01-06  0.632386  2.071605  0.096008  0.668358"
      ]
     },
     "execution_count": 28,
     "metadata": {},
     "output_type": "execute_result"
    }
   ],
   "source": [
    "df[df.A>0]"
   ]
  },
  {
   "cell_type": "code",
   "execution_count": 29,
   "metadata": {
    "collapsed": false,
    "deletable": true,
    "editable": true
   },
   "outputs": [
    {
     "data": {
      "text/html": [
       "<div>\n",
       "<table border=\"1\" class=\"dataframe\">\n",
       "  <thead>\n",
       "    <tr style=\"text-align: right;\">\n",
       "      <th></th>\n",
       "      <th>A</th>\n",
       "      <th>B</th>\n",
       "      <th>C</th>\n",
       "      <th>D</th>\n",
       "    </tr>\n",
       "  </thead>\n",
       "  <tbody>\n",
       "    <tr>\n",
       "      <th>2013-01-01</th>\n",
       "      <td>NaN</td>\n",
       "      <td>NaN</td>\n",
       "      <td>NaN</td>\n",
       "      <td>NaN</td>\n",
       "    </tr>\n",
       "    <tr>\n",
       "      <th>2013-01-02</th>\n",
       "      <td>NaN</td>\n",
       "      <td>1.622355</td>\n",
       "      <td>1.058329</td>\n",
       "      <td>0.482739</td>\n",
       "    </tr>\n",
       "    <tr>\n",
       "      <th>2013-01-03</th>\n",
       "      <td>2.570225</td>\n",
       "      <td>NaN</td>\n",
       "      <td>NaN</td>\n",
       "      <td>2.269301</td>\n",
       "    </tr>\n",
       "    <tr>\n",
       "      <th>2013-01-04</th>\n",
       "      <td>0.323254</td>\n",
       "      <td>NaN</td>\n",
       "      <td>NaN</td>\n",
       "      <td>0.320976</td>\n",
       "    </tr>\n",
       "    <tr>\n",
       "      <th>2013-01-05</th>\n",
       "      <td>1.308554</td>\n",
       "      <td>NaN</td>\n",
       "      <td>NaN</td>\n",
       "      <td>NaN</td>\n",
       "    </tr>\n",
       "    <tr>\n",
       "      <th>2013-01-06</th>\n",
       "      <td>0.632386</td>\n",
       "      <td>2.071605</td>\n",
       "      <td>0.096008</td>\n",
       "      <td>0.668358</td>\n",
       "    </tr>\n",
       "  </tbody>\n",
       "</table>\n",
       "</div>"
      ],
      "text/plain": [
       "                   A         B         C         D\n",
       "2013-01-01       NaN       NaN       NaN       NaN\n",
       "2013-01-02       NaN  1.622355  1.058329  0.482739\n",
       "2013-01-03  2.570225       NaN       NaN  2.269301\n",
       "2013-01-04  0.323254       NaN       NaN  0.320976\n",
       "2013-01-05  1.308554       NaN       NaN       NaN\n",
       "2013-01-06  0.632386  2.071605  0.096008  0.668358"
      ]
     },
     "execution_count": 29,
     "metadata": {},
     "output_type": "execute_result"
    }
   ],
   "source": [
    "df[df>0]"
   ]
  },
  {
   "cell_type": "code",
   "execution_count": 30,
   "metadata": {
    "collapsed": true,
    "deletable": true,
    "editable": true
   },
   "outputs": [],
   "source": [
    "df2 = df.copy()\n",
    "df2['E'] = ['one', 'one','two','three','four','three']"
   ]
  },
  {
   "cell_type": "code",
   "execution_count": 31,
   "metadata": {
    "collapsed": false,
    "deletable": true,
    "editable": true
   },
   "outputs": [
    {
     "data": {
      "text/html": [
       "<div>\n",
       "<table border=\"1\" class=\"dataframe\">\n",
       "  <thead>\n",
       "    <tr style=\"text-align: right;\">\n",
       "      <th></th>\n",
       "      <th>A</th>\n",
       "      <th>B</th>\n",
       "      <th>C</th>\n",
       "      <th>D</th>\n",
       "      <th>E</th>\n",
       "    </tr>\n",
       "  </thead>\n",
       "  <tbody>\n",
       "    <tr>\n",
       "      <th>2013-01-01</th>\n",
       "      <td>-0.653940</td>\n",
       "      <td>-1.157310</td>\n",
       "      <td>-0.211337</td>\n",
       "      <td>-0.180736</td>\n",
       "      <td>one</td>\n",
       "    </tr>\n",
       "    <tr>\n",
       "      <th>2013-01-02</th>\n",
       "      <td>-0.371667</td>\n",
       "      <td>1.622355</td>\n",
       "      <td>1.058329</td>\n",
       "      <td>0.482739</td>\n",
       "      <td>one</td>\n",
       "    </tr>\n",
       "    <tr>\n",
       "      <th>2013-01-03</th>\n",
       "      <td>2.570225</td>\n",
       "      <td>-0.354195</td>\n",
       "      <td>-0.136308</td>\n",
       "      <td>2.269301</td>\n",
       "      <td>two</td>\n",
       "    </tr>\n",
       "    <tr>\n",
       "      <th>2013-01-04</th>\n",
       "      <td>0.323254</td>\n",
       "      <td>-1.012833</td>\n",
       "      <td>-0.073677</td>\n",
       "      <td>0.320976</td>\n",
       "      <td>three</td>\n",
       "    </tr>\n",
       "    <tr>\n",
       "      <th>2013-01-05</th>\n",
       "      <td>1.308554</td>\n",
       "      <td>-1.058535</td>\n",
       "      <td>-2.045659</td>\n",
       "      <td>-0.746443</td>\n",
       "      <td>four</td>\n",
       "    </tr>\n",
       "    <tr>\n",
       "      <th>2013-01-06</th>\n",
       "      <td>0.632386</td>\n",
       "      <td>2.071605</td>\n",
       "      <td>0.096008</td>\n",
       "      <td>0.668358</td>\n",
       "      <td>three</td>\n",
       "    </tr>\n",
       "  </tbody>\n",
       "</table>\n",
       "</div>"
      ],
      "text/plain": [
       "                   A         B         C         D      E\n",
       "2013-01-01 -0.653940 -1.157310 -0.211337 -0.180736    one\n",
       "2013-01-02 -0.371667  1.622355  1.058329  0.482739    one\n",
       "2013-01-03  2.570225 -0.354195 -0.136308  2.269301    two\n",
       "2013-01-04  0.323254 -1.012833 -0.073677  0.320976  three\n",
       "2013-01-05  1.308554 -1.058535 -2.045659 -0.746443   four\n",
       "2013-01-06  0.632386  2.071605  0.096008  0.668358  three"
      ]
     },
     "execution_count": 31,
     "metadata": {},
     "output_type": "execute_result"
    }
   ],
   "source": [
    "df2"
   ]
  },
  {
   "cell_type": "code",
   "execution_count": 32,
   "metadata": {
    "collapsed": false,
    "deletable": true,
    "editable": true
   },
   "outputs": [
    {
     "data": {
      "text/html": [
       "<div>\n",
       "<table border=\"1\" class=\"dataframe\">\n",
       "  <thead>\n",
       "    <tr style=\"text-align: right;\">\n",
       "      <th></th>\n",
       "      <th>A</th>\n",
       "      <th>B</th>\n",
       "      <th>C</th>\n",
       "      <th>D</th>\n",
       "      <th>E</th>\n",
       "    </tr>\n",
       "  </thead>\n",
       "  <tbody>\n",
       "    <tr>\n",
       "      <th>2013-01-03</th>\n",
       "      <td>2.570225</td>\n",
       "      <td>-0.354195</td>\n",
       "      <td>-0.136308</td>\n",
       "      <td>2.269301</td>\n",
       "      <td>two</td>\n",
       "    </tr>\n",
       "    <tr>\n",
       "      <th>2013-01-05</th>\n",
       "      <td>1.308554</td>\n",
       "      <td>-1.058535</td>\n",
       "      <td>-2.045659</td>\n",
       "      <td>-0.746443</td>\n",
       "      <td>four</td>\n",
       "    </tr>\n",
       "  </tbody>\n",
       "</table>\n",
       "</div>"
      ],
      "text/plain": [
       "                   A         B         C         D     E\n",
       "2013-01-03  2.570225 -0.354195 -0.136308  2.269301   two\n",
       "2013-01-05  1.308554 -1.058535 -2.045659 -0.746443  four"
      ]
     },
     "execution_count": 32,
     "metadata": {},
     "output_type": "execute_result"
    }
   ],
   "source": [
    "df2[df2['E'].isin(['two','four'])]"
   ]
  },
  {
   "cell_type": "markdown",
   "metadata": {
    "deletable": true,
    "editable": true
   },
   "source": [
    "#### 1.1.3.5 Setting"
   ]
  },
  {
   "cell_type": "code",
   "execution_count": 33,
   "metadata": {
    "collapsed": false,
    "deletable": true,
    "editable": true
   },
   "outputs": [],
   "source": [
    "s1 = pd.Series([1,2,3,4,5,6], index=pd.date_range('20130102', periods=6))"
   ]
  },
  {
   "cell_type": "code",
   "execution_count": 34,
   "metadata": {
    "collapsed": false,
    "deletable": true,
    "editable": true
   },
   "outputs": [
    {
     "data": {
      "text/plain": [
       "2013-01-02    1\n",
       "2013-01-03    2\n",
       "2013-01-04    3\n",
       "2013-01-05    4\n",
       "2013-01-06    5\n",
       "2013-01-07    6\n",
       "Freq: D, dtype: int64"
      ]
     },
     "execution_count": 34,
     "metadata": {},
     "output_type": "execute_result"
    }
   ],
   "source": [
    "s1"
   ]
  },
  {
   "cell_type": "code",
   "execution_count": 35,
   "metadata": {
    "collapsed": true,
    "deletable": true,
    "editable": true
   },
   "outputs": [],
   "source": [
    "df['F'] = s1"
   ]
  },
  {
   "cell_type": "code",
   "execution_count": 36,
   "metadata": {
    "collapsed": true,
    "deletable": true,
    "editable": true
   },
   "outputs": [],
   "source": [
    "df.at[dates[0], 'A'] = 0"
   ]
  },
  {
   "cell_type": "code",
   "execution_count": 37,
   "metadata": {
    "collapsed": false,
    "deletable": true,
    "editable": true
   },
   "outputs": [],
   "source": [
    "df.iat[0,1] = 0"
   ]
  },
  {
   "cell_type": "code",
   "execution_count": 38,
   "metadata": {
    "collapsed": true,
    "deletable": true,
    "editable": true
   },
   "outputs": [],
   "source": [
    "df.loc[:,'D'] = np.array([5]* len(df))"
   ]
  },
  {
   "cell_type": "code",
   "execution_count": 39,
   "metadata": {
    "collapsed": false,
    "deletable": true,
    "editable": true
   },
   "outputs": [
    {
     "data": {
      "text/html": [
       "<div>\n",
       "<table border=\"1\" class=\"dataframe\">\n",
       "  <thead>\n",
       "    <tr style=\"text-align: right;\">\n",
       "      <th></th>\n",
       "      <th>A</th>\n",
       "      <th>B</th>\n",
       "      <th>C</th>\n",
       "      <th>D</th>\n",
       "      <th>F</th>\n",
       "    </tr>\n",
       "  </thead>\n",
       "  <tbody>\n",
       "    <tr>\n",
       "      <th>2013-01-01</th>\n",
       "      <td>0.000000</td>\n",
       "      <td>0.000000</td>\n",
       "      <td>-0.211337</td>\n",
       "      <td>5</td>\n",
       "      <td>NaN</td>\n",
       "    </tr>\n",
       "    <tr>\n",
       "      <th>2013-01-02</th>\n",
       "      <td>-0.371667</td>\n",
       "      <td>1.622355</td>\n",
       "      <td>1.058329</td>\n",
       "      <td>5</td>\n",
       "      <td>1.0</td>\n",
       "    </tr>\n",
       "    <tr>\n",
       "      <th>2013-01-03</th>\n",
       "      <td>2.570225</td>\n",
       "      <td>-0.354195</td>\n",
       "      <td>-0.136308</td>\n",
       "      <td>5</td>\n",
       "      <td>2.0</td>\n",
       "    </tr>\n",
       "    <tr>\n",
       "      <th>2013-01-04</th>\n",
       "      <td>0.323254</td>\n",
       "      <td>-1.012833</td>\n",
       "      <td>-0.073677</td>\n",
       "      <td>5</td>\n",
       "      <td>3.0</td>\n",
       "    </tr>\n",
       "    <tr>\n",
       "      <th>2013-01-05</th>\n",
       "      <td>1.308554</td>\n",
       "      <td>-1.058535</td>\n",
       "      <td>-2.045659</td>\n",
       "      <td>5</td>\n",
       "      <td>4.0</td>\n",
       "    </tr>\n",
       "    <tr>\n",
       "      <th>2013-01-06</th>\n",
       "      <td>0.632386</td>\n",
       "      <td>2.071605</td>\n",
       "      <td>0.096008</td>\n",
       "      <td>5</td>\n",
       "      <td>5.0</td>\n",
       "    </tr>\n",
       "  </tbody>\n",
       "</table>\n",
       "</div>"
      ],
      "text/plain": [
       "                   A         B         C  D    F\n",
       "2013-01-01  0.000000  0.000000 -0.211337  5  NaN\n",
       "2013-01-02 -0.371667  1.622355  1.058329  5  1.0\n",
       "2013-01-03  2.570225 -0.354195 -0.136308  5  2.0\n",
       "2013-01-04  0.323254 -1.012833 -0.073677  5  3.0\n",
       "2013-01-05  1.308554 -1.058535 -2.045659  5  4.0\n",
       "2013-01-06  0.632386  2.071605  0.096008  5  5.0"
      ]
     },
     "execution_count": 39,
     "metadata": {},
     "output_type": "execute_result"
    }
   ],
   "source": [
    "df"
   ]
  },
  {
   "cell_type": "code",
   "execution_count": 40,
   "metadata": {
    "collapsed": true,
    "deletable": true,
    "editable": true
   },
   "outputs": [],
   "source": [
    "df2 = df.copy()\n",
    "df2[df2>0] = -df2"
   ]
  },
  {
   "cell_type": "code",
   "execution_count": 41,
   "metadata": {
    "collapsed": false,
    "deletable": true,
    "editable": true,
    "scrolled": true
   },
   "outputs": [
    {
     "data": {
      "text/html": [
       "<div>\n",
       "<table border=\"1\" class=\"dataframe\">\n",
       "  <thead>\n",
       "    <tr style=\"text-align: right;\">\n",
       "      <th></th>\n",
       "      <th>A</th>\n",
       "      <th>B</th>\n",
       "      <th>C</th>\n",
       "      <th>D</th>\n",
       "      <th>F</th>\n",
       "    </tr>\n",
       "  </thead>\n",
       "  <tbody>\n",
       "    <tr>\n",
       "      <th>2013-01-01</th>\n",
       "      <td>0.000000</td>\n",
       "      <td>0.000000</td>\n",
       "      <td>-0.211337</td>\n",
       "      <td>-5</td>\n",
       "      <td>NaN</td>\n",
       "    </tr>\n",
       "    <tr>\n",
       "      <th>2013-01-02</th>\n",
       "      <td>-0.371667</td>\n",
       "      <td>-1.622355</td>\n",
       "      <td>-1.058329</td>\n",
       "      <td>-5</td>\n",
       "      <td>-1.0</td>\n",
       "    </tr>\n",
       "    <tr>\n",
       "      <th>2013-01-03</th>\n",
       "      <td>-2.570225</td>\n",
       "      <td>-0.354195</td>\n",
       "      <td>-0.136308</td>\n",
       "      <td>-5</td>\n",
       "      <td>-2.0</td>\n",
       "    </tr>\n",
       "    <tr>\n",
       "      <th>2013-01-04</th>\n",
       "      <td>-0.323254</td>\n",
       "      <td>-1.012833</td>\n",
       "      <td>-0.073677</td>\n",
       "      <td>-5</td>\n",
       "      <td>-3.0</td>\n",
       "    </tr>\n",
       "    <tr>\n",
       "      <th>2013-01-05</th>\n",
       "      <td>-1.308554</td>\n",
       "      <td>-1.058535</td>\n",
       "      <td>-2.045659</td>\n",
       "      <td>-5</td>\n",
       "      <td>-4.0</td>\n",
       "    </tr>\n",
       "    <tr>\n",
       "      <th>2013-01-06</th>\n",
       "      <td>-0.632386</td>\n",
       "      <td>-2.071605</td>\n",
       "      <td>-0.096008</td>\n",
       "      <td>-5</td>\n",
       "      <td>-5.0</td>\n",
       "    </tr>\n",
       "  </tbody>\n",
       "</table>\n",
       "</div>"
      ],
      "text/plain": [
       "                   A         B         C  D    F\n",
       "2013-01-01  0.000000  0.000000 -0.211337 -5  NaN\n",
       "2013-01-02 -0.371667 -1.622355 -1.058329 -5 -1.0\n",
       "2013-01-03 -2.570225 -0.354195 -0.136308 -5 -2.0\n",
       "2013-01-04 -0.323254 -1.012833 -0.073677 -5 -3.0\n",
       "2013-01-05 -1.308554 -1.058535 -2.045659 -5 -4.0\n",
       "2013-01-06 -0.632386 -2.071605 -0.096008 -5 -5.0"
      ]
     },
     "execution_count": 41,
     "metadata": {},
     "output_type": "execute_result"
    }
   ],
   "source": [
    "df2"
   ]
  },
  {
   "cell_type": "markdown",
   "metadata": {
    "deletable": true,
    "editable": true
   },
   "source": [
    "### 1.1.4 누락 데이터"
   ]
  },
  {
   "cell_type": "code",
   "execution_count": 42,
   "metadata": {
    "collapsed": false
   },
   "outputs": [],
   "source": [
    "df1 = df.reindex(index=dates[0:4], columns=list(df.columns)+ ['E'])"
   ]
  },
  {
   "cell_type": "code",
   "execution_count": 43,
   "metadata": {
    "collapsed": false
   },
   "outputs": [
    {
     "data": {
      "text/html": [
       "<div>\n",
       "<table border=\"1\" class=\"dataframe\">\n",
       "  <thead>\n",
       "    <tr style=\"text-align: right;\">\n",
       "      <th></th>\n",
       "      <th>A</th>\n",
       "      <th>B</th>\n",
       "      <th>C</th>\n",
       "      <th>D</th>\n",
       "      <th>F</th>\n",
       "      <th>E</th>\n",
       "    </tr>\n",
       "  </thead>\n",
       "  <tbody>\n",
       "    <tr>\n",
       "      <th>2013-01-01</th>\n",
       "      <td>0.000000</td>\n",
       "      <td>0.000000</td>\n",
       "      <td>-0.211337</td>\n",
       "      <td>5</td>\n",
       "      <td>NaN</td>\n",
       "      <td>NaN</td>\n",
       "    </tr>\n",
       "    <tr>\n",
       "      <th>2013-01-02</th>\n",
       "      <td>-0.371667</td>\n",
       "      <td>1.622355</td>\n",
       "      <td>1.058329</td>\n",
       "      <td>5</td>\n",
       "      <td>1.0</td>\n",
       "      <td>NaN</td>\n",
       "    </tr>\n",
       "    <tr>\n",
       "      <th>2013-01-03</th>\n",
       "      <td>2.570225</td>\n",
       "      <td>-0.354195</td>\n",
       "      <td>-0.136308</td>\n",
       "      <td>5</td>\n",
       "      <td>2.0</td>\n",
       "      <td>NaN</td>\n",
       "    </tr>\n",
       "    <tr>\n",
       "      <th>2013-01-04</th>\n",
       "      <td>0.323254</td>\n",
       "      <td>-1.012833</td>\n",
       "      <td>-0.073677</td>\n",
       "      <td>5</td>\n",
       "      <td>3.0</td>\n",
       "      <td>NaN</td>\n",
       "    </tr>\n",
       "  </tbody>\n",
       "</table>\n",
       "</div>"
      ],
      "text/plain": [
       "                   A         B         C  D    F   E\n",
       "2013-01-01  0.000000  0.000000 -0.211337  5  NaN NaN\n",
       "2013-01-02 -0.371667  1.622355  1.058329  5  1.0 NaN\n",
       "2013-01-03  2.570225 -0.354195 -0.136308  5  2.0 NaN\n",
       "2013-01-04  0.323254 -1.012833 -0.073677  5  3.0 NaN"
      ]
     },
     "execution_count": 43,
     "metadata": {},
     "output_type": "execute_result"
    }
   ],
   "source": [
    "df1"
   ]
  },
  {
   "cell_type": "code",
   "execution_count": 44,
   "metadata": {
    "collapsed": true
   },
   "outputs": [],
   "source": [
    "df1.loc[dates[0]:dates[1], 'E'] = 1"
   ]
  },
  {
   "cell_type": "code",
   "execution_count": 45,
   "metadata": {
    "collapsed": false
   },
   "outputs": [
    {
     "data": {
      "text/html": [
       "<div>\n",
       "<table border=\"1\" class=\"dataframe\">\n",
       "  <thead>\n",
       "    <tr style=\"text-align: right;\">\n",
       "      <th></th>\n",
       "      <th>A</th>\n",
       "      <th>B</th>\n",
       "      <th>C</th>\n",
       "      <th>D</th>\n",
       "      <th>F</th>\n",
       "      <th>E</th>\n",
       "    </tr>\n",
       "  </thead>\n",
       "  <tbody>\n",
       "    <tr>\n",
       "      <th>2013-01-01</th>\n",
       "      <td>0.000000</td>\n",
       "      <td>0.000000</td>\n",
       "      <td>-0.211337</td>\n",
       "      <td>5</td>\n",
       "      <td>NaN</td>\n",
       "      <td>1.0</td>\n",
       "    </tr>\n",
       "    <tr>\n",
       "      <th>2013-01-02</th>\n",
       "      <td>-0.371667</td>\n",
       "      <td>1.622355</td>\n",
       "      <td>1.058329</td>\n",
       "      <td>5</td>\n",
       "      <td>1.0</td>\n",
       "      <td>1.0</td>\n",
       "    </tr>\n",
       "    <tr>\n",
       "      <th>2013-01-03</th>\n",
       "      <td>2.570225</td>\n",
       "      <td>-0.354195</td>\n",
       "      <td>-0.136308</td>\n",
       "      <td>5</td>\n",
       "      <td>2.0</td>\n",
       "      <td>NaN</td>\n",
       "    </tr>\n",
       "    <tr>\n",
       "      <th>2013-01-04</th>\n",
       "      <td>0.323254</td>\n",
       "      <td>-1.012833</td>\n",
       "      <td>-0.073677</td>\n",
       "      <td>5</td>\n",
       "      <td>3.0</td>\n",
       "      <td>NaN</td>\n",
       "    </tr>\n",
       "  </tbody>\n",
       "</table>\n",
       "</div>"
      ],
      "text/plain": [
       "                   A         B         C  D    F    E\n",
       "2013-01-01  0.000000  0.000000 -0.211337  5  NaN  1.0\n",
       "2013-01-02 -0.371667  1.622355  1.058329  5  1.0  1.0\n",
       "2013-01-03  2.570225 -0.354195 -0.136308  5  2.0  NaN\n",
       "2013-01-04  0.323254 -1.012833 -0.073677  5  3.0  NaN"
      ]
     },
     "execution_count": 45,
     "metadata": {},
     "output_type": "execute_result"
    }
   ],
   "source": [
    "df1"
   ]
  },
  {
   "cell_type": "code",
   "execution_count": 46,
   "metadata": {
    "collapsed": false
   },
   "outputs": [
    {
     "data": {
      "text/html": [
       "<div>\n",
       "<table border=\"1\" class=\"dataframe\">\n",
       "  <thead>\n",
       "    <tr style=\"text-align: right;\">\n",
       "      <th></th>\n",
       "      <th>A</th>\n",
       "      <th>B</th>\n",
       "      <th>C</th>\n",
       "      <th>D</th>\n",
       "      <th>F</th>\n",
       "      <th>E</th>\n",
       "    </tr>\n",
       "  </thead>\n",
       "  <tbody>\n",
       "    <tr>\n",
       "      <th>2013-01-02</th>\n",
       "      <td>-0.371667</td>\n",
       "      <td>1.622355</td>\n",
       "      <td>1.058329</td>\n",
       "      <td>5</td>\n",
       "      <td>1.0</td>\n",
       "      <td>1.0</td>\n",
       "    </tr>\n",
       "  </tbody>\n",
       "</table>\n",
       "</div>"
      ],
      "text/plain": [
       "                   A         B         C  D    F    E\n",
       "2013-01-02 -0.371667  1.622355  1.058329  5  1.0  1.0"
      ]
     },
     "execution_count": 46,
     "metadata": {},
     "output_type": "execute_result"
    }
   ],
   "source": [
    "# NaN 항목 지우기\n",
    "df1.dropna(how='any')"
   ]
  },
  {
   "cell_type": "code",
   "execution_count": 47,
   "metadata": {
    "collapsed": false
   },
   "outputs": [
    {
     "data": {
      "text/html": [
       "<div>\n",
       "<table border=\"1\" class=\"dataframe\">\n",
       "  <thead>\n",
       "    <tr style=\"text-align: right;\">\n",
       "      <th></th>\n",
       "      <th>A</th>\n",
       "      <th>B</th>\n",
       "      <th>C</th>\n",
       "      <th>D</th>\n",
       "      <th>F</th>\n",
       "      <th>E</th>\n",
       "    </tr>\n",
       "  </thead>\n",
       "  <tbody>\n",
       "    <tr>\n",
       "      <th>2013-01-01</th>\n",
       "      <td>0.000000</td>\n",
       "      <td>0.000000</td>\n",
       "      <td>-0.211337</td>\n",
       "      <td>5</td>\n",
       "      <td>5.0</td>\n",
       "      <td>1.0</td>\n",
       "    </tr>\n",
       "    <tr>\n",
       "      <th>2013-01-02</th>\n",
       "      <td>-0.371667</td>\n",
       "      <td>1.622355</td>\n",
       "      <td>1.058329</td>\n",
       "      <td>5</td>\n",
       "      <td>1.0</td>\n",
       "      <td>1.0</td>\n",
       "    </tr>\n",
       "    <tr>\n",
       "      <th>2013-01-03</th>\n",
       "      <td>2.570225</td>\n",
       "      <td>-0.354195</td>\n",
       "      <td>-0.136308</td>\n",
       "      <td>5</td>\n",
       "      <td>2.0</td>\n",
       "      <td>5.0</td>\n",
       "    </tr>\n",
       "    <tr>\n",
       "      <th>2013-01-04</th>\n",
       "      <td>0.323254</td>\n",
       "      <td>-1.012833</td>\n",
       "      <td>-0.073677</td>\n",
       "      <td>5</td>\n",
       "      <td>3.0</td>\n",
       "      <td>5.0</td>\n",
       "    </tr>\n",
       "  </tbody>\n",
       "</table>\n",
       "</div>"
      ],
      "text/plain": [
       "                   A         B         C  D    F    E\n",
       "2013-01-01  0.000000  0.000000 -0.211337  5  5.0  1.0\n",
       "2013-01-02 -0.371667  1.622355  1.058329  5  1.0  1.0\n",
       "2013-01-03  2.570225 -0.354195 -0.136308  5  2.0  5.0\n",
       "2013-01-04  0.323254 -1.012833 -0.073677  5  3.0  5.0"
      ]
     },
     "execution_count": 47,
     "metadata": {},
     "output_type": "execute_result"
    }
   ],
   "source": [
    "#채우기\n",
    "df1.fillna(value=5)"
   ]
  },
  {
   "cell_type": "code",
   "execution_count": 48,
   "metadata": {
    "collapsed": false
   },
   "outputs": [
    {
     "data": {
      "text/html": [
       "<div>\n",
       "<table border=\"1\" class=\"dataframe\">\n",
       "  <thead>\n",
       "    <tr style=\"text-align: right;\">\n",
       "      <th></th>\n",
       "      <th>A</th>\n",
       "      <th>B</th>\n",
       "      <th>C</th>\n",
       "      <th>D</th>\n",
       "      <th>F</th>\n",
       "      <th>E</th>\n",
       "    </tr>\n",
       "  </thead>\n",
       "  <tbody>\n",
       "    <tr>\n",
       "      <th>2013-01-01</th>\n",
       "      <td>False</td>\n",
       "      <td>False</td>\n",
       "      <td>False</td>\n",
       "      <td>False</td>\n",
       "      <td>True</td>\n",
       "      <td>False</td>\n",
       "    </tr>\n",
       "    <tr>\n",
       "      <th>2013-01-02</th>\n",
       "      <td>False</td>\n",
       "      <td>False</td>\n",
       "      <td>False</td>\n",
       "      <td>False</td>\n",
       "      <td>False</td>\n",
       "      <td>False</td>\n",
       "    </tr>\n",
       "    <tr>\n",
       "      <th>2013-01-03</th>\n",
       "      <td>False</td>\n",
       "      <td>False</td>\n",
       "      <td>False</td>\n",
       "      <td>False</td>\n",
       "      <td>False</td>\n",
       "      <td>True</td>\n",
       "    </tr>\n",
       "    <tr>\n",
       "      <th>2013-01-04</th>\n",
       "      <td>False</td>\n",
       "      <td>False</td>\n",
       "      <td>False</td>\n",
       "      <td>False</td>\n",
       "      <td>False</td>\n",
       "      <td>True</td>\n",
       "    </tr>\n",
       "  </tbody>\n",
       "</table>\n",
       "</div>"
      ],
      "text/plain": [
       "                A      B      C      D      F      E\n",
       "2013-01-01  False  False  False  False   True  False\n",
       "2013-01-02  False  False  False  False  False  False\n",
       "2013-01-03  False  False  False  False  False   True\n",
       "2013-01-04  False  False  False  False  False   True"
      ]
     },
     "execution_count": 48,
     "metadata": {},
     "output_type": "execute_result"
    }
   ],
   "source": [
    "pd.isnull(df1)"
   ]
  },
  {
   "cell_type": "markdown",
   "metadata": {},
   "source": [
    "### 1.1.5 연산자\n",
    "#### 1.1.5.1 통계"
   ]
  },
  {
   "cell_type": "code",
   "execution_count": 49,
   "metadata": {
    "collapsed": false
   },
   "outputs": [
    {
     "data": {
      "text/plain": [
       "A    0.743792\n",
       "B    0.211399\n",
       "C   -0.218774\n",
       "D    5.000000\n",
       "F    3.000000\n",
       "dtype: float64"
      ]
     },
     "execution_count": 49,
     "metadata": {},
     "output_type": "execute_result"
    }
   ],
   "source": [
    "#컬럼별 평균\n",
    "df.mean()"
   ]
  },
  {
   "cell_type": "code",
   "execution_count": 50,
   "metadata": {
    "collapsed": false
   },
   "outputs": [
    {
     "data": {
      "text/plain": [
       "2013-01-01    1.197166\n",
       "2013-01-02    1.661803\n",
       "2013-01-03    1.815944\n",
       "2013-01-04    1.447349\n",
       "2013-01-05    1.440872\n",
       "2013-01-06    2.560000\n",
       "Freq: D, dtype: float64"
      ]
     },
     "execution_count": 50,
     "metadata": {},
     "output_type": "execute_result"
    }
   ],
   "source": [
    "#Index 별 평균\n",
    "df.mean(1)"
   ]
  },
  {
   "cell_type": "code",
   "execution_count": 51,
   "metadata": {
    "collapsed": true
   },
   "outputs": [],
   "source": [
    "s = pd.Series([1,3,5,np.nan,6,8], index=dates).shift(2)"
   ]
  },
  {
   "cell_type": "code",
   "execution_count": 52,
   "metadata": {
    "collapsed": false
   },
   "outputs": [
    {
     "data": {
      "text/plain": [
       "2013-01-01    1.0\n",
       "2013-01-02    3.0\n",
       "2013-01-03    5.0\n",
       "2013-01-04    NaN\n",
       "2013-01-05    6.0\n",
       "2013-01-06    8.0\n",
       "Freq: D, dtype: float64"
      ]
     },
     "execution_count": 52,
     "metadata": {},
     "output_type": "execute_result"
    }
   ],
   "source": [
    "pd.Series([1,3,5,np.nan,6,8], index=dates)"
   ]
  },
  {
   "cell_type": "code",
   "execution_count": 53,
   "metadata": {
    "collapsed": false
   },
   "outputs": [
    {
     "data": {
      "text/html": [
       "<div>\n",
       "<table border=\"1\" class=\"dataframe\">\n",
       "  <thead>\n",
       "    <tr style=\"text-align: right;\">\n",
       "      <th></th>\n",
       "      <th>A</th>\n",
       "      <th>B</th>\n",
       "      <th>C</th>\n",
       "      <th>D</th>\n",
       "      <th>F</th>\n",
       "    </tr>\n",
       "  </thead>\n",
       "  <tbody>\n",
       "    <tr>\n",
       "      <th>2013-01-01</th>\n",
       "      <td>NaN</td>\n",
       "      <td>NaN</td>\n",
       "      <td>NaN</td>\n",
       "      <td>NaN</td>\n",
       "      <td>NaN</td>\n",
       "    </tr>\n",
       "    <tr>\n",
       "      <th>2013-01-02</th>\n",
       "      <td>NaN</td>\n",
       "      <td>NaN</td>\n",
       "      <td>NaN</td>\n",
       "      <td>NaN</td>\n",
       "      <td>NaN</td>\n",
       "    </tr>\n",
       "    <tr>\n",
       "      <th>2013-01-03</th>\n",
       "      <td>1.570225</td>\n",
       "      <td>-1.354195</td>\n",
       "      <td>-1.136308</td>\n",
       "      <td>4.0</td>\n",
       "      <td>1.0</td>\n",
       "    </tr>\n",
       "    <tr>\n",
       "      <th>2013-01-04</th>\n",
       "      <td>-2.676746</td>\n",
       "      <td>-4.012833</td>\n",
       "      <td>-3.073677</td>\n",
       "      <td>2.0</td>\n",
       "      <td>0.0</td>\n",
       "    </tr>\n",
       "    <tr>\n",
       "      <th>2013-01-05</th>\n",
       "      <td>-3.691446</td>\n",
       "      <td>-6.058535</td>\n",
       "      <td>-7.045659</td>\n",
       "      <td>0.0</td>\n",
       "      <td>-1.0</td>\n",
       "    </tr>\n",
       "    <tr>\n",
       "      <th>2013-01-06</th>\n",
       "      <td>NaN</td>\n",
       "      <td>NaN</td>\n",
       "      <td>NaN</td>\n",
       "      <td>NaN</td>\n",
       "      <td>NaN</td>\n",
       "    </tr>\n",
       "  </tbody>\n",
       "</table>\n",
       "</div>"
      ],
      "text/plain": [
       "                   A         B         C    D    F\n",
       "2013-01-01       NaN       NaN       NaN  NaN  NaN\n",
       "2013-01-02       NaN       NaN       NaN  NaN  NaN\n",
       "2013-01-03  1.570225 -1.354195 -1.136308  4.0  1.0\n",
       "2013-01-04 -2.676746 -4.012833 -3.073677  2.0  0.0\n",
       "2013-01-05 -3.691446 -6.058535 -7.045659  0.0 -1.0\n",
       "2013-01-06       NaN       NaN       NaN  NaN  NaN"
      ]
     },
     "execution_count": 53,
     "metadata": {},
     "output_type": "execute_result"
    }
   ],
   "source": [
    "df.sub(s, axis='index')"
   ]
  },
  {
   "cell_type": "code",
   "execution_count": 54,
   "metadata": {
    "collapsed": false,
    "deletable": true,
    "editable": true
   },
   "outputs": [
    {
     "data": {
      "text/html": [
       "<div>\n",
       "<table border=\"1\" class=\"dataframe\">\n",
       "  <thead>\n",
       "    <tr style=\"text-align: right;\">\n",
       "      <th></th>\n",
       "      <th>A</th>\n",
       "      <th>B</th>\n",
       "      <th>C</th>\n",
       "      <th>D</th>\n",
       "      <th>F</th>\n",
       "    </tr>\n",
       "  </thead>\n",
       "  <tbody>\n",
       "    <tr>\n",
       "      <th>2013-01-03</th>\n",
       "      <td>1.570225</td>\n",
       "      <td>-1.354195</td>\n",
       "      <td>-1.136308</td>\n",
       "      <td>4.0</td>\n",
       "      <td>1.0</td>\n",
       "    </tr>\n",
       "    <tr>\n",
       "      <th>2013-01-04</th>\n",
       "      <td>-2.676746</td>\n",
       "      <td>-4.012833</td>\n",
       "      <td>-3.073677</td>\n",
       "      <td>2.0</td>\n",
       "      <td>0.0</td>\n",
       "    </tr>\n",
       "    <tr>\n",
       "      <th>2013-01-05</th>\n",
       "      <td>-3.691446</td>\n",
       "      <td>-6.058535</td>\n",
       "      <td>-7.045659</td>\n",
       "      <td>0.0</td>\n",
       "      <td>-1.0</td>\n",
       "    </tr>\n",
       "  </tbody>\n",
       "</table>\n",
       "</div>"
      ],
      "text/plain": [
       "                   A         B         C    D    F\n",
       "2013-01-03  1.570225 -1.354195 -1.136308  4.0  1.0\n",
       "2013-01-04 -2.676746 -4.012833 -3.073677  2.0  0.0\n",
       "2013-01-05 -3.691446 -6.058535 -7.045659  0.0 -1.0"
      ]
     },
     "execution_count": 54,
     "metadata": {},
     "output_type": "execute_result"
    }
   ],
   "source": [
    "df.sub(s, axis='index').dropna()"
   ]
  },
  {
   "cell_type": "markdown",
   "metadata": {},
   "source": [
    "#### 1.1.5.2 Apply"
   ]
  },
  {
   "cell_type": "code",
   "execution_count": 55,
   "metadata": {
    "collapsed": false,
    "deletable": true,
    "editable": true,
    "scrolled": true
   },
   "outputs": [
    {
     "ename": "NameError",
     "evalue": "name 'sdf' is not defined",
     "output_type": "error",
     "traceback": [
      "\u001b[0;31m---------------------------------------------------------------------------\u001b[0m",
      "\u001b[0;31mNameError\u001b[0m                                 Traceback (most recent call last)",
      "\u001b[0;32m<ipython-input-55-d9cca721a735>\u001b[0m in \u001b[0;36m<module>\u001b[0;34m()\u001b[0m\n\u001b[0;32m----> 1\u001b[0;31m \u001b[0msdf\u001b[0m\u001b[1;33m\u001b[0m\u001b[0m\n\u001b[0m",
      "\u001b[0;31mNameError\u001b[0m: name 'sdf' is not defined"
     ]
    }
   ],
   "source": [
    "sdf"
   ]
  },
  {
   "cell_type": "code",
   "execution_count": null,
   "metadata": {
    "collapsed": false
   },
   "outputs": [],
   "source": [
    "df.apply(np.cumsum)"
   ]
  },
  {
   "cell_type": "code",
   "execution_count": null,
   "metadata": {
    "collapsed": false
   },
   "outputs": [],
   "source": [
    "df.apply(lambda x:x.max() - x.min())"
   ]
  },
  {
   "cell_type": "markdown",
   "metadata": {},
   "source": [
    "#### 1.1.5.3 Historamming"
   ]
  },
  {
   "cell_type": "code",
   "execution_count": null,
   "metadata": {
    "collapsed": true
   },
   "outputs": [],
   "source": [
    "s = pd.Series(np.random.randint(0, 7, size=10))"
   ]
  },
  {
   "cell_type": "code",
   "execution_count": null,
   "metadata": {
    "collapsed": false
   },
   "outputs": [],
   "source": [
    "s"
   ]
  },
  {
   "cell_type": "code",
   "execution_count": null,
   "metadata": {
    "collapsed": false
   },
   "outputs": [],
   "source": [
    "#값별 빈도수 \n",
    "s.value_counts()"
   ]
  },
  {
   "cell_type": "markdown",
   "metadata": {},
   "source": [
    "#### 1.1.5.4 문자열 함수"
   ]
  },
  {
   "cell_type": "code",
   "execution_count": null,
   "metadata": {
    "collapsed": true
   },
   "outputs": [],
   "source": [
    "s = pd.Series(['A', 'B', 'C', 'Aaba', 'Baca', np.nan, 'CABA', 'dog', 'cat'])"
   ]
  },
  {
   "cell_type": "code",
   "execution_count": null,
   "metadata": {
    "collapsed": false
   },
   "outputs": [],
   "source": [
    "s.str.lower()"
   ]
  },
  {
   "cell_type": "markdown",
   "metadata": {},
   "source": [
    "### 1.1.6 병합\n",
    "\n",
    "#### 1.1.6.1 Concat"
   ]
  },
  {
   "cell_type": "code",
   "execution_count": null,
   "metadata": {
    "collapsed": false
   },
   "outputs": [],
   "source": [
    "df = pd.DataFrame(np.random.randn(10,4))"
   ]
  },
  {
   "cell_type": "code",
   "execution_count": null,
   "metadata": {
    "collapsed": false
   },
   "outputs": [],
   "source": [
    "df"
   ]
  },
  {
   "cell_type": "code",
   "execution_count": null,
   "metadata": {
    "collapsed": true
   },
   "outputs": [],
   "source": [
    "pieces = [df[:3], df[3:7],df[7:]]"
   ]
  },
  {
   "cell_type": "code",
   "execution_count": null,
   "metadata": {
    "collapsed": false
   },
   "outputs": [],
   "source": [
    "pd.concat(pieces)"
   ]
  },
  {
   "cell_type": "markdown",
   "metadata": {},
   "source": [
    "#### 1.1.6.2 join"
   ]
  },
  {
   "cell_type": "code",
   "execution_count": null,
   "metadata": {
    "collapsed": true
   },
   "outputs": [],
   "source": [
    "left = pd.DataFrame({'key': ['foo', 'foo'], 'lval': [1, 2]})"
   ]
  },
  {
   "cell_type": "code",
   "execution_count": null,
   "metadata": {
    "collapsed": false
   },
   "outputs": [],
   "source": [
    "left"
   ]
  },
  {
   "cell_type": "code",
   "execution_count": null,
   "metadata": {
    "collapsed": false
   },
   "outputs": [],
   "source": [
    "right = pd.DataFrame({'key': ['foo', 'foo'], 'rval': [4, 5]})"
   ]
  },
  {
   "cell_type": "code",
   "execution_count": null,
   "metadata": {
    "collapsed": false
   },
   "outputs": [],
   "source": [
    "right"
   ]
  },
  {
   "cell_type": "code",
   "execution_count": null,
   "metadata": {
    "collapsed": false
   },
   "outputs": [],
   "source": [
    "pd.merge(left, right, on='key')"
   ]
  },
  {
   "cell_type": "markdown",
   "metadata": {},
   "source": [
    "#### 1.1.6.3 Append"
   ]
  },
  {
   "cell_type": "code",
   "execution_count": null,
   "metadata": {
    "collapsed": true
   },
   "outputs": [],
   "source": [
    "df = pd.DataFrame(np.random.randn(8, 4), columns=['A','B','C','D'])"
   ]
  },
  {
   "cell_type": "code",
   "execution_count": null,
   "metadata": {
    "collapsed": false
   },
   "outputs": [],
   "source": [
    "df"
   ]
  },
  {
   "cell_type": "code",
   "execution_count": null,
   "metadata": {
    "collapsed": false
   },
   "outputs": [],
   "source": [
    "s = df.iloc[3]"
   ]
  },
  {
   "cell_type": "code",
   "execution_count": null,
   "metadata": {
    "collapsed": false
   },
   "outputs": [],
   "source": [
    "df.append(s, ignore_index=True)"
   ]
  },
  {
   "cell_type": "markdown",
   "metadata": {},
   "source": [
    "### 1.1.7 그룹핑"
   ]
  },
  {
   "cell_type": "code",
   "execution_count": null,
   "metadata": {
    "collapsed": true
   },
   "outputs": [],
   "source": [
    "df = pd.DataFrame({'A' : ['foo', 'bar', 'foo', 'bar',\n",
    "                          'foo', 'bar', 'foo', 'foo'],\n",
    "                   'B' : ['one', 'one', 'two', 'three',\n",
    "                          'two', 'two', 'one', 'three'],\n",
    "                   'C' : np.random.randn(8),\n",
    "                   'D' : np.random.randn(8)})"
   ]
  },
  {
   "cell_type": "code",
   "execution_count": null,
   "metadata": {
    "collapsed": false
   },
   "outputs": [],
   "source": [
    "df"
   ]
  },
  {
   "cell_type": "code",
   "execution_count": null,
   "metadata": {
    "collapsed": false
   },
   "outputs": [],
   "source": [
    "df.groupby('A').sum()"
   ]
  },
  {
   "cell_type": "code",
   "execution_count": null,
   "metadata": {
    "collapsed": false
   },
   "outputs": [],
   "source": [
    "df.groupby(['A','B']).sum()"
   ]
  },
  {
   "cell_type": "markdown",
   "metadata": {},
   "source": [
    "### 1.1.8 변형\n",
    "\n",
    "#### 1.1.8.1 스택"
   ]
  },
  {
   "cell_type": "code",
   "execution_count": null,
   "metadata": {
    "collapsed": true
   },
   "outputs": [],
   "source": [
    "tuples = list(zip(*[['bar', 'bar', 'baz', 'baz',\n",
    "                     'foo', 'foo', 'qux', 'qux'],\n",
    "                    ['one', 'two', 'one', 'two',\n",
    "                     'one', 'two', 'one', 'two']]))"
   ]
  },
  {
   "cell_type": "code",
   "execution_count": null,
   "metadata": {
    "collapsed": false
   },
   "outputs": [],
   "source": [
    "tuples"
   ]
  },
  {
   "cell_type": "code",
   "execution_count": null,
   "metadata": {
    "collapsed": true
   },
   "outputs": [],
   "source": [
    "index = pd.MultiIndex.from_tuples(tuples, names=['first', 'second'])"
   ]
  },
  {
   "cell_type": "code",
   "execution_count": null,
   "metadata": {
    "collapsed": false
   },
   "outputs": [],
   "source": [
    "index"
   ]
  },
  {
   "cell_type": "code",
   "execution_count": null,
   "metadata": {
    "collapsed": true
   },
   "outputs": [],
   "source": [
    "df = pd.DataFrame(np.random.randn(8, 2), index=index, columns=['A', 'B'])"
   ]
  },
  {
   "cell_type": "code",
   "execution_count": null,
   "metadata": {
    "collapsed": true
   },
   "outputs": [],
   "source": [
    "df2 = df[:4]"
   ]
  },
  {
   "cell_type": "code",
   "execution_count": null,
   "metadata": {
    "collapsed": false
   },
   "outputs": [],
   "source": [
    "df2"
   ]
  },
  {
   "cell_type": "code",
   "execution_count": null,
   "metadata": {
    "collapsed": true
   },
   "outputs": [],
   "source": [
    "#colume 을 index화 \n",
    "stacked = df2.stack()"
   ]
  },
  {
   "cell_type": "code",
   "execution_count": null,
   "metadata": {
    "collapsed": false
   },
   "outputs": [],
   "source": [
    "stacked"
   ]
  },
  {
   "cell_type": "code",
   "execution_count": null,
   "metadata": {
    "collapsed": false
   },
   "outputs": [],
   "source": [
    "type(stacked)"
   ]
  },
  {
   "cell_type": "code",
   "execution_count": null,
   "metadata": {
    "collapsed": false,
    "deletable": true,
    "editable": true
   },
   "outputs": [],
   "source": [
    "stacked.index"
   ]
  },
  {
   "cell_type": "code",
   "execution_count": null,
   "metadata": {
    "collapsed": false,
    "deletable": true,
    "editable": true
   },
   "outputs": [],
   "source": [
    "type(stacked.unstack())"
   ]
  },
  {
   "cell_type": "code",
   "execution_count": null,
   "metadata": {
    "collapsed": false
   },
   "outputs": [],
   "source": [
    "stacked"
   ]
  },
  {
   "cell_type": "code",
   "execution_count": null,
   "metadata": {
    "collapsed": false
   },
   "outputs": [],
   "source": [
    "stacked.unstack()"
   ]
  },
  {
   "cell_type": "code",
   "execution_count": null,
   "metadata": {
    "collapsed": false,
    "deletable": true,
    "editable": true
   },
   "outputs": [],
   "source": [
    "stacked.unstack(1)"
   ]
  },
  {
   "cell_type": "code",
   "execution_count": null,
   "metadata": {
    "collapsed": false,
    "deletable": true,
    "editable": true
   },
   "outputs": [],
   "source": [
    "stacked.unstack(2)"
   ]
  },
  {
   "cell_type": "markdown",
   "metadata": {},
   "source": [
    "#### 1.1.8.2 피벗테이블"
   ]
  },
  {
   "cell_type": "code",
   "execution_count": null,
   "metadata": {
    "collapsed": true
   },
   "outputs": [],
   "source": [
    "df = pd.DataFrame({'A' : ['one', 'one', 'two', 'three'] * 3,\n",
    "                   'B' : ['A', 'B', 'C'] * 4,\n",
    "                   'C' : ['foo', 'foo', 'foo', 'bar', 'bar', 'bar'] * 2,\n",
    "                   'D' : np.random.randn(12),\n",
    "                   'E' : np.random.randn(12)})"
   ]
  },
  {
   "cell_type": "code",
   "execution_count": null,
   "metadata": {
    "collapsed": false
   },
   "outputs": [],
   "source": [
    "df"
   ]
  },
  {
   "cell_type": "code",
   "execution_count": null,
   "metadata": {
    "collapsed": false
   },
   "outputs": [],
   "source": [
    "pd.pivot_table(df, values='D', index=['A','B'], columns=['C'])"
   ]
  },
  {
   "cell_type": "markdown",
   "metadata": {},
   "source": [
    "### 1.1.9 시계열"
   ]
  },
  {
   "cell_type": "code",
   "execution_count": null,
   "metadata": {
    "collapsed": true
   },
   "outputs": [],
   "source": [
    "rng = pd.date_range('1/1/2012', periods=100, freq='S')"
   ]
  },
  {
   "cell_type": "code",
   "execution_count": null,
   "metadata": {
    "collapsed": true
   },
   "outputs": [],
   "source": [
    "ts = pd.Series(np.random.randint(0,500,len(rng)), index=rng)"
   ]
  },
  {
   "cell_type": "code",
   "execution_count": null,
   "metadata": {
    "collapsed": false
   },
   "outputs": [],
   "source": [
    "ts.resample('5Min').sum()"
   ]
  },
  {
   "cell_type": "code",
   "execution_count": null,
   "metadata": {
    "collapsed": true
   },
   "outputs": [],
   "source": [
    "rng = pd.date_range('3/6/2012 00:00', periods=5, freq='D')"
   ]
  },
  {
   "cell_type": "code",
   "execution_count": null,
   "metadata": {
    "collapsed": true
   },
   "outputs": [],
   "source": [
    "ts = pd.Series(np.random.randn(len(rng)), rng)"
   ]
  },
  {
   "cell_type": "code",
   "execution_count": null,
   "metadata": {
    "collapsed": false,
    "scrolled": true
   },
   "outputs": [],
   "source": [
    "rng"
   ]
  },
  {
   "cell_type": "code",
   "execution_count": null,
   "metadata": {
    "collapsed": false
   },
   "outputs": [],
   "source": [
    "ts"
   ]
  },
  {
   "cell_type": "code",
   "execution_count": null,
   "metadata": {
    "collapsed": true
   },
   "outputs": [],
   "source": [
    "ts_utc = ts.tz_localize('UTC')"
   ]
  },
  {
   "cell_type": "code",
   "execution_count": null,
   "metadata": {
    "collapsed": false
   },
   "outputs": [],
   "source": [
    "ts_utc"
   ]
  },
  {
   "cell_type": "code",
   "execution_count": null,
   "metadata": {
    "collapsed": false
   },
   "outputs": [],
   "source": [
    "ts_utc.tz_convert('US/Eastern')"
   ]
  },
  {
   "cell_type": "code",
   "execution_count": null,
   "metadata": {
    "collapsed": false
   },
   "outputs": [],
   "source": [
    "rng = pd.date_range('1/1/2012', periods=5, freq = 'M')"
   ]
  },
  {
   "cell_type": "code",
   "execution_count": null,
   "metadata": {
    "collapsed": true
   },
   "outputs": [],
   "source": [
    "ts = pd.Series(np.random.randn(len(rng)), index=rng)"
   ]
  },
  {
   "cell_type": "code",
   "execution_count": null,
   "metadata": {
    "collapsed": false
   },
   "outputs": [],
   "source": [
    "ts"
   ]
  },
  {
   "cell_type": "code",
   "execution_count": null,
   "metadata": {
    "collapsed": true
   },
   "outputs": [],
   "source": [
    "ps = ts.to_period()"
   ]
  },
  {
   "cell_type": "code",
   "execution_count": null,
   "metadata": {
    "collapsed": false
   },
   "outputs": [],
   "source": [
    "ps"
   ]
  },
  {
   "cell_type": "code",
   "execution_count": null,
   "metadata": {
    "collapsed": false
   },
   "outputs": [],
   "source": [
    "ps.to_timestamp()"
   ]
  },
  {
   "cell_type": "code",
   "execution_count": null,
   "metadata": {
    "collapsed": true
   },
   "outputs": [],
   "source": [
    " prng = pd.period_range('1990Q1', '2000Q4', freq='Q-NOV')"
   ]
  },
  {
   "cell_type": "code",
   "execution_count": null,
   "metadata": {
    "collapsed": true
   },
   "outputs": [],
   "source": [
    "ts = pd.Series(np.random.randn(len(prng)), prng)"
   ]
  },
  {
   "cell_type": "code",
   "execution_count": null,
   "metadata": {
    "collapsed": true
   },
   "outputs": [],
   "source": [
    "ts.index = (prng.asfreq('M', 'e') + 1).asfreq('H', 's') + 9"
   ]
  },
  {
   "cell_type": "code",
   "execution_count": null,
   "metadata": {
    "collapsed": false
   },
   "outputs": [],
   "source": [
    "ts.head()"
   ]
  },
  {
   "cell_type": "markdown",
   "metadata": {},
   "source": [
    "### 1.1.10 분류"
   ]
  },
  {
   "cell_type": "code",
   "execution_count": null,
   "metadata": {
    "collapsed": true
   },
   "outputs": [],
   "source": [
    "df = pd.DataFrame({\"id\":[1,2,3,4,5,6], \"raw_grade\":['a', 'b', 'b', 'a', 'a', 'e']})"
   ]
  },
  {
   "cell_type": "code",
   "execution_count": null,
   "metadata": {
    "collapsed": true
   },
   "outputs": [],
   "source": [
    "df[\"grade\"] = df[\"raw_grade\"].astype(\"category\")"
   ]
  },
  {
   "cell_type": "code",
   "execution_count": null,
   "metadata": {
    "collapsed": false,
    "scrolled": true
   },
   "outputs": [],
   "source": [
    "df[\"grade\"]"
   ]
  },
  {
   "cell_type": "code",
   "execution_count": null,
   "metadata": {
    "collapsed": false,
    "scrolled": false
   },
   "outputs": [],
   "source": [
    "df[\"grade\"].cat.categories = [\"very good\", \"good\", \"very bad\"]"
   ]
  },
  {
   "cell_type": "code",
   "execution_count": null,
   "metadata": {
    "collapsed": false
   },
   "outputs": [],
   "source": [
    "df['grade']"
   ]
  },
  {
   "cell_type": "code",
   "execution_count": null,
   "metadata": {
    "collapsed": false
   },
   "outputs": [],
   "source": [
    "df"
   ]
  },
  {
   "cell_type": "code",
   "execution_count": null,
   "metadata": {
    "collapsed": false
   },
   "outputs": [],
   "source": [
    "df.dtypes"
   ]
  },
  {
   "cell_type": "code",
   "execution_count": null,
   "metadata": {
    "collapsed": false
   },
   "outputs": [],
   "source": [
    "df.sort_values(by='grade')"
   ]
  },
  {
   "cell_type": "code",
   "execution_count": null,
   "metadata": {
    "collapsed": false
   },
   "outputs": [],
   "source": [
    "df.groupby(\"grade\").size()"
   ]
  },
  {
   "cell_type": "code",
   "execution_count": 266,
   "metadata": {
    "collapsed": false
   },
   "outputs": [
    {
     "data": {
      "text/plain": [
       "<pandas.core.groupby.DataFrameGroupBy object at 0x06616470>"
      ]
     },
     "execution_count": 266,
     "metadata": {},
     "output_type": "execute_result"
    }
   ],
   "source": [
    "df.groupby(\"grade\")"
   ]
  },
  {
   "cell_type": "markdown",
   "metadata": {},
   "source": [
    "### 1.1.11 그래프"
   ]
  },
  {
   "cell_type": "code",
   "execution_count": 60,
   "metadata": {
    "collapsed": true
   },
   "outputs": [],
   "source": [
    "import matplotlib.pyplot as plt"
   ]
  },
  {
   "cell_type": "code",
   "execution_count": 78,
   "metadata": {
    "collapsed": true
   },
   "outputs": [],
   "source": [
    "ts = pd.Series(np.random.randn(1000), index=pd.date_range('1/1/2000', periods=1000))"
   ]
  },
  {
   "cell_type": "code",
   "execution_count": 79,
   "metadata": {
    "collapsed": false
   },
   "outputs": [],
   "source": [
    "ts = ts.cumsum()"
   ]
  },
  {
   "cell_type": "code",
   "execution_count": 80,
   "metadata": {
    "collapsed": false
   },
   "outputs": [
    {
     "data": {
      "text/plain": [
       "<matplotlib.axes._subplots.AxesSubplot at 0x9797370>"
      ]
     },
     "execution_count": 80,
     "metadata": {},
     "output_type": "execute_result"
    }
   ],
   "source": [
    "ts.plot()"
   ]
  },
  {
   "cell_type": "code",
   "execution_count": 81,
   "metadata": {
    "collapsed": false
   },
   "outputs": [
    {
     "data": {
      "text/plain": [
       "<matplotlib.figure.Figure at 0x980fa50>"
      ]
     },
     "execution_count": 81,
     "metadata": {},
     "output_type": "execute_result"
    }
   ],
   "source": [
    "plt.figure()"
   ]
  },
  {
   "cell_type": "code",
   "execution_count": 82,
   "metadata": {
    "collapsed": false,
    "editable": true,
    "scrolled": false
   },
   "outputs": [
    {
     "data": {
      "image/png": "[encoded data removed]",
      "text/plain": [
       "<matplotlib.figure.Figure at 0x924ded0>"
      ]
     },
     "metadata": {},
     "output_type": "display_data"
    },
    {
     "data": {
      "text/plain": [
       "<matplotlib.figure.Figure at 0x980fa50>"
      ]
     },
     "metadata": {},
     "output_type": "display_data"
    }
   ],
   "source": [
    "plt.show()"
   ]
  },
  {
   "cell_type": "code",
   "execution_count": 83,
   "metadata": {
    "collapsed": false
   },
   "outputs": [],
   "source": [
    "df = pd.DataFrame(np.random.randn(1000,4), index=ts.index, columns=['A', 'B', 'C', 'D'])"
   ]
  },
  {
   "cell_type": "code",
   "execution_count": 84,
   "metadata": {
    "collapsed": true
   },
   "outputs": [],
   "source": [
    "df = df.cumsum()"
   ]
  },
  {
   "cell_type": "code",
   "execution_count": 85,
   "metadata": {
    "collapsed": false
   },
   "outputs": [
    {
     "data": {
      "text/plain": [
       "<matplotlib.figure.Figure at 0x97c9a10>"
      ]
     },
     "execution_count": 85,
     "metadata": {},
     "output_type": "execute_result"
    }
   ],
   "source": [
    "plt.figure()"
   ]
  },
  {
   "cell_type": "code",
   "execution_count": 86,
   "metadata": {
    "collapsed": false
   },
   "outputs": [
    {
     "data": {
      "text/plain": [
       "<matplotlib.axes._subplots.AxesSubplot at 0x79c24d0>"
      ]
     },
     "execution_count": 86,
     "metadata": {},
     "output_type": "execute_result"
    }
   ],
   "source": [
    "df.plot()"
   ]
  },
  {
   "cell_type": "code",
   "execution_count": 87,
   "metadata": {
    "collapsed": false
   },
   "outputs": [
    {
     "data": {
      "text/plain": [
       "<matplotlib.legend.Legend at 0x9f30ab0>"
      ]
     },
     "execution_count": 87,
     "metadata": {},
     "output_type": "execute_result"
    }
   ],
   "source": [
    "plt.legend(loc='best')"
   ]
  },
  {
   "cell_type": "code",
   "execution_count": 88,
   "metadata": {
    "collapsed": false,
    "deletable": true,
    "editable": true,
    "scrolled": false
   },
   "outputs": [
    {
     "data": {
      "text/plain": [
       "<matplotlib.figure.Figure at 0x97c9a10>"
      ]
     },
     "metadata": {},
     "output_type": "display_data"
    },
    {
     "data": {
      "image/png": "[encoded data removed]",
      "text/plain": [
       "<matplotlib.figure.Figure at 0x97c4c90>"
      ]
     },
     "metadata": {},
     "output_type": "display_data"
    }
   ],
   "source": [
    "plt.show()"
   ]
  },
  {
   "cell_type": "markdown",
   "metadata": {},
   "source": [
    "### 1.1.12 데이터 입출력"
   ]
  },
  {
   "cell_type": "code",
   "execution_count": 110,
   "metadata": {
    "collapsed": true
   },
   "outputs": [],
   "source": [
    "df.to_csv('foo.csv')"
   ]
  },
  {
   "cell_type": "code",
   "execution_count": 111,
   "metadata": {
    "collapsed": false
   },
   "outputs": [
    {
     "data": {
      "text/html": [
       "<div>\n",
       "<table border=\"1\" class=\"dataframe\">\n",
       "  <thead>\n",
       "    <tr style=\"text-align: right;\">\n",
       "      <th></th>\n",
       "      <th>Unnamed: 0</th>\n",
       "      <th>A</th>\n",
       "      <th>B</th>\n",
       "      <th>C</th>\n",
       "      <th>D</th>\n",
       "    </tr>\n",
       "  </thead>\n",
       "  <tbody>\n",
       "    <tr>\n",
       "      <th>0</th>\n",
       "      <td>2000-01-01</td>\n",
       "      <td>1.302195</td>\n",
       "      <td>-0.514921</td>\n",
       "      <td>0.327336</td>\n",
       "      <td>1.163006</td>\n",
       "    </tr>\n",
       "    <tr>\n",
       "      <th>1</th>\n",
       "      <td>2000-01-02</td>\n",
       "      <td>2.004380</td>\n",
       "      <td>0.612925</td>\n",
       "      <td>0.683130</td>\n",
       "      <td>2.441294</td>\n",
       "    </tr>\n",
       "    <tr>\n",
       "      <th>2</th>\n",
       "      <td>2000-01-03</td>\n",
       "      <td>2.572371</td>\n",
       "      <td>1.466030</td>\n",
       "      <td>1.412089</td>\n",
       "      <td>2.195104</td>\n",
       "    </tr>\n",
       "    <tr>\n",
       "      <th>3</th>\n",
       "      <td>2000-01-04</td>\n",
       "      <td>4.905567</td>\n",
       "      <td>1.114307</td>\n",
       "      <td>2.243142</td>\n",
       "      <td>0.202091</td>\n",
       "    </tr>\n",
       "    <tr>\n",
       "      <th>4</th>\n",
       "      <td>2000-01-05</td>\n",
       "      <td>4.143720</td>\n",
       "      <td>0.800782</td>\n",
       "      <td>1.578446</td>\n",
       "      <td>0.035474</td>\n",
       "    </tr>\n",
       "    <tr>\n",
       "      <th>5</th>\n",
       "      <td>2000-01-06</td>\n",
       "      <td>1.917376</td>\n",
       "      <td>-1.492282</td>\n",
       "      <td>3.129891</td>\n",
       "      <td>0.226390</td>\n",
       "    </tr>\n",
       "    <tr>\n",
       "      <th>6</th>\n",
       "      <td>2000-01-07</td>\n",
       "      <td>0.708618</td>\n",
       "      <td>-1.234929</td>\n",
       "      <td>3.362785</td>\n",
       "      <td>0.416949</td>\n",
       "    </tr>\n",
       "    <tr>\n",
       "      <th>7</th>\n",
       "      <td>2000-01-08</td>\n",
       "      <td>0.406252</td>\n",
       "      <td>-2.778541</td>\n",
       "      <td>3.102431</td>\n",
       "      <td>-0.834155</td>\n",
       "    </tr>\n",
       "    <tr>\n",
       "      <th>8</th>\n",
       "      <td>2000-01-09</td>\n",
       "      <td>0.205522</td>\n",
       "      <td>-2.777017</td>\n",
       "      <td>2.633626</td>\n",
       "      <td>0.201853</td>\n",
       "    </tr>\n",
       "    <tr>\n",
       "      <th>9</th>\n",
       "      <td>2000-01-10</td>\n",
       "      <td>1.335021</td>\n",
       "      <td>-3.057542</td>\n",
       "      <td>0.798658</td>\n",
       "      <td>-0.144341</td>\n",
       "    </tr>\n",
       "    <tr>\n",
       "      <th>10</th>\n",
       "      <td>2000-01-11</td>\n",
       "      <td>1.316773</td>\n",
       "      <td>-4.327272</td>\n",
       "      <td>0.238154</td>\n",
       "      <td>0.328218</td>\n",
       "    </tr>\n",
       "    <tr>\n",
       "      <th>11</th>\n",
       "      <td>2000-01-12</td>\n",
       "      <td>0.122440</td>\n",
       "      <td>-4.313161</td>\n",
       "      <td>0.158823</td>\n",
       "      <td>-0.077563</td>\n",
       "    </tr>\n",
       "    <tr>\n",
       "      <th>12</th>\n",
       "      <td>2000-01-13</td>\n",
       "      <td>1.753820</td>\n",
       "      <td>-2.760166</td>\n",
       "      <td>1.399515</td>\n",
       "      <td>-1.646269</td>\n",
       "    </tr>\n",
       "    <tr>\n",
       "      <th>13</th>\n",
       "      <td>2000-01-14</td>\n",
       "      <td>2.558466</td>\n",
       "      <td>-3.511810</td>\n",
       "      <td>0.309302</td>\n",
       "      <td>-1.208040</td>\n",
       "    </tr>\n",
       "    <tr>\n",
       "      <th>14</th>\n",
       "      <td>2000-01-15</td>\n",
       "      <td>1.852004</td>\n",
       "      <td>-2.750476</td>\n",
       "      <td>-0.794515</td>\n",
       "      <td>-0.472063</td>\n",
       "    </tr>\n",
       "    <tr>\n",
       "      <th>15</th>\n",
       "      <td>2000-01-16</td>\n",
       "      <td>2.867519</td>\n",
       "      <td>-0.917187</td>\n",
       "      <td>0.618665</td>\n",
       "      <td>-2.330205</td>\n",
       "    </tr>\n",
       "    <tr>\n",
       "      <th>16</th>\n",
       "      <td>2000-01-17</td>\n",
       "      <td>2.164929</td>\n",
       "      <td>-0.563918</td>\n",
       "      <td>1.077919</td>\n",
       "      <td>-0.530108</td>\n",
       "    </tr>\n",
       "    <tr>\n",
       "      <th>17</th>\n",
       "      <td>2000-01-18</td>\n",
       "      <td>1.003807</td>\n",
       "      <td>-0.090780</td>\n",
       "      <td>1.613908</td>\n",
       "      <td>-0.187566</td>\n",
       "    </tr>\n",
       "    <tr>\n",
       "      <th>18</th>\n",
       "      <td>2000-01-19</td>\n",
       "      <td>2.231055</td>\n",
       "      <td>-0.570104</td>\n",
       "      <td>1.061993</td>\n",
       "      <td>0.238337</td>\n",
       "    </tr>\n",
       "    <tr>\n",
       "      <th>19</th>\n",
       "      <td>2000-01-20</td>\n",
       "      <td>3.519003</td>\n",
       "      <td>-0.601458</td>\n",
       "      <td>0.630943</td>\n",
       "      <td>0.054784</td>\n",
       "    </tr>\n",
       "    <tr>\n",
       "      <th>20</th>\n",
       "      <td>2000-01-21</td>\n",
       "      <td>2.488923</td>\n",
       "      <td>-0.608090</td>\n",
       "      <td>-0.509018</td>\n",
       "      <td>0.268328</td>\n",
       "    </tr>\n",
       "    <tr>\n",
       "      <th>21</th>\n",
       "      <td>2000-01-22</td>\n",
       "      <td>2.047961</td>\n",
       "      <td>-0.247351</td>\n",
       "      <td>-1.413077</td>\n",
       "      <td>1.785076</td>\n",
       "    </tr>\n",
       "    <tr>\n",
       "      <th>22</th>\n",
       "      <td>2000-01-23</td>\n",
       "      <td>2.033998</td>\n",
       "      <td>-0.865053</td>\n",
       "      <td>-1.531012</td>\n",
       "      <td>1.777143</td>\n",
       "    </tr>\n",
       "    <tr>\n",
       "      <th>23</th>\n",
       "      <td>2000-01-24</td>\n",
       "      <td>1.000774</td>\n",
       "      <td>-0.304981</td>\n",
       "      <td>-0.419938</td>\n",
       "      <td>2.335939</td>\n",
       "    </tr>\n",
       "    <tr>\n",
       "      <th>24</th>\n",
       "      <td>2000-01-25</td>\n",
       "      <td>1.226908</td>\n",
       "      <td>-1.503072</td>\n",
       "      <td>0.022608</td>\n",
       "      <td>2.853013</td>\n",
       "    </tr>\n",
       "    <tr>\n",
       "      <th>25</th>\n",
       "      <td>2000-01-26</td>\n",
       "      <td>1.027058</td>\n",
       "      <td>-1.927188</td>\n",
       "      <td>-0.353748</td>\n",
       "      <td>3.265371</td>\n",
       "    </tr>\n",
       "    <tr>\n",
       "      <th>26</th>\n",
       "      <td>2000-01-27</td>\n",
       "      <td>0.062530</td>\n",
       "      <td>-4.375112</td>\n",
       "      <td>1.013982</td>\n",
       "      <td>4.810981</td>\n",
       "    </tr>\n",
       "    <tr>\n",
       "      <th>27</th>\n",
       "      <td>2000-01-28</td>\n",
       "      <td>1.159249</td>\n",
       "      <td>-3.872831</td>\n",
       "      <td>2.376474</td>\n",
       "      <td>4.800799</td>\n",
       "    </tr>\n",
       "    <tr>\n",
       "      <th>28</th>\n",
       "      <td>2000-01-29</td>\n",
       "      <td>2.597230</td>\n",
       "      <td>-2.050723</td>\n",
       "      <td>1.734208</td>\n",
       "      <td>4.327275</td>\n",
       "    </tr>\n",
       "    <tr>\n",
       "      <th>29</th>\n",
       "      <td>2000-01-30</td>\n",
       "      <td>2.100243</td>\n",
       "      <td>-3.601094</td>\n",
       "      <td>1.679297</td>\n",
       "      <td>3.894026</td>\n",
       "    </tr>\n",
       "    <tr>\n",
       "      <th>...</th>\n",
       "      <td>...</td>\n",
       "      <td>...</td>\n",
       "      <td>...</td>\n",
       "      <td>...</td>\n",
       "      <td>...</td>\n",
       "    </tr>\n",
       "    <tr>\n",
       "      <th>970</th>\n",
       "      <td>2002-08-28</td>\n",
       "      <td>25.728071</td>\n",
       "      <td>19.298374</td>\n",
       "      <td>30.972225</td>\n",
       "      <td>-40.431559</td>\n",
       "    </tr>\n",
       "    <tr>\n",
       "      <th>971</th>\n",
       "      <td>2002-08-29</td>\n",
       "      <td>24.907582</td>\n",
       "      <td>20.064984</td>\n",
       "      <td>31.100626</td>\n",
       "      <td>-40.132790</td>\n",
       "    </tr>\n",
       "    <tr>\n",
       "      <th>972</th>\n",
       "      <td>2002-08-30</td>\n",
       "      <td>26.182158</td>\n",
       "      <td>20.486612</td>\n",
       "      <td>30.033629</td>\n",
       "      <td>-41.115045</td>\n",
       "    </tr>\n",
       "    <tr>\n",
       "      <th>973</th>\n",
       "      <td>2002-08-31</td>\n",
       "      <td>26.617354</td>\n",
       "      <td>21.258893</td>\n",
       "      <td>30.240387</td>\n",
       "      <td>-39.625627</td>\n",
       "    </tr>\n",
       "    <tr>\n",
       "      <th>974</th>\n",
       "      <td>2002-09-01</td>\n",
       "      <td>24.931562</td>\n",
       "      <td>19.867474</td>\n",
       "      <td>29.772343</td>\n",
       "      <td>-40.261718</td>\n",
       "    </tr>\n",
       "    <tr>\n",
       "      <th>975</th>\n",
       "      <td>2002-09-02</td>\n",
       "      <td>24.689552</td>\n",
       "      <td>19.431644</td>\n",
       "      <td>29.977001</td>\n",
       "      <td>-40.318563</td>\n",
       "    </tr>\n",
       "    <tr>\n",
       "      <th>976</th>\n",
       "      <td>2002-09-03</td>\n",
       "      <td>24.600123</td>\n",
       "      <td>17.729464</td>\n",
       "      <td>29.155716</td>\n",
       "      <td>-39.817207</td>\n",
       "    </tr>\n",
       "    <tr>\n",
       "      <th>977</th>\n",
       "      <td>2002-09-04</td>\n",
       "      <td>24.088195</td>\n",
       "      <td>19.637516</td>\n",
       "      <td>27.796530</td>\n",
       "      <td>-40.821606</td>\n",
       "    </tr>\n",
       "    <tr>\n",
       "      <th>978</th>\n",
       "      <td>2002-09-05</td>\n",
       "      <td>23.162373</td>\n",
       "      <td>19.109562</td>\n",
       "      <td>28.427027</td>\n",
       "      <td>-42.210097</td>\n",
       "    </tr>\n",
       "    <tr>\n",
       "      <th>979</th>\n",
       "      <td>2002-09-06</td>\n",
       "      <td>23.785555</td>\n",
       "      <td>18.469319</td>\n",
       "      <td>31.017359</td>\n",
       "      <td>-42.792607</td>\n",
       "    </tr>\n",
       "    <tr>\n",
       "      <th>980</th>\n",
       "      <td>2002-09-07</td>\n",
       "      <td>23.181674</td>\n",
       "      <td>19.738711</td>\n",
       "      <td>30.331199</td>\n",
       "      <td>-42.986023</td>\n",
       "    </tr>\n",
       "    <tr>\n",
       "      <th>981</th>\n",
       "      <td>2002-09-08</td>\n",
       "      <td>22.414012</td>\n",
       "      <td>20.999673</td>\n",
       "      <td>30.431537</td>\n",
       "      <td>-42.309563</td>\n",
       "    </tr>\n",
       "    <tr>\n",
       "      <th>982</th>\n",
       "      <td>2002-09-09</td>\n",
       "      <td>19.923596</td>\n",
       "      <td>20.503302</td>\n",
       "      <td>30.201161</td>\n",
       "      <td>-41.449392</td>\n",
       "    </tr>\n",
       "    <tr>\n",
       "      <th>983</th>\n",
       "      <td>2002-09-10</td>\n",
       "      <td>20.775317</td>\n",
       "      <td>18.797465</td>\n",
       "      <td>30.550301</td>\n",
       "      <td>-42.716072</td>\n",
       "    </tr>\n",
       "    <tr>\n",
       "      <th>984</th>\n",
       "      <td>2002-09-11</td>\n",
       "      <td>21.005286</td>\n",
       "      <td>18.489151</td>\n",
       "      <td>29.359386</td>\n",
       "      <td>-44.430364</td>\n",
       "    </tr>\n",
       "    <tr>\n",
       "      <th>985</th>\n",
       "      <td>2002-09-12</td>\n",
       "      <td>21.599957</td>\n",
       "      <td>18.792781</td>\n",
       "      <td>29.847743</td>\n",
       "      <td>-45.048290</td>\n",
       "    </tr>\n",
       "    <tr>\n",
       "      <th>986</th>\n",
       "      <td>2002-09-13</td>\n",
       "      <td>21.265663</td>\n",
       "      <td>17.777175</td>\n",
       "      <td>28.508964</td>\n",
       "      <td>-44.383036</td>\n",
       "    </tr>\n",
       "    <tr>\n",
       "      <th>987</th>\n",
       "      <td>2002-09-14</td>\n",
       "      <td>21.739656</td>\n",
       "      <td>17.683165</td>\n",
       "      <td>28.788930</td>\n",
       "      <td>-45.302826</td>\n",
       "    </tr>\n",
       "    <tr>\n",
       "      <th>988</th>\n",
       "      <td>2002-09-15</td>\n",
       "      <td>21.001342</td>\n",
       "      <td>16.177924</td>\n",
       "      <td>30.147678</td>\n",
       "      <td>-45.540475</td>\n",
       "    </tr>\n",
       "    <tr>\n",
       "      <th>989</th>\n",
       "      <td>2002-09-16</td>\n",
       "      <td>21.375249</td>\n",
       "      <td>16.116893</td>\n",
       "      <td>31.096275</td>\n",
       "      <td>-44.417020</td>\n",
       "    </tr>\n",
       "    <tr>\n",
       "      <th>990</th>\n",
       "      <td>2002-09-17</td>\n",
       "      <td>19.331800</td>\n",
       "      <td>15.549920</td>\n",
       "      <td>31.763737</td>\n",
       "      <td>-43.240634</td>\n",
       "    </tr>\n",
       "    <tr>\n",
       "      <th>991</th>\n",
       "      <td>2002-09-18</td>\n",
       "      <td>18.387892</td>\n",
       "      <td>15.554895</td>\n",
       "      <td>32.865547</td>\n",
       "      <td>-41.923559</td>\n",
       "    </tr>\n",
       "    <tr>\n",
       "      <th>992</th>\n",
       "      <td>2002-09-19</td>\n",
       "      <td>17.590646</td>\n",
       "      <td>14.485993</td>\n",
       "      <td>33.156515</td>\n",
       "      <td>-41.517986</td>\n",
       "    </tr>\n",
       "    <tr>\n",
       "      <th>993</th>\n",
       "      <td>2002-09-20</td>\n",
       "      <td>16.987074</td>\n",
       "      <td>14.807503</td>\n",
       "      <td>32.265289</td>\n",
       "      <td>-40.562622</td>\n",
       "    </tr>\n",
       "    <tr>\n",
       "      <th>994</th>\n",
       "      <td>2002-09-21</td>\n",
       "      <td>17.509299</td>\n",
       "      <td>14.202276</td>\n",
       "      <td>31.461763</td>\n",
       "      <td>-40.570004</td>\n",
       "    </tr>\n",
       "    <tr>\n",
       "      <th>995</th>\n",
       "      <td>2002-09-22</td>\n",
       "      <td>16.088080</td>\n",
       "      <td>15.650366</td>\n",
       "      <td>31.265217</td>\n",
       "      <td>-38.892485</td>\n",
       "    </tr>\n",
       "    <tr>\n",
       "      <th>996</th>\n",
       "      <td>2002-09-23</td>\n",
       "      <td>16.235300</td>\n",
       "      <td>15.668100</td>\n",
       "      <td>31.674551</td>\n",
       "      <td>-39.757736</td>\n",
       "    </tr>\n",
       "    <tr>\n",
       "      <th>997</th>\n",
       "      <td>2002-09-24</td>\n",
       "      <td>15.250013</td>\n",
       "      <td>16.183169</td>\n",
       "      <td>31.794771</td>\n",
       "      <td>-40.253038</td>\n",
       "    </tr>\n",
       "    <tr>\n",
       "      <th>998</th>\n",
       "      <td>2002-09-25</td>\n",
       "      <td>14.861088</td>\n",
       "      <td>16.971837</td>\n",
       "      <td>34.112474</td>\n",
       "      <td>-41.652906</td>\n",
       "    </tr>\n",
       "    <tr>\n",
       "      <th>999</th>\n",
       "      <td>2002-09-26</td>\n",
       "      <td>13.587484</td>\n",
       "      <td>16.085853</td>\n",
       "      <td>34.427399</td>\n",
       "      <td>-40.996743</td>\n",
       "    </tr>\n",
       "  </tbody>\n",
       "</table>\n",
       "<p>1000 rows × 5 columns</p>\n",
       "</div>"
      ],
      "text/plain": [
       "     Unnamed: 0          A          B          C          D\n",
       "0    2000-01-01   1.302195  -0.514921   0.327336   1.163006\n",
       "1    2000-01-02   2.004380   0.612925   0.683130   2.441294\n",
       "2    2000-01-03   2.572371   1.466030   1.412089   2.195104\n",
       "3    2000-01-04   4.905567   1.114307   2.243142   0.202091\n",
       "4    2000-01-05   4.143720   0.800782   1.578446   0.035474\n",
       "5    2000-01-06   1.917376  -1.492282   3.129891   0.226390\n",
       "6    2000-01-07   0.708618  -1.234929   3.362785   0.416949\n",
       "7    2000-01-08   0.406252  -2.778541   3.102431  -0.834155\n",
       "8    2000-01-09   0.205522  -2.777017   2.633626   0.201853\n",
       "9    2000-01-10   1.335021  -3.057542   0.798658  -0.144341\n",
       "10   2000-01-11   1.316773  -4.327272   0.238154   0.328218\n",
       "11   2000-01-12   0.122440  -4.313161   0.158823  -0.077563\n",
       "12   2000-01-13   1.753820  -2.760166   1.399515  -1.646269\n",
       "13   2000-01-14   2.558466  -3.511810   0.309302  -1.208040\n",
       "14   2000-01-15   1.852004  -2.750476  -0.794515  -0.472063\n",
       "15   2000-01-16   2.867519  -0.917187   0.618665  -2.330205\n",
       "16   2000-01-17   2.164929  -0.563918   1.077919  -0.530108\n",
       "17   2000-01-18   1.003807  -0.090780   1.613908  -0.187566\n",
       "18   2000-01-19   2.231055  -0.570104   1.061993   0.238337\n",
       "19   2000-01-20   3.519003  -0.601458   0.630943   0.054784\n",
       "20   2000-01-21   2.488923  -0.608090  -0.509018   0.268328\n",
       "21   2000-01-22   2.047961  -0.247351  -1.413077   1.785076\n",
       "22   2000-01-23   2.033998  -0.865053  -1.531012   1.777143\n",
       "23   2000-01-24   1.000774  -0.304981  -0.419938   2.335939\n",
       "24   2000-01-25   1.226908  -1.503072   0.022608   2.853013\n",
       "25   2000-01-26   1.027058  -1.927188  -0.353748   3.265371\n",
       "26   2000-01-27   0.062530  -4.375112   1.013982   4.810981\n",
       "27   2000-01-28   1.159249  -3.872831   2.376474   4.800799\n",
       "28   2000-01-29   2.597230  -2.050723   1.734208   4.327275\n",
       "29   2000-01-30   2.100243  -3.601094   1.679297   3.894026\n",
       "..          ...        ...        ...        ...        ...\n",
       "970  2002-08-28  25.728071  19.298374  30.972225 -40.431559\n",
       "971  2002-08-29  24.907582  20.064984  31.100626 -40.132790\n",
       "972  2002-08-30  26.182158  20.486612  30.033629 -41.115045\n",
       "973  2002-08-31  26.617354  21.258893  30.240387 -39.625627\n",
       "974  2002-09-01  24.931562  19.867474  29.772343 -40.261718\n",
       "975  2002-09-02  24.689552  19.431644  29.977001 -40.318563\n",
       "976  2002-09-03  24.600123  17.729464  29.155716 -39.817207\n",
       "977  2002-09-04  24.088195  19.637516  27.796530 -40.821606\n",
       "978  2002-09-05  23.162373  19.109562  28.427027 -42.210097\n",
       "979  2002-09-06  23.785555  18.469319  31.017359 -42.792607\n",
       "980  2002-09-07  23.181674  19.738711  30.331199 -42.986023\n",
       "981  2002-09-08  22.414012  20.999673  30.431537 -42.309563\n",
       "982  2002-09-09  19.923596  20.503302  30.201161 -41.449392\n",
       "983  2002-09-10  20.775317  18.797465  30.550301 -42.716072\n",
       "984  2002-09-11  21.005286  18.489151  29.359386 -44.430364\n",
       "985  2002-09-12  21.599957  18.792781  29.847743 -45.048290\n",
       "986  2002-09-13  21.265663  17.777175  28.508964 -44.383036\n",
       "987  2002-09-14  21.739656  17.683165  28.788930 -45.302826\n",
       "988  2002-09-15  21.001342  16.177924  30.147678 -45.540475\n",
       "989  2002-09-16  21.375249  16.116893  31.096275 -44.417020\n",
       "990  2002-09-17  19.331800  15.549920  31.763737 -43.240634\n",
       "991  2002-09-18  18.387892  15.554895  32.865547 -41.923559\n",
       "992  2002-09-19  17.590646  14.485993  33.156515 -41.517986\n",
       "993  2002-09-20  16.987074  14.807503  32.265289 -40.562622\n",
       "994  2002-09-21  17.509299  14.202276  31.461763 -40.570004\n",
       "995  2002-09-22  16.088080  15.650366  31.265217 -38.892485\n",
       "996  2002-09-23  16.235300  15.668100  31.674551 -39.757736\n",
       "997  2002-09-24  15.250013  16.183169  31.794771 -40.253038\n",
       "998  2002-09-25  14.861088  16.971837  34.112474 -41.652906\n",
       "999  2002-09-26  13.587484  16.085853  34.427399 -40.996743\n",
       "\n",
       "[1000 rows x 5 columns]"
      ]
     },
     "execution_count": 111,
     "metadata": {},
     "output_type": "execute_result"
    }
   ],
   "source": [
    "pd.read_csv('foo.csv')"
   ]
  },
  {
   "cell_type": "code",
   "execution_count": 112,
   "metadata": {
    "collapsed": false
   },
   "outputs": [],
   "source": [
    "df.to_json('foo.json')"
   ]
  },
  {
   "cell_type": "code",
   "execution_count": 113,
   "metadata": {
    "collapsed": false
   },
   "outputs": [
    {
     "data": {
      "text/html": [
       "<div>\n",
       "<table border=\"1\" class=\"dataframe\">\n",
       "  <thead>\n",
       "    <tr style=\"text-align: right;\">\n",
       "      <th></th>\n",
       "      <th>A</th>\n",
       "      <th>B</th>\n",
       "      <th>C</th>\n",
       "      <th>D</th>\n",
       "    </tr>\n",
       "  </thead>\n",
       "  <tbody>\n",
       "    <tr>\n",
       "      <th>2001-09-10</th>\n",
       "      <td>39.635868</td>\n",
       "      <td>7.572445</td>\n",
       "      <td>32.382028</td>\n",
       "      <td>-7.625829</td>\n",
       "    </tr>\n",
       "    <tr>\n",
       "      <th>2001-09-11</th>\n",
       "      <td>41.284026</td>\n",
       "      <td>7.337449</td>\n",
       "      <td>31.369196</td>\n",
       "      <td>-6.616254</td>\n",
       "    </tr>\n",
       "    <tr>\n",
       "      <th>2001-09-12</th>\n",
       "      <td>39.925758</td>\n",
       "      <td>5.794613</td>\n",
       "      <td>30.950949</td>\n",
       "      <td>-6.142507</td>\n",
       "    </tr>\n",
       "    <tr>\n",
       "      <th>2001-09-13</th>\n",
       "      <td>40.783529</td>\n",
       "      <td>3.984707</td>\n",
       "      <td>30.853329</td>\n",
       "      <td>-5.748292</td>\n",
       "    </tr>\n",
       "    <tr>\n",
       "      <th>2001-09-14</th>\n",
       "      <td>41.006780</td>\n",
       "      <td>4.019030</td>\n",
       "      <td>29.340309</td>\n",
       "      <td>-6.330789</td>\n",
       "    </tr>\n",
       "    <tr>\n",
       "      <th>2001-09-15</th>\n",
       "      <td>43.221571</td>\n",
       "      <td>4.450230</td>\n",
       "      <td>29.742975</td>\n",
       "      <td>-4.902405</td>\n",
       "    </tr>\n",
       "    <tr>\n",
       "      <th>2001-09-16</th>\n",
       "      <td>43.890971</td>\n",
       "      <td>6.494206</td>\n",
       "      <td>30.169682</td>\n",
       "      <td>-4.011299</td>\n",
       "    </tr>\n",
       "    <tr>\n",
       "      <th>2001-09-17</th>\n",
       "      <td>44.831045</td>\n",
       "      <td>6.177750</td>\n",
       "      <td>29.378227</td>\n",
       "      <td>-1.752796</td>\n",
       "    </tr>\n",
       "    <tr>\n",
       "      <th>2001-09-18</th>\n",
       "      <td>45.745627</td>\n",
       "      <td>5.819841</td>\n",
       "      <td>29.070339</td>\n",
       "      <td>-3.005581</td>\n",
       "    </tr>\n",
       "    <tr>\n",
       "      <th>2001-09-19</th>\n",
       "      <td>47.252017</td>\n",
       "      <td>5.218595</td>\n",
       "      <td>28.003477</td>\n",
       "      <td>-3.897944</td>\n",
       "    </tr>\n",
       "    <tr>\n",
       "      <th>2001-09-20</th>\n",
       "      <td>49.356646</td>\n",
       "      <td>4.809729</td>\n",
       "      <td>27.492265</td>\n",
       "      <td>-4.154254</td>\n",
       "    </tr>\n",
       "    <tr>\n",
       "      <th>2001-09-21</th>\n",
       "      <td>49.413437</td>\n",
       "      <td>6.460149</td>\n",
       "      <td>28.172734</td>\n",
       "      <td>-2.987401</td>\n",
       "    </tr>\n",
       "    <tr>\n",
       "      <th>2001-09-22</th>\n",
       "      <td>49.137415</td>\n",
       "      <td>8.634744</td>\n",
       "      <td>29.369649</td>\n",
       "      <td>-2.719778</td>\n",
       "    </tr>\n",
       "    <tr>\n",
       "      <th>2001-09-23</th>\n",
       "      <td>47.640016</td>\n",
       "      <td>8.197392</td>\n",
       "      <td>32.514847</td>\n",
       "      <td>-1.899940</td>\n",
       "    </tr>\n",
       "    <tr>\n",
       "      <th>2001-09-24</th>\n",
       "      <td>47.580474</td>\n",
       "      <td>9.039775</td>\n",
       "      <td>33.594630</td>\n",
       "      <td>-0.799821</td>\n",
       "    </tr>\n",
       "    <tr>\n",
       "      <th>2001-09-25</th>\n",
       "      <td>48.540693</td>\n",
       "      <td>8.657471</td>\n",
       "      <td>34.680620</td>\n",
       "      <td>-1.281600</td>\n",
       "    </tr>\n",
       "    <tr>\n",
       "      <th>2001-09-26</th>\n",
       "      <td>48.432677</td>\n",
       "      <td>7.029618</td>\n",
       "      <td>32.739288</td>\n",
       "      <td>-2.799938</td>\n",
       "    </tr>\n",
       "    <tr>\n",
       "      <th>2001-09-27</th>\n",
       "      <td>47.951353</td>\n",
       "      <td>7.660937</td>\n",
       "      <td>32.177754</td>\n",
       "      <td>-4.498890</td>\n",
       "    </tr>\n",
       "    <tr>\n",
       "      <th>2001-09-28</th>\n",
       "      <td>48.548017</td>\n",
       "      <td>7.392876</td>\n",
       "      <td>31.625314</td>\n",
       "      <td>-4.869658</td>\n",
       "    </tr>\n",
       "    <tr>\n",
       "      <th>2001-09-29</th>\n",
       "      <td>46.433768</td>\n",
       "      <td>6.387590</td>\n",
       "      <td>33.157055</td>\n",
       "      <td>-4.949379</td>\n",
       "    </tr>\n",
       "    <tr>\n",
       "      <th>2001-09-30</th>\n",
       "      <td>45.015413</td>\n",
       "      <td>9.002380</td>\n",
       "      <td>33.554124</td>\n",
       "      <td>-3.050541</td>\n",
       "    </tr>\n",
       "    <tr>\n",
       "      <th>2001-10-01</th>\n",
       "      <td>45.058178</td>\n",
       "      <td>9.746864</td>\n",
       "      <td>32.353533</td>\n",
       "      <td>-5.338074</td>\n",
       "    </tr>\n",
       "    <tr>\n",
       "      <th>2001-10-02</th>\n",
       "      <td>45.501859</td>\n",
       "      <td>9.884521</td>\n",
       "      <td>33.234076</td>\n",
       "      <td>-4.618985</td>\n",
       "    </tr>\n",
       "    <tr>\n",
       "      <th>2001-10-03</th>\n",
       "      <td>46.050957</td>\n",
       "      <td>9.962397</td>\n",
       "      <td>33.963167</td>\n",
       "      <td>-5.144310</td>\n",
       "    </tr>\n",
       "    <tr>\n",
       "      <th>2001-10-04</th>\n",
       "      <td>47.051591</td>\n",
       "      <td>10.234009</td>\n",
       "      <td>34.293873</td>\n",
       "      <td>-5.709712</td>\n",
       "    </tr>\n",
       "    <tr>\n",
       "      <th>2001-10-05</th>\n",
       "      <td>47.175172</td>\n",
       "      <td>9.690380</td>\n",
       "      <td>34.453730</td>\n",
       "      <td>-5.758505</td>\n",
       "    </tr>\n",
       "    <tr>\n",
       "      <th>2001-10-06</th>\n",
       "      <td>48.854580</td>\n",
       "      <td>10.952360</td>\n",
       "      <td>35.718183</td>\n",
       "      <td>-4.254747</td>\n",
       "    </tr>\n",
       "    <tr>\n",
       "      <th>2001-10-07</th>\n",
       "      <td>48.584047</td>\n",
       "      <td>10.905406</td>\n",
       "      <td>36.988940</td>\n",
       "      <td>-4.478421</td>\n",
       "    </tr>\n",
       "    <tr>\n",
       "      <th>2001-10-08</th>\n",
       "      <td>47.187056</td>\n",
       "      <td>11.128941</td>\n",
       "      <td>36.492252</td>\n",
       "      <td>-3.841411</td>\n",
       "    </tr>\n",
       "    <tr>\n",
       "      <th>2001-10-09</th>\n",
       "      <td>47.401016</td>\n",
       "      <td>12.010377</td>\n",
       "      <td>38.538104</td>\n",
       "      <td>-3.730495</td>\n",
       "    </tr>\n",
       "    <tr>\n",
       "      <th>...</th>\n",
       "      <td>...</td>\n",
       "      <td>...</td>\n",
       "      <td>...</td>\n",
       "      <td>...</td>\n",
       "    </tr>\n",
       "    <tr>\n",
       "      <th>2001-08-11</th>\n",
       "      <td>35.856507</td>\n",
       "      <td>6.612234</td>\n",
       "      <td>25.396448</td>\n",
       "      <td>-2.240611</td>\n",
       "    </tr>\n",
       "    <tr>\n",
       "      <th>2001-08-12</th>\n",
       "      <td>33.437762</td>\n",
       "      <td>5.809086</td>\n",
       "      <td>24.602475</td>\n",
       "      <td>-2.077380</td>\n",
       "    </tr>\n",
       "    <tr>\n",
       "      <th>2001-08-13</th>\n",
       "      <td>34.160726</td>\n",
       "      <td>2.708061</td>\n",
       "      <td>26.033799</td>\n",
       "      <td>-2.076684</td>\n",
       "    </tr>\n",
       "    <tr>\n",
       "      <th>2001-08-14</th>\n",
       "      <td>33.990516</td>\n",
       "      <td>3.869018</td>\n",
       "      <td>26.725391</td>\n",
       "      <td>-2.142716</td>\n",
       "    </tr>\n",
       "    <tr>\n",
       "      <th>2001-08-15</th>\n",
       "      <td>35.439054</td>\n",
       "      <td>3.726628</td>\n",
       "      <td>27.005405</td>\n",
       "      <td>-2.347207</td>\n",
       "    </tr>\n",
       "    <tr>\n",
       "      <th>2001-08-16</th>\n",
       "      <td>36.009524</td>\n",
       "      <td>4.532895</td>\n",
       "      <td>27.097658</td>\n",
       "      <td>-2.388085</td>\n",
       "    </tr>\n",
       "    <tr>\n",
       "      <th>2001-08-17</th>\n",
       "      <td>37.235568</td>\n",
       "      <td>2.876857</td>\n",
       "      <td>27.273485</td>\n",
       "      <td>-2.875379</td>\n",
       "    </tr>\n",
       "    <tr>\n",
       "      <th>2001-08-18</th>\n",
       "      <td>37.235584</td>\n",
       "      <td>3.314506</td>\n",
       "      <td>27.351392</td>\n",
       "      <td>-3.075202</td>\n",
       "    </tr>\n",
       "    <tr>\n",
       "      <th>2001-08-19</th>\n",
       "      <td>36.177346</td>\n",
       "      <td>3.595550</td>\n",
       "      <td>26.312872</td>\n",
       "      <td>-3.283668</td>\n",
       "    </tr>\n",
       "    <tr>\n",
       "      <th>2001-08-20</th>\n",
       "      <td>37.513787</td>\n",
       "      <td>2.375630</td>\n",
       "      <td>27.781232</td>\n",
       "      <td>-3.785659</td>\n",
       "    </tr>\n",
       "    <tr>\n",
       "      <th>2001-08-21</th>\n",
       "      <td>36.825853</td>\n",
       "      <td>2.029201</td>\n",
       "      <td>26.025440</td>\n",
       "      <td>-2.529402</td>\n",
       "    </tr>\n",
       "    <tr>\n",
       "      <th>2001-08-22</th>\n",
       "      <td>37.462277</td>\n",
       "      <td>0.861699</td>\n",
       "      <td>25.865192</td>\n",
       "      <td>-2.273401</td>\n",
       "    </tr>\n",
       "    <tr>\n",
       "      <th>2001-08-23</th>\n",
       "      <td>37.865777</td>\n",
       "      <td>4.476030</td>\n",
       "      <td>25.860172</td>\n",
       "      <td>-4.875263</td>\n",
       "    </tr>\n",
       "    <tr>\n",
       "      <th>2001-08-24</th>\n",
       "      <td>38.147665</td>\n",
       "      <td>3.682237</td>\n",
       "      <td>25.398039</td>\n",
       "      <td>-7.052172</td>\n",
       "    </tr>\n",
       "    <tr>\n",
       "      <th>2001-08-25</th>\n",
       "      <td>39.017148</td>\n",
       "      <td>5.083736</td>\n",
       "      <td>25.978737</td>\n",
       "      <td>-6.748160</td>\n",
       "    </tr>\n",
       "    <tr>\n",
       "      <th>2001-08-26</th>\n",
       "      <td>37.682632</td>\n",
       "      <td>5.637874</td>\n",
       "      <td>25.562393</td>\n",
       "      <td>-4.938802</td>\n",
       "    </tr>\n",
       "    <tr>\n",
       "      <th>2001-08-27</th>\n",
       "      <td>36.217498</td>\n",
       "      <td>6.013449</td>\n",
       "      <td>26.366490</td>\n",
       "      <td>-5.140717</td>\n",
       "    </tr>\n",
       "    <tr>\n",
       "      <th>2001-08-28</th>\n",
       "      <td>36.971113</td>\n",
       "      <td>4.132660</td>\n",
       "      <td>27.375889</td>\n",
       "      <td>-5.732866</td>\n",
       "    </tr>\n",
       "    <tr>\n",
       "      <th>2001-08-29</th>\n",
       "      <td>35.219354</td>\n",
       "      <td>4.217491</td>\n",
       "      <td>29.411085</td>\n",
       "      <td>-6.903326</td>\n",
       "    </tr>\n",
       "    <tr>\n",
       "      <th>2001-08-30</th>\n",
       "      <td>36.053831</td>\n",
       "      <td>4.593363</td>\n",
       "      <td>29.522649</td>\n",
       "      <td>-7.804487</td>\n",
       "    </tr>\n",
       "    <tr>\n",
       "      <th>2001-08-31</th>\n",
       "      <td>35.064230</td>\n",
       "      <td>3.843239</td>\n",
       "      <td>28.126425</td>\n",
       "      <td>-6.543363</td>\n",
       "    </tr>\n",
       "    <tr>\n",
       "      <th>2001-09-01</th>\n",
       "      <td>36.859178</td>\n",
       "      <td>4.820251</td>\n",
       "      <td>28.681463</td>\n",
       "      <td>-6.097825</td>\n",
       "    </tr>\n",
       "    <tr>\n",
       "      <th>2001-09-02</th>\n",
       "      <td>37.409351</td>\n",
       "      <td>4.351821</td>\n",
       "      <td>29.801033</td>\n",
       "      <td>-7.697925</td>\n",
       "    </tr>\n",
       "    <tr>\n",
       "      <th>2001-09-03</th>\n",
       "      <td>37.163324</td>\n",
       "      <td>4.201945</td>\n",
       "      <td>29.664251</td>\n",
       "      <td>-7.761677</td>\n",
       "    </tr>\n",
       "    <tr>\n",
       "      <th>2001-09-04</th>\n",
       "      <td>35.388192</td>\n",
       "      <td>5.174846</td>\n",
       "      <td>28.364093</td>\n",
       "      <td>-7.542818</td>\n",
       "    </tr>\n",
       "    <tr>\n",
       "      <th>2001-09-05</th>\n",
       "      <td>35.681190</td>\n",
       "      <td>6.329676</td>\n",
       "      <td>29.371635</td>\n",
       "      <td>-7.656022</td>\n",
       "    </tr>\n",
       "    <tr>\n",
       "      <th>2001-09-06</th>\n",
       "      <td>36.325877</td>\n",
       "      <td>6.876029</td>\n",
       "      <td>28.255564</td>\n",
       "      <td>-7.610821</td>\n",
       "    </tr>\n",
       "    <tr>\n",
       "      <th>2001-09-07</th>\n",
       "      <td>36.473068</td>\n",
       "      <td>6.475857</td>\n",
       "      <td>29.705806</td>\n",
       "      <td>-6.712573</td>\n",
       "    </tr>\n",
       "    <tr>\n",
       "      <th>2001-09-08</th>\n",
       "      <td>37.790595</td>\n",
       "      <td>8.172096</td>\n",
       "      <td>29.002218</td>\n",
       "      <td>-7.389011</td>\n",
       "    </tr>\n",
       "    <tr>\n",
       "      <th>2001-09-09</th>\n",
       "      <td>38.013322</td>\n",
       "      <td>7.853368</td>\n",
       "      <td>29.506267</td>\n",
       "      <td>-7.161702</td>\n",
       "    </tr>\n",
       "  </tbody>\n",
       "</table>\n",
       "<p>1000 rows × 4 columns</p>\n",
       "</div>"
      ],
      "text/plain": [
       "                    A          B          C         D\n",
       "2001-09-10  39.635868   7.572445  32.382028 -7.625829\n",
       "2001-09-11  41.284026   7.337449  31.369196 -6.616254\n",
       "2001-09-12  39.925758   5.794613  30.950949 -6.142507\n",
       "2001-09-13  40.783529   3.984707  30.853329 -5.748292\n",
       "2001-09-14  41.006780   4.019030  29.340309 -6.330789\n",
       "2001-09-15  43.221571   4.450230  29.742975 -4.902405\n",
       "2001-09-16  43.890971   6.494206  30.169682 -4.011299\n",
       "2001-09-17  44.831045   6.177750  29.378227 -1.752796\n",
       "2001-09-18  45.745627   5.819841  29.070339 -3.005581\n",
       "2001-09-19  47.252017   5.218595  28.003477 -3.897944\n",
       "2001-09-20  49.356646   4.809729  27.492265 -4.154254\n",
       "2001-09-21  49.413437   6.460149  28.172734 -2.987401\n",
       "2001-09-22  49.137415   8.634744  29.369649 -2.719778\n",
       "2001-09-23  47.640016   8.197392  32.514847 -1.899940\n",
       "2001-09-24  47.580474   9.039775  33.594630 -0.799821\n",
       "2001-09-25  48.540693   8.657471  34.680620 -1.281600\n",
       "2001-09-26  48.432677   7.029618  32.739288 -2.799938\n",
       "2001-09-27  47.951353   7.660937  32.177754 -4.498890\n",
       "2001-09-28  48.548017   7.392876  31.625314 -4.869658\n",
       "2001-09-29  46.433768   6.387590  33.157055 -4.949379\n",
       "2001-09-30  45.015413   9.002380  33.554124 -3.050541\n",
       "2001-10-01  45.058178   9.746864  32.353533 -5.338074\n",
       "2001-10-02  45.501859   9.884521  33.234076 -4.618985\n",
       "2001-10-03  46.050957   9.962397  33.963167 -5.144310\n",
       "2001-10-04  47.051591  10.234009  34.293873 -5.709712\n",
       "2001-10-05  47.175172   9.690380  34.453730 -5.758505\n",
       "2001-10-06  48.854580  10.952360  35.718183 -4.254747\n",
       "2001-10-07  48.584047  10.905406  36.988940 -4.478421\n",
       "2001-10-08  47.187056  11.128941  36.492252 -3.841411\n",
       "2001-10-09  47.401016  12.010377  38.538104 -3.730495\n",
       "...               ...        ...        ...       ...\n",
       "2001-08-11  35.856507   6.612234  25.396448 -2.240611\n",
       "2001-08-12  33.437762   5.809086  24.602475 -2.077380\n",
       "2001-08-13  34.160726   2.708061  26.033799 -2.076684\n",
       "2001-08-14  33.990516   3.869018  26.725391 -2.142716\n",
       "2001-08-15  35.439054   3.726628  27.005405 -2.347207\n",
       "2001-08-16  36.009524   4.532895  27.097658 -2.388085\n",
       "2001-08-17  37.235568   2.876857  27.273485 -2.875379\n",
       "2001-08-18  37.235584   3.314506  27.351392 -3.075202\n",
       "2001-08-19  36.177346   3.595550  26.312872 -3.283668\n",
       "2001-08-20  37.513787   2.375630  27.781232 -3.785659\n",
       "2001-08-21  36.825853   2.029201  26.025440 -2.529402\n",
       "2001-08-22  37.462277   0.861699  25.865192 -2.273401\n",
       "2001-08-23  37.865777   4.476030  25.860172 -4.875263\n",
       "2001-08-24  38.147665   3.682237  25.398039 -7.052172\n",
       "2001-08-25  39.017148   5.083736  25.978737 -6.748160\n",
       "2001-08-26  37.682632   5.637874  25.562393 -4.938802\n",
       "2001-08-27  36.217498   6.013449  26.366490 -5.140717\n",
       "2001-08-28  36.971113   4.132660  27.375889 -5.732866\n",
       "2001-08-29  35.219354   4.217491  29.411085 -6.903326\n",
       "2001-08-30  36.053831   4.593363  29.522649 -7.804487\n",
       "2001-08-31  35.064230   3.843239  28.126425 -6.543363\n",
       "2001-09-01  36.859178   4.820251  28.681463 -6.097825\n",
       "2001-09-02  37.409351   4.351821  29.801033 -7.697925\n",
       "2001-09-03  37.163324   4.201945  29.664251 -7.761677\n",
       "2001-09-04  35.388192   5.174846  28.364093 -7.542818\n",
       "2001-09-05  35.681190   6.329676  29.371635 -7.656022\n",
       "2001-09-06  36.325877   6.876029  28.255564 -7.610821\n",
       "2001-09-07  36.473068   6.475857  29.705806 -6.712573\n",
       "2001-09-08  37.790595   8.172096  29.002218 -7.389011\n",
       "2001-09-09  38.013322   7.853368  29.506267 -7.161702\n",
       "\n",
       "[1000 rows x 4 columns]"
      ]
     },
     "execution_count": 113,
     "metadata": {},
     "output_type": "execute_result"
    }
   ],
   "source": [
    "pd.read_json('foo.json')"
   ]
  },
  {
   "cell_type": "code",
   "execution_count": 114,
   "metadata": {
    "collapsed": false
   },
   "outputs": [],
   "source": [
    "df.to_hdf('foo.h5', 'df')"
   ]
  },
  {
   "cell_type": "code",
   "execution_count": 115,
   "metadata": {
    "collapsed": false
   },
   "outputs": [
    {
     "data": {
      "text/html": [
       "<div>\n",
       "<table border=\"1\" class=\"dataframe\">\n",
       "  <thead>\n",
       "    <tr style=\"text-align: right;\">\n",
       "      <th></th>\n",
       "      <th>A</th>\n",
       "      <th>B</th>\n",
       "      <th>C</th>\n",
       "      <th>D</th>\n",
       "    </tr>\n",
       "  </thead>\n",
       "  <tbody>\n",
       "    <tr>\n",
       "      <th>2000-01-01</th>\n",
       "      <td>1.302195</td>\n",
       "      <td>-0.514921</td>\n",
       "      <td>0.327336</td>\n",
       "      <td>1.163006</td>\n",
       "    </tr>\n",
       "    <tr>\n",
       "      <th>2000-01-02</th>\n",
       "      <td>2.004380</td>\n",
       "      <td>0.612925</td>\n",
       "      <td>0.683130</td>\n",
       "      <td>2.441294</td>\n",
       "    </tr>\n",
       "    <tr>\n",
       "      <th>2000-01-03</th>\n",
       "      <td>2.572371</td>\n",
       "      <td>1.466030</td>\n",
       "      <td>1.412089</td>\n",
       "      <td>2.195104</td>\n",
       "    </tr>\n",
       "    <tr>\n",
       "      <th>2000-01-04</th>\n",
       "      <td>4.905567</td>\n",
       "      <td>1.114307</td>\n",
       "      <td>2.243142</td>\n",
       "      <td>0.202091</td>\n",
       "    </tr>\n",
       "    <tr>\n",
       "      <th>2000-01-05</th>\n",
       "      <td>4.143720</td>\n",
       "      <td>0.800782</td>\n",
       "      <td>1.578446</td>\n",
       "      <td>0.035474</td>\n",
       "    </tr>\n",
       "    <tr>\n",
       "      <th>2000-01-06</th>\n",
       "      <td>1.917376</td>\n",
       "      <td>-1.492282</td>\n",
       "      <td>3.129891</td>\n",
       "      <td>0.226390</td>\n",
       "    </tr>\n",
       "    <tr>\n",
       "      <th>2000-01-07</th>\n",
       "      <td>0.708618</td>\n",
       "      <td>-1.234929</td>\n",
       "      <td>3.362785</td>\n",
       "      <td>0.416949</td>\n",
       "    </tr>\n",
       "    <tr>\n",
       "      <th>2000-01-08</th>\n",
       "      <td>0.406252</td>\n",
       "      <td>-2.778541</td>\n",
       "      <td>3.102431</td>\n",
       "      <td>-0.834155</td>\n",
       "    </tr>\n",
       "    <tr>\n",
       "      <th>2000-01-09</th>\n",
       "      <td>0.205522</td>\n",
       "      <td>-2.777017</td>\n",
       "      <td>2.633626</td>\n",
       "      <td>0.201853</td>\n",
       "    </tr>\n",
       "    <tr>\n",
       "      <th>2000-01-10</th>\n",
       "      <td>1.335021</td>\n",
       "      <td>-3.057542</td>\n",
       "      <td>0.798658</td>\n",
       "      <td>-0.144341</td>\n",
       "    </tr>\n",
       "    <tr>\n",
       "      <th>2000-01-11</th>\n",
       "      <td>1.316773</td>\n",
       "      <td>-4.327272</td>\n",
       "      <td>0.238154</td>\n",
       "      <td>0.328218</td>\n",
       "    </tr>\n",
       "    <tr>\n",
       "      <th>2000-01-12</th>\n",
       "      <td>0.122440</td>\n",
       "      <td>-4.313161</td>\n",
       "      <td>0.158823</td>\n",
       "      <td>-0.077563</td>\n",
       "    </tr>\n",
       "    <tr>\n",
       "      <th>2000-01-13</th>\n",
       "      <td>1.753820</td>\n",
       "      <td>-2.760166</td>\n",
       "      <td>1.399515</td>\n",
       "      <td>-1.646269</td>\n",
       "    </tr>\n",
       "    <tr>\n",
       "      <th>2000-01-14</th>\n",
       "      <td>2.558466</td>\n",
       "      <td>-3.511810</td>\n",
       "      <td>0.309302</td>\n",
       "      <td>-1.208040</td>\n",
       "    </tr>\n",
       "    <tr>\n",
       "      <th>2000-01-15</th>\n",
       "      <td>1.852004</td>\n",
       "      <td>-2.750476</td>\n",
       "      <td>-0.794515</td>\n",
       "      <td>-0.472063</td>\n",
       "    </tr>\n",
       "    <tr>\n",
       "      <th>2000-01-16</th>\n",
       "      <td>2.867519</td>\n",
       "      <td>-0.917187</td>\n",
       "      <td>0.618665</td>\n",
       "      <td>-2.330205</td>\n",
       "    </tr>\n",
       "    <tr>\n",
       "      <th>2000-01-17</th>\n",
       "      <td>2.164929</td>\n",
       "      <td>-0.563918</td>\n",
       "      <td>1.077919</td>\n",
       "      <td>-0.530108</td>\n",
       "    </tr>\n",
       "    <tr>\n",
       "      <th>2000-01-18</th>\n",
       "      <td>1.003807</td>\n",
       "      <td>-0.090780</td>\n",
       "      <td>1.613908</td>\n",
       "      <td>-0.187566</td>\n",
       "    </tr>\n",
       "    <tr>\n",
       "      <th>2000-01-19</th>\n",
       "      <td>2.231055</td>\n",
       "      <td>-0.570104</td>\n",
       "      <td>1.061993</td>\n",
       "      <td>0.238337</td>\n",
       "    </tr>\n",
       "    <tr>\n",
       "      <th>2000-01-20</th>\n",
       "      <td>3.519003</td>\n",
       "      <td>-0.601458</td>\n",
       "      <td>0.630943</td>\n",
       "      <td>0.054784</td>\n",
       "    </tr>\n",
       "    <tr>\n",
       "      <th>2000-01-21</th>\n",
       "      <td>2.488923</td>\n",
       "      <td>-0.608090</td>\n",
       "      <td>-0.509018</td>\n",
       "      <td>0.268328</td>\n",
       "    </tr>\n",
       "    <tr>\n",
       "      <th>2000-01-22</th>\n",
       "      <td>2.047961</td>\n",
       "      <td>-0.247351</td>\n",
       "      <td>-1.413077</td>\n",
       "      <td>1.785076</td>\n",
       "    </tr>\n",
       "    <tr>\n",
       "      <th>2000-01-23</th>\n",
       "      <td>2.033998</td>\n",
       "      <td>-0.865053</td>\n",
       "      <td>-1.531012</td>\n",
       "      <td>1.777143</td>\n",
       "    </tr>\n",
       "    <tr>\n",
       "      <th>2000-01-24</th>\n",
       "      <td>1.000774</td>\n",
       "      <td>-0.304981</td>\n",
       "      <td>-0.419938</td>\n",
       "      <td>2.335939</td>\n",
       "    </tr>\n",
       "    <tr>\n",
       "      <th>2000-01-25</th>\n",
       "      <td>1.226908</td>\n",
       "      <td>-1.503072</td>\n",
       "      <td>0.022608</td>\n",
       "      <td>2.853013</td>\n",
       "    </tr>\n",
       "    <tr>\n",
       "      <th>2000-01-26</th>\n",
       "      <td>1.027058</td>\n",
       "      <td>-1.927188</td>\n",
       "      <td>-0.353748</td>\n",
       "      <td>3.265371</td>\n",
       "    </tr>\n",
       "    <tr>\n",
       "      <th>2000-01-27</th>\n",
       "      <td>0.062530</td>\n",
       "      <td>-4.375112</td>\n",
       "      <td>1.013982</td>\n",
       "      <td>4.810981</td>\n",
       "    </tr>\n",
       "    <tr>\n",
       "      <th>2000-01-28</th>\n",
       "      <td>1.159249</td>\n",
       "      <td>-3.872831</td>\n",
       "      <td>2.376474</td>\n",
       "      <td>4.800799</td>\n",
       "    </tr>\n",
       "    <tr>\n",
       "      <th>2000-01-29</th>\n",
       "      <td>2.597230</td>\n",
       "      <td>-2.050723</td>\n",
       "      <td>1.734208</td>\n",
       "      <td>4.327275</td>\n",
       "    </tr>\n",
       "    <tr>\n",
       "      <th>2000-01-30</th>\n",
       "      <td>2.100243</td>\n",
       "      <td>-3.601094</td>\n",
       "      <td>1.679297</td>\n",
       "      <td>3.894026</td>\n",
       "    </tr>\n",
       "    <tr>\n",
       "      <th>...</th>\n",
       "      <td>...</td>\n",
       "      <td>...</td>\n",
       "      <td>...</td>\n",
       "      <td>...</td>\n",
       "    </tr>\n",
       "    <tr>\n",
       "      <th>2002-08-28</th>\n",
       "      <td>25.728071</td>\n",
       "      <td>19.298374</td>\n",
       "      <td>30.972225</td>\n",
       "      <td>-40.431559</td>\n",
       "    </tr>\n",
       "    <tr>\n",
       "      <th>2002-08-29</th>\n",
       "      <td>24.907582</td>\n",
       "      <td>20.064984</td>\n",
       "      <td>31.100626</td>\n",
       "      <td>-40.132790</td>\n",
       "    </tr>\n",
       "    <tr>\n",
       "      <th>2002-08-30</th>\n",
       "      <td>26.182158</td>\n",
       "      <td>20.486612</td>\n",
       "      <td>30.033629</td>\n",
       "      <td>-41.115045</td>\n",
       "    </tr>\n",
       "    <tr>\n",
       "      <th>2002-08-31</th>\n",
       "      <td>26.617354</td>\n",
       "      <td>21.258893</td>\n",
       "      <td>30.240387</td>\n",
       "      <td>-39.625627</td>\n",
       "    </tr>\n",
       "    <tr>\n",
       "      <th>2002-09-01</th>\n",
       "      <td>24.931562</td>\n",
       "      <td>19.867474</td>\n",
       "      <td>29.772343</td>\n",
       "      <td>-40.261718</td>\n",
       "    </tr>\n",
       "    <tr>\n",
       "      <th>2002-09-02</th>\n",
       "      <td>24.689552</td>\n",
       "      <td>19.431644</td>\n",
       "      <td>29.977001</td>\n",
       "      <td>-40.318563</td>\n",
       "    </tr>\n",
       "    <tr>\n",
       "      <th>2002-09-03</th>\n",
       "      <td>24.600123</td>\n",
       "      <td>17.729464</td>\n",
       "      <td>29.155716</td>\n",
       "      <td>-39.817207</td>\n",
       "    </tr>\n",
       "    <tr>\n",
       "      <th>2002-09-04</th>\n",
       "      <td>24.088195</td>\n",
       "      <td>19.637516</td>\n",
       "      <td>27.796530</td>\n",
       "      <td>-40.821606</td>\n",
       "    </tr>\n",
       "    <tr>\n",
       "      <th>2002-09-05</th>\n",
       "      <td>23.162373</td>\n",
       "      <td>19.109562</td>\n",
       "      <td>28.427027</td>\n",
       "      <td>-42.210097</td>\n",
       "    </tr>\n",
       "    <tr>\n",
       "      <th>2002-09-06</th>\n",
       "      <td>23.785555</td>\n",
       "      <td>18.469319</td>\n",
       "      <td>31.017359</td>\n",
       "      <td>-42.792607</td>\n",
       "    </tr>\n",
       "    <tr>\n",
       "      <th>2002-09-07</th>\n",
       "      <td>23.181674</td>\n",
       "      <td>19.738711</td>\n",
       "      <td>30.331199</td>\n",
       "      <td>-42.986023</td>\n",
       "    </tr>\n",
       "    <tr>\n",
       "      <th>2002-09-08</th>\n",
       "      <td>22.414012</td>\n",
       "      <td>20.999673</td>\n",
       "      <td>30.431537</td>\n",
       "      <td>-42.309563</td>\n",
       "    </tr>\n",
       "    <tr>\n",
       "      <th>2002-09-09</th>\n",
       "      <td>19.923596</td>\n",
       "      <td>20.503302</td>\n",
       "      <td>30.201161</td>\n",
       "      <td>-41.449392</td>\n",
       "    </tr>\n",
       "    <tr>\n",
       "      <th>2002-09-10</th>\n",
       "      <td>20.775317</td>\n",
       "      <td>18.797465</td>\n",
       "      <td>30.550301</td>\n",
       "      <td>-42.716072</td>\n",
       "    </tr>\n",
       "    <tr>\n",
       "      <th>2002-09-11</th>\n",
       "      <td>21.005286</td>\n",
       "      <td>18.489151</td>\n",
       "      <td>29.359386</td>\n",
       "      <td>-44.430364</td>\n",
       "    </tr>\n",
       "    <tr>\n",
       "      <th>2002-09-12</th>\n",
       "      <td>21.599957</td>\n",
       "      <td>18.792781</td>\n",
       "      <td>29.847743</td>\n",
       "      <td>-45.048290</td>\n",
       "    </tr>\n",
       "    <tr>\n",
       "      <th>2002-09-13</th>\n",
       "      <td>21.265663</td>\n",
       "      <td>17.777175</td>\n",
       "      <td>28.508964</td>\n",
       "      <td>-44.383036</td>\n",
       "    </tr>\n",
       "    <tr>\n",
       "      <th>2002-09-14</th>\n",
       "      <td>21.739656</td>\n",
       "      <td>17.683165</td>\n",
       "      <td>28.788930</td>\n",
       "      <td>-45.302826</td>\n",
       "    </tr>\n",
       "    <tr>\n",
       "      <th>2002-09-15</th>\n",
       "      <td>21.001342</td>\n",
       "      <td>16.177924</td>\n",
       "      <td>30.147678</td>\n",
       "      <td>-45.540475</td>\n",
       "    </tr>\n",
       "    <tr>\n",
       "      <th>2002-09-16</th>\n",
       "      <td>21.375249</td>\n",
       "      <td>16.116893</td>\n",
       "      <td>31.096275</td>\n",
       "      <td>-44.417020</td>\n",
       "    </tr>\n",
       "    <tr>\n",
       "      <th>2002-09-17</th>\n",
       "      <td>19.331800</td>\n",
       "      <td>15.549920</td>\n",
       "      <td>31.763737</td>\n",
       "      <td>-43.240634</td>\n",
       "    </tr>\n",
       "    <tr>\n",
       "      <th>2002-09-18</th>\n",
       "      <td>18.387892</td>\n",
       "      <td>15.554895</td>\n",
       "      <td>32.865547</td>\n",
       "      <td>-41.923559</td>\n",
       "    </tr>\n",
       "    <tr>\n",
       "      <th>2002-09-19</th>\n",
       "      <td>17.590646</td>\n",
       "      <td>14.485993</td>\n",
       "      <td>33.156515</td>\n",
       "      <td>-41.517986</td>\n",
       "    </tr>\n",
       "    <tr>\n",
       "      <th>2002-09-20</th>\n",
       "      <td>16.987074</td>\n",
       "      <td>14.807503</td>\n",
       "      <td>32.265289</td>\n",
       "      <td>-40.562622</td>\n",
       "    </tr>\n",
       "    <tr>\n",
       "      <th>2002-09-21</th>\n",
       "      <td>17.509299</td>\n",
       "      <td>14.202276</td>\n",
       "      <td>31.461763</td>\n",
       "      <td>-40.570004</td>\n",
       "    </tr>\n",
       "    <tr>\n",
       "      <th>2002-09-22</th>\n",
       "      <td>16.088080</td>\n",
       "      <td>15.650366</td>\n",
       "      <td>31.265217</td>\n",
       "      <td>-38.892485</td>\n",
       "    </tr>\n",
       "    <tr>\n",
       "      <th>2002-09-23</th>\n",
       "      <td>16.235300</td>\n",
       "      <td>15.668100</td>\n",
       "      <td>31.674551</td>\n",
       "      <td>-39.757736</td>\n",
       "    </tr>\n",
       "    <tr>\n",
       "      <th>2002-09-24</th>\n",
       "      <td>15.250013</td>\n",
       "      <td>16.183169</td>\n",
       "      <td>31.794771</td>\n",
       "      <td>-40.253038</td>\n",
       "    </tr>\n",
       "    <tr>\n",
       "      <th>2002-09-25</th>\n",
       "      <td>14.861088</td>\n",
       "      <td>16.971837</td>\n",
       "      <td>34.112474</td>\n",
       "      <td>-41.652906</td>\n",
       "    </tr>\n",
       "    <tr>\n",
       "      <th>2002-09-26</th>\n",
       "      <td>13.587484</td>\n",
       "      <td>16.085853</td>\n",
       "      <td>34.427399</td>\n",
       "      <td>-40.996743</td>\n",
       "    </tr>\n",
       "  </tbody>\n",
       "</table>\n",
       "<p>1000 rows × 4 columns</p>\n",
       "</div>"
      ],
      "text/plain": [
       "                    A          B          C          D\n",
       "2000-01-01   1.302195  -0.514921   0.327336   1.163006\n",
       "2000-01-02   2.004380   0.612925   0.683130   2.441294\n",
       "2000-01-03   2.572371   1.466030   1.412089   2.195104\n",
       "2000-01-04   4.905567   1.114307   2.243142   0.202091\n",
       "2000-01-05   4.143720   0.800782   1.578446   0.035474\n",
       "2000-01-06   1.917376  -1.492282   3.129891   0.226390\n",
       "2000-01-07   0.708618  -1.234929   3.362785   0.416949\n",
       "2000-01-08   0.406252  -2.778541   3.102431  -0.834155\n",
       "2000-01-09   0.205522  -2.777017   2.633626   0.201853\n",
       "2000-01-10   1.335021  -3.057542   0.798658  -0.144341\n",
       "2000-01-11   1.316773  -4.327272   0.238154   0.328218\n",
       "2000-01-12   0.122440  -4.313161   0.158823  -0.077563\n",
       "2000-01-13   1.753820  -2.760166   1.399515  -1.646269\n",
       "2000-01-14   2.558466  -3.511810   0.309302  -1.208040\n",
       "2000-01-15   1.852004  -2.750476  -0.794515  -0.472063\n",
       "2000-01-16   2.867519  -0.917187   0.618665  -2.330205\n",
       "2000-01-17   2.164929  -0.563918   1.077919  -0.530108\n",
       "2000-01-18   1.003807  -0.090780   1.613908  -0.187566\n",
       "2000-01-19   2.231055  -0.570104   1.061993   0.238337\n",
       "2000-01-20   3.519003  -0.601458   0.630943   0.054784\n",
       "2000-01-21   2.488923  -0.608090  -0.509018   0.268328\n",
       "2000-01-22   2.047961  -0.247351  -1.413077   1.785076\n",
       "2000-01-23   2.033998  -0.865053  -1.531012   1.777143\n",
       "2000-01-24   1.000774  -0.304981  -0.419938   2.335939\n",
       "2000-01-25   1.226908  -1.503072   0.022608   2.853013\n",
       "2000-01-26   1.027058  -1.927188  -0.353748   3.265371\n",
       "2000-01-27   0.062530  -4.375112   1.013982   4.810981\n",
       "2000-01-28   1.159249  -3.872831   2.376474   4.800799\n",
       "2000-01-29   2.597230  -2.050723   1.734208   4.327275\n",
       "2000-01-30   2.100243  -3.601094   1.679297   3.894026\n",
       "...               ...        ...        ...        ...\n",
       "2002-08-28  25.728071  19.298374  30.972225 -40.431559\n",
       "2002-08-29  24.907582  20.064984  31.100626 -40.132790\n",
       "2002-08-30  26.182158  20.486612  30.033629 -41.115045\n",
       "2002-08-31  26.617354  21.258893  30.240387 -39.625627\n",
       "2002-09-01  24.931562  19.867474  29.772343 -40.261718\n",
       "2002-09-02  24.689552  19.431644  29.977001 -40.318563\n",
       "2002-09-03  24.600123  17.729464  29.155716 -39.817207\n",
       "2002-09-04  24.088195  19.637516  27.796530 -40.821606\n",
       "2002-09-05  23.162373  19.109562  28.427027 -42.210097\n",
       "2002-09-06  23.785555  18.469319  31.017359 -42.792607\n",
       "2002-09-07  23.181674  19.738711  30.331199 -42.986023\n",
       "2002-09-08  22.414012  20.999673  30.431537 -42.309563\n",
       "2002-09-09  19.923596  20.503302  30.201161 -41.449392\n",
       "2002-09-10  20.775317  18.797465  30.550301 -42.716072\n",
       "2002-09-11  21.005286  18.489151  29.359386 -44.430364\n",
       "2002-09-12  21.599957  18.792781  29.847743 -45.048290\n",
       "2002-09-13  21.265663  17.777175  28.508964 -44.383036\n",
       "2002-09-14  21.739656  17.683165  28.788930 -45.302826\n",
       "2002-09-15  21.001342  16.177924  30.147678 -45.540475\n",
       "2002-09-16  21.375249  16.116893  31.096275 -44.417020\n",
       "2002-09-17  19.331800  15.549920  31.763737 -43.240634\n",
       "2002-09-18  18.387892  15.554895  32.865547 -41.923559\n",
       "2002-09-19  17.590646  14.485993  33.156515 -41.517986\n",
       "2002-09-20  16.987074  14.807503  32.265289 -40.562622\n",
       "2002-09-21  17.509299  14.202276  31.461763 -40.570004\n",
       "2002-09-22  16.088080  15.650366  31.265217 -38.892485\n",
       "2002-09-23  16.235300  15.668100  31.674551 -39.757736\n",
       "2002-09-24  15.250013  16.183169  31.794771 -40.253038\n",
       "2002-09-25  14.861088  16.971837  34.112474 -41.652906\n",
       "2002-09-26  13.587484  16.085853  34.427399 -40.996743\n",
       "\n",
       "[1000 rows x 4 columns]"
      ]
     },
     "execution_count": 115,
     "metadata": {},
     "output_type": "execute_result"
    }
   ],
   "source": [
    "pd.read_hdf('foo.h5','df')"
   ]
  },
  {
   "cell_type": "code",
   "execution_count": 116,
   "metadata": {
    "collapsed": true
   },
   "outputs": [],
   "source": [
    "df.to_pickle('foo.pic')"
   ]
  },
  {
   "cell_type": "code",
   "execution_count": 117,
   "metadata": {
    "collapsed": false
   },
   "outputs": [
    {
     "data": {
      "text/html": [
       "<div>\n",
       "<table border=\"1\" class=\"dataframe\">\n",
       "  <thead>\n",
       "    <tr style=\"text-align: right;\">\n",
       "      <th></th>\n",
       "      <th>A</th>\n",
       "      <th>B</th>\n",
       "      <th>C</th>\n",
       "      <th>D</th>\n",
       "    </tr>\n",
       "  </thead>\n",
       "  <tbody>\n",
       "    <tr>\n",
       "      <th>2000-01-01</th>\n",
       "      <td>1.302195</td>\n",
       "      <td>-0.514921</td>\n",
       "      <td>0.327336</td>\n",
       "      <td>1.163006</td>\n",
       "    </tr>\n",
       "    <tr>\n",
       "      <th>2000-01-02</th>\n",
       "      <td>2.004380</td>\n",
       "      <td>0.612925</td>\n",
       "      <td>0.683130</td>\n",
       "      <td>2.441294</td>\n",
       "    </tr>\n",
       "    <tr>\n",
       "      <th>2000-01-03</th>\n",
       "      <td>2.572371</td>\n",
       "      <td>1.466030</td>\n",
       "      <td>1.412089</td>\n",
       "      <td>2.195104</td>\n",
       "    </tr>\n",
       "    <tr>\n",
       "      <th>2000-01-04</th>\n",
       "      <td>4.905567</td>\n",
       "      <td>1.114307</td>\n",
       "      <td>2.243142</td>\n",
       "      <td>0.202091</td>\n",
       "    </tr>\n",
       "    <tr>\n",
       "      <th>2000-01-05</th>\n",
       "      <td>4.143720</td>\n",
       "      <td>0.800782</td>\n",
       "      <td>1.578446</td>\n",
       "      <td>0.035474</td>\n",
       "    </tr>\n",
       "    <tr>\n",
       "      <th>2000-01-06</th>\n",
       "      <td>1.917376</td>\n",
       "      <td>-1.492282</td>\n",
       "      <td>3.129891</td>\n",
       "      <td>0.226390</td>\n",
       "    </tr>\n",
       "    <tr>\n",
       "      <th>2000-01-07</th>\n",
       "      <td>0.708618</td>\n",
       "      <td>-1.234929</td>\n",
       "      <td>3.362785</td>\n",
       "      <td>0.416949</td>\n",
       "    </tr>\n",
       "    <tr>\n",
       "      <th>2000-01-08</th>\n",
       "      <td>0.406252</td>\n",
       "      <td>-2.778541</td>\n",
       "      <td>3.102431</td>\n",
       "      <td>-0.834155</td>\n",
       "    </tr>\n",
       "    <tr>\n",
       "      <th>2000-01-09</th>\n",
       "      <td>0.205522</td>\n",
       "      <td>-2.777017</td>\n",
       "      <td>2.633626</td>\n",
       "      <td>0.201853</td>\n",
       "    </tr>\n",
       "    <tr>\n",
       "      <th>2000-01-10</th>\n",
       "      <td>1.335021</td>\n",
       "      <td>-3.057542</td>\n",
       "      <td>0.798658</td>\n",
       "      <td>-0.144341</td>\n",
       "    </tr>\n",
       "    <tr>\n",
       "      <th>2000-01-11</th>\n",
       "      <td>1.316773</td>\n",
       "      <td>-4.327272</td>\n",
       "      <td>0.238154</td>\n",
       "      <td>0.328218</td>\n",
       "    </tr>\n",
       "    <tr>\n",
       "      <th>2000-01-12</th>\n",
       "      <td>0.122440</td>\n",
       "      <td>-4.313161</td>\n",
       "      <td>0.158823</td>\n",
       "      <td>-0.077563</td>\n",
       "    </tr>\n",
       "    <tr>\n",
       "      <th>2000-01-13</th>\n",
       "      <td>1.753820</td>\n",
       "      <td>-2.760166</td>\n",
       "      <td>1.399515</td>\n",
       "      <td>-1.646269</td>\n",
       "    </tr>\n",
       "    <tr>\n",
       "      <th>2000-01-14</th>\n",
       "      <td>2.558466</td>\n",
       "      <td>-3.511810</td>\n",
       "      <td>0.309302</td>\n",
       "      <td>-1.208040</td>\n",
       "    </tr>\n",
       "    <tr>\n",
       "      <th>2000-01-15</th>\n",
       "      <td>1.852004</td>\n",
       "      <td>-2.750476</td>\n",
       "      <td>-0.794515</td>\n",
       "      <td>-0.472063</td>\n",
       "    </tr>\n",
       "    <tr>\n",
       "      <th>2000-01-16</th>\n",
       "      <td>2.867519</td>\n",
       "      <td>-0.917187</td>\n",
       "      <td>0.618665</td>\n",
       "      <td>-2.330205</td>\n",
       "    </tr>\n",
       "    <tr>\n",
       "      <th>2000-01-17</th>\n",
       "      <td>2.164929</td>\n",
       "      <td>-0.563918</td>\n",
       "      <td>1.077919</td>\n",
       "      <td>-0.530108</td>\n",
       "    </tr>\n",
       "    <tr>\n",
       "      <th>2000-01-18</th>\n",
       "      <td>1.003807</td>\n",
       "      <td>-0.090780</td>\n",
       "      <td>1.613908</td>\n",
       "      <td>-0.187566</td>\n",
       "    </tr>\n",
       "    <tr>\n",
       "      <th>2000-01-19</th>\n",
       "      <td>2.231055</td>\n",
       "      <td>-0.570104</td>\n",
       "      <td>1.061993</td>\n",
       "      <td>0.238337</td>\n",
       "    </tr>\n",
       "    <tr>\n",
       "      <th>2000-01-20</th>\n",
       "      <td>3.519003</td>\n",
       "      <td>-0.601458</td>\n",
       "      <td>0.630943</td>\n",
       "      <td>0.054784</td>\n",
       "    </tr>\n",
       "    <tr>\n",
       "      <th>2000-01-21</th>\n",
       "      <td>2.488923</td>\n",
       "      <td>-0.608090</td>\n",
       "      <td>-0.509018</td>\n",
       "      <td>0.268328</td>\n",
       "    </tr>\n",
       "    <tr>\n",
       "      <th>2000-01-22</th>\n",
       "      <td>2.047961</td>\n",
       "      <td>-0.247351</td>\n",
       "      <td>-1.413077</td>\n",
       "      <td>1.785076</td>\n",
       "    </tr>\n",
       "    <tr>\n",
       "      <th>2000-01-23</th>\n",
       "      <td>2.033998</td>\n",
       "      <td>-0.865053</td>\n",
       "      <td>-1.531012</td>\n",
       "      <td>1.777143</td>\n",
       "    </tr>\n",
       "    <tr>\n",
       "      <th>2000-01-24</th>\n",
       "      <td>1.000774</td>\n",
       "      <td>-0.304981</td>\n",
       "      <td>-0.419938</td>\n",
       "      <td>2.335939</td>\n",
       "    </tr>\n",
       "    <tr>\n",
       "      <th>2000-01-25</th>\n",
       "      <td>1.226908</td>\n",
       "      <td>-1.503072</td>\n",
       "      <td>0.022608</td>\n",
       "      <td>2.853013</td>\n",
       "    </tr>\n",
       "    <tr>\n",
       "      <th>2000-01-26</th>\n",
       "      <td>1.027058</td>\n",
       "      <td>-1.927188</td>\n",
       "      <td>-0.353748</td>\n",
       "      <td>3.265371</td>\n",
       "    </tr>\n",
       "    <tr>\n",
       "      <th>2000-01-27</th>\n",
       "      <td>0.062530</td>\n",
       "      <td>-4.375112</td>\n",
       "      <td>1.013982</td>\n",
       "      <td>4.810981</td>\n",
       "    </tr>\n",
       "    <tr>\n",
       "      <th>2000-01-28</th>\n",
       "      <td>1.159249</td>\n",
       "      <td>-3.872831</td>\n",
       "      <td>2.376474</td>\n",
       "      <td>4.800799</td>\n",
       "    </tr>\n",
       "    <tr>\n",
       "      <th>2000-01-29</th>\n",
       "      <td>2.597230</td>\n",
       "      <td>-2.050723</td>\n",
       "      <td>1.734208</td>\n",
       "      <td>4.327275</td>\n",
       "    </tr>\n",
       "    <tr>\n",
       "      <th>2000-01-30</th>\n",
       "      <td>2.100243</td>\n",
       "      <td>-3.601094</td>\n",
       "      <td>1.679297</td>\n",
       "      <td>3.894026</td>\n",
       "    </tr>\n",
       "    <tr>\n",
       "      <th>...</th>\n",
       "      <td>...</td>\n",
       "      <td>...</td>\n",
       "      <td>...</td>\n",
       "      <td>...</td>\n",
       "    </tr>\n",
       "    <tr>\n",
       "      <th>2002-08-28</th>\n",
       "      <td>25.728071</td>\n",
       "      <td>19.298374</td>\n",
       "      <td>30.972225</td>\n",
       "      <td>-40.431559</td>\n",
       "    </tr>\n",
       "    <tr>\n",
       "      <th>2002-08-29</th>\n",
       "      <td>24.907582</td>\n",
       "      <td>20.064984</td>\n",
       "      <td>31.100626</td>\n",
       "      <td>-40.132790</td>\n",
       "    </tr>\n",
       "    <tr>\n",
       "      <th>2002-08-30</th>\n",
       "      <td>26.182158</td>\n",
       "      <td>20.486612</td>\n",
       "      <td>30.033629</td>\n",
       "      <td>-41.115045</td>\n",
       "    </tr>\n",
       "    <tr>\n",
       "      <th>2002-08-31</th>\n",
       "      <td>26.617354</td>\n",
       "      <td>21.258893</td>\n",
       "      <td>30.240387</td>\n",
       "      <td>-39.625627</td>\n",
       "    </tr>\n",
       "    <tr>\n",
       "      <th>2002-09-01</th>\n",
       "      <td>24.931562</td>\n",
       "      <td>19.867474</td>\n",
       "      <td>29.772343</td>\n",
       "      <td>-40.261718</td>\n",
       "    </tr>\n",
       "    <tr>\n",
       "      <th>2002-09-02</th>\n",
       "      <td>24.689552</td>\n",
       "      <td>19.431644</td>\n",
       "      <td>29.977001</td>\n",
       "      <td>-40.318563</td>\n",
       "    </tr>\n",
       "    <tr>\n",
       "      <th>2002-09-03</th>\n",
       "      <td>24.600123</td>\n",
       "      <td>17.729464</td>\n",
       "      <td>29.155716</td>\n",
       "      <td>-39.817207</td>\n",
       "    </tr>\n",
       "    <tr>\n",
       "      <th>2002-09-04</th>\n",
       "      <td>24.088195</td>\n",
       "      <td>19.637516</td>\n",
       "      <td>27.796530</td>\n",
       "      <td>-40.821606</td>\n",
       "    </tr>\n",
       "    <tr>\n",
       "      <th>2002-09-05</th>\n",
       "      <td>23.162373</td>\n",
       "      <td>19.109562</td>\n",
       "      <td>28.427027</td>\n",
       "      <td>-42.210097</td>\n",
       "    </tr>\n",
       "    <tr>\n",
       "      <th>2002-09-06</th>\n",
       "      <td>23.785555</td>\n",
       "      <td>18.469319</td>\n",
       "      <td>31.017359</td>\n",
       "      <td>-42.792607</td>\n",
       "    </tr>\n",
       "    <tr>\n",
       "      <th>2002-09-07</th>\n",
       "      <td>23.181674</td>\n",
       "      <td>19.738711</td>\n",
       "      <td>30.331199</td>\n",
       "      <td>-42.986023</td>\n",
       "    </tr>\n",
       "    <tr>\n",
       "      <th>2002-09-08</th>\n",
       "      <td>22.414012</td>\n",
       "      <td>20.999673</td>\n",
       "      <td>30.431537</td>\n",
       "      <td>-42.309563</td>\n",
       "    </tr>\n",
       "    <tr>\n",
       "      <th>2002-09-09</th>\n",
       "      <td>19.923596</td>\n",
       "      <td>20.503302</td>\n",
       "      <td>30.201161</td>\n",
       "      <td>-41.449392</td>\n",
       "    </tr>\n",
       "    <tr>\n",
       "      <th>2002-09-10</th>\n",
       "      <td>20.775317</td>\n",
       "      <td>18.797465</td>\n",
       "      <td>30.550301</td>\n",
       "      <td>-42.716072</td>\n",
       "    </tr>\n",
       "    <tr>\n",
       "      <th>2002-09-11</th>\n",
       "      <td>21.005286</td>\n",
       "      <td>18.489151</td>\n",
       "      <td>29.359386</td>\n",
       "      <td>-44.430364</td>\n",
       "    </tr>\n",
       "    <tr>\n",
       "      <th>2002-09-12</th>\n",
       "      <td>21.599957</td>\n",
       "      <td>18.792781</td>\n",
       "      <td>29.847743</td>\n",
       "      <td>-45.048290</td>\n",
       "    </tr>\n",
       "    <tr>\n",
       "      <th>2002-09-13</th>\n",
       "      <td>21.265663</td>\n",
       "      <td>17.777175</td>\n",
       "      <td>28.508964</td>\n",
       "      <td>-44.383036</td>\n",
       "    </tr>\n",
       "    <tr>\n",
       "      <th>2002-09-14</th>\n",
       "      <td>21.739656</td>\n",
       "      <td>17.683165</td>\n",
       "      <td>28.788930</td>\n",
       "      <td>-45.302826</td>\n",
       "    </tr>\n",
       "    <tr>\n",
       "      <th>2002-09-15</th>\n",
       "      <td>21.001342</td>\n",
       "      <td>16.177924</td>\n",
       "      <td>30.147678</td>\n",
       "      <td>-45.540475</td>\n",
       "    </tr>\n",
       "    <tr>\n",
       "      <th>2002-09-16</th>\n",
       "      <td>21.375249</td>\n",
       "      <td>16.116893</td>\n",
       "      <td>31.096275</td>\n",
       "      <td>-44.417020</td>\n",
       "    </tr>\n",
       "    <tr>\n",
       "      <th>2002-09-17</th>\n",
       "      <td>19.331800</td>\n",
       "      <td>15.549920</td>\n",
       "      <td>31.763737</td>\n",
       "      <td>-43.240634</td>\n",
       "    </tr>\n",
       "    <tr>\n",
       "      <th>2002-09-18</th>\n",
       "      <td>18.387892</td>\n",
       "      <td>15.554895</td>\n",
       "      <td>32.865547</td>\n",
       "      <td>-41.923559</td>\n",
       "    </tr>\n",
       "    <tr>\n",
       "      <th>2002-09-19</th>\n",
       "      <td>17.590646</td>\n",
       "      <td>14.485993</td>\n",
       "      <td>33.156515</td>\n",
       "      <td>-41.517986</td>\n",
       "    </tr>\n",
       "    <tr>\n",
       "      <th>2002-09-20</th>\n",
       "      <td>16.987074</td>\n",
       "      <td>14.807503</td>\n",
       "      <td>32.265289</td>\n",
       "      <td>-40.562622</td>\n",
       "    </tr>\n",
       "    <tr>\n",
       "      <th>2002-09-21</th>\n",
       "      <td>17.509299</td>\n",
       "      <td>14.202276</td>\n",
       "      <td>31.461763</td>\n",
       "      <td>-40.570004</td>\n",
       "    </tr>\n",
       "    <tr>\n",
       "      <th>2002-09-22</th>\n",
       "      <td>16.088080</td>\n",
       "      <td>15.650366</td>\n",
       "      <td>31.265217</td>\n",
       "      <td>-38.892485</td>\n",
       "    </tr>\n",
       "    <tr>\n",
       "      <th>2002-09-23</th>\n",
       "      <td>16.235300</td>\n",
       "      <td>15.668100</td>\n",
       "      <td>31.674551</td>\n",
       "      <td>-39.757736</td>\n",
       "    </tr>\n",
       "    <tr>\n",
       "      <th>2002-09-24</th>\n",
       "      <td>15.250013</td>\n",
       "      <td>16.183169</td>\n",
       "      <td>31.794771</td>\n",
       "      <td>-40.253038</td>\n",
       "    </tr>\n",
       "    <tr>\n",
       "      <th>2002-09-25</th>\n",
       "      <td>14.861088</td>\n",
       "      <td>16.971837</td>\n",
       "      <td>34.112474</td>\n",
       "      <td>-41.652906</td>\n",
       "    </tr>\n",
       "    <tr>\n",
       "      <th>2002-09-26</th>\n",
       "      <td>13.587484</td>\n",
       "      <td>16.085853</td>\n",
       "      <td>34.427399</td>\n",
       "      <td>-40.996743</td>\n",
       "    </tr>\n",
       "  </tbody>\n",
       "</table>\n",
       "<p>1000 rows × 4 columns</p>\n",
       "</div>"
      ],
      "text/plain": [
       "                    A          B          C          D\n",
       "2000-01-01   1.302195  -0.514921   0.327336   1.163006\n",
       "2000-01-02   2.004380   0.612925   0.683130   2.441294\n",
       "2000-01-03   2.572371   1.466030   1.412089   2.195104\n",
       "2000-01-04   4.905567   1.114307   2.243142   0.202091\n",
       "2000-01-05   4.143720   0.800782   1.578446   0.035474\n",
       "2000-01-06   1.917376  -1.492282   3.129891   0.226390\n",
       "2000-01-07   0.708618  -1.234929   3.362785   0.416949\n",
       "2000-01-08   0.406252  -2.778541   3.102431  -0.834155\n",
       "2000-01-09   0.205522  -2.777017   2.633626   0.201853\n",
       "2000-01-10   1.335021  -3.057542   0.798658  -0.144341\n",
       "2000-01-11   1.316773  -4.327272   0.238154   0.328218\n",
       "2000-01-12   0.122440  -4.313161   0.158823  -0.077563\n",
       "2000-01-13   1.753820  -2.760166   1.399515  -1.646269\n",
       "2000-01-14   2.558466  -3.511810   0.309302  -1.208040\n",
       "2000-01-15   1.852004  -2.750476  -0.794515  -0.472063\n",
       "2000-01-16   2.867519  -0.917187   0.618665  -2.330205\n",
       "2000-01-17   2.164929  -0.563918   1.077919  -0.530108\n",
       "2000-01-18   1.003807  -0.090780   1.613908  -0.187566\n",
       "2000-01-19   2.231055  -0.570104   1.061993   0.238337\n",
       "2000-01-20   3.519003  -0.601458   0.630943   0.054784\n",
       "2000-01-21   2.488923  -0.608090  -0.509018   0.268328\n",
       "2000-01-22   2.047961  -0.247351  -1.413077   1.785076\n",
       "2000-01-23   2.033998  -0.865053  -1.531012   1.777143\n",
       "2000-01-24   1.000774  -0.304981  -0.419938   2.335939\n",
       "2000-01-25   1.226908  -1.503072   0.022608   2.853013\n",
       "2000-01-26   1.027058  -1.927188  -0.353748   3.265371\n",
       "2000-01-27   0.062530  -4.375112   1.013982   4.810981\n",
       "2000-01-28   1.159249  -3.872831   2.376474   4.800799\n",
       "2000-01-29   2.597230  -2.050723   1.734208   4.327275\n",
       "2000-01-30   2.100243  -3.601094   1.679297   3.894026\n",
       "...               ...        ...        ...        ...\n",
       "2002-08-28  25.728071  19.298374  30.972225 -40.431559\n",
       "2002-08-29  24.907582  20.064984  31.100626 -40.132790\n",
       "2002-08-30  26.182158  20.486612  30.033629 -41.115045\n",
       "2002-08-31  26.617354  21.258893  30.240387 -39.625627\n",
       "2002-09-01  24.931562  19.867474  29.772343 -40.261718\n",
       "2002-09-02  24.689552  19.431644  29.977001 -40.318563\n",
       "2002-09-03  24.600123  17.729464  29.155716 -39.817207\n",
       "2002-09-04  24.088195  19.637516  27.796530 -40.821606\n",
       "2002-09-05  23.162373  19.109562  28.427027 -42.210097\n",
       "2002-09-06  23.785555  18.469319  31.017359 -42.792607\n",
       "2002-09-07  23.181674  19.738711  30.331199 -42.986023\n",
       "2002-09-08  22.414012  20.999673  30.431537 -42.309563\n",
       "2002-09-09  19.923596  20.503302  30.201161 -41.449392\n",
       "2002-09-10  20.775317  18.797465  30.550301 -42.716072\n",
       "2002-09-11  21.005286  18.489151  29.359386 -44.430364\n",
       "2002-09-12  21.599957  18.792781  29.847743 -45.048290\n",
       "2002-09-13  21.265663  17.777175  28.508964 -44.383036\n",
       "2002-09-14  21.739656  17.683165  28.788930 -45.302826\n",
       "2002-09-15  21.001342  16.177924  30.147678 -45.540475\n",
       "2002-09-16  21.375249  16.116893  31.096275 -44.417020\n",
       "2002-09-17  19.331800  15.549920  31.763737 -43.240634\n",
       "2002-09-18  18.387892  15.554895  32.865547 -41.923559\n",
       "2002-09-19  17.590646  14.485993  33.156515 -41.517986\n",
       "2002-09-20  16.987074  14.807503  32.265289 -40.562622\n",
       "2002-09-21  17.509299  14.202276  31.461763 -40.570004\n",
       "2002-09-22  16.088080  15.650366  31.265217 -38.892485\n",
       "2002-09-23  16.235300  15.668100  31.674551 -39.757736\n",
       "2002-09-24  15.250013  16.183169  31.794771 -40.253038\n",
       "2002-09-25  14.861088  16.971837  34.112474 -41.652906\n",
       "2002-09-26  13.587484  16.085853  34.427399 -40.996743\n",
       "\n",
       "[1000 rows x 4 columns]"
      ]
     },
     "execution_count": 117,
     "metadata": {},
     "output_type": "execute_result"
    }
   ],
   "source": [
    "pd.read_pickle('foo.pic')"
   ]
  },
  {
   "cell_type": "code",
   "execution_count": 119,
   "metadata": {
    "collapsed": true
   },
   "outputs": [],
   "source": [
    "df.to_excel('foo.xlsx', sheet_name='Sheet1')"
   ]
  },
  {
   "cell_type": "code",
   "execution_count": 120,
   "metadata": {
    "collapsed": true
   },
   "outputs": [
    {
     "data": {
      "text/html": [
       "<div>\n",
       "<table border=\"1\" class=\"dataframe\">\n",
       "  <thead>\n",
       "    <tr style=\"text-align: right;\">\n",
       "      <th></th>\n",
       "      <th>A</th>\n",
       "      <th>B</th>\n",
       "      <th>C</th>\n",
       "      <th>D</th>\n",
       "    </tr>\n",
       "  </thead>\n",
       "  <tbody>\n",
       "    <tr>\n",
       "      <th>2000-01-01</th>\n",
       "      <td>1.302195</td>\n",
       "      <td>-0.514921</td>\n",
       "      <td>0.327336</td>\n",
       "      <td>1.163006</td>\n",
       "    </tr>\n",
       "    <tr>\n",
       "      <th>2000-01-02</th>\n",
       "      <td>2.004380</td>\n",
       "      <td>0.612925</td>\n",
       "      <td>0.683130</td>\n",
       "      <td>2.441294</td>\n",
       "    </tr>\n",
       "    <tr>\n",
       "      <th>2000-01-03</th>\n",
       "      <td>2.572371</td>\n",
       "      <td>1.466030</td>\n",
       "      <td>1.412089</td>\n",
       "      <td>2.195104</td>\n",
       "    </tr>\n",
       "    <tr>\n",
       "      <th>2000-01-04</th>\n",
       "      <td>4.905567</td>\n",
       "      <td>1.114307</td>\n",
       "      <td>2.243142</td>\n",
       "      <td>0.202091</td>\n",
       "    </tr>\n",
       "    <tr>\n",
       "      <th>2000-01-05</th>\n",
       "      <td>4.143720</td>\n",
       "      <td>0.800782</td>\n",
       "      <td>1.578446</td>\n",
       "      <td>0.035474</td>\n",
       "    </tr>\n",
       "    <tr>\n",
       "      <th>2000-01-06</th>\n",
       "      <td>1.917376</td>\n",
       "      <td>-1.492282</td>\n",
       "      <td>3.129891</td>\n",
       "      <td>0.226390</td>\n",
       "    </tr>\n",
       "    <tr>\n",
       "      <th>2000-01-07</th>\n",
       "      <td>0.708618</td>\n",
       "      <td>-1.234929</td>\n",
       "      <td>3.362785</td>\n",
       "      <td>0.416949</td>\n",
       "    </tr>\n",
       "    <tr>\n",
       "      <th>2000-01-08</th>\n",
       "      <td>0.406252</td>\n",
       "      <td>-2.778541</td>\n",
       "      <td>3.102431</td>\n",
       "      <td>-0.834155</td>\n",
       "    </tr>\n",
       "    <tr>\n",
       "      <th>2000-01-09</th>\n",
       "      <td>0.205522</td>\n",
       "      <td>-2.777017</td>\n",
       "      <td>2.633626</td>\n",
       "      <td>0.201853</td>\n",
       "    </tr>\n",
       "    <tr>\n",
       "      <th>2000-01-10</th>\n",
       "      <td>1.335021</td>\n",
       "      <td>-3.057542</td>\n",
       "      <td>0.798658</td>\n",
       "      <td>-0.144341</td>\n",
       "    </tr>\n",
       "    <tr>\n",
       "      <th>2000-01-11</th>\n",
       "      <td>1.316773</td>\n",
       "      <td>-4.327272</td>\n",
       "      <td>0.238154</td>\n",
       "      <td>0.328218</td>\n",
       "    </tr>\n",
       "    <tr>\n",
       "      <th>2000-01-12</th>\n",
       "      <td>0.122440</td>\n",
       "      <td>-4.313161</td>\n",
       "      <td>0.158823</td>\n",
       "      <td>-0.077563</td>\n",
       "    </tr>\n",
       "    <tr>\n",
       "      <th>2000-01-13</th>\n",
       "      <td>1.753820</td>\n",
       "      <td>-2.760166</td>\n",
       "      <td>1.399515</td>\n",
       "      <td>-1.646269</td>\n",
       "    </tr>\n",
       "    <tr>\n",
       "      <th>2000-01-14</th>\n",
       "      <td>2.558466</td>\n",
       "      <td>-3.511810</td>\n",
       "      <td>0.309302</td>\n",
       "      <td>-1.208040</td>\n",
       "    </tr>\n",
       "    <tr>\n",
       "      <th>2000-01-15</th>\n",
       "      <td>1.852004</td>\n",
       "      <td>-2.750476</td>\n",
       "      <td>-0.794515</td>\n",
       "      <td>-0.472063</td>\n",
       "    </tr>\n",
       "    <tr>\n",
       "      <th>2000-01-16</th>\n",
       "      <td>2.867519</td>\n",
       "      <td>-0.917187</td>\n",
       "      <td>0.618665</td>\n",
       "      <td>-2.330205</td>\n",
       "    </tr>\n",
       "    <tr>\n",
       "      <th>2000-01-17</th>\n",
       "      <td>2.164929</td>\n",
       "      <td>-0.563918</td>\n",
       "      <td>1.077919</td>\n",
       "      <td>-0.530108</td>\n",
       "    </tr>\n",
       "    <tr>\n",
       "      <th>2000-01-18</th>\n",
       "      <td>1.003807</td>\n",
       "      <td>-0.090780</td>\n",
       "      <td>1.613908</td>\n",
       "      <td>-0.187566</td>\n",
       "    </tr>\n",
       "    <tr>\n",
       "      <th>2000-01-19</th>\n",
       "      <td>2.231055</td>\n",
       "      <td>-0.570104</td>\n",
       "      <td>1.061993</td>\n",
       "      <td>0.238337</td>\n",
       "    </tr>\n",
       "    <tr>\n",
       "      <th>2000-01-20</th>\n",
       "      <td>3.519003</td>\n",
       "      <td>-0.601458</td>\n",
       "      <td>0.630943</td>\n",
       "      <td>0.054784</td>\n",
       "    </tr>\n",
       "    <tr>\n",
       "      <th>2000-01-21</th>\n",
       "      <td>2.488923</td>\n",
       "      <td>-0.608090</td>\n",
       "      <td>-0.509018</td>\n",
       "      <td>0.268328</td>\n",
       "    </tr>\n",
       "    <tr>\n",
       "      <th>2000-01-22</th>\n",
       "      <td>2.047961</td>\n",
       "      <td>-0.247351</td>\n",
       "      <td>-1.413077</td>\n",
       "      <td>1.785076</td>\n",
       "    </tr>\n",
       "    <tr>\n",
       "      <th>2000-01-23</th>\n",
       "      <td>2.033998</td>\n",
       "      <td>-0.865053</td>\n",
       "      <td>-1.531012</td>\n",
       "      <td>1.777143</td>\n",
       "    </tr>\n",
       "    <tr>\n",
       "      <th>2000-01-24</th>\n",
       "      <td>1.000774</td>\n",
       "      <td>-0.304981</td>\n",
       "      <td>-0.419938</td>\n",
       "      <td>2.335939</td>\n",
       "    </tr>\n",
       "    <tr>\n",
       "      <th>2000-01-25</th>\n",
       "      <td>1.226908</td>\n",
       "      <td>-1.503072</td>\n",
       "      <td>0.022608</td>\n",
       "      <td>2.853013</td>\n",
       "    </tr>\n",
       "    <tr>\n",
       "      <th>2000-01-26</th>\n",
       "      <td>1.027058</td>\n",
       "      <td>-1.927188</td>\n",
       "      <td>-0.353748</td>\n",
       "      <td>3.265371</td>\n",
       "    </tr>\n",
       "    <tr>\n",
       "      <th>2000-01-27</th>\n",
       "      <td>0.062530</td>\n",
       "      <td>-4.375112</td>\n",
       "      <td>1.013982</td>\n",
       "      <td>4.810981</td>\n",
       "    </tr>\n",
       "    <tr>\n",
       "      <th>2000-01-28</th>\n",
       "      <td>1.159249</td>\n",
       "      <td>-3.872831</td>\n",
       "      <td>2.376474</td>\n",
       "      <td>4.800799</td>\n",
       "    </tr>\n",
       "    <tr>\n",
       "      <th>2000-01-29</th>\n",
       "      <td>2.597230</td>\n",
       "      <td>-2.050723</td>\n",
       "      <td>1.734208</td>\n",
       "      <td>4.327275</td>\n",
       "    </tr>\n",
       "    <tr>\n",
       "      <th>2000-01-30</th>\n",
       "      <td>2.100243</td>\n",
       "      <td>-3.601094</td>\n",
       "      <td>1.679297</td>\n",
       "      <td>3.894026</td>\n",
       "    </tr>\n",
       "    <tr>\n",
       "      <th>...</th>\n",
       "      <td>...</td>\n",
       "      <td>...</td>\n",
       "      <td>...</td>\n",
       "      <td>...</td>\n",
       "    </tr>\n",
       "    <tr>\n",
       "      <th>2002-08-28</th>\n",
       "      <td>25.728071</td>\n",
       "      <td>19.298374</td>\n",
       "      <td>30.972225</td>\n",
       "      <td>-40.431559</td>\n",
       "    </tr>\n",
       "    <tr>\n",
       "      <th>2002-08-29</th>\n",
       "      <td>24.907582</td>\n",
       "      <td>20.064984</td>\n",
       "      <td>31.100626</td>\n",
       "      <td>-40.132790</td>\n",
       "    </tr>\n",
       "    <tr>\n",
       "      <th>2002-08-30</th>\n",
       "      <td>26.182158</td>\n",
       "      <td>20.486612</td>\n",
       "      <td>30.033629</td>\n",
       "      <td>-41.115045</td>\n",
       "    </tr>\n",
       "    <tr>\n",
       "      <th>2002-08-31</th>\n",
       "      <td>26.617354</td>\n",
       "      <td>21.258893</td>\n",
       "      <td>30.240387</td>\n",
       "      <td>-39.625627</td>\n",
       "    </tr>\n",
       "    <tr>\n",
       "      <th>2002-09-01</th>\n",
       "      <td>24.931562</td>\n",
       "      <td>19.867474</td>\n",
       "      <td>29.772343</td>\n",
       "      <td>-40.261718</td>\n",
       "    </tr>\n",
       "    <tr>\n",
       "      <th>2002-09-02</th>\n",
       "      <td>24.689552</td>\n",
       "      <td>19.431644</td>\n",
       "      <td>29.977001</td>\n",
       "      <td>-40.318563</td>\n",
       "    </tr>\n",
       "    <tr>\n",
       "      <th>2002-09-03</th>\n",
       "      <td>24.600123</td>\n",
       "      <td>17.729464</td>\n",
       "      <td>29.155716</td>\n",
       "      <td>-39.817207</td>\n",
       "    </tr>\n",
       "    <tr>\n",
       "      <th>2002-09-04</th>\n",
       "      <td>24.088195</td>\n",
       "      <td>19.637516</td>\n",
       "      <td>27.796530</td>\n",
       "      <td>-40.821606</td>\n",
       "    </tr>\n",
       "    <tr>\n",
       "      <th>2002-09-05</th>\n",
       "      <td>23.162373</td>\n",
       "      <td>19.109562</td>\n",
       "      <td>28.427027</td>\n",
       "      <td>-42.210097</td>\n",
       "    </tr>\n",
       "    <tr>\n",
       "      <th>2002-09-06</th>\n",
       "      <td>23.785555</td>\n",
       "      <td>18.469319</td>\n",
       "      <td>31.017359</td>\n",
       "      <td>-42.792607</td>\n",
       "    </tr>\n",
       "    <tr>\n",
       "      <th>2002-09-07</th>\n",
       "      <td>23.181674</td>\n",
       "      <td>19.738711</td>\n",
       "      <td>30.331199</td>\n",
       "      <td>-42.986023</td>\n",
       "    </tr>\n",
       "    <tr>\n",
       "      <th>2002-09-08</th>\n",
       "      <td>22.414012</td>\n",
       "      <td>20.999673</td>\n",
       "      <td>30.431537</td>\n",
       "      <td>-42.309563</td>\n",
       "    </tr>\n",
       "    <tr>\n",
       "      <th>2002-09-09</th>\n",
       "      <td>19.923596</td>\n",
       "      <td>20.503302</td>\n",
       "      <td>30.201161</td>\n",
       "      <td>-41.449392</td>\n",
       "    </tr>\n",
       "    <tr>\n",
       "      <th>2002-09-10</th>\n",
       "      <td>20.775317</td>\n",
       "      <td>18.797465</td>\n",
       "      <td>30.550301</td>\n",
       "      <td>-42.716072</td>\n",
       "    </tr>\n",
       "    <tr>\n",
       "      <th>2002-09-11</th>\n",
       "      <td>21.005286</td>\n",
       "      <td>18.489151</td>\n",
       "      <td>29.359386</td>\n",
       "      <td>-44.430364</td>\n",
       "    </tr>\n",
       "    <tr>\n",
       "      <th>2002-09-12</th>\n",
       "      <td>21.599957</td>\n",
       "      <td>18.792781</td>\n",
       "      <td>29.847743</td>\n",
       "      <td>-45.048290</td>\n",
       "    </tr>\n",
       "    <tr>\n",
       "      <th>2002-09-13</th>\n",
       "      <td>21.265663</td>\n",
       "      <td>17.777175</td>\n",
       "      <td>28.508964</td>\n",
       "      <td>-44.383036</td>\n",
       "    </tr>\n",
       "    <tr>\n",
       "      <th>2002-09-14</th>\n",
       "      <td>21.739656</td>\n",
       "      <td>17.683165</td>\n",
       "      <td>28.788930</td>\n",
       "      <td>-45.302826</td>\n",
       "    </tr>\n",
       "    <tr>\n",
       "      <th>2002-09-15</th>\n",
       "      <td>21.001342</td>\n",
       "      <td>16.177924</td>\n",
       "      <td>30.147678</td>\n",
       "      <td>-45.540475</td>\n",
       "    </tr>\n",
       "    <tr>\n",
       "      <th>2002-09-16</th>\n",
       "      <td>21.375249</td>\n",
       "      <td>16.116893</td>\n",
       "      <td>31.096275</td>\n",
       "      <td>-44.417020</td>\n",
       "    </tr>\n",
       "    <tr>\n",
       "      <th>2002-09-17</th>\n",
       "      <td>19.331800</td>\n",
       "      <td>15.549920</td>\n",
       "      <td>31.763737</td>\n",
       "      <td>-43.240634</td>\n",
       "    </tr>\n",
       "    <tr>\n",
       "      <th>2002-09-18</th>\n",
       "      <td>18.387892</td>\n",
       "      <td>15.554895</td>\n",
       "      <td>32.865547</td>\n",
       "      <td>-41.923559</td>\n",
       "    </tr>\n",
       "    <tr>\n",
       "      <th>2002-09-19</th>\n",
       "      <td>17.590646</td>\n",
       "      <td>14.485993</td>\n",
       "      <td>33.156515</td>\n",
       "      <td>-41.517986</td>\n",
       "    </tr>\n",
       "    <tr>\n",
       "      <th>2002-09-20</th>\n",
       "      <td>16.987074</td>\n",
       "      <td>14.807503</td>\n",
       "      <td>32.265289</td>\n",
       "      <td>-40.562622</td>\n",
       "    </tr>\n",
       "    <tr>\n",
       "      <th>2002-09-21</th>\n",
       "      <td>17.509299</td>\n",
       "      <td>14.202276</td>\n",
       "      <td>31.461763</td>\n",
       "      <td>-40.570004</td>\n",
       "    </tr>\n",
       "    <tr>\n",
       "      <th>2002-09-22</th>\n",
       "      <td>16.088080</td>\n",
       "      <td>15.650366</td>\n",
       "      <td>31.265217</td>\n",
       "      <td>-38.892485</td>\n",
       "    </tr>\n",
       "    <tr>\n",
       "      <th>2002-09-23</th>\n",
       "      <td>16.235300</td>\n",
       "      <td>15.668100</td>\n",
       "      <td>31.674551</td>\n",
       "      <td>-39.757736</td>\n",
       "    </tr>\n",
       "    <tr>\n",
       "      <th>2002-09-24</th>\n",
       "      <td>15.250013</td>\n",
       "      <td>16.183169</td>\n",
       "      <td>31.794771</td>\n",
       "      <td>-40.253038</td>\n",
       "    </tr>\n",
       "    <tr>\n",
       "      <th>2002-09-25</th>\n",
       "      <td>14.861088</td>\n",
       "      <td>16.971837</td>\n",
       "      <td>34.112474</td>\n",
       "      <td>-41.652906</td>\n",
       "    </tr>\n",
       "    <tr>\n",
       "      <th>2002-09-26</th>\n",
       "      <td>13.587484</td>\n",
       "      <td>16.085853</td>\n",
       "      <td>34.427399</td>\n",
       "      <td>-40.996743</td>\n",
       "    </tr>\n",
       "  </tbody>\n",
       "</table>\n",
       "<p>1000 rows × 4 columns</p>\n",
       "</div>"
      ],
      "text/plain": [
       "                    A          B          C          D\n",
       "2000-01-01   1.302195  -0.514921   0.327336   1.163006\n",
       "2000-01-02   2.004380   0.612925   0.683130   2.441294\n",
       "2000-01-03   2.572371   1.466030   1.412089   2.195104\n",
       "2000-01-04   4.905567   1.114307   2.243142   0.202091\n",
       "2000-01-05   4.143720   0.800782   1.578446   0.035474\n",
       "2000-01-06   1.917376  -1.492282   3.129891   0.226390\n",
       "2000-01-07   0.708618  -1.234929   3.362785   0.416949\n",
       "2000-01-08   0.406252  -2.778541   3.102431  -0.834155\n",
       "2000-01-09   0.205522  -2.777017   2.633626   0.201853\n",
       "2000-01-10   1.335021  -3.057542   0.798658  -0.144341\n",
       "2000-01-11   1.316773  -4.327272   0.238154   0.328218\n",
       "2000-01-12   0.122440  -4.313161   0.158823  -0.077563\n",
       "2000-01-13   1.753820  -2.760166   1.399515  -1.646269\n",
       "2000-01-14   2.558466  -3.511810   0.309302  -1.208040\n",
       "2000-01-15   1.852004  -2.750476  -0.794515  -0.472063\n",
       "2000-01-16   2.867519  -0.917187   0.618665  -2.330205\n",
       "2000-01-17   2.164929  -0.563918   1.077919  -0.530108\n",
       "2000-01-18   1.003807  -0.090780   1.613908  -0.187566\n",
       "2000-01-19   2.231055  -0.570104   1.061993   0.238337\n",
       "2000-01-20   3.519003  -0.601458   0.630943   0.054784\n",
       "2000-01-21   2.488923  -0.608090  -0.509018   0.268328\n",
       "2000-01-22   2.047961  -0.247351  -1.413077   1.785076\n",
       "2000-01-23   2.033998  -0.865053  -1.531012   1.777143\n",
       "2000-01-24   1.000774  -0.304981  -0.419938   2.335939\n",
       "2000-01-25   1.226908  -1.503072   0.022608   2.853013\n",
       "2000-01-26   1.027058  -1.927188  -0.353748   3.265371\n",
       "2000-01-27   0.062530  -4.375112   1.013982   4.810981\n",
       "2000-01-28   1.159249  -3.872831   2.376474   4.800799\n",
       "2000-01-29   2.597230  -2.050723   1.734208   4.327275\n",
       "2000-01-30   2.100243  -3.601094   1.679297   3.894026\n",
       "...               ...        ...        ...        ...\n",
       "2002-08-28  25.728071  19.298374  30.972225 -40.431559\n",
       "2002-08-29  24.907582  20.064984  31.100626 -40.132790\n",
       "2002-08-30  26.182158  20.486612  30.033629 -41.115045\n",
       "2002-08-31  26.617354  21.258893  30.240387 -39.625627\n",
       "2002-09-01  24.931562  19.867474  29.772343 -40.261718\n",
       "2002-09-02  24.689552  19.431644  29.977001 -40.318563\n",
       "2002-09-03  24.600123  17.729464  29.155716 -39.817207\n",
       "2002-09-04  24.088195  19.637516  27.796530 -40.821606\n",
       "2002-09-05  23.162373  19.109562  28.427027 -42.210097\n",
       "2002-09-06  23.785555  18.469319  31.017359 -42.792607\n",
       "2002-09-07  23.181674  19.738711  30.331199 -42.986023\n",
       "2002-09-08  22.414012  20.999673  30.431537 -42.309563\n",
       "2002-09-09  19.923596  20.503302  30.201161 -41.449392\n",
       "2002-09-10  20.775317  18.797465  30.550301 -42.716072\n",
       "2002-09-11  21.005286  18.489151  29.359386 -44.430364\n",
       "2002-09-12  21.599957  18.792781  29.847743 -45.048290\n",
       "2002-09-13  21.265663  17.777175  28.508964 -44.383036\n",
       "2002-09-14  21.739656  17.683165  28.788930 -45.302826\n",
       "2002-09-15  21.001342  16.177924  30.147678 -45.540475\n",
       "2002-09-16  21.375249  16.116893  31.096275 -44.417020\n",
       "2002-09-17  19.331800  15.549920  31.763737 -43.240634\n",
       "2002-09-18  18.387892  15.554895  32.865547 -41.923559\n",
       "2002-09-19  17.590646  14.485993  33.156515 -41.517986\n",
       "2002-09-20  16.987074  14.807503  32.265289 -40.562622\n",
       "2002-09-21  17.509299  14.202276  31.461763 -40.570004\n",
       "2002-09-22  16.088080  15.650366  31.265217 -38.892485\n",
       "2002-09-23  16.235300  15.668100  31.674551 -39.757736\n",
       "2002-09-24  15.250013  16.183169  31.794771 -40.253038\n",
       "2002-09-25  14.861088  16.971837  34.112474 -41.652906\n",
       "2002-09-26  13.587484  16.085853  34.427399 -40.996743\n",
       "\n",
       "[1000 rows x 4 columns]"
      ]
     },
     "execution_count": 120,
     "metadata": {},
     "output_type": "execute_result"
    }
   ],
   "source": [
    "pd.read_excel('foo.xlsx', 'Sheet1', index_col=None, na_values=['NA'])"
   ]
  },
  {
   "cell_type": "markdown",
   "metadata": {},
   "source": [
    "#### 용량비교 : "
   ]
  },
  {
   "cell_type": "code",
   "execution_count": 121,
   "metadata": {
    "collapsed": false,
    "scrolled": true
   },
   "outputs": [
    {
     "name": "stdout",
     "output_type": "stream",
     "text": [
      " C 드라이브의 볼륨에는 이름이 없습니다.\n",
      " 볼륨 일련 번호: 5F72-5400\n",
      "\n",
      " c:\\github\\Study_py 디렉터리\n",
      "\n",
      "2017-03-28  오전 12:13            86,917 foo.csv\n",
      "2017-03-28  오전 12:14            47,384 foo.h5\n",
      "2017-03-28  오전 12:14           116,657 foo.json\n",
      "2017-03-28  오전 12:14            40,925 foo.pic\n",
      "2017-03-28  오전 12:15            67,505 foo.xlsx\n",
      "               5개 파일             359,388 바이트\n",
      "               0개 디렉터리  180,184,879,104 바이트 남음\n"
     ]
    }
   ],
   "source": [
    "!dir foo*"
   ]
  },
  {
   "cell_type": "markdown",
   "metadata": {},
   "source": [
    "### Gotchas"
   ]
  },
  {
   "cell_type": "code",
   "execution_count": 129,
   "metadata": {
    "collapsed": false
   },
   "outputs": [
    {
     "name": "stdout",
     "output_type": "stream",
     "text": [
      "I was not None\n"
     ]
    }
   ],
   "source": [
    "if pd.Series([False, True, False]) is not None:\n",
    "    print(\"I was not None\")"
   ]
  },
  {
   "cell_type": "code",
   "execution_count": 130,
   "metadata": {
    "collapsed": false
   },
   "outputs": [
    {
     "name": "stdout",
     "output_type": "stream",
     "text": [
      "I am any\n"
     ]
    }
   ],
   "source": [
    "if pd.Series([False, True, False]).any():\n",
    "    print(\"I am any\")"
   ]
  },
  {
   "cell_type": "code",
   "execution_count": 133,
   "metadata": {
    "collapsed": false
   },
   "outputs": [
    {
     "data": {
      "text/plain": [
       "True"
      ]
     },
     "execution_count": 133,
     "metadata": {},
     "output_type": "execute_result"
    }
   ],
   "source": [
    "pd.Series([True]).bool()"
   ]
  },
  {
   "cell_type": "code",
   "execution_count": 134,
   "metadata": {
    "collapsed": false
   },
   "outputs": [
    {
     "data": {
      "text/plain": [
       "False"
      ]
     },
     "execution_count": 134,
     "metadata": {},
     "output_type": "execute_result"
    }
   ],
   "source": [
    "pd.Series([False]).bool()"
   ]
  },
  {
   "cell_type": "code",
   "execution_count": 139,
   "metadata": {
    "collapsed": false
   },
   "outputs": [
    {
     "data": {
      "text/plain": [
       "True"
      ]
     },
     "execution_count": 139,
     "metadata": {},
     "output_type": "execute_result"
    }
   ],
   "source": [
    "pd.DataFrame([[True]]).bool()"
   ]
  },
  {
   "cell_type": "code",
   "execution_count": 138,
   "metadata": {
    "collapsed": false
   },
   "outputs": [
    {
     "data": {
      "text/plain": [
       "False"
      ]
     },
     "execution_count": 138,
     "metadata": {},
     "output_type": "execute_result"
    }
   ],
   "source": [
    "pd.DataFrame([[False]]).bool()"
   ]
  },
  {
   "cell_type": "markdown",
   "metadata": {
    "deletable": true,
    "editable": true
   },
   "source": [
    "## 1.2 전체 API 목록\n",
    "\n",
    "http://pandas.pydata.org/pandas-docs/stable/api.html"
   ]
  },
  {
   "cell_type": "markdown",
   "metadata": {
    "deletable": true,
    "editable": true
   },
   "source": [
    "### Input/Output\n",
    "- [read_json([path_or_buf, orient, typ, dtype, ...])](http://pandas.pydata.org/pandas-docs/stable/generated/pandas.read_json.html#pandas.read_json) : JSON을 Dataframe으로 변경\n",
    "- [json_normalize(data[, record_path, meta, ...])](http://pandas.pydata.org/pandas-docs/stable/generated/pandas.io.json.json_normalize.html#pandas.io.json.json_normalize) : semi-structured JSON을 Dataframe으로 변경\n",
    "- [read_html(io[, match, flavor, header, ...])](http://pandas.pydata.org/pandasdocs/stable/generated/pandas.read_html.html#pandas.read_html) : "
   ]
  },
  {
   "cell_type": "markdown",
   "metadata": {
    "deletable": true,
    "editable": true
   },
   "source": [
    "## 1.4 Usage\n",
    "### 1.4.1 Object 생성\n",
    "### 1.4.2 Viewing Data"
   ]
  },
  {
   "cell_type": "code",
   "execution_count": null,
   "metadata": {
    "collapsed": true,
    "deletable": true,
    "editable": true
   },
   "outputs": [],
   "source": [
    "import pandas as pd\n",
    "import pandas_datareader.data\n",
    "import requests\n",
    "import datetime"
   ]
  },
  {
   "cell_type": "code",
   "execution_count": 111,
   "metadata": {
    "collapsed": false,
    "deletable": true,
    "editable": true
   },
   "outputs": [
    {
     "data": {
      "text/html": [
       "<div>\n",
       "<table border=\"1\" class=\"dataframe\">\n",
       "  <thead>\n",
       "    <tr style=\"text-align: right;\">\n",
       "      <th></th>\n",
       "      <th>Open</th>\n",
       "      <th>High</th>\n",
       "      <th>Low</th>\n",
       "      <th>Close</th>\n",
       "      <th>Volume</th>\n",
       "      <th>Adj Close</th>\n",
       "    </tr>\n",
       "    <tr>\n",
       "      <th>Date</th>\n",
       "      <th></th>\n",
       "      <th></th>\n",
       "      <th></th>\n",
       "      <th></th>\n",
       "      <th></th>\n",
       "      <th></th>\n",
       "    </tr>\n",
       "  </thead>\n",
       "  <tbody>\n",
       "    <tr>\n",
       "      <th>2017-02-01</th>\n",
       "      <td>1977000.0</td>\n",
       "      <td>1983000.0</td>\n",
       "      <td>1952000.0</td>\n",
       "      <td>1956000.0</td>\n",
       "      <td>283000</td>\n",
       "      <td>1956000.0</td>\n",
       "    </tr>\n",
       "    <tr>\n",
       "      <th>2017-02-02</th>\n",
       "      <td>1980000.0</td>\n",
       "      <td>1983000.0</td>\n",
       "      <td>1960000.0</td>\n",
       "      <td>1968000.0</td>\n",
       "      <td>300500</td>\n",
       "      <td>1968000.0</td>\n",
       "    </tr>\n",
       "    <tr>\n",
       "      <th>2017-02-03</th>\n",
       "      <td>1970000.0</td>\n",
       "      <td>1975000.0</td>\n",
       "      <td>1959000.0</td>\n",
       "      <td>1973000.0</td>\n",
       "      <td>207700</td>\n",
       "      <td>1973000.0</td>\n",
       "    </tr>\n",
       "    <tr>\n",
       "      <th>2017-02-06</th>\n",
       "      <td>1979000.0</td>\n",
       "      <td>1983000.0</td>\n",
       "      <td>1957000.0</td>\n",
       "      <td>1978000.0</td>\n",
       "      <td>177200</td>\n",
       "      <td>1978000.0</td>\n",
       "    </tr>\n",
       "    <tr>\n",
       "      <th>2017-02-07</th>\n",
       "      <td>1978000.0</td>\n",
       "      <td>1979000.0</td>\n",
       "      <td>1938000.0</td>\n",
       "      <td>1941000.0</td>\n",
       "      <td>280800</td>\n",
       "      <td>1941000.0</td>\n",
       "    </tr>\n",
       "    <tr>\n",
       "      <th>2017-02-08</th>\n",
       "      <td>1937000.0</td>\n",
       "      <td>1939000.0</td>\n",
       "      <td>1910000.0</td>\n",
       "      <td>1920000.0</td>\n",
       "      <td>341800</td>\n",
       "      <td>1920000.0</td>\n",
       "    </tr>\n",
       "    <tr>\n",
       "      <th>2017-02-09</th>\n",
       "      <td>1939000.0</td>\n",
       "      <td>1942000.0</td>\n",
       "      <td>1911000.0</td>\n",
       "      <td>1920000.0</td>\n",
       "      <td>273800</td>\n",
       "      <td>1920000.0</td>\n",
       "    </tr>\n",
       "    <tr>\n",
       "      <th>2017-02-10</th>\n",
       "      <td>1920000.0</td>\n",
       "      <td>1938000.0</td>\n",
       "      <td>1915000.0</td>\n",
       "      <td>1918000.0</td>\n",
       "      <td>220400</td>\n",
       "      <td>1918000.0</td>\n",
       "    </tr>\n",
       "    <tr>\n",
       "      <th>2017-02-13</th>\n",
       "      <td>1887000.0</td>\n",
       "      <td>1903000.0</td>\n",
       "      <td>1886000.0</td>\n",
       "      <td>1898000.0</td>\n",
       "      <td>222000</td>\n",
       "      <td>1898000.0</td>\n",
       "    </tr>\n",
       "    <tr>\n",
       "      <th>2017-02-14</th>\n",
       "      <td>1898000.0</td>\n",
       "      <td>1913000.0</td>\n",
       "      <td>1866000.0</td>\n",
       "      <td>1879000.0</td>\n",
       "      <td>262400</td>\n",
       "      <td>1879000.0</td>\n",
       "    </tr>\n",
       "    <tr>\n",
       "      <th>2017-02-15</th>\n",
       "      <td>1854000.0</td>\n",
       "      <td>1898000.0</td>\n",
       "      <td>1854000.0</td>\n",
       "      <td>1886000.0</td>\n",
       "      <td>283800</td>\n",
       "      <td>1886000.0</td>\n",
       "    </tr>\n",
       "    <tr>\n",
       "      <th>2017-02-16</th>\n",
       "      <td>1890000.0</td>\n",
       "      <td>1918000.0</td>\n",
       "      <td>1889000.0</td>\n",
       "      <td>1901000.0</td>\n",
       "      <td>204500</td>\n",
       "      <td>1901000.0</td>\n",
       "    </tr>\n",
       "    <tr>\n",
       "      <th>2017-02-17</th>\n",
       "      <td>1878000.0</td>\n",
       "      <td>1902000.0</td>\n",
       "      <td>1864000.0</td>\n",
       "      <td>1893000.0</td>\n",
       "      <td>307500</td>\n",
       "      <td>1893000.0</td>\n",
       "    </tr>\n",
       "    <tr>\n",
       "      <th>2017-02-20</th>\n",
       "      <td>1911000.0</td>\n",
       "      <td>1939000.0</td>\n",
       "      <td>1908000.0</td>\n",
       "      <td>1933000.0</td>\n",
       "      <td>149700</td>\n",
       "      <td>1933000.0</td>\n",
       "    </tr>\n",
       "    <tr>\n",
       "      <th>2017-02-21</th>\n",
       "      <td>1927000.0</td>\n",
       "      <td>1978000.0</td>\n",
       "      <td>1921000.0</td>\n",
       "      <td>1947000.0</td>\n",
       "      <td>211200</td>\n",
       "      <td>1947000.0</td>\n",
       "    </tr>\n",
       "    <tr>\n",
       "      <th>2017-02-22</th>\n",
       "      <td>1950000.0</td>\n",
       "      <td>1967000.0</td>\n",
       "      <td>1949000.0</td>\n",
       "      <td>1965000.0</td>\n",
       "      <td>170700</td>\n",
       "      <td>1965000.0</td>\n",
       "    </tr>\n",
       "    <tr>\n",
       "      <th>2017-02-23</th>\n",
       "      <td>1951000.0</td>\n",
       "      <td>1972000.0</td>\n",
       "      <td>1951000.0</td>\n",
       "      <td>1959000.0</td>\n",
       "      <td>204300</td>\n",
       "      <td>1959000.0</td>\n",
       "    </tr>\n",
       "    <tr>\n",
       "      <th>2017-02-24</th>\n",
       "      <td>1948000.0</td>\n",
       "      <td>1955000.0</td>\n",
       "      <td>1903000.0</td>\n",
       "      <td>1911000.0</td>\n",
       "      <td>185900</td>\n",
       "      <td>1911000.0</td>\n",
       "    </tr>\n",
       "    <tr>\n",
       "      <th>2017-02-27</th>\n",
       "      <td>1901000.0</td>\n",
       "      <td>1907000.0</td>\n",
       "      <td>1885000.0</td>\n",
       "      <td>1903000.0</td>\n",
       "      <td>180600</td>\n",
       "      <td>1903000.0</td>\n",
       "    </tr>\n",
       "    <tr>\n",
       "      <th>2017-02-28</th>\n",
       "      <td>1903000.0</td>\n",
       "      <td>1938000.0</td>\n",
       "      <td>1898000.0</td>\n",
       "      <td>1922000.0</td>\n",
       "      <td>301700</td>\n",
       "      <td>1922000.0</td>\n",
       "    </tr>\n",
       "    <tr>\n",
       "      <th>2017-03-01</th>\n",
       "      <td>1922000.0</td>\n",
       "      <td>1922000.0</td>\n",
       "      <td>1922000.0</td>\n",
       "      <td>1922000.0</td>\n",
       "      <td>0</td>\n",
       "      <td>1922000.0</td>\n",
       "    </tr>\n",
       "    <tr>\n",
       "      <th>2017-03-02</th>\n",
       "      <td>1921000.0</td>\n",
       "      <td>1993000.0</td>\n",
       "      <td>1921000.0</td>\n",
       "      <td>1986000.0</td>\n",
       "      <td>424900</td>\n",
       "      <td>1986000.0</td>\n",
       "    </tr>\n",
       "    <tr>\n",
       "      <th>2017-03-03</th>\n",
       "      <td>1967000.0</td>\n",
       "      <td>1986000.0</td>\n",
       "      <td>1958000.0</td>\n",
       "      <td>1981000.0</td>\n",
       "      <td>254100</td>\n",
       "      <td>1981000.0</td>\n",
       "    </tr>\n",
       "    <tr>\n",
       "      <th>2017-03-06</th>\n",
       "      <td>1961000.0</td>\n",
       "      <td>2011000.0</td>\n",
       "      <td>1961000.0</td>\n",
       "      <td>2004000.0</td>\n",
       "      <td>244600</td>\n",
       "      <td>2004000.0</td>\n",
       "    </tr>\n",
       "    <tr>\n",
       "      <th>2017-03-07</th>\n",
       "      <td>1990000.0</td>\n",
       "      <td>2016000.0</td>\n",
       "      <td>1990000.0</td>\n",
       "      <td>2010000.0</td>\n",
       "      <td>211000</td>\n",
       "      <td>2010000.0</td>\n",
       "    </tr>\n",
       "    <tr>\n",
       "      <th>2017-03-08</th>\n",
       "      <td>2010000.0</td>\n",
       "      <td>2031000.0</td>\n",
       "      <td>2007000.0</td>\n",
       "      <td>2010000.0</td>\n",
       "      <td>242800</td>\n",
       "      <td>2010000.0</td>\n",
       "    </tr>\n",
       "    <tr>\n",
       "      <th>2017-03-09</th>\n",
       "      <td>2010000.0</td>\n",
       "      <td>2015000.0</td>\n",
       "      <td>2001000.0</td>\n",
       "      <td>2010000.0</td>\n",
       "      <td>287400</td>\n",
       "      <td>2010000.0</td>\n",
       "    </tr>\n",
       "    <tr>\n",
       "      <th>2017-03-10</th>\n",
       "      <td>1998000.0</td>\n",
       "      <td>2021000.0</td>\n",
       "      <td>1993000.0</td>\n",
       "      <td>2009000.0</td>\n",
       "      <td>204500</td>\n",
       "      <td>2009000.0</td>\n",
       "    </tr>\n",
       "    <tr>\n",
       "      <th>2017-03-13</th>\n",
       "      <td>2002000.0</td>\n",
       "      <td>2049000.0</td>\n",
       "      <td>2002000.0</td>\n",
       "      <td>2030000.0</td>\n",
       "      <td>148400</td>\n",
       "      <td>2030000.0</td>\n",
       "    </tr>\n",
       "    <tr>\n",
       "      <th>2017-03-14</th>\n",
       "      <td>2031000.0</td>\n",
       "      <td>2077000.0</td>\n",
       "      <td>2025000.0</td>\n",
       "      <td>2068000.0</td>\n",
       "      <td>226500</td>\n",
       "      <td>2068000.0</td>\n",
       "    </tr>\n",
       "    <tr>\n",
       "      <th>2017-03-15</th>\n",
       "      <td>2040000.0</td>\n",
       "      <td>2072000.0</td>\n",
       "      <td>2040000.0</td>\n",
       "      <td>2070000.0</td>\n",
       "      <td>191700</td>\n",
       "      <td>2070000.0</td>\n",
       "    </tr>\n",
       "    <tr>\n",
       "      <th>2017-03-16</th>\n",
       "      <td>2090000.0</td>\n",
       "      <td>2109000.0</td>\n",
       "      <td>2077000.0</td>\n",
       "      <td>2092000.0</td>\n",
       "      <td>198600</td>\n",
       "      <td>2092000.0</td>\n",
       "    </tr>\n",
       "    <tr>\n",
       "      <th>2017-03-17</th>\n",
       "      <td>2090000.0</td>\n",
       "      <td>2125000.0</td>\n",
       "      <td>2086000.0</td>\n",
       "      <td>2120000.0</td>\n",
       "      <td>252000</td>\n",
       "      <td>2120000.0</td>\n",
       "    </tr>\n",
       "    <tr>\n",
       "      <th>2017-03-20</th>\n",
       "      <td>2100000.0</td>\n",
       "      <td>2106000.0</td>\n",
       "      <td>2087000.0</td>\n",
       "      <td>2095000.0</td>\n",
       "      <td>205000</td>\n",
       "      <td>2095000.0</td>\n",
       "    </tr>\n",
       "    <tr>\n",
       "      <th>2017-03-21</th>\n",
       "      <td>2089000.0</td>\n",
       "      <td>2134000.0</td>\n",
       "      <td>2088000.0</td>\n",
       "      <td>2128000.0</td>\n",
       "      <td>284400</td>\n",
       "      <td>2128000.0</td>\n",
       "    </tr>\n",
       "  </tbody>\n",
       "</table>\n",
       "</div>"
      ],
      "text/plain": [
       "                 Open       High        Low      Close  Volume  Adj Close\n",
       "Date                                                                     \n",
       "2017-02-01  1977000.0  1983000.0  1952000.0  1956000.0  283000  1956000.0\n",
       "2017-02-02  1980000.0  1983000.0  1960000.0  1968000.0  300500  1968000.0\n",
       "2017-02-03  1970000.0  1975000.0  1959000.0  1973000.0  207700  1973000.0\n",
       "2017-02-06  1979000.0  1983000.0  1957000.0  1978000.0  177200  1978000.0\n",
       "2017-02-07  1978000.0  1979000.0  1938000.0  1941000.0  280800  1941000.0\n",
       "2017-02-08  1937000.0  1939000.0  1910000.0  1920000.0  341800  1920000.0\n",
       "2017-02-09  1939000.0  1942000.0  1911000.0  1920000.0  273800  1920000.0\n",
       "2017-02-10  1920000.0  1938000.0  1915000.0  1918000.0  220400  1918000.0\n",
       "2017-02-13  1887000.0  1903000.0  1886000.0  1898000.0  222000  1898000.0\n",
       "2017-02-14  1898000.0  1913000.0  1866000.0  1879000.0  262400  1879000.0\n",
       "2017-02-15  1854000.0  1898000.0  1854000.0  1886000.0  283800  1886000.0\n",
       "2017-02-16  1890000.0  1918000.0  1889000.0  1901000.0  204500  1901000.0\n",
       "2017-02-17  1878000.0  1902000.0  1864000.0  1893000.0  307500  1893000.0\n",
       "2017-02-20  1911000.0  1939000.0  1908000.0  1933000.0  149700  1933000.0\n",
       "2017-02-21  1927000.0  1978000.0  1921000.0  1947000.0  211200  1947000.0\n",
       "2017-02-22  1950000.0  1967000.0  1949000.0  1965000.0  170700  1965000.0\n",
       "2017-02-23  1951000.0  1972000.0  1951000.0  1959000.0  204300  1959000.0\n",
       "2017-02-24  1948000.0  1955000.0  1903000.0  1911000.0  185900  1911000.0\n",
       "2017-02-27  1901000.0  1907000.0  1885000.0  1903000.0  180600  1903000.0\n",
       "2017-02-28  1903000.0  1938000.0  1898000.0  1922000.0  301700  1922000.0\n",
       "2017-03-01  1922000.0  1922000.0  1922000.0  1922000.0       0  1922000.0\n",
       "2017-03-02  1921000.0  1993000.0  1921000.0  1986000.0  424900  1986000.0\n",
       "2017-03-03  1967000.0  1986000.0  1958000.0  1981000.0  254100  1981000.0\n",
       "2017-03-06  1961000.0  2011000.0  1961000.0  2004000.0  244600  2004000.0\n",
       "2017-03-07  1990000.0  2016000.0  1990000.0  2010000.0  211000  2010000.0\n",
       "2017-03-08  2010000.0  2031000.0  2007000.0  2010000.0  242800  2010000.0\n",
       "2017-03-09  2010000.0  2015000.0  2001000.0  2010000.0  287400  2010000.0\n",
       "2017-03-10  1998000.0  2021000.0  1993000.0  2009000.0  204500  2009000.0\n",
       "2017-03-13  2002000.0  2049000.0  2002000.0  2030000.0  148400  2030000.0\n",
       "2017-03-14  2031000.0  2077000.0  2025000.0  2068000.0  226500  2068000.0\n",
       "2017-03-15  2040000.0  2072000.0  2040000.0  2070000.0  191700  2070000.0\n",
       "2017-03-16  2090000.0  2109000.0  2077000.0  2092000.0  198600  2092000.0\n",
       "2017-03-17  2090000.0  2125000.0  2086000.0  2120000.0  252000  2120000.0\n",
       "2017-03-20  2100000.0  2106000.0  2087000.0  2095000.0  205000  2095000.0\n",
       "2017-03-21  2089000.0  2134000.0  2088000.0  2128000.0  284400  2128000.0"
      ]
     },
     "execution_count": 111,
     "metadata": {},
     "output_type": "execute_result"
    }
   ],
   "source": [
    "CODE='005930.KS'\n",
    "df = pandas_datareader.data.DataReader(CODE, \"yahoo\", '2017-02-01', datetime.datetime.now())\n",
    "df"
   ]
  },
  {
   "cell_type": "code",
   "execution_count": 112,
   "metadata": {
    "collapsed": false,
    "deletable": true,
    "editable": true
   },
   "outputs": [
    {
     "data": {
      "text/plain": [
       "Index(['Open', 'High', 'Low', 'Close', 'Volume', 'Adj Close'], dtype='object')"
      ]
     },
     "execution_count": 112,
     "metadata": {},
     "output_type": "execute_result"
    }
   ],
   "source": [
    "df.columns"
   ]
  },
  {
   "cell_type": "code",
   "execution_count": 113,
   "metadata": {
    "collapsed": false,
    "deletable": true,
    "editable": true
   },
   "outputs": [
    {
     "data": {
      "text/plain": [
       "DatetimeIndex(['2017-02-01', '2017-02-02', '2017-02-03', '2017-02-06',\n",
       "               '2017-02-07', '2017-02-08', '2017-02-09', '2017-02-10',\n",
       "               '2017-02-13', '2017-02-14', '2017-02-15', '2017-02-16',\n",
       "               '2017-02-17', '2017-02-20', '2017-02-21', '2017-02-22',\n",
       "               '2017-02-23', '2017-02-24', '2017-02-27', '2017-02-28',\n",
       "               '2017-03-01', '2017-03-02', '2017-03-03', '2017-03-06',\n",
       "               '2017-03-07', '2017-03-08', '2017-03-09', '2017-03-10',\n",
       "               '2017-03-13', '2017-03-14', '2017-03-15', '2017-03-16',\n",
       "               '2017-03-17', '2017-03-20', '2017-03-21'],\n",
       "              dtype='datetime64[ns]', name='Date', freq=None)"
      ]
     },
     "execution_count": 113,
     "metadata": {},
     "output_type": "execute_result"
    }
   ],
   "source": [
    "df.index"
   ]
  },
  {
   "cell_type": "code",
   "execution_count": 114,
   "metadata": {
    "collapsed": false,
    "deletable": true,
    "editable": true
   },
   "outputs": [
    {
     "data": {
      "text/plain": [
       "Open         1977000.0\n",
       "High         1983000.0\n",
       "Low          1952000.0\n",
       "Close        1956000.0\n",
       "Volume        283000.0\n",
       "Adj Close    1956000.0\n",
       "Name: 2017-02-01 00:00:00, dtype: float64"
      ]
     },
     "execution_count": 114,
     "metadata": {},
     "output_type": "execute_result"
    }
   ],
   "source": [
    "df.ix[0]"
   ]
  },
  {
   "cell_type": "code",
   "execution_count": 115,
   "metadata": {
    "collapsed": false,
    "deletable": true,
    "editable": true
   },
   "outputs": [
    {
     "data": {
      "text/html": [
       "<div>\n",
       "<table border=\"1\" class=\"dataframe\">\n",
       "  <thead>\n",
       "    <tr style=\"text-align: right;\">\n",
       "      <th></th>\n",
       "      <th>Open</th>\n",
       "      <th>High</th>\n",
       "      <th>Low</th>\n",
       "      <th>Close</th>\n",
       "      <th>Volume</th>\n",
       "      <th>Adj Close</th>\n",
       "    </tr>\n",
       "    <tr>\n",
       "      <th>Date</th>\n",
       "      <th></th>\n",
       "      <th></th>\n",
       "      <th></th>\n",
       "      <th></th>\n",
       "      <th></th>\n",
       "      <th></th>\n",
       "    </tr>\n",
       "  </thead>\n",
       "  <tbody>\n",
       "    <tr>\n",
       "      <th>2017-02-01</th>\n",
       "      <td>1977000.0</td>\n",
       "      <td>1983000.0</td>\n",
       "      <td>1952000.0</td>\n",
       "      <td>1956000.0</td>\n",
       "      <td>283000</td>\n",
       "      <td>1956000.0</td>\n",
       "    </tr>\n",
       "    <tr>\n",
       "      <th>2017-02-02</th>\n",
       "      <td>1980000.0</td>\n",
       "      <td>1983000.0</td>\n",
       "      <td>1960000.0</td>\n",
       "      <td>1968000.0</td>\n",
       "      <td>300500</td>\n",
       "      <td>1968000.0</td>\n",
       "    </tr>\n",
       "    <tr>\n",
       "      <th>2017-02-03</th>\n",
       "      <td>1970000.0</td>\n",
       "      <td>1975000.0</td>\n",
       "      <td>1959000.0</td>\n",
       "      <td>1973000.0</td>\n",
       "      <td>207700</td>\n",
       "      <td>1973000.0</td>\n",
       "    </tr>\n",
       "  </tbody>\n",
       "</table>\n",
       "</div>"
      ],
      "text/plain": [
       "                 Open       High        Low      Close  Volume  Adj Close\n",
       "Date                                                                     \n",
       "2017-02-01  1977000.0  1983000.0  1952000.0  1956000.0  283000  1956000.0\n",
       "2017-02-02  1980000.0  1983000.0  1960000.0  1968000.0  300500  1968000.0\n",
       "2017-02-03  1970000.0  1975000.0  1959000.0  1973000.0  207700  1973000.0"
      ]
     },
     "execution_count": 115,
     "metadata": {},
     "output_type": "execute_result"
    }
   ],
   "source": [
    "df.head(3)"
   ]
  },
  {
   "cell_type": "code",
   "execution_count": 116,
   "metadata": {
    "collapsed": false,
    "deletable": true,
    "editable": true
   },
   "outputs": [
    {
     "data": {
      "text/html": [
       "<div>\n",
       "<table border=\"1\" class=\"dataframe\">\n",
       "  <thead>\n",
       "    <tr style=\"text-align: right;\">\n",
       "      <th></th>\n",
       "      <th>Open</th>\n",
       "      <th>High</th>\n",
       "      <th>Low</th>\n",
       "      <th>Close</th>\n",
       "      <th>Volume</th>\n",
       "      <th>Adj Close</th>\n",
       "    </tr>\n",
       "    <tr>\n",
       "      <th>Date</th>\n",
       "      <th></th>\n",
       "      <th></th>\n",
       "      <th></th>\n",
       "      <th></th>\n",
       "      <th></th>\n",
       "      <th></th>\n",
       "    </tr>\n",
       "  </thead>\n",
       "  <tbody>\n",
       "    <tr>\n",
       "      <th>2017-03-20</th>\n",
       "      <td>2100000.0</td>\n",
       "      <td>2106000.0</td>\n",
       "      <td>2087000.0</td>\n",
       "      <td>2095000.0</td>\n",
       "      <td>205000</td>\n",
       "      <td>2095000.0</td>\n",
       "    </tr>\n",
       "    <tr>\n",
       "      <th>2017-03-21</th>\n",
       "      <td>2089000.0</td>\n",
       "      <td>2134000.0</td>\n",
       "      <td>2088000.0</td>\n",
       "      <td>2128000.0</td>\n",
       "      <td>284400</td>\n",
       "      <td>2128000.0</td>\n",
       "    </tr>\n",
       "  </tbody>\n",
       "</table>\n",
       "</div>"
      ],
      "text/plain": [
       "                 Open       High        Low      Close  Volume  Adj Close\n",
       "Date                                                                     \n",
       "2017-03-20  2100000.0  2106000.0  2087000.0  2095000.0  205000  2095000.0\n",
       "2017-03-21  2089000.0  2134000.0  2088000.0  2128000.0  284400  2128000.0"
      ]
     },
     "execution_count": 116,
     "metadata": {},
     "output_type": "execute_result"
    }
   ],
   "source": [
    "df.tail(2)"
   ]
  },
  {
   "cell_type": "code",
   "execution_count": 120,
   "metadata": {
    "collapsed": false,
    "deletable": true,
    "editable": true
   },
   "outputs": [
    {
     "data": {
      "text/html": [
       "<div>\n",
       "<table border=\"1\" class=\"dataframe\">\n",
       "  <thead>\n",
       "    <tr style=\"text-align: right;\">\n",
       "      <th></th>\n",
       "      <th>Open</th>\n",
       "      <th>High</th>\n",
       "      <th>Low</th>\n",
       "      <th>Close</th>\n",
       "      <th>Volume</th>\n",
       "      <th>Adj Close</th>\n",
       "    </tr>\n",
       "    <tr>\n",
       "      <th>Date</th>\n",
       "      <th></th>\n",
       "      <th></th>\n",
       "      <th></th>\n",
       "      <th></th>\n",
       "      <th></th>\n",
       "      <th></th>\n",
       "    </tr>\n",
       "  </thead>\n",
       "  <tbody>\n",
       "    <tr>\n",
       "      <th>2017-02-01</th>\n",
       "      <td>1977000.0</td>\n",
       "      <td>1983000.0</td>\n",
       "      <td>1952000.0</td>\n",
       "      <td>1956000.0</td>\n",
       "      <td>283000</td>\n",
       "      <td>1956000.0</td>\n",
       "    </tr>\n",
       "    <tr>\n",
       "      <th>2017-02-02</th>\n",
       "      <td>1980000.0</td>\n",
       "      <td>1983000.0</td>\n",
       "      <td>1960000.0</td>\n",
       "      <td>1968000.0</td>\n",
       "      <td>300500</td>\n",
       "      <td>1968000.0</td>\n",
       "    </tr>\n",
       "    <tr>\n",
       "      <th>2017-02-03</th>\n",
       "      <td>1970000.0</td>\n",
       "      <td>1975000.0</td>\n",
       "      <td>1959000.0</td>\n",
       "      <td>1973000.0</td>\n",
       "      <td>207700</td>\n",
       "      <td>1973000.0</td>\n",
       "    </tr>\n",
       "    <tr>\n",
       "      <th>2017-02-06</th>\n",
       "      <td>1979000.0</td>\n",
       "      <td>1983000.0</td>\n",
       "      <td>1957000.0</td>\n",
       "      <td>1978000.0</td>\n",
       "      <td>177200</td>\n",
       "      <td>1978000.0</td>\n",
       "    </tr>\n",
       "    <tr>\n",
       "      <th>2017-02-07</th>\n",
       "      <td>1978000.0</td>\n",
       "      <td>1979000.0</td>\n",
       "      <td>1938000.0</td>\n",
       "      <td>1941000.0</td>\n",
       "      <td>280800</td>\n",
       "      <td>1941000.0</td>\n",
       "    </tr>\n",
       "    <tr>\n",
       "      <th>2017-02-08</th>\n",
       "      <td>1937000.0</td>\n",
       "      <td>1939000.0</td>\n",
       "      <td>1910000.0</td>\n",
       "      <td>1920000.0</td>\n",
       "      <td>341800</td>\n",
       "      <td>1920000.0</td>\n",
       "    </tr>\n",
       "    <tr>\n",
       "      <th>2017-02-09</th>\n",
       "      <td>1939000.0</td>\n",
       "      <td>1942000.0</td>\n",
       "      <td>1911000.0</td>\n",
       "      <td>1920000.0</td>\n",
       "      <td>273800</td>\n",
       "      <td>1920000.0</td>\n",
       "    </tr>\n",
       "    <tr>\n",
       "      <th>2017-02-10</th>\n",
       "      <td>1920000.0</td>\n",
       "      <td>1938000.0</td>\n",
       "      <td>1915000.0</td>\n",
       "      <td>1918000.0</td>\n",
       "      <td>220400</td>\n",
       "      <td>1918000.0</td>\n",
       "    </tr>\n",
       "    <tr>\n",
       "      <th>2017-02-13</th>\n",
       "      <td>1887000.0</td>\n",
       "      <td>1903000.0</td>\n",
       "      <td>1886000.0</td>\n",
       "      <td>1898000.0</td>\n",
       "      <td>222000</td>\n",
       "      <td>1898000.0</td>\n",
       "    </tr>\n",
       "    <tr>\n",
       "      <th>2017-02-14</th>\n",
       "      <td>1898000.0</td>\n",
       "      <td>1913000.0</td>\n",
       "      <td>1866000.0</td>\n",
       "      <td>1879000.0</td>\n",
       "      <td>262400</td>\n",
       "      <td>1879000.0</td>\n",
       "    </tr>\n",
       "    <tr>\n",
       "      <th>2017-02-15</th>\n",
       "      <td>1854000.0</td>\n",
       "      <td>1898000.0</td>\n",
       "      <td>1854000.0</td>\n",
       "      <td>1886000.0</td>\n",
       "      <td>283800</td>\n",
       "      <td>1886000.0</td>\n",
       "    </tr>\n",
       "    <tr>\n",
       "      <th>2017-02-16</th>\n",
       "      <td>1890000.0</td>\n",
       "      <td>1918000.0</td>\n",
       "      <td>1889000.0</td>\n",
       "      <td>1901000.0</td>\n",
       "      <td>204500</td>\n",
       "      <td>1901000.0</td>\n",
       "    </tr>\n",
       "    <tr>\n",
       "      <th>2017-02-17</th>\n",
       "      <td>1878000.0</td>\n",
       "      <td>1902000.0</td>\n",
       "      <td>1864000.0</td>\n",
       "      <td>1893000.0</td>\n",
       "      <td>307500</td>\n",
       "      <td>1893000.0</td>\n",
       "    </tr>\n",
       "    <tr>\n",
       "      <th>2017-02-20</th>\n",
       "      <td>1911000.0</td>\n",
       "      <td>1939000.0</td>\n",
       "      <td>1908000.0</td>\n",
       "      <td>1933000.0</td>\n",
       "      <td>149700</td>\n",
       "      <td>1933000.0</td>\n",
       "    </tr>\n",
       "    <tr>\n",
       "      <th>2017-02-21</th>\n",
       "      <td>1927000.0</td>\n",
       "      <td>1978000.0</td>\n",
       "      <td>1921000.0</td>\n",
       "      <td>1947000.0</td>\n",
       "      <td>211200</td>\n",
       "      <td>1947000.0</td>\n",
       "    </tr>\n",
       "    <tr>\n",
       "      <th>2017-02-22</th>\n",
       "      <td>1950000.0</td>\n",
       "      <td>1967000.0</td>\n",
       "      <td>1949000.0</td>\n",
       "      <td>1965000.0</td>\n",
       "      <td>170700</td>\n",
       "      <td>1965000.0</td>\n",
       "    </tr>\n",
       "    <tr>\n",
       "      <th>2017-02-23</th>\n",
       "      <td>1951000.0</td>\n",
       "      <td>1972000.0</td>\n",
       "      <td>1951000.0</td>\n",
       "      <td>1959000.0</td>\n",
       "      <td>204300</td>\n",
       "      <td>1959000.0</td>\n",
       "    </tr>\n",
       "    <tr>\n",
       "      <th>2017-02-24</th>\n",
       "      <td>1948000.0</td>\n",
       "      <td>1955000.0</td>\n",
       "      <td>1903000.0</td>\n",
       "      <td>1911000.0</td>\n",
       "      <td>185900</td>\n",
       "      <td>1911000.0</td>\n",
       "    </tr>\n",
       "    <tr>\n",
       "      <th>2017-02-27</th>\n",
       "      <td>1901000.0</td>\n",
       "      <td>1907000.0</td>\n",
       "      <td>1885000.0</td>\n",
       "      <td>1903000.0</td>\n",
       "      <td>180600</td>\n",
       "      <td>1903000.0</td>\n",
       "    </tr>\n",
       "    <tr>\n",
       "      <th>2017-02-28</th>\n",
       "      <td>1903000.0</td>\n",
       "      <td>1938000.0</td>\n",
       "      <td>1898000.0</td>\n",
       "      <td>1922000.0</td>\n",
       "      <td>301700</td>\n",
       "      <td>1922000.0</td>\n",
       "    </tr>\n",
       "  </tbody>\n",
       "</table>\n",
       "</div>"
      ],
      "text/plain": [
       "                 Open       High        Low      Close  Volume  Adj Close\n",
       "Date                                                                     \n",
       "2017-02-01  1977000.0  1983000.0  1952000.0  1956000.0  283000  1956000.0\n",
       "2017-02-02  1980000.0  1983000.0  1960000.0  1968000.0  300500  1968000.0\n",
       "2017-02-03  1970000.0  1975000.0  1959000.0  1973000.0  207700  1973000.0\n",
       "2017-02-06  1979000.0  1983000.0  1957000.0  1978000.0  177200  1978000.0\n",
       "2017-02-07  1978000.0  1979000.0  1938000.0  1941000.0  280800  1941000.0\n",
       "2017-02-08  1937000.0  1939000.0  1910000.0  1920000.0  341800  1920000.0\n",
       "2017-02-09  1939000.0  1942000.0  1911000.0  1920000.0  273800  1920000.0\n",
       "2017-02-10  1920000.0  1938000.0  1915000.0  1918000.0  220400  1918000.0\n",
       "2017-02-13  1887000.0  1903000.0  1886000.0  1898000.0  222000  1898000.0\n",
       "2017-02-14  1898000.0  1913000.0  1866000.0  1879000.0  262400  1879000.0\n",
       "2017-02-15  1854000.0  1898000.0  1854000.0  1886000.0  283800  1886000.0\n",
       "2017-02-16  1890000.0  1918000.0  1889000.0  1901000.0  204500  1901000.0\n",
       "2017-02-17  1878000.0  1902000.0  1864000.0  1893000.0  307500  1893000.0\n",
       "2017-02-20  1911000.0  1939000.0  1908000.0  1933000.0  149700  1933000.0\n",
       "2017-02-21  1927000.0  1978000.0  1921000.0  1947000.0  211200  1947000.0\n",
       "2017-02-22  1950000.0  1967000.0  1949000.0  1965000.0  170700  1965000.0\n",
       "2017-02-23  1951000.0  1972000.0  1951000.0  1959000.0  204300  1959000.0\n",
       "2017-02-24  1948000.0  1955000.0  1903000.0  1911000.0  185900  1911000.0\n",
       "2017-02-27  1901000.0  1907000.0  1885000.0  1903000.0  180600  1903000.0\n",
       "2017-02-28  1903000.0  1938000.0  1898000.0  1922000.0  301700  1922000.0"
      ]
     },
     "execution_count": 120,
     "metadata": {},
     "output_type": "execute_result"
    }
   ],
   "source": [
    "df['2017-02']"
   ]
  },
  {
   "cell_type": "code",
   "execution_count": 121,
   "metadata": {
    "collapsed": false,
    "deletable": true,
    "editable": true
   },
   "outputs": [
    {
     "data": {
      "text/html": [
       "<div>\n",
       "<table border=\"1\" class=\"dataframe\">\n",
       "  <thead>\n",
       "    <tr style=\"text-align: right;\">\n",
       "      <th></th>\n",
       "      <th>Open</th>\n",
       "      <th>High</th>\n",
       "      <th>Low</th>\n",
       "      <th>Close</th>\n",
       "      <th>Volume</th>\n",
       "      <th>Adj Close</th>\n",
       "    </tr>\n",
       "    <tr>\n",
       "      <th>Date</th>\n",
       "      <th></th>\n",
       "      <th></th>\n",
       "      <th></th>\n",
       "      <th></th>\n",
       "      <th></th>\n",
       "      <th></th>\n",
       "    </tr>\n",
       "  </thead>\n",
       "  <tbody>\n",
       "    <tr>\n",
       "      <th>2017-02-01</th>\n",
       "      <td>1977000.0</td>\n",
       "      <td>1983000.0</td>\n",
       "      <td>1952000.0</td>\n",
       "      <td>1956000.0</td>\n",
       "      <td>283000</td>\n",
       "      <td>1956000.0</td>\n",
       "    </tr>\n",
       "    <tr>\n",
       "      <th>2017-02-02</th>\n",
       "      <td>1980000.0</td>\n",
       "      <td>1983000.0</td>\n",
       "      <td>1960000.0</td>\n",
       "      <td>1968000.0</td>\n",
       "      <td>300500</td>\n",
       "      <td>1968000.0</td>\n",
       "    </tr>\n",
       "    <tr>\n",
       "      <th>2017-02-03</th>\n",
       "      <td>1970000.0</td>\n",
       "      <td>1975000.0</td>\n",
       "      <td>1959000.0</td>\n",
       "      <td>1973000.0</td>\n",
       "      <td>207700</td>\n",
       "      <td>1973000.0</td>\n",
       "    </tr>\n",
       "    <tr>\n",
       "      <th>2017-02-06</th>\n",
       "      <td>1979000.0</td>\n",
       "      <td>1983000.0</td>\n",
       "      <td>1957000.0</td>\n",
       "      <td>1978000.0</td>\n",
       "      <td>177200</td>\n",
       "      <td>1978000.0</td>\n",
       "    </tr>\n",
       "    <tr>\n",
       "      <th>2017-02-07</th>\n",
       "      <td>1978000.0</td>\n",
       "      <td>1979000.0</td>\n",
       "      <td>1938000.0</td>\n",
       "      <td>1941000.0</td>\n",
       "      <td>280800</td>\n",
       "      <td>1941000.0</td>\n",
       "    </tr>\n",
       "    <tr>\n",
       "      <th>2017-02-08</th>\n",
       "      <td>1937000.0</td>\n",
       "      <td>1939000.0</td>\n",
       "      <td>1910000.0</td>\n",
       "      <td>1920000.0</td>\n",
       "      <td>341800</td>\n",
       "      <td>1920000.0</td>\n",
       "    </tr>\n",
       "    <tr>\n",
       "      <th>2017-02-09</th>\n",
       "      <td>1939000.0</td>\n",
       "      <td>1942000.0</td>\n",
       "      <td>1911000.0</td>\n",
       "      <td>1920000.0</td>\n",
       "      <td>273800</td>\n",
       "      <td>1920000.0</td>\n",
       "    </tr>\n",
       "    <tr>\n",
       "      <th>2017-02-10</th>\n",
       "      <td>1920000.0</td>\n",
       "      <td>1938000.0</td>\n",
       "      <td>1915000.0</td>\n",
       "      <td>1918000.0</td>\n",
       "      <td>220400</td>\n",
       "      <td>1918000.0</td>\n",
       "    </tr>\n",
       "    <tr>\n",
       "      <th>2017-02-13</th>\n",
       "      <td>1887000.0</td>\n",
       "      <td>1903000.0</td>\n",
       "      <td>1886000.0</td>\n",
       "      <td>1898000.0</td>\n",
       "      <td>222000</td>\n",
       "      <td>1898000.0</td>\n",
       "    </tr>\n",
       "    <tr>\n",
       "      <th>2017-02-14</th>\n",
       "      <td>1898000.0</td>\n",
       "      <td>1913000.0</td>\n",
       "      <td>1866000.0</td>\n",
       "      <td>1879000.0</td>\n",
       "      <td>262400</td>\n",
       "      <td>1879000.0</td>\n",
       "    </tr>\n",
       "    <tr>\n",
       "      <th>2017-02-15</th>\n",
       "      <td>1854000.0</td>\n",
       "      <td>1898000.0</td>\n",
       "      <td>1854000.0</td>\n",
       "      <td>1886000.0</td>\n",
       "      <td>283800</td>\n",
       "      <td>1886000.0</td>\n",
       "    </tr>\n",
       "    <tr>\n",
       "      <th>2017-02-16</th>\n",
       "      <td>1890000.0</td>\n",
       "      <td>1918000.0</td>\n",
       "      <td>1889000.0</td>\n",
       "      <td>1901000.0</td>\n",
       "      <td>204500</td>\n",
       "      <td>1901000.0</td>\n",
       "    </tr>\n",
       "    <tr>\n",
       "      <th>2017-02-17</th>\n",
       "      <td>1878000.0</td>\n",
       "      <td>1902000.0</td>\n",
       "      <td>1864000.0</td>\n",
       "      <td>1893000.0</td>\n",
       "      <td>307500</td>\n",
       "      <td>1893000.0</td>\n",
       "    </tr>\n",
       "    <tr>\n",
       "      <th>2017-02-20</th>\n",
       "      <td>1911000.0</td>\n",
       "      <td>1939000.0</td>\n",
       "      <td>1908000.0</td>\n",
       "      <td>1933000.0</td>\n",
       "      <td>149700</td>\n",
       "      <td>1933000.0</td>\n",
       "    </tr>\n",
       "    <tr>\n",
       "      <th>2017-02-21</th>\n",
       "      <td>1927000.0</td>\n",
       "      <td>1978000.0</td>\n",
       "      <td>1921000.0</td>\n",
       "      <td>1947000.0</td>\n",
       "      <td>211200</td>\n",
       "      <td>1947000.0</td>\n",
       "    </tr>\n",
       "    <tr>\n",
       "      <th>2017-02-22</th>\n",
       "      <td>1950000.0</td>\n",
       "      <td>1967000.0</td>\n",
       "      <td>1949000.0</td>\n",
       "      <td>1965000.0</td>\n",
       "      <td>170700</td>\n",
       "      <td>1965000.0</td>\n",
       "    </tr>\n",
       "    <tr>\n",
       "      <th>2017-02-23</th>\n",
       "      <td>1951000.0</td>\n",
       "      <td>1972000.0</td>\n",
       "      <td>1951000.0</td>\n",
       "      <td>1959000.0</td>\n",
       "      <td>204300</td>\n",
       "      <td>1959000.0</td>\n",
       "    </tr>\n",
       "    <tr>\n",
       "      <th>2017-02-24</th>\n",
       "      <td>1948000.0</td>\n",
       "      <td>1955000.0</td>\n",
       "      <td>1903000.0</td>\n",
       "      <td>1911000.0</td>\n",
       "      <td>185900</td>\n",
       "      <td>1911000.0</td>\n",
       "    </tr>\n",
       "    <tr>\n",
       "      <th>2017-02-27</th>\n",
       "      <td>1901000.0</td>\n",
       "      <td>1907000.0</td>\n",
       "      <td>1885000.0</td>\n",
       "      <td>1903000.0</td>\n",
       "      <td>180600</td>\n",
       "      <td>1903000.0</td>\n",
       "    </tr>\n",
       "    <tr>\n",
       "      <th>2017-02-28</th>\n",
       "      <td>1903000.0</td>\n",
       "      <td>1938000.0</td>\n",
       "      <td>1898000.0</td>\n",
       "      <td>1922000.0</td>\n",
       "      <td>301700</td>\n",
       "      <td>1922000.0</td>\n",
       "    </tr>\n",
       "    <tr>\n",
       "      <th>2017-03-01</th>\n",
       "      <td>1922000.0</td>\n",
       "      <td>1922000.0</td>\n",
       "      <td>1922000.0</td>\n",
       "      <td>1922000.0</td>\n",
       "      <td>0</td>\n",
       "      <td>1922000.0</td>\n",
       "    </tr>\n",
       "    <tr>\n",
       "      <th>2017-03-02</th>\n",
       "      <td>1921000.0</td>\n",
       "      <td>1993000.0</td>\n",
       "      <td>1921000.0</td>\n",
       "      <td>1986000.0</td>\n",
       "      <td>424900</td>\n",
       "      <td>1986000.0</td>\n",
       "    </tr>\n",
       "    <tr>\n",
       "      <th>2017-03-03</th>\n",
       "      <td>1967000.0</td>\n",
       "      <td>1986000.0</td>\n",
       "      <td>1958000.0</td>\n",
       "      <td>1981000.0</td>\n",
       "      <td>254100</td>\n",
       "      <td>1981000.0</td>\n",
       "    </tr>\n",
       "    <tr>\n",
       "      <th>2017-03-06</th>\n",
       "      <td>1961000.0</td>\n",
       "      <td>2011000.0</td>\n",
       "      <td>1961000.0</td>\n",
       "      <td>2004000.0</td>\n",
       "      <td>244600</td>\n",
       "      <td>2004000.0</td>\n",
       "    </tr>\n",
       "    <tr>\n",
       "      <th>2017-03-07</th>\n",
       "      <td>1990000.0</td>\n",
       "      <td>2016000.0</td>\n",
       "      <td>1990000.0</td>\n",
       "      <td>2010000.0</td>\n",
       "      <td>211000</td>\n",
       "      <td>2010000.0</td>\n",
       "    </tr>\n",
       "    <tr>\n",
       "      <th>2017-03-08</th>\n",
       "      <td>2010000.0</td>\n",
       "      <td>2031000.0</td>\n",
       "      <td>2007000.0</td>\n",
       "      <td>2010000.0</td>\n",
       "      <td>242800</td>\n",
       "      <td>2010000.0</td>\n",
       "    </tr>\n",
       "    <tr>\n",
       "      <th>2017-03-09</th>\n",
       "      <td>2010000.0</td>\n",
       "      <td>2015000.0</td>\n",
       "      <td>2001000.0</td>\n",
       "      <td>2010000.0</td>\n",
       "      <td>287400</td>\n",
       "      <td>2010000.0</td>\n",
       "    </tr>\n",
       "    <tr>\n",
       "      <th>2017-03-10</th>\n",
       "      <td>1998000.0</td>\n",
       "      <td>2021000.0</td>\n",
       "      <td>1993000.0</td>\n",
       "      <td>2009000.0</td>\n",
       "      <td>204500</td>\n",
       "      <td>2009000.0</td>\n",
       "    </tr>\n",
       "    <tr>\n",
       "      <th>2017-03-13</th>\n",
       "      <td>2002000.0</td>\n",
       "      <td>2049000.0</td>\n",
       "      <td>2002000.0</td>\n",
       "      <td>2030000.0</td>\n",
       "      <td>148400</td>\n",
       "      <td>2030000.0</td>\n",
       "    </tr>\n",
       "    <tr>\n",
       "      <th>2017-03-14</th>\n",
       "      <td>2031000.0</td>\n",
       "      <td>2077000.0</td>\n",
       "      <td>2025000.0</td>\n",
       "      <td>2068000.0</td>\n",
       "      <td>226500</td>\n",
       "      <td>2068000.0</td>\n",
       "    </tr>\n",
       "    <tr>\n",
       "      <th>2017-03-15</th>\n",
       "      <td>2040000.0</td>\n",
       "      <td>2072000.0</td>\n",
       "      <td>2040000.0</td>\n",
       "      <td>2070000.0</td>\n",
       "      <td>191700</td>\n",
       "      <td>2070000.0</td>\n",
       "    </tr>\n",
       "    <tr>\n",
       "      <th>2017-03-16</th>\n",
       "      <td>2090000.0</td>\n",
       "      <td>2109000.0</td>\n",
       "      <td>2077000.0</td>\n",
       "      <td>2092000.0</td>\n",
       "      <td>198600</td>\n",
       "      <td>2092000.0</td>\n",
       "    </tr>\n",
       "    <tr>\n",
       "      <th>2017-03-17</th>\n",
       "      <td>2090000.0</td>\n",
       "      <td>2125000.0</td>\n",
       "      <td>2086000.0</td>\n",
       "      <td>2120000.0</td>\n",
       "      <td>252000</td>\n",
       "      <td>2120000.0</td>\n",
       "    </tr>\n",
       "    <tr>\n",
       "      <th>2017-03-20</th>\n",
       "      <td>2100000.0</td>\n",
       "      <td>2106000.0</td>\n",
       "      <td>2087000.0</td>\n",
       "      <td>2095000.0</td>\n",
       "      <td>205000</td>\n",
       "      <td>2095000.0</td>\n",
       "    </tr>\n",
       "    <tr>\n",
       "      <th>2017-03-21</th>\n",
       "      <td>2089000.0</td>\n",
       "      <td>2134000.0</td>\n",
       "      <td>2088000.0</td>\n",
       "      <td>2128000.0</td>\n",
       "      <td>284400</td>\n",
       "      <td>2128000.0</td>\n",
       "    </tr>\n",
       "  </tbody>\n",
       "</table>\n",
       "</div>"
      ],
      "text/plain": [
       "                 Open       High        Low      Close  Volume  Adj Close\n",
       "Date                                                                     \n",
       "2017-02-01  1977000.0  1983000.0  1952000.0  1956000.0  283000  1956000.0\n",
       "2017-02-02  1980000.0  1983000.0  1960000.0  1968000.0  300500  1968000.0\n",
       "2017-02-03  1970000.0  1975000.0  1959000.0  1973000.0  207700  1973000.0\n",
       "2017-02-06  1979000.0  1983000.0  1957000.0  1978000.0  177200  1978000.0\n",
       "2017-02-07  1978000.0  1979000.0  1938000.0  1941000.0  280800  1941000.0\n",
       "2017-02-08  1937000.0  1939000.0  1910000.0  1920000.0  341800  1920000.0\n",
       "2017-02-09  1939000.0  1942000.0  1911000.0  1920000.0  273800  1920000.0\n",
       "2017-02-10  1920000.0  1938000.0  1915000.0  1918000.0  220400  1918000.0\n",
       "2017-02-13  1887000.0  1903000.0  1886000.0  1898000.0  222000  1898000.0\n",
       "2017-02-14  1898000.0  1913000.0  1866000.0  1879000.0  262400  1879000.0\n",
       "2017-02-15  1854000.0  1898000.0  1854000.0  1886000.0  283800  1886000.0\n",
       "2017-02-16  1890000.0  1918000.0  1889000.0  1901000.0  204500  1901000.0\n",
       "2017-02-17  1878000.0  1902000.0  1864000.0  1893000.0  307500  1893000.0\n",
       "2017-02-20  1911000.0  1939000.0  1908000.0  1933000.0  149700  1933000.0\n",
       "2017-02-21  1927000.0  1978000.0  1921000.0  1947000.0  211200  1947000.0\n",
       "2017-02-22  1950000.0  1967000.0  1949000.0  1965000.0  170700  1965000.0\n",
       "2017-02-23  1951000.0  1972000.0  1951000.0  1959000.0  204300  1959000.0\n",
       "2017-02-24  1948000.0  1955000.0  1903000.0  1911000.0  185900  1911000.0\n",
       "2017-02-27  1901000.0  1907000.0  1885000.0  1903000.0  180600  1903000.0\n",
       "2017-02-28  1903000.0  1938000.0  1898000.0  1922000.0  301700  1922000.0\n",
       "2017-03-01  1922000.0  1922000.0  1922000.0  1922000.0       0  1922000.0\n",
       "2017-03-02  1921000.0  1993000.0  1921000.0  1986000.0  424900  1986000.0\n",
       "2017-03-03  1967000.0  1986000.0  1958000.0  1981000.0  254100  1981000.0\n",
       "2017-03-06  1961000.0  2011000.0  1961000.0  2004000.0  244600  2004000.0\n",
       "2017-03-07  1990000.0  2016000.0  1990000.0  2010000.0  211000  2010000.0\n",
       "2017-03-08  2010000.0  2031000.0  2007000.0  2010000.0  242800  2010000.0\n",
       "2017-03-09  2010000.0  2015000.0  2001000.0  2010000.0  287400  2010000.0\n",
       "2017-03-10  1998000.0  2021000.0  1993000.0  2009000.0  204500  2009000.0\n",
       "2017-03-13  2002000.0  2049000.0  2002000.0  2030000.0  148400  2030000.0\n",
       "2017-03-14  2031000.0  2077000.0  2025000.0  2068000.0  226500  2068000.0\n",
       "2017-03-15  2040000.0  2072000.0  2040000.0  2070000.0  191700  2070000.0\n",
       "2017-03-16  2090000.0  2109000.0  2077000.0  2092000.0  198600  2092000.0\n",
       "2017-03-17  2090000.0  2125000.0  2086000.0  2120000.0  252000  2120000.0\n",
       "2017-03-20  2100000.0  2106000.0  2087000.0  2095000.0  205000  2095000.0\n",
       "2017-03-21  2089000.0  2134000.0  2088000.0  2128000.0  284400  2128000.0"
      ]
     },
     "execution_count": 121,
     "metadata": {},
     "output_type": "execute_result"
    }
   ],
   "source": [
    "df['2016-07-01':'2017-12-31']"
   ]
  },
  {
   "cell_type": "code",
   "execution_count": 122,
   "metadata": {
    "collapsed": false,
    "deletable": true,
    "editable": true
   },
   "outputs": [
    {
     "data": {
      "text/html": [
       "<div>\n",
       "<table border=\"1\" class=\"dataframe\">\n",
       "  <thead>\n",
       "    <tr style=\"text-align: right;\">\n",
       "      <th></th>\n",
       "      <th>Open</th>\n",
       "      <th>High</th>\n",
       "      <th>Low</th>\n",
       "      <th>Close</th>\n",
       "      <th>Volume</th>\n",
       "      <th>Adj Close</th>\n",
       "    </tr>\n",
       "    <tr>\n",
       "      <th>Date</th>\n",
       "      <th></th>\n",
       "      <th></th>\n",
       "      <th></th>\n",
       "      <th></th>\n",
       "      <th></th>\n",
       "      <th></th>\n",
       "    </tr>\n",
       "  </thead>\n",
       "  <tbody>\n",
       "    <tr>\n",
       "      <th>2017-02-01</th>\n",
       "      <td>1977000.0</td>\n",
       "      <td>1983000.0</td>\n",
       "      <td>1952000.0</td>\n",
       "      <td>1956000.0</td>\n",
       "      <td>283000</td>\n",
       "      <td>1956000.0</td>\n",
       "    </tr>\n",
       "    <tr>\n",
       "      <th>2017-02-02</th>\n",
       "      <td>1980000.0</td>\n",
       "      <td>1983000.0</td>\n",
       "      <td>1960000.0</td>\n",
       "      <td>1968000.0</td>\n",
       "      <td>300500</td>\n",
       "      <td>1968000.0</td>\n",
       "    </tr>\n",
       "    <tr>\n",
       "      <th>2017-02-03</th>\n",
       "      <td>1970000.0</td>\n",
       "      <td>1975000.0</td>\n",
       "      <td>1959000.0</td>\n",
       "      <td>1973000.0</td>\n",
       "      <td>207700</td>\n",
       "      <td>1973000.0</td>\n",
       "    </tr>\n",
       "    <tr>\n",
       "      <th>2017-02-06</th>\n",
       "      <td>1979000.0</td>\n",
       "      <td>1983000.0</td>\n",
       "      <td>1957000.0</td>\n",
       "      <td>1978000.0</td>\n",
       "      <td>177200</td>\n",
       "      <td>1978000.0</td>\n",
       "    </tr>\n",
       "    <tr>\n",
       "      <th>2017-02-07</th>\n",
       "      <td>1978000.0</td>\n",
       "      <td>1979000.0</td>\n",
       "      <td>1938000.0</td>\n",
       "      <td>1941000.0</td>\n",
       "      <td>280800</td>\n",
       "      <td>1941000.0</td>\n",
       "    </tr>\n",
       "    <tr>\n",
       "      <th>2017-02-08</th>\n",
       "      <td>1937000.0</td>\n",
       "      <td>1939000.0</td>\n",
       "      <td>1910000.0</td>\n",
       "      <td>1920000.0</td>\n",
       "      <td>341800</td>\n",
       "      <td>1920000.0</td>\n",
       "    </tr>\n",
       "    <tr>\n",
       "      <th>2017-02-09</th>\n",
       "      <td>1939000.0</td>\n",
       "      <td>1942000.0</td>\n",
       "      <td>1911000.0</td>\n",
       "      <td>1920000.0</td>\n",
       "      <td>273800</td>\n",
       "      <td>1920000.0</td>\n",
       "    </tr>\n",
       "    <tr>\n",
       "      <th>2017-02-10</th>\n",
       "      <td>1920000.0</td>\n",
       "      <td>1938000.0</td>\n",
       "      <td>1915000.0</td>\n",
       "      <td>1918000.0</td>\n",
       "      <td>220400</td>\n",
       "      <td>1918000.0</td>\n",
       "    </tr>\n",
       "    <tr>\n",
       "      <th>2017-02-13</th>\n",
       "      <td>1887000.0</td>\n",
       "      <td>1903000.0</td>\n",
       "      <td>1886000.0</td>\n",
       "      <td>1898000.0</td>\n",
       "      <td>222000</td>\n",
       "      <td>1898000.0</td>\n",
       "    </tr>\n",
       "    <tr>\n",
       "      <th>2017-02-14</th>\n",
       "      <td>1898000.0</td>\n",
       "      <td>1913000.0</td>\n",
       "      <td>1866000.0</td>\n",
       "      <td>1879000.0</td>\n",
       "      <td>262400</td>\n",
       "      <td>1879000.0</td>\n",
       "    </tr>\n",
       "    <tr>\n",
       "      <th>2017-02-15</th>\n",
       "      <td>1854000.0</td>\n",
       "      <td>1898000.0</td>\n",
       "      <td>1854000.0</td>\n",
       "      <td>1886000.0</td>\n",
       "      <td>283800</td>\n",
       "      <td>1886000.0</td>\n",
       "    </tr>\n",
       "    <tr>\n",
       "      <th>2017-02-16</th>\n",
       "      <td>1890000.0</td>\n",
       "      <td>1918000.0</td>\n",
       "      <td>1889000.0</td>\n",
       "      <td>1901000.0</td>\n",
       "      <td>204500</td>\n",
       "      <td>1901000.0</td>\n",
       "    </tr>\n",
       "    <tr>\n",
       "      <th>2017-02-17</th>\n",
       "      <td>1878000.0</td>\n",
       "      <td>1902000.0</td>\n",
       "      <td>1864000.0</td>\n",
       "      <td>1893000.0</td>\n",
       "      <td>307500</td>\n",
       "      <td>1893000.0</td>\n",
       "    </tr>\n",
       "    <tr>\n",
       "      <th>2017-02-20</th>\n",
       "      <td>1911000.0</td>\n",
       "      <td>1939000.0</td>\n",
       "      <td>1908000.0</td>\n",
       "      <td>1933000.0</td>\n",
       "      <td>149700</td>\n",
       "      <td>1933000.0</td>\n",
       "    </tr>\n",
       "    <tr>\n",
       "      <th>2017-02-21</th>\n",
       "      <td>1927000.0</td>\n",
       "      <td>1978000.0</td>\n",
       "      <td>1921000.0</td>\n",
       "      <td>1947000.0</td>\n",
       "      <td>211200</td>\n",
       "      <td>1947000.0</td>\n",
       "    </tr>\n",
       "    <tr>\n",
       "      <th>2017-02-22</th>\n",
       "      <td>1950000.0</td>\n",
       "      <td>1967000.0</td>\n",
       "      <td>1949000.0</td>\n",
       "      <td>1965000.0</td>\n",
       "      <td>170700</td>\n",
       "      <td>1965000.0</td>\n",
       "    </tr>\n",
       "    <tr>\n",
       "      <th>2017-02-23</th>\n",
       "      <td>1951000.0</td>\n",
       "      <td>1972000.0</td>\n",
       "      <td>1951000.0</td>\n",
       "      <td>1959000.0</td>\n",
       "      <td>204300</td>\n",
       "      <td>1959000.0</td>\n",
       "    </tr>\n",
       "    <tr>\n",
       "      <th>2017-02-24</th>\n",
       "      <td>1948000.0</td>\n",
       "      <td>1955000.0</td>\n",
       "      <td>1903000.0</td>\n",
       "      <td>1911000.0</td>\n",
       "      <td>185900</td>\n",
       "      <td>1911000.0</td>\n",
       "    </tr>\n",
       "    <tr>\n",
       "      <th>2017-02-27</th>\n",
       "      <td>1901000.0</td>\n",
       "      <td>1907000.0</td>\n",
       "      <td>1885000.0</td>\n",
       "      <td>1903000.0</td>\n",
       "      <td>180600</td>\n",
       "      <td>1903000.0</td>\n",
       "    </tr>\n",
       "    <tr>\n",
       "      <th>2017-02-28</th>\n",
       "      <td>1903000.0</td>\n",
       "      <td>1938000.0</td>\n",
       "      <td>1898000.0</td>\n",
       "      <td>1922000.0</td>\n",
       "      <td>301700</td>\n",
       "      <td>1922000.0</td>\n",
       "    </tr>\n",
       "    <tr>\n",
       "      <th>2017-03-01</th>\n",
       "      <td>1922000.0</td>\n",
       "      <td>1922000.0</td>\n",
       "      <td>1922000.0</td>\n",
       "      <td>1922000.0</td>\n",
       "      <td>0</td>\n",
       "      <td>1922000.0</td>\n",
       "    </tr>\n",
       "    <tr>\n",
       "      <th>2017-03-02</th>\n",
       "      <td>1921000.0</td>\n",
       "      <td>1993000.0</td>\n",
       "      <td>1921000.0</td>\n",
       "      <td>1986000.0</td>\n",
       "      <td>424900</td>\n",
       "      <td>1986000.0</td>\n",
       "    </tr>\n",
       "    <tr>\n",
       "      <th>2017-03-03</th>\n",
       "      <td>1967000.0</td>\n",
       "      <td>1986000.0</td>\n",
       "      <td>1958000.0</td>\n",
       "      <td>1981000.0</td>\n",
       "      <td>254100</td>\n",
       "      <td>1981000.0</td>\n",
       "    </tr>\n",
       "    <tr>\n",
       "      <th>2017-03-06</th>\n",
       "      <td>1961000.0</td>\n",
       "      <td>2011000.0</td>\n",
       "      <td>1961000.0</td>\n",
       "      <td>2004000.0</td>\n",
       "      <td>244600</td>\n",
       "      <td>2004000.0</td>\n",
       "    </tr>\n",
       "    <tr>\n",
       "      <th>2017-03-07</th>\n",
       "      <td>1990000.0</td>\n",
       "      <td>2016000.0</td>\n",
       "      <td>1990000.0</td>\n",
       "      <td>2010000.0</td>\n",
       "      <td>211000</td>\n",
       "      <td>2010000.0</td>\n",
       "    </tr>\n",
       "    <tr>\n",
       "      <th>2017-03-08</th>\n",
       "      <td>2010000.0</td>\n",
       "      <td>2031000.0</td>\n",
       "      <td>2007000.0</td>\n",
       "      <td>2010000.0</td>\n",
       "      <td>242800</td>\n",
       "      <td>2010000.0</td>\n",
       "    </tr>\n",
       "    <tr>\n",
       "      <th>2017-03-09</th>\n",
       "      <td>2010000.0</td>\n",
       "      <td>2015000.0</td>\n",
       "      <td>2001000.0</td>\n",
       "      <td>2010000.0</td>\n",
       "      <td>287400</td>\n",
       "      <td>2010000.0</td>\n",
       "    </tr>\n",
       "    <tr>\n",
       "      <th>2017-03-10</th>\n",
       "      <td>1998000.0</td>\n",
       "      <td>2021000.0</td>\n",
       "      <td>1993000.0</td>\n",
       "      <td>2009000.0</td>\n",
       "      <td>204500</td>\n",
       "      <td>2009000.0</td>\n",
       "    </tr>\n",
       "    <tr>\n",
       "      <th>2017-03-13</th>\n",
       "      <td>2002000.0</td>\n",
       "      <td>2049000.0</td>\n",
       "      <td>2002000.0</td>\n",
       "      <td>2030000.0</td>\n",
       "      <td>148400</td>\n",
       "      <td>2030000.0</td>\n",
       "    </tr>\n",
       "    <tr>\n",
       "      <th>2017-03-14</th>\n",
       "      <td>2031000.0</td>\n",
       "      <td>2077000.0</td>\n",
       "      <td>2025000.0</td>\n",
       "      <td>2068000.0</td>\n",
       "      <td>226500</td>\n",
       "      <td>2068000.0</td>\n",
       "    </tr>\n",
       "    <tr>\n",
       "      <th>2017-03-15</th>\n",
       "      <td>2040000.0</td>\n",
       "      <td>2072000.0</td>\n",
       "      <td>2040000.0</td>\n",
       "      <td>2070000.0</td>\n",
       "      <td>191700</td>\n",
       "      <td>2070000.0</td>\n",
       "    </tr>\n",
       "    <tr>\n",
       "      <th>2017-03-16</th>\n",
       "      <td>2090000.0</td>\n",
       "      <td>2109000.0</td>\n",
       "      <td>2077000.0</td>\n",
       "      <td>2092000.0</td>\n",
       "      <td>198600</td>\n",
       "      <td>2092000.0</td>\n",
       "    </tr>\n",
       "    <tr>\n",
       "      <th>2017-03-17</th>\n",
       "      <td>2090000.0</td>\n",
       "      <td>2125000.0</td>\n",
       "      <td>2086000.0</td>\n",
       "      <td>2120000.0</td>\n",
       "      <td>252000</td>\n",
       "      <td>2120000.0</td>\n",
       "    </tr>\n",
       "    <tr>\n",
       "      <th>2017-03-20</th>\n",
       "      <td>2100000.0</td>\n",
       "      <td>2106000.0</td>\n",
       "      <td>2087000.0</td>\n",
       "      <td>2095000.0</td>\n",
       "      <td>205000</td>\n",
       "      <td>2095000.0</td>\n",
       "    </tr>\n",
       "    <tr>\n",
       "      <th>2017-03-21</th>\n",
       "      <td>2089000.0</td>\n",
       "      <td>2134000.0</td>\n",
       "      <td>2088000.0</td>\n",
       "      <td>2128000.0</td>\n",
       "      <td>284400</td>\n",
       "      <td>2128000.0</td>\n",
       "    </tr>\n",
       "  </tbody>\n",
       "</table>\n",
       "</div>"
      ],
      "text/plain": [
       "                 Open       High        Low      Close  Volume  Adj Close\n",
       "Date                                                                     \n",
       "2017-02-01  1977000.0  1983000.0  1952000.0  1956000.0  283000  1956000.0\n",
       "2017-02-02  1980000.0  1983000.0  1960000.0  1968000.0  300500  1968000.0\n",
       "2017-02-03  1970000.0  1975000.0  1959000.0  1973000.0  207700  1973000.0\n",
       "2017-02-06  1979000.0  1983000.0  1957000.0  1978000.0  177200  1978000.0\n",
       "2017-02-07  1978000.0  1979000.0  1938000.0  1941000.0  280800  1941000.0\n",
       "2017-02-08  1937000.0  1939000.0  1910000.0  1920000.0  341800  1920000.0\n",
       "2017-02-09  1939000.0  1942000.0  1911000.0  1920000.0  273800  1920000.0\n",
       "2017-02-10  1920000.0  1938000.0  1915000.0  1918000.0  220400  1918000.0\n",
       "2017-02-13  1887000.0  1903000.0  1886000.0  1898000.0  222000  1898000.0\n",
       "2017-02-14  1898000.0  1913000.0  1866000.0  1879000.0  262400  1879000.0\n",
       "2017-02-15  1854000.0  1898000.0  1854000.0  1886000.0  283800  1886000.0\n",
       "2017-02-16  1890000.0  1918000.0  1889000.0  1901000.0  204500  1901000.0\n",
       "2017-02-17  1878000.0  1902000.0  1864000.0  1893000.0  307500  1893000.0\n",
       "2017-02-20  1911000.0  1939000.0  1908000.0  1933000.0  149700  1933000.0\n",
       "2017-02-21  1927000.0  1978000.0  1921000.0  1947000.0  211200  1947000.0\n",
       "2017-02-22  1950000.0  1967000.0  1949000.0  1965000.0  170700  1965000.0\n",
       "2017-02-23  1951000.0  1972000.0  1951000.0  1959000.0  204300  1959000.0\n",
       "2017-02-24  1948000.0  1955000.0  1903000.0  1911000.0  185900  1911000.0\n",
       "2017-02-27  1901000.0  1907000.0  1885000.0  1903000.0  180600  1903000.0\n",
       "2017-02-28  1903000.0  1938000.0  1898000.0  1922000.0  301700  1922000.0\n",
       "2017-03-01  1922000.0  1922000.0  1922000.0  1922000.0       0  1922000.0\n",
       "2017-03-02  1921000.0  1993000.0  1921000.0  1986000.0  424900  1986000.0\n",
       "2017-03-03  1967000.0  1986000.0  1958000.0  1981000.0  254100  1981000.0\n",
       "2017-03-06  1961000.0  2011000.0  1961000.0  2004000.0  244600  2004000.0\n",
       "2017-03-07  1990000.0  2016000.0  1990000.0  2010000.0  211000  2010000.0\n",
       "2017-03-08  2010000.0  2031000.0  2007000.0  2010000.0  242800  2010000.0\n",
       "2017-03-09  2010000.0  2015000.0  2001000.0  2010000.0  287400  2010000.0\n",
       "2017-03-10  1998000.0  2021000.0  1993000.0  2009000.0  204500  2009000.0\n",
       "2017-03-13  2002000.0  2049000.0  2002000.0  2030000.0  148400  2030000.0\n",
       "2017-03-14  2031000.0  2077000.0  2025000.0  2068000.0  226500  2068000.0\n",
       "2017-03-15  2040000.0  2072000.0  2040000.0  2070000.0  191700  2070000.0\n",
       "2017-03-16  2090000.0  2109000.0  2077000.0  2092000.0  198600  2092000.0\n",
       "2017-03-17  2090000.0  2125000.0  2086000.0  2120000.0  252000  2120000.0\n",
       "2017-03-20  2100000.0  2106000.0  2087000.0  2095000.0  205000  2095000.0\n",
       "2017-03-21  2089000.0  2134000.0  2088000.0  2128000.0  284400  2128000.0"
      ]
     },
     "execution_count": 122,
     "metadata": {},
     "output_type": "execute_result"
    }
   ],
   "source": [
    "df['2017-01-01':]"
   ]
  },
  {
   "cell_type": "code",
   "execution_count": 123,
   "metadata": {
    "collapsed": false,
    "deletable": true,
    "editable": true
   },
   "outputs": [
    {
     "data": {
      "text/html": [
       "<div>\n",
       "<table border=\"1\" class=\"dataframe\">\n",
       "  <thead>\n",
       "    <tr style=\"text-align: right;\">\n",
       "      <th></th>\n",
       "      <th>Open</th>\n",
       "      <th>High</th>\n",
       "      <th>Low</th>\n",
       "      <th>Close</th>\n",
       "      <th>Volume</th>\n",
       "      <th>Adj Close</th>\n",
       "    </tr>\n",
       "  </thead>\n",
       "  <tbody>\n",
       "    <tr>\n",
       "      <th>count</th>\n",
       "      <td>3.500000e+01</td>\n",
       "      <td>3.500000e+01</td>\n",
       "      <td>3.500000e+01</td>\n",
       "      <td>3.500000e+01</td>\n",
       "      <td>35.000000</td>\n",
       "      <td>3.500000e+01</td>\n",
       "    </tr>\n",
       "    <tr>\n",
       "      <th>mean</th>\n",
       "      <td>1.965686e+06</td>\n",
       "      <td>1.987971e+06</td>\n",
       "      <td>1.955257e+06</td>\n",
       "      <td>1.974457e+06</td>\n",
       "      <td>232725.714286</td>\n",
       "      <td>1.974457e+06</td>\n",
       "    </tr>\n",
       "    <tr>\n",
       "      <th>std</th>\n",
       "      <td>6.396128e+04</td>\n",
       "      <td>6.656465e+04</td>\n",
       "      <td>6.574520e+04</td>\n",
       "      <td>6.923674e+04</td>\n",
       "      <td>70378.377958</td>\n",
       "      <td>6.923674e+04</td>\n",
       "    </tr>\n",
       "    <tr>\n",
       "      <th>min</th>\n",
       "      <td>1.854000e+06</td>\n",
       "      <td>1.898000e+06</td>\n",
       "      <td>1.854000e+06</td>\n",
       "      <td>1.879000e+06</td>\n",
       "      <td>0.000000</td>\n",
       "      <td>1.879000e+06</td>\n",
       "    </tr>\n",
       "    <tr>\n",
       "      <th>25%</th>\n",
       "      <td>1.920500e+06</td>\n",
       "      <td>1.938500e+06</td>\n",
       "      <td>1.909000e+06</td>\n",
       "      <td>1.920000e+06</td>\n",
       "      <td>201450.000000</td>\n",
       "      <td>1.920000e+06</td>\n",
       "    </tr>\n",
       "    <tr>\n",
       "      <th>50%</th>\n",
       "      <td>1.961000e+06</td>\n",
       "      <td>1.979000e+06</td>\n",
       "      <td>1.951000e+06</td>\n",
       "      <td>1.965000e+06</td>\n",
       "      <td>222000.000000</td>\n",
       "      <td>1.965000e+06</td>\n",
       "    </tr>\n",
       "    <tr>\n",
       "      <th>75%</th>\n",
       "      <td>2.000000e+06</td>\n",
       "      <td>2.018500e+06</td>\n",
       "      <td>1.997000e+06</td>\n",
       "      <td>2.010000e+06</td>\n",
       "      <td>281900.000000</td>\n",
       "      <td>2.010000e+06</td>\n",
       "    </tr>\n",
       "    <tr>\n",
       "      <th>max</th>\n",
       "      <td>2.100000e+06</td>\n",
       "      <td>2.134000e+06</td>\n",
       "      <td>2.088000e+06</td>\n",
       "      <td>2.128000e+06</td>\n",
       "      <td>424900.000000</td>\n",
       "      <td>2.128000e+06</td>\n",
       "    </tr>\n",
       "  </tbody>\n",
       "</table>\n",
       "</div>"
      ],
      "text/plain": [
       "               Open          High           Low         Close         Volume  \\\n",
       "count  3.500000e+01  3.500000e+01  3.500000e+01  3.500000e+01      35.000000   \n",
       "mean   1.965686e+06  1.987971e+06  1.955257e+06  1.974457e+06  232725.714286   \n",
       "std    6.396128e+04  6.656465e+04  6.574520e+04  6.923674e+04   70378.377958   \n",
       "min    1.854000e+06  1.898000e+06  1.854000e+06  1.879000e+06       0.000000   \n",
       "25%    1.920500e+06  1.938500e+06  1.909000e+06  1.920000e+06  201450.000000   \n",
       "50%    1.961000e+06  1.979000e+06  1.951000e+06  1.965000e+06  222000.000000   \n",
       "75%    2.000000e+06  2.018500e+06  1.997000e+06  2.010000e+06  281900.000000   \n",
       "max    2.100000e+06  2.134000e+06  2.088000e+06  2.128000e+06  424900.000000   \n",
       "\n",
       "          Adj Close  \n",
       "count  3.500000e+01  \n",
       "mean   1.974457e+06  \n",
       "std    6.923674e+04  \n",
       "min    1.879000e+06  \n",
       "25%    1.920000e+06  \n",
       "50%    1.965000e+06  \n",
       "75%    2.010000e+06  \n",
       "max    2.128000e+06  "
      ]
     },
     "execution_count": 123,
     "metadata": {},
     "output_type": "execute_result"
    }
   ],
   "source": [
    "df.describe()"
   ]
  },
  {
   "cell_type": "markdown",
   "metadata": {
    "deletable": true,
    "editable": true
   },
   "source": [
    "## 주식 데이터 표현 예제"
   ]
  },
  {
   "cell_type": "code",
   "execution_count": null,
   "metadata": {
    "collapsed": false,
    "deletable": true,
    "editable": true
   },
   "outputs": [],
   "source": [
    "import pandas as pd\n",
    "import pandas_datareader.data\n",
    "import requests\n",
    "import datetime\n",
    "import matplotlib.pyplot as plt\n",
    "\n",
    "CODE='005930.KS'\n",
    "df = pandas_datareader.data.DataReader(CODE, \"yahoo\", '2017-01-01', datetime.datetime.now())\n",
    "\n",
    "df['MA_5'] = df['Adj Close'].rolling(window=5, center=False).mean()\n",
    "df['MA_20'] = df['Adj Close'].rolling(window=20, center=False).mean()\n",
    "df['diff'] = df['MA_5'] - df['MA_20']"
   ]
  },
  {
   "cell_type": "code",
   "execution_count": 71,
   "metadata": {
    "collapsed": false,
    "deletable": true,
    "editable": true
   },
   "outputs": [
    {
     "data": {
      "text/plain": [
       "<bound method FramePlotMethods.line of <pandas.tools.plotting.FramePlotMethods object at 0x0CF71B50>>"
      ]
     },
     "execution_count": 71,
     "metadata": {},
     "output_type": "execute_result"
    }
   ],
   "source": []
  },
  {
   "cell_type": "code",
   "execution_count": null,
   "metadata": {
    "collapsed": true,
    "deletable": true,
    "editable": true
   },
   "outputs": [],
   "source": [
    "fig = plt.gcf()\n",
    "fig.set_size_inches(16,8)\n",
    "\n",
    "#price(가격)\n",
    "price_chart = plt.subplot2grid((4,1),(0,0),rowspan=2)\n",
    "price_chart.plot(df.index, df['Adj Close'], label = 'Adj Close')\n",
    "price_chart.plot(df.index, df['MA_5'], label = 'MA_5')\n",
    "price_chart.plot(df.index, df['MA_20'], label = 'MA_20')\n",
    "\n",
    "plt.title(\"Samsung 2017\")\n",
    "plt.legend(loc='best')\n",
    "\n",
    "vol_chart = plt.subplot2grid((4,1),(2,0), rowspan = 1)\n",
    "vol_chart.bar(df.index, df['Volume'], color = 'c')\n",
    "\n",
    "signal_chart = plt.subplot2grid((4,1), (3,0), rowspan=1)\n",
    "signal_chart.plot(df.index, df['diff'].fillna(0), color = 'g')\n",
    "plt.axhline(y=0, linestyle = '--', color = 'k')\n",
    "\n",
    "prev_key = prev_val = 0\n",
    "for key, val in df['diff'][1:].iteritems():\n",
    "    if val == 0:\n",
    "        continue\n",
    "    elif val * prev_val < 0 and val > prev_val:\n",
    "        print('GOLD', key, val)\n",
    "        price_chart.annotate('Golden', xy = (key, df['MA_20'][key]), xytext=(10,-30), \n",
    "                             textcoords='offset points', arrowprops=dict(arrowstyle='-|>'))        \n",
    "        signal_chart.annotate('BUY', xy = (key, df['diff'][key]), xytext=(10,-30),\n",
    "                              textcoords='offset points', arrowprops=dict(arrowstyle='-|>'))        \n",
    "    elif val * prev_val < 0 and val < prev_val:\n",
    "        print('DEAD', key, val)\n",
    "        price_chart.annotate('Dead', xy = (key, df['MA_20'][key]), xytext=(10,30),\n",
    "                             textcoords='offset points', arrowprops=dict(arrowstyle='-|>'))\n",
    "        signal_chart.annotate('Sell', xy = (key, df['diff'][key]), xytext=(10,30),\n",
    "                             textcoords='offset points', arrowprops=dict(arrowstyle='-|>'))\n",
    "    prev_key, prev_val = key, val\n"
   ]
  },
  {
   "cell_type": "code",
   "execution_count": null,
   "metadata": {
    "collapsed": true,
    "deletable": true,
    "editable": true
   },
   "outputs": [],
   "source": [
    "plt.show()"
   ]
  },
  {
   "cell_type": "code",
   "execution_count": 105,
   "metadata": {
    "collapsed": true,
    "deletable": true,
    "editable": true
   },
   "outputs": [],
   "source": [
    "import pandas as pd\n",
    "import pandas_datareader.data\n",
    "import requests\n",
    "import datetime\n",
    "import matplotlib.pyplot as plt\n",
    "\n",
    "CODE='005930.KS'\n",
    "df = pandas_datareader.data.DataReader(CODE, \"yahoo\", '2017-01-01', datetime.datetime.now())"
   ]
  },
  {
   "cell_type": "code",
   "execution_count": 106,
   "metadata": {
    "collapsed": false,
    "deletable": true,
    "editable": true
   },
   "outputs": [
    {
     "data": {
      "text/html": [
       "<div>\n",
       "<table border=\"1\" class=\"dataframe\">\n",
       "  <thead>\n",
       "    <tr style=\"text-align: right;\">\n",
       "      <th></th>\n",
       "      <th>Open</th>\n",
       "      <th>High</th>\n",
       "      <th>Low</th>\n",
       "      <th>Close</th>\n",
       "      <th>Volume</th>\n",
       "      <th>Adj Close</th>\n",
       "    </tr>\n",
       "    <tr>\n",
       "      <th>Date</th>\n",
       "      <th></th>\n",
       "      <th></th>\n",
       "      <th></th>\n",
       "      <th></th>\n",
       "      <th></th>\n",
       "      <th></th>\n",
       "    </tr>\n",
       "  </thead>\n",
       "  <tbody>\n",
       "    <tr>\n",
       "      <th>2017-03-17</th>\n",
       "      <td>2090000.0</td>\n",
       "      <td>2125000.0</td>\n",
       "      <td>2086000.0</td>\n",
       "      <td>2120000.0</td>\n",
       "      <td>252000</td>\n",
       "      <td>2120000.0</td>\n",
       "    </tr>\n",
       "    <tr>\n",
       "      <th>2017-03-20</th>\n",
       "      <td>2100000.0</td>\n",
       "      <td>2106000.0</td>\n",
       "      <td>2087000.0</td>\n",
       "      <td>2095000.0</td>\n",
       "      <td>205000</td>\n",
       "      <td>2095000.0</td>\n",
       "    </tr>\n",
       "    <tr>\n",
       "      <th>2017-03-21</th>\n",
       "      <td>2089000.0</td>\n",
       "      <td>2134000.0</td>\n",
       "      <td>2088000.0</td>\n",
       "      <td>2128000.0</td>\n",
       "      <td>284400</td>\n",
       "      <td>2128000.0</td>\n",
       "    </tr>\n",
       "  </tbody>\n",
       "</table>\n",
       "</div>"
      ],
      "text/plain": [
       "                 Open       High        Low      Close  Volume  Adj Close\n",
       "Date                                                                     \n",
       "2017-03-17  2090000.0  2125000.0  2086000.0  2120000.0  252000  2120000.0\n",
       "2017-03-20  2100000.0  2106000.0  2087000.0  2095000.0  205000  2095000.0\n",
       "2017-03-21  2089000.0  2134000.0  2088000.0  2128000.0  284400  2128000.0"
      ]
     },
     "execution_count": 106,
     "metadata": {},
     "output_type": "execute_result"
    }
   ],
   "source": [
    "df.tail(3)"
   ]
  },
  {
   "cell_type": "code",
   "execution_count": 109,
   "metadata": {
    "collapsed": false,
    "deletable": true,
    "editable": true
   },
   "outputs": [
    {
     "data": {
      "image/png": "[encoded data removed]",
      "text/plain": [
       "<matplotlib.figure.Figure at 0xcf6e7b0>"
      ]
     },
     "metadata": {},
     "output_type": "display_data"
    }
   ],
   "source": [
    "plt.show()"
   ]
  },
  {
   "cell_type": "markdown",
   "metadata": {
    "deletable": true,
    "editable": true
   },
   "source": [
    "1. Clipboard에 있는것을 pandas형식으로 저장\n",
    " - 웹페이지의 단어를 Copy : <a href =\"http://www.koreabaseball.com/teamrank/teamrank.aspx\"> 야구 순위 </a>"
   ]
  },
  {
   "cell_type": "code",
   "execution_count": null,
   "metadata": {
    "collapsed": true,
    "deletable": true,
    "editable": true
   },
   "outputs": [],
   "source": [
    "#df = pd.read_clipboard()"
   ]
  },
  {
   "cell_type": "markdown",
   "metadata": {
    "deletable": true,
    "editable": true
   },
   "source": [
    "[Object Creation]"
   ]
  },
  {
   "cell_type": "code",
   "execution_count": null,
   "metadata": {
    "collapsed": false,
    "deletable": true,
    "editable": true
   },
   "outputs": [],
   "source": [
    "import pandas as pd\n",
    "import numpy as np\n",
    "import matplotlib.pyplot as plt\n",
    "\n",
    "s = pd.Series([1,3,5,np.nan, 6,8])"
   ]
  },
  {
   "cell_type": "code",
   "execution_count": null,
   "metadata": {
    "collapsed": false,
    "deletable": true,
    "editable": true
   },
   "outputs": [],
   "source": [
    "s"
   ]
  },
  {
   "cell_type": "code",
   "execution_count": null,
   "metadata": {
    "collapsed": false,
    "deletable": true,
    "editable": true
   },
   "outputs": [],
   "source": [
    "data = np.zeros((2,), dtype=[('A', 'i4'),('B', 'f4'),('C', 'a10')])"
   ]
  },
  {
   "cell_type": "code",
   "execution_count": null,
   "metadata": {
    "collapsed": false,
    "deletable": true,
    "editable": true
   },
   "outputs": [],
   "source": [
    "data"
   ]
  },
  {
   "cell_type": "code",
   "execution_count": null,
   "metadata": {
    "collapsed": true,
    "deletable": true,
    "editable": true
   },
   "outputs": [],
   "source": [
    "data[:] = [(1,2,'hello'), (2,3,'world')]"
   ]
  },
  {
   "cell_type": "code",
   "execution_count": null,
   "metadata": {
    "collapsed": false,
    "deletable": true,
    "editable": true
   },
   "outputs": [],
   "source": [
    "data"
   ]
  },
  {
   "cell_type": "code",
   "execution_count": null,
   "metadata": {
    "collapsed": false,
    "deletable": true,
    "editable": true
   },
   "outputs": [],
   "source": [
    "pd.DataFrame(data)"
   ]
  },
  {
   "cell_type": "code",
   "execution_count": null,
   "metadata": {
    "collapsed": true,
    "deletable": true,
    "editable": true
   },
   "outputs": [],
   "source": [
    "data2 = [{'a': 1, 'b': 2}, {'a': 5, 'b': 10, 'c': 20}]"
   ]
  },
  {
   "cell_type": "code",
   "execution_count": null,
   "metadata": {
    "collapsed": false,
    "deletable": true,
    "editable": true
   },
   "outputs": [],
   "source": [
    "pd.DataFrame(data2)"
   ]
  },
  {
   "cell_type": "code",
   "execution_count": null,
   "metadata": {
    "collapsed": true,
    "deletable": true,
    "editable": true
   },
   "outputs": [],
   "source": [
    "d = {'one' : [1., 2., 3., ],}"
   ]
  },
  {
   "cell_type": "code",
   "execution_count": null,
   "metadata": {
    "collapsed": true,
    "deletable": true,
    "editable": true
   },
   "outputs": [],
   "source": [
    "df = pd.DataFrame(d)"
   ]
  },
  {
   "cell_type": "code",
   "execution_count": null,
   "metadata": {
    "collapsed": false,
    "deletable": true,
    "editable": true
   },
   "outputs": [],
   "source": [
    "df"
   ]
  },
  {
   "cell_type": "code",
   "execution_count": null,
   "metadata": {
    "collapsed": false,
    "deletable": true,
    "editable": true
   },
   "outputs": [],
   "source": [
    "e = {'one' : [1., 2., 3., 4. ],}"
   ]
  },
  {
   "cell_type": "code",
   "execution_count": null,
   "metadata": {
    "collapsed": false,
    "deletable": true,
    "editable": true
   },
   "outputs": [],
   "source": [
    "e = pd.DataFrame(e)"
   ]
  },
  {
   "cell_type": "code",
   "execution_count": null,
   "metadata": {
    "collapsed": false,
    "deletable": true,
    "editable": true
   },
   "outputs": [],
   "source": [
    "e"
   ]
  },
  {
   "cell_type": "code",
   "execution_count": null,
   "metadata": {
    "collapsed": false,
    "deletable": true,
    "editable": true
   },
   "outputs": [],
   "source": [
    "df.insert(1, 'bar', e)"
   ]
  },
  {
   "cell_type": "code",
   "execution_count": null,
   "metadata": {
    "collapsed": false,
    "deletable": true,
    "editable": true
   },
   "outputs": [],
   "source": [
    "df"
   ]
  },
  {
   "cell_type": "code",
   "execution_count": null,
   "metadata": {
    "collapsed": true,
    "deletable": true,
    "editable": true
   },
   "outputs": [],
   "source": [
    "df1 = e"
   ]
  },
  {
   "cell_type": "code",
   "execution_count": null,
   "metadata": {
    "collapsed": false,
    "deletable": true,
    "editable": true
   },
   "outputs": [],
   "source": [
    "df1.insert(1, 'bar', e)"
   ]
  },
  {
   "cell_type": "code",
   "execution_count": null,
   "metadata": {
    "collapsed": false,
    "deletable": true,
    "editable": true
   },
   "outputs": [],
   "source": [
    "df1"
   ]
  },
  {
   "cell_type": "code",
   "execution_count": null,
   "metadata": {
    "collapsed": true,
    "deletable": true,
    "editable": true
   },
   "outputs": [],
   "source": [
    "index = pd.date_range('1/1/2000', periods=8)"
   ]
  },
  {
   "cell_type": "code",
   "execution_count": null,
   "metadata": {
    "collapsed": true,
    "deletable": true,
    "editable": true
   },
   "outputs": [],
   "source": [
    "df = pd.DataFrame(np.random.randn(8, 3), index=index, columns=list('ABC'))"
   ]
  },
  {
   "cell_type": "code",
   "execution_count": null,
   "metadata": {
    "collapsed": false,
    "deletable": true,
    "editable": true
   },
   "outputs": [],
   "source": [
    "index"
   ]
  },
  {
   "cell_type": "code",
   "execution_count": null,
   "metadata": {
    "collapsed": false,
    "deletable": true,
    "editable": true
   },
   "outputs": [],
   "source": [
    "df"
   ]
  },
  {
   "cell_type": "code",
   "execution_count": null,
   "metadata": {
    "collapsed": false,
    "deletable": true,
    "editable": true
   },
   "outputs": [],
   "source": [
    "df.loc['2000-01-01']"
   ]
  },
  {
   "cell_type": "code",
   "execution_count": null,
   "metadata": {
    "collapsed": false,
    "deletable": true,
    "editable": true
   },
   "outputs": [],
   "source": [
    "df"
   ]
  },
  {
   "cell_type": "code",
   "execution_count": null,
   "metadata": {
    "collapsed": false,
    "deletable": true,
    "editable": true
   },
   "outputs": [],
   "source": [
    "df.sub(df['A'], axis=0)"
   ]
  },
  {
   "cell_type": "code",
   "execution_count": null,
   "metadata": {
    "collapsed": false,
    "deletable": true,
    "editable": true
   },
   "outputs": [],
   "source": [
    "df.info()"
   ]
  },
  {
   "cell_type": "code",
   "execution_count": null,
   "metadata": {
    "collapsed": false,
    "deletable": true,
    "editable": true
   },
   "outputs": [],
   "source": [
    "df.A"
   ]
  },
  {
   "cell_type": "code",
   "execution_count": null,
   "metadata": {
    "collapsed": true,
    "deletable": true,
    "editable": true
   },
   "outputs": [],
   "source": [
    "midx = pd.MultiIndex(levels=[['one', 'two'], ['x','y']], labels=[[1,1,0,0],[1,0,1,0]])\n"
   ]
  },
  {
   "cell_type": "code",
   "execution_count": null,
   "metadata": {
    "collapsed": false,
    "deletable": true,
    "editable": true
   },
   "outputs": [],
   "source": [
    "midx"
   ]
  },
  {
   "cell_type": "code",
   "execution_count": null,
   "metadata": {
    "collapsed": true,
    "deletable": true,
    "editable": true
   },
   "outputs": [],
   "source": [
    "df = pd.DataFrame({'A' : [1, 2, 3, 4], 'B': [5, 6, 7, 8]}, index=midx)\n"
   ]
  },
  {
   "cell_type": "code",
   "execution_count": null,
   "metadata": {
    "collapsed": false,
    "deletable": true,
    "editable": true
   },
   "outputs": [],
   "source": [
    "df"
   ]
  },
  {
   "cell_type": "code",
   "execution_count": null,
   "metadata": {
    "collapsed": true,
    "deletable": true,
    "editable": true
   },
   "outputs": [],
   "source": [
    "pn = df.to_panel()"
   ]
  },
  {
   "cell_type": "code",
   "execution_count": null,
   "metadata": {
    "collapsed": false,
    "deletable": true,
    "editable": true
   },
   "outputs": [],
   "source": [
    "pn"
   ]
  }
 ],
 "metadata": {
  "anaconda-cloud": {},
  "kernelspec": {
   "display_name": "Python [default]",
   "language": "python",
   "name": "python3"
  },
  "language_info": {
   "codemirror_mode": {
    "name": "ipython",
    "version": 3
   },
   "file_extension": ".py",
   "mimetype": "text/x-python",
   "name": "python",
   "nbconvert_exporter": "python",
   "pygments_lexer": "ipython3",
   "version": "3.5.2"
  },
  "nbpresent": {
   "slides": {
    "00870f5c-31a5-4208-a7b7-2d38d83ed4d7": {
     "id": "00870f5c-31a5-4208-a7b7-2d38d83ed4d7",
     "prev": "6a553b2a-266d-470d-87be-e2f56a222553",
     "regions": {
      "82cbe250-fc56-40db-9191-5d1697561dca": {
       "attrs": {
        "height": 0.8,
        "width": 0.8,
        "x": 0.1,
        "y": 0.1
       },
       "content": {
        "cell": "20e352ab-edf1-4638-8aac-94e0828c1706",
        "part": "whole"
       },
       "id": "82cbe250-fc56-40db-9191-5d1697561dca"
      }
     }
    },
    "0e23b95f-a5e3-4e54-be93-9fadbce5d094": {
     "id": "0e23b95f-a5e3-4e54-be93-9fadbce5d094",
     "prev": "9e696514-1c3c-40a0-8428-761c2a8362d6",
     "regions": {
      "03c550f2-9809-46f1-8a0f-a815934eac3b": {
       "attrs": {
        "height": 0.8,
        "width": 0.8,
        "x": 0.1,
        "y": 0.1
       },
       "content": {
        "cell": "49be9dae-a566-426a-b455-ae4a207bc3e2",
        "part": "whole"
       },
       "id": "03c550f2-9809-46f1-8a0f-a815934eac3b"
      }
     }
    },
    "0e3dba63-13e2-4b7a-86cb-872f924d872f": {
     "id": "0e3dba63-13e2-4b7a-86cb-872f924d872f",
     "prev": null,
     "regions": {
      "51130638-3ad6-4459-8310-35f20d890f6c": {
       "attrs": {
        "height": 0.8,
        "width": 0.8,
        "x": 0.1,
        "y": 0.1
       },
       "content": {
        "cell": "e66d5c5e-12a7-4e3a-9e90-c13209cbcb9e",
        "part": "whole"
       },
       "id": "51130638-3ad6-4459-8310-35f20d890f6c"
      }
     }
    },
    "0f0390cb-2a89-49f3-90cd-f8e790473b2c": {
     "id": "0f0390cb-2a89-49f3-90cd-f8e790473b2c",
     "prev": "b4379257-b19c-4eeb-81a1-2b5f02b785c1",
     "regions": {
      "b0c1b299-8c8d-4a77-8513-67a8c5f44f68": {
       "attrs": {
        "height": 0.8,
        "width": 0.8,
        "x": 0.1,
        "y": 0.1
       },
       "content": {
        "cell": "932d560b-5e40-4311-9ed4-267bfed1244e",
        "part": "whole"
       },
       "id": "b0c1b299-8c8d-4a77-8513-67a8c5f44f68"
      }
     }
    },
    "1470d8ae-6651-4e77-aa56-2c9f42ccb1c5": {
     "id": "1470d8ae-6651-4e77-aa56-2c9f42ccb1c5",
     "prev": "0e23b95f-a5e3-4e54-be93-9fadbce5d094",
     "regions": {
      "663fa50c-4268-4b19-b1eb-2e7ace42fb78": {
       "attrs": {
        "height": 0.8,
        "width": 0.8,
        "x": 0.1,
        "y": 0.1
       },
       "content": {
        "cell": "ed924741-ca42-456a-8693-8cf881d51a33",
        "part": "whole"
       },
       "id": "663fa50c-4268-4b19-b1eb-2e7ace42fb78"
      }
     }
    },
    "3e9b9061-bfa6-4b6d-89d0-e1a5d6bbff79": {
     "id": "3e9b9061-bfa6-4b6d-89d0-e1a5d6bbff79",
     "prev": "bdcae75d-3237-4aab-93f2-3c59de0274b4",
     "regions": {
      "6601da4c-4ad2-4e2c-b596-7bd71d52970b": {
       "attrs": {
        "height": 0.8,
        "width": 0.8,
        "x": 0.1,
        "y": 0.1
       },
       "content": {
        "cell": "6864bb3d-20e4-4a07-886e-09f118a76812",
        "part": "whole"
       },
       "id": "6601da4c-4ad2-4e2c-b596-7bd71d52970b"
      }
     }
    },
    "4a293482-4dbd-48bb-90bc-583bd6a3f073": {
     "id": "4a293482-4dbd-48bb-90bc-583bd6a3f073",
     "prev": "ab3dbcc8-d92f-46d3-82b7-35950cdd9d4a",
     "regions": {
      "63d7de15-d00d-4e2e-b718-7320a5da48d9": {
       "attrs": {
        "height": 0.8,
        "width": 0.8,
        "x": 0.1,
        "y": 0.1
       },
       "content": {
        "cell": "17d3dfc4-8c9b-4161-aff0-08135ce7cf20",
        "part": "whole"
       },
       "id": "63d7de15-d00d-4e2e-b718-7320a5da48d9"
      }
     }
    },
    "4bee371b-0c15-429c-8da0-af26970be1f5": {
     "id": "4bee371b-0c15-429c-8da0-af26970be1f5",
     "prev": "fcef3fed-f763-4b67-8aff-6f7fee4cc733",
     "regions": {
      "15918063-4d0a-4d74-af73-ac0db915039b": {
       "attrs": {
        "height": 0.8,
        "width": 0.8,
        "x": 0.1,
        "y": 0.1
       },
       "content": {
        "cell": "bc1eb46c-fb0a-4bd3-852c-c143041ede5c",
        "part": "whole"
       },
       "id": "15918063-4d0a-4d74-af73-ac0db915039b"
      }
     }
    },
    "512b4732-4b42-46d9-8d5a-d444a7957926": {
     "id": "512b4732-4b42-46d9-8d5a-d444a7957926",
     "prev": "98bb26cf-7edf-4876-b004-bc69d9b2b41d",
     "regions": {
      "9a9e3d8c-451c-417b-ac6a-cfe1adf3559f": {
       "attrs": {
        "height": 1,
        "width": 1,
        "x": 0,
        "y": 0
       },
       "id": "9a9e3d8c-451c-417b-ac6a-cfe1adf3559f"
      }
     }
    },
    "6a553b2a-266d-470d-87be-e2f56a222553": {
     "id": "6a553b2a-266d-470d-87be-e2f56a222553",
     "prev": "4bee371b-0c15-429c-8da0-af26970be1f5",
     "regions": {
      "167940fd-cef0-45c7-887b-3480580a469d": {
       "attrs": {
        "height": 0.8,
        "width": 0.8,
        "x": 0.1,
        "y": 0.1
       },
       "content": {
        "cell": "714e0777-6935-497a-b23e-5a38d0db64e1",
        "part": "whole"
       },
       "id": "167940fd-cef0-45c7-887b-3480580a469d"
      }
     }
    },
    "7809296a-f0ce-4571-a300-79b8676d48e4": {
     "id": "7809296a-f0ce-4571-a300-79b8676d48e4",
     "prev": "1470d8ae-6651-4e77-aa56-2c9f42ccb1c5",
     "regions": {
      "149a4f14-1baf-4185-956a-955c1965f1c6": {
       "attrs": {
        "height": 0.8,
        "width": 0.8,
        "x": 0.1,
        "y": 0.1
       },
       "content": {
        "cell": "ad387461-4005-4e32-85dd-bae890bd3379",
        "part": "whole"
       },
       "id": "149a4f14-1baf-4185-956a-955c1965f1c6"
      }
     }
    },
    "8d2ea0de-4597-48b8-91b0-c75ad79c328d": {
     "id": "8d2ea0de-4597-48b8-91b0-c75ad79c328d",
     "prev": "988f7f09-2623-4d16-978f-7651877bf00a",
     "regions": {
      "5097b89d-e19f-4a1f-8c6e-133757b92af1": {
       "attrs": {
        "height": 0.8,
        "width": 0.8,
        "x": 0.1,
        "y": 0.1
       },
       "content": {
        "cell": "4a38d4ae-1654-4126-ae5b-330eae12f00f",
        "part": "whole"
       },
       "id": "5097b89d-e19f-4a1f-8c6e-133757b92af1"
      }
     }
    },
    "8f46b258-371f-4050-8296-7879cc833a51": {
     "id": "8f46b258-371f-4050-8296-7879cc833a51",
     "prev": "b5010567-1802-4449-8280-abf8867e5e08",
     "regions": {
      "dc2a3459-0371-4c1d-aaad-a7b9ca9beaa1": {
       "attrs": {
        "height": 0.8,
        "width": 0.8,
        "x": 0.1,
        "y": 0.1
       },
       "content": {
        "cell": "45c30890-f0ab-4aff-a38e-9cc1f09b97e3",
        "part": "whole"
       },
       "id": "dc2a3459-0371-4c1d-aaad-a7b9ca9beaa1"
      }
     }
    },
    "95aac8f4-df31-4104-943e-399b03956bb7": {
     "id": "95aac8f4-df31-4104-943e-399b03956bb7",
     "prev": "00870f5c-31a5-4208-a7b7-2d38d83ed4d7",
     "regions": {
      "3519c092-2961-4edd-bd81-4178bb017e4a": {
       "attrs": {
        "height": 0.8,
        "width": 0.8,
        "x": 0.1,
        "y": 0.1
       },
       "content": {
        "cell": "032d0ffe-fcc4-489f-8afe-c592a0bb615e",
        "part": "whole"
       },
       "id": "3519c092-2961-4edd-bd81-4178bb017e4a"
      }
     }
    },
    "988f7f09-2623-4d16-978f-7651877bf00a": {
     "id": "988f7f09-2623-4d16-978f-7651877bf00a",
     "prev": "0f0390cb-2a89-49f3-90cd-f8e790473b2c",
     "regions": {
      "3c886705-ea62-4b96-9f87-41f4941c18d1": {
       "attrs": {
        "height": 0.8,
        "width": 0.8,
        "x": 0.1,
        "y": 0.1
       },
       "content": {
        "cell": "54edce2a-b734-418b-8e35-ab3f5483988a",
        "part": "whole"
       },
       "id": "3c886705-ea62-4b96-9f87-41f4941c18d1"
      }
     }
    },
    "98bb26cf-7edf-4876-b004-bc69d9b2b41d": {
     "id": "98bb26cf-7edf-4876-b004-bc69d9b2b41d",
     "prev": "cbdd725e-7f09-447b-be3d-c4c764fff67b",
     "regions": {
      "c644d39c-1b21-4b88-a929-fcc8d068032d": {
       "attrs": {
        "height": 0.8,
        "width": 0.8,
        "x": 0.1,
        "y": 0.1
       },
       "content": {
        "cell": "8b93f980-e6fd-4e04-9102-055a0adf8083",
        "part": "whole"
       },
       "id": "c644d39c-1b21-4b88-a929-fcc8d068032d"
      }
     }
    },
    "9e696514-1c3c-40a0-8428-761c2a8362d6": {
     "id": "9e696514-1c3c-40a0-8428-761c2a8362d6",
     "prev": "8d2ea0de-4597-48b8-91b0-c75ad79c328d",
     "regions": {
      "fdfd4c33-74b3-4adb-bb7b-556e841e3a18": {
       "attrs": {
        "height": 0.8,
        "width": 0.8,
        "x": 0.1,
        "y": 0.1
       },
       "content": {
        "cell": "b689cd05-fb87-402a-b739-24fb7e5b1890",
        "part": "whole"
       },
       "id": "fdfd4c33-74b3-4adb-bb7b-556e841e3a18"
      }
     }
    },
    "a6f9351c-b4f9-4a1d-931d-68755bf1887a": {
     "id": "a6f9351c-b4f9-4a1d-931d-68755bf1887a",
     "prev": "4a293482-4dbd-48bb-90bc-583bd6a3f073",
     "regions": {
      "fb570c40-1760-4573-8fdd-c8b04ad43540": {
       "attrs": {
        "height": 0.8,
        "width": 0.8,
        "x": 0.1,
        "y": 0.1
       },
       "content": {
        "cell": "c71482d8-3d84-4cd7-a865-cdbf346c8aa1",
        "part": "whole"
       },
       "id": "fb570c40-1760-4573-8fdd-c8b04ad43540"
      }
     }
    },
    "ab3dbcc8-d92f-46d3-82b7-35950cdd9d4a": {
     "id": "ab3dbcc8-d92f-46d3-82b7-35950cdd9d4a",
     "prev": "ac0c7e3b-d1f9-4302-80c1-a01bbfca315c",
     "regions": {
      "e1c2a0bc-91f5-4638-b0d4-ab9692c0baae": {
       "attrs": {
        "height": 0.8,
        "width": 0.8,
        "x": 0.1,
        "y": 0.1
       },
       "content": {
        "cell": "f54b486c-c240-416c-960b-98a82c0b5cf8",
        "part": "whole"
       },
       "id": "e1c2a0bc-91f5-4638-b0d4-ab9692c0baae"
      }
     }
    },
    "ac0c7e3b-d1f9-4302-80c1-a01bbfca315c": {
     "id": "ac0c7e3b-d1f9-4302-80c1-a01bbfca315c",
     "prev": "e0bfa90f-0c5a-4ce6-91db-6cc6e7f40ff3",
     "regions": {
      "d73f250d-b0b3-41df-8d47-b82978afca3f": {
       "attrs": {
        "height": 0.8,
        "width": 0.8,
        "x": 0.1,
        "y": 0.1
       },
       "content": {
        "cell": "61b4fc74-bb38-4286-8ec4-22cf1a0ab3f4",
        "part": "whole"
       },
       "id": "d73f250d-b0b3-41df-8d47-b82978afca3f"
      }
     }
    },
    "b4379257-b19c-4eeb-81a1-2b5f02b785c1": {
     "id": "b4379257-b19c-4eeb-81a1-2b5f02b785c1",
     "prev": "512b4732-4b42-46d9-8d5a-d444a7957926",
     "regions": {
      "37f40f87-4790-47c0-9fa3-a1636d9c2229": {
       "attrs": {
        "height": 0.8,
        "width": 0.2,
        "x": 0.7,
        "y": 0.1
       },
       "id": "37f40f87-4790-47c0-9fa3-a1636d9c2229"
      },
      "41599c37-50de-49ee-aa33-37aa030bff13": {
       "attrs": {
        "height": 0.8,
        "width": 0.2,
        "x": 0.1,
        "y": 0.1
       },
       "id": "41599c37-50de-49ee-aa33-37aa030bff13"
      },
      "cbf99f4e-467a-4802-b5e7-0cf5263f86fb": {
       "attrs": {
        "height": 0.8,
        "width": 0.2,
        "x": 0.4,
        "y": 0.1
       },
       "id": "cbf99f4e-467a-4802-b5e7-0cf5263f86fb"
      }
     }
    },
    "b5010567-1802-4449-8280-abf8867e5e08": {
     "id": "b5010567-1802-4449-8280-abf8867e5e08",
     "prev": "3e9b9061-bfa6-4b6d-89d0-e1a5d6bbff79",
     "regions": {
      "c8ac9174-2950-4ef7-b90c-b9bfff51a4d1": {
       "attrs": {
        "height": 0.8,
        "width": 0.8,
        "x": 0.1,
        "y": 0.1
       },
       "content": {
        "cell": "5cc3fb9d-fc2c-42da-8434-7fb374a279b5",
        "part": "whole"
       },
       "id": "c8ac9174-2950-4ef7-b90c-b9bfff51a4d1"
      }
     }
    },
    "bdcae75d-3237-4aab-93f2-3c59de0274b4": {
     "id": "bdcae75d-3237-4aab-93f2-3c59de0274b4",
     "prev": "0e3dba63-13e2-4b7a-86cb-872f924d872f",
     "regions": {
      "659fbdf5-3634-45bb-8f55-cb2ad81a5da5": {
       "attrs": {
        "height": 0.8,
        "width": 0.8,
        "x": 0.1,
        "y": 0.1
       },
       "content": {
        "cell": "7fa00731-2d0a-4a98-9ef0-d5b23e4b26f5",
        "part": "whole"
       },
       "id": "659fbdf5-3634-45bb-8f55-cb2ad81a5da5"
      }
     }
    },
    "cbdd725e-7f09-447b-be3d-c4c764fff67b": {
     "id": "cbdd725e-7f09-447b-be3d-c4c764fff67b",
     "prev": "a6f9351c-b4f9-4a1d-931d-68755bf1887a",
     "regions": {
      "59ecb648-6092-47e8-866c-6b5d8c3ed85c": {
       "attrs": {
        "height": 0.8,
        "width": 0.8,
        "x": 0.1,
        "y": 0.1
       },
       "content": {
        "cell": "47c47743-9d61-4373-9218-b0df14437d90",
        "part": "whole"
       },
       "id": "59ecb648-6092-47e8-866c-6b5d8c3ed85c"
      }
     }
    },
    "e0bfa90f-0c5a-4ce6-91db-6cc6e7f40ff3": {
     "id": "e0bfa90f-0c5a-4ce6-91db-6cc6e7f40ff3",
     "prev": "8f46b258-371f-4050-8296-7879cc833a51",
     "regions": {
      "58a80420-ebb7-4733-9823-36e29dcc3b9c": {
       "attrs": {
        "height": 0.8,
        "width": 0.8,
        "x": 0.1,
        "y": 0.1
       },
       "content": {
        "cell": "96066229-e5cc-4285-bde6-08381edd2468",
        "part": "whole"
       },
       "id": "58a80420-ebb7-4733-9823-36e29dcc3b9c"
      }
     }
    },
    "fcef3fed-f763-4b67-8aff-6f7fee4cc733": {
     "id": "fcef3fed-f763-4b67-8aff-6f7fee4cc733",
     "prev": "7809296a-f0ce-4571-a300-79b8676d48e4",
     "regions": {
      "9e2c95c4-c24f-4591-80a1-83753156d463": {
       "attrs": {
        "height": 0.8,
        "width": 0.8,
        "x": 0.1,
        "y": 0.1
       },
       "content": {
        "cell": "cbfdbbd5-2a28-4b7c-8aea-0173595333ed",
        "part": "whole"
       },
       "id": "9e2c95c4-c24f-4591-80a1-83753156d463"
      }
     }
    }
   },
   "themes": {}
  }
 },
 "nbformat": 4,
 "nbformat_minor": 1
}
