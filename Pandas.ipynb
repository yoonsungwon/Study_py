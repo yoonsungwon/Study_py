{
 "cells": [
  {
   "cell_type": "markdown",
   "metadata": {
    "deletable": true,
    "editable": true
   },
   "source": [
    "# 1. Pandas\n",
    "\n",
    "- 정의 : 데이터 가공 및 분석을 위해 만들어진 Python 라이브러리\n",
    "- Pandas라는 이름은 \"Panel data\"에서 유래함(개량경제학 용어로써 다차원의 구조화된 데이터셋을 다룸)\n",
    "> balanced panel\n",
    "![balanced panel](https://wikimedia.org/api/rest_v1/media/math/render/svg/de4ab9449dffb05244e681551e6f3ce710856ac6)\n",
    "unbalanced panel\n",
    "![unbalanced panel](https://wikimedia.org/api/rest_v1/media/math/render/svg/fad5580f0bc2deadc1a110b647dded40867600c0)\n",
    "\n",
    "## 1.1 10 Minute to pandas (http://pandas.pydata.org/pandas-docs/stable/10min.html)\n",
    " - Object 생성([Object Creation](http://pandas.pydata.org/pandas-docs/stable/10min.html#object-creation))\n",
    " - 데이터 조회([Viewing Data](http://pandas.pydata.org/pandas-docs/stable/10min.html#viewing-data))\n",
    " - 데이터 선택([Selection](http://pandas.pydata.org/pandas-docs/stable/10min.html#selection))\n",
    "     - Selection by Label\n",
    "     - Selection by Position\n",
    "     - Boolean Indexing\n",
    "     - Setting\n",
    " - 누락 데이터([Missing Data](http://pandas.pydata.org/pandas-docs/stable/10min.html#missing-data))\n",
    " - Pandas 계산([Operations](http://pandas.pydata.org/pandas-docs/stable/10min.html#operations))\n",
    "     - Stats\n",
    "     - Apply\n",
    "     - Histogramming\n",
    "     - String Methods\n",
    " - 병합([Merge](http://pandas.pydata.org/pandas-docs/stable/10min.html#merge))\n",
    "     - Concat\n",
    "     - Join\n",
    "     - Append\n",
    " - 그룹화([Grouping](http://pandas.pydata.org/pandas-docs/stable/10min.html#grouping))\n",
    " - 변형([Reshaping](http://pandas.pydata.org/pandas-docs/stable/10min.html#reshaping))\n",
    "     - Stack\n",
    "     - Pivot Tables\n",
    " - 시계열([Time Series](http://pandas.pydata.org/pandas-docs/stable/10min.html#time-series))\n",
    " - 분류([Categoricals](http://pandas.pydata.org/pandas-docs/stable/10min.html#categoricals))\n",
    " - 그래프([Plotting](http://pandas.pydata.org/pandas-docs/stable/10min.html#plotting))\n",
    " - 데이터 입출력([Getting Data in/out](http://pandas.pydata.org/pandas-docs/stable/10min.html#getting-data-in-out))\n",
    " - [Gotchas](http://pandas.pydata.org/pandas-docs/stable/10min.html#gotchas)"
   ]
  },
  {
   "cell_type": "markdown",
   "metadata": {
    "deletable": true,
    "editable": true
   },
   "source": [
    "### 1.1.1 Object 생성"
   ]
  },
  {
   "cell_type": "code",
   "execution_count": 2,
   "metadata": {
    "collapsed": false,
    "deletable": true,
    "editable": true
   },
   "outputs": [],
   "source": [
    "import pandas as pd\n",
    "import numpy as np\n",
    "s = pd.Series([1,3,5,np.nan,6,8])\n",
    "dates = pd.date_range('20130101', periods=6)\n",
    "df = pd.DataFrame(np.random.randn(6,4), index=dates, columns=list('ABCD'))"
   ]
  },
  {
   "cell_type": "markdown",
   "metadata": {
    "deletable": true,
    "editable": true
   },
   "source": [
    "### 1.1.2 데이터 조회"
   ]
  },
  {
   "cell_type": "markdown",
   "metadata": {
    "deletable": true,
    "editable": true
   },
   "source": [
    "#### 1.1.2.1 처음과 끝 조회"
   ]
  },
  {
   "cell_type": "code",
   "execution_count": 3,
   "metadata": {
    "collapsed": false,
    "deletable": true,
    "editable": true
   },
   "outputs": [
    {
     "data": {
      "text/html": [
       "<div>\n",
       "<table border=\"1\" class=\"dataframe\">\n",
       "  <thead>\n",
       "    <tr style=\"text-align: right;\">\n",
       "      <th></th>\n",
       "      <th>A</th>\n",
       "      <th>B</th>\n",
       "      <th>C</th>\n",
       "      <th>D</th>\n",
       "    </tr>\n",
       "  </thead>\n",
       "  <tbody>\n",
       "    <tr>\n",
       "      <th>2013-01-01</th>\n",
       "      <td>0.122424</td>\n",
       "      <td>0.080427</td>\n",
       "      <td>0.310331</td>\n",
       "      <td>-1.589441</td>\n",
       "    </tr>\n",
       "    <tr>\n",
       "      <th>2013-01-02</th>\n",
       "      <td>0.290338</td>\n",
       "      <td>0.503073</td>\n",
       "      <td>1.692260</td>\n",
       "      <td>-0.299998</td>\n",
       "    </tr>\n",
       "    <tr>\n",
       "      <th>2013-01-03</th>\n",
       "      <td>0.075210</td>\n",
       "      <td>-0.634366</td>\n",
       "      <td>0.536006</td>\n",
       "      <td>0.030416</td>\n",
       "    </tr>\n",
       "    <tr>\n",
       "      <th>2013-01-04</th>\n",
       "      <td>-1.656962</td>\n",
       "      <td>0.923681</td>\n",
       "      <td>0.350175</td>\n",
       "      <td>0.185950</td>\n",
       "    </tr>\n",
       "    <tr>\n",
       "      <th>2013-01-05</th>\n",
       "      <td>-0.643251</td>\n",
       "      <td>0.302231</td>\n",
       "      <td>-0.958510</td>\n",
       "      <td>0.050617</td>\n",
       "    </tr>\n",
       "  </tbody>\n",
       "</table>\n",
       "</div>"
      ],
      "text/plain": [
       "                   A         B         C         D\n",
       "2013-01-01  0.122424  0.080427  0.310331 -1.589441\n",
       "2013-01-02  0.290338  0.503073  1.692260 -0.299998\n",
       "2013-01-03  0.075210 -0.634366  0.536006  0.030416\n",
       "2013-01-04 -1.656962  0.923681  0.350175  0.185950\n",
       "2013-01-05 -0.643251  0.302231 -0.958510  0.050617"
      ]
     },
     "execution_count": 3,
     "metadata": {},
     "output_type": "execute_result"
    }
   ],
   "source": [
    "df.head()"
   ]
  },
  {
   "cell_type": "code",
   "execution_count": 4,
   "metadata": {
    "collapsed": false,
    "deletable": true,
    "editable": true
   },
   "outputs": [
    {
     "data": {
      "text/html": [
       "<div>\n",
       "<table border=\"1\" class=\"dataframe\">\n",
       "  <thead>\n",
       "    <tr style=\"text-align: right;\">\n",
       "      <th></th>\n",
       "      <th>A</th>\n",
       "      <th>B</th>\n",
       "      <th>C</th>\n",
       "      <th>D</th>\n",
       "    </tr>\n",
       "  </thead>\n",
       "  <tbody>\n",
       "    <tr>\n",
       "      <th>2013-01-04</th>\n",
       "      <td>-1.656962</td>\n",
       "      <td>0.923681</td>\n",
       "      <td>0.350175</td>\n",
       "      <td>0.185950</td>\n",
       "    </tr>\n",
       "    <tr>\n",
       "      <th>2013-01-05</th>\n",
       "      <td>-0.643251</td>\n",
       "      <td>0.302231</td>\n",
       "      <td>-0.958510</td>\n",
       "      <td>0.050617</td>\n",
       "    </tr>\n",
       "    <tr>\n",
       "      <th>2013-01-06</th>\n",
       "      <td>0.395760</td>\n",
       "      <td>-0.202792</td>\n",
       "      <td>0.959086</td>\n",
       "      <td>-0.816187</td>\n",
       "    </tr>\n",
       "  </tbody>\n",
       "</table>\n",
       "</div>"
      ],
      "text/plain": [
       "                   A         B         C         D\n",
       "2013-01-04 -1.656962  0.923681  0.350175  0.185950\n",
       "2013-01-05 -0.643251  0.302231 -0.958510  0.050617\n",
       "2013-01-06  0.395760 -0.202792  0.959086 -0.816187"
      ]
     },
     "execution_count": 4,
     "metadata": {},
     "output_type": "execute_result"
    }
   ],
   "source": [
    "df.tail(3)"
   ]
  },
  {
   "cell_type": "markdown",
   "metadata": {
    "deletable": true,
    "editable": true
   },
   "source": [
    "#### 1.1.2.2 인덱스, 컬럼, 값 조회"
   ]
  },
  {
   "cell_type": "code",
   "execution_count": 5,
   "metadata": {
    "collapsed": false,
    "deletable": true,
    "editable": true
   },
   "outputs": [
    {
     "data": {
      "text/plain": [
       "DatetimeIndex(['2013-01-01', '2013-01-02', '2013-01-03', '2013-01-04',\n",
       "               '2013-01-05', '2013-01-06'],\n",
       "              dtype='datetime64[ns]', freq='D')"
      ]
     },
     "execution_count": 5,
     "metadata": {},
     "output_type": "execute_result"
    }
   ],
   "source": [
    "df.index"
   ]
  },
  {
   "cell_type": "code",
   "execution_count": 6,
   "metadata": {
    "collapsed": false,
    "deletable": true,
    "editable": true
   },
   "outputs": [
    {
     "data": {
      "text/plain": [
       "Index(['A', 'B', 'C', 'D'], dtype='object')"
      ]
     },
     "execution_count": 6,
     "metadata": {},
     "output_type": "execute_result"
    }
   ],
   "source": [
    "df.columns"
   ]
  },
  {
   "cell_type": "code",
   "execution_count": 7,
   "metadata": {
    "collapsed": false,
    "deletable": true,
    "editable": true
   },
   "outputs": [
    {
     "data": {
      "text/plain": [
       "array([[ 0.12242404,  0.08042651,  0.31033094, -1.58944091],\n",
       "       [ 0.29033829,  0.5030735 ,  1.6922603 , -0.29999816],\n",
       "       [ 0.07520974, -0.63436579,  0.53600648,  0.03041592],\n",
       "       [-1.65696189,  0.9236812 ,  0.35017472,  0.18594978],\n",
       "       [-0.64325135,  0.30223132, -0.95850959,  0.05061696],\n",
       "       [ 0.39576028, -0.20279212,  0.95908599, -0.81618672]])"
      ]
     },
     "execution_count": 7,
     "metadata": {},
     "output_type": "execute_result"
    }
   ],
   "source": [
    "df.values"
   ]
  },
  {
   "cell_type": "markdown",
   "metadata": {
    "deletable": true,
    "editable": true
   },
   "source": [
    "#### 1.1.2.3 통계 데이터, 변환, 정렬"
   ]
  },
  {
   "cell_type": "code",
   "execution_count": 8,
   "metadata": {
    "collapsed": false,
    "deletable": true,
    "editable": true
   },
   "outputs": [
    {
     "data": {
      "text/html": [
       "<div>\n",
       "<table border=\"1\" class=\"dataframe\">\n",
       "  <thead>\n",
       "    <tr style=\"text-align: right;\">\n",
       "      <th></th>\n",
       "      <th>A</th>\n",
       "      <th>B</th>\n",
       "      <th>C</th>\n",
       "      <th>D</th>\n",
       "    </tr>\n",
       "  </thead>\n",
       "  <tbody>\n",
       "    <tr>\n",
       "      <th>count</th>\n",
       "      <td>6.000000</td>\n",
       "      <td>6.000000</td>\n",
       "      <td>6.000000</td>\n",
       "      <td>6.000000</td>\n",
       "    </tr>\n",
       "    <tr>\n",
       "      <th>mean</th>\n",
       "      <td>-0.236080</td>\n",
       "      <td>0.162042</td>\n",
       "      <td>0.481558</td>\n",
       "      <td>-0.406441</td>\n",
       "    </tr>\n",
       "    <tr>\n",
       "      <th>std</th>\n",
       "      <td>0.785679</td>\n",
       "      <td>0.545908</td>\n",
       "      <td>0.873747</td>\n",
       "      <td>0.682552</td>\n",
       "    </tr>\n",
       "    <tr>\n",
       "      <th>min</th>\n",
       "      <td>-1.656962</td>\n",
       "      <td>-0.634366</td>\n",
       "      <td>-0.958510</td>\n",
       "      <td>-1.589441</td>\n",
       "    </tr>\n",
       "    <tr>\n",
       "      <th>25%</th>\n",
       "      <td>-0.463636</td>\n",
       "      <td>-0.131987</td>\n",
       "      <td>0.320292</td>\n",
       "      <td>-0.687140</td>\n",
       "    </tr>\n",
       "    <tr>\n",
       "      <th>50%</th>\n",
       "      <td>0.098817</td>\n",
       "      <td>0.191329</td>\n",
       "      <td>0.443091</td>\n",
       "      <td>-0.134791</td>\n",
       "    </tr>\n",
       "    <tr>\n",
       "      <th>75%</th>\n",
       "      <td>0.248360</td>\n",
       "      <td>0.452863</td>\n",
       "      <td>0.853316</td>\n",
       "      <td>0.045567</td>\n",
       "    </tr>\n",
       "    <tr>\n",
       "      <th>max</th>\n",
       "      <td>0.395760</td>\n",
       "      <td>0.923681</td>\n",
       "      <td>1.692260</td>\n",
       "      <td>0.185950</td>\n",
       "    </tr>\n",
       "  </tbody>\n",
       "</table>\n",
       "</div>"
      ],
      "text/plain": [
       "              A         B         C         D\n",
       "count  6.000000  6.000000  6.000000  6.000000\n",
       "mean  -0.236080  0.162042  0.481558 -0.406441\n",
       "std    0.785679  0.545908  0.873747  0.682552\n",
       "min   -1.656962 -0.634366 -0.958510 -1.589441\n",
       "25%   -0.463636 -0.131987  0.320292 -0.687140\n",
       "50%    0.098817  0.191329  0.443091 -0.134791\n",
       "75%    0.248360  0.452863  0.853316  0.045567\n",
       "max    0.395760  0.923681  1.692260  0.185950"
      ]
     },
     "execution_count": 8,
     "metadata": {},
     "output_type": "execute_result"
    }
   ],
   "source": [
    "df.describe()"
   ]
  },
  {
   "cell_type": "code",
   "execution_count": 9,
   "metadata": {
    "collapsed": false,
    "deletable": true,
    "editable": true
   },
   "outputs": [
    {
     "data": {
      "text/html": [
       "<div>\n",
       "<table border=\"1\" class=\"dataframe\">\n",
       "  <thead>\n",
       "    <tr style=\"text-align: right;\">\n",
       "      <th></th>\n",
       "      <th>2013-01-01 00:00:00</th>\n",
       "      <th>2013-01-02 00:00:00</th>\n",
       "      <th>2013-01-03 00:00:00</th>\n",
       "      <th>2013-01-04 00:00:00</th>\n",
       "      <th>2013-01-05 00:00:00</th>\n",
       "      <th>2013-01-06 00:00:00</th>\n",
       "    </tr>\n",
       "  </thead>\n",
       "  <tbody>\n",
       "    <tr>\n",
       "      <th>A</th>\n",
       "      <td>0.122424</td>\n",
       "      <td>0.290338</td>\n",
       "      <td>0.075210</td>\n",
       "      <td>-1.656962</td>\n",
       "      <td>-0.643251</td>\n",
       "      <td>0.395760</td>\n",
       "    </tr>\n",
       "    <tr>\n",
       "      <th>B</th>\n",
       "      <td>0.080427</td>\n",
       "      <td>0.503073</td>\n",
       "      <td>-0.634366</td>\n",
       "      <td>0.923681</td>\n",
       "      <td>0.302231</td>\n",
       "      <td>-0.202792</td>\n",
       "    </tr>\n",
       "    <tr>\n",
       "      <th>C</th>\n",
       "      <td>0.310331</td>\n",
       "      <td>1.692260</td>\n",
       "      <td>0.536006</td>\n",
       "      <td>0.350175</td>\n",
       "      <td>-0.958510</td>\n",
       "      <td>0.959086</td>\n",
       "    </tr>\n",
       "    <tr>\n",
       "      <th>D</th>\n",
       "      <td>-1.589441</td>\n",
       "      <td>-0.299998</td>\n",
       "      <td>0.030416</td>\n",
       "      <td>0.185950</td>\n",
       "      <td>0.050617</td>\n",
       "      <td>-0.816187</td>\n",
       "    </tr>\n",
       "  </tbody>\n",
       "</table>\n",
       "</div>"
      ],
      "text/plain": [
       "   2013-01-01  2013-01-02  2013-01-03  2013-01-04  2013-01-05  2013-01-06\n",
       "A    0.122424    0.290338    0.075210   -1.656962   -0.643251    0.395760\n",
       "B    0.080427    0.503073   -0.634366    0.923681    0.302231   -0.202792\n",
       "C    0.310331    1.692260    0.536006    0.350175   -0.958510    0.959086\n",
       "D   -1.589441   -0.299998    0.030416    0.185950    0.050617   -0.816187"
      ]
     },
     "execution_count": 9,
     "metadata": {},
     "output_type": "execute_result"
    }
   ],
   "source": [
    "df.T"
   ]
  },
  {
   "cell_type": "code",
   "execution_count": 10,
   "metadata": {
    "collapsed": false,
    "deletable": true,
    "editable": true
   },
   "outputs": [
    {
     "data": {
      "text/html": [
       "<div>\n",
       "<table border=\"1\" class=\"dataframe\">\n",
       "  <thead>\n",
       "    <tr style=\"text-align: right;\">\n",
       "      <th></th>\n",
       "      <th>D</th>\n",
       "      <th>C</th>\n",
       "      <th>B</th>\n",
       "      <th>A</th>\n",
       "    </tr>\n",
       "  </thead>\n",
       "  <tbody>\n",
       "    <tr>\n",
       "      <th>2013-01-01</th>\n",
       "      <td>-1.589441</td>\n",
       "      <td>0.310331</td>\n",
       "      <td>0.080427</td>\n",
       "      <td>0.122424</td>\n",
       "    </tr>\n",
       "    <tr>\n",
       "      <th>2013-01-02</th>\n",
       "      <td>-0.299998</td>\n",
       "      <td>1.692260</td>\n",
       "      <td>0.503073</td>\n",
       "      <td>0.290338</td>\n",
       "    </tr>\n",
       "    <tr>\n",
       "      <th>2013-01-03</th>\n",
       "      <td>0.030416</td>\n",
       "      <td>0.536006</td>\n",
       "      <td>-0.634366</td>\n",
       "      <td>0.075210</td>\n",
       "    </tr>\n",
       "    <tr>\n",
       "      <th>2013-01-04</th>\n",
       "      <td>0.185950</td>\n",
       "      <td>0.350175</td>\n",
       "      <td>0.923681</td>\n",
       "      <td>-1.656962</td>\n",
       "    </tr>\n",
       "    <tr>\n",
       "      <th>2013-01-05</th>\n",
       "      <td>0.050617</td>\n",
       "      <td>-0.958510</td>\n",
       "      <td>0.302231</td>\n",
       "      <td>-0.643251</td>\n",
       "    </tr>\n",
       "    <tr>\n",
       "      <th>2013-01-06</th>\n",
       "      <td>-0.816187</td>\n",
       "      <td>0.959086</td>\n",
       "      <td>-0.202792</td>\n",
       "      <td>0.395760</td>\n",
       "    </tr>\n",
       "  </tbody>\n",
       "</table>\n",
       "</div>"
      ],
      "text/plain": [
       "                   D         C         B         A\n",
       "2013-01-01 -1.589441  0.310331  0.080427  0.122424\n",
       "2013-01-02 -0.299998  1.692260  0.503073  0.290338\n",
       "2013-01-03  0.030416  0.536006 -0.634366  0.075210\n",
       "2013-01-04  0.185950  0.350175  0.923681 -1.656962\n",
       "2013-01-05  0.050617 -0.958510  0.302231 -0.643251\n",
       "2013-01-06 -0.816187  0.959086 -0.202792  0.395760"
      ]
     },
     "execution_count": 10,
     "metadata": {},
     "output_type": "execute_result"
    }
   ],
   "source": [
    "df.sort_index(axis=1, ascending=False)"
   ]
  },
  {
   "cell_type": "code",
   "execution_count": 11,
   "metadata": {
    "collapsed": false,
    "deletable": true,
    "editable": true
   },
   "outputs": [
    {
     "data": {
      "text/html": [
       "<div>\n",
       "<table border=\"1\" class=\"dataframe\">\n",
       "  <thead>\n",
       "    <tr style=\"text-align: right;\">\n",
       "      <th></th>\n",
       "      <th>A</th>\n",
       "      <th>B</th>\n",
       "      <th>C</th>\n",
       "      <th>D</th>\n",
       "    </tr>\n",
       "  </thead>\n",
       "  <tbody>\n",
       "    <tr>\n",
       "      <th>2013-01-03</th>\n",
       "      <td>0.075210</td>\n",
       "      <td>-0.634366</td>\n",
       "      <td>0.536006</td>\n",
       "      <td>0.030416</td>\n",
       "    </tr>\n",
       "    <tr>\n",
       "      <th>2013-01-06</th>\n",
       "      <td>0.395760</td>\n",
       "      <td>-0.202792</td>\n",
       "      <td>0.959086</td>\n",
       "      <td>-0.816187</td>\n",
       "    </tr>\n",
       "    <tr>\n",
       "      <th>2013-01-01</th>\n",
       "      <td>0.122424</td>\n",
       "      <td>0.080427</td>\n",
       "      <td>0.310331</td>\n",
       "      <td>-1.589441</td>\n",
       "    </tr>\n",
       "    <tr>\n",
       "      <th>2013-01-05</th>\n",
       "      <td>-0.643251</td>\n",
       "      <td>0.302231</td>\n",
       "      <td>-0.958510</td>\n",
       "      <td>0.050617</td>\n",
       "    </tr>\n",
       "    <tr>\n",
       "      <th>2013-01-02</th>\n",
       "      <td>0.290338</td>\n",
       "      <td>0.503073</td>\n",
       "      <td>1.692260</td>\n",
       "      <td>-0.299998</td>\n",
       "    </tr>\n",
       "    <tr>\n",
       "      <th>2013-01-04</th>\n",
       "      <td>-1.656962</td>\n",
       "      <td>0.923681</td>\n",
       "      <td>0.350175</td>\n",
       "      <td>0.185950</td>\n",
       "    </tr>\n",
       "  </tbody>\n",
       "</table>\n",
       "</div>"
      ],
      "text/plain": [
       "                   A         B         C         D\n",
       "2013-01-03  0.075210 -0.634366  0.536006  0.030416\n",
       "2013-01-06  0.395760 -0.202792  0.959086 -0.816187\n",
       "2013-01-01  0.122424  0.080427  0.310331 -1.589441\n",
       "2013-01-05 -0.643251  0.302231 -0.958510  0.050617\n",
       "2013-01-02  0.290338  0.503073  1.692260 -0.299998\n",
       "2013-01-04 -1.656962  0.923681  0.350175  0.185950"
      ]
     },
     "execution_count": 11,
     "metadata": {},
     "output_type": "execute_result"
    }
   ],
   "source": [
    "df.sort_values(by='B')"
   ]
  },
  {
   "cell_type": "markdown",
   "metadata": {
    "deletable": true,
    "editable": true
   },
   "source": [
    "### 1.1.3 선택\n",
    "#### 1.1.3.1 List 표현"
   ]
  },
  {
   "cell_type": "code",
   "execution_count": 12,
   "metadata": {
    "collapsed": false,
    "deletable": true,
    "editable": true
   },
   "outputs": [
    {
     "data": {
      "text/plain": [
       "2013-01-01    0.122424\n",
       "2013-01-02    0.290338\n",
       "2013-01-03    0.075210\n",
       "2013-01-04   -1.656962\n",
       "2013-01-05   -0.643251\n",
       "2013-01-06    0.395760\n",
       "Freq: D, Name: A, dtype: float64"
      ]
     },
     "execution_count": 12,
     "metadata": {},
     "output_type": "execute_result"
    }
   ],
   "source": [
    "df['A']"
   ]
  },
  {
   "cell_type": "code",
   "execution_count": 13,
   "metadata": {
    "collapsed": false,
    "deletable": true,
    "editable": true
   },
   "outputs": [
    {
     "data": {
      "text/html": [
       "<div>\n",
       "<table border=\"1\" class=\"dataframe\">\n",
       "  <thead>\n",
       "    <tr style=\"text-align: right;\">\n",
       "      <th></th>\n",
       "      <th>A</th>\n",
       "      <th>B</th>\n",
       "      <th>C</th>\n",
       "      <th>D</th>\n",
       "    </tr>\n",
       "  </thead>\n",
       "  <tbody>\n",
       "    <tr>\n",
       "      <th>2013-01-01</th>\n",
       "      <td>0.122424</td>\n",
       "      <td>0.080427</td>\n",
       "      <td>0.310331</td>\n",
       "      <td>-1.589441</td>\n",
       "    </tr>\n",
       "    <tr>\n",
       "      <th>2013-01-02</th>\n",
       "      <td>0.290338</td>\n",
       "      <td>0.503073</td>\n",
       "      <td>1.692260</td>\n",
       "      <td>-0.299998</td>\n",
       "    </tr>\n",
       "    <tr>\n",
       "      <th>2013-01-03</th>\n",
       "      <td>0.075210</td>\n",
       "      <td>-0.634366</td>\n",
       "      <td>0.536006</td>\n",
       "      <td>0.030416</td>\n",
       "    </tr>\n",
       "  </tbody>\n",
       "</table>\n",
       "</div>"
      ],
      "text/plain": [
       "                   A         B         C         D\n",
       "2013-01-01  0.122424  0.080427  0.310331 -1.589441\n",
       "2013-01-02  0.290338  0.503073  1.692260 -0.299998\n",
       "2013-01-03  0.075210 -0.634366  0.536006  0.030416"
      ]
     },
     "execution_count": 13,
     "metadata": {},
     "output_type": "execute_result"
    }
   ],
   "source": [
    "df[0:3]"
   ]
  },
  {
   "cell_type": "code",
   "execution_count": 14,
   "metadata": {
    "collapsed": false,
    "deletable": true,
    "editable": true
   },
   "outputs": [
    {
     "data": {
      "text/html": [
       "<div>\n",
       "<table border=\"1\" class=\"dataframe\">\n",
       "  <thead>\n",
       "    <tr style=\"text-align: right;\">\n",
       "      <th></th>\n",
       "      <th>A</th>\n",
       "      <th>B</th>\n",
       "      <th>C</th>\n",
       "      <th>D</th>\n",
       "    </tr>\n",
       "  </thead>\n",
       "  <tbody>\n",
       "    <tr>\n",
       "      <th>2013-01-02</th>\n",
       "      <td>0.290338</td>\n",
       "      <td>0.503073</td>\n",
       "      <td>1.692260</td>\n",
       "      <td>-0.299998</td>\n",
       "    </tr>\n",
       "    <tr>\n",
       "      <th>2013-01-03</th>\n",
       "      <td>0.075210</td>\n",
       "      <td>-0.634366</td>\n",
       "      <td>0.536006</td>\n",
       "      <td>0.030416</td>\n",
       "    </tr>\n",
       "  </tbody>\n",
       "</table>\n",
       "</div>"
      ],
      "text/plain": [
       "                   A         B         C         D\n",
       "2013-01-02  0.290338  0.503073  1.692260 -0.299998\n",
       "2013-01-03  0.075210 -0.634366  0.536006  0.030416"
      ]
     },
     "execution_count": 14,
     "metadata": {},
     "output_type": "execute_result"
    }
   ],
   "source": [
    "df['2013-01-02':'2013-01-03']"
   ]
  },
  {
   "cell_type": "markdown",
   "metadata": {
    "deletable": true,
    "editable": true
   },
   "source": [
    "#### 1.1.3.2 Label 을 이용한 표현"
   ]
  },
  {
   "cell_type": "code",
   "execution_count": 15,
   "metadata": {
    "collapsed": false,
    "deletable": true,
    "editable": true
   },
   "outputs": [
    {
     "data": {
      "text/plain": [
       "A    0.122424\n",
       "B    0.080427\n",
       "C    0.310331\n",
       "D   -1.589441\n",
       "Name: 2013-01-01 00:00:00, dtype: float64"
      ]
     },
     "execution_count": 15,
     "metadata": {},
     "output_type": "execute_result"
    }
   ],
   "source": [
    "df.loc[dates[0]]"
   ]
  },
  {
   "cell_type": "code",
   "execution_count": 16,
   "metadata": {
    "collapsed": false,
    "deletable": true,
    "editable": true
   },
   "outputs": [
    {
     "data": {
      "text/plain": [
       "A    0.290338\n",
       "B    0.503073\n",
       "C    1.692260\n",
       "D   -0.299998\n",
       "Name: 2013-01-02 00:00:00, dtype: float64"
      ]
     },
     "execution_count": 16,
     "metadata": {},
     "output_type": "execute_result"
    }
   ],
   "source": [
    "df.loc['2013-01-02']"
   ]
  },
  {
   "cell_type": "code",
   "execution_count": 17,
   "metadata": {
    "collapsed": false,
    "deletable": true,
    "editable": true
   },
   "outputs": [
    {
     "data": {
      "text/html": [
       "<div>\n",
       "<table border=\"1\" class=\"dataframe\">\n",
       "  <thead>\n",
       "    <tr style=\"text-align: right;\">\n",
       "      <th></th>\n",
       "      <th>A</th>\n",
       "      <th>B</th>\n",
       "    </tr>\n",
       "  </thead>\n",
       "  <tbody>\n",
       "    <tr>\n",
       "      <th>2013-01-01</th>\n",
       "      <td>0.122424</td>\n",
       "      <td>0.080427</td>\n",
       "    </tr>\n",
       "    <tr>\n",
       "      <th>2013-01-02</th>\n",
       "      <td>0.290338</td>\n",
       "      <td>0.503073</td>\n",
       "    </tr>\n",
       "    <tr>\n",
       "      <th>2013-01-03</th>\n",
       "      <td>0.075210</td>\n",
       "      <td>-0.634366</td>\n",
       "    </tr>\n",
       "    <tr>\n",
       "      <th>2013-01-04</th>\n",
       "      <td>-1.656962</td>\n",
       "      <td>0.923681</td>\n",
       "    </tr>\n",
       "    <tr>\n",
       "      <th>2013-01-05</th>\n",
       "      <td>-0.643251</td>\n",
       "      <td>0.302231</td>\n",
       "    </tr>\n",
       "    <tr>\n",
       "      <th>2013-01-06</th>\n",
       "      <td>0.395760</td>\n",
       "      <td>-0.202792</td>\n",
       "    </tr>\n",
       "  </tbody>\n",
       "</table>\n",
       "</div>"
      ],
      "text/plain": [
       "                   A         B\n",
       "2013-01-01  0.122424  0.080427\n",
       "2013-01-02  0.290338  0.503073\n",
       "2013-01-03  0.075210 -0.634366\n",
       "2013-01-04 -1.656962  0.923681\n",
       "2013-01-05 -0.643251  0.302231\n",
       "2013-01-06  0.395760 -0.202792"
      ]
     },
     "execution_count": 17,
     "metadata": {},
     "output_type": "execute_result"
    }
   ],
   "source": [
    "df.loc[:,['A', 'B']]"
   ]
  },
  {
   "cell_type": "code",
   "execution_count": 18,
   "metadata": {
    "collapsed": false,
    "deletable": true,
    "editable": true
   },
   "outputs": [
    {
     "data": {
      "text/html": [
       "<div>\n",
       "<table border=\"1\" class=\"dataframe\">\n",
       "  <thead>\n",
       "    <tr style=\"text-align: right;\">\n",
       "      <th></th>\n",
       "      <th>A</th>\n",
       "      <th>B</th>\n",
       "    </tr>\n",
       "  </thead>\n",
       "  <tbody>\n",
       "    <tr>\n",
       "      <th>2013-01-02</th>\n",
       "      <td>0.290338</td>\n",
       "      <td>0.503073</td>\n",
       "    </tr>\n",
       "    <tr>\n",
       "      <th>2013-01-03</th>\n",
       "      <td>0.075210</td>\n",
       "      <td>-0.634366</td>\n",
       "    </tr>\n",
       "    <tr>\n",
       "      <th>2013-01-04</th>\n",
       "      <td>-1.656962</td>\n",
       "      <td>0.923681</td>\n",
       "    </tr>\n",
       "  </tbody>\n",
       "</table>\n",
       "</div>"
      ],
      "text/plain": [
       "                   A         B\n",
       "2013-01-02  0.290338  0.503073\n",
       "2013-01-03  0.075210 -0.634366\n",
       "2013-01-04 -1.656962  0.923681"
      ]
     },
     "execution_count": 18,
     "metadata": {},
     "output_type": "execute_result"
    }
   ],
   "source": [
    "df.loc['20130102':'20130104',['A','B']]"
   ]
  },
  {
   "cell_type": "code",
   "execution_count": 19,
   "metadata": {
    "collapsed": false,
    "deletable": true,
    "editable": true,
    "scrolled": false
   },
   "outputs": [
    {
     "data": {
      "text/plain": [
       "A    0.290338\n",
       "B    0.503073\n",
       "Name: 2013-01-02 00:00:00, dtype: float64"
      ]
     },
     "execution_count": 19,
     "metadata": {},
     "output_type": "execute_result"
    }
   ],
   "source": [
    "df.loc['20130102',['A','B']]"
   ]
  },
  {
   "cell_type": "code",
   "execution_count": 20,
   "metadata": {
    "collapsed": false,
    "deletable": true,
    "editable": true,
    "scrolled": true
   },
   "outputs": [
    {
     "data": {
      "text/plain": [
       "0.12242404262367031"
      ]
     },
     "execution_count": 20,
     "metadata": {},
     "output_type": "execute_result"
    }
   ],
   "source": [
    "df.loc[dates[0],'A']"
   ]
  },
  {
   "cell_type": "markdown",
   "metadata": {
    "deletable": true,
    "editable": true
   },
   "source": [
    "아래가 좀더 빠르다"
   ]
  },
  {
   "cell_type": "code",
   "execution_count": 21,
   "metadata": {
    "collapsed": false,
    "deletable": true,
    "editable": true
   },
   "outputs": [
    {
     "data": {
      "text/plain": [
       "0.12242404262367031"
      ]
     },
     "execution_count": 21,
     "metadata": {},
     "output_type": "execute_result"
    }
   ],
   "source": [
    "df.at[dates[0],'A']"
   ]
  },
  {
   "cell_type": "markdown",
   "metadata": {
    "deletable": true,
    "editable": true
   },
   "source": [
    "#### 1.1.3.3 위치를 이용한 표현"
   ]
  },
  {
   "cell_type": "code",
   "execution_count": 22,
   "metadata": {
    "collapsed": false,
    "deletable": true,
    "editable": true
   },
   "outputs": [
    {
     "data": {
      "text/plain": [
       "A   -1.656962\n",
       "B    0.923681\n",
       "C    0.350175\n",
       "D    0.185950\n",
       "Name: 2013-01-04 00:00:00, dtype: float64"
      ]
     },
     "execution_count": 22,
     "metadata": {},
     "output_type": "execute_result"
    }
   ],
   "source": [
    "df.iloc[3]"
   ]
  },
  {
   "cell_type": "code",
   "execution_count": 23,
   "metadata": {
    "collapsed": false,
    "deletable": true,
    "editable": true
   },
   "outputs": [
    {
     "data": {
      "text/html": [
       "<div>\n",
       "<table border=\"1\" class=\"dataframe\">\n",
       "  <thead>\n",
       "    <tr style=\"text-align: right;\">\n",
       "      <th></th>\n",
       "      <th>A</th>\n",
       "      <th>B</th>\n",
       "    </tr>\n",
       "  </thead>\n",
       "  <tbody>\n",
       "    <tr>\n",
       "      <th>2013-01-04</th>\n",
       "      <td>-1.656962</td>\n",
       "      <td>0.923681</td>\n",
       "    </tr>\n",
       "    <tr>\n",
       "      <th>2013-01-05</th>\n",
       "      <td>-0.643251</td>\n",
       "      <td>0.302231</td>\n",
       "    </tr>\n",
       "  </tbody>\n",
       "</table>\n",
       "</div>"
      ],
      "text/plain": [
       "                   A         B\n",
       "2013-01-04 -1.656962  0.923681\n",
       "2013-01-05 -0.643251  0.302231"
      ]
     },
     "execution_count": 23,
     "metadata": {},
     "output_type": "execute_result"
    }
   ],
   "source": [
    "df.iloc[3:5,0:2]"
   ]
  },
  {
   "cell_type": "code",
   "execution_count": 24,
   "metadata": {
    "collapsed": false,
    "deletable": true,
    "editable": true
   },
   "outputs": [
    {
     "data": {
      "text/html": [
       "<div>\n",
       "<table border=\"1\" class=\"dataframe\">\n",
       "  <thead>\n",
       "    <tr style=\"text-align: right;\">\n",
       "      <th></th>\n",
       "      <th>A</th>\n",
       "      <th>C</th>\n",
       "    </tr>\n",
       "  </thead>\n",
       "  <tbody>\n",
       "    <tr>\n",
       "      <th>2013-01-02</th>\n",
       "      <td>0.290338</td>\n",
       "      <td>1.692260</td>\n",
       "    </tr>\n",
       "    <tr>\n",
       "      <th>2013-01-03</th>\n",
       "      <td>0.075210</td>\n",
       "      <td>0.536006</td>\n",
       "    </tr>\n",
       "    <tr>\n",
       "      <th>2013-01-05</th>\n",
       "      <td>-0.643251</td>\n",
       "      <td>-0.958510</td>\n",
       "    </tr>\n",
       "  </tbody>\n",
       "</table>\n",
       "</div>"
      ],
      "text/plain": [
       "                   A         C\n",
       "2013-01-02  0.290338  1.692260\n",
       "2013-01-03  0.075210  0.536006\n",
       "2013-01-05 -0.643251 -0.958510"
      ]
     },
     "execution_count": 24,
     "metadata": {},
     "output_type": "execute_result"
    }
   ],
   "source": [
    "df.iloc[[1,2,4],[0,2]]"
   ]
  },
  {
   "cell_type": "code",
   "execution_count": 25,
   "metadata": {
    "collapsed": false,
    "deletable": true,
    "editable": true
   },
   "outputs": [
    {
     "data": {
      "text/html": [
       "<div>\n",
       "<table border=\"1\" class=\"dataframe\">\n",
       "  <thead>\n",
       "    <tr style=\"text-align: right;\">\n",
       "      <th></th>\n",
       "      <th>A</th>\n",
       "      <th>B</th>\n",
       "      <th>C</th>\n",
       "      <th>D</th>\n",
       "    </tr>\n",
       "  </thead>\n",
       "  <tbody>\n",
       "    <tr>\n",
       "      <th>2013-01-02</th>\n",
       "      <td>0.290338</td>\n",
       "      <td>0.503073</td>\n",
       "      <td>1.692260</td>\n",
       "      <td>-0.299998</td>\n",
       "    </tr>\n",
       "    <tr>\n",
       "      <th>2013-01-03</th>\n",
       "      <td>0.075210</td>\n",
       "      <td>-0.634366</td>\n",
       "      <td>0.536006</td>\n",
       "      <td>0.030416</td>\n",
       "    </tr>\n",
       "  </tbody>\n",
       "</table>\n",
       "</div>"
      ],
      "text/plain": [
       "                   A         B         C         D\n",
       "2013-01-02  0.290338  0.503073  1.692260 -0.299998\n",
       "2013-01-03  0.075210 -0.634366  0.536006  0.030416"
      ]
     },
     "execution_count": 25,
     "metadata": {},
     "output_type": "execute_result"
    }
   ],
   "source": [
    "df.iloc[1:3,:]"
   ]
  },
  {
   "cell_type": "code",
   "execution_count": 26,
   "metadata": {
    "collapsed": false,
    "deletable": true,
    "editable": true
   },
   "outputs": [
    {
     "data": {
      "text/html": [
       "<div>\n",
       "<table border=\"1\" class=\"dataframe\">\n",
       "  <thead>\n",
       "    <tr style=\"text-align: right;\">\n",
       "      <th></th>\n",
       "      <th>B</th>\n",
       "      <th>C</th>\n",
       "    </tr>\n",
       "  </thead>\n",
       "  <tbody>\n",
       "    <tr>\n",
       "      <th>2013-01-01</th>\n",
       "      <td>0.080427</td>\n",
       "      <td>0.310331</td>\n",
       "    </tr>\n",
       "    <tr>\n",
       "      <th>2013-01-02</th>\n",
       "      <td>0.503073</td>\n",
       "      <td>1.692260</td>\n",
       "    </tr>\n",
       "    <tr>\n",
       "      <th>2013-01-03</th>\n",
       "      <td>-0.634366</td>\n",
       "      <td>0.536006</td>\n",
       "    </tr>\n",
       "    <tr>\n",
       "      <th>2013-01-04</th>\n",
       "      <td>0.923681</td>\n",
       "      <td>0.350175</td>\n",
       "    </tr>\n",
       "    <tr>\n",
       "      <th>2013-01-05</th>\n",
       "      <td>0.302231</td>\n",
       "      <td>-0.958510</td>\n",
       "    </tr>\n",
       "    <tr>\n",
       "      <th>2013-01-06</th>\n",
       "      <td>-0.202792</td>\n",
       "      <td>0.959086</td>\n",
       "    </tr>\n",
       "  </tbody>\n",
       "</table>\n",
       "</div>"
      ],
      "text/plain": [
       "                   B         C\n",
       "2013-01-01  0.080427  0.310331\n",
       "2013-01-02  0.503073  1.692260\n",
       "2013-01-03 -0.634366  0.536006\n",
       "2013-01-04  0.923681  0.350175\n",
       "2013-01-05  0.302231 -0.958510\n",
       "2013-01-06 -0.202792  0.959086"
      ]
     },
     "execution_count": 26,
     "metadata": {},
     "output_type": "execute_result"
    }
   ],
   "source": [
    " df.iloc[:,1:3]"
   ]
  },
  {
   "cell_type": "code",
   "execution_count": 27,
   "metadata": {
    "collapsed": false,
    "deletable": true,
    "editable": true
   },
   "outputs": [
    {
     "data": {
      "text/plain": [
       "0.50307349884044883"
      ]
     },
     "execution_count": 27,
     "metadata": {},
     "output_type": "execute_result"
    }
   ],
   "source": [
    "df.iloc[1,1]"
   ]
  },
  {
   "cell_type": "markdown",
   "metadata": {
    "deletable": true,
    "editable": true
   },
   "source": [
    "아래가 더 빠르다"
   ]
  },
  {
   "cell_type": "code",
   "execution_count": 28,
   "metadata": {
    "collapsed": false,
    "deletable": true,
    "editable": true
   },
   "outputs": [
    {
     "data": {
      "text/plain": [
       "0.50307349884044883"
      ]
     },
     "execution_count": 28,
     "metadata": {},
     "output_type": "execute_result"
    }
   ],
   "source": [
    "df.iat[1,1]"
   ]
  },
  {
   "cell_type": "markdown",
   "metadata": {
    "deletable": true,
    "editable": true
   },
   "source": [
    "#### 1.1.3.4 조건식을 이용"
   ]
  },
  {
   "cell_type": "code",
   "execution_count": 29,
   "metadata": {
    "collapsed": false,
    "deletable": true,
    "editable": true
   },
   "outputs": [
    {
     "data": {
      "text/html": [
       "<div>\n",
       "<table border=\"1\" class=\"dataframe\">\n",
       "  <thead>\n",
       "    <tr style=\"text-align: right;\">\n",
       "      <th></th>\n",
       "      <th>A</th>\n",
       "      <th>B</th>\n",
       "      <th>C</th>\n",
       "      <th>D</th>\n",
       "    </tr>\n",
       "  </thead>\n",
       "  <tbody>\n",
       "    <tr>\n",
       "      <th>2013-01-01</th>\n",
       "      <td>0.122424</td>\n",
       "      <td>0.080427</td>\n",
       "      <td>0.310331</td>\n",
       "      <td>-1.589441</td>\n",
       "    </tr>\n",
       "    <tr>\n",
       "      <th>2013-01-02</th>\n",
       "      <td>0.290338</td>\n",
       "      <td>0.503073</td>\n",
       "      <td>1.692260</td>\n",
       "      <td>-0.299998</td>\n",
       "    </tr>\n",
       "    <tr>\n",
       "      <th>2013-01-03</th>\n",
       "      <td>0.075210</td>\n",
       "      <td>-0.634366</td>\n",
       "      <td>0.536006</td>\n",
       "      <td>0.030416</td>\n",
       "    </tr>\n",
       "    <tr>\n",
       "      <th>2013-01-06</th>\n",
       "      <td>0.395760</td>\n",
       "      <td>-0.202792</td>\n",
       "      <td>0.959086</td>\n",
       "      <td>-0.816187</td>\n",
       "    </tr>\n",
       "  </tbody>\n",
       "</table>\n",
       "</div>"
      ],
      "text/plain": [
       "                   A         B         C         D\n",
       "2013-01-01  0.122424  0.080427  0.310331 -1.589441\n",
       "2013-01-02  0.290338  0.503073  1.692260 -0.299998\n",
       "2013-01-03  0.075210 -0.634366  0.536006  0.030416\n",
       "2013-01-06  0.395760 -0.202792  0.959086 -0.816187"
      ]
     },
     "execution_count": 29,
     "metadata": {},
     "output_type": "execute_result"
    }
   ],
   "source": [
    "df[df.A>0]"
   ]
  },
  {
   "cell_type": "code",
   "execution_count": 30,
   "metadata": {
    "collapsed": false,
    "deletable": true,
    "editable": true
   },
   "outputs": [
    {
     "data": {
      "text/html": [
       "<div>\n",
       "<table border=\"1\" class=\"dataframe\">\n",
       "  <thead>\n",
       "    <tr style=\"text-align: right;\">\n",
       "      <th></th>\n",
       "      <th>A</th>\n",
       "      <th>B</th>\n",
       "      <th>C</th>\n",
       "      <th>D</th>\n",
       "    </tr>\n",
       "  </thead>\n",
       "  <tbody>\n",
       "    <tr>\n",
       "      <th>2013-01-01</th>\n",
       "      <td>0.122424</td>\n",
       "      <td>0.080427</td>\n",
       "      <td>0.310331</td>\n",
       "      <td>NaN</td>\n",
       "    </tr>\n",
       "    <tr>\n",
       "      <th>2013-01-02</th>\n",
       "      <td>0.290338</td>\n",
       "      <td>0.503073</td>\n",
       "      <td>1.692260</td>\n",
       "      <td>NaN</td>\n",
       "    </tr>\n",
       "    <tr>\n",
       "      <th>2013-01-03</th>\n",
       "      <td>0.075210</td>\n",
       "      <td>NaN</td>\n",
       "      <td>0.536006</td>\n",
       "      <td>0.030416</td>\n",
       "    </tr>\n",
       "    <tr>\n",
       "      <th>2013-01-04</th>\n",
       "      <td>NaN</td>\n",
       "      <td>0.923681</td>\n",
       "      <td>0.350175</td>\n",
       "      <td>0.185950</td>\n",
       "    </tr>\n",
       "    <tr>\n",
       "      <th>2013-01-05</th>\n",
       "      <td>NaN</td>\n",
       "      <td>0.302231</td>\n",
       "      <td>NaN</td>\n",
       "      <td>0.050617</td>\n",
       "    </tr>\n",
       "    <tr>\n",
       "      <th>2013-01-06</th>\n",
       "      <td>0.395760</td>\n",
       "      <td>NaN</td>\n",
       "      <td>0.959086</td>\n",
       "      <td>NaN</td>\n",
       "    </tr>\n",
       "  </tbody>\n",
       "</table>\n",
       "</div>"
      ],
      "text/plain": [
       "                   A         B         C         D\n",
       "2013-01-01  0.122424  0.080427  0.310331       NaN\n",
       "2013-01-02  0.290338  0.503073  1.692260       NaN\n",
       "2013-01-03  0.075210       NaN  0.536006  0.030416\n",
       "2013-01-04       NaN  0.923681  0.350175  0.185950\n",
       "2013-01-05       NaN  0.302231       NaN  0.050617\n",
       "2013-01-06  0.395760       NaN  0.959086       NaN"
      ]
     },
     "execution_count": 30,
     "metadata": {},
     "output_type": "execute_result"
    }
   ],
   "source": [
    "df[df>0]"
   ]
  },
  {
   "cell_type": "code",
   "execution_count": 31,
   "metadata": {
    "collapsed": true,
    "deletable": true,
    "editable": true
   },
   "outputs": [],
   "source": [
    "df2 = df.copy()\n",
    "df2['E'] = ['one', 'one','two','three','four','three']"
   ]
  },
  {
   "cell_type": "code",
   "execution_count": 32,
   "metadata": {
    "collapsed": false,
    "deletable": true,
    "editable": true
   },
   "outputs": [
    {
     "data": {
      "text/html": [
       "<div>\n",
       "<table border=\"1\" class=\"dataframe\">\n",
       "  <thead>\n",
       "    <tr style=\"text-align: right;\">\n",
       "      <th></th>\n",
       "      <th>A</th>\n",
       "      <th>B</th>\n",
       "      <th>C</th>\n",
       "      <th>D</th>\n",
       "      <th>E</th>\n",
       "    </tr>\n",
       "  </thead>\n",
       "  <tbody>\n",
       "    <tr>\n",
       "      <th>2013-01-01</th>\n",
       "      <td>0.122424</td>\n",
       "      <td>0.080427</td>\n",
       "      <td>0.310331</td>\n",
       "      <td>-1.589441</td>\n",
       "      <td>one</td>\n",
       "    </tr>\n",
       "    <tr>\n",
       "      <th>2013-01-02</th>\n",
       "      <td>0.290338</td>\n",
       "      <td>0.503073</td>\n",
       "      <td>1.692260</td>\n",
       "      <td>-0.299998</td>\n",
       "      <td>one</td>\n",
       "    </tr>\n",
       "    <tr>\n",
       "      <th>2013-01-03</th>\n",
       "      <td>0.075210</td>\n",
       "      <td>-0.634366</td>\n",
       "      <td>0.536006</td>\n",
       "      <td>0.030416</td>\n",
       "      <td>two</td>\n",
       "    </tr>\n",
       "    <tr>\n",
       "      <th>2013-01-04</th>\n",
       "      <td>-1.656962</td>\n",
       "      <td>0.923681</td>\n",
       "      <td>0.350175</td>\n",
       "      <td>0.185950</td>\n",
       "      <td>three</td>\n",
       "    </tr>\n",
       "    <tr>\n",
       "      <th>2013-01-05</th>\n",
       "      <td>-0.643251</td>\n",
       "      <td>0.302231</td>\n",
       "      <td>-0.958510</td>\n",
       "      <td>0.050617</td>\n",
       "      <td>four</td>\n",
       "    </tr>\n",
       "    <tr>\n",
       "      <th>2013-01-06</th>\n",
       "      <td>0.395760</td>\n",
       "      <td>-0.202792</td>\n",
       "      <td>0.959086</td>\n",
       "      <td>-0.816187</td>\n",
       "      <td>three</td>\n",
       "    </tr>\n",
       "  </tbody>\n",
       "</table>\n",
       "</div>"
      ],
      "text/plain": [
       "                   A         B         C         D      E\n",
       "2013-01-01  0.122424  0.080427  0.310331 -1.589441    one\n",
       "2013-01-02  0.290338  0.503073  1.692260 -0.299998    one\n",
       "2013-01-03  0.075210 -0.634366  0.536006  0.030416    two\n",
       "2013-01-04 -1.656962  0.923681  0.350175  0.185950  three\n",
       "2013-01-05 -0.643251  0.302231 -0.958510  0.050617   four\n",
       "2013-01-06  0.395760 -0.202792  0.959086 -0.816187  three"
      ]
     },
     "execution_count": 32,
     "metadata": {},
     "output_type": "execute_result"
    }
   ],
   "source": [
    "df2"
   ]
  },
  {
   "cell_type": "code",
   "execution_count": 33,
   "metadata": {
    "collapsed": false,
    "deletable": true,
    "editable": true
   },
   "outputs": [
    {
     "data": {
      "text/html": [
       "<div>\n",
       "<table border=\"1\" class=\"dataframe\">\n",
       "  <thead>\n",
       "    <tr style=\"text-align: right;\">\n",
       "      <th></th>\n",
       "      <th>A</th>\n",
       "      <th>B</th>\n",
       "      <th>C</th>\n",
       "      <th>D</th>\n",
       "      <th>E</th>\n",
       "    </tr>\n",
       "  </thead>\n",
       "  <tbody>\n",
       "    <tr>\n",
       "      <th>2013-01-03</th>\n",
       "      <td>0.075210</td>\n",
       "      <td>-0.634366</td>\n",
       "      <td>0.536006</td>\n",
       "      <td>0.030416</td>\n",
       "      <td>two</td>\n",
       "    </tr>\n",
       "    <tr>\n",
       "      <th>2013-01-05</th>\n",
       "      <td>-0.643251</td>\n",
       "      <td>0.302231</td>\n",
       "      <td>-0.958510</td>\n",
       "      <td>0.050617</td>\n",
       "      <td>four</td>\n",
       "    </tr>\n",
       "  </tbody>\n",
       "</table>\n",
       "</div>"
      ],
      "text/plain": [
       "                   A         B         C         D     E\n",
       "2013-01-03  0.075210 -0.634366  0.536006  0.030416   two\n",
       "2013-01-05 -0.643251  0.302231 -0.958510  0.050617  four"
      ]
     },
     "execution_count": 33,
     "metadata": {},
     "output_type": "execute_result"
    }
   ],
   "source": [
    "df2[df2['E'].isin(['two','four'])]"
   ]
  },
  {
   "cell_type": "markdown",
   "metadata": {
    "deletable": true,
    "editable": true
   },
   "source": [
    "#### 1.1.3.5 Setting"
   ]
  },
  {
   "cell_type": "code",
   "execution_count": 34,
   "metadata": {
    "collapsed": false,
    "deletable": true,
    "editable": true
   },
   "outputs": [],
   "source": [
    "s1 = pd.Series([1,2,3,4,5,6], index=pd.date_range('20130102', periods=6))"
   ]
  },
  {
   "cell_type": "code",
   "execution_count": 35,
   "metadata": {
    "collapsed": false,
    "deletable": true,
    "editable": true
   },
   "outputs": [
    {
     "data": {
      "text/plain": [
       "2013-01-02    1\n",
       "2013-01-03    2\n",
       "2013-01-04    3\n",
       "2013-01-05    4\n",
       "2013-01-06    5\n",
       "2013-01-07    6\n",
       "Freq: D, dtype: int64"
      ]
     },
     "execution_count": 35,
     "metadata": {},
     "output_type": "execute_result"
    }
   ],
   "source": [
    "s1"
   ]
  },
  {
   "cell_type": "code",
   "execution_count": 36,
   "metadata": {
    "collapsed": true,
    "deletable": true,
    "editable": true
   },
   "outputs": [],
   "source": [
    "df['F'] = s1"
   ]
  },
  {
   "cell_type": "code",
   "execution_count": 37,
   "metadata": {
    "collapsed": true,
    "deletable": true,
    "editable": true
   },
   "outputs": [],
   "source": [
    "df.at[dates[0], 'A'] = 0"
   ]
  },
  {
   "cell_type": "code",
   "execution_count": 38,
   "metadata": {
    "collapsed": false,
    "deletable": true,
    "editable": true
   },
   "outputs": [],
   "source": [
    "df.iat[0,1] = 0"
   ]
  },
  {
   "cell_type": "code",
   "execution_count": 39,
   "metadata": {
    "collapsed": true,
    "deletable": true,
    "editable": true
   },
   "outputs": [],
   "source": [
    "df.loc[:,'D'] = np.array([5]* len(df))"
   ]
  },
  {
   "cell_type": "code",
   "execution_count": 40,
   "metadata": {
    "collapsed": false,
    "deletable": true,
    "editable": true
   },
   "outputs": [
    {
     "data": {
      "text/html": [
       "<div>\n",
       "<table border=\"1\" class=\"dataframe\">\n",
       "  <thead>\n",
       "    <tr style=\"text-align: right;\">\n",
       "      <th></th>\n",
       "      <th>A</th>\n",
       "      <th>B</th>\n",
       "      <th>C</th>\n",
       "      <th>D</th>\n",
       "      <th>F</th>\n",
       "    </tr>\n",
       "  </thead>\n",
       "  <tbody>\n",
       "    <tr>\n",
       "      <th>2013-01-01</th>\n",
       "      <td>0.000000</td>\n",
       "      <td>0.000000</td>\n",
       "      <td>0.310331</td>\n",
       "      <td>5</td>\n",
       "      <td>NaN</td>\n",
       "    </tr>\n",
       "    <tr>\n",
       "      <th>2013-01-02</th>\n",
       "      <td>0.290338</td>\n",
       "      <td>0.503073</td>\n",
       "      <td>1.692260</td>\n",
       "      <td>5</td>\n",
       "      <td>1.0</td>\n",
       "    </tr>\n",
       "    <tr>\n",
       "      <th>2013-01-03</th>\n",
       "      <td>0.075210</td>\n",
       "      <td>-0.634366</td>\n",
       "      <td>0.536006</td>\n",
       "      <td>5</td>\n",
       "      <td>2.0</td>\n",
       "    </tr>\n",
       "    <tr>\n",
       "      <th>2013-01-04</th>\n",
       "      <td>-1.656962</td>\n",
       "      <td>0.923681</td>\n",
       "      <td>0.350175</td>\n",
       "      <td>5</td>\n",
       "      <td>3.0</td>\n",
       "    </tr>\n",
       "    <tr>\n",
       "      <th>2013-01-05</th>\n",
       "      <td>-0.643251</td>\n",
       "      <td>0.302231</td>\n",
       "      <td>-0.958510</td>\n",
       "      <td>5</td>\n",
       "      <td>4.0</td>\n",
       "    </tr>\n",
       "    <tr>\n",
       "      <th>2013-01-06</th>\n",
       "      <td>0.395760</td>\n",
       "      <td>-0.202792</td>\n",
       "      <td>0.959086</td>\n",
       "      <td>5</td>\n",
       "      <td>5.0</td>\n",
       "    </tr>\n",
       "  </tbody>\n",
       "</table>\n",
       "</div>"
      ],
      "text/plain": [
       "                   A         B         C  D    F\n",
       "2013-01-01  0.000000  0.000000  0.310331  5  NaN\n",
       "2013-01-02  0.290338  0.503073  1.692260  5  1.0\n",
       "2013-01-03  0.075210 -0.634366  0.536006  5  2.0\n",
       "2013-01-04 -1.656962  0.923681  0.350175  5  3.0\n",
       "2013-01-05 -0.643251  0.302231 -0.958510  5  4.0\n",
       "2013-01-06  0.395760 -0.202792  0.959086  5  5.0"
      ]
     },
     "execution_count": 40,
     "metadata": {},
     "output_type": "execute_result"
    }
   ],
   "source": [
    "df"
   ]
  },
  {
   "cell_type": "code",
   "execution_count": 41,
   "metadata": {
    "collapsed": true,
    "deletable": true,
    "editable": true
   },
   "outputs": [],
   "source": [
    "df2 = df.copy()\n",
    "df2[df2>0] = -df2"
   ]
  },
  {
   "cell_type": "code",
   "execution_count": 42,
   "metadata": {
    "collapsed": false,
    "deletable": true,
    "editable": true,
    "scrolled": true
   },
   "outputs": [
    {
     "data": {
      "text/html": [
       "<div>\n",
       "<table border=\"1\" class=\"dataframe\">\n",
       "  <thead>\n",
       "    <tr style=\"text-align: right;\">\n",
       "      <th></th>\n",
       "      <th>A</th>\n",
       "      <th>B</th>\n",
       "      <th>C</th>\n",
       "      <th>D</th>\n",
       "      <th>F</th>\n",
       "    </tr>\n",
       "  </thead>\n",
       "  <tbody>\n",
       "    <tr>\n",
       "      <th>2013-01-01</th>\n",
       "      <td>0.000000</td>\n",
       "      <td>0.000000</td>\n",
       "      <td>-0.310331</td>\n",
       "      <td>-5</td>\n",
       "      <td>NaN</td>\n",
       "    </tr>\n",
       "    <tr>\n",
       "      <th>2013-01-02</th>\n",
       "      <td>-0.290338</td>\n",
       "      <td>-0.503073</td>\n",
       "      <td>-1.692260</td>\n",
       "      <td>-5</td>\n",
       "      <td>-1.0</td>\n",
       "    </tr>\n",
       "    <tr>\n",
       "      <th>2013-01-03</th>\n",
       "      <td>-0.075210</td>\n",
       "      <td>-0.634366</td>\n",
       "      <td>-0.536006</td>\n",
       "      <td>-5</td>\n",
       "      <td>-2.0</td>\n",
       "    </tr>\n",
       "    <tr>\n",
       "      <th>2013-01-04</th>\n",
       "      <td>-1.656962</td>\n",
       "      <td>-0.923681</td>\n",
       "      <td>-0.350175</td>\n",
       "      <td>-5</td>\n",
       "      <td>-3.0</td>\n",
       "    </tr>\n",
       "    <tr>\n",
       "      <th>2013-01-05</th>\n",
       "      <td>-0.643251</td>\n",
       "      <td>-0.302231</td>\n",
       "      <td>-0.958510</td>\n",
       "      <td>-5</td>\n",
       "      <td>-4.0</td>\n",
       "    </tr>\n",
       "    <tr>\n",
       "      <th>2013-01-06</th>\n",
       "      <td>-0.395760</td>\n",
       "      <td>-0.202792</td>\n",
       "      <td>-0.959086</td>\n",
       "      <td>-5</td>\n",
       "      <td>-5.0</td>\n",
       "    </tr>\n",
       "  </tbody>\n",
       "</table>\n",
       "</div>"
      ],
      "text/plain": [
       "                   A         B         C  D    F\n",
       "2013-01-01  0.000000  0.000000 -0.310331 -5  NaN\n",
       "2013-01-02 -0.290338 -0.503073 -1.692260 -5 -1.0\n",
       "2013-01-03 -0.075210 -0.634366 -0.536006 -5 -2.0\n",
       "2013-01-04 -1.656962 -0.923681 -0.350175 -5 -3.0\n",
       "2013-01-05 -0.643251 -0.302231 -0.958510 -5 -4.0\n",
       "2013-01-06 -0.395760 -0.202792 -0.959086 -5 -5.0"
      ]
     },
     "execution_count": 42,
     "metadata": {},
     "output_type": "execute_result"
    }
   ],
   "source": [
    "df2"
   ]
  },
  {
   "cell_type": "markdown",
   "metadata": {
    "deletable": true,
    "editable": true
   },
   "source": [
    "### 1.1.4 누락 데이터"
   ]
  },
  {
   "cell_type": "code",
   "execution_count": 44,
   "metadata": {
    "collapsed": false
   },
   "outputs": [],
   "source": [
    "df1 = df.reindex(index=dates[0:4], columns=list(df.columns)+ ['E'])"
   ]
  },
  {
   "cell_type": "code",
   "execution_count": 45,
   "metadata": {
    "collapsed": false
   },
   "outputs": [
    {
     "data": {
      "text/html": [
       "<div>\n",
       "<table border=\"1\" class=\"dataframe\">\n",
       "  <thead>\n",
       "    <tr style=\"text-align: right;\">\n",
       "      <th></th>\n",
       "      <th>A</th>\n",
       "      <th>B</th>\n",
       "      <th>C</th>\n",
       "      <th>D</th>\n",
       "      <th>F</th>\n",
       "      <th>E</th>\n",
       "    </tr>\n",
       "  </thead>\n",
       "  <tbody>\n",
       "    <tr>\n",
       "      <th>2013-01-01</th>\n",
       "      <td>0.000000</td>\n",
       "      <td>0.000000</td>\n",
       "      <td>0.310331</td>\n",
       "      <td>5</td>\n",
       "      <td>NaN</td>\n",
       "      <td>NaN</td>\n",
       "    </tr>\n",
       "    <tr>\n",
       "      <th>2013-01-02</th>\n",
       "      <td>0.290338</td>\n",
       "      <td>0.503073</td>\n",
       "      <td>1.692260</td>\n",
       "      <td>5</td>\n",
       "      <td>1.0</td>\n",
       "      <td>NaN</td>\n",
       "    </tr>\n",
       "    <tr>\n",
       "      <th>2013-01-03</th>\n",
       "      <td>0.075210</td>\n",
       "      <td>-0.634366</td>\n",
       "      <td>0.536006</td>\n",
       "      <td>5</td>\n",
       "      <td>2.0</td>\n",
       "      <td>NaN</td>\n",
       "    </tr>\n",
       "    <tr>\n",
       "      <th>2013-01-04</th>\n",
       "      <td>-1.656962</td>\n",
       "      <td>0.923681</td>\n",
       "      <td>0.350175</td>\n",
       "      <td>5</td>\n",
       "      <td>3.0</td>\n",
       "      <td>NaN</td>\n",
       "    </tr>\n",
       "  </tbody>\n",
       "</table>\n",
       "</div>"
      ],
      "text/plain": [
       "                   A         B         C  D    F   E\n",
       "2013-01-01  0.000000  0.000000  0.310331  5  NaN NaN\n",
       "2013-01-02  0.290338  0.503073  1.692260  5  1.0 NaN\n",
       "2013-01-03  0.075210 -0.634366  0.536006  5  2.0 NaN\n",
       "2013-01-04 -1.656962  0.923681  0.350175  5  3.0 NaN"
      ]
     },
     "execution_count": 45,
     "metadata": {},
     "output_type": "execute_result"
    }
   ],
   "source": [
    "df1"
   ]
  },
  {
   "cell_type": "code",
   "execution_count": 50,
   "metadata": {
    "collapsed": true
   },
   "outputs": [],
   "source": [
    "df1.loc[dates[0]:dates[1], 'E'] = 1"
   ]
  },
  {
   "cell_type": "code",
   "execution_count": 51,
   "metadata": {
    "collapsed": false
   },
   "outputs": [
    {
     "data": {
      "text/html": [
       "<div>\n",
       "<table border=\"1\" class=\"dataframe\">\n",
       "  <thead>\n",
       "    <tr style=\"text-align: right;\">\n",
       "      <th></th>\n",
       "      <th>A</th>\n",
       "      <th>B</th>\n",
       "      <th>C</th>\n",
       "      <th>D</th>\n",
       "      <th>F</th>\n",
       "      <th>E</th>\n",
       "    </tr>\n",
       "  </thead>\n",
       "  <tbody>\n",
       "    <tr>\n",
       "      <th>2013-01-01</th>\n",
       "      <td>0.000000</td>\n",
       "      <td>0.000000</td>\n",
       "      <td>0.310331</td>\n",
       "      <td>5</td>\n",
       "      <td>NaN</td>\n",
       "      <td>1.0</td>\n",
       "    </tr>\n",
       "    <tr>\n",
       "      <th>2013-01-02</th>\n",
       "      <td>0.290338</td>\n",
       "      <td>0.503073</td>\n",
       "      <td>1.692260</td>\n",
       "      <td>5</td>\n",
       "      <td>1.0</td>\n",
       "      <td>1.0</td>\n",
       "    </tr>\n",
       "    <tr>\n",
       "      <th>2013-01-03</th>\n",
       "      <td>0.075210</td>\n",
       "      <td>-0.634366</td>\n",
       "      <td>0.536006</td>\n",
       "      <td>5</td>\n",
       "      <td>2.0</td>\n",
       "      <td>NaN</td>\n",
       "    </tr>\n",
       "    <tr>\n",
       "      <th>2013-01-04</th>\n",
       "      <td>-1.656962</td>\n",
       "      <td>0.923681</td>\n",
       "      <td>0.350175</td>\n",
       "      <td>5</td>\n",
       "      <td>3.0</td>\n",
       "      <td>NaN</td>\n",
       "    </tr>\n",
       "  </tbody>\n",
       "</table>\n",
       "</div>"
      ],
      "text/plain": [
       "                   A         B         C  D    F    E\n",
       "2013-01-01  0.000000  0.000000  0.310331  5  NaN  1.0\n",
       "2013-01-02  0.290338  0.503073  1.692260  5  1.0  1.0\n",
       "2013-01-03  0.075210 -0.634366  0.536006  5  2.0  NaN\n",
       "2013-01-04 -1.656962  0.923681  0.350175  5  3.0  NaN"
      ]
     },
     "execution_count": 51,
     "metadata": {},
     "output_type": "execute_result"
    }
   ],
   "source": [
    "df1"
   ]
  },
  {
   "cell_type": "code",
   "execution_count": 55,
   "metadata": {
    "collapsed": false
   },
   "outputs": [
    {
     "data": {
      "text/html": [
       "<div>\n",
       "<table border=\"1\" class=\"dataframe\">\n",
       "  <thead>\n",
       "    <tr style=\"text-align: right;\">\n",
       "      <th></th>\n",
       "      <th>A</th>\n",
       "      <th>B</th>\n",
       "      <th>C</th>\n",
       "      <th>D</th>\n",
       "      <th>F</th>\n",
       "      <th>E</th>\n",
       "    </tr>\n",
       "  </thead>\n",
       "  <tbody>\n",
       "    <tr>\n",
       "      <th>2013-01-02</th>\n",
       "      <td>0.290338</td>\n",
       "      <td>0.503073</td>\n",
       "      <td>1.69226</td>\n",
       "      <td>5</td>\n",
       "      <td>1.0</td>\n",
       "      <td>1.0</td>\n",
       "    </tr>\n",
       "  </tbody>\n",
       "</table>\n",
       "</div>"
      ],
      "text/plain": [
       "                   A         B        C  D    F    E\n",
       "2013-01-02  0.290338  0.503073  1.69226  5  1.0  1.0"
      ]
     },
     "execution_count": 55,
     "metadata": {},
     "output_type": "execute_result"
    }
   ],
   "source": [
    "# NaN 항목 지우기\n",
    "df1.dropna(how='any')"
   ]
  },
  {
   "cell_type": "code",
   "execution_count": 54,
   "metadata": {
    "collapsed": false
   },
   "outputs": [
    {
     "data": {
      "text/html": [
       "<div>\n",
       "<table border=\"1\" class=\"dataframe\">\n",
       "  <thead>\n",
       "    <tr style=\"text-align: right;\">\n",
       "      <th></th>\n",
       "      <th>A</th>\n",
       "      <th>B</th>\n",
       "      <th>C</th>\n",
       "      <th>D</th>\n",
       "      <th>F</th>\n",
       "      <th>E</th>\n",
       "    </tr>\n",
       "  </thead>\n",
       "  <tbody>\n",
       "    <tr>\n",
       "      <th>2013-01-01</th>\n",
       "      <td>0.000000</td>\n",
       "      <td>0.000000</td>\n",
       "      <td>0.310331</td>\n",
       "      <td>5</td>\n",
       "      <td>5.0</td>\n",
       "      <td>1.0</td>\n",
       "    </tr>\n",
       "    <tr>\n",
       "      <th>2013-01-02</th>\n",
       "      <td>0.290338</td>\n",
       "      <td>0.503073</td>\n",
       "      <td>1.692260</td>\n",
       "      <td>5</td>\n",
       "      <td>1.0</td>\n",
       "      <td>1.0</td>\n",
       "    </tr>\n",
       "    <tr>\n",
       "      <th>2013-01-03</th>\n",
       "      <td>0.075210</td>\n",
       "      <td>-0.634366</td>\n",
       "      <td>0.536006</td>\n",
       "      <td>5</td>\n",
       "      <td>2.0</td>\n",
       "      <td>5.0</td>\n",
       "    </tr>\n",
       "    <tr>\n",
       "      <th>2013-01-04</th>\n",
       "      <td>-1.656962</td>\n",
       "      <td>0.923681</td>\n",
       "      <td>0.350175</td>\n",
       "      <td>5</td>\n",
       "      <td>3.0</td>\n",
       "      <td>5.0</td>\n",
       "    </tr>\n",
       "  </tbody>\n",
       "</table>\n",
       "</div>"
      ],
      "text/plain": [
       "                   A         B         C  D    F    E\n",
       "2013-01-01  0.000000  0.000000  0.310331  5  5.0  1.0\n",
       "2013-01-02  0.290338  0.503073  1.692260  5  1.0  1.0\n",
       "2013-01-03  0.075210 -0.634366  0.536006  5  2.0  5.0\n",
       "2013-01-04 -1.656962  0.923681  0.350175  5  3.0  5.0"
      ]
     },
     "execution_count": 54,
     "metadata": {},
     "output_type": "execute_result"
    }
   ],
   "source": [
    "#채우기\n",
    "df1.fillna(value=5)"
   ]
  },
  {
   "cell_type": "code",
   "execution_count": 56,
   "metadata": {
    "collapsed": false
   },
   "outputs": [
    {
     "data": {
      "text/html": [
       "<div>\n",
       "<table border=\"1\" class=\"dataframe\">\n",
       "  <thead>\n",
       "    <tr style=\"text-align: right;\">\n",
       "      <th></th>\n",
       "      <th>A</th>\n",
       "      <th>B</th>\n",
       "      <th>C</th>\n",
       "      <th>D</th>\n",
       "      <th>F</th>\n",
       "      <th>E</th>\n",
       "    </tr>\n",
       "  </thead>\n",
       "  <tbody>\n",
       "    <tr>\n",
       "      <th>2013-01-01</th>\n",
       "      <td>False</td>\n",
       "      <td>False</td>\n",
       "      <td>False</td>\n",
       "      <td>False</td>\n",
       "      <td>True</td>\n",
       "      <td>False</td>\n",
       "    </tr>\n",
       "    <tr>\n",
       "      <th>2013-01-02</th>\n",
       "      <td>False</td>\n",
       "      <td>False</td>\n",
       "      <td>False</td>\n",
       "      <td>False</td>\n",
       "      <td>False</td>\n",
       "      <td>False</td>\n",
       "    </tr>\n",
       "    <tr>\n",
       "      <th>2013-01-03</th>\n",
       "      <td>False</td>\n",
       "      <td>False</td>\n",
       "      <td>False</td>\n",
       "      <td>False</td>\n",
       "      <td>False</td>\n",
       "      <td>True</td>\n",
       "    </tr>\n",
       "    <tr>\n",
       "      <th>2013-01-04</th>\n",
       "      <td>False</td>\n",
       "      <td>False</td>\n",
       "      <td>False</td>\n",
       "      <td>False</td>\n",
       "      <td>False</td>\n",
       "      <td>True</td>\n",
       "    </tr>\n",
       "  </tbody>\n",
       "</table>\n",
       "</div>"
      ],
      "text/plain": [
       "                A      B      C      D      F      E\n",
       "2013-01-01  False  False  False  False   True  False\n",
       "2013-01-02  False  False  False  False  False  False\n",
       "2013-01-03  False  False  False  False  False   True\n",
       "2013-01-04  False  False  False  False  False   True"
      ]
     },
     "execution_count": 56,
     "metadata": {},
     "output_type": "execute_result"
    }
   ],
   "source": [
    "pd.isnull(df1)"
   ]
  },
  {
   "cell_type": "markdown",
   "metadata": {},
   "source": [
    "### 1.1.5 연산자\n",
    "#### 1.1.5.1 통계"
   ]
  },
  {
   "cell_type": "code",
   "execution_count": 60,
   "metadata": {
    "collapsed": false
   },
   "outputs": [
    {
     "data": {
      "text/plain": [
       "A   -0.256484\n",
       "B    0.148638\n",
       "C    0.481558\n",
       "D    5.000000\n",
       "F    3.000000\n",
       "dtype: float64"
      ]
     },
     "execution_count": 60,
     "metadata": {},
     "output_type": "execute_result"
    }
   ],
   "source": [
    "#컬럼별 평균\n",
    "df.mean()"
   ]
  },
  {
   "cell_type": "code",
   "execution_count": 62,
   "metadata": {
    "collapsed": false
   },
   "outputs": [
    {
     "data": {
      "text/plain": [
       "2013-01-01    1.327583\n",
       "2013-01-02    1.697134\n",
       "2013-01-03    1.395370\n",
       "2013-01-04    1.523379\n",
       "2013-01-05    1.540094\n",
       "2013-01-06    2.230411\n",
       "Freq: D, dtype: float64"
      ]
     },
     "execution_count": 62,
     "metadata": {},
     "output_type": "execute_result"
    }
   ],
   "source": [
    "#Index 별 평균\n",
    "df.mean(1)"
   ]
  },
  {
   "cell_type": "code",
   "execution_count": 63,
   "metadata": {
    "collapsed": true
   },
   "outputs": [],
   "source": [
    "s = pd.Series([1,3,5,np.nan,6,8], index=dates).shift(2)"
   ]
  },
  {
   "cell_type": "code",
   "execution_count": 73,
   "metadata": {
    "collapsed": false
   },
   "outputs": [
    {
     "data": {
      "text/plain": [
       "2013-01-01    1.0\n",
       "2013-01-02    3.0\n",
       "2013-01-03    5.0\n",
       "2013-01-04    NaN\n",
       "2013-01-05    6.0\n",
       "2013-01-06    8.0\n",
       "Freq: D, dtype: float64"
      ]
     },
     "execution_count": 73,
     "metadata": {},
     "output_type": "execute_result"
    }
   ],
   "source": [
    "pd.Series([1,3,5,np.nan,6,8], index=dates)"
   ]
  },
  {
   "cell_type": "code",
   "execution_count": 76,
   "metadata": {
    "collapsed": false
   },
   "outputs": [
    {
     "data": {
      "text/html": [
       "<div>\n",
       "<table border=\"1\" class=\"dataframe\">\n",
       "  <thead>\n",
       "    <tr style=\"text-align: right;\">\n",
       "      <th></th>\n",
       "      <th>A</th>\n",
       "      <th>B</th>\n",
       "      <th>C</th>\n",
       "      <th>D</th>\n",
       "      <th>F</th>\n",
       "    </tr>\n",
       "  </thead>\n",
       "  <tbody>\n",
       "    <tr>\n",
       "      <th>2013-01-01</th>\n",
       "      <td>NaN</td>\n",
       "      <td>NaN</td>\n",
       "      <td>NaN</td>\n",
       "      <td>NaN</td>\n",
       "      <td>NaN</td>\n",
       "    </tr>\n",
       "    <tr>\n",
       "      <th>2013-01-02</th>\n",
       "      <td>NaN</td>\n",
       "      <td>NaN</td>\n",
       "      <td>NaN</td>\n",
       "      <td>NaN</td>\n",
       "      <td>NaN</td>\n",
       "    </tr>\n",
       "    <tr>\n",
       "      <th>2013-01-03</th>\n",
       "      <td>-0.924790</td>\n",
       "      <td>-1.634366</td>\n",
       "      <td>-0.463994</td>\n",
       "      <td>4.0</td>\n",
       "      <td>1.0</td>\n",
       "    </tr>\n",
       "    <tr>\n",
       "      <th>2013-01-04</th>\n",
       "      <td>-4.656962</td>\n",
       "      <td>-2.076319</td>\n",
       "      <td>-2.649825</td>\n",
       "      <td>2.0</td>\n",
       "      <td>0.0</td>\n",
       "    </tr>\n",
       "    <tr>\n",
       "      <th>2013-01-05</th>\n",
       "      <td>-5.643251</td>\n",
       "      <td>-4.697769</td>\n",
       "      <td>-5.958510</td>\n",
       "      <td>0.0</td>\n",
       "      <td>-1.0</td>\n",
       "    </tr>\n",
       "    <tr>\n",
       "      <th>2013-01-06</th>\n",
       "      <td>NaN</td>\n",
       "      <td>NaN</td>\n",
       "      <td>NaN</td>\n",
       "      <td>NaN</td>\n",
       "      <td>NaN</td>\n",
       "    </tr>\n",
       "  </tbody>\n",
       "</table>\n",
       "</div>"
      ],
      "text/plain": [
       "                   A         B         C    D    F\n",
       "2013-01-01       NaN       NaN       NaN  NaN  NaN\n",
       "2013-01-02       NaN       NaN       NaN  NaN  NaN\n",
       "2013-01-03 -0.924790 -1.634366 -0.463994  4.0  1.0\n",
       "2013-01-04 -4.656962 -2.076319 -2.649825  2.0  0.0\n",
       "2013-01-05 -5.643251 -4.697769 -5.958510  0.0 -1.0\n",
       "2013-01-06       NaN       NaN       NaN  NaN  NaN"
      ]
     },
     "execution_count": 76,
     "metadata": {},
     "output_type": "execute_result"
    }
   ],
   "source": [
    "df.sub(s, axis='index')"
   ]
  },
  {
   "cell_type": "code",
   "execution_count": 77,
   "metadata": {
    "collapsed": false,
    "deletable": true,
    "editable": true
   },
   "outputs": [
    {
     "data": {
      "text/html": [
       "<div>\n",
       "<table border=\"1\" class=\"dataframe\">\n",
       "  <thead>\n",
       "    <tr style=\"text-align: right;\">\n",
       "      <th></th>\n",
       "      <th>A</th>\n",
       "      <th>B</th>\n",
       "      <th>C</th>\n",
       "      <th>D</th>\n",
       "      <th>F</th>\n",
       "    </tr>\n",
       "  </thead>\n",
       "  <tbody>\n",
       "    <tr>\n",
       "      <th>2013-01-03</th>\n",
       "      <td>-0.924790</td>\n",
       "      <td>-1.634366</td>\n",
       "      <td>-0.463994</td>\n",
       "      <td>4.0</td>\n",
       "      <td>1.0</td>\n",
       "    </tr>\n",
       "    <tr>\n",
       "      <th>2013-01-04</th>\n",
       "      <td>-4.656962</td>\n",
       "      <td>-2.076319</td>\n",
       "      <td>-2.649825</td>\n",
       "      <td>2.0</td>\n",
       "      <td>0.0</td>\n",
       "    </tr>\n",
       "    <tr>\n",
       "      <th>2013-01-05</th>\n",
       "      <td>-5.643251</td>\n",
       "      <td>-4.697769</td>\n",
       "      <td>-5.958510</td>\n",
       "      <td>0.0</td>\n",
       "      <td>-1.0</td>\n",
       "    </tr>\n",
       "  </tbody>\n",
       "</table>\n",
       "</div>"
      ],
      "text/plain": [
       "                   A         B         C    D    F\n",
       "2013-01-03 -0.924790 -1.634366 -0.463994  4.0  1.0\n",
       "2013-01-04 -4.656962 -2.076319 -2.649825  2.0  0.0\n",
       "2013-01-05 -5.643251 -4.697769 -5.958510  0.0 -1.0"
      ]
     },
     "execution_count": 77,
     "metadata": {},
     "output_type": "execute_result"
    }
   ],
   "source": [
    "df.sub(s, axis='index').dropna()"
   ]
  },
  {
   "cell_type": "markdown",
   "metadata": {},
   "source": [
    "#### 1.1.5.2 Apply"
   ]
  },
  {
   "cell_type": "code",
   "execution_count": 79,
   "metadata": {
    "collapsed": false,
    "deletable": true,
    "editable": true,
    "scrolled": true
   },
   "outputs": [
    {
     "data": {
      "text/html": [
       "<div>\n",
       "<table border=\"1\" class=\"dataframe\">\n",
       "  <thead>\n",
       "    <tr style=\"text-align: right;\">\n",
       "      <th></th>\n",
       "      <th>A</th>\n",
       "      <th>B</th>\n",
       "      <th>C</th>\n",
       "      <th>D</th>\n",
       "      <th>F</th>\n",
       "    </tr>\n",
       "  </thead>\n",
       "  <tbody>\n",
       "    <tr>\n",
       "      <th>2013-01-01</th>\n",
       "      <td>0.000000</td>\n",
       "      <td>0.000000</td>\n",
       "      <td>0.310331</td>\n",
       "      <td>5</td>\n",
       "      <td>NaN</td>\n",
       "    </tr>\n",
       "    <tr>\n",
       "      <th>2013-01-02</th>\n",
       "      <td>0.290338</td>\n",
       "      <td>0.503073</td>\n",
       "      <td>1.692260</td>\n",
       "      <td>5</td>\n",
       "      <td>1.0</td>\n",
       "    </tr>\n",
       "    <tr>\n",
       "      <th>2013-01-03</th>\n",
       "      <td>0.075210</td>\n",
       "      <td>-0.634366</td>\n",
       "      <td>0.536006</td>\n",
       "      <td>5</td>\n",
       "      <td>2.0</td>\n",
       "    </tr>\n",
       "    <tr>\n",
       "      <th>2013-01-04</th>\n",
       "      <td>-1.656962</td>\n",
       "      <td>0.923681</td>\n",
       "      <td>0.350175</td>\n",
       "      <td>5</td>\n",
       "      <td>3.0</td>\n",
       "    </tr>\n",
       "    <tr>\n",
       "      <th>2013-01-05</th>\n",
       "      <td>-0.643251</td>\n",
       "      <td>0.302231</td>\n",
       "      <td>-0.958510</td>\n",
       "      <td>5</td>\n",
       "      <td>4.0</td>\n",
       "    </tr>\n",
       "    <tr>\n",
       "      <th>2013-01-06</th>\n",
       "      <td>0.395760</td>\n",
       "      <td>-0.202792</td>\n",
       "      <td>0.959086</td>\n",
       "      <td>5</td>\n",
       "      <td>5.0</td>\n",
       "    </tr>\n",
       "  </tbody>\n",
       "</table>\n",
       "</div>"
      ],
      "text/plain": [
       "                   A         B         C  D    F\n",
       "2013-01-01  0.000000  0.000000  0.310331  5  NaN\n",
       "2013-01-02  0.290338  0.503073  1.692260  5  1.0\n",
       "2013-01-03  0.075210 -0.634366  0.536006  5  2.0\n",
       "2013-01-04 -1.656962  0.923681  0.350175  5  3.0\n",
       "2013-01-05 -0.643251  0.302231 -0.958510  5  4.0\n",
       "2013-01-06  0.395760 -0.202792  0.959086  5  5.0"
      ]
     },
     "execution_count": 79,
     "metadata": {},
     "output_type": "execute_result"
    }
   ],
   "source": [
    "sdf"
   ]
  },
  {
   "cell_type": "code",
   "execution_count": 78,
   "metadata": {
    "collapsed": false
   },
   "outputs": [
    {
     "data": {
      "text/html": [
       "<div>\n",
       "<table border=\"1\" class=\"dataframe\">\n",
       "  <thead>\n",
       "    <tr style=\"text-align: right;\">\n",
       "      <th></th>\n",
       "      <th>A</th>\n",
       "      <th>B</th>\n",
       "      <th>C</th>\n",
       "      <th>D</th>\n",
       "      <th>F</th>\n",
       "    </tr>\n",
       "  </thead>\n",
       "  <tbody>\n",
       "    <tr>\n",
       "      <th>2013-01-01</th>\n",
       "      <td>0.000000</td>\n",
       "      <td>0.000000</td>\n",
       "      <td>0.310331</td>\n",
       "      <td>5</td>\n",
       "      <td>NaN</td>\n",
       "    </tr>\n",
       "    <tr>\n",
       "      <th>2013-01-02</th>\n",
       "      <td>0.290338</td>\n",
       "      <td>0.503073</td>\n",
       "      <td>2.002591</td>\n",
       "      <td>10</td>\n",
       "      <td>1.0</td>\n",
       "    </tr>\n",
       "    <tr>\n",
       "      <th>2013-01-03</th>\n",
       "      <td>0.365548</td>\n",
       "      <td>-0.131292</td>\n",
       "      <td>2.538598</td>\n",
       "      <td>15</td>\n",
       "      <td>3.0</td>\n",
       "    </tr>\n",
       "    <tr>\n",
       "      <th>2013-01-04</th>\n",
       "      <td>-1.291414</td>\n",
       "      <td>0.792389</td>\n",
       "      <td>2.888772</td>\n",
       "      <td>20</td>\n",
       "      <td>6.0</td>\n",
       "    </tr>\n",
       "    <tr>\n",
       "      <th>2013-01-05</th>\n",
       "      <td>-1.934665</td>\n",
       "      <td>1.094620</td>\n",
       "      <td>1.930263</td>\n",
       "      <td>25</td>\n",
       "      <td>10.0</td>\n",
       "    </tr>\n",
       "    <tr>\n",
       "      <th>2013-01-06</th>\n",
       "      <td>-1.538905</td>\n",
       "      <td>0.891828</td>\n",
       "      <td>2.889349</td>\n",
       "      <td>30</td>\n",
       "      <td>15.0</td>\n",
       "    </tr>\n",
       "  </tbody>\n",
       "</table>\n",
       "</div>"
      ],
      "text/plain": [
       "                   A         B         C   D     F\n",
       "2013-01-01  0.000000  0.000000  0.310331   5   NaN\n",
       "2013-01-02  0.290338  0.503073  2.002591  10   1.0\n",
       "2013-01-03  0.365548 -0.131292  2.538598  15   3.0\n",
       "2013-01-04 -1.291414  0.792389  2.888772  20   6.0\n",
       "2013-01-05 -1.934665  1.094620  1.930263  25  10.0\n",
       "2013-01-06 -1.538905  0.891828  2.889349  30  15.0"
      ]
     },
     "execution_count": 78,
     "metadata": {},
     "output_type": "execute_result"
    }
   ],
   "source": [
    "df.apply(np.cumsum)"
   ]
  },
  {
   "cell_type": "code",
   "execution_count": 80,
   "metadata": {
    "collapsed": false
   },
   "outputs": [
    {
     "data": {
      "text/plain": [
       "A    2.052722\n",
       "B    1.558047\n",
       "C    2.650770\n",
       "D    0.000000\n",
       "F    4.000000\n",
       "dtype: float64"
      ]
     },
     "execution_count": 80,
     "metadata": {},
     "output_type": "execute_result"
    }
   ],
   "source": [
    "df.apply(lambda x:x.max() - x.min())"
   ]
  },
  {
   "cell_type": "markdown",
   "metadata": {},
   "source": [
    "#### 1.1.5.3 Historamming"
   ]
  },
  {
   "cell_type": "code",
   "execution_count": 82,
   "metadata": {
    "collapsed": true
   },
   "outputs": [],
   "source": [
    "s = pd.Series(np.random.randint(0, 7, size=10))"
   ]
  },
  {
   "cell_type": "code",
   "execution_count": 85,
   "metadata": {
    "collapsed": false
   },
   "outputs": [
    {
     "data": {
      "text/plain": [
       "0    6\n",
       "1    4\n",
       "2    6\n",
       "3    6\n",
       "4    2\n",
       "5    3\n",
       "6    0\n",
       "7    6\n",
       "8    1\n",
       "9    5\n",
       "dtype: int32"
      ]
     },
     "execution_count": 85,
     "metadata": {},
     "output_type": "execute_result"
    }
   ],
   "source": [
    "s"
   ]
  },
  {
   "cell_type": "code",
   "execution_count": 86,
   "metadata": {
    "collapsed": false
   },
   "outputs": [
    {
     "data": {
      "text/plain": [
       "6    4\n",
       "5    1\n",
       "4    1\n",
       "3    1\n",
       "2    1\n",
       "1    1\n",
       "0    1\n",
       "dtype: int64"
      ]
     },
     "execution_count": 86,
     "metadata": {},
     "output_type": "execute_result"
    }
   ],
   "source": [
    "#값별 빈도수 \n",
    "s.value_counts()"
   ]
  },
  {
   "cell_type": "markdown",
   "metadata": {},
   "source": [
    "#### 1.1.5.4 문자열 함수"
   ]
  },
  {
   "cell_type": "code",
   "execution_count": 87,
   "metadata": {
    "collapsed": true
   },
   "outputs": [],
   "source": [
    "s = pd.Series(['A', 'B', 'C', 'Aaba', 'Baca', np.nan, 'CABA', 'dog', 'cat'])"
   ]
  },
  {
   "cell_type": "code",
   "execution_count": 92,
   "metadata": {
    "collapsed": false
   },
   "outputs": [
    {
     "data": {
      "text/plain": [
       "0       a\n",
       "1       b\n",
       "2       c\n",
       "3    aaba\n",
       "4    baca\n",
       "5     NaN\n",
       "6    caba\n",
       "7     dog\n",
       "8     cat\n",
       "dtype: object"
      ]
     },
     "execution_count": 92,
     "metadata": {},
     "output_type": "execute_result"
    }
   ],
   "source": [
    "s.str.lower()"
   ]
  },
  {
   "cell_type": "markdown",
   "metadata": {},
   "source": [
    "### 1.1.6 병합\n",
    "\n",
    "#### 1.1.6.1 Concat"
   ]
  },
  {
   "cell_type": "code",
   "execution_count": 96,
   "metadata": {
    "collapsed": false
   },
   "outputs": [],
   "source": [
    "df = pd.DataFrame(np.random.randn(10,4))"
   ]
  },
  {
   "cell_type": "code",
   "execution_count": 97,
   "metadata": {
    "collapsed": false
   },
   "outputs": [
    {
     "data": {
      "text/html": [
       "<div>\n",
       "<table border=\"1\" class=\"dataframe\">\n",
       "  <thead>\n",
       "    <tr style=\"text-align: right;\">\n",
       "      <th></th>\n",
       "      <th>0</th>\n",
       "      <th>1</th>\n",
       "      <th>2</th>\n",
       "      <th>3</th>\n",
       "    </tr>\n",
       "  </thead>\n",
       "  <tbody>\n",
       "    <tr>\n",
       "      <th>0</th>\n",
       "      <td>0.665500</td>\n",
       "      <td>0.269160</td>\n",
       "      <td>1.856303</td>\n",
       "      <td>0.750822</td>\n",
       "    </tr>\n",
       "    <tr>\n",
       "      <th>1</th>\n",
       "      <td>-0.330053</td>\n",
       "      <td>-1.246525</td>\n",
       "      <td>-1.154113</td>\n",
       "      <td>1.237675</td>\n",
       "    </tr>\n",
       "    <tr>\n",
       "      <th>2</th>\n",
       "      <td>-0.306497</td>\n",
       "      <td>0.473473</td>\n",
       "      <td>-0.000477</td>\n",
       "      <td>-2.363603</td>\n",
       "    </tr>\n",
       "    <tr>\n",
       "      <th>3</th>\n",
       "      <td>0.470163</td>\n",
       "      <td>-0.655405</td>\n",
       "      <td>0.719685</td>\n",
       "      <td>-0.348553</td>\n",
       "    </tr>\n",
       "    <tr>\n",
       "      <th>4</th>\n",
       "      <td>-1.937330</td>\n",
       "      <td>0.965788</td>\n",
       "      <td>0.905928</td>\n",
       "      <td>0.477521</td>\n",
       "    </tr>\n",
       "    <tr>\n",
       "      <th>5</th>\n",
       "      <td>-0.271864</td>\n",
       "      <td>-0.268242</td>\n",
       "      <td>0.288241</td>\n",
       "      <td>2.433604</td>\n",
       "    </tr>\n",
       "    <tr>\n",
       "      <th>6</th>\n",
       "      <td>-0.150534</td>\n",
       "      <td>-0.702032</td>\n",
       "      <td>-0.660461</td>\n",
       "      <td>-0.096038</td>\n",
       "    </tr>\n",
       "    <tr>\n",
       "      <th>7</th>\n",
       "      <td>0.460048</td>\n",
       "      <td>0.301251</td>\n",
       "      <td>0.079594</td>\n",
       "      <td>-0.454724</td>\n",
       "    </tr>\n",
       "    <tr>\n",
       "      <th>8</th>\n",
       "      <td>0.836471</td>\n",
       "      <td>-1.653110</td>\n",
       "      <td>1.189943</td>\n",
       "      <td>0.371631</td>\n",
       "    </tr>\n",
       "    <tr>\n",
       "      <th>9</th>\n",
       "      <td>-0.589209</td>\n",
       "      <td>0.313237</td>\n",
       "      <td>1.616104</td>\n",
       "      <td>0.078105</td>\n",
       "    </tr>\n",
       "  </tbody>\n",
       "</table>\n",
       "</div>"
      ],
      "text/plain": [
       "          0         1         2         3\n",
       "0  0.665500  0.269160  1.856303  0.750822\n",
       "1 -0.330053 -1.246525 -1.154113  1.237675\n",
       "2 -0.306497  0.473473 -0.000477 -2.363603\n",
       "3  0.470163 -0.655405  0.719685 -0.348553\n",
       "4 -1.937330  0.965788  0.905928  0.477521\n",
       "5 -0.271864 -0.268242  0.288241  2.433604\n",
       "6 -0.150534 -0.702032 -0.660461 -0.096038\n",
       "7  0.460048  0.301251  0.079594 -0.454724\n",
       "8  0.836471 -1.653110  1.189943  0.371631\n",
       "9 -0.589209  0.313237  1.616104  0.078105"
      ]
     },
     "execution_count": 97,
     "metadata": {},
     "output_type": "execute_result"
    }
   ],
   "source": [
    "df"
   ]
  },
  {
   "cell_type": "code",
   "execution_count": 98,
   "metadata": {
    "collapsed": true
   },
   "outputs": [],
   "source": [
    "pieces = [df[:3], df[3:7],df[7:]]"
   ]
  },
  {
   "cell_type": "code",
   "execution_count": 101,
   "metadata": {
    "collapsed": false
   },
   "outputs": [
    {
     "data": {
      "text/html": [
       "<div>\n",
       "<table border=\"1\" class=\"dataframe\">\n",
       "  <thead>\n",
       "    <tr style=\"text-align: right;\">\n",
       "      <th></th>\n",
       "      <th>0</th>\n",
       "      <th>1</th>\n",
       "      <th>2</th>\n",
       "      <th>3</th>\n",
       "    </tr>\n",
       "  </thead>\n",
       "  <tbody>\n",
       "    <tr>\n",
       "      <th>0</th>\n",
       "      <td>0.665500</td>\n",
       "      <td>0.269160</td>\n",
       "      <td>1.856303</td>\n",
       "      <td>0.750822</td>\n",
       "    </tr>\n",
       "    <tr>\n",
       "      <th>1</th>\n",
       "      <td>-0.330053</td>\n",
       "      <td>-1.246525</td>\n",
       "      <td>-1.154113</td>\n",
       "      <td>1.237675</td>\n",
       "    </tr>\n",
       "    <tr>\n",
       "      <th>2</th>\n",
       "      <td>-0.306497</td>\n",
       "      <td>0.473473</td>\n",
       "      <td>-0.000477</td>\n",
       "      <td>-2.363603</td>\n",
       "    </tr>\n",
       "    <tr>\n",
       "      <th>3</th>\n",
       "      <td>0.470163</td>\n",
       "      <td>-0.655405</td>\n",
       "      <td>0.719685</td>\n",
       "      <td>-0.348553</td>\n",
       "    </tr>\n",
       "    <tr>\n",
       "      <th>4</th>\n",
       "      <td>-1.937330</td>\n",
       "      <td>0.965788</td>\n",
       "      <td>0.905928</td>\n",
       "      <td>0.477521</td>\n",
       "    </tr>\n",
       "    <tr>\n",
       "      <th>5</th>\n",
       "      <td>-0.271864</td>\n",
       "      <td>-0.268242</td>\n",
       "      <td>0.288241</td>\n",
       "      <td>2.433604</td>\n",
       "    </tr>\n",
       "    <tr>\n",
       "      <th>6</th>\n",
       "      <td>-0.150534</td>\n",
       "      <td>-0.702032</td>\n",
       "      <td>-0.660461</td>\n",
       "      <td>-0.096038</td>\n",
       "    </tr>\n",
       "    <tr>\n",
       "      <th>7</th>\n",
       "      <td>0.460048</td>\n",
       "      <td>0.301251</td>\n",
       "      <td>0.079594</td>\n",
       "      <td>-0.454724</td>\n",
       "    </tr>\n",
       "    <tr>\n",
       "      <th>8</th>\n",
       "      <td>0.836471</td>\n",
       "      <td>-1.653110</td>\n",
       "      <td>1.189943</td>\n",
       "      <td>0.371631</td>\n",
       "    </tr>\n",
       "    <tr>\n",
       "      <th>9</th>\n",
       "      <td>-0.589209</td>\n",
       "      <td>0.313237</td>\n",
       "      <td>1.616104</td>\n",
       "      <td>0.078105</td>\n",
       "    </tr>\n",
       "  </tbody>\n",
       "</table>\n",
       "</div>"
      ],
      "text/plain": [
       "          0         1         2         3\n",
       "0  0.665500  0.269160  1.856303  0.750822\n",
       "1 -0.330053 -1.246525 -1.154113  1.237675\n",
       "2 -0.306497  0.473473 -0.000477 -2.363603\n",
       "3  0.470163 -0.655405  0.719685 -0.348553\n",
       "4 -1.937330  0.965788  0.905928  0.477521\n",
       "5 -0.271864 -0.268242  0.288241  2.433604\n",
       "6 -0.150534 -0.702032 -0.660461 -0.096038\n",
       "7  0.460048  0.301251  0.079594 -0.454724\n",
       "8  0.836471 -1.653110  1.189943  0.371631\n",
       "9 -0.589209  0.313237  1.616104  0.078105"
      ]
     },
     "execution_count": 101,
     "metadata": {},
     "output_type": "execute_result"
    }
   ],
   "source": [
    "pd.concat(pieces)"
   ]
  },
  {
   "cell_type": "markdown",
   "metadata": {},
   "source": [
    "#### 1.1.6.2 join"
   ]
  },
  {
   "cell_type": "code",
   "execution_count": 104,
   "metadata": {
    "collapsed": true
   },
   "outputs": [],
   "source": [
    "left = pd.DataFrame({'key': ['foo', 'foo'], 'lval': [1, 2]})"
   ]
  },
  {
   "cell_type": "code",
   "execution_count": 103,
   "metadata": {
    "collapsed": false
   },
   "outputs": [
    {
     "data": {
      "text/html": [
       "<div>\n",
       "<table border=\"1\" class=\"dataframe\">\n",
       "  <thead>\n",
       "    <tr style=\"text-align: right;\">\n",
       "      <th></th>\n",
       "      <th>key</th>\n",
       "      <th>lval</th>\n",
       "    </tr>\n",
       "  </thead>\n",
       "  <tbody>\n",
       "    <tr>\n",
       "      <th>0</th>\n",
       "      <td>foo</td>\n",
       "      <td>1</td>\n",
       "    </tr>\n",
       "    <tr>\n",
       "      <th>1</th>\n",
       "      <td>foo</td>\n",
       "      <td>2</td>\n",
       "    </tr>\n",
       "  </tbody>\n",
       "</table>\n",
       "</div>"
      ],
      "text/plain": [
       "   key  lval\n",
       "0  foo     1\n",
       "1  foo     2"
      ]
     },
     "execution_count": 103,
     "metadata": {},
     "output_type": "execute_result"
    }
   ],
   "source": [
    "left"
   ]
  },
  {
   "cell_type": "code",
   "execution_count": 106,
   "metadata": {
    "collapsed": false
   },
   "outputs": [],
   "source": [
    "right = pd.DataFrame({'key': ['foo', 'foo'], 'rval': [4, 5]})"
   ]
  },
  {
   "cell_type": "code",
   "execution_count": 107,
   "metadata": {
    "collapsed": false
   },
   "outputs": [
    {
     "data": {
      "text/html": [
       "<div>\n",
       "<table border=\"1\" class=\"dataframe\">\n",
       "  <thead>\n",
       "    <tr style=\"text-align: right;\">\n",
       "      <th></th>\n",
       "      <th>key</th>\n",
       "      <th>rval</th>\n",
       "    </tr>\n",
       "  </thead>\n",
       "  <tbody>\n",
       "    <tr>\n",
       "      <th>0</th>\n",
       "      <td>foo</td>\n",
       "      <td>4</td>\n",
       "    </tr>\n",
       "    <tr>\n",
       "      <th>1</th>\n",
       "      <td>foo</td>\n",
       "      <td>5</td>\n",
       "    </tr>\n",
       "  </tbody>\n",
       "</table>\n",
       "</div>"
      ],
      "text/plain": [
       "   key  rval\n",
       "0  foo     4\n",
       "1  foo     5"
      ]
     },
     "execution_count": 107,
     "metadata": {},
     "output_type": "execute_result"
    }
   ],
   "source": [
    "right"
   ]
  },
  {
   "cell_type": "code",
   "execution_count": 108,
   "metadata": {
    "collapsed": false
   },
   "outputs": [
    {
     "data": {
      "text/html": [
       "<div>\n",
       "<table border=\"1\" class=\"dataframe\">\n",
       "  <thead>\n",
       "    <tr style=\"text-align: right;\">\n",
       "      <th></th>\n",
       "      <th>key</th>\n",
       "      <th>lval</th>\n",
       "      <th>rval</th>\n",
       "    </tr>\n",
       "  </thead>\n",
       "  <tbody>\n",
       "    <tr>\n",
       "      <th>0</th>\n",
       "      <td>foo</td>\n",
       "      <td>1</td>\n",
       "      <td>4</td>\n",
       "    </tr>\n",
       "    <tr>\n",
       "      <th>1</th>\n",
       "      <td>foo</td>\n",
       "      <td>1</td>\n",
       "      <td>5</td>\n",
       "    </tr>\n",
       "    <tr>\n",
       "      <th>2</th>\n",
       "      <td>foo</td>\n",
       "      <td>2</td>\n",
       "      <td>4</td>\n",
       "    </tr>\n",
       "    <tr>\n",
       "      <th>3</th>\n",
       "      <td>foo</td>\n",
       "      <td>2</td>\n",
       "      <td>5</td>\n",
       "    </tr>\n",
       "  </tbody>\n",
       "</table>\n",
       "</div>"
      ],
      "text/plain": [
       "   key  lval  rval\n",
       "0  foo     1     4\n",
       "1  foo     1     5\n",
       "2  foo     2     4\n",
       "3  foo     2     5"
      ]
     },
     "execution_count": 108,
     "metadata": {},
     "output_type": "execute_result"
    }
   ],
   "source": [
    "pd.merge(left, right, on='key')"
   ]
  },
  {
   "cell_type": "markdown",
   "metadata": {},
   "source": [
    "#### 1.1.6.3 Append"
   ]
  },
  {
   "cell_type": "code",
   "execution_count": 115,
   "metadata": {
    "collapsed": true
   },
   "outputs": [],
   "source": [
    "df = pd.DataFrame(np.random.randn(8, 4), columns=['A','B','C','D'])"
   ]
  },
  {
   "cell_type": "code",
   "execution_count": 132,
   "metadata": {
    "collapsed": false
   },
   "outputs": [
    {
     "data": {
      "text/html": [
       "<div>\n",
       "<table border=\"1\" class=\"dataframe\">\n",
       "  <thead>\n",
       "    <tr style=\"text-align: right;\">\n",
       "      <th></th>\n",
       "      <th>A</th>\n",
       "      <th>B</th>\n",
       "      <th>C</th>\n",
       "      <th>D</th>\n",
       "    </tr>\n",
       "  </thead>\n",
       "  <tbody>\n",
       "    <tr>\n",
       "      <th>0</th>\n",
       "      <td>-1.770684</td>\n",
       "      <td>0.045951</td>\n",
       "      <td>0.509641</td>\n",
       "      <td>0.411571</td>\n",
       "    </tr>\n",
       "    <tr>\n",
       "      <th>1</th>\n",
       "      <td>-1.699524</td>\n",
       "      <td>0.564273</td>\n",
       "      <td>-1.359307</td>\n",
       "      <td>0.670808</td>\n",
       "    </tr>\n",
       "    <tr>\n",
       "      <th>2</th>\n",
       "      <td>0.753665</td>\n",
       "      <td>-1.081480</td>\n",
       "      <td>0.519901</td>\n",
       "      <td>-0.242018</td>\n",
       "    </tr>\n",
       "    <tr>\n",
       "      <th>3</th>\n",
       "      <td>0.344760</td>\n",
       "      <td>1.178836</td>\n",
       "      <td>1.447950</td>\n",
       "      <td>1.539267</td>\n",
       "    </tr>\n",
       "    <tr>\n",
       "      <th>4</th>\n",
       "      <td>0.827394</td>\n",
       "      <td>-1.545729</td>\n",
       "      <td>-0.553981</td>\n",
       "      <td>1.455540</td>\n",
       "    </tr>\n",
       "    <tr>\n",
       "      <th>5</th>\n",
       "      <td>-0.437187</td>\n",
       "      <td>0.326627</td>\n",
       "      <td>0.522271</td>\n",
       "      <td>-1.284533</td>\n",
       "    </tr>\n",
       "    <tr>\n",
       "      <th>6</th>\n",
       "      <td>0.051510</td>\n",
       "      <td>-0.349199</td>\n",
       "      <td>0.427448</td>\n",
       "      <td>-0.758752</td>\n",
       "    </tr>\n",
       "    <tr>\n",
       "      <th>7</th>\n",
       "      <td>-1.339423</td>\n",
       "      <td>-0.873949</td>\n",
       "      <td>-0.486608</td>\n",
       "      <td>-0.040975</td>\n",
       "    </tr>\n",
       "  </tbody>\n",
       "</table>\n",
       "</div>"
      ],
      "text/plain": [
       "          A         B         C         D\n",
       "0 -1.770684  0.045951  0.509641  0.411571\n",
       "1 -1.699524  0.564273 -1.359307  0.670808\n",
       "2  0.753665 -1.081480  0.519901 -0.242018\n",
       "3  0.344760  1.178836  1.447950  1.539267\n",
       "4  0.827394 -1.545729 -0.553981  1.455540\n",
       "5 -0.437187  0.326627  0.522271 -1.284533\n",
       "6  0.051510 -0.349199  0.427448 -0.758752\n",
       "7 -1.339423 -0.873949 -0.486608 -0.040975"
      ]
     },
     "execution_count": 132,
     "metadata": {},
     "output_type": "execute_result"
    }
   ],
   "source": [
    "df"
   ]
  },
  {
   "cell_type": "code",
   "execution_count": 133,
   "metadata": {
    "collapsed": false
   },
   "outputs": [],
   "source": [
    "s = df.iloc[3]"
   ]
  },
  {
   "cell_type": "code",
   "execution_count": 135,
   "metadata": {
    "collapsed": false
   },
   "outputs": [
    {
     "data": {
      "text/html": [
       "<div>\n",
       "<table border=\"1\" class=\"dataframe\">\n",
       "  <thead>\n",
       "    <tr style=\"text-align: right;\">\n",
       "      <th></th>\n",
       "      <th>A</th>\n",
       "      <th>B</th>\n",
       "      <th>C</th>\n",
       "      <th>D</th>\n",
       "    </tr>\n",
       "  </thead>\n",
       "  <tbody>\n",
       "    <tr>\n",
       "      <th>0</th>\n",
       "      <td>-1.770684</td>\n",
       "      <td>0.045951</td>\n",
       "      <td>0.509641</td>\n",
       "      <td>0.411571</td>\n",
       "    </tr>\n",
       "    <tr>\n",
       "      <th>1</th>\n",
       "      <td>-1.699524</td>\n",
       "      <td>0.564273</td>\n",
       "      <td>-1.359307</td>\n",
       "      <td>0.670808</td>\n",
       "    </tr>\n",
       "    <tr>\n",
       "      <th>2</th>\n",
       "      <td>0.753665</td>\n",
       "      <td>-1.081480</td>\n",
       "      <td>0.519901</td>\n",
       "      <td>-0.242018</td>\n",
       "    </tr>\n",
       "    <tr>\n",
       "      <th>3</th>\n",
       "      <td>0.344760</td>\n",
       "      <td>1.178836</td>\n",
       "      <td>1.447950</td>\n",
       "      <td>1.539267</td>\n",
       "    </tr>\n",
       "    <tr>\n",
       "      <th>4</th>\n",
       "      <td>0.827394</td>\n",
       "      <td>-1.545729</td>\n",
       "      <td>-0.553981</td>\n",
       "      <td>1.455540</td>\n",
       "    </tr>\n",
       "    <tr>\n",
       "      <th>5</th>\n",
       "      <td>-0.437187</td>\n",
       "      <td>0.326627</td>\n",
       "      <td>0.522271</td>\n",
       "      <td>-1.284533</td>\n",
       "    </tr>\n",
       "    <tr>\n",
       "      <th>6</th>\n",
       "      <td>0.051510</td>\n",
       "      <td>-0.349199</td>\n",
       "      <td>0.427448</td>\n",
       "      <td>-0.758752</td>\n",
       "    </tr>\n",
       "    <tr>\n",
       "      <th>7</th>\n",
       "      <td>-1.339423</td>\n",
       "      <td>-0.873949</td>\n",
       "      <td>-0.486608</td>\n",
       "      <td>-0.040975</td>\n",
       "    </tr>\n",
       "    <tr>\n",
       "      <th>8</th>\n",
       "      <td>0.344760</td>\n",
       "      <td>1.178836</td>\n",
       "      <td>1.447950</td>\n",
       "      <td>1.539267</td>\n",
       "    </tr>\n",
       "  </tbody>\n",
       "</table>\n",
       "</div>"
      ],
      "text/plain": [
       "          A         B         C         D\n",
       "0 -1.770684  0.045951  0.509641  0.411571\n",
       "1 -1.699524  0.564273 -1.359307  0.670808\n",
       "2  0.753665 -1.081480  0.519901 -0.242018\n",
       "3  0.344760  1.178836  1.447950  1.539267\n",
       "4  0.827394 -1.545729 -0.553981  1.455540\n",
       "5 -0.437187  0.326627  0.522271 -1.284533\n",
       "6  0.051510 -0.349199  0.427448 -0.758752\n",
       "7 -1.339423 -0.873949 -0.486608 -0.040975\n",
       "8  0.344760  1.178836  1.447950  1.539267"
      ]
     },
     "execution_count": 135,
     "metadata": {},
     "output_type": "execute_result"
    }
   ],
   "source": [
    "df.append(s, ignore_index=True)"
   ]
  },
  {
   "cell_type": "markdown",
   "metadata": {},
   "source": [
    "### 1.1.7 그룹핑"
   ]
  },
  {
   "cell_type": "code",
   "execution_count": 136,
   "metadata": {
    "collapsed": true
   },
   "outputs": [],
   "source": [
    "df = pd.DataFrame({'A' : ['foo', 'bar', 'foo', 'bar',\n",
    "                          'foo', 'bar', 'foo', 'foo'],\n",
    "                   'B' : ['one', 'one', 'two', 'three',\n",
    "                          'two', 'two', 'one', 'three'],\n",
    "                   'C' : np.random.randn(8),\n",
    "                   'D' : np.random.randn(8)})"
   ]
  },
  {
   "cell_type": "code",
   "execution_count": 137,
   "metadata": {
    "collapsed": false
   },
   "outputs": [
    {
     "data": {
      "text/html": [
       "<div>\n",
       "<table border=\"1\" class=\"dataframe\">\n",
       "  <thead>\n",
       "    <tr style=\"text-align: right;\">\n",
       "      <th></th>\n",
       "      <th>A</th>\n",
       "      <th>B</th>\n",
       "      <th>C</th>\n",
       "      <th>D</th>\n",
       "    </tr>\n",
       "  </thead>\n",
       "  <tbody>\n",
       "    <tr>\n",
       "      <th>0</th>\n",
       "      <td>foo</td>\n",
       "      <td>one</td>\n",
       "      <td>-0.722294</td>\n",
       "      <td>-0.210656</td>\n",
       "    </tr>\n",
       "    <tr>\n",
       "      <th>1</th>\n",
       "      <td>bar</td>\n",
       "      <td>one</td>\n",
       "      <td>-1.433462</td>\n",
       "      <td>-0.160834</td>\n",
       "    </tr>\n",
       "    <tr>\n",
       "      <th>2</th>\n",
       "      <td>foo</td>\n",
       "      <td>two</td>\n",
       "      <td>0.418527</td>\n",
       "      <td>1.408003</td>\n",
       "    </tr>\n",
       "    <tr>\n",
       "      <th>3</th>\n",
       "      <td>bar</td>\n",
       "      <td>three</td>\n",
       "      <td>-0.631289</td>\n",
       "      <td>-0.199334</td>\n",
       "    </tr>\n",
       "    <tr>\n",
       "      <th>4</th>\n",
       "      <td>foo</td>\n",
       "      <td>two</td>\n",
       "      <td>-0.119260</td>\n",
       "      <td>1.992007</td>\n",
       "    </tr>\n",
       "    <tr>\n",
       "      <th>5</th>\n",
       "      <td>bar</td>\n",
       "      <td>two</td>\n",
       "      <td>-1.482181</td>\n",
       "      <td>-0.274322</td>\n",
       "    </tr>\n",
       "    <tr>\n",
       "      <th>6</th>\n",
       "      <td>foo</td>\n",
       "      <td>one</td>\n",
       "      <td>0.570749</td>\n",
       "      <td>-1.323110</td>\n",
       "    </tr>\n",
       "    <tr>\n",
       "      <th>7</th>\n",
       "      <td>foo</td>\n",
       "      <td>three</td>\n",
       "      <td>0.777468</td>\n",
       "      <td>0.096429</td>\n",
       "    </tr>\n",
       "  </tbody>\n",
       "</table>\n",
       "</div>"
      ],
      "text/plain": [
       "     A      B         C         D\n",
       "0  foo    one -0.722294 -0.210656\n",
       "1  bar    one -1.433462 -0.160834\n",
       "2  foo    two  0.418527  1.408003\n",
       "3  bar  three -0.631289 -0.199334\n",
       "4  foo    two -0.119260  1.992007\n",
       "5  bar    two -1.482181 -0.274322\n",
       "6  foo    one  0.570749 -1.323110\n",
       "7  foo  three  0.777468  0.096429"
      ]
     },
     "execution_count": 137,
     "metadata": {},
     "output_type": "execute_result"
    }
   ],
   "source": [
    "df"
   ]
  },
  {
   "cell_type": "code",
   "execution_count": 138,
   "metadata": {
    "collapsed": false
   },
   "outputs": [
    {
     "data": {
      "text/html": [
       "<div>\n",
       "<table border=\"1\" class=\"dataframe\">\n",
       "  <thead>\n",
       "    <tr style=\"text-align: right;\">\n",
       "      <th></th>\n",
       "      <th>C</th>\n",
       "      <th>D</th>\n",
       "    </tr>\n",
       "    <tr>\n",
       "      <th>A</th>\n",
       "      <th></th>\n",
       "      <th></th>\n",
       "    </tr>\n",
       "  </thead>\n",
       "  <tbody>\n",
       "    <tr>\n",
       "      <th>bar</th>\n",
       "      <td>-3.546932</td>\n",
       "      <td>-0.634490</td>\n",
       "    </tr>\n",
       "    <tr>\n",
       "      <th>foo</th>\n",
       "      <td>0.925189</td>\n",
       "      <td>1.962674</td>\n",
       "    </tr>\n",
       "  </tbody>\n",
       "</table>\n",
       "</div>"
      ],
      "text/plain": [
       "            C         D\n",
       "A                      \n",
       "bar -3.546932 -0.634490\n",
       "foo  0.925189  1.962674"
      ]
     },
     "execution_count": 138,
     "metadata": {},
     "output_type": "execute_result"
    }
   ],
   "source": [
    "df.groupby('A').sum()"
   ]
  },
  {
   "cell_type": "code",
   "execution_count": 139,
   "metadata": {
    "collapsed": false
   },
   "outputs": [
    {
     "data": {
      "text/html": [
       "<div>\n",
       "<table border=\"1\" class=\"dataframe\">\n",
       "  <thead>\n",
       "    <tr style=\"text-align: right;\">\n",
       "      <th></th>\n",
       "      <th></th>\n",
       "      <th>C</th>\n",
       "      <th>D</th>\n",
       "    </tr>\n",
       "    <tr>\n",
       "      <th>A</th>\n",
       "      <th>B</th>\n",
       "      <th></th>\n",
       "      <th></th>\n",
       "    </tr>\n",
       "  </thead>\n",
       "  <tbody>\n",
       "    <tr>\n",
       "      <th rowspan=\"3\" valign=\"top\">bar</th>\n",
       "      <th>one</th>\n",
       "      <td>-1.433462</td>\n",
       "      <td>-0.160834</td>\n",
       "    </tr>\n",
       "    <tr>\n",
       "      <th>three</th>\n",
       "      <td>-0.631289</td>\n",
       "      <td>-0.199334</td>\n",
       "    </tr>\n",
       "    <tr>\n",
       "      <th>two</th>\n",
       "      <td>-1.482181</td>\n",
       "      <td>-0.274322</td>\n",
       "    </tr>\n",
       "    <tr>\n",
       "      <th rowspan=\"3\" valign=\"top\">foo</th>\n",
       "      <th>one</th>\n",
       "      <td>-0.151545</td>\n",
       "      <td>-1.533765</td>\n",
       "    </tr>\n",
       "    <tr>\n",
       "      <th>three</th>\n",
       "      <td>0.777468</td>\n",
       "      <td>0.096429</td>\n",
       "    </tr>\n",
       "    <tr>\n",
       "      <th>two</th>\n",
       "      <td>0.299266</td>\n",
       "      <td>3.400010</td>\n",
       "    </tr>\n",
       "  </tbody>\n",
       "</table>\n",
       "</div>"
      ],
      "text/plain": [
       "                  C         D\n",
       "A   B                        \n",
       "bar one   -1.433462 -0.160834\n",
       "    three -0.631289 -0.199334\n",
       "    two   -1.482181 -0.274322\n",
       "foo one   -0.151545 -1.533765\n",
       "    three  0.777468  0.096429\n",
       "    two    0.299266  3.400010"
      ]
     },
     "execution_count": 139,
     "metadata": {},
     "output_type": "execute_result"
    }
   ],
   "source": [
    "df.groupby(['A','B']).sum()"
   ]
  },
  {
   "cell_type": "markdown",
   "metadata": {},
   "source": [
    "### 1.1.8 변형\n",
    "\n",
    "#### 1.1.8.1 스택"
   ]
  },
  {
   "cell_type": "code",
   "execution_count": 142,
   "metadata": {
    "collapsed": true
   },
   "outputs": [],
   "source": [
    "tuples = list(zip(*[['bar', 'bar', 'baz', 'baz',\n",
    "                     'foo', 'foo', 'qux', 'qux'],\n",
    "                    ['one', 'two', 'one', 'two',\n",
    "                     'one', 'two', 'one', 'two']]))"
   ]
  },
  {
   "cell_type": "code",
   "execution_count": 143,
   "metadata": {
    "collapsed": false
   },
   "outputs": [
    {
     "data": {
      "text/plain": [
       "[('bar', 'one'),\n",
       " ('bar', 'two'),\n",
       " ('baz', 'one'),\n",
       " ('baz', 'two'),\n",
       " ('foo', 'one'),\n",
       " ('foo', 'two'),\n",
       " ('qux', 'one'),\n",
       " ('qux', 'two')]"
      ]
     },
     "execution_count": 143,
     "metadata": {},
     "output_type": "execute_result"
    }
   ],
   "source": [
    "tuples"
   ]
  },
  {
   "cell_type": "code",
   "execution_count": 150,
   "metadata": {
    "collapsed": true
   },
   "outputs": [],
   "source": [
    "index = pd.MultiIndex.from_tuples(tuples, names=['first', 'second'])"
   ]
  },
  {
   "cell_type": "code",
   "execution_count": 151,
   "metadata": {
    "collapsed": false
   },
   "outputs": [
    {
     "data": {
      "text/plain": [
       "MultiIndex(levels=[['bar', 'baz', 'foo', 'qux'], ['one', 'two']],\n",
       "           labels=[[0, 0, 1, 1, 2, 2, 3, 3], [0, 1, 0, 1, 0, 1, 0, 1]],\n",
       "           names=['first', 'second'])"
      ]
     },
     "execution_count": 151,
     "metadata": {},
     "output_type": "execute_result"
    }
   ],
   "source": [
    "index"
   ]
  },
  {
   "cell_type": "code",
   "execution_count": 152,
   "metadata": {
    "collapsed": true
   },
   "outputs": [],
   "source": [
    "df = pd.DataFrame(np.random.randn(8, 2), index=index, columns=['A', 'B'])"
   ]
  },
  {
   "cell_type": "code",
   "execution_count": 155,
   "metadata": {
    "collapsed": true
   },
   "outputs": [],
   "source": [
    "df2 = df[:4]"
   ]
  },
  {
   "cell_type": "code",
   "execution_count": 154,
   "metadata": {
    "collapsed": false
   },
   "outputs": [
    {
     "data": {
      "text/html": [
       "<div>\n",
       "<table border=\"1\" class=\"dataframe\">\n",
       "  <thead>\n",
       "    <tr style=\"text-align: right;\">\n",
       "      <th></th>\n",
       "      <th></th>\n",
       "      <th>A</th>\n",
       "      <th>B</th>\n",
       "    </tr>\n",
       "    <tr>\n",
       "      <th>first</th>\n",
       "      <th>second</th>\n",
       "      <th></th>\n",
       "      <th></th>\n",
       "    </tr>\n",
       "  </thead>\n",
       "  <tbody>\n",
       "    <tr>\n",
       "      <th rowspan=\"2\" valign=\"top\">bar</th>\n",
       "      <th>one</th>\n",
       "      <td>-1.226978</td>\n",
       "      <td>-0.588804</td>\n",
       "    </tr>\n",
       "    <tr>\n",
       "      <th>two</th>\n",
       "      <td>0.312904</td>\n",
       "      <td>-1.145825</td>\n",
       "    </tr>\n",
       "    <tr>\n",
       "      <th rowspan=\"2\" valign=\"top\">baz</th>\n",
       "      <th>one</th>\n",
       "      <td>-0.630332</td>\n",
       "      <td>0.416828</td>\n",
       "    </tr>\n",
       "    <tr>\n",
       "      <th>two</th>\n",
       "      <td>-2.015849</td>\n",
       "      <td>0.268414</td>\n",
       "    </tr>\n",
       "  </tbody>\n",
       "</table>\n",
       "</div>"
      ],
      "text/plain": [
       "                     A         B\n",
       "first second                    \n",
       "bar   one    -1.226978 -0.588804\n",
       "      two     0.312904 -1.145825\n",
       "baz   one    -0.630332  0.416828\n",
       "      two    -2.015849  0.268414"
      ]
     },
     "execution_count": 154,
     "metadata": {},
     "output_type": "execute_result"
    }
   ],
   "source": [
    "df2"
   ]
  },
  {
   "cell_type": "code",
   "execution_count": 160,
   "metadata": {
    "collapsed": true
   },
   "outputs": [],
   "source": [
    "#colume 을 index화 \n",
    "stacked = df2.stack()"
   ]
  },
  {
   "cell_type": "code",
   "execution_count": 159,
   "metadata": {
    "collapsed": false
   },
   "outputs": [
    {
     "data": {
      "text/plain": [
       "first  second   \n",
       "bar    one     A   -1.226978\n",
       "               B   -0.588804\n",
       "       two     A    0.312904\n",
       "               B   -1.145825\n",
       "baz    one     A   -0.630332\n",
       "               B    0.416828\n",
       "       two     A   -2.015849\n",
       "               B    0.268414\n",
       "dtype: float64"
      ]
     },
     "execution_count": 159,
     "metadata": {},
     "output_type": "execute_result"
    }
   ],
   "source": [
    "stacked"
   ]
  },
  {
   "cell_type": "code",
   "execution_count": 168,
   "metadata": {
    "collapsed": false
   },
   "outputs": [
    {
     "data": {
      "text/plain": [
       "pandas.core.series.Series"
      ]
     },
     "execution_count": 168,
     "metadata": {},
     "output_type": "execute_result"
    }
   ],
   "source": [
    "type(stacked)"
   ]
  },
  {
   "cell_type": "code",
   "execution_count": 169,
   "metadata": {
    "collapsed": false,
    "deletable": true,
    "editable": true
   },
   "outputs": [
    {
     "data": {
      "text/plain": [
       "MultiIndex(levels=[['bar', 'baz', 'foo', 'qux'], ['one', 'two'], ['A', 'B']],\n",
       "           labels=[[0, 0, 0, 0, 1, 1, 1, 1], [0, 0, 1, 1, 0, 0, 1, 1], [0, 1, 0, 1, 0, 1, 0, 1]],\n",
       "           names=['first', 'second', None])"
      ]
     },
     "execution_count": 169,
     "metadata": {},
     "output_type": "execute_result"
    }
   ],
   "source": [
    "stacked.index"
   ]
  },
  {
   "cell_type": "code",
   "execution_count": 173,
   "metadata": {
    "collapsed": false,
    "deletable": true,
    "editable": true
   },
   "outputs": [
    {
     "data": {
      "text/plain": [
       "pandas.core.frame.DataFrame"
      ]
     },
     "execution_count": 173,
     "metadata": {},
     "output_type": "execute_result"
    }
   ],
   "source": [
    "type(stacked.unstack())"
   ]
  },
  {
   "cell_type": "code",
   "execution_count": 179,
   "metadata": {
    "collapsed": false
   },
   "outputs": [
    {
     "data": {
      "text/plain": [
       "first  second   \n",
       "bar    one     A   -1.226978\n",
       "               B   -0.588804\n",
       "       two     A    0.312904\n",
       "               B   -1.145825\n",
       "baz    one     A   -0.630332\n",
       "               B    0.416828\n",
       "       two     A   -2.015849\n",
       "               B    0.268414\n",
       "dtype: float64"
      ]
     },
     "execution_count": 179,
     "metadata": {},
     "output_type": "execute_result"
    }
   ],
   "source": [
    "stacked"
   ]
  },
  {
   "cell_type": "code",
   "execution_count": 178,
   "metadata": {
    "collapsed": false
   },
   "outputs": [
    {
     "data": {
      "text/html": [
       "<div>\n",
       "<table border=\"1\" class=\"dataframe\">\n",
       "  <thead>\n",
       "    <tr style=\"text-align: right;\">\n",
       "      <th></th>\n",
       "      <th></th>\n",
       "      <th>A</th>\n",
       "      <th>B</th>\n",
       "    </tr>\n",
       "    <tr>\n",
       "      <th>first</th>\n",
       "      <th>second</th>\n",
       "      <th></th>\n",
       "      <th></th>\n",
       "    </tr>\n",
       "  </thead>\n",
       "  <tbody>\n",
       "    <tr>\n",
       "      <th rowspan=\"2\" valign=\"top\">bar</th>\n",
       "      <th>one</th>\n",
       "      <td>-1.226978</td>\n",
       "      <td>-0.588804</td>\n",
       "    </tr>\n",
       "    <tr>\n",
       "      <th>two</th>\n",
       "      <td>0.312904</td>\n",
       "      <td>-1.145825</td>\n",
       "    </tr>\n",
       "    <tr>\n",
       "      <th rowspan=\"2\" valign=\"top\">baz</th>\n",
       "      <th>one</th>\n",
       "      <td>-0.630332</td>\n",
       "      <td>0.416828</td>\n",
       "    </tr>\n",
       "    <tr>\n",
       "      <th>two</th>\n",
       "      <td>-2.015849</td>\n",
       "      <td>0.268414</td>\n",
       "    </tr>\n",
       "  </tbody>\n",
       "</table>\n",
       "</div>"
      ],
      "text/plain": [
       "                     A         B\n",
       "first second                    \n",
       "bar   one    -1.226978 -0.588804\n",
       "      two     0.312904 -1.145825\n",
       "baz   one    -0.630332  0.416828\n",
       "      two    -2.015849  0.268414"
      ]
     },
     "execution_count": 178,
     "metadata": {},
     "output_type": "execute_result"
    }
   ],
   "source": [
    "stacked.unstack()"
   ]
  },
  {
   "cell_type": "code",
   "execution_count": 176,
   "metadata": {
    "collapsed": false,
    "deletable": true,
    "editable": true
   },
   "outputs": [
    {
     "data": {
      "text/html": [
       "<div>\n",
       "<table border=\"1\" class=\"dataframe\">\n",
       "  <thead>\n",
       "    <tr style=\"text-align: right;\">\n",
       "      <th></th>\n",
       "      <th>second</th>\n",
       "      <th>one</th>\n",
       "      <th>two</th>\n",
       "    </tr>\n",
       "    <tr>\n",
       "      <th>first</th>\n",
       "      <th></th>\n",
       "      <th></th>\n",
       "      <th></th>\n",
       "    </tr>\n",
       "  </thead>\n",
       "  <tbody>\n",
       "    <tr>\n",
       "      <th rowspan=\"2\" valign=\"top\">bar</th>\n",
       "      <th>A</th>\n",
       "      <td>-1.226978</td>\n",
       "      <td>0.312904</td>\n",
       "    </tr>\n",
       "    <tr>\n",
       "      <th>B</th>\n",
       "      <td>-0.588804</td>\n",
       "      <td>-1.145825</td>\n",
       "    </tr>\n",
       "    <tr>\n",
       "      <th rowspan=\"2\" valign=\"top\">baz</th>\n",
       "      <th>A</th>\n",
       "      <td>-0.630332</td>\n",
       "      <td>-2.015849</td>\n",
       "    </tr>\n",
       "    <tr>\n",
       "      <th>B</th>\n",
       "      <td>0.416828</td>\n",
       "      <td>0.268414</td>\n",
       "    </tr>\n",
       "  </tbody>\n",
       "</table>\n",
       "</div>"
      ],
      "text/plain": [
       "second        one       two\n",
       "first                      \n",
       "bar   A -1.226978  0.312904\n",
       "      B -0.588804 -1.145825\n",
       "baz   A -0.630332 -2.015849\n",
       "      B  0.416828  0.268414"
      ]
     },
     "execution_count": 176,
     "metadata": {},
     "output_type": "execute_result"
    }
   ],
   "source": [
    "stacked.unstack(1)"
   ]
  },
  {
   "cell_type": "code",
   "execution_count": 177,
   "metadata": {
    "collapsed": false,
    "deletable": true,
    "editable": true
   },
   "outputs": [
    {
     "data": {
      "text/html": [
       "<div>\n",
       "<table border=\"1\" class=\"dataframe\">\n",
       "  <thead>\n",
       "    <tr style=\"text-align: right;\">\n",
       "      <th></th>\n",
       "      <th></th>\n",
       "      <th>A</th>\n",
       "      <th>B</th>\n",
       "    </tr>\n",
       "    <tr>\n",
       "      <th>first</th>\n",
       "      <th>second</th>\n",
       "      <th></th>\n",
       "      <th></th>\n",
       "    </tr>\n",
       "  </thead>\n",
       "  <tbody>\n",
       "    <tr>\n",
       "      <th rowspan=\"2\" valign=\"top\">bar</th>\n",
       "      <th>one</th>\n",
       "      <td>-1.226978</td>\n",
       "      <td>-0.588804</td>\n",
       "    </tr>\n",
       "    <tr>\n",
       "      <th>two</th>\n",
       "      <td>0.312904</td>\n",
       "      <td>-1.145825</td>\n",
       "    </tr>\n",
       "    <tr>\n",
       "      <th rowspan=\"2\" valign=\"top\">baz</th>\n",
       "      <th>one</th>\n",
       "      <td>-0.630332</td>\n",
       "      <td>0.416828</td>\n",
       "    </tr>\n",
       "    <tr>\n",
       "      <th>two</th>\n",
       "      <td>-2.015849</td>\n",
       "      <td>0.268414</td>\n",
       "    </tr>\n",
       "  </tbody>\n",
       "</table>\n",
       "</div>"
      ],
      "text/plain": [
       "                     A         B\n",
       "first second                    \n",
       "bar   one    -1.226978 -0.588804\n",
       "      two     0.312904 -1.145825\n",
       "baz   one    -0.630332  0.416828\n",
       "      two    -2.015849  0.268414"
      ]
     },
     "execution_count": 177,
     "metadata": {},
     "output_type": "execute_result"
    }
   ],
   "source": [
    "stacked.unstack(2)"
   ]
  },
  {
   "cell_type": "markdown",
   "metadata": {},
   "source": [
    "#### 1.1.8.2 피벗테이블"
   ]
  },
  {
   "cell_type": "code",
   "execution_count": 180,
   "metadata": {
    "collapsed": true
   },
   "outputs": [],
   "source": [
    "df = pd.DataFrame({'A' : ['one', 'one', 'two', 'three'] * 3,\n",
    "                   'B' : ['A', 'B', 'C'] * 4,\n",
    "                   'C' : ['foo', 'foo', 'foo', 'bar', 'bar', 'bar'] * 2,\n",
    "                   'D' : np.random.randn(12),\n",
    "                   'E' : np.random.randn(12)})"
   ]
  },
  {
   "cell_type": "code",
   "execution_count": 181,
   "metadata": {
    "collapsed": false
   },
   "outputs": [
    {
     "data": {
      "text/html": [
       "<div>\n",
       "<table border=\"1\" class=\"dataframe\">\n",
       "  <thead>\n",
       "    <tr style=\"text-align: right;\">\n",
       "      <th></th>\n",
       "      <th>A</th>\n",
       "      <th>B</th>\n",
       "      <th>C</th>\n",
       "      <th>D</th>\n",
       "      <th>E</th>\n",
       "    </tr>\n",
       "  </thead>\n",
       "  <tbody>\n",
       "    <tr>\n",
       "      <th>0</th>\n",
       "      <td>one</td>\n",
       "      <td>A</td>\n",
       "      <td>foo</td>\n",
       "      <td>0.903340</td>\n",
       "      <td>1.685602</td>\n",
       "    </tr>\n",
       "    <tr>\n",
       "      <th>1</th>\n",
       "      <td>one</td>\n",
       "      <td>B</td>\n",
       "      <td>foo</td>\n",
       "      <td>-0.178234</td>\n",
       "      <td>1.243797</td>\n",
       "    </tr>\n",
       "    <tr>\n",
       "      <th>2</th>\n",
       "      <td>two</td>\n",
       "      <td>C</td>\n",
       "      <td>foo</td>\n",
       "      <td>0.689454</td>\n",
       "      <td>-1.074550</td>\n",
       "    </tr>\n",
       "    <tr>\n",
       "      <th>3</th>\n",
       "      <td>three</td>\n",
       "      <td>A</td>\n",
       "      <td>bar</td>\n",
       "      <td>-0.448592</td>\n",
       "      <td>-0.521273</td>\n",
       "    </tr>\n",
       "    <tr>\n",
       "      <th>4</th>\n",
       "      <td>one</td>\n",
       "      <td>B</td>\n",
       "      <td>bar</td>\n",
       "      <td>0.659550</td>\n",
       "      <td>1.052371</td>\n",
       "    </tr>\n",
       "    <tr>\n",
       "      <th>5</th>\n",
       "      <td>one</td>\n",
       "      <td>C</td>\n",
       "      <td>bar</td>\n",
       "      <td>1.270927</td>\n",
       "      <td>-0.037973</td>\n",
       "    </tr>\n",
       "    <tr>\n",
       "      <th>6</th>\n",
       "      <td>two</td>\n",
       "      <td>A</td>\n",
       "      <td>foo</td>\n",
       "      <td>-0.430827</td>\n",
       "      <td>0.603310</td>\n",
       "    </tr>\n",
       "    <tr>\n",
       "      <th>7</th>\n",
       "      <td>three</td>\n",
       "      <td>B</td>\n",
       "      <td>foo</td>\n",
       "      <td>1.013929</td>\n",
       "      <td>0.045494</td>\n",
       "    </tr>\n",
       "    <tr>\n",
       "      <th>8</th>\n",
       "      <td>one</td>\n",
       "      <td>C</td>\n",
       "      <td>foo</td>\n",
       "      <td>-0.990626</td>\n",
       "      <td>0.272078</td>\n",
       "    </tr>\n",
       "    <tr>\n",
       "      <th>9</th>\n",
       "      <td>one</td>\n",
       "      <td>A</td>\n",
       "      <td>bar</td>\n",
       "      <td>0.766368</td>\n",
       "      <td>-0.876974</td>\n",
       "    </tr>\n",
       "    <tr>\n",
       "      <th>10</th>\n",
       "      <td>two</td>\n",
       "      <td>B</td>\n",
       "      <td>bar</td>\n",
       "      <td>-0.604096</td>\n",
       "      <td>-0.068913</td>\n",
       "    </tr>\n",
       "    <tr>\n",
       "      <th>11</th>\n",
       "      <td>three</td>\n",
       "      <td>C</td>\n",
       "      <td>bar</td>\n",
       "      <td>-2.237955</td>\n",
       "      <td>1.099189</td>\n",
       "    </tr>\n",
       "  </tbody>\n",
       "</table>\n",
       "</div>"
      ],
      "text/plain": [
       "        A  B    C         D         E\n",
       "0     one  A  foo  0.903340  1.685602\n",
       "1     one  B  foo -0.178234  1.243797\n",
       "2     two  C  foo  0.689454 -1.074550\n",
       "3   three  A  bar -0.448592 -0.521273\n",
       "4     one  B  bar  0.659550  1.052371\n",
       "5     one  C  bar  1.270927 -0.037973\n",
       "6     two  A  foo -0.430827  0.603310\n",
       "7   three  B  foo  1.013929  0.045494\n",
       "8     one  C  foo -0.990626  0.272078\n",
       "9     one  A  bar  0.766368 -0.876974\n",
       "10    two  B  bar -0.604096 -0.068913\n",
       "11  three  C  bar -2.237955  1.099189"
      ]
     },
     "execution_count": 181,
     "metadata": {},
     "output_type": "execute_result"
    }
   ],
   "source": [
    "df"
   ]
  },
  {
   "cell_type": "code",
   "execution_count": 182,
   "metadata": {
    "collapsed": false
   },
   "outputs": [
    {
     "data": {
      "text/html": [
       "<div>\n",
       "<table border=\"1\" class=\"dataframe\">\n",
       "  <thead>\n",
       "    <tr style=\"text-align: right;\">\n",
       "      <th></th>\n",
       "      <th>C</th>\n",
       "      <th>bar</th>\n",
       "      <th>foo</th>\n",
       "    </tr>\n",
       "    <tr>\n",
       "      <th>A</th>\n",
       "      <th>B</th>\n",
       "      <th></th>\n",
       "      <th></th>\n",
       "    </tr>\n",
       "  </thead>\n",
       "  <tbody>\n",
       "    <tr>\n",
       "      <th rowspan=\"3\" valign=\"top\">one</th>\n",
       "      <th>A</th>\n",
       "      <td>0.766368</td>\n",
       "      <td>0.903340</td>\n",
       "    </tr>\n",
       "    <tr>\n",
       "      <th>B</th>\n",
       "      <td>0.659550</td>\n",
       "      <td>-0.178234</td>\n",
       "    </tr>\n",
       "    <tr>\n",
       "      <th>C</th>\n",
       "      <td>1.270927</td>\n",
       "      <td>-0.990626</td>\n",
       "    </tr>\n",
       "    <tr>\n",
       "      <th rowspan=\"3\" valign=\"top\">three</th>\n",
       "      <th>A</th>\n",
       "      <td>-0.448592</td>\n",
       "      <td>NaN</td>\n",
       "    </tr>\n",
       "    <tr>\n",
       "      <th>B</th>\n",
       "      <td>NaN</td>\n",
       "      <td>1.013929</td>\n",
       "    </tr>\n",
       "    <tr>\n",
       "      <th>C</th>\n",
       "      <td>-2.237955</td>\n",
       "      <td>NaN</td>\n",
       "    </tr>\n",
       "    <tr>\n",
       "      <th rowspan=\"3\" valign=\"top\">two</th>\n",
       "      <th>A</th>\n",
       "      <td>NaN</td>\n",
       "      <td>-0.430827</td>\n",
       "    </tr>\n",
       "    <tr>\n",
       "      <th>B</th>\n",
       "      <td>-0.604096</td>\n",
       "      <td>NaN</td>\n",
       "    </tr>\n",
       "    <tr>\n",
       "      <th>C</th>\n",
       "      <td>NaN</td>\n",
       "      <td>0.689454</td>\n",
       "    </tr>\n",
       "  </tbody>\n",
       "</table>\n",
       "</div>"
      ],
      "text/plain": [
       "C             bar       foo\n",
       "A     B                    \n",
       "one   A  0.766368  0.903340\n",
       "      B  0.659550 -0.178234\n",
       "      C  1.270927 -0.990626\n",
       "three A -0.448592       NaN\n",
       "      B       NaN  1.013929\n",
       "      C -2.237955       NaN\n",
       "two   A       NaN -0.430827\n",
       "      B -0.604096       NaN\n",
       "      C       NaN  0.689454"
      ]
     },
     "execution_count": 182,
     "metadata": {},
     "output_type": "execute_result"
    }
   ],
   "source": [
    "pd.pivot_table(df, values='D', index=['A','B'], columns=['C'])"
   ]
  },
  {
   "cell_type": "markdown",
   "metadata": {},
   "source": [
    "### 1.1.9 시계열"
   ]
  },
  {
   "cell_type": "code",
   "execution_count": 195,
   "metadata": {
    "collapsed": true
   },
   "outputs": [],
   "source": [
    "rng = pd.date_range('1/1/2012', periods=100, freq='S')"
   ]
  },
  {
   "cell_type": "code",
   "execution_count": 197,
   "metadata": {
    "collapsed": true
   },
   "outputs": [],
   "source": [
    "ts = pd.Series(np.random.randint(0,500,len(rng)), index=rng)"
   ]
  },
  {
   "cell_type": "code",
   "execution_count": 198,
   "metadata": {
    "collapsed": false
   },
   "outputs": [
    {
     "data": {
      "text/plain": [
       "2012-01-01    24188\n",
       "Freq: 5T, dtype: int32"
      ]
     },
     "execution_count": 198,
     "metadata": {},
     "output_type": "execute_result"
    }
   ],
   "source": [
    "ts.resample('5Min').sum()"
   ]
  },
  {
   "cell_type": "code",
   "execution_count": 200,
   "metadata": {
    "collapsed": true
   },
   "outputs": [],
   "source": [
    "rng = pd.date_range('3/6/2012 00:00', periods=5, freq='D')"
   ]
  },
  {
   "cell_type": "code",
   "execution_count": 203,
   "metadata": {
    "collapsed": true
   },
   "outputs": [],
   "source": [
    "ts = pd.Series(np.random.randn(len(rng)), rng)"
   ]
  },
  {
   "cell_type": "code",
   "execution_count": 204,
   "metadata": {
    "collapsed": false,
    "scrolled": true
   },
   "outputs": [
    {
     "data": {
      "text/plain": [
       "DatetimeIndex(['2012-03-06', '2012-03-07', '2012-03-08', '2012-03-09',\n",
       "               '2012-03-10'],\n",
       "              dtype='datetime64[ns]', freq='D')"
      ]
     },
     "execution_count": 204,
     "metadata": {},
     "output_type": "execute_result"
    }
   ],
   "source": [
    "rng"
   ]
  },
  {
   "cell_type": "code",
   "execution_count": 207,
   "metadata": {
    "collapsed": false
   },
   "outputs": [
    {
     "data": {
      "text/plain": [
       "2012-03-06    1.179948\n",
       "2012-03-07    1.527820\n",
       "2012-03-08   -0.945161\n",
       "2012-03-09    0.444841\n",
       "2012-03-10    0.785361\n",
       "Freq: D, dtype: float64"
      ]
     },
     "execution_count": 207,
     "metadata": {},
     "output_type": "execute_result"
    }
   ],
   "source": [
    "ts"
   ]
  },
  {
   "cell_type": "code",
   "execution_count": 209,
   "metadata": {
    "collapsed": true
   },
   "outputs": [],
   "source": [
    "ts_utc = ts.tz_localize('UTC')"
   ]
  },
  {
   "cell_type": "code",
   "execution_count": 210,
   "metadata": {
    "collapsed": false
   },
   "outputs": [
    {
     "data": {
      "text/plain": [
       "2012-03-06 00:00:00+00:00    1.179948\n",
       "2012-03-07 00:00:00+00:00    1.527820\n",
       "2012-03-08 00:00:00+00:00   -0.945161\n",
       "2012-03-09 00:00:00+00:00    0.444841\n",
       "2012-03-10 00:00:00+00:00    0.785361\n",
       "Freq: D, dtype: float64"
      ]
     },
     "execution_count": 210,
     "metadata": {},
     "output_type": "execute_result"
    }
   ],
   "source": [
    "ts_utc"
   ]
  },
  {
   "cell_type": "code",
   "execution_count": 211,
   "metadata": {
    "collapsed": false
   },
   "outputs": [
    {
     "data": {
      "text/plain": [
       "2012-03-05 19:00:00-05:00    1.179948\n",
       "2012-03-06 19:00:00-05:00    1.527820\n",
       "2012-03-07 19:00:00-05:00   -0.945161\n",
       "2012-03-08 19:00:00-05:00    0.444841\n",
       "2012-03-09 19:00:00-05:00    0.785361\n",
       "Freq: D, dtype: float64"
      ]
     },
     "execution_count": 211,
     "metadata": {},
     "output_type": "execute_result"
    }
   ],
   "source": [
    "ts_utc.tz_convert('US/Eastern')"
   ]
  },
  {
   "cell_type": "code",
   "execution_count": 214,
   "metadata": {
    "collapsed": false
   },
   "outputs": [],
   "source": [
    "rng = pd.date_range('1/1/2012', periods=5, freq = 'M')"
   ]
  },
  {
   "cell_type": "code",
   "execution_count": 215,
   "metadata": {
    "collapsed": true
   },
   "outputs": [],
   "source": [
    "ts = pd.Series(np.random.randn(len(rng)), index=rng)"
   ]
  },
  {
   "cell_type": "code",
   "execution_count": 216,
   "metadata": {
    "collapsed": false
   },
   "outputs": [
    {
     "data": {
      "text/plain": [
       "2012-01-31    0.961946\n",
       "2012-02-29    0.589954\n",
       "2012-03-31   -1.193181\n",
       "2012-04-30   -1.867570\n",
       "2012-05-31    1.230303\n",
       "Freq: M, dtype: float64"
      ]
     },
     "execution_count": 216,
     "metadata": {},
     "output_type": "execute_result"
    }
   ],
   "source": [
    "ts"
   ]
  },
  {
   "cell_type": "code",
   "execution_count": 217,
   "metadata": {
    "collapsed": true
   },
   "outputs": [],
   "source": [
    "ps = ts.to_period()"
   ]
  },
  {
   "cell_type": "code",
   "execution_count": 218,
   "metadata": {
    "collapsed": false
   },
   "outputs": [
    {
     "data": {
      "text/plain": [
       "2012-01    0.961946\n",
       "2012-02    0.589954\n",
       "2012-03   -1.193181\n",
       "2012-04   -1.867570\n",
       "2012-05    1.230303\n",
       "Freq: M, dtype: float64"
      ]
     },
     "execution_count": 218,
     "metadata": {},
     "output_type": "execute_result"
    }
   ],
   "source": [
    "ps"
   ]
  },
  {
   "cell_type": "code",
   "execution_count": 219,
   "metadata": {
    "collapsed": false
   },
   "outputs": [
    {
     "data": {
      "text/plain": [
       "2012-01-01    0.961946\n",
       "2012-02-01    0.589954\n",
       "2012-03-01   -1.193181\n",
       "2012-04-01   -1.867570\n",
       "2012-05-01    1.230303\n",
       "Freq: MS, dtype: float64"
      ]
     },
     "execution_count": 219,
     "metadata": {},
     "output_type": "execute_result"
    }
   ],
   "source": [
    "ps.to_timestamp()"
   ]
  },
  {
   "cell_type": "code",
   "execution_count": 220,
   "metadata": {
    "collapsed": true
   },
   "outputs": [],
   "source": [
    " prng = pd.period_range('1990Q1', '2000Q4', freq='Q-NOV')"
   ]
  },
  {
   "cell_type": "code",
   "execution_count": 227,
   "metadata": {
    "collapsed": true
   },
   "outputs": [],
   "source": [
    "ts = pd.Series(np.random.randn(len(prng)), prng)"
   ]
  },
  {
   "cell_type": "code",
   "execution_count": 222,
   "metadata": {
    "collapsed": true
   },
   "outputs": [],
   "source": [
    "ts.index = (prng.asfreq('M', 'e') + 1).asfreq('H', 's') + 9"
   ]
  },
  {
   "cell_type": "code",
   "execution_count": 236,
   "metadata": {
    "collapsed": false
   },
   "outputs": [
    {
     "data": {
      "text/plain": [
       "1990-03-01 09:00    0.537332\n",
       "1990-06-01 09:00   -1.137654\n",
       "1990-09-01 09:00    0.645125\n",
       "1990-12-01 09:00    0.700217\n",
       "1991-03-01 09:00    0.108896\n",
       "Freq: H, dtype: float64"
      ]
     },
     "execution_count": 236,
     "metadata": {},
     "output_type": "execute_result"
    }
   ],
   "source": [
    "ts.head()"
   ]
  },
  {
   "cell_type": "markdown",
   "metadata": {},
   "source": [
    "### 1.1.10 분류"
   ]
  },
  {
   "cell_type": "code",
   "execution_count": 237,
   "metadata": {
    "collapsed": true
   },
   "outputs": [],
   "source": [
    "df = pd.DataFrame({\"id\":[1,2,3,4,5,6], \"raw_grade\":['a', 'b', 'b', 'a', 'a', 'e']})"
   ]
  },
  {
   "cell_type": "code",
   "execution_count": 251,
   "metadata": {
    "collapsed": true
   },
   "outputs": [],
   "source": [
    "df[\"grade\"] = df[\"raw_grade\"].astype(\"category\")"
   ]
  },
  {
   "cell_type": "code",
   "execution_count": 252,
   "metadata": {
    "collapsed": false,
    "scrolled": true
   },
   "outputs": [
    {
     "data": {
      "text/plain": [
       "0    a\n",
       "1    b\n",
       "2    b\n",
       "3    a\n",
       "4    a\n",
       "5    e\n",
       "Name: grade, dtype: category\n",
       "Categories (3, object): [a, b, e]"
      ]
     },
     "execution_count": 252,
     "metadata": {},
     "output_type": "execute_result"
    }
   ],
   "source": [
    "df[\"grade\"]"
   ]
  },
  {
   "cell_type": "code",
   "execution_count": 253,
   "metadata": {
    "collapsed": false,
    "scrolled": false
   },
   "outputs": [],
   "source": [
    "df[\"grade\"].cat.categories = [\"very good\", \"good\", \"very bad\"]"
   ]
  },
  {
   "cell_type": "code",
   "execution_count": 259,
   "metadata": {
    "collapsed": false
   },
   "outputs": [
    {
     "data": {
      "text/plain": [
       "0    very good\n",
       "1         good\n",
       "2         good\n",
       "3    very good\n",
       "4    very good\n",
       "5     very bad\n",
       "Name: grade, dtype: category\n",
       "Categories (3, object): [very good, good, very bad]"
      ]
     },
     "execution_count": 259,
     "metadata": {},
     "output_type": "execute_result"
    }
   ],
   "source": [
    "df['grade']"
   ]
  },
  {
   "cell_type": "code",
   "execution_count": 260,
   "metadata": {
    "collapsed": false
   },
   "outputs": [
    {
     "data": {
      "text/html": [
       "<div>\n",
       "<table border=\"1\" class=\"dataframe\">\n",
       "  <thead>\n",
       "    <tr style=\"text-align: right;\">\n",
       "      <th></th>\n",
       "      <th>id</th>\n",
       "      <th>raw_grade</th>\n",
       "      <th>grades</th>\n",
       "      <th>grade</th>\n",
       "    </tr>\n",
       "  </thead>\n",
       "  <tbody>\n",
       "    <tr>\n",
       "      <th>0</th>\n",
       "      <td>1</td>\n",
       "      <td>a</td>\n",
       "      <td>a</td>\n",
       "      <td>very good</td>\n",
       "    </tr>\n",
       "    <tr>\n",
       "      <th>1</th>\n",
       "      <td>2</td>\n",
       "      <td>b</td>\n",
       "      <td>b</td>\n",
       "      <td>good</td>\n",
       "    </tr>\n",
       "    <tr>\n",
       "      <th>2</th>\n",
       "      <td>3</td>\n",
       "      <td>b</td>\n",
       "      <td>b</td>\n",
       "      <td>good</td>\n",
       "    </tr>\n",
       "    <tr>\n",
       "      <th>3</th>\n",
       "      <td>4</td>\n",
       "      <td>a</td>\n",
       "      <td>a</td>\n",
       "      <td>very good</td>\n",
       "    </tr>\n",
       "    <tr>\n",
       "      <th>4</th>\n",
       "      <td>5</td>\n",
       "      <td>a</td>\n",
       "      <td>a</td>\n",
       "      <td>very good</td>\n",
       "    </tr>\n",
       "    <tr>\n",
       "      <th>5</th>\n",
       "      <td>6</td>\n",
       "      <td>e</td>\n",
       "      <td>e</td>\n",
       "      <td>very bad</td>\n",
       "    </tr>\n",
       "  </tbody>\n",
       "</table>\n",
       "</div>"
      ],
      "text/plain": [
       "   id raw_grade grades      grade\n",
       "0   1         a      a  very good\n",
       "1   2         b      b       good\n",
       "2   3         b      b       good\n",
       "3   4         a      a  very good\n",
       "4   5         a      a  very good\n",
       "5   6         e      e   very bad"
      ]
     },
     "execution_count": 260,
     "metadata": {},
     "output_type": "execute_result"
    }
   ],
   "source": [
    "df"
   ]
  },
  {
   "cell_type": "code",
   "execution_count": 261,
   "metadata": {
    "collapsed": false
   },
   "outputs": [
    {
     "data": {
      "text/plain": [
       "id              int64\n",
       "raw_grade      object\n",
       "grades       category\n",
       "grade        category\n",
       "dtype: object"
      ]
     },
     "execution_count": 261,
     "metadata": {},
     "output_type": "execute_result"
    }
   ],
   "source": [
    "df.dtypes"
   ]
  },
  {
   "cell_type": "code",
   "execution_count": 264,
   "metadata": {
    "collapsed": false
   },
   "outputs": [
    {
     "data": {
      "text/html": [
       "<div>\n",
       "<table border=\"1\" class=\"dataframe\">\n",
       "  <thead>\n",
       "    <tr style=\"text-align: right;\">\n",
       "      <th></th>\n",
       "      <th>id</th>\n",
       "      <th>raw_grade</th>\n",
       "      <th>grades</th>\n",
       "      <th>grade</th>\n",
       "    </tr>\n",
       "  </thead>\n",
       "  <tbody>\n",
       "    <tr>\n",
       "      <th>0</th>\n",
       "      <td>1</td>\n",
       "      <td>a</td>\n",
       "      <td>a</td>\n",
       "      <td>very good</td>\n",
       "    </tr>\n",
       "    <tr>\n",
       "      <th>3</th>\n",
       "      <td>4</td>\n",
       "      <td>a</td>\n",
       "      <td>a</td>\n",
       "      <td>very good</td>\n",
       "    </tr>\n",
       "    <tr>\n",
       "      <th>4</th>\n",
       "      <td>5</td>\n",
       "      <td>a</td>\n",
       "      <td>a</td>\n",
       "      <td>very good</td>\n",
       "    </tr>\n",
       "    <tr>\n",
       "      <th>1</th>\n",
       "      <td>2</td>\n",
       "      <td>b</td>\n",
       "      <td>b</td>\n",
       "      <td>good</td>\n",
       "    </tr>\n",
       "    <tr>\n",
       "      <th>2</th>\n",
       "      <td>3</td>\n",
       "      <td>b</td>\n",
       "      <td>b</td>\n",
       "      <td>good</td>\n",
       "    </tr>\n",
       "    <tr>\n",
       "      <th>5</th>\n",
       "      <td>6</td>\n",
       "      <td>e</td>\n",
       "      <td>e</td>\n",
       "      <td>very bad</td>\n",
       "    </tr>\n",
       "  </tbody>\n",
       "</table>\n",
       "</div>"
      ],
      "text/plain": [
       "   id raw_grade grades      grade\n",
       "0   1         a      a  very good\n",
       "3   4         a      a  very good\n",
       "4   5         a      a  very good\n",
       "1   2         b      b       good\n",
       "2   3         b      b       good\n",
       "5   6         e      e   very bad"
      ]
     },
     "execution_count": 264,
     "metadata": {},
     "output_type": "execute_result"
    }
   ],
   "source": [
    "df.sort_values(by='grade')"
   ]
  },
  {
   "cell_type": "code",
   "execution_count": 265,
   "metadata": {
    "collapsed": false
   },
   "outputs": [
    {
     "data": {
      "text/plain": [
       "grade\n",
       "very good    3\n",
       "good         2\n",
       "very bad     1\n",
       "dtype: int64"
      ]
     },
     "execution_count": 265,
     "metadata": {},
     "output_type": "execute_result"
    }
   ],
   "source": [
    "df.groupby(\"grade\").size()"
   ]
  },
  {
   "cell_type": "code",
   "execution_count": 266,
   "metadata": {
    "collapsed": false
   },
   "outputs": [
    {
     "data": {
      "text/plain": [
       "<pandas.core.groupby.DataFrameGroupBy object at 0x06616470>"
      ]
     },
     "execution_count": 266,
     "metadata": {},
     "output_type": "execute_result"
    }
   ],
   "source": [
    "df.groupby(\"grade\")"
   ]
  },
  {
   "cell_type": "markdown",
   "metadata": {},
   "source": [
    "### 1.1.11 그래프"
   ]
  },
  {
   "cell_type": "code",
   "execution_count": 270,
   "metadata": {
    "collapsed": true
   },
   "outputs": [],
   "source": [
    "ts = pd.Series(np.random.randn(1000), index=pd.date_range('1/1/2000', periods=1000))"
   ]
  },
  {
   "cell_type": "code",
   "execution_count": 274,
   "metadata": {
    "collapsed": false
   },
   "outputs": [],
   "source": [
    "ts = ts.cumsum()"
   ]
  },
  {
   "cell_type": "code",
   "execution_count": 295,
   "metadata": {
    "collapsed": false
   },
   "outputs": [
    {
     "data": {
      "text/plain": [
       "<matplotlib.axes._subplots.AxesSubplot at 0x6ca7190>"
      ]
     },
     "execution_count": 295,
     "metadata": {},
     "output_type": "execute_result"
    }
   ],
   "source": [
    "ts.plot()"
   ]
  },
  {
   "cell_type": "code",
   "execution_count": 277,
   "metadata": {
    "collapsed": false
   },
   "outputs": [
    {
     "ename": "SyntaxError",
     "evalue": "positional argument follows keyword argument (<ipython-input-277-00647c1e4509>, line 1)",
     "output_type": "error",
     "traceback": [
      "\u001b[1;36m  File \u001b[1;32m\"<ipython-input-277-00647c1e4509>\"\u001b[1;36m, line \u001b[1;32m1\u001b[0m\n\u001b[1;33m    df = DataFrame(np.random.randn(1000,4), index=ts, index, columns=['A', 'B', 'C', 'D'])\u001b[0m\n\u001b[1;37m                                                     ^\u001b[0m\n\u001b[1;31mSyntaxError\u001b[0m\u001b[1;31m:\u001b[0m positional argument follows keyword argument\n"
     ]
    }
   ],
   "source": [
    "df = DataFrame(np.random.randn(1000,4), index=ts, index, columns=['A', 'B', 'C', 'D'])"
   ]
  },
  {
   "cell_type": "code",
   "execution_count": 294,
   "metadata": {
    "collapsed": true
   },
   "outputs": [],
   "source": [
    "df = df.cumsum()"
   ]
  },
  {
   "cell_type": "code",
   "execution_count": 280,
   "metadata": {
    "collapsed": true
   },
   "outputs": [],
   "source": [
    "import matplotlib.pyplot as plt"
   ]
  },
  {
   "cell_type": "code",
   "execution_count": 292,
   "metadata": {
    "collapsed": false
   },
   "outputs": [
    {
     "data": {
      "text/plain": [
       "<matplotlib.figure.Figure at 0x6d5ca30>"
      ]
     },
     "execution_count": 292,
     "metadata": {},
     "output_type": "execute_result"
    }
   ],
   "source": [
    "plt.figure()"
   ]
  },
  {
   "cell_type": "code",
   "execution_count": 282,
   "metadata": {
    "collapsed": false
   },
   "outputs": [
    {
     "data": {
      "text/plain": [
       "<matplotlib.axes._subplots.AxesSubplot at 0x6591210>"
      ]
     },
     "execution_count": 282,
     "metadata": {},
     "output_type": "execute_result"
    }
   ],
   "source": [
    "df.plot()"
   ]
  },
  {
   "cell_type": "code",
   "execution_count": 289,
   "metadata": {
    "collapsed": false
   },
   "outputs": [
    {
     "name": "stderr",
     "output_type": "stream",
     "text": [
      "c:\\users\\74439\\appdata\\local\\programs\\python\\python36-32\\lib\\site-packages\\matplotlib\\axes\\_axes.py:545: UserWarning: No labelled objects found. Use label='...' kwarg on individual plots.\n",
      "  warnings.warn(\"No labelled objects found. \"\n"
     ]
    }
   ],
   "source": [
    "plt.legend(loc='best')"
   ]
  },
  {
   "cell_type": "code",
   "execution_count": 296,
   "metadata": {
    "collapsed": false,
    "deletable": true,
    "editable": true,
    "scrolled": false
   },
   "outputs": [
    {
     "data": {
      "image/png": "[encoded data removed]",
      "text/plain": [
       "<matplotlib.figure.Figure at 0x6d4a3f0>"
      ]
     },
     "metadata": {},
     "output_type": "display_data"
    }
   ],
   "source": [
    "plt.show()"
   ]
  },
  {
   "cell_type": "markdown",
   "metadata": {},
   "source": [
    "### 1.1.12 데이터 입출력"
   ]
  },
  {
   "cell_type": "markdown",
   "metadata": {},
   "source": [
    "### Gotchas"
   ]
  },
  {
   "cell_type": "markdown",
   "metadata": {
    "deletable": true,
    "editable": true
   },
   "source": [
    "## 1.2 전체 API 목록\n",
    "\n",
    "http://pandas.pydata.org/pandas-docs/stable/api.html"
   ]
  },
  {
   "cell_type": "markdown",
   "metadata": {
    "deletable": true,
    "editable": true
   },
   "source": [
    "### Input/Output\n",
    "- [read_json([path_or_buf, orient, typ, dtype, ...])](http://pandas.pydata.org/pandas-docs/stable/generated/pandas.read_json.html#pandas.read_json) : JSON을 Dataframe으로 변경\n",
    "- [json_normalize(data[, record_path, meta, ...])](http://pandas.pydata.org/pandas-docs/stable/generated/pandas.io.json.json_normalize.html#pandas.io.json.json_normalize) : semi-structured JSON을 Dataframe으로 변경\n",
    "- [read_html(io[, match, flavor, header, ...])](http://pandas.pydata.org/pandasdocs/stable/generated/pandas.read_html.html#pandas.read_html) : "
   ]
  },
  {
   "cell_type": "markdown",
   "metadata": {
    "deletable": true,
    "editable": true
   },
   "source": [
    "## 1.4 Usage\n",
    "### 1.4.1 Object 생성\n",
    "### 1.4.2 Viewing Data"
   ]
  },
  {
   "cell_type": "code",
   "execution_count": null,
   "metadata": {
    "collapsed": true,
    "deletable": true,
    "editable": true
   },
   "outputs": [],
   "source": [
    "import pandas as pd\n",
    "import pandas_datareader.data\n",
    "import requests\n",
    "import datetime"
   ]
  },
  {
   "cell_type": "code",
   "execution_count": 111,
   "metadata": {
    "collapsed": false,
    "deletable": true,
    "editable": true
   },
   "outputs": [
    {
     "data": {
      "text/html": [
       "<div>\n",
       "<table border=\"1\" class=\"dataframe\">\n",
       "  <thead>\n",
       "    <tr style=\"text-align: right;\">\n",
       "      <th></th>\n",
       "      <th>Open</th>\n",
       "      <th>High</th>\n",
       "      <th>Low</th>\n",
       "      <th>Close</th>\n",
       "      <th>Volume</th>\n",
       "      <th>Adj Close</th>\n",
       "    </tr>\n",
       "    <tr>\n",
       "      <th>Date</th>\n",
       "      <th></th>\n",
       "      <th></th>\n",
       "      <th></th>\n",
       "      <th></th>\n",
       "      <th></th>\n",
       "      <th></th>\n",
       "    </tr>\n",
       "  </thead>\n",
       "  <tbody>\n",
       "    <tr>\n",
       "      <th>2017-02-01</th>\n",
       "      <td>1977000.0</td>\n",
       "      <td>1983000.0</td>\n",
       "      <td>1952000.0</td>\n",
       "      <td>1956000.0</td>\n",
       "      <td>283000</td>\n",
       "      <td>1956000.0</td>\n",
       "    </tr>\n",
       "    <tr>\n",
       "      <th>2017-02-02</th>\n",
       "      <td>1980000.0</td>\n",
       "      <td>1983000.0</td>\n",
       "      <td>1960000.0</td>\n",
       "      <td>1968000.0</td>\n",
       "      <td>300500</td>\n",
       "      <td>1968000.0</td>\n",
       "    </tr>\n",
       "    <tr>\n",
       "      <th>2017-02-03</th>\n",
       "      <td>1970000.0</td>\n",
       "      <td>1975000.0</td>\n",
       "      <td>1959000.0</td>\n",
       "      <td>1973000.0</td>\n",
       "      <td>207700</td>\n",
       "      <td>1973000.0</td>\n",
       "    </tr>\n",
       "    <tr>\n",
       "      <th>2017-02-06</th>\n",
       "      <td>1979000.0</td>\n",
       "      <td>1983000.0</td>\n",
       "      <td>1957000.0</td>\n",
       "      <td>1978000.0</td>\n",
       "      <td>177200</td>\n",
       "      <td>1978000.0</td>\n",
       "    </tr>\n",
       "    <tr>\n",
       "      <th>2017-02-07</th>\n",
       "      <td>1978000.0</td>\n",
       "      <td>1979000.0</td>\n",
       "      <td>1938000.0</td>\n",
       "      <td>1941000.0</td>\n",
       "      <td>280800</td>\n",
       "      <td>1941000.0</td>\n",
       "    </tr>\n",
       "    <tr>\n",
       "      <th>2017-02-08</th>\n",
       "      <td>1937000.0</td>\n",
       "      <td>1939000.0</td>\n",
       "      <td>1910000.0</td>\n",
       "      <td>1920000.0</td>\n",
       "      <td>341800</td>\n",
       "      <td>1920000.0</td>\n",
       "    </tr>\n",
       "    <tr>\n",
       "      <th>2017-02-09</th>\n",
       "      <td>1939000.0</td>\n",
       "      <td>1942000.0</td>\n",
       "      <td>1911000.0</td>\n",
       "      <td>1920000.0</td>\n",
       "      <td>273800</td>\n",
       "      <td>1920000.0</td>\n",
       "    </tr>\n",
       "    <tr>\n",
       "      <th>2017-02-10</th>\n",
       "      <td>1920000.0</td>\n",
       "      <td>1938000.0</td>\n",
       "      <td>1915000.0</td>\n",
       "      <td>1918000.0</td>\n",
       "      <td>220400</td>\n",
       "      <td>1918000.0</td>\n",
       "    </tr>\n",
       "    <tr>\n",
       "      <th>2017-02-13</th>\n",
       "      <td>1887000.0</td>\n",
       "      <td>1903000.0</td>\n",
       "      <td>1886000.0</td>\n",
       "      <td>1898000.0</td>\n",
       "      <td>222000</td>\n",
       "      <td>1898000.0</td>\n",
       "    </tr>\n",
       "    <tr>\n",
       "      <th>2017-02-14</th>\n",
       "      <td>1898000.0</td>\n",
       "      <td>1913000.0</td>\n",
       "      <td>1866000.0</td>\n",
       "      <td>1879000.0</td>\n",
       "      <td>262400</td>\n",
       "      <td>1879000.0</td>\n",
       "    </tr>\n",
       "    <tr>\n",
       "      <th>2017-02-15</th>\n",
       "      <td>1854000.0</td>\n",
       "      <td>1898000.0</td>\n",
       "      <td>1854000.0</td>\n",
       "      <td>1886000.0</td>\n",
       "      <td>283800</td>\n",
       "      <td>1886000.0</td>\n",
       "    </tr>\n",
       "    <tr>\n",
       "      <th>2017-02-16</th>\n",
       "      <td>1890000.0</td>\n",
       "      <td>1918000.0</td>\n",
       "      <td>1889000.0</td>\n",
       "      <td>1901000.0</td>\n",
       "      <td>204500</td>\n",
       "      <td>1901000.0</td>\n",
       "    </tr>\n",
       "    <tr>\n",
       "      <th>2017-02-17</th>\n",
       "      <td>1878000.0</td>\n",
       "      <td>1902000.0</td>\n",
       "      <td>1864000.0</td>\n",
       "      <td>1893000.0</td>\n",
       "      <td>307500</td>\n",
       "      <td>1893000.0</td>\n",
       "    </tr>\n",
       "    <tr>\n",
       "      <th>2017-02-20</th>\n",
       "      <td>1911000.0</td>\n",
       "      <td>1939000.0</td>\n",
       "      <td>1908000.0</td>\n",
       "      <td>1933000.0</td>\n",
       "      <td>149700</td>\n",
       "      <td>1933000.0</td>\n",
       "    </tr>\n",
       "    <tr>\n",
       "      <th>2017-02-21</th>\n",
       "      <td>1927000.0</td>\n",
       "      <td>1978000.0</td>\n",
       "      <td>1921000.0</td>\n",
       "      <td>1947000.0</td>\n",
       "      <td>211200</td>\n",
       "      <td>1947000.0</td>\n",
       "    </tr>\n",
       "    <tr>\n",
       "      <th>2017-02-22</th>\n",
       "      <td>1950000.0</td>\n",
       "      <td>1967000.0</td>\n",
       "      <td>1949000.0</td>\n",
       "      <td>1965000.0</td>\n",
       "      <td>170700</td>\n",
       "      <td>1965000.0</td>\n",
       "    </tr>\n",
       "    <tr>\n",
       "      <th>2017-02-23</th>\n",
       "      <td>1951000.0</td>\n",
       "      <td>1972000.0</td>\n",
       "      <td>1951000.0</td>\n",
       "      <td>1959000.0</td>\n",
       "      <td>204300</td>\n",
       "      <td>1959000.0</td>\n",
       "    </tr>\n",
       "    <tr>\n",
       "      <th>2017-02-24</th>\n",
       "      <td>1948000.0</td>\n",
       "      <td>1955000.0</td>\n",
       "      <td>1903000.0</td>\n",
       "      <td>1911000.0</td>\n",
       "      <td>185900</td>\n",
       "      <td>1911000.0</td>\n",
       "    </tr>\n",
       "    <tr>\n",
       "      <th>2017-02-27</th>\n",
       "      <td>1901000.0</td>\n",
       "      <td>1907000.0</td>\n",
       "      <td>1885000.0</td>\n",
       "      <td>1903000.0</td>\n",
       "      <td>180600</td>\n",
       "      <td>1903000.0</td>\n",
       "    </tr>\n",
       "    <tr>\n",
       "      <th>2017-02-28</th>\n",
       "      <td>1903000.0</td>\n",
       "      <td>1938000.0</td>\n",
       "      <td>1898000.0</td>\n",
       "      <td>1922000.0</td>\n",
       "      <td>301700</td>\n",
       "      <td>1922000.0</td>\n",
       "    </tr>\n",
       "    <tr>\n",
       "      <th>2017-03-01</th>\n",
       "      <td>1922000.0</td>\n",
       "      <td>1922000.0</td>\n",
       "      <td>1922000.0</td>\n",
       "      <td>1922000.0</td>\n",
       "      <td>0</td>\n",
       "      <td>1922000.0</td>\n",
       "    </tr>\n",
       "    <tr>\n",
       "      <th>2017-03-02</th>\n",
       "      <td>1921000.0</td>\n",
       "      <td>1993000.0</td>\n",
       "      <td>1921000.0</td>\n",
       "      <td>1986000.0</td>\n",
       "      <td>424900</td>\n",
       "      <td>1986000.0</td>\n",
       "    </tr>\n",
       "    <tr>\n",
       "      <th>2017-03-03</th>\n",
       "      <td>1967000.0</td>\n",
       "      <td>1986000.0</td>\n",
       "      <td>1958000.0</td>\n",
       "      <td>1981000.0</td>\n",
       "      <td>254100</td>\n",
       "      <td>1981000.0</td>\n",
       "    </tr>\n",
       "    <tr>\n",
       "      <th>2017-03-06</th>\n",
       "      <td>1961000.0</td>\n",
       "      <td>2011000.0</td>\n",
       "      <td>1961000.0</td>\n",
       "      <td>2004000.0</td>\n",
       "      <td>244600</td>\n",
       "      <td>2004000.0</td>\n",
       "    </tr>\n",
       "    <tr>\n",
       "      <th>2017-03-07</th>\n",
       "      <td>1990000.0</td>\n",
       "      <td>2016000.0</td>\n",
       "      <td>1990000.0</td>\n",
       "      <td>2010000.0</td>\n",
       "      <td>211000</td>\n",
       "      <td>2010000.0</td>\n",
       "    </tr>\n",
       "    <tr>\n",
       "      <th>2017-03-08</th>\n",
       "      <td>2010000.0</td>\n",
       "      <td>2031000.0</td>\n",
       "      <td>2007000.0</td>\n",
       "      <td>2010000.0</td>\n",
       "      <td>242800</td>\n",
       "      <td>2010000.0</td>\n",
       "    </tr>\n",
       "    <tr>\n",
       "      <th>2017-03-09</th>\n",
       "      <td>2010000.0</td>\n",
       "      <td>2015000.0</td>\n",
       "      <td>2001000.0</td>\n",
       "      <td>2010000.0</td>\n",
       "      <td>287400</td>\n",
       "      <td>2010000.0</td>\n",
       "    </tr>\n",
       "    <tr>\n",
       "      <th>2017-03-10</th>\n",
       "      <td>1998000.0</td>\n",
       "      <td>2021000.0</td>\n",
       "      <td>1993000.0</td>\n",
       "      <td>2009000.0</td>\n",
       "      <td>204500</td>\n",
       "      <td>2009000.0</td>\n",
       "    </tr>\n",
       "    <tr>\n",
       "      <th>2017-03-13</th>\n",
       "      <td>2002000.0</td>\n",
       "      <td>2049000.0</td>\n",
       "      <td>2002000.0</td>\n",
       "      <td>2030000.0</td>\n",
       "      <td>148400</td>\n",
       "      <td>2030000.0</td>\n",
       "    </tr>\n",
       "    <tr>\n",
       "      <th>2017-03-14</th>\n",
       "      <td>2031000.0</td>\n",
       "      <td>2077000.0</td>\n",
       "      <td>2025000.0</td>\n",
       "      <td>2068000.0</td>\n",
       "      <td>226500</td>\n",
       "      <td>2068000.0</td>\n",
       "    </tr>\n",
       "    <tr>\n",
       "      <th>2017-03-15</th>\n",
       "      <td>2040000.0</td>\n",
       "      <td>2072000.0</td>\n",
       "      <td>2040000.0</td>\n",
       "      <td>2070000.0</td>\n",
       "      <td>191700</td>\n",
       "      <td>2070000.0</td>\n",
       "    </tr>\n",
       "    <tr>\n",
       "      <th>2017-03-16</th>\n",
       "      <td>2090000.0</td>\n",
       "      <td>2109000.0</td>\n",
       "      <td>2077000.0</td>\n",
       "      <td>2092000.0</td>\n",
       "      <td>198600</td>\n",
       "      <td>2092000.0</td>\n",
       "    </tr>\n",
       "    <tr>\n",
       "      <th>2017-03-17</th>\n",
       "      <td>2090000.0</td>\n",
       "      <td>2125000.0</td>\n",
       "      <td>2086000.0</td>\n",
       "      <td>2120000.0</td>\n",
       "      <td>252000</td>\n",
       "      <td>2120000.0</td>\n",
       "    </tr>\n",
       "    <tr>\n",
       "      <th>2017-03-20</th>\n",
       "      <td>2100000.0</td>\n",
       "      <td>2106000.0</td>\n",
       "      <td>2087000.0</td>\n",
       "      <td>2095000.0</td>\n",
       "      <td>205000</td>\n",
       "      <td>2095000.0</td>\n",
       "    </tr>\n",
       "    <tr>\n",
       "      <th>2017-03-21</th>\n",
       "      <td>2089000.0</td>\n",
       "      <td>2134000.0</td>\n",
       "      <td>2088000.0</td>\n",
       "      <td>2128000.0</td>\n",
       "      <td>284400</td>\n",
       "      <td>2128000.0</td>\n",
       "    </tr>\n",
       "  </tbody>\n",
       "</table>\n",
       "</div>"
      ],
      "text/plain": [
       "                 Open       High        Low      Close  Volume  Adj Close\n",
       "Date                                                                     \n",
       "2017-02-01  1977000.0  1983000.0  1952000.0  1956000.0  283000  1956000.0\n",
       "2017-02-02  1980000.0  1983000.0  1960000.0  1968000.0  300500  1968000.0\n",
       "2017-02-03  1970000.0  1975000.0  1959000.0  1973000.0  207700  1973000.0\n",
       "2017-02-06  1979000.0  1983000.0  1957000.0  1978000.0  177200  1978000.0\n",
       "2017-02-07  1978000.0  1979000.0  1938000.0  1941000.0  280800  1941000.0\n",
       "2017-02-08  1937000.0  1939000.0  1910000.0  1920000.0  341800  1920000.0\n",
       "2017-02-09  1939000.0  1942000.0  1911000.0  1920000.0  273800  1920000.0\n",
       "2017-02-10  1920000.0  1938000.0  1915000.0  1918000.0  220400  1918000.0\n",
       "2017-02-13  1887000.0  1903000.0  1886000.0  1898000.0  222000  1898000.0\n",
       "2017-02-14  1898000.0  1913000.0  1866000.0  1879000.0  262400  1879000.0\n",
       "2017-02-15  1854000.0  1898000.0  1854000.0  1886000.0  283800  1886000.0\n",
       "2017-02-16  1890000.0  1918000.0  1889000.0  1901000.0  204500  1901000.0\n",
       "2017-02-17  1878000.0  1902000.0  1864000.0  1893000.0  307500  1893000.0\n",
       "2017-02-20  1911000.0  1939000.0  1908000.0  1933000.0  149700  1933000.0\n",
       "2017-02-21  1927000.0  1978000.0  1921000.0  1947000.0  211200  1947000.0\n",
       "2017-02-22  1950000.0  1967000.0  1949000.0  1965000.0  170700  1965000.0\n",
       "2017-02-23  1951000.0  1972000.0  1951000.0  1959000.0  204300  1959000.0\n",
       "2017-02-24  1948000.0  1955000.0  1903000.0  1911000.0  185900  1911000.0\n",
       "2017-02-27  1901000.0  1907000.0  1885000.0  1903000.0  180600  1903000.0\n",
       "2017-02-28  1903000.0  1938000.0  1898000.0  1922000.0  301700  1922000.0\n",
       "2017-03-01  1922000.0  1922000.0  1922000.0  1922000.0       0  1922000.0\n",
       "2017-03-02  1921000.0  1993000.0  1921000.0  1986000.0  424900  1986000.0\n",
       "2017-03-03  1967000.0  1986000.0  1958000.0  1981000.0  254100  1981000.0\n",
       "2017-03-06  1961000.0  2011000.0  1961000.0  2004000.0  244600  2004000.0\n",
       "2017-03-07  1990000.0  2016000.0  1990000.0  2010000.0  211000  2010000.0\n",
       "2017-03-08  2010000.0  2031000.0  2007000.0  2010000.0  242800  2010000.0\n",
       "2017-03-09  2010000.0  2015000.0  2001000.0  2010000.0  287400  2010000.0\n",
       "2017-03-10  1998000.0  2021000.0  1993000.0  2009000.0  204500  2009000.0\n",
       "2017-03-13  2002000.0  2049000.0  2002000.0  2030000.0  148400  2030000.0\n",
       "2017-03-14  2031000.0  2077000.0  2025000.0  2068000.0  226500  2068000.0\n",
       "2017-03-15  2040000.0  2072000.0  2040000.0  2070000.0  191700  2070000.0\n",
       "2017-03-16  2090000.0  2109000.0  2077000.0  2092000.0  198600  2092000.0\n",
       "2017-03-17  2090000.0  2125000.0  2086000.0  2120000.0  252000  2120000.0\n",
       "2017-03-20  2100000.0  2106000.0  2087000.0  2095000.0  205000  2095000.0\n",
       "2017-03-21  2089000.0  2134000.0  2088000.0  2128000.0  284400  2128000.0"
      ]
     },
     "execution_count": 111,
     "metadata": {},
     "output_type": "execute_result"
    }
   ],
   "source": [
    "CODE='005930.KS'\n",
    "df = pandas_datareader.data.DataReader(CODE, \"yahoo\", '2017-02-01', datetime.datetime.now())\n",
    "df"
   ]
  },
  {
   "cell_type": "code",
   "execution_count": 112,
   "metadata": {
    "collapsed": false,
    "deletable": true,
    "editable": true
   },
   "outputs": [
    {
     "data": {
      "text/plain": [
       "Index(['Open', 'High', 'Low', 'Close', 'Volume', 'Adj Close'], dtype='object')"
      ]
     },
     "execution_count": 112,
     "metadata": {},
     "output_type": "execute_result"
    }
   ],
   "source": [
    "df.columns"
   ]
  },
  {
   "cell_type": "code",
   "execution_count": 113,
   "metadata": {
    "collapsed": false,
    "deletable": true,
    "editable": true
   },
   "outputs": [
    {
     "data": {
      "text/plain": [
       "DatetimeIndex(['2017-02-01', '2017-02-02', '2017-02-03', '2017-02-06',\n",
       "               '2017-02-07', '2017-02-08', '2017-02-09', '2017-02-10',\n",
       "               '2017-02-13', '2017-02-14', '2017-02-15', '2017-02-16',\n",
       "               '2017-02-17', '2017-02-20', '2017-02-21', '2017-02-22',\n",
       "               '2017-02-23', '2017-02-24', '2017-02-27', '2017-02-28',\n",
       "               '2017-03-01', '2017-03-02', '2017-03-03', '2017-03-06',\n",
       "               '2017-03-07', '2017-03-08', '2017-03-09', '2017-03-10',\n",
       "               '2017-03-13', '2017-03-14', '2017-03-15', '2017-03-16',\n",
       "               '2017-03-17', '2017-03-20', '2017-03-21'],\n",
       "              dtype='datetime64[ns]', name='Date', freq=None)"
      ]
     },
     "execution_count": 113,
     "metadata": {},
     "output_type": "execute_result"
    }
   ],
   "source": [
    "df.index"
   ]
  },
  {
   "cell_type": "code",
   "execution_count": 114,
   "metadata": {
    "collapsed": false,
    "deletable": true,
    "editable": true
   },
   "outputs": [
    {
     "data": {
      "text/plain": [
       "Open         1977000.0\n",
       "High         1983000.0\n",
       "Low          1952000.0\n",
       "Close        1956000.0\n",
       "Volume        283000.0\n",
       "Adj Close    1956000.0\n",
       "Name: 2017-02-01 00:00:00, dtype: float64"
      ]
     },
     "execution_count": 114,
     "metadata": {},
     "output_type": "execute_result"
    }
   ],
   "source": [
    "df.ix[0]"
   ]
  },
  {
   "cell_type": "code",
   "execution_count": 115,
   "metadata": {
    "collapsed": false,
    "deletable": true,
    "editable": true
   },
   "outputs": [
    {
     "data": {
      "text/html": [
       "<div>\n",
       "<table border=\"1\" class=\"dataframe\">\n",
       "  <thead>\n",
       "    <tr style=\"text-align: right;\">\n",
       "      <th></th>\n",
       "      <th>Open</th>\n",
       "      <th>High</th>\n",
       "      <th>Low</th>\n",
       "      <th>Close</th>\n",
       "      <th>Volume</th>\n",
       "      <th>Adj Close</th>\n",
       "    </tr>\n",
       "    <tr>\n",
       "      <th>Date</th>\n",
       "      <th></th>\n",
       "      <th></th>\n",
       "      <th></th>\n",
       "      <th></th>\n",
       "      <th></th>\n",
       "      <th></th>\n",
       "    </tr>\n",
       "  </thead>\n",
       "  <tbody>\n",
       "    <tr>\n",
       "      <th>2017-02-01</th>\n",
       "      <td>1977000.0</td>\n",
       "      <td>1983000.0</td>\n",
       "      <td>1952000.0</td>\n",
       "      <td>1956000.0</td>\n",
       "      <td>283000</td>\n",
       "      <td>1956000.0</td>\n",
       "    </tr>\n",
       "    <tr>\n",
       "      <th>2017-02-02</th>\n",
       "      <td>1980000.0</td>\n",
       "      <td>1983000.0</td>\n",
       "      <td>1960000.0</td>\n",
       "      <td>1968000.0</td>\n",
       "      <td>300500</td>\n",
       "      <td>1968000.0</td>\n",
       "    </tr>\n",
       "    <tr>\n",
       "      <th>2017-02-03</th>\n",
       "      <td>1970000.0</td>\n",
       "      <td>1975000.0</td>\n",
       "      <td>1959000.0</td>\n",
       "      <td>1973000.0</td>\n",
       "      <td>207700</td>\n",
       "      <td>1973000.0</td>\n",
       "    </tr>\n",
       "  </tbody>\n",
       "</table>\n",
       "</div>"
      ],
      "text/plain": [
       "                 Open       High        Low      Close  Volume  Adj Close\n",
       "Date                                                                     \n",
       "2017-02-01  1977000.0  1983000.0  1952000.0  1956000.0  283000  1956000.0\n",
       "2017-02-02  1980000.0  1983000.0  1960000.0  1968000.0  300500  1968000.0\n",
       "2017-02-03  1970000.0  1975000.0  1959000.0  1973000.0  207700  1973000.0"
      ]
     },
     "execution_count": 115,
     "metadata": {},
     "output_type": "execute_result"
    }
   ],
   "source": [
    "df.head(3)"
   ]
  },
  {
   "cell_type": "code",
   "execution_count": 116,
   "metadata": {
    "collapsed": false,
    "deletable": true,
    "editable": true
   },
   "outputs": [
    {
     "data": {
      "text/html": [
       "<div>\n",
       "<table border=\"1\" class=\"dataframe\">\n",
       "  <thead>\n",
       "    <tr style=\"text-align: right;\">\n",
       "      <th></th>\n",
       "      <th>Open</th>\n",
       "      <th>High</th>\n",
       "      <th>Low</th>\n",
       "      <th>Close</th>\n",
       "      <th>Volume</th>\n",
       "      <th>Adj Close</th>\n",
       "    </tr>\n",
       "    <tr>\n",
       "      <th>Date</th>\n",
       "      <th></th>\n",
       "      <th></th>\n",
       "      <th></th>\n",
       "      <th></th>\n",
       "      <th></th>\n",
       "      <th></th>\n",
       "    </tr>\n",
       "  </thead>\n",
       "  <tbody>\n",
       "    <tr>\n",
       "      <th>2017-03-20</th>\n",
       "      <td>2100000.0</td>\n",
       "      <td>2106000.0</td>\n",
       "      <td>2087000.0</td>\n",
       "      <td>2095000.0</td>\n",
       "      <td>205000</td>\n",
       "      <td>2095000.0</td>\n",
       "    </tr>\n",
       "    <tr>\n",
       "      <th>2017-03-21</th>\n",
       "      <td>2089000.0</td>\n",
       "      <td>2134000.0</td>\n",
       "      <td>2088000.0</td>\n",
       "      <td>2128000.0</td>\n",
       "      <td>284400</td>\n",
       "      <td>2128000.0</td>\n",
       "    </tr>\n",
       "  </tbody>\n",
       "</table>\n",
       "</div>"
      ],
      "text/plain": [
       "                 Open       High        Low      Close  Volume  Adj Close\n",
       "Date                                                                     \n",
       "2017-03-20  2100000.0  2106000.0  2087000.0  2095000.0  205000  2095000.0\n",
       "2017-03-21  2089000.0  2134000.0  2088000.0  2128000.0  284400  2128000.0"
      ]
     },
     "execution_count": 116,
     "metadata": {},
     "output_type": "execute_result"
    }
   ],
   "source": [
    "df.tail(2)"
   ]
  },
  {
   "cell_type": "code",
   "execution_count": 120,
   "metadata": {
    "collapsed": false,
    "deletable": true,
    "editable": true
   },
   "outputs": [
    {
     "data": {
      "text/html": [
       "<div>\n",
       "<table border=\"1\" class=\"dataframe\">\n",
       "  <thead>\n",
       "    <tr style=\"text-align: right;\">\n",
       "      <th></th>\n",
       "      <th>Open</th>\n",
       "      <th>High</th>\n",
       "      <th>Low</th>\n",
       "      <th>Close</th>\n",
       "      <th>Volume</th>\n",
       "      <th>Adj Close</th>\n",
       "    </tr>\n",
       "    <tr>\n",
       "      <th>Date</th>\n",
       "      <th></th>\n",
       "      <th></th>\n",
       "      <th></th>\n",
       "      <th></th>\n",
       "      <th></th>\n",
       "      <th></th>\n",
       "    </tr>\n",
       "  </thead>\n",
       "  <tbody>\n",
       "    <tr>\n",
       "      <th>2017-02-01</th>\n",
       "      <td>1977000.0</td>\n",
       "      <td>1983000.0</td>\n",
       "      <td>1952000.0</td>\n",
       "      <td>1956000.0</td>\n",
       "      <td>283000</td>\n",
       "      <td>1956000.0</td>\n",
       "    </tr>\n",
       "    <tr>\n",
       "      <th>2017-02-02</th>\n",
       "      <td>1980000.0</td>\n",
       "      <td>1983000.0</td>\n",
       "      <td>1960000.0</td>\n",
       "      <td>1968000.0</td>\n",
       "      <td>300500</td>\n",
       "      <td>1968000.0</td>\n",
       "    </tr>\n",
       "    <tr>\n",
       "      <th>2017-02-03</th>\n",
       "      <td>1970000.0</td>\n",
       "      <td>1975000.0</td>\n",
       "      <td>1959000.0</td>\n",
       "      <td>1973000.0</td>\n",
       "      <td>207700</td>\n",
       "      <td>1973000.0</td>\n",
       "    </tr>\n",
       "    <tr>\n",
       "      <th>2017-02-06</th>\n",
       "      <td>1979000.0</td>\n",
       "      <td>1983000.0</td>\n",
       "      <td>1957000.0</td>\n",
       "      <td>1978000.0</td>\n",
       "      <td>177200</td>\n",
       "      <td>1978000.0</td>\n",
       "    </tr>\n",
       "    <tr>\n",
       "      <th>2017-02-07</th>\n",
       "      <td>1978000.0</td>\n",
       "      <td>1979000.0</td>\n",
       "      <td>1938000.0</td>\n",
       "      <td>1941000.0</td>\n",
       "      <td>280800</td>\n",
       "      <td>1941000.0</td>\n",
       "    </tr>\n",
       "    <tr>\n",
       "      <th>2017-02-08</th>\n",
       "      <td>1937000.0</td>\n",
       "      <td>1939000.0</td>\n",
       "      <td>1910000.0</td>\n",
       "      <td>1920000.0</td>\n",
       "      <td>341800</td>\n",
       "      <td>1920000.0</td>\n",
       "    </tr>\n",
       "    <tr>\n",
       "      <th>2017-02-09</th>\n",
       "      <td>1939000.0</td>\n",
       "      <td>1942000.0</td>\n",
       "      <td>1911000.0</td>\n",
       "      <td>1920000.0</td>\n",
       "      <td>273800</td>\n",
       "      <td>1920000.0</td>\n",
       "    </tr>\n",
       "    <tr>\n",
       "      <th>2017-02-10</th>\n",
       "      <td>1920000.0</td>\n",
       "      <td>1938000.0</td>\n",
       "      <td>1915000.0</td>\n",
       "      <td>1918000.0</td>\n",
       "      <td>220400</td>\n",
       "      <td>1918000.0</td>\n",
       "    </tr>\n",
       "    <tr>\n",
       "      <th>2017-02-13</th>\n",
       "      <td>1887000.0</td>\n",
       "      <td>1903000.0</td>\n",
       "      <td>1886000.0</td>\n",
       "      <td>1898000.0</td>\n",
       "      <td>222000</td>\n",
       "      <td>1898000.0</td>\n",
       "    </tr>\n",
       "    <tr>\n",
       "      <th>2017-02-14</th>\n",
       "      <td>1898000.0</td>\n",
       "      <td>1913000.0</td>\n",
       "      <td>1866000.0</td>\n",
       "      <td>1879000.0</td>\n",
       "      <td>262400</td>\n",
       "      <td>1879000.0</td>\n",
       "    </tr>\n",
       "    <tr>\n",
       "      <th>2017-02-15</th>\n",
       "      <td>1854000.0</td>\n",
       "      <td>1898000.0</td>\n",
       "      <td>1854000.0</td>\n",
       "      <td>1886000.0</td>\n",
       "      <td>283800</td>\n",
       "      <td>1886000.0</td>\n",
       "    </tr>\n",
       "    <tr>\n",
       "      <th>2017-02-16</th>\n",
       "      <td>1890000.0</td>\n",
       "      <td>1918000.0</td>\n",
       "      <td>1889000.0</td>\n",
       "      <td>1901000.0</td>\n",
       "      <td>204500</td>\n",
       "      <td>1901000.0</td>\n",
       "    </tr>\n",
       "    <tr>\n",
       "      <th>2017-02-17</th>\n",
       "      <td>1878000.0</td>\n",
       "      <td>1902000.0</td>\n",
       "      <td>1864000.0</td>\n",
       "      <td>1893000.0</td>\n",
       "      <td>307500</td>\n",
       "      <td>1893000.0</td>\n",
       "    </tr>\n",
       "    <tr>\n",
       "      <th>2017-02-20</th>\n",
       "      <td>1911000.0</td>\n",
       "      <td>1939000.0</td>\n",
       "      <td>1908000.0</td>\n",
       "      <td>1933000.0</td>\n",
       "      <td>149700</td>\n",
       "      <td>1933000.0</td>\n",
       "    </tr>\n",
       "    <tr>\n",
       "      <th>2017-02-21</th>\n",
       "      <td>1927000.0</td>\n",
       "      <td>1978000.0</td>\n",
       "      <td>1921000.0</td>\n",
       "      <td>1947000.0</td>\n",
       "      <td>211200</td>\n",
       "      <td>1947000.0</td>\n",
       "    </tr>\n",
       "    <tr>\n",
       "      <th>2017-02-22</th>\n",
       "      <td>1950000.0</td>\n",
       "      <td>1967000.0</td>\n",
       "      <td>1949000.0</td>\n",
       "      <td>1965000.0</td>\n",
       "      <td>170700</td>\n",
       "      <td>1965000.0</td>\n",
       "    </tr>\n",
       "    <tr>\n",
       "      <th>2017-02-23</th>\n",
       "      <td>1951000.0</td>\n",
       "      <td>1972000.0</td>\n",
       "      <td>1951000.0</td>\n",
       "      <td>1959000.0</td>\n",
       "      <td>204300</td>\n",
       "      <td>1959000.0</td>\n",
       "    </tr>\n",
       "    <tr>\n",
       "      <th>2017-02-24</th>\n",
       "      <td>1948000.0</td>\n",
       "      <td>1955000.0</td>\n",
       "      <td>1903000.0</td>\n",
       "      <td>1911000.0</td>\n",
       "      <td>185900</td>\n",
       "      <td>1911000.0</td>\n",
       "    </tr>\n",
       "    <tr>\n",
       "      <th>2017-02-27</th>\n",
       "      <td>1901000.0</td>\n",
       "      <td>1907000.0</td>\n",
       "      <td>1885000.0</td>\n",
       "      <td>1903000.0</td>\n",
       "      <td>180600</td>\n",
       "      <td>1903000.0</td>\n",
       "    </tr>\n",
       "    <tr>\n",
       "      <th>2017-02-28</th>\n",
       "      <td>1903000.0</td>\n",
       "      <td>1938000.0</td>\n",
       "      <td>1898000.0</td>\n",
       "      <td>1922000.0</td>\n",
       "      <td>301700</td>\n",
       "      <td>1922000.0</td>\n",
       "    </tr>\n",
       "  </tbody>\n",
       "</table>\n",
       "</div>"
      ],
      "text/plain": [
       "                 Open       High        Low      Close  Volume  Adj Close\n",
       "Date                                                                     \n",
       "2017-02-01  1977000.0  1983000.0  1952000.0  1956000.0  283000  1956000.0\n",
       "2017-02-02  1980000.0  1983000.0  1960000.0  1968000.0  300500  1968000.0\n",
       "2017-02-03  1970000.0  1975000.0  1959000.0  1973000.0  207700  1973000.0\n",
       "2017-02-06  1979000.0  1983000.0  1957000.0  1978000.0  177200  1978000.0\n",
       "2017-02-07  1978000.0  1979000.0  1938000.0  1941000.0  280800  1941000.0\n",
       "2017-02-08  1937000.0  1939000.0  1910000.0  1920000.0  341800  1920000.0\n",
       "2017-02-09  1939000.0  1942000.0  1911000.0  1920000.0  273800  1920000.0\n",
       "2017-02-10  1920000.0  1938000.0  1915000.0  1918000.0  220400  1918000.0\n",
       "2017-02-13  1887000.0  1903000.0  1886000.0  1898000.0  222000  1898000.0\n",
       "2017-02-14  1898000.0  1913000.0  1866000.0  1879000.0  262400  1879000.0\n",
       "2017-02-15  1854000.0  1898000.0  1854000.0  1886000.0  283800  1886000.0\n",
       "2017-02-16  1890000.0  1918000.0  1889000.0  1901000.0  204500  1901000.0\n",
       "2017-02-17  1878000.0  1902000.0  1864000.0  1893000.0  307500  1893000.0\n",
       "2017-02-20  1911000.0  1939000.0  1908000.0  1933000.0  149700  1933000.0\n",
       "2017-02-21  1927000.0  1978000.0  1921000.0  1947000.0  211200  1947000.0\n",
       "2017-02-22  1950000.0  1967000.0  1949000.0  1965000.0  170700  1965000.0\n",
       "2017-02-23  1951000.0  1972000.0  1951000.0  1959000.0  204300  1959000.0\n",
       "2017-02-24  1948000.0  1955000.0  1903000.0  1911000.0  185900  1911000.0\n",
       "2017-02-27  1901000.0  1907000.0  1885000.0  1903000.0  180600  1903000.0\n",
       "2017-02-28  1903000.0  1938000.0  1898000.0  1922000.0  301700  1922000.0"
      ]
     },
     "execution_count": 120,
     "metadata": {},
     "output_type": "execute_result"
    }
   ],
   "source": [
    "df['2017-02']"
   ]
  },
  {
   "cell_type": "code",
   "execution_count": 121,
   "metadata": {
    "collapsed": false,
    "deletable": true,
    "editable": true
   },
   "outputs": [
    {
     "data": {
      "text/html": [
       "<div>\n",
       "<table border=\"1\" class=\"dataframe\">\n",
       "  <thead>\n",
       "    <tr style=\"text-align: right;\">\n",
       "      <th></th>\n",
       "      <th>Open</th>\n",
       "      <th>High</th>\n",
       "      <th>Low</th>\n",
       "      <th>Close</th>\n",
       "      <th>Volume</th>\n",
       "      <th>Adj Close</th>\n",
       "    </tr>\n",
       "    <tr>\n",
       "      <th>Date</th>\n",
       "      <th></th>\n",
       "      <th></th>\n",
       "      <th></th>\n",
       "      <th></th>\n",
       "      <th></th>\n",
       "      <th></th>\n",
       "    </tr>\n",
       "  </thead>\n",
       "  <tbody>\n",
       "    <tr>\n",
       "      <th>2017-02-01</th>\n",
       "      <td>1977000.0</td>\n",
       "      <td>1983000.0</td>\n",
       "      <td>1952000.0</td>\n",
       "      <td>1956000.0</td>\n",
       "      <td>283000</td>\n",
       "      <td>1956000.0</td>\n",
       "    </tr>\n",
       "    <tr>\n",
       "      <th>2017-02-02</th>\n",
       "      <td>1980000.0</td>\n",
       "      <td>1983000.0</td>\n",
       "      <td>1960000.0</td>\n",
       "      <td>1968000.0</td>\n",
       "      <td>300500</td>\n",
       "      <td>1968000.0</td>\n",
       "    </tr>\n",
       "    <tr>\n",
       "      <th>2017-02-03</th>\n",
       "      <td>1970000.0</td>\n",
       "      <td>1975000.0</td>\n",
       "      <td>1959000.0</td>\n",
       "      <td>1973000.0</td>\n",
       "      <td>207700</td>\n",
       "      <td>1973000.0</td>\n",
       "    </tr>\n",
       "    <tr>\n",
       "      <th>2017-02-06</th>\n",
       "      <td>1979000.0</td>\n",
       "      <td>1983000.0</td>\n",
       "      <td>1957000.0</td>\n",
       "      <td>1978000.0</td>\n",
       "      <td>177200</td>\n",
       "      <td>1978000.0</td>\n",
       "    </tr>\n",
       "    <tr>\n",
       "      <th>2017-02-07</th>\n",
       "      <td>1978000.0</td>\n",
       "      <td>1979000.0</td>\n",
       "      <td>1938000.0</td>\n",
       "      <td>1941000.0</td>\n",
       "      <td>280800</td>\n",
       "      <td>1941000.0</td>\n",
       "    </tr>\n",
       "    <tr>\n",
       "      <th>2017-02-08</th>\n",
       "      <td>1937000.0</td>\n",
       "      <td>1939000.0</td>\n",
       "      <td>1910000.0</td>\n",
       "      <td>1920000.0</td>\n",
       "      <td>341800</td>\n",
       "      <td>1920000.0</td>\n",
       "    </tr>\n",
       "    <tr>\n",
       "      <th>2017-02-09</th>\n",
       "      <td>1939000.0</td>\n",
       "      <td>1942000.0</td>\n",
       "      <td>1911000.0</td>\n",
       "      <td>1920000.0</td>\n",
       "      <td>273800</td>\n",
       "      <td>1920000.0</td>\n",
       "    </tr>\n",
       "    <tr>\n",
       "      <th>2017-02-10</th>\n",
       "      <td>1920000.0</td>\n",
       "      <td>1938000.0</td>\n",
       "      <td>1915000.0</td>\n",
       "      <td>1918000.0</td>\n",
       "      <td>220400</td>\n",
       "      <td>1918000.0</td>\n",
       "    </tr>\n",
       "    <tr>\n",
       "      <th>2017-02-13</th>\n",
       "      <td>1887000.0</td>\n",
       "      <td>1903000.0</td>\n",
       "      <td>1886000.0</td>\n",
       "      <td>1898000.0</td>\n",
       "      <td>222000</td>\n",
       "      <td>1898000.0</td>\n",
       "    </tr>\n",
       "    <tr>\n",
       "      <th>2017-02-14</th>\n",
       "      <td>1898000.0</td>\n",
       "      <td>1913000.0</td>\n",
       "      <td>1866000.0</td>\n",
       "      <td>1879000.0</td>\n",
       "      <td>262400</td>\n",
       "      <td>1879000.0</td>\n",
       "    </tr>\n",
       "    <tr>\n",
       "      <th>2017-02-15</th>\n",
       "      <td>1854000.0</td>\n",
       "      <td>1898000.0</td>\n",
       "      <td>1854000.0</td>\n",
       "      <td>1886000.0</td>\n",
       "      <td>283800</td>\n",
       "      <td>1886000.0</td>\n",
       "    </tr>\n",
       "    <tr>\n",
       "      <th>2017-02-16</th>\n",
       "      <td>1890000.0</td>\n",
       "      <td>1918000.0</td>\n",
       "      <td>1889000.0</td>\n",
       "      <td>1901000.0</td>\n",
       "      <td>204500</td>\n",
       "      <td>1901000.0</td>\n",
       "    </tr>\n",
       "    <tr>\n",
       "      <th>2017-02-17</th>\n",
       "      <td>1878000.0</td>\n",
       "      <td>1902000.0</td>\n",
       "      <td>1864000.0</td>\n",
       "      <td>1893000.0</td>\n",
       "      <td>307500</td>\n",
       "      <td>1893000.0</td>\n",
       "    </tr>\n",
       "    <tr>\n",
       "      <th>2017-02-20</th>\n",
       "      <td>1911000.0</td>\n",
       "      <td>1939000.0</td>\n",
       "      <td>1908000.0</td>\n",
       "      <td>1933000.0</td>\n",
       "      <td>149700</td>\n",
       "      <td>1933000.0</td>\n",
       "    </tr>\n",
       "    <tr>\n",
       "      <th>2017-02-21</th>\n",
       "      <td>1927000.0</td>\n",
       "      <td>1978000.0</td>\n",
       "      <td>1921000.0</td>\n",
       "      <td>1947000.0</td>\n",
       "      <td>211200</td>\n",
       "      <td>1947000.0</td>\n",
       "    </tr>\n",
       "    <tr>\n",
       "      <th>2017-02-22</th>\n",
       "      <td>1950000.0</td>\n",
       "      <td>1967000.0</td>\n",
       "      <td>1949000.0</td>\n",
       "      <td>1965000.0</td>\n",
       "      <td>170700</td>\n",
       "      <td>1965000.0</td>\n",
       "    </tr>\n",
       "    <tr>\n",
       "      <th>2017-02-23</th>\n",
       "      <td>1951000.0</td>\n",
       "      <td>1972000.0</td>\n",
       "      <td>1951000.0</td>\n",
       "      <td>1959000.0</td>\n",
       "      <td>204300</td>\n",
       "      <td>1959000.0</td>\n",
       "    </tr>\n",
       "    <tr>\n",
       "      <th>2017-02-24</th>\n",
       "      <td>1948000.0</td>\n",
       "      <td>1955000.0</td>\n",
       "      <td>1903000.0</td>\n",
       "      <td>1911000.0</td>\n",
       "      <td>185900</td>\n",
       "      <td>1911000.0</td>\n",
       "    </tr>\n",
       "    <tr>\n",
       "      <th>2017-02-27</th>\n",
       "      <td>1901000.0</td>\n",
       "      <td>1907000.0</td>\n",
       "      <td>1885000.0</td>\n",
       "      <td>1903000.0</td>\n",
       "      <td>180600</td>\n",
       "      <td>1903000.0</td>\n",
       "    </tr>\n",
       "    <tr>\n",
       "      <th>2017-02-28</th>\n",
       "      <td>1903000.0</td>\n",
       "      <td>1938000.0</td>\n",
       "      <td>1898000.0</td>\n",
       "      <td>1922000.0</td>\n",
       "      <td>301700</td>\n",
       "      <td>1922000.0</td>\n",
       "    </tr>\n",
       "    <tr>\n",
       "      <th>2017-03-01</th>\n",
       "      <td>1922000.0</td>\n",
       "      <td>1922000.0</td>\n",
       "      <td>1922000.0</td>\n",
       "      <td>1922000.0</td>\n",
       "      <td>0</td>\n",
       "      <td>1922000.0</td>\n",
       "    </tr>\n",
       "    <tr>\n",
       "      <th>2017-03-02</th>\n",
       "      <td>1921000.0</td>\n",
       "      <td>1993000.0</td>\n",
       "      <td>1921000.0</td>\n",
       "      <td>1986000.0</td>\n",
       "      <td>424900</td>\n",
       "      <td>1986000.0</td>\n",
       "    </tr>\n",
       "    <tr>\n",
       "      <th>2017-03-03</th>\n",
       "      <td>1967000.0</td>\n",
       "      <td>1986000.0</td>\n",
       "      <td>1958000.0</td>\n",
       "      <td>1981000.0</td>\n",
       "      <td>254100</td>\n",
       "      <td>1981000.0</td>\n",
       "    </tr>\n",
       "    <tr>\n",
       "      <th>2017-03-06</th>\n",
       "      <td>1961000.0</td>\n",
       "      <td>2011000.0</td>\n",
       "      <td>1961000.0</td>\n",
       "      <td>2004000.0</td>\n",
       "      <td>244600</td>\n",
       "      <td>2004000.0</td>\n",
       "    </tr>\n",
       "    <tr>\n",
       "      <th>2017-03-07</th>\n",
       "      <td>1990000.0</td>\n",
       "      <td>2016000.0</td>\n",
       "      <td>1990000.0</td>\n",
       "      <td>2010000.0</td>\n",
       "      <td>211000</td>\n",
       "      <td>2010000.0</td>\n",
       "    </tr>\n",
       "    <tr>\n",
       "      <th>2017-03-08</th>\n",
       "      <td>2010000.0</td>\n",
       "      <td>2031000.0</td>\n",
       "      <td>2007000.0</td>\n",
       "      <td>2010000.0</td>\n",
       "      <td>242800</td>\n",
       "      <td>2010000.0</td>\n",
       "    </tr>\n",
       "    <tr>\n",
       "      <th>2017-03-09</th>\n",
       "      <td>2010000.0</td>\n",
       "      <td>2015000.0</td>\n",
       "      <td>2001000.0</td>\n",
       "      <td>2010000.0</td>\n",
       "      <td>287400</td>\n",
       "      <td>2010000.0</td>\n",
       "    </tr>\n",
       "    <tr>\n",
       "      <th>2017-03-10</th>\n",
       "      <td>1998000.0</td>\n",
       "      <td>2021000.0</td>\n",
       "      <td>1993000.0</td>\n",
       "      <td>2009000.0</td>\n",
       "      <td>204500</td>\n",
       "      <td>2009000.0</td>\n",
       "    </tr>\n",
       "    <tr>\n",
       "      <th>2017-03-13</th>\n",
       "      <td>2002000.0</td>\n",
       "      <td>2049000.0</td>\n",
       "      <td>2002000.0</td>\n",
       "      <td>2030000.0</td>\n",
       "      <td>148400</td>\n",
       "      <td>2030000.0</td>\n",
       "    </tr>\n",
       "    <tr>\n",
       "      <th>2017-03-14</th>\n",
       "      <td>2031000.0</td>\n",
       "      <td>2077000.0</td>\n",
       "      <td>2025000.0</td>\n",
       "      <td>2068000.0</td>\n",
       "      <td>226500</td>\n",
       "      <td>2068000.0</td>\n",
       "    </tr>\n",
       "    <tr>\n",
       "      <th>2017-03-15</th>\n",
       "      <td>2040000.0</td>\n",
       "      <td>2072000.0</td>\n",
       "      <td>2040000.0</td>\n",
       "      <td>2070000.0</td>\n",
       "      <td>191700</td>\n",
       "      <td>2070000.0</td>\n",
       "    </tr>\n",
       "    <tr>\n",
       "      <th>2017-03-16</th>\n",
       "      <td>2090000.0</td>\n",
       "      <td>2109000.0</td>\n",
       "      <td>2077000.0</td>\n",
       "      <td>2092000.0</td>\n",
       "      <td>198600</td>\n",
       "      <td>2092000.0</td>\n",
       "    </tr>\n",
       "    <tr>\n",
       "      <th>2017-03-17</th>\n",
       "      <td>2090000.0</td>\n",
       "      <td>2125000.0</td>\n",
       "      <td>2086000.0</td>\n",
       "      <td>2120000.0</td>\n",
       "      <td>252000</td>\n",
       "      <td>2120000.0</td>\n",
       "    </tr>\n",
       "    <tr>\n",
       "      <th>2017-03-20</th>\n",
       "      <td>2100000.0</td>\n",
       "      <td>2106000.0</td>\n",
       "      <td>2087000.0</td>\n",
       "      <td>2095000.0</td>\n",
       "      <td>205000</td>\n",
       "      <td>2095000.0</td>\n",
       "    </tr>\n",
       "    <tr>\n",
       "      <th>2017-03-21</th>\n",
       "      <td>2089000.0</td>\n",
       "      <td>2134000.0</td>\n",
       "      <td>2088000.0</td>\n",
       "      <td>2128000.0</td>\n",
       "      <td>284400</td>\n",
       "      <td>2128000.0</td>\n",
       "    </tr>\n",
       "  </tbody>\n",
       "</table>\n",
       "</div>"
      ],
      "text/plain": [
       "                 Open       High        Low      Close  Volume  Adj Close\n",
       "Date                                                                     \n",
       "2017-02-01  1977000.0  1983000.0  1952000.0  1956000.0  283000  1956000.0\n",
       "2017-02-02  1980000.0  1983000.0  1960000.0  1968000.0  300500  1968000.0\n",
       "2017-02-03  1970000.0  1975000.0  1959000.0  1973000.0  207700  1973000.0\n",
       "2017-02-06  1979000.0  1983000.0  1957000.0  1978000.0  177200  1978000.0\n",
       "2017-02-07  1978000.0  1979000.0  1938000.0  1941000.0  280800  1941000.0\n",
       "2017-02-08  1937000.0  1939000.0  1910000.0  1920000.0  341800  1920000.0\n",
       "2017-02-09  1939000.0  1942000.0  1911000.0  1920000.0  273800  1920000.0\n",
       "2017-02-10  1920000.0  1938000.0  1915000.0  1918000.0  220400  1918000.0\n",
       "2017-02-13  1887000.0  1903000.0  1886000.0  1898000.0  222000  1898000.0\n",
       "2017-02-14  1898000.0  1913000.0  1866000.0  1879000.0  262400  1879000.0\n",
       "2017-02-15  1854000.0  1898000.0  1854000.0  1886000.0  283800  1886000.0\n",
       "2017-02-16  1890000.0  1918000.0  1889000.0  1901000.0  204500  1901000.0\n",
       "2017-02-17  1878000.0  1902000.0  1864000.0  1893000.0  307500  1893000.0\n",
       "2017-02-20  1911000.0  1939000.0  1908000.0  1933000.0  149700  1933000.0\n",
       "2017-02-21  1927000.0  1978000.0  1921000.0  1947000.0  211200  1947000.0\n",
       "2017-02-22  1950000.0  1967000.0  1949000.0  1965000.0  170700  1965000.0\n",
       "2017-02-23  1951000.0  1972000.0  1951000.0  1959000.0  204300  1959000.0\n",
       "2017-02-24  1948000.0  1955000.0  1903000.0  1911000.0  185900  1911000.0\n",
       "2017-02-27  1901000.0  1907000.0  1885000.0  1903000.0  180600  1903000.0\n",
       "2017-02-28  1903000.0  1938000.0  1898000.0  1922000.0  301700  1922000.0\n",
       "2017-03-01  1922000.0  1922000.0  1922000.0  1922000.0       0  1922000.0\n",
       "2017-03-02  1921000.0  1993000.0  1921000.0  1986000.0  424900  1986000.0\n",
       "2017-03-03  1967000.0  1986000.0  1958000.0  1981000.0  254100  1981000.0\n",
       "2017-03-06  1961000.0  2011000.0  1961000.0  2004000.0  244600  2004000.0\n",
       "2017-03-07  1990000.0  2016000.0  1990000.0  2010000.0  211000  2010000.0\n",
       "2017-03-08  2010000.0  2031000.0  2007000.0  2010000.0  242800  2010000.0\n",
       "2017-03-09  2010000.0  2015000.0  2001000.0  2010000.0  287400  2010000.0\n",
       "2017-03-10  1998000.0  2021000.0  1993000.0  2009000.0  204500  2009000.0\n",
       "2017-03-13  2002000.0  2049000.0  2002000.0  2030000.0  148400  2030000.0\n",
       "2017-03-14  2031000.0  2077000.0  2025000.0  2068000.0  226500  2068000.0\n",
       "2017-03-15  2040000.0  2072000.0  2040000.0  2070000.0  191700  2070000.0\n",
       "2017-03-16  2090000.0  2109000.0  2077000.0  2092000.0  198600  2092000.0\n",
       "2017-03-17  2090000.0  2125000.0  2086000.0  2120000.0  252000  2120000.0\n",
       "2017-03-20  2100000.0  2106000.0  2087000.0  2095000.0  205000  2095000.0\n",
       "2017-03-21  2089000.0  2134000.0  2088000.0  2128000.0  284400  2128000.0"
      ]
     },
     "execution_count": 121,
     "metadata": {},
     "output_type": "execute_result"
    }
   ],
   "source": [
    "df['2016-07-01':'2017-12-31']"
   ]
  },
  {
   "cell_type": "code",
   "execution_count": 122,
   "metadata": {
    "collapsed": false,
    "deletable": true,
    "editable": true
   },
   "outputs": [
    {
     "data": {
      "text/html": [
       "<div>\n",
       "<table border=\"1\" class=\"dataframe\">\n",
       "  <thead>\n",
       "    <tr style=\"text-align: right;\">\n",
       "      <th></th>\n",
       "      <th>Open</th>\n",
       "      <th>High</th>\n",
       "      <th>Low</th>\n",
       "      <th>Close</th>\n",
       "      <th>Volume</th>\n",
       "      <th>Adj Close</th>\n",
       "    </tr>\n",
       "    <tr>\n",
       "      <th>Date</th>\n",
       "      <th></th>\n",
       "      <th></th>\n",
       "      <th></th>\n",
       "      <th></th>\n",
       "      <th></th>\n",
       "      <th></th>\n",
       "    </tr>\n",
       "  </thead>\n",
       "  <tbody>\n",
       "    <tr>\n",
       "      <th>2017-02-01</th>\n",
       "      <td>1977000.0</td>\n",
       "      <td>1983000.0</td>\n",
       "      <td>1952000.0</td>\n",
       "      <td>1956000.0</td>\n",
       "      <td>283000</td>\n",
       "      <td>1956000.0</td>\n",
       "    </tr>\n",
       "    <tr>\n",
       "      <th>2017-02-02</th>\n",
       "      <td>1980000.0</td>\n",
       "      <td>1983000.0</td>\n",
       "      <td>1960000.0</td>\n",
       "      <td>1968000.0</td>\n",
       "      <td>300500</td>\n",
       "      <td>1968000.0</td>\n",
       "    </tr>\n",
       "    <tr>\n",
       "      <th>2017-02-03</th>\n",
       "      <td>1970000.0</td>\n",
       "      <td>1975000.0</td>\n",
       "      <td>1959000.0</td>\n",
       "      <td>1973000.0</td>\n",
       "      <td>207700</td>\n",
       "      <td>1973000.0</td>\n",
       "    </tr>\n",
       "    <tr>\n",
       "      <th>2017-02-06</th>\n",
       "      <td>1979000.0</td>\n",
       "      <td>1983000.0</td>\n",
       "      <td>1957000.0</td>\n",
       "      <td>1978000.0</td>\n",
       "      <td>177200</td>\n",
       "      <td>1978000.0</td>\n",
       "    </tr>\n",
       "    <tr>\n",
       "      <th>2017-02-07</th>\n",
       "      <td>1978000.0</td>\n",
       "      <td>1979000.0</td>\n",
       "      <td>1938000.0</td>\n",
       "      <td>1941000.0</td>\n",
       "      <td>280800</td>\n",
       "      <td>1941000.0</td>\n",
       "    </tr>\n",
       "    <tr>\n",
       "      <th>2017-02-08</th>\n",
       "      <td>1937000.0</td>\n",
       "      <td>1939000.0</td>\n",
       "      <td>1910000.0</td>\n",
       "      <td>1920000.0</td>\n",
       "      <td>341800</td>\n",
       "      <td>1920000.0</td>\n",
       "    </tr>\n",
       "    <tr>\n",
       "      <th>2017-02-09</th>\n",
       "      <td>1939000.0</td>\n",
       "      <td>1942000.0</td>\n",
       "      <td>1911000.0</td>\n",
       "      <td>1920000.0</td>\n",
       "      <td>273800</td>\n",
       "      <td>1920000.0</td>\n",
       "    </tr>\n",
       "    <tr>\n",
       "      <th>2017-02-10</th>\n",
       "      <td>1920000.0</td>\n",
       "      <td>1938000.0</td>\n",
       "      <td>1915000.0</td>\n",
       "      <td>1918000.0</td>\n",
       "      <td>220400</td>\n",
       "      <td>1918000.0</td>\n",
       "    </tr>\n",
       "    <tr>\n",
       "      <th>2017-02-13</th>\n",
       "      <td>1887000.0</td>\n",
       "      <td>1903000.0</td>\n",
       "      <td>1886000.0</td>\n",
       "      <td>1898000.0</td>\n",
       "      <td>222000</td>\n",
       "      <td>1898000.0</td>\n",
       "    </tr>\n",
       "    <tr>\n",
       "      <th>2017-02-14</th>\n",
       "      <td>1898000.0</td>\n",
       "      <td>1913000.0</td>\n",
       "      <td>1866000.0</td>\n",
       "      <td>1879000.0</td>\n",
       "      <td>262400</td>\n",
       "      <td>1879000.0</td>\n",
       "    </tr>\n",
       "    <tr>\n",
       "      <th>2017-02-15</th>\n",
       "      <td>1854000.0</td>\n",
       "      <td>1898000.0</td>\n",
       "      <td>1854000.0</td>\n",
       "      <td>1886000.0</td>\n",
       "      <td>283800</td>\n",
       "      <td>1886000.0</td>\n",
       "    </tr>\n",
       "    <tr>\n",
       "      <th>2017-02-16</th>\n",
       "      <td>1890000.0</td>\n",
       "      <td>1918000.0</td>\n",
       "      <td>1889000.0</td>\n",
       "      <td>1901000.0</td>\n",
       "      <td>204500</td>\n",
       "      <td>1901000.0</td>\n",
       "    </tr>\n",
       "    <tr>\n",
       "      <th>2017-02-17</th>\n",
       "      <td>1878000.0</td>\n",
       "      <td>1902000.0</td>\n",
       "      <td>1864000.0</td>\n",
       "      <td>1893000.0</td>\n",
       "      <td>307500</td>\n",
       "      <td>1893000.0</td>\n",
       "    </tr>\n",
       "    <tr>\n",
       "      <th>2017-02-20</th>\n",
       "      <td>1911000.0</td>\n",
       "      <td>1939000.0</td>\n",
       "      <td>1908000.0</td>\n",
       "      <td>1933000.0</td>\n",
       "      <td>149700</td>\n",
       "      <td>1933000.0</td>\n",
       "    </tr>\n",
       "    <tr>\n",
       "      <th>2017-02-21</th>\n",
       "      <td>1927000.0</td>\n",
       "      <td>1978000.0</td>\n",
       "      <td>1921000.0</td>\n",
       "      <td>1947000.0</td>\n",
       "      <td>211200</td>\n",
       "      <td>1947000.0</td>\n",
       "    </tr>\n",
       "    <tr>\n",
       "      <th>2017-02-22</th>\n",
       "      <td>1950000.0</td>\n",
       "      <td>1967000.0</td>\n",
       "      <td>1949000.0</td>\n",
       "      <td>1965000.0</td>\n",
       "      <td>170700</td>\n",
       "      <td>1965000.0</td>\n",
       "    </tr>\n",
       "    <tr>\n",
       "      <th>2017-02-23</th>\n",
       "      <td>1951000.0</td>\n",
       "      <td>1972000.0</td>\n",
       "      <td>1951000.0</td>\n",
       "      <td>1959000.0</td>\n",
       "      <td>204300</td>\n",
       "      <td>1959000.0</td>\n",
       "    </tr>\n",
       "    <tr>\n",
       "      <th>2017-02-24</th>\n",
       "      <td>1948000.0</td>\n",
       "      <td>1955000.0</td>\n",
       "      <td>1903000.0</td>\n",
       "      <td>1911000.0</td>\n",
       "      <td>185900</td>\n",
       "      <td>1911000.0</td>\n",
       "    </tr>\n",
       "    <tr>\n",
       "      <th>2017-02-27</th>\n",
       "      <td>1901000.0</td>\n",
       "      <td>1907000.0</td>\n",
       "      <td>1885000.0</td>\n",
       "      <td>1903000.0</td>\n",
       "      <td>180600</td>\n",
       "      <td>1903000.0</td>\n",
       "    </tr>\n",
       "    <tr>\n",
       "      <th>2017-02-28</th>\n",
       "      <td>1903000.0</td>\n",
       "      <td>1938000.0</td>\n",
       "      <td>1898000.0</td>\n",
       "      <td>1922000.0</td>\n",
       "      <td>301700</td>\n",
       "      <td>1922000.0</td>\n",
       "    </tr>\n",
       "    <tr>\n",
       "      <th>2017-03-01</th>\n",
       "      <td>1922000.0</td>\n",
       "      <td>1922000.0</td>\n",
       "      <td>1922000.0</td>\n",
       "      <td>1922000.0</td>\n",
       "      <td>0</td>\n",
       "      <td>1922000.0</td>\n",
       "    </tr>\n",
       "    <tr>\n",
       "      <th>2017-03-02</th>\n",
       "      <td>1921000.0</td>\n",
       "      <td>1993000.0</td>\n",
       "      <td>1921000.0</td>\n",
       "      <td>1986000.0</td>\n",
       "      <td>424900</td>\n",
       "      <td>1986000.0</td>\n",
       "    </tr>\n",
       "    <tr>\n",
       "      <th>2017-03-03</th>\n",
       "      <td>1967000.0</td>\n",
       "      <td>1986000.0</td>\n",
       "      <td>1958000.0</td>\n",
       "      <td>1981000.0</td>\n",
       "      <td>254100</td>\n",
       "      <td>1981000.0</td>\n",
       "    </tr>\n",
       "    <tr>\n",
       "      <th>2017-03-06</th>\n",
       "      <td>1961000.0</td>\n",
       "      <td>2011000.0</td>\n",
       "      <td>1961000.0</td>\n",
       "      <td>2004000.0</td>\n",
       "      <td>244600</td>\n",
       "      <td>2004000.0</td>\n",
       "    </tr>\n",
       "    <tr>\n",
       "      <th>2017-03-07</th>\n",
       "      <td>1990000.0</td>\n",
       "      <td>2016000.0</td>\n",
       "      <td>1990000.0</td>\n",
       "      <td>2010000.0</td>\n",
       "      <td>211000</td>\n",
       "      <td>2010000.0</td>\n",
       "    </tr>\n",
       "    <tr>\n",
       "      <th>2017-03-08</th>\n",
       "      <td>2010000.0</td>\n",
       "      <td>2031000.0</td>\n",
       "      <td>2007000.0</td>\n",
       "      <td>2010000.0</td>\n",
       "      <td>242800</td>\n",
       "      <td>2010000.0</td>\n",
       "    </tr>\n",
       "    <tr>\n",
       "      <th>2017-03-09</th>\n",
       "      <td>2010000.0</td>\n",
       "      <td>2015000.0</td>\n",
       "      <td>2001000.0</td>\n",
       "      <td>2010000.0</td>\n",
       "      <td>287400</td>\n",
       "      <td>2010000.0</td>\n",
       "    </tr>\n",
       "    <tr>\n",
       "      <th>2017-03-10</th>\n",
       "      <td>1998000.0</td>\n",
       "      <td>2021000.0</td>\n",
       "      <td>1993000.0</td>\n",
       "      <td>2009000.0</td>\n",
       "      <td>204500</td>\n",
       "      <td>2009000.0</td>\n",
       "    </tr>\n",
       "    <tr>\n",
       "      <th>2017-03-13</th>\n",
       "      <td>2002000.0</td>\n",
       "      <td>2049000.0</td>\n",
       "      <td>2002000.0</td>\n",
       "      <td>2030000.0</td>\n",
       "      <td>148400</td>\n",
       "      <td>2030000.0</td>\n",
       "    </tr>\n",
       "    <tr>\n",
       "      <th>2017-03-14</th>\n",
       "      <td>2031000.0</td>\n",
       "      <td>2077000.0</td>\n",
       "      <td>2025000.0</td>\n",
       "      <td>2068000.0</td>\n",
       "      <td>226500</td>\n",
       "      <td>2068000.0</td>\n",
       "    </tr>\n",
       "    <tr>\n",
       "      <th>2017-03-15</th>\n",
       "      <td>2040000.0</td>\n",
       "      <td>2072000.0</td>\n",
       "      <td>2040000.0</td>\n",
       "      <td>2070000.0</td>\n",
       "      <td>191700</td>\n",
       "      <td>2070000.0</td>\n",
       "    </tr>\n",
       "    <tr>\n",
       "      <th>2017-03-16</th>\n",
       "      <td>2090000.0</td>\n",
       "      <td>2109000.0</td>\n",
       "      <td>2077000.0</td>\n",
       "      <td>2092000.0</td>\n",
       "      <td>198600</td>\n",
       "      <td>2092000.0</td>\n",
       "    </tr>\n",
       "    <tr>\n",
       "      <th>2017-03-17</th>\n",
       "      <td>2090000.0</td>\n",
       "      <td>2125000.0</td>\n",
       "      <td>2086000.0</td>\n",
       "      <td>2120000.0</td>\n",
       "      <td>252000</td>\n",
       "      <td>2120000.0</td>\n",
       "    </tr>\n",
       "    <tr>\n",
       "      <th>2017-03-20</th>\n",
       "      <td>2100000.0</td>\n",
       "      <td>2106000.0</td>\n",
       "      <td>2087000.0</td>\n",
       "      <td>2095000.0</td>\n",
       "      <td>205000</td>\n",
       "      <td>2095000.0</td>\n",
       "    </tr>\n",
       "    <tr>\n",
       "      <th>2017-03-21</th>\n",
       "      <td>2089000.0</td>\n",
       "      <td>2134000.0</td>\n",
       "      <td>2088000.0</td>\n",
       "      <td>2128000.0</td>\n",
       "      <td>284400</td>\n",
       "      <td>2128000.0</td>\n",
       "    </tr>\n",
       "  </tbody>\n",
       "</table>\n",
       "</div>"
      ],
      "text/plain": [
       "                 Open       High        Low      Close  Volume  Adj Close\n",
       "Date                                                                     \n",
       "2017-02-01  1977000.0  1983000.0  1952000.0  1956000.0  283000  1956000.0\n",
       "2017-02-02  1980000.0  1983000.0  1960000.0  1968000.0  300500  1968000.0\n",
       "2017-02-03  1970000.0  1975000.0  1959000.0  1973000.0  207700  1973000.0\n",
       "2017-02-06  1979000.0  1983000.0  1957000.0  1978000.0  177200  1978000.0\n",
       "2017-02-07  1978000.0  1979000.0  1938000.0  1941000.0  280800  1941000.0\n",
       "2017-02-08  1937000.0  1939000.0  1910000.0  1920000.0  341800  1920000.0\n",
       "2017-02-09  1939000.0  1942000.0  1911000.0  1920000.0  273800  1920000.0\n",
       "2017-02-10  1920000.0  1938000.0  1915000.0  1918000.0  220400  1918000.0\n",
       "2017-02-13  1887000.0  1903000.0  1886000.0  1898000.0  222000  1898000.0\n",
       "2017-02-14  1898000.0  1913000.0  1866000.0  1879000.0  262400  1879000.0\n",
       "2017-02-15  1854000.0  1898000.0  1854000.0  1886000.0  283800  1886000.0\n",
       "2017-02-16  1890000.0  1918000.0  1889000.0  1901000.0  204500  1901000.0\n",
       "2017-02-17  1878000.0  1902000.0  1864000.0  1893000.0  307500  1893000.0\n",
       "2017-02-20  1911000.0  1939000.0  1908000.0  1933000.0  149700  1933000.0\n",
       "2017-02-21  1927000.0  1978000.0  1921000.0  1947000.0  211200  1947000.0\n",
       "2017-02-22  1950000.0  1967000.0  1949000.0  1965000.0  170700  1965000.0\n",
       "2017-02-23  1951000.0  1972000.0  1951000.0  1959000.0  204300  1959000.0\n",
       "2017-02-24  1948000.0  1955000.0  1903000.0  1911000.0  185900  1911000.0\n",
       "2017-02-27  1901000.0  1907000.0  1885000.0  1903000.0  180600  1903000.0\n",
       "2017-02-28  1903000.0  1938000.0  1898000.0  1922000.0  301700  1922000.0\n",
       "2017-03-01  1922000.0  1922000.0  1922000.0  1922000.0       0  1922000.0\n",
       "2017-03-02  1921000.0  1993000.0  1921000.0  1986000.0  424900  1986000.0\n",
       "2017-03-03  1967000.0  1986000.0  1958000.0  1981000.0  254100  1981000.0\n",
       "2017-03-06  1961000.0  2011000.0  1961000.0  2004000.0  244600  2004000.0\n",
       "2017-03-07  1990000.0  2016000.0  1990000.0  2010000.0  211000  2010000.0\n",
       "2017-03-08  2010000.0  2031000.0  2007000.0  2010000.0  242800  2010000.0\n",
       "2017-03-09  2010000.0  2015000.0  2001000.0  2010000.0  287400  2010000.0\n",
       "2017-03-10  1998000.0  2021000.0  1993000.0  2009000.0  204500  2009000.0\n",
       "2017-03-13  2002000.0  2049000.0  2002000.0  2030000.0  148400  2030000.0\n",
       "2017-03-14  2031000.0  2077000.0  2025000.0  2068000.0  226500  2068000.0\n",
       "2017-03-15  2040000.0  2072000.0  2040000.0  2070000.0  191700  2070000.0\n",
       "2017-03-16  2090000.0  2109000.0  2077000.0  2092000.0  198600  2092000.0\n",
       "2017-03-17  2090000.0  2125000.0  2086000.0  2120000.0  252000  2120000.0\n",
       "2017-03-20  2100000.0  2106000.0  2087000.0  2095000.0  205000  2095000.0\n",
       "2017-03-21  2089000.0  2134000.0  2088000.0  2128000.0  284400  2128000.0"
      ]
     },
     "execution_count": 122,
     "metadata": {},
     "output_type": "execute_result"
    }
   ],
   "source": [
    "df['2017-01-01':]"
   ]
  },
  {
   "cell_type": "code",
   "execution_count": 123,
   "metadata": {
    "collapsed": false,
    "deletable": true,
    "editable": true
   },
   "outputs": [
    {
     "data": {
      "text/html": [
       "<div>\n",
       "<table border=\"1\" class=\"dataframe\">\n",
       "  <thead>\n",
       "    <tr style=\"text-align: right;\">\n",
       "      <th></th>\n",
       "      <th>Open</th>\n",
       "      <th>High</th>\n",
       "      <th>Low</th>\n",
       "      <th>Close</th>\n",
       "      <th>Volume</th>\n",
       "      <th>Adj Close</th>\n",
       "    </tr>\n",
       "  </thead>\n",
       "  <tbody>\n",
       "    <tr>\n",
       "      <th>count</th>\n",
       "      <td>3.500000e+01</td>\n",
       "      <td>3.500000e+01</td>\n",
       "      <td>3.500000e+01</td>\n",
       "      <td>3.500000e+01</td>\n",
       "      <td>35.000000</td>\n",
       "      <td>3.500000e+01</td>\n",
       "    </tr>\n",
       "    <tr>\n",
       "      <th>mean</th>\n",
       "      <td>1.965686e+06</td>\n",
       "      <td>1.987971e+06</td>\n",
       "      <td>1.955257e+06</td>\n",
       "      <td>1.974457e+06</td>\n",
       "      <td>232725.714286</td>\n",
       "      <td>1.974457e+06</td>\n",
       "    </tr>\n",
       "    <tr>\n",
       "      <th>std</th>\n",
       "      <td>6.396128e+04</td>\n",
       "      <td>6.656465e+04</td>\n",
       "      <td>6.574520e+04</td>\n",
       "      <td>6.923674e+04</td>\n",
       "      <td>70378.377958</td>\n",
       "      <td>6.923674e+04</td>\n",
       "    </tr>\n",
       "    <tr>\n",
       "      <th>min</th>\n",
       "      <td>1.854000e+06</td>\n",
       "      <td>1.898000e+06</td>\n",
       "      <td>1.854000e+06</td>\n",
       "      <td>1.879000e+06</td>\n",
       "      <td>0.000000</td>\n",
       "      <td>1.879000e+06</td>\n",
       "    </tr>\n",
       "    <tr>\n",
       "      <th>25%</th>\n",
       "      <td>1.920500e+06</td>\n",
       "      <td>1.938500e+06</td>\n",
       "      <td>1.909000e+06</td>\n",
       "      <td>1.920000e+06</td>\n",
       "      <td>201450.000000</td>\n",
       "      <td>1.920000e+06</td>\n",
       "    </tr>\n",
       "    <tr>\n",
       "      <th>50%</th>\n",
       "      <td>1.961000e+06</td>\n",
       "      <td>1.979000e+06</td>\n",
       "      <td>1.951000e+06</td>\n",
       "      <td>1.965000e+06</td>\n",
       "      <td>222000.000000</td>\n",
       "      <td>1.965000e+06</td>\n",
       "    </tr>\n",
       "    <tr>\n",
       "      <th>75%</th>\n",
       "      <td>2.000000e+06</td>\n",
       "      <td>2.018500e+06</td>\n",
       "      <td>1.997000e+06</td>\n",
       "      <td>2.010000e+06</td>\n",
       "      <td>281900.000000</td>\n",
       "      <td>2.010000e+06</td>\n",
       "    </tr>\n",
       "    <tr>\n",
       "      <th>max</th>\n",
       "      <td>2.100000e+06</td>\n",
       "      <td>2.134000e+06</td>\n",
       "      <td>2.088000e+06</td>\n",
       "      <td>2.128000e+06</td>\n",
       "      <td>424900.000000</td>\n",
       "      <td>2.128000e+06</td>\n",
       "    </tr>\n",
       "  </tbody>\n",
       "</table>\n",
       "</div>"
      ],
      "text/plain": [
       "               Open          High           Low         Close         Volume  \\\n",
       "count  3.500000e+01  3.500000e+01  3.500000e+01  3.500000e+01      35.000000   \n",
       "mean   1.965686e+06  1.987971e+06  1.955257e+06  1.974457e+06  232725.714286   \n",
       "std    6.396128e+04  6.656465e+04  6.574520e+04  6.923674e+04   70378.377958   \n",
       "min    1.854000e+06  1.898000e+06  1.854000e+06  1.879000e+06       0.000000   \n",
       "25%    1.920500e+06  1.938500e+06  1.909000e+06  1.920000e+06  201450.000000   \n",
       "50%    1.961000e+06  1.979000e+06  1.951000e+06  1.965000e+06  222000.000000   \n",
       "75%    2.000000e+06  2.018500e+06  1.997000e+06  2.010000e+06  281900.000000   \n",
       "max    2.100000e+06  2.134000e+06  2.088000e+06  2.128000e+06  424900.000000   \n",
       "\n",
       "          Adj Close  \n",
       "count  3.500000e+01  \n",
       "mean   1.974457e+06  \n",
       "std    6.923674e+04  \n",
       "min    1.879000e+06  \n",
       "25%    1.920000e+06  \n",
       "50%    1.965000e+06  \n",
       "75%    2.010000e+06  \n",
       "max    2.128000e+06  "
      ]
     },
     "execution_count": 123,
     "metadata": {},
     "output_type": "execute_result"
    }
   ],
   "source": [
    "df.describe()"
   ]
  },
  {
   "cell_type": "markdown",
   "metadata": {
    "deletable": true,
    "editable": true
   },
   "source": [
    "## 주식 데이터 표현 예제"
   ]
  },
  {
   "cell_type": "code",
   "execution_count": null,
   "metadata": {
    "collapsed": false,
    "deletable": true,
    "editable": true
   },
   "outputs": [],
   "source": [
    "import pandas as pd\n",
    "import pandas_datareader.data\n",
    "import requests\n",
    "import datetime\n",
    "import matplotlib.pyplot as plt\n",
    "\n",
    "CODE='005930.KS'\n",
    "df = pandas_datareader.data.DataReader(CODE, \"yahoo\", '2017-01-01', datetime.datetime.now())\n",
    "\n",
    "df['MA_5'] = df['Adj Close'].rolling(window=5, center=False).mean()\n",
    "df['MA_20'] = df['Adj Close'].rolling(window=20, center=False).mean()\n",
    "df['diff'] = df['MA_5'] - df['MA_20']"
   ]
  },
  {
   "cell_type": "code",
   "execution_count": 71,
   "metadata": {
    "collapsed": false,
    "deletable": true,
    "editable": true
   },
   "outputs": [
    {
     "data": {
      "text/plain": [
       "<bound method FramePlotMethods.line of <pandas.tools.plotting.FramePlotMethods object at 0x0CF71B50>>"
      ]
     },
     "execution_count": 71,
     "metadata": {},
     "output_type": "execute_result"
    }
   ],
   "source": []
  },
  {
   "cell_type": "code",
   "execution_count": null,
   "metadata": {
    "collapsed": true,
    "deletable": true,
    "editable": true
   },
   "outputs": [],
   "source": [
    "fig = plt.gcf()\n",
    "fig.set_size_inches(16,8)\n",
    "\n",
    "#price(가격)\n",
    "price_chart = plt.subplot2grid((4,1),(0,0),rowspan=2)\n",
    "price_chart.plot(df.index, df['Adj Close'], label = 'Adj Close')\n",
    "price_chart.plot(df.index, df['MA_5'], label = 'MA_5')\n",
    "price_chart.plot(df.index, df['MA_20'], label = 'MA_20')\n",
    "\n",
    "plt.title(\"Samsung 2017\")\n",
    "plt.legend(loc='best')\n",
    "\n",
    "vol_chart = plt.subplot2grid((4,1),(2,0), rowspan = 1)\n",
    "vol_chart.bar(df.index, df['Volume'], color = 'c')\n",
    "\n",
    "signal_chart = plt.subplot2grid((4,1), (3,0), rowspan=1)\n",
    "signal_chart.plot(df.index, df['diff'].fillna(0), color = 'g')\n",
    "plt.axhline(y=0, linestyle = '--', color = 'k')\n",
    "\n",
    "prev_key = prev_val = 0\n",
    "for key, val in df['diff'][1:].iteritems():\n",
    "    if val == 0:\n",
    "        continue\n",
    "    elif val * prev_val < 0 and val > prev_val:\n",
    "        print('GOLD', key, val)\n",
    "        price_chart.annotate('Golden', xy = (key, df['MA_20'][key]), xytext=(10,-30), \n",
    "                             textcoords='offset points', arrowprops=dict(arrowstyle='-|>'))        \n",
    "        signal_chart.annotate('BUY', xy = (key, df['diff'][key]), xytext=(10,-30),\n",
    "                              textcoords='offset points', arrowprops=dict(arrowstyle='-|>'))        \n",
    "    elif val * prev_val < 0 and val < prev_val:\n",
    "        print('DEAD', key, val)\n",
    "        price_chart.annotate('Dead', xy = (key, df['MA_20'][key]), xytext=(10,30),\n",
    "                             textcoords='offset points', arrowprops=dict(arrowstyle='-|>'))\n",
    "        signal_chart.annotate('Sell', xy = (key, df['diff'][key]), xytext=(10,30),\n",
    "                             textcoords='offset points', arrowprops=dict(arrowstyle='-|>'))\n",
    "    prev_key, prev_val = key, val\n"
   ]
  },
  {
   "cell_type": "code",
   "execution_count": null,
   "metadata": {
    "collapsed": true,
    "deletable": true,
    "editable": true
   },
   "outputs": [],
   "source": [
    "plt.show()"
   ]
  },
  {
   "cell_type": "code",
   "execution_count": 105,
   "metadata": {
    "collapsed": true,
    "deletable": true,
    "editable": true
   },
   "outputs": [],
   "source": [
    "import pandas as pd\n",
    "import pandas_datareader.data\n",
    "import requests\n",
    "import datetime\n",
    "import matplotlib.pyplot as plt\n",
    "\n",
    "CODE='005930.KS'\n",
    "df = pandas_datareader.data.DataReader(CODE, \"yahoo\", '2017-01-01', datetime.datetime.now())"
   ]
  },
  {
   "cell_type": "code",
   "execution_count": 106,
   "metadata": {
    "collapsed": false,
    "deletable": true,
    "editable": true
   },
   "outputs": [
    {
     "data": {
      "text/html": [
       "<div>\n",
       "<table border=\"1\" class=\"dataframe\">\n",
       "  <thead>\n",
       "    <tr style=\"text-align: right;\">\n",
       "      <th></th>\n",
       "      <th>Open</th>\n",
       "      <th>High</th>\n",
       "      <th>Low</th>\n",
       "      <th>Close</th>\n",
       "      <th>Volume</th>\n",
       "      <th>Adj Close</th>\n",
       "    </tr>\n",
       "    <tr>\n",
       "      <th>Date</th>\n",
       "      <th></th>\n",
       "      <th></th>\n",
       "      <th></th>\n",
       "      <th></th>\n",
       "      <th></th>\n",
       "      <th></th>\n",
       "    </tr>\n",
       "  </thead>\n",
       "  <tbody>\n",
       "    <tr>\n",
       "      <th>2017-03-17</th>\n",
       "      <td>2090000.0</td>\n",
       "      <td>2125000.0</td>\n",
       "      <td>2086000.0</td>\n",
       "      <td>2120000.0</td>\n",
       "      <td>252000</td>\n",
       "      <td>2120000.0</td>\n",
       "    </tr>\n",
       "    <tr>\n",
       "      <th>2017-03-20</th>\n",
       "      <td>2100000.0</td>\n",
       "      <td>2106000.0</td>\n",
       "      <td>2087000.0</td>\n",
       "      <td>2095000.0</td>\n",
       "      <td>205000</td>\n",
       "      <td>2095000.0</td>\n",
       "    </tr>\n",
       "    <tr>\n",
       "      <th>2017-03-21</th>\n",
       "      <td>2089000.0</td>\n",
       "      <td>2134000.0</td>\n",
       "      <td>2088000.0</td>\n",
       "      <td>2128000.0</td>\n",
       "      <td>284400</td>\n",
       "      <td>2128000.0</td>\n",
       "    </tr>\n",
       "  </tbody>\n",
       "</table>\n",
       "</div>"
      ],
      "text/plain": [
       "                 Open       High        Low      Close  Volume  Adj Close\n",
       "Date                                                                     \n",
       "2017-03-17  2090000.0  2125000.0  2086000.0  2120000.0  252000  2120000.0\n",
       "2017-03-20  2100000.0  2106000.0  2087000.0  2095000.0  205000  2095000.0\n",
       "2017-03-21  2089000.0  2134000.0  2088000.0  2128000.0  284400  2128000.0"
      ]
     },
     "execution_count": 106,
     "metadata": {},
     "output_type": "execute_result"
    }
   ],
   "source": [
    "df.tail(3)"
   ]
  },
  {
   "cell_type": "code",
   "execution_count": 109,
   "metadata": {
    "collapsed": false,
    "deletable": true,
    "editable": true
   },
   "outputs": [
    {
     "data": {
      "image/png": "[encoded data removed]",
      "text/plain": [
       "<matplotlib.figure.Figure at 0xcf6e7b0>"
      ]
     },
     "metadata": {},
     "output_type": "display_data"
    }
   ],
   "source": [
    "plt.show()"
   ]
  },
  {
   "cell_type": "markdown",
   "metadata": {
    "deletable": true,
    "editable": true
   },
   "source": [
    "1. Clipboard에 있는것을 pandas형식으로 저장\n",
    " - 웹페이지의 단어를 Copy : <a href =\"http://www.koreabaseball.com/teamrank/teamrank.aspx\"> 야구 순위 </a>"
   ]
  },
  {
   "cell_type": "code",
   "execution_count": null,
   "metadata": {
    "collapsed": true,
    "deletable": true,
    "editable": true
   },
   "outputs": [],
   "source": [
    "#df = pd.read_clipboard()"
   ]
  },
  {
   "cell_type": "markdown",
   "metadata": {
    "deletable": true,
    "editable": true
   },
   "source": [
    "[Object Creation]"
   ]
  },
  {
   "cell_type": "code",
   "execution_count": null,
   "metadata": {
    "collapsed": false,
    "deletable": true,
    "editable": true
   },
   "outputs": [],
   "source": [
    "import pandas as pd\n",
    "import numpy as np\n",
    "import matplotlib.pyplot as plt\n",
    "\n",
    "s = pd.Series([1,3,5,np.nan, 6,8])"
   ]
  },
  {
   "cell_type": "code",
   "execution_count": null,
   "metadata": {
    "collapsed": false,
    "deletable": true,
    "editable": true
   },
   "outputs": [],
   "source": [
    "s"
   ]
  },
  {
   "cell_type": "code",
   "execution_count": null,
   "metadata": {
    "collapsed": false,
    "deletable": true,
    "editable": true
   },
   "outputs": [],
   "source": [
    "data = np.zeros((2,), dtype=[('A', 'i4'),('B', 'f4'),('C', 'a10')])"
   ]
  },
  {
   "cell_type": "code",
   "execution_count": null,
   "metadata": {
    "collapsed": false,
    "deletable": true,
    "editable": true
   },
   "outputs": [],
   "source": [
    "data"
   ]
  },
  {
   "cell_type": "code",
   "execution_count": null,
   "metadata": {
    "collapsed": true,
    "deletable": true,
    "editable": true
   },
   "outputs": [],
   "source": [
    "data[:] = [(1,2,'hello'), (2,3,'world')]"
   ]
  },
  {
   "cell_type": "code",
   "execution_count": null,
   "metadata": {
    "collapsed": false,
    "deletable": true,
    "editable": true
   },
   "outputs": [],
   "source": [
    "data"
   ]
  },
  {
   "cell_type": "code",
   "execution_count": null,
   "metadata": {
    "collapsed": false,
    "deletable": true,
    "editable": true
   },
   "outputs": [],
   "source": [
    "pd.DataFrame(data)"
   ]
  },
  {
   "cell_type": "code",
   "execution_count": null,
   "metadata": {
    "collapsed": true,
    "deletable": true,
    "editable": true
   },
   "outputs": [],
   "source": [
    "data2 = [{'a': 1, 'b': 2}, {'a': 5, 'b': 10, 'c': 20}]"
   ]
  },
  {
   "cell_type": "code",
   "execution_count": null,
   "metadata": {
    "collapsed": false,
    "deletable": true,
    "editable": true
   },
   "outputs": [],
   "source": [
    "pd.DataFrame(data2)"
   ]
  },
  {
   "cell_type": "code",
   "execution_count": null,
   "metadata": {
    "collapsed": true,
    "deletable": true,
    "editable": true
   },
   "outputs": [],
   "source": [
    "d = {'one' : [1., 2., 3., ],}"
   ]
  },
  {
   "cell_type": "code",
   "execution_count": null,
   "metadata": {
    "collapsed": true,
    "deletable": true,
    "editable": true
   },
   "outputs": [],
   "source": [
    "df = pd.DataFrame(d)"
   ]
  },
  {
   "cell_type": "code",
   "execution_count": null,
   "metadata": {
    "collapsed": false,
    "deletable": true,
    "editable": true
   },
   "outputs": [],
   "source": [
    "df"
   ]
  },
  {
   "cell_type": "code",
   "execution_count": null,
   "metadata": {
    "collapsed": false,
    "deletable": true,
    "editable": true
   },
   "outputs": [],
   "source": [
    "e = {'one' : [1., 2., 3., 4. ],}"
   ]
  },
  {
   "cell_type": "code",
   "execution_count": null,
   "metadata": {
    "collapsed": false,
    "deletable": true,
    "editable": true
   },
   "outputs": [],
   "source": [
    "e = pd.DataFrame(e)"
   ]
  },
  {
   "cell_type": "code",
   "execution_count": null,
   "metadata": {
    "collapsed": false,
    "deletable": true,
    "editable": true
   },
   "outputs": [],
   "source": [
    "e"
   ]
  },
  {
   "cell_type": "code",
   "execution_count": null,
   "metadata": {
    "collapsed": false,
    "deletable": true,
    "editable": true
   },
   "outputs": [],
   "source": [
    "df.insert(1, 'bar', e)"
   ]
  },
  {
   "cell_type": "code",
   "execution_count": null,
   "metadata": {
    "collapsed": false,
    "deletable": true,
    "editable": true
   },
   "outputs": [],
   "source": [
    "df"
   ]
  },
  {
   "cell_type": "code",
   "execution_count": null,
   "metadata": {
    "collapsed": true,
    "deletable": true,
    "editable": true
   },
   "outputs": [],
   "source": [
    "df1 = e"
   ]
  },
  {
   "cell_type": "code",
   "execution_count": null,
   "metadata": {
    "collapsed": false,
    "deletable": true,
    "editable": true
   },
   "outputs": [],
   "source": [
    "df1.insert(1, 'bar', e)"
   ]
  },
  {
   "cell_type": "code",
   "execution_count": null,
   "metadata": {
    "collapsed": false,
    "deletable": true,
    "editable": true
   },
   "outputs": [],
   "source": [
    "df1"
   ]
  },
  {
   "cell_type": "code",
   "execution_count": null,
   "metadata": {
    "collapsed": true,
    "deletable": true,
    "editable": true
   },
   "outputs": [],
   "source": [
    "index = pd.date_range('1/1/2000', periods=8)"
   ]
  },
  {
   "cell_type": "code",
   "execution_count": null,
   "metadata": {
    "collapsed": true,
    "deletable": true,
    "editable": true
   },
   "outputs": [],
   "source": [
    "df = pd.DataFrame(np.random.randn(8, 3), index=index, columns=list('ABC'))"
   ]
  },
  {
   "cell_type": "code",
   "execution_count": null,
   "metadata": {
    "collapsed": false,
    "deletable": true,
    "editable": true
   },
   "outputs": [],
   "source": [
    "index"
   ]
  },
  {
   "cell_type": "code",
   "execution_count": null,
   "metadata": {
    "collapsed": false,
    "deletable": true,
    "editable": true
   },
   "outputs": [],
   "source": [
    "df"
   ]
  },
  {
   "cell_type": "code",
   "execution_count": null,
   "metadata": {
    "collapsed": false,
    "deletable": true,
    "editable": true
   },
   "outputs": [],
   "source": [
    "df.loc['2000-01-01']"
   ]
  },
  {
   "cell_type": "code",
   "execution_count": null,
   "metadata": {
    "collapsed": false,
    "deletable": true,
    "editable": true
   },
   "outputs": [],
   "source": [
    "df"
   ]
  },
  {
   "cell_type": "code",
   "execution_count": null,
   "metadata": {
    "collapsed": false,
    "deletable": true,
    "editable": true
   },
   "outputs": [],
   "source": [
    "df.sub(df['A'], axis=0)"
   ]
  },
  {
   "cell_type": "code",
   "execution_count": null,
   "metadata": {
    "collapsed": false,
    "deletable": true,
    "editable": true
   },
   "outputs": [],
   "source": [
    "df.info()"
   ]
  },
  {
   "cell_type": "code",
   "execution_count": null,
   "metadata": {
    "collapsed": false,
    "deletable": true,
    "editable": true
   },
   "outputs": [],
   "source": [
    "df.A"
   ]
  },
  {
   "cell_type": "code",
   "execution_count": null,
   "metadata": {
    "collapsed": true,
    "deletable": true,
    "editable": true
   },
   "outputs": [],
   "source": [
    "midx = pd.MultiIndex(levels=[['one', 'two'], ['x','y']], labels=[[1,1,0,0],[1,0,1,0]])\n"
   ]
  },
  {
   "cell_type": "code",
   "execution_count": null,
   "metadata": {
    "collapsed": false,
    "deletable": true,
    "editable": true
   },
   "outputs": [],
   "source": [
    "midx"
   ]
  },
  {
   "cell_type": "code",
   "execution_count": null,
   "metadata": {
    "collapsed": true,
    "deletable": true,
    "editable": true
   },
   "outputs": [],
   "source": [
    "df = pd.DataFrame({'A' : [1, 2, 3, 4], 'B': [5, 6, 7, 8]}, index=midx)\n"
   ]
  },
  {
   "cell_type": "code",
   "execution_count": null,
   "metadata": {
    "collapsed": false,
    "deletable": true,
    "editable": true
   },
   "outputs": [],
   "source": [
    "df"
   ]
  },
  {
   "cell_type": "code",
   "execution_count": null,
   "metadata": {
    "collapsed": true,
    "deletable": true,
    "editable": true
   },
   "outputs": [],
   "source": [
    "pn = df.to_panel()"
   ]
  },
  {
   "cell_type": "code",
   "execution_count": null,
   "metadata": {
    "collapsed": false,
    "deletable": true,
    "editable": true
   },
   "outputs": [],
   "source": [
    "pn"
   ]
  }
 ],
 "metadata": {
  "anaconda-cloud": {},
  "kernelspec": {
   "display_name": "Python 3",
   "language": "python",
   "name": "python3"
  },
  "language_info": {
   "codemirror_mode": {
    "name": "ipython",
    "version": 3
   },
   "file_extension": ".py",
   "mimetype": "text/x-python",
   "name": "python",
   "nbconvert_exporter": "python",
   "pygments_lexer": "ipython3",
   "version": "3.6.0"
  },
  "nbpresent": {
   "slides": {
    "00870f5c-31a5-4208-a7b7-2d38d83ed4d7": {
     "id": "00870f5c-31a5-4208-a7b7-2d38d83ed4d7",
     "prev": "6a553b2a-266d-470d-87be-e2f56a222553",
     "regions": {
      "82cbe250-fc56-40db-9191-5d1697561dca": {
       "attrs": {
        "height": 0.8,
        "width": 0.8,
        "x": 0.1,
        "y": 0.1
       },
       "content": {
        "cell": "20e352ab-edf1-4638-8aac-94e0828c1706",
        "part": "whole"
       },
       "id": "82cbe250-fc56-40db-9191-5d1697561dca"
      }
     }
    },
    "0e23b95f-a5e3-4e54-be93-9fadbce5d094": {
     "id": "0e23b95f-a5e3-4e54-be93-9fadbce5d094",
     "prev": "9e696514-1c3c-40a0-8428-761c2a8362d6",
     "regions": {
      "03c550f2-9809-46f1-8a0f-a815934eac3b": {
       "attrs": {
        "height": 0.8,
        "width": 0.8,
        "x": 0.1,
        "y": 0.1
       },
       "content": {
        "cell": "49be9dae-a566-426a-b455-ae4a207bc3e2",
        "part": "whole"
       },
       "id": "03c550f2-9809-46f1-8a0f-a815934eac3b"
      }
     }
    },
    "0e3dba63-13e2-4b7a-86cb-872f924d872f": {
     "id": "0e3dba63-13e2-4b7a-86cb-872f924d872f",
     "prev": null,
     "regions": {
      "51130638-3ad6-4459-8310-35f20d890f6c": {
       "attrs": {
        "height": 0.8,
        "width": 0.8,
        "x": 0.1,
        "y": 0.1
       },
       "content": {
        "cell": "e66d5c5e-12a7-4e3a-9e90-c13209cbcb9e",
        "part": "whole"
       },
       "id": "51130638-3ad6-4459-8310-35f20d890f6c"
      }
     }
    },
    "0f0390cb-2a89-49f3-90cd-f8e790473b2c": {
     "id": "0f0390cb-2a89-49f3-90cd-f8e790473b2c",
     "prev": "b4379257-b19c-4eeb-81a1-2b5f02b785c1",
     "regions": {
      "b0c1b299-8c8d-4a77-8513-67a8c5f44f68": {
       "attrs": {
        "height": 0.8,
        "width": 0.8,
        "x": 0.1,
        "y": 0.1
       },
       "content": {
        "cell": "932d560b-5e40-4311-9ed4-267bfed1244e",
        "part": "whole"
       },
       "id": "b0c1b299-8c8d-4a77-8513-67a8c5f44f68"
      }
     }
    },
    "1470d8ae-6651-4e77-aa56-2c9f42ccb1c5": {
     "id": "1470d8ae-6651-4e77-aa56-2c9f42ccb1c5",
     "prev": "0e23b95f-a5e3-4e54-be93-9fadbce5d094",
     "regions": {
      "663fa50c-4268-4b19-b1eb-2e7ace42fb78": {
       "attrs": {
        "height": 0.8,
        "width": 0.8,
        "x": 0.1,
        "y": 0.1
       },
       "content": {
        "cell": "ed924741-ca42-456a-8693-8cf881d51a33",
        "part": "whole"
       },
       "id": "663fa50c-4268-4b19-b1eb-2e7ace42fb78"
      }
     }
    },
    "3e9b9061-bfa6-4b6d-89d0-e1a5d6bbff79": {
     "id": "3e9b9061-bfa6-4b6d-89d0-e1a5d6bbff79",
     "prev": "bdcae75d-3237-4aab-93f2-3c59de0274b4",
     "regions": {
      "6601da4c-4ad2-4e2c-b596-7bd71d52970b": {
       "attrs": {
        "height": 0.8,
        "width": 0.8,
        "x": 0.1,
        "y": 0.1
       },
       "content": {
        "cell": "6864bb3d-20e4-4a07-886e-09f118a76812",
        "part": "whole"
       },
       "id": "6601da4c-4ad2-4e2c-b596-7bd71d52970b"
      }
     }
    },
    "4a293482-4dbd-48bb-90bc-583bd6a3f073": {
     "id": "4a293482-4dbd-48bb-90bc-583bd6a3f073",
     "prev": "ab3dbcc8-d92f-46d3-82b7-35950cdd9d4a",
     "regions": {
      "63d7de15-d00d-4e2e-b718-7320a5da48d9": {
       "attrs": {
        "height": 0.8,
        "width": 0.8,
        "x": 0.1,
        "y": 0.1
       },
       "content": {
        "cell": "17d3dfc4-8c9b-4161-aff0-08135ce7cf20",
        "part": "whole"
       },
       "id": "63d7de15-d00d-4e2e-b718-7320a5da48d9"
      }
     }
    },
    "4bee371b-0c15-429c-8da0-af26970be1f5": {
     "id": "4bee371b-0c15-429c-8da0-af26970be1f5",
     "prev": "fcef3fed-f763-4b67-8aff-6f7fee4cc733",
     "regions": {
      "15918063-4d0a-4d74-af73-ac0db915039b": {
       "attrs": {
        "height": 0.8,
        "width": 0.8,
        "x": 0.1,
        "y": 0.1
       },
       "content": {
        "cell": "bc1eb46c-fb0a-4bd3-852c-c143041ede5c",
        "part": "whole"
       },
       "id": "15918063-4d0a-4d74-af73-ac0db915039b"
      }
     }
    },
    "512b4732-4b42-46d9-8d5a-d444a7957926": {
     "id": "512b4732-4b42-46d9-8d5a-d444a7957926",
     "prev": "98bb26cf-7edf-4876-b004-bc69d9b2b41d",
     "regions": {
      "9a9e3d8c-451c-417b-ac6a-cfe1adf3559f": {
       "attrs": {
        "height": 1,
        "width": 1,
        "x": 0,
        "y": 0
       },
       "id": "9a9e3d8c-451c-417b-ac6a-cfe1adf3559f"
      }
     }
    },
    "6a553b2a-266d-470d-87be-e2f56a222553": {
     "id": "6a553b2a-266d-470d-87be-e2f56a222553",
     "prev": "4bee371b-0c15-429c-8da0-af26970be1f5",
     "regions": {
      "167940fd-cef0-45c7-887b-3480580a469d": {
       "attrs": {
        "height": 0.8,
        "width": 0.8,
        "x": 0.1,
        "y": 0.1
       },
       "content": {
        "cell": "714e0777-6935-497a-b23e-5a38d0db64e1",
        "part": "whole"
       },
       "id": "167940fd-cef0-45c7-887b-3480580a469d"
      }
     }
    },
    "7809296a-f0ce-4571-a300-79b8676d48e4": {
     "id": "7809296a-f0ce-4571-a300-79b8676d48e4",
     "prev": "1470d8ae-6651-4e77-aa56-2c9f42ccb1c5",
     "regions": {
      "149a4f14-1baf-4185-956a-955c1965f1c6": {
       "attrs": {
        "height": 0.8,
        "width": 0.8,
        "x": 0.1,
        "y": 0.1
       },
       "content": {
        "cell": "ad387461-4005-4e32-85dd-bae890bd3379",
        "part": "whole"
       },
       "id": "149a4f14-1baf-4185-956a-955c1965f1c6"
      }
     }
    },
    "8d2ea0de-4597-48b8-91b0-c75ad79c328d": {
     "id": "8d2ea0de-4597-48b8-91b0-c75ad79c328d",
     "prev": "988f7f09-2623-4d16-978f-7651877bf00a",
     "regions": {
      "5097b89d-e19f-4a1f-8c6e-133757b92af1": {
       "attrs": {
        "height": 0.8,
        "width": 0.8,
        "x": 0.1,
        "y": 0.1
       },
       "content": {
        "cell": "4a38d4ae-1654-4126-ae5b-330eae12f00f",
        "part": "whole"
       },
       "id": "5097b89d-e19f-4a1f-8c6e-133757b92af1"
      }
     }
    },
    "8f46b258-371f-4050-8296-7879cc833a51": {
     "id": "8f46b258-371f-4050-8296-7879cc833a51",
     "prev": "b5010567-1802-4449-8280-abf8867e5e08",
     "regions": {
      "dc2a3459-0371-4c1d-aaad-a7b9ca9beaa1": {
       "attrs": {
        "height": 0.8,
        "width": 0.8,
        "x": 0.1,
        "y": 0.1
       },
       "content": {
        "cell": "45c30890-f0ab-4aff-a38e-9cc1f09b97e3",
        "part": "whole"
       },
       "id": "dc2a3459-0371-4c1d-aaad-a7b9ca9beaa1"
      }
     }
    },
    "95aac8f4-df31-4104-943e-399b03956bb7": {
     "id": "95aac8f4-df31-4104-943e-399b03956bb7",
     "prev": "00870f5c-31a5-4208-a7b7-2d38d83ed4d7",
     "regions": {
      "3519c092-2961-4edd-bd81-4178bb017e4a": {
       "attrs": {
        "height": 0.8,
        "width": 0.8,
        "x": 0.1,
        "y": 0.1
       },
       "content": {
        "cell": "032d0ffe-fcc4-489f-8afe-c592a0bb615e",
        "part": "whole"
       },
       "id": "3519c092-2961-4edd-bd81-4178bb017e4a"
      }
     }
    },
    "988f7f09-2623-4d16-978f-7651877bf00a": {
     "id": "988f7f09-2623-4d16-978f-7651877bf00a",
     "prev": "0f0390cb-2a89-49f3-90cd-f8e790473b2c",
     "regions": {
      "3c886705-ea62-4b96-9f87-41f4941c18d1": {
       "attrs": {
        "height": 0.8,
        "width": 0.8,
        "x": 0.1,
        "y": 0.1
       },
       "content": {
        "cell": "54edce2a-b734-418b-8e35-ab3f5483988a",
        "part": "whole"
       },
       "id": "3c886705-ea62-4b96-9f87-41f4941c18d1"
      }
     }
    },
    "98bb26cf-7edf-4876-b004-bc69d9b2b41d": {
     "id": "98bb26cf-7edf-4876-b004-bc69d9b2b41d",
     "prev": "cbdd725e-7f09-447b-be3d-c4c764fff67b",
     "regions": {
      "c644d39c-1b21-4b88-a929-fcc8d068032d": {
       "attrs": {
        "height": 0.8,
        "width": 0.8,
        "x": 0.1,
        "y": 0.1
       },
       "content": {
        "cell": "8b93f980-e6fd-4e04-9102-055a0adf8083",
        "part": "whole"
       },
       "id": "c644d39c-1b21-4b88-a929-fcc8d068032d"
      }
     }
    },
    "9e696514-1c3c-40a0-8428-761c2a8362d6": {
     "id": "9e696514-1c3c-40a0-8428-761c2a8362d6",
     "prev": "8d2ea0de-4597-48b8-91b0-c75ad79c328d",
     "regions": {
      "fdfd4c33-74b3-4adb-bb7b-556e841e3a18": {
       "attrs": {
        "height": 0.8,
        "width": 0.8,
        "x": 0.1,
        "y": 0.1
       },
       "content": {
        "cell": "b689cd05-fb87-402a-b739-24fb7e5b1890",
        "part": "whole"
       },
       "id": "fdfd4c33-74b3-4adb-bb7b-556e841e3a18"
      }
     }
    },
    "a6f9351c-b4f9-4a1d-931d-68755bf1887a": {
     "id": "a6f9351c-b4f9-4a1d-931d-68755bf1887a",
     "prev": "4a293482-4dbd-48bb-90bc-583bd6a3f073",
     "regions": {
      "fb570c40-1760-4573-8fdd-c8b04ad43540": {
       "attrs": {
        "height": 0.8,
        "width": 0.8,
        "x": 0.1,
        "y": 0.1
       },
       "content": {
        "cell": "c71482d8-3d84-4cd7-a865-cdbf346c8aa1",
        "part": "whole"
       },
       "id": "fb570c40-1760-4573-8fdd-c8b04ad43540"
      }
     }
    },
    "ab3dbcc8-d92f-46d3-82b7-35950cdd9d4a": {
     "id": "ab3dbcc8-d92f-46d3-82b7-35950cdd9d4a",
     "prev": "ac0c7e3b-d1f9-4302-80c1-a01bbfca315c",
     "regions": {
      "e1c2a0bc-91f5-4638-b0d4-ab9692c0baae": {
       "attrs": {
        "height": 0.8,
        "width": 0.8,
        "x": 0.1,
        "y": 0.1
       },
       "content": {
        "cell": "f54b486c-c240-416c-960b-98a82c0b5cf8",
        "part": "whole"
       },
       "id": "e1c2a0bc-91f5-4638-b0d4-ab9692c0baae"
      }
     }
    },
    "ac0c7e3b-d1f9-4302-80c1-a01bbfca315c": {
     "id": "ac0c7e3b-d1f9-4302-80c1-a01bbfca315c",
     "prev": "e0bfa90f-0c5a-4ce6-91db-6cc6e7f40ff3",
     "regions": {
      "d73f250d-b0b3-41df-8d47-b82978afca3f": {
       "attrs": {
        "height": 0.8,
        "width": 0.8,
        "x": 0.1,
        "y": 0.1
       },
       "content": {
        "cell": "61b4fc74-bb38-4286-8ec4-22cf1a0ab3f4",
        "part": "whole"
       },
       "id": "d73f250d-b0b3-41df-8d47-b82978afca3f"
      }
     }
    },
    "b4379257-b19c-4eeb-81a1-2b5f02b785c1": {
     "id": "b4379257-b19c-4eeb-81a1-2b5f02b785c1",
     "prev": "512b4732-4b42-46d9-8d5a-d444a7957926",
     "regions": {
      "37f40f87-4790-47c0-9fa3-a1636d9c2229": {
       "attrs": {
        "height": 0.8,
        "width": 0.2,
        "x": 0.7,
        "y": 0.1
       },
       "id": "37f40f87-4790-47c0-9fa3-a1636d9c2229"
      },
      "41599c37-50de-49ee-aa33-37aa030bff13": {
       "attrs": {
        "height": 0.8,
        "width": 0.2,
        "x": 0.1,
        "y": 0.1
       },
       "id": "41599c37-50de-49ee-aa33-37aa030bff13"
      },
      "cbf99f4e-467a-4802-b5e7-0cf5263f86fb": {
       "attrs": {
        "height": 0.8,
        "width": 0.2,
        "x": 0.4,
        "y": 0.1
       },
       "id": "cbf99f4e-467a-4802-b5e7-0cf5263f86fb"
      }
     }
    },
    "b5010567-1802-4449-8280-abf8867e5e08": {
     "id": "b5010567-1802-4449-8280-abf8867e5e08",
     "prev": "3e9b9061-bfa6-4b6d-89d0-e1a5d6bbff79",
     "regions": {
      "c8ac9174-2950-4ef7-b90c-b9bfff51a4d1": {
       "attrs": {
        "height": 0.8,
        "width": 0.8,
        "x": 0.1,
        "y": 0.1
       },
       "content": {
        "cell": "5cc3fb9d-fc2c-42da-8434-7fb374a279b5",
        "part": "whole"
       },
       "id": "c8ac9174-2950-4ef7-b90c-b9bfff51a4d1"
      }
     }
    },
    "bdcae75d-3237-4aab-93f2-3c59de0274b4": {
     "id": "bdcae75d-3237-4aab-93f2-3c59de0274b4",
     "prev": "0e3dba63-13e2-4b7a-86cb-872f924d872f",
     "regions": {
      "659fbdf5-3634-45bb-8f55-cb2ad81a5da5": {
       "attrs": {
        "height": 0.8,
        "width": 0.8,
        "x": 0.1,
        "y": 0.1
       },
       "content": {
        "cell": "7fa00731-2d0a-4a98-9ef0-d5b23e4b26f5",
        "part": "whole"
       },
       "id": "659fbdf5-3634-45bb-8f55-cb2ad81a5da5"
      }
     }
    },
    "cbdd725e-7f09-447b-be3d-c4c764fff67b": {
     "id": "cbdd725e-7f09-447b-be3d-c4c764fff67b",
     "prev": "a6f9351c-b4f9-4a1d-931d-68755bf1887a",
     "regions": {
      "59ecb648-6092-47e8-866c-6b5d8c3ed85c": {
       "attrs": {
        "height": 0.8,
        "width": 0.8,
        "x": 0.1,
        "y": 0.1
       },
       "content": {
        "cell": "47c47743-9d61-4373-9218-b0df14437d90",
        "part": "whole"
       },
       "id": "59ecb648-6092-47e8-866c-6b5d8c3ed85c"
      }
     }
    },
    "e0bfa90f-0c5a-4ce6-91db-6cc6e7f40ff3": {
     "id": "e0bfa90f-0c5a-4ce6-91db-6cc6e7f40ff3",
     "prev": "8f46b258-371f-4050-8296-7879cc833a51",
     "regions": {
      "58a80420-ebb7-4733-9823-36e29dcc3b9c": {
       "attrs": {
        "height": 0.8,
        "width": 0.8,
        "x": 0.1,
        "y": 0.1
       },
       "content": {
        "cell": "96066229-e5cc-4285-bde6-08381edd2468",
        "part": "whole"
       },
       "id": "58a80420-ebb7-4733-9823-36e29dcc3b9c"
      }
     }
    },
    "fcef3fed-f763-4b67-8aff-6f7fee4cc733": {
     "id": "fcef3fed-f763-4b67-8aff-6f7fee4cc733",
     "prev": "7809296a-f0ce-4571-a300-79b8676d48e4",
     "regions": {
      "9e2c95c4-c24f-4591-80a1-83753156d463": {
       "attrs": {
        "height": 0.8,
        "width": 0.8,
        "x": 0.1,
        "y": 0.1
       },
       "content": {
        "cell": "cbfdbbd5-2a28-4b7c-8aea-0173595333ed",
        "part": "whole"
       },
       "id": "9e2c95c4-c24f-4591-80a1-83753156d463"
      }
     }
    }
   },
   "themes": {}
  }
 },
 "nbformat": 4,
 "nbformat_minor": 1
}
