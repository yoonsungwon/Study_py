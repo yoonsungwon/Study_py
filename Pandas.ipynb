{
 "cells": [
  {
   "cell_type": "markdown",
   "metadata": {
    "deletable": true,
    "editable": true
   },
   "source": [
    "# 1. Pandas\n",
    "\n",
    "- 정의 : 데이터 가공 및 분석을 위해 만들어진 Python 라이브러리\n",
    "- Pandas라는 이름은 \"Panel data\"에서 유래함(개량경제학 용어로써 다차원의 구조화된 데이터셋을 다룸)\n",
    "> balanced panel\n",
    "![balanced panel](https://wikimedia.org/api/rest_v1/media/math/render/svg/de4ab9449dffb05244e681551e6f3ce710856ac6)\n",
    "unbalanced panel\n",
    "![unbalanced panel](https://wikimedia.org/api/rest_v1/media/math/render/svg/fad5580f0bc2deadc1a110b647dded40867600c0)\n",
    "\n",
    "## 1.1 10 Minute to pandas (http://pandas.pydata.org/pandas-docs/stable/10min.html)\n",
    " - Object 생성([Object Creation](http://pandas.pydata.org/pandas-docs/stable/10min.html#object-creation))\n",
    " - 데이터 조회([Viewing Data](http://pandas.pydata.org/pandas-docs/stable/10min.html#viewing-data))\n",
    " - 데이터 선택([Selection](http://pandas.pydata.org/pandas-docs/stable/10min.html#selection))\n",
    "     - Selection by Label\n",
    "     - Selection by Position\n",
    "     - Boolean Indexing\n",
    "     - Setting\n",
    " - 누락 데이터([Missing Data](http://pandas.pydata.org/pandas-docs/stable/10min.html#missing-data))\n",
    " - Pandas 계산([Operations](http://pandas.pydata.org/pandas-docs/stable/10min.html#operations))\n",
    "     - Stats\n",
    "     - Apply\n",
    "     - Histogramming\n",
    "     - String Methods\n",
    " - 병합([Merge](http://pandas.pydata.org/pandas-docs/stable/10min.html#merge))\n",
    "     - Concat\n",
    "     - Join\n",
    "     - Append\n",
    " - 그룹화([Grouping](http://pandas.pydata.org/pandas-docs/stable/10min.html#grouping))\n",
    " - 변형([Reshaping](http://pandas.pydata.org/pandas-docs/stable/10min.html#reshaping))\n",
    "     - Stack\n",
    "     - Pivot Tables\n",
    " - 시계열([Time Series](http://pandas.pydata.org/pandas-docs/stable/10min.html#time-series))\n",
    " - 분류([Categoricals](http://pandas.pydata.org/pandas-docs/stable/10min.html#categoricals))\n",
    " - 그래프([Plotting](http://pandas.pydata.org/pandas-docs/stable/10min.html#plotting))\n",
    " - 데이터 입출력([Getting Data in/out](http://pandas.pydata.org/pandas-docs/stable/10min.html#getting-data-in-out))\n",
    " - [Gotchas](http://pandas.pydata.org/pandas-docs/stable/10min.html#gotchas)"
   ]
  },
  {
   "cell_type": "markdown",
   "metadata": {
    "deletable": true,
    "editable": true
   },
   "source": [
    "### 1.1.1 Object 생성"
   ]
  },
  {
   "cell_type": "code",
   "execution_count": 59,
   "metadata": {
    "collapsed": false,
    "deletable": true,
    "editable": true
   },
   "outputs": [],
   "source": [
    "import pandas as pd\n",
    "import numpy as np\n",
    "s = pd.Series([1,3,5,np.nan,6,8])\n",
    "dates = pd.date_range('20130101', periods=6)\n",
    "df = pd.DataFrame(np.random.randn(6,4), index=dates, columns=list('ABCD'))"
   ]
  },
  {
   "cell_type": "markdown",
   "metadata": {
    "deletable": true,
    "editable": true
   },
   "source": [
    "### 1.1.2 데이터 조회"
   ]
  },
  {
   "cell_type": "markdown",
   "metadata": {
    "deletable": true,
    "editable": true
   },
   "source": [
    "#### 1.1.2.1 처음과 끝 조회"
   ]
  },
  {
   "cell_type": "code",
   "execution_count": 60,
   "metadata": {
    "collapsed": false,
    "deletable": true,
    "editable": true
   },
   "outputs": [
    {
     "data": {
      "text/html": [
       "<div>\n",
       "<table border=\"1\" class=\"dataframe\">\n",
       "  <thead>\n",
       "    <tr style=\"text-align: right;\">\n",
       "      <th></th>\n",
       "      <th>A</th>\n",
       "      <th>B</th>\n",
       "      <th>C</th>\n",
       "      <th>D</th>\n",
       "    </tr>\n",
       "  </thead>\n",
       "  <tbody>\n",
       "    <tr>\n",
       "      <th>2013-01-01</th>\n",
       "      <td>-2.328059</td>\n",
       "      <td>0.297009</td>\n",
       "      <td>0.130654</td>\n",
       "      <td>-0.661773</td>\n",
       "    </tr>\n",
       "    <tr>\n",
       "      <th>2013-01-02</th>\n",
       "      <td>0.068961</td>\n",
       "      <td>-0.102853</td>\n",
       "      <td>0.214349</td>\n",
       "      <td>1.137403</td>\n",
       "    </tr>\n",
       "    <tr>\n",
       "      <th>2013-01-03</th>\n",
       "      <td>0.275312</td>\n",
       "      <td>-1.140510</td>\n",
       "      <td>-0.400254</td>\n",
       "      <td>0.515890</td>\n",
       "    </tr>\n",
       "    <tr>\n",
       "      <th>2013-01-04</th>\n",
       "      <td>-1.197599</td>\n",
       "      <td>0.739873</td>\n",
       "      <td>-1.009280</td>\n",
       "      <td>0.218141</td>\n",
       "    </tr>\n",
       "    <tr>\n",
       "      <th>2013-01-05</th>\n",
       "      <td>-0.299502</td>\n",
       "      <td>0.956948</td>\n",
       "      <td>-1.046370</td>\n",
       "      <td>2.162167</td>\n",
       "    </tr>\n",
       "  </tbody>\n",
       "</table>\n",
       "</div>"
      ],
      "text/plain": [
       "                   A         B         C         D\n",
       "2013-01-01 -2.328059  0.297009  0.130654 -0.661773\n",
       "2013-01-02  0.068961 -0.102853  0.214349  1.137403\n",
       "2013-01-03  0.275312 -1.140510 -0.400254  0.515890\n",
       "2013-01-04 -1.197599  0.739873 -1.009280  0.218141\n",
       "2013-01-05 -0.299502  0.956948 -1.046370  2.162167"
      ]
     },
     "execution_count": 60,
     "metadata": {},
     "output_type": "execute_result"
    }
   ],
   "source": [
    "df.head()"
   ]
  },
  {
   "cell_type": "code",
   "execution_count": 61,
   "metadata": {
    "collapsed": false,
    "deletable": true,
    "editable": true
   },
   "outputs": [
    {
     "data": {
      "text/html": [
       "<div>\n",
       "<table border=\"1\" class=\"dataframe\">\n",
       "  <thead>\n",
       "    <tr style=\"text-align: right;\">\n",
       "      <th></th>\n",
       "      <th>A</th>\n",
       "      <th>B</th>\n",
       "      <th>C</th>\n",
       "      <th>D</th>\n",
       "    </tr>\n",
       "  </thead>\n",
       "  <tbody>\n",
       "    <tr>\n",
       "      <th>2013-01-04</th>\n",
       "      <td>-1.197599</td>\n",
       "      <td>0.739873</td>\n",
       "      <td>-1.009280</td>\n",
       "      <td>0.218141</td>\n",
       "    </tr>\n",
       "    <tr>\n",
       "      <th>2013-01-05</th>\n",
       "      <td>-0.299502</td>\n",
       "      <td>0.956948</td>\n",
       "      <td>-1.046370</td>\n",
       "      <td>2.162167</td>\n",
       "    </tr>\n",
       "    <tr>\n",
       "      <th>2013-01-06</th>\n",
       "      <td>-0.242780</td>\n",
       "      <td>-0.016623</td>\n",
       "      <td>-0.541045</td>\n",
       "      <td>0.257147</td>\n",
       "    </tr>\n",
       "  </tbody>\n",
       "</table>\n",
       "</div>"
      ],
      "text/plain": [
       "                   A         B         C         D\n",
       "2013-01-04 -1.197599  0.739873 -1.009280  0.218141\n",
       "2013-01-05 -0.299502  0.956948 -1.046370  2.162167\n",
       "2013-01-06 -0.242780 -0.016623 -0.541045  0.257147"
      ]
     },
     "execution_count": 61,
     "metadata": {},
     "output_type": "execute_result"
    }
   ],
   "source": [
    "df.tail(3)"
   ]
  },
  {
   "cell_type": "markdown",
   "metadata": {
    "deletable": true,
    "editable": true
   },
   "source": [
    "#### 1.1.2.2 인덱스, 컬럼, 값 조회"
   ]
  },
  {
   "cell_type": "code",
   "execution_count": 62,
   "metadata": {
    "collapsed": false,
    "deletable": true,
    "editable": true
   },
   "outputs": [
    {
     "data": {
      "text/plain": [
       "DatetimeIndex(['2013-01-01', '2013-01-02', '2013-01-03', '2013-01-04',\n",
       "               '2013-01-05', '2013-01-06'],\n",
       "              dtype='datetime64[ns]', freq='D')"
      ]
     },
     "execution_count": 62,
     "metadata": {},
     "output_type": "execute_result"
    }
   ],
   "source": [
    "df.index"
   ]
  },
  {
   "cell_type": "code",
   "execution_count": 63,
   "metadata": {
    "collapsed": false,
    "deletable": true,
    "editable": true
   },
   "outputs": [
    {
     "data": {
      "text/plain": [
       "Index(['A', 'B', 'C', 'D'], dtype='object')"
      ]
     },
     "execution_count": 63,
     "metadata": {},
     "output_type": "execute_result"
    }
   ],
   "source": [
    "df.columns"
   ]
  },
  {
   "cell_type": "code",
   "execution_count": 64,
   "metadata": {
    "collapsed": false,
    "deletable": true,
    "editable": true
   },
   "outputs": [
    {
     "data": {
      "text/plain": [
       "array([[-2.32805921,  0.29700896,  0.13065387, -0.66177254],\n",
       "       [ 0.06896149, -0.10285273,  0.21434907,  1.13740321],\n",
       "       [ 0.27531191, -1.14050954, -0.40025371,  0.51589004],\n",
       "       [-1.19759935,  0.73987308, -1.0092796 ,  0.21814124],\n",
       "       [-0.29950177,  0.95694758, -1.04636955,  2.16216697],\n",
       "       [-0.24277998, -0.01662258, -0.54104538,  0.25714681]])"
      ]
     },
     "execution_count": 64,
     "metadata": {},
     "output_type": "execute_result"
    }
   ],
   "source": [
    "df.values"
   ]
  },
  {
   "cell_type": "markdown",
   "metadata": {
    "deletable": true,
    "editable": true
   },
   "source": [
    "#### 1.1.2.3 통계 데이터, 변환, 정렬"
   ]
  },
  {
   "cell_type": "code",
   "execution_count": 65,
   "metadata": {
    "collapsed": false,
    "deletable": true,
    "editable": true
   },
   "outputs": [
    {
     "data": {
      "text/html": [
       "<div>\n",
       "<table border=\"1\" class=\"dataframe\">\n",
       "  <thead>\n",
       "    <tr style=\"text-align: right;\">\n",
       "      <th></th>\n",
       "      <th>A</th>\n",
       "      <th>B</th>\n",
       "      <th>C</th>\n",
       "      <th>D</th>\n",
       "    </tr>\n",
       "  </thead>\n",
       "  <tbody>\n",
       "    <tr>\n",
       "      <th>count</th>\n",
       "      <td>6.000000</td>\n",
       "      <td>6.000000</td>\n",
       "      <td>6.000000</td>\n",
       "      <td>6.000000</td>\n",
       "    </tr>\n",
       "    <tr>\n",
       "      <th>mean</th>\n",
       "      <td>-0.620611</td>\n",
       "      <td>0.122307</td>\n",
       "      <td>-0.441991</td>\n",
       "      <td>0.604829</td>\n",
       "    </tr>\n",
       "    <tr>\n",
       "      <th>std</th>\n",
       "      <td>0.976970</td>\n",
       "      <td>0.744747</td>\n",
       "      <td>0.539879</td>\n",
       "      <td>0.958284</td>\n",
       "    </tr>\n",
       "    <tr>\n",
       "      <th>min</th>\n",
       "      <td>-2.328059</td>\n",
       "      <td>-1.140510</td>\n",
       "      <td>-1.046370</td>\n",
       "      <td>-0.661773</td>\n",
       "    </tr>\n",
       "    <tr>\n",
       "      <th>25%</th>\n",
       "      <td>-0.973075</td>\n",
       "      <td>-0.081295</td>\n",
       "      <td>-0.892221</td>\n",
       "      <td>0.227893</td>\n",
       "    </tr>\n",
       "    <tr>\n",
       "      <th>50%</th>\n",
       "      <td>-0.271141</td>\n",
       "      <td>0.140193</td>\n",
       "      <td>-0.470650</td>\n",
       "      <td>0.386518</td>\n",
       "    </tr>\n",
       "    <tr>\n",
       "      <th>75%</th>\n",
       "      <td>-0.008974</td>\n",
       "      <td>0.629157</td>\n",
       "      <td>-0.002073</td>\n",
       "      <td>0.982025</td>\n",
       "    </tr>\n",
       "    <tr>\n",
       "      <th>max</th>\n",
       "      <td>0.275312</td>\n",
       "      <td>0.956948</td>\n",
       "      <td>0.214349</td>\n",
       "      <td>2.162167</td>\n",
       "    </tr>\n",
       "  </tbody>\n",
       "</table>\n",
       "</div>"
      ],
      "text/plain": [
       "              A         B         C         D\n",
       "count  6.000000  6.000000  6.000000  6.000000\n",
       "mean  -0.620611  0.122307 -0.441991  0.604829\n",
       "std    0.976970  0.744747  0.539879  0.958284\n",
       "min   -2.328059 -1.140510 -1.046370 -0.661773\n",
       "25%   -0.973075 -0.081295 -0.892221  0.227893\n",
       "50%   -0.271141  0.140193 -0.470650  0.386518\n",
       "75%   -0.008974  0.629157 -0.002073  0.982025\n",
       "max    0.275312  0.956948  0.214349  2.162167"
      ]
     },
     "execution_count": 65,
     "metadata": {},
     "output_type": "execute_result"
    }
   ],
   "source": [
    "df.describe()"
   ]
  },
  {
   "cell_type": "code",
   "execution_count": 66,
   "metadata": {
    "collapsed": false,
    "deletable": true,
    "editable": true
   },
   "outputs": [
    {
     "data": {
      "text/html": [
       "<div>\n",
       "<table border=\"1\" class=\"dataframe\">\n",
       "  <thead>\n",
       "    <tr style=\"text-align: right;\">\n",
       "      <th></th>\n",
       "      <th>2013-01-01 00:00:00</th>\n",
       "      <th>2013-01-02 00:00:00</th>\n",
       "      <th>2013-01-03 00:00:00</th>\n",
       "      <th>2013-01-04 00:00:00</th>\n",
       "      <th>2013-01-05 00:00:00</th>\n",
       "      <th>2013-01-06 00:00:00</th>\n",
       "    </tr>\n",
       "  </thead>\n",
       "  <tbody>\n",
       "    <tr>\n",
       "      <th>A</th>\n",
       "      <td>-2.328059</td>\n",
       "      <td>0.068961</td>\n",
       "      <td>0.275312</td>\n",
       "      <td>-1.197599</td>\n",
       "      <td>-0.299502</td>\n",
       "      <td>-0.242780</td>\n",
       "    </tr>\n",
       "    <tr>\n",
       "      <th>B</th>\n",
       "      <td>0.297009</td>\n",
       "      <td>-0.102853</td>\n",
       "      <td>-1.140510</td>\n",
       "      <td>0.739873</td>\n",
       "      <td>0.956948</td>\n",
       "      <td>-0.016623</td>\n",
       "    </tr>\n",
       "    <tr>\n",
       "      <th>C</th>\n",
       "      <td>0.130654</td>\n",
       "      <td>0.214349</td>\n",
       "      <td>-0.400254</td>\n",
       "      <td>-1.009280</td>\n",
       "      <td>-1.046370</td>\n",
       "      <td>-0.541045</td>\n",
       "    </tr>\n",
       "    <tr>\n",
       "      <th>D</th>\n",
       "      <td>-0.661773</td>\n",
       "      <td>1.137403</td>\n",
       "      <td>0.515890</td>\n",
       "      <td>0.218141</td>\n",
       "      <td>2.162167</td>\n",
       "      <td>0.257147</td>\n",
       "    </tr>\n",
       "  </tbody>\n",
       "</table>\n",
       "</div>"
      ],
      "text/plain": [
       "   2013-01-01  2013-01-02  2013-01-03  2013-01-04  2013-01-05  2013-01-06\n",
       "A   -2.328059    0.068961    0.275312   -1.197599   -0.299502   -0.242780\n",
       "B    0.297009   -0.102853   -1.140510    0.739873    0.956948   -0.016623\n",
       "C    0.130654    0.214349   -0.400254   -1.009280   -1.046370   -0.541045\n",
       "D   -0.661773    1.137403    0.515890    0.218141    2.162167    0.257147"
      ]
     },
     "execution_count": 66,
     "metadata": {},
     "output_type": "execute_result"
    }
   ],
   "source": [
    "df.T"
   ]
  },
  {
   "cell_type": "code",
   "execution_count": 67,
   "metadata": {
    "collapsed": false,
    "deletable": true,
    "editable": true
   },
   "outputs": [
    {
     "data": {
      "text/html": [
       "<div>\n",
       "<table border=\"1\" class=\"dataframe\">\n",
       "  <thead>\n",
       "    <tr style=\"text-align: right;\">\n",
       "      <th></th>\n",
       "      <th>D</th>\n",
       "      <th>C</th>\n",
       "      <th>B</th>\n",
       "      <th>A</th>\n",
       "    </tr>\n",
       "  </thead>\n",
       "  <tbody>\n",
       "    <tr>\n",
       "      <th>2013-01-01</th>\n",
       "      <td>-0.661773</td>\n",
       "      <td>0.130654</td>\n",
       "      <td>0.297009</td>\n",
       "      <td>-2.328059</td>\n",
       "    </tr>\n",
       "    <tr>\n",
       "      <th>2013-01-02</th>\n",
       "      <td>1.137403</td>\n",
       "      <td>0.214349</td>\n",
       "      <td>-0.102853</td>\n",
       "      <td>0.068961</td>\n",
       "    </tr>\n",
       "    <tr>\n",
       "      <th>2013-01-03</th>\n",
       "      <td>0.515890</td>\n",
       "      <td>-0.400254</td>\n",
       "      <td>-1.140510</td>\n",
       "      <td>0.275312</td>\n",
       "    </tr>\n",
       "    <tr>\n",
       "      <th>2013-01-04</th>\n",
       "      <td>0.218141</td>\n",
       "      <td>-1.009280</td>\n",
       "      <td>0.739873</td>\n",
       "      <td>-1.197599</td>\n",
       "    </tr>\n",
       "    <tr>\n",
       "      <th>2013-01-05</th>\n",
       "      <td>2.162167</td>\n",
       "      <td>-1.046370</td>\n",
       "      <td>0.956948</td>\n",
       "      <td>-0.299502</td>\n",
       "    </tr>\n",
       "    <tr>\n",
       "      <th>2013-01-06</th>\n",
       "      <td>0.257147</td>\n",
       "      <td>-0.541045</td>\n",
       "      <td>-0.016623</td>\n",
       "      <td>-0.242780</td>\n",
       "    </tr>\n",
       "  </tbody>\n",
       "</table>\n",
       "</div>"
      ],
      "text/plain": [
       "                   D         C         B         A\n",
       "2013-01-01 -0.661773  0.130654  0.297009 -2.328059\n",
       "2013-01-02  1.137403  0.214349 -0.102853  0.068961\n",
       "2013-01-03  0.515890 -0.400254 -1.140510  0.275312\n",
       "2013-01-04  0.218141 -1.009280  0.739873 -1.197599\n",
       "2013-01-05  2.162167 -1.046370  0.956948 -0.299502\n",
       "2013-01-06  0.257147 -0.541045 -0.016623 -0.242780"
      ]
     },
     "execution_count": 67,
     "metadata": {},
     "output_type": "execute_result"
    }
   ],
   "source": [
    "df.sort_index(axis=1, ascending=False)"
   ]
  },
  {
   "cell_type": "code",
   "execution_count": 68,
   "metadata": {
    "collapsed": false,
    "deletable": true,
    "editable": true
   },
   "outputs": [
    {
     "data": {
      "text/html": [
       "<div>\n",
       "<table border=\"1\" class=\"dataframe\">\n",
       "  <thead>\n",
       "    <tr style=\"text-align: right;\">\n",
       "      <th></th>\n",
       "      <th>A</th>\n",
       "      <th>B</th>\n",
       "      <th>C</th>\n",
       "      <th>D</th>\n",
       "    </tr>\n",
       "  </thead>\n",
       "  <tbody>\n",
       "    <tr>\n",
       "      <th>2013-01-03</th>\n",
       "      <td>0.275312</td>\n",
       "      <td>-1.140510</td>\n",
       "      <td>-0.400254</td>\n",
       "      <td>0.515890</td>\n",
       "    </tr>\n",
       "    <tr>\n",
       "      <th>2013-01-02</th>\n",
       "      <td>0.068961</td>\n",
       "      <td>-0.102853</td>\n",
       "      <td>0.214349</td>\n",
       "      <td>1.137403</td>\n",
       "    </tr>\n",
       "    <tr>\n",
       "      <th>2013-01-06</th>\n",
       "      <td>-0.242780</td>\n",
       "      <td>-0.016623</td>\n",
       "      <td>-0.541045</td>\n",
       "      <td>0.257147</td>\n",
       "    </tr>\n",
       "    <tr>\n",
       "      <th>2013-01-01</th>\n",
       "      <td>-2.328059</td>\n",
       "      <td>0.297009</td>\n",
       "      <td>0.130654</td>\n",
       "      <td>-0.661773</td>\n",
       "    </tr>\n",
       "    <tr>\n",
       "      <th>2013-01-04</th>\n",
       "      <td>-1.197599</td>\n",
       "      <td>0.739873</td>\n",
       "      <td>-1.009280</td>\n",
       "      <td>0.218141</td>\n",
       "    </tr>\n",
       "    <tr>\n",
       "      <th>2013-01-05</th>\n",
       "      <td>-0.299502</td>\n",
       "      <td>0.956948</td>\n",
       "      <td>-1.046370</td>\n",
       "      <td>2.162167</td>\n",
       "    </tr>\n",
       "  </tbody>\n",
       "</table>\n",
       "</div>"
      ],
      "text/plain": [
       "                   A         B         C         D\n",
       "2013-01-03  0.275312 -1.140510 -0.400254  0.515890\n",
       "2013-01-02  0.068961 -0.102853  0.214349  1.137403\n",
       "2013-01-06 -0.242780 -0.016623 -0.541045  0.257147\n",
       "2013-01-01 -2.328059  0.297009  0.130654 -0.661773\n",
       "2013-01-04 -1.197599  0.739873 -1.009280  0.218141\n",
       "2013-01-05 -0.299502  0.956948 -1.046370  2.162167"
      ]
     },
     "execution_count": 68,
     "metadata": {},
     "output_type": "execute_result"
    }
   ],
   "source": [
    "df.sort_values(by='B')"
   ]
  },
  {
   "cell_type": "markdown",
   "metadata": {
    "deletable": true,
    "editable": true
   },
   "source": [
    "### 1.1.3 선택\n",
    "#### 1.1.3.1 List 표현"
   ]
  },
  {
   "cell_type": "code",
   "execution_count": 69,
   "metadata": {
    "collapsed": false,
    "deletable": true,
    "editable": true
   },
   "outputs": [
    {
     "data": {
      "text/plain": [
       "2013-01-01   -2.328059\n",
       "2013-01-02    0.068961\n",
       "2013-01-03    0.275312\n",
       "2013-01-04   -1.197599\n",
       "2013-01-05   -0.299502\n",
       "2013-01-06   -0.242780\n",
       "Freq: D, Name: A, dtype: float64"
      ]
     },
     "execution_count": 69,
     "metadata": {},
     "output_type": "execute_result"
    }
   ],
   "source": [
    "df['A']"
   ]
  },
  {
   "cell_type": "code",
   "execution_count": 70,
   "metadata": {
    "collapsed": false,
    "deletable": true,
    "editable": true
   },
   "outputs": [
    {
     "data": {
      "text/html": [
       "<div>\n",
       "<table border=\"1\" class=\"dataframe\">\n",
       "  <thead>\n",
       "    <tr style=\"text-align: right;\">\n",
       "      <th></th>\n",
       "      <th>A</th>\n",
       "      <th>B</th>\n",
       "      <th>C</th>\n",
       "      <th>D</th>\n",
       "    </tr>\n",
       "  </thead>\n",
       "  <tbody>\n",
       "    <tr>\n",
       "      <th>2013-01-01</th>\n",
       "      <td>-2.328059</td>\n",
       "      <td>0.297009</td>\n",
       "      <td>0.130654</td>\n",
       "      <td>-0.661773</td>\n",
       "    </tr>\n",
       "    <tr>\n",
       "      <th>2013-01-02</th>\n",
       "      <td>0.068961</td>\n",
       "      <td>-0.102853</td>\n",
       "      <td>0.214349</td>\n",
       "      <td>1.137403</td>\n",
       "    </tr>\n",
       "    <tr>\n",
       "      <th>2013-01-03</th>\n",
       "      <td>0.275312</td>\n",
       "      <td>-1.140510</td>\n",
       "      <td>-0.400254</td>\n",
       "      <td>0.515890</td>\n",
       "    </tr>\n",
       "  </tbody>\n",
       "</table>\n",
       "</div>"
      ],
      "text/plain": [
       "                   A         B         C         D\n",
       "2013-01-01 -2.328059  0.297009  0.130654 -0.661773\n",
       "2013-01-02  0.068961 -0.102853  0.214349  1.137403\n",
       "2013-01-03  0.275312 -1.140510 -0.400254  0.515890"
      ]
     },
     "execution_count": 70,
     "metadata": {},
     "output_type": "execute_result"
    }
   ],
   "source": [
    "df[0:3]"
   ]
  },
  {
   "cell_type": "code",
   "execution_count": 71,
   "metadata": {
    "collapsed": false,
    "deletable": true,
    "editable": true
   },
   "outputs": [
    {
     "data": {
      "text/html": [
       "<div>\n",
       "<table border=\"1\" class=\"dataframe\">\n",
       "  <thead>\n",
       "    <tr style=\"text-align: right;\">\n",
       "      <th></th>\n",
       "      <th>A</th>\n",
       "      <th>B</th>\n",
       "      <th>C</th>\n",
       "      <th>D</th>\n",
       "    </tr>\n",
       "  </thead>\n",
       "  <tbody>\n",
       "    <tr>\n",
       "      <th>2013-01-02</th>\n",
       "      <td>0.068961</td>\n",
       "      <td>-0.102853</td>\n",
       "      <td>0.214349</td>\n",
       "      <td>1.137403</td>\n",
       "    </tr>\n",
       "    <tr>\n",
       "      <th>2013-01-03</th>\n",
       "      <td>0.275312</td>\n",
       "      <td>-1.140510</td>\n",
       "      <td>-0.400254</td>\n",
       "      <td>0.515890</td>\n",
       "    </tr>\n",
       "  </tbody>\n",
       "</table>\n",
       "</div>"
      ],
      "text/plain": [
       "                   A         B         C         D\n",
       "2013-01-02  0.068961 -0.102853  0.214349  1.137403\n",
       "2013-01-03  0.275312 -1.140510 -0.400254  0.515890"
      ]
     },
     "execution_count": 71,
     "metadata": {},
     "output_type": "execute_result"
    }
   ],
   "source": [
    "df['2013-01-02':'2013-01-03']"
   ]
  },
  {
   "cell_type": "markdown",
   "metadata": {
    "deletable": true,
    "editable": true
   },
   "source": [
    "#### 1.1.3.2 Label 을 이용한 표현"
   ]
  },
  {
   "cell_type": "code",
   "execution_count": 72,
   "metadata": {
    "collapsed": false,
    "deletable": true,
    "editable": true
   },
   "outputs": [
    {
     "data": {
      "text/plain": [
       "A   -2.328059\n",
       "B    0.297009\n",
       "C    0.130654\n",
       "D   -0.661773\n",
       "Name: 2013-01-01 00:00:00, dtype: float64"
      ]
     },
     "execution_count": 72,
     "metadata": {},
     "output_type": "execute_result"
    }
   ],
   "source": [
    "df.loc[dates[0]]"
   ]
  },
  {
   "cell_type": "code",
   "execution_count": 73,
   "metadata": {
    "collapsed": false,
    "deletable": true,
    "editable": true
   },
   "outputs": [
    {
     "data": {
      "text/plain": [
       "A    0.068961\n",
       "B   -0.102853\n",
       "C    0.214349\n",
       "D    1.137403\n",
       "Name: 2013-01-02 00:00:00, dtype: float64"
      ]
     },
     "execution_count": 73,
     "metadata": {},
     "output_type": "execute_result"
    }
   ],
   "source": [
    "df.loc['2013-01-02']"
   ]
  },
  {
   "cell_type": "code",
   "execution_count": 74,
   "metadata": {
    "collapsed": false,
    "deletable": true,
    "editable": true
   },
   "outputs": [
    {
     "data": {
      "text/html": [
       "<div>\n",
       "<table border=\"1\" class=\"dataframe\">\n",
       "  <thead>\n",
       "    <tr style=\"text-align: right;\">\n",
       "      <th></th>\n",
       "      <th>A</th>\n",
       "      <th>B</th>\n",
       "    </tr>\n",
       "  </thead>\n",
       "  <tbody>\n",
       "    <tr>\n",
       "      <th>2013-01-01</th>\n",
       "      <td>-2.328059</td>\n",
       "      <td>0.297009</td>\n",
       "    </tr>\n",
       "    <tr>\n",
       "      <th>2013-01-02</th>\n",
       "      <td>0.068961</td>\n",
       "      <td>-0.102853</td>\n",
       "    </tr>\n",
       "    <tr>\n",
       "      <th>2013-01-03</th>\n",
       "      <td>0.275312</td>\n",
       "      <td>-1.140510</td>\n",
       "    </tr>\n",
       "    <tr>\n",
       "      <th>2013-01-04</th>\n",
       "      <td>-1.197599</td>\n",
       "      <td>0.739873</td>\n",
       "    </tr>\n",
       "    <tr>\n",
       "      <th>2013-01-05</th>\n",
       "      <td>-0.299502</td>\n",
       "      <td>0.956948</td>\n",
       "    </tr>\n",
       "    <tr>\n",
       "      <th>2013-01-06</th>\n",
       "      <td>-0.242780</td>\n",
       "      <td>-0.016623</td>\n",
       "    </tr>\n",
       "  </tbody>\n",
       "</table>\n",
       "</div>"
      ],
      "text/plain": [
       "                   A         B\n",
       "2013-01-01 -2.328059  0.297009\n",
       "2013-01-02  0.068961 -0.102853\n",
       "2013-01-03  0.275312 -1.140510\n",
       "2013-01-04 -1.197599  0.739873\n",
       "2013-01-05 -0.299502  0.956948\n",
       "2013-01-06 -0.242780 -0.016623"
      ]
     },
     "execution_count": 74,
     "metadata": {},
     "output_type": "execute_result"
    }
   ],
   "source": [
    "df.loc[:,['A', 'B']]"
   ]
  },
  {
   "cell_type": "code",
   "execution_count": 75,
   "metadata": {
    "collapsed": false,
    "deletable": true,
    "editable": true
   },
   "outputs": [
    {
     "data": {
      "text/html": [
       "<div>\n",
       "<table border=\"1\" class=\"dataframe\">\n",
       "  <thead>\n",
       "    <tr style=\"text-align: right;\">\n",
       "      <th></th>\n",
       "      <th>A</th>\n",
       "      <th>B</th>\n",
       "    </tr>\n",
       "  </thead>\n",
       "  <tbody>\n",
       "    <tr>\n",
       "      <th>2013-01-02</th>\n",
       "      <td>0.068961</td>\n",
       "      <td>-0.102853</td>\n",
       "    </tr>\n",
       "    <tr>\n",
       "      <th>2013-01-03</th>\n",
       "      <td>0.275312</td>\n",
       "      <td>-1.140510</td>\n",
       "    </tr>\n",
       "    <tr>\n",
       "      <th>2013-01-04</th>\n",
       "      <td>-1.197599</td>\n",
       "      <td>0.739873</td>\n",
       "    </tr>\n",
       "  </tbody>\n",
       "</table>\n",
       "</div>"
      ],
      "text/plain": [
       "                   A         B\n",
       "2013-01-02  0.068961 -0.102853\n",
       "2013-01-03  0.275312 -1.140510\n",
       "2013-01-04 -1.197599  0.739873"
      ]
     },
     "execution_count": 75,
     "metadata": {},
     "output_type": "execute_result"
    }
   ],
   "source": [
    "df.loc['20130102':'20130104',['A','B']]"
   ]
  },
  {
   "cell_type": "code",
   "execution_count": 76,
   "metadata": {
    "collapsed": false,
    "deletable": true,
    "editable": true,
    "scrolled": false
   },
   "outputs": [
    {
     "data": {
      "text/plain": [
       "A    0.068961\n",
       "B   -0.102853\n",
       "Name: 2013-01-02 00:00:00, dtype: float64"
      ]
     },
     "execution_count": 76,
     "metadata": {},
     "output_type": "execute_result"
    }
   ],
   "source": [
    "df.loc['20130102',['A','B']]"
   ]
  },
  {
   "cell_type": "code",
   "execution_count": 77,
   "metadata": {
    "collapsed": false,
    "deletable": true,
    "editable": true,
    "scrolled": true
   },
   "outputs": [
    {
     "data": {
      "text/plain": [
       "-2.328059208168034"
      ]
     },
     "execution_count": 77,
     "metadata": {},
     "output_type": "execute_result"
    }
   ],
   "source": [
    "df.loc[dates[0],'A']"
   ]
  },
  {
   "cell_type": "markdown",
   "metadata": {
    "deletable": true,
    "editable": true
   },
   "source": [
    "아래가 좀더 빠르다"
   ]
  },
  {
   "cell_type": "code",
   "execution_count": 78,
   "metadata": {
    "collapsed": false,
    "deletable": true,
    "editable": true
   },
   "outputs": [
    {
     "data": {
      "text/plain": [
       "-2.328059208168034"
      ]
     },
     "execution_count": 78,
     "metadata": {},
     "output_type": "execute_result"
    }
   ],
   "source": [
    "df.at[dates[0],'A']"
   ]
  },
  {
   "cell_type": "markdown",
   "metadata": {
    "deletable": true,
    "editable": true
   },
   "source": [
    "#### 1.1.3.3 위치를 이용한 표현"
   ]
  },
  {
   "cell_type": "code",
   "execution_count": 79,
   "metadata": {
    "collapsed": false,
    "deletable": true,
    "editable": true
   },
   "outputs": [
    {
     "data": {
      "text/plain": [
       "A   -1.197599\n",
       "B    0.739873\n",
       "C   -1.009280\n",
       "D    0.218141\n",
       "Name: 2013-01-04 00:00:00, dtype: float64"
      ]
     },
     "execution_count": 79,
     "metadata": {},
     "output_type": "execute_result"
    }
   ],
   "source": [
    "df.iloc[3]"
   ]
  },
  {
   "cell_type": "code",
   "execution_count": 80,
   "metadata": {
    "collapsed": false,
    "deletable": true,
    "editable": true
   },
   "outputs": [
    {
     "data": {
      "text/html": [
       "<div>\n",
       "<table border=\"1\" class=\"dataframe\">\n",
       "  <thead>\n",
       "    <tr style=\"text-align: right;\">\n",
       "      <th></th>\n",
       "      <th>A</th>\n",
       "      <th>B</th>\n",
       "    </tr>\n",
       "  </thead>\n",
       "  <tbody>\n",
       "    <tr>\n",
       "      <th>2013-01-04</th>\n",
       "      <td>-1.197599</td>\n",
       "      <td>0.739873</td>\n",
       "    </tr>\n",
       "    <tr>\n",
       "      <th>2013-01-05</th>\n",
       "      <td>-0.299502</td>\n",
       "      <td>0.956948</td>\n",
       "    </tr>\n",
       "  </tbody>\n",
       "</table>\n",
       "</div>"
      ],
      "text/plain": [
       "                   A         B\n",
       "2013-01-04 -1.197599  0.739873\n",
       "2013-01-05 -0.299502  0.956948"
      ]
     },
     "execution_count": 80,
     "metadata": {},
     "output_type": "execute_result"
    }
   ],
   "source": [
    "df.iloc[3:5,0:2]"
   ]
  },
  {
   "cell_type": "code",
   "execution_count": 81,
   "metadata": {
    "collapsed": false,
    "deletable": true,
    "editable": true
   },
   "outputs": [
    {
     "data": {
      "text/html": [
       "<div>\n",
       "<table border=\"1\" class=\"dataframe\">\n",
       "  <thead>\n",
       "    <tr style=\"text-align: right;\">\n",
       "      <th></th>\n",
       "      <th>A</th>\n",
       "      <th>C</th>\n",
       "    </tr>\n",
       "  </thead>\n",
       "  <tbody>\n",
       "    <tr>\n",
       "      <th>2013-01-02</th>\n",
       "      <td>0.068961</td>\n",
       "      <td>0.214349</td>\n",
       "    </tr>\n",
       "    <tr>\n",
       "      <th>2013-01-03</th>\n",
       "      <td>0.275312</td>\n",
       "      <td>-0.400254</td>\n",
       "    </tr>\n",
       "    <tr>\n",
       "      <th>2013-01-05</th>\n",
       "      <td>-0.299502</td>\n",
       "      <td>-1.046370</td>\n",
       "    </tr>\n",
       "  </tbody>\n",
       "</table>\n",
       "</div>"
      ],
      "text/plain": [
       "                   A         C\n",
       "2013-01-02  0.068961  0.214349\n",
       "2013-01-03  0.275312 -0.400254\n",
       "2013-01-05 -0.299502 -1.046370"
      ]
     },
     "execution_count": 81,
     "metadata": {},
     "output_type": "execute_result"
    }
   ],
   "source": [
    "df.iloc[[1,2,4],[0,2]]"
   ]
  },
  {
   "cell_type": "code",
   "execution_count": 82,
   "metadata": {
    "collapsed": false,
    "deletable": true,
    "editable": true
   },
   "outputs": [
    {
     "data": {
      "text/html": [
       "<div>\n",
       "<table border=\"1\" class=\"dataframe\">\n",
       "  <thead>\n",
       "    <tr style=\"text-align: right;\">\n",
       "      <th></th>\n",
       "      <th>A</th>\n",
       "      <th>B</th>\n",
       "      <th>C</th>\n",
       "      <th>D</th>\n",
       "    </tr>\n",
       "  </thead>\n",
       "  <tbody>\n",
       "    <tr>\n",
       "      <th>2013-01-02</th>\n",
       "      <td>0.068961</td>\n",
       "      <td>-0.102853</td>\n",
       "      <td>0.214349</td>\n",
       "      <td>1.137403</td>\n",
       "    </tr>\n",
       "    <tr>\n",
       "      <th>2013-01-03</th>\n",
       "      <td>0.275312</td>\n",
       "      <td>-1.140510</td>\n",
       "      <td>-0.400254</td>\n",
       "      <td>0.515890</td>\n",
       "    </tr>\n",
       "  </tbody>\n",
       "</table>\n",
       "</div>"
      ],
      "text/plain": [
       "                   A         B         C         D\n",
       "2013-01-02  0.068961 -0.102853  0.214349  1.137403\n",
       "2013-01-03  0.275312 -1.140510 -0.400254  0.515890"
      ]
     },
     "execution_count": 82,
     "metadata": {},
     "output_type": "execute_result"
    }
   ],
   "source": [
    "df.iloc[1:3,:]"
   ]
  },
  {
   "cell_type": "code",
   "execution_count": 83,
   "metadata": {
    "collapsed": false,
    "deletable": true,
    "editable": true
   },
   "outputs": [
    {
     "data": {
      "text/html": [
       "<div>\n",
       "<table border=\"1\" class=\"dataframe\">\n",
       "  <thead>\n",
       "    <tr style=\"text-align: right;\">\n",
       "      <th></th>\n",
       "      <th>B</th>\n",
       "      <th>C</th>\n",
       "    </tr>\n",
       "  </thead>\n",
       "  <tbody>\n",
       "    <tr>\n",
       "      <th>2013-01-01</th>\n",
       "      <td>0.297009</td>\n",
       "      <td>0.130654</td>\n",
       "    </tr>\n",
       "    <tr>\n",
       "      <th>2013-01-02</th>\n",
       "      <td>-0.102853</td>\n",
       "      <td>0.214349</td>\n",
       "    </tr>\n",
       "    <tr>\n",
       "      <th>2013-01-03</th>\n",
       "      <td>-1.140510</td>\n",
       "      <td>-0.400254</td>\n",
       "    </tr>\n",
       "    <tr>\n",
       "      <th>2013-01-04</th>\n",
       "      <td>0.739873</td>\n",
       "      <td>-1.009280</td>\n",
       "    </tr>\n",
       "    <tr>\n",
       "      <th>2013-01-05</th>\n",
       "      <td>0.956948</td>\n",
       "      <td>-1.046370</td>\n",
       "    </tr>\n",
       "    <tr>\n",
       "      <th>2013-01-06</th>\n",
       "      <td>-0.016623</td>\n",
       "      <td>-0.541045</td>\n",
       "    </tr>\n",
       "  </tbody>\n",
       "</table>\n",
       "</div>"
      ],
      "text/plain": [
       "                   B         C\n",
       "2013-01-01  0.297009  0.130654\n",
       "2013-01-02 -0.102853  0.214349\n",
       "2013-01-03 -1.140510 -0.400254\n",
       "2013-01-04  0.739873 -1.009280\n",
       "2013-01-05  0.956948 -1.046370\n",
       "2013-01-06 -0.016623 -0.541045"
      ]
     },
     "execution_count": 83,
     "metadata": {},
     "output_type": "execute_result"
    }
   ],
   "source": [
    " df.iloc[:,1:3]"
   ]
  },
  {
   "cell_type": "code",
   "execution_count": 84,
   "metadata": {
    "collapsed": false,
    "deletable": true,
    "editable": true
   },
   "outputs": [
    {
     "data": {
      "text/plain": [
       "-0.10285272569200217"
      ]
     },
     "execution_count": 84,
     "metadata": {},
     "output_type": "execute_result"
    }
   ],
   "source": [
    "df.iloc[1,1]"
   ]
  },
  {
   "cell_type": "markdown",
   "metadata": {
    "deletable": true,
    "editable": true
   },
   "source": [
    "아래가 더 빠르다"
   ]
  },
  {
   "cell_type": "code",
   "execution_count": 85,
   "metadata": {
    "collapsed": false,
    "deletable": true,
    "editable": true
   },
   "outputs": [
    {
     "data": {
      "text/plain": [
       "-0.10285272569200217"
      ]
     },
     "execution_count": 85,
     "metadata": {},
     "output_type": "execute_result"
    }
   ],
   "source": [
    "df.iat[1,1]"
   ]
  },
  {
   "cell_type": "markdown",
   "metadata": {
    "deletable": true,
    "editable": true
   },
   "source": [
    "#### 1.1.3.4 조건식을 이용"
   ]
  },
  {
   "cell_type": "code",
   "execution_count": 86,
   "metadata": {
    "collapsed": false,
    "deletable": true,
    "editable": true
   },
   "outputs": [
    {
     "data": {
      "text/html": [
       "<div>\n",
       "<table border=\"1\" class=\"dataframe\">\n",
       "  <thead>\n",
       "    <tr style=\"text-align: right;\">\n",
       "      <th></th>\n",
       "      <th>A</th>\n",
       "      <th>B</th>\n",
       "      <th>C</th>\n",
       "      <th>D</th>\n",
       "    </tr>\n",
       "  </thead>\n",
       "  <tbody>\n",
       "    <tr>\n",
       "      <th>2013-01-02</th>\n",
       "      <td>0.068961</td>\n",
       "      <td>-0.102853</td>\n",
       "      <td>0.214349</td>\n",
       "      <td>1.137403</td>\n",
       "    </tr>\n",
       "    <tr>\n",
       "      <th>2013-01-03</th>\n",
       "      <td>0.275312</td>\n",
       "      <td>-1.140510</td>\n",
       "      <td>-0.400254</td>\n",
       "      <td>0.515890</td>\n",
       "    </tr>\n",
       "  </tbody>\n",
       "</table>\n",
       "</div>"
      ],
      "text/plain": [
       "                   A         B         C         D\n",
       "2013-01-02  0.068961 -0.102853  0.214349  1.137403\n",
       "2013-01-03  0.275312 -1.140510 -0.400254  0.515890"
      ]
     },
     "execution_count": 86,
     "metadata": {},
     "output_type": "execute_result"
    }
   ],
   "source": [
    "df[df.A>0]"
   ]
  },
  {
   "cell_type": "code",
   "execution_count": 87,
   "metadata": {
    "collapsed": false,
    "deletable": true,
    "editable": true
   },
   "outputs": [
    {
     "data": {
      "text/html": [
       "<div>\n",
       "<table border=\"1\" class=\"dataframe\">\n",
       "  <thead>\n",
       "    <tr style=\"text-align: right;\">\n",
       "      <th></th>\n",
       "      <th>A</th>\n",
       "      <th>B</th>\n",
       "      <th>C</th>\n",
       "      <th>D</th>\n",
       "    </tr>\n",
       "  </thead>\n",
       "  <tbody>\n",
       "    <tr>\n",
       "      <th>2013-01-01</th>\n",
       "      <td>NaN</td>\n",
       "      <td>0.297009</td>\n",
       "      <td>0.130654</td>\n",
       "      <td>NaN</td>\n",
       "    </tr>\n",
       "    <tr>\n",
       "      <th>2013-01-02</th>\n",
       "      <td>0.068961</td>\n",
       "      <td>NaN</td>\n",
       "      <td>0.214349</td>\n",
       "      <td>1.137403</td>\n",
       "    </tr>\n",
       "    <tr>\n",
       "      <th>2013-01-03</th>\n",
       "      <td>0.275312</td>\n",
       "      <td>NaN</td>\n",
       "      <td>NaN</td>\n",
       "      <td>0.515890</td>\n",
       "    </tr>\n",
       "    <tr>\n",
       "      <th>2013-01-04</th>\n",
       "      <td>NaN</td>\n",
       "      <td>0.739873</td>\n",
       "      <td>NaN</td>\n",
       "      <td>0.218141</td>\n",
       "    </tr>\n",
       "    <tr>\n",
       "      <th>2013-01-05</th>\n",
       "      <td>NaN</td>\n",
       "      <td>0.956948</td>\n",
       "      <td>NaN</td>\n",
       "      <td>2.162167</td>\n",
       "    </tr>\n",
       "    <tr>\n",
       "      <th>2013-01-06</th>\n",
       "      <td>NaN</td>\n",
       "      <td>NaN</td>\n",
       "      <td>NaN</td>\n",
       "      <td>0.257147</td>\n",
       "    </tr>\n",
       "  </tbody>\n",
       "</table>\n",
       "</div>"
      ],
      "text/plain": [
       "                   A         B         C         D\n",
       "2013-01-01       NaN  0.297009  0.130654       NaN\n",
       "2013-01-02  0.068961       NaN  0.214349  1.137403\n",
       "2013-01-03  0.275312       NaN       NaN  0.515890\n",
       "2013-01-04       NaN  0.739873       NaN  0.218141\n",
       "2013-01-05       NaN  0.956948       NaN  2.162167\n",
       "2013-01-06       NaN       NaN       NaN  0.257147"
      ]
     },
     "execution_count": 87,
     "metadata": {},
     "output_type": "execute_result"
    }
   ],
   "source": [
    "df[df>0]"
   ]
  },
  {
   "cell_type": "code",
   "execution_count": 88,
   "metadata": {
    "collapsed": true,
    "deletable": true,
    "editable": true
   },
   "outputs": [],
   "source": [
    "df2 = df.copy()\n",
    "df2['E'] = ['one', 'one','two','three','four','three']"
   ]
  },
  {
   "cell_type": "code",
   "execution_count": 89,
   "metadata": {
    "collapsed": false,
    "deletable": true,
    "editable": true
   },
   "outputs": [
    {
     "data": {
      "text/html": [
       "<div>\n",
       "<table border=\"1\" class=\"dataframe\">\n",
       "  <thead>\n",
       "    <tr style=\"text-align: right;\">\n",
       "      <th></th>\n",
       "      <th>A</th>\n",
       "      <th>B</th>\n",
       "      <th>C</th>\n",
       "      <th>D</th>\n",
       "      <th>E</th>\n",
       "    </tr>\n",
       "  </thead>\n",
       "  <tbody>\n",
       "    <tr>\n",
       "      <th>2013-01-01</th>\n",
       "      <td>-2.328059</td>\n",
       "      <td>0.297009</td>\n",
       "      <td>0.130654</td>\n",
       "      <td>-0.661773</td>\n",
       "      <td>one</td>\n",
       "    </tr>\n",
       "    <tr>\n",
       "      <th>2013-01-02</th>\n",
       "      <td>0.068961</td>\n",
       "      <td>-0.102853</td>\n",
       "      <td>0.214349</td>\n",
       "      <td>1.137403</td>\n",
       "      <td>one</td>\n",
       "    </tr>\n",
       "    <tr>\n",
       "      <th>2013-01-03</th>\n",
       "      <td>0.275312</td>\n",
       "      <td>-1.140510</td>\n",
       "      <td>-0.400254</td>\n",
       "      <td>0.515890</td>\n",
       "      <td>two</td>\n",
       "    </tr>\n",
       "    <tr>\n",
       "      <th>2013-01-04</th>\n",
       "      <td>-1.197599</td>\n",
       "      <td>0.739873</td>\n",
       "      <td>-1.009280</td>\n",
       "      <td>0.218141</td>\n",
       "      <td>three</td>\n",
       "    </tr>\n",
       "    <tr>\n",
       "      <th>2013-01-05</th>\n",
       "      <td>-0.299502</td>\n",
       "      <td>0.956948</td>\n",
       "      <td>-1.046370</td>\n",
       "      <td>2.162167</td>\n",
       "      <td>four</td>\n",
       "    </tr>\n",
       "    <tr>\n",
       "      <th>2013-01-06</th>\n",
       "      <td>-0.242780</td>\n",
       "      <td>-0.016623</td>\n",
       "      <td>-0.541045</td>\n",
       "      <td>0.257147</td>\n",
       "      <td>three</td>\n",
       "    </tr>\n",
       "  </tbody>\n",
       "</table>\n",
       "</div>"
      ],
      "text/plain": [
       "                   A         B         C         D      E\n",
       "2013-01-01 -2.328059  0.297009  0.130654 -0.661773    one\n",
       "2013-01-02  0.068961 -0.102853  0.214349  1.137403    one\n",
       "2013-01-03  0.275312 -1.140510 -0.400254  0.515890    two\n",
       "2013-01-04 -1.197599  0.739873 -1.009280  0.218141  three\n",
       "2013-01-05 -0.299502  0.956948 -1.046370  2.162167   four\n",
       "2013-01-06 -0.242780 -0.016623 -0.541045  0.257147  three"
      ]
     },
     "execution_count": 89,
     "metadata": {},
     "output_type": "execute_result"
    }
   ],
   "source": [
    "df2"
   ]
  },
  {
   "cell_type": "code",
   "execution_count": 90,
   "metadata": {
    "collapsed": false,
    "deletable": true,
    "editable": true
   },
   "outputs": [
    {
     "data": {
      "text/html": [
       "<div>\n",
       "<table border=\"1\" class=\"dataframe\">\n",
       "  <thead>\n",
       "    <tr style=\"text-align: right;\">\n",
       "      <th></th>\n",
       "      <th>A</th>\n",
       "      <th>B</th>\n",
       "      <th>C</th>\n",
       "      <th>D</th>\n",
       "      <th>E</th>\n",
       "    </tr>\n",
       "  </thead>\n",
       "  <tbody>\n",
       "    <tr>\n",
       "      <th>2013-01-03</th>\n",
       "      <td>0.275312</td>\n",
       "      <td>-1.140510</td>\n",
       "      <td>-0.400254</td>\n",
       "      <td>0.515890</td>\n",
       "      <td>two</td>\n",
       "    </tr>\n",
       "    <tr>\n",
       "      <th>2013-01-05</th>\n",
       "      <td>-0.299502</td>\n",
       "      <td>0.956948</td>\n",
       "      <td>-1.046370</td>\n",
       "      <td>2.162167</td>\n",
       "      <td>four</td>\n",
       "    </tr>\n",
       "  </tbody>\n",
       "</table>\n",
       "</div>"
      ],
      "text/plain": [
       "                   A         B         C         D     E\n",
       "2013-01-03  0.275312 -1.140510 -0.400254  0.515890   two\n",
       "2013-01-05 -0.299502  0.956948 -1.046370  2.162167  four"
      ]
     },
     "execution_count": 90,
     "metadata": {},
     "output_type": "execute_result"
    }
   ],
   "source": [
    "df2[df2['E'].isin(['two','four'])]"
   ]
  },
  {
   "cell_type": "markdown",
   "metadata": {
    "deletable": true,
    "editable": true
   },
   "source": [
    "#### 1.1.3.5 Setting"
   ]
  },
  {
   "cell_type": "code",
   "execution_count": 91,
   "metadata": {
    "collapsed": false,
    "deletable": true,
    "editable": true
   },
   "outputs": [],
   "source": [
    "s1 = pd.Series([1,2,3,4,5,6], index=pd.date_range('20130102', periods=6))"
   ]
  },
  {
   "cell_type": "code",
   "execution_count": 92,
   "metadata": {
    "collapsed": false,
    "deletable": true,
    "editable": true
   },
   "outputs": [
    {
     "data": {
      "text/plain": [
       "2013-01-02    1\n",
       "2013-01-03    2\n",
       "2013-01-04    3\n",
       "2013-01-05    4\n",
       "2013-01-06    5\n",
       "2013-01-07    6\n",
       "Freq: D, dtype: int64"
      ]
     },
     "execution_count": 92,
     "metadata": {},
     "output_type": "execute_result"
    }
   ],
   "source": [
    "s1"
   ]
  },
  {
   "cell_type": "code",
   "execution_count": 93,
   "metadata": {
    "collapsed": true,
    "deletable": true,
    "editable": true
   },
   "outputs": [],
   "source": [
    "df['F'] = s1"
   ]
  },
  {
   "cell_type": "code",
   "execution_count": 94,
   "metadata": {
    "collapsed": true,
    "deletable": true,
    "editable": true
   },
   "outputs": [],
   "source": [
    "df.at[dates[0], 'A'] = 0"
   ]
  },
  {
   "cell_type": "code",
   "execution_count": 95,
   "metadata": {
    "collapsed": false,
    "deletable": true,
    "editable": true
   },
   "outputs": [],
   "source": [
    "df.iat[0,1] = 0"
   ]
  },
  {
   "cell_type": "code",
   "execution_count": 96,
   "metadata": {
    "collapsed": true,
    "deletable": true,
    "editable": true
   },
   "outputs": [],
   "source": [
    "df.loc[:,'D'] = np.array([5]* len(df))"
   ]
  },
  {
   "cell_type": "code",
   "execution_count": 97,
   "metadata": {
    "collapsed": false,
    "deletable": true,
    "editable": true
   },
   "outputs": [
    {
     "data": {
      "text/html": [
       "<div>\n",
       "<table border=\"1\" class=\"dataframe\">\n",
       "  <thead>\n",
       "    <tr style=\"text-align: right;\">\n",
       "      <th></th>\n",
       "      <th>A</th>\n",
       "      <th>B</th>\n",
       "      <th>C</th>\n",
       "      <th>D</th>\n",
       "      <th>F</th>\n",
       "    </tr>\n",
       "  </thead>\n",
       "  <tbody>\n",
       "    <tr>\n",
       "      <th>2013-01-01</th>\n",
       "      <td>0.000000</td>\n",
       "      <td>0.000000</td>\n",
       "      <td>0.130654</td>\n",
       "      <td>5</td>\n",
       "      <td>NaN</td>\n",
       "    </tr>\n",
       "    <tr>\n",
       "      <th>2013-01-02</th>\n",
       "      <td>0.068961</td>\n",
       "      <td>-0.102853</td>\n",
       "      <td>0.214349</td>\n",
       "      <td>5</td>\n",
       "      <td>1.0</td>\n",
       "    </tr>\n",
       "    <tr>\n",
       "      <th>2013-01-03</th>\n",
       "      <td>0.275312</td>\n",
       "      <td>-1.140510</td>\n",
       "      <td>-0.400254</td>\n",
       "      <td>5</td>\n",
       "      <td>2.0</td>\n",
       "    </tr>\n",
       "    <tr>\n",
       "      <th>2013-01-04</th>\n",
       "      <td>-1.197599</td>\n",
       "      <td>0.739873</td>\n",
       "      <td>-1.009280</td>\n",
       "      <td>5</td>\n",
       "      <td>3.0</td>\n",
       "    </tr>\n",
       "    <tr>\n",
       "      <th>2013-01-05</th>\n",
       "      <td>-0.299502</td>\n",
       "      <td>0.956948</td>\n",
       "      <td>-1.046370</td>\n",
       "      <td>5</td>\n",
       "      <td>4.0</td>\n",
       "    </tr>\n",
       "    <tr>\n",
       "      <th>2013-01-06</th>\n",
       "      <td>-0.242780</td>\n",
       "      <td>-0.016623</td>\n",
       "      <td>-0.541045</td>\n",
       "      <td>5</td>\n",
       "      <td>5.0</td>\n",
       "    </tr>\n",
       "  </tbody>\n",
       "</table>\n",
       "</div>"
      ],
      "text/plain": [
       "                   A         B         C  D    F\n",
       "2013-01-01  0.000000  0.000000  0.130654  5  NaN\n",
       "2013-01-02  0.068961 -0.102853  0.214349  5  1.0\n",
       "2013-01-03  0.275312 -1.140510 -0.400254  5  2.0\n",
       "2013-01-04 -1.197599  0.739873 -1.009280  5  3.0\n",
       "2013-01-05 -0.299502  0.956948 -1.046370  5  4.0\n",
       "2013-01-06 -0.242780 -0.016623 -0.541045  5  5.0"
      ]
     },
     "execution_count": 97,
     "metadata": {},
     "output_type": "execute_result"
    }
   ],
   "source": [
    "df"
   ]
  },
  {
   "cell_type": "code",
   "execution_count": 98,
   "metadata": {
    "collapsed": true,
    "deletable": true,
    "editable": true
   },
   "outputs": [],
   "source": [
    "df2 = df.copy()\n",
    "df2[df2>0] = -df2"
   ]
  },
  {
   "cell_type": "code",
   "execution_count": 99,
   "metadata": {
    "collapsed": false,
    "deletable": true,
    "editable": true,
    "scrolled": true
   },
   "outputs": [
    {
     "data": {
      "text/html": [
       "<div>\n",
       "<table border=\"1\" class=\"dataframe\">\n",
       "  <thead>\n",
       "    <tr style=\"text-align: right;\">\n",
       "      <th></th>\n",
       "      <th>A</th>\n",
       "      <th>B</th>\n",
       "      <th>C</th>\n",
       "      <th>D</th>\n",
       "      <th>F</th>\n",
       "    </tr>\n",
       "  </thead>\n",
       "  <tbody>\n",
       "    <tr>\n",
       "      <th>2013-01-01</th>\n",
       "      <td>0.000000</td>\n",
       "      <td>0.000000</td>\n",
       "      <td>-0.130654</td>\n",
       "      <td>-5</td>\n",
       "      <td>NaN</td>\n",
       "    </tr>\n",
       "    <tr>\n",
       "      <th>2013-01-02</th>\n",
       "      <td>-0.068961</td>\n",
       "      <td>-0.102853</td>\n",
       "      <td>-0.214349</td>\n",
       "      <td>-5</td>\n",
       "      <td>-1.0</td>\n",
       "    </tr>\n",
       "    <tr>\n",
       "      <th>2013-01-03</th>\n",
       "      <td>-0.275312</td>\n",
       "      <td>-1.140510</td>\n",
       "      <td>-0.400254</td>\n",
       "      <td>-5</td>\n",
       "      <td>-2.0</td>\n",
       "    </tr>\n",
       "    <tr>\n",
       "      <th>2013-01-04</th>\n",
       "      <td>-1.197599</td>\n",
       "      <td>-0.739873</td>\n",
       "      <td>-1.009280</td>\n",
       "      <td>-5</td>\n",
       "      <td>-3.0</td>\n",
       "    </tr>\n",
       "    <tr>\n",
       "      <th>2013-01-05</th>\n",
       "      <td>-0.299502</td>\n",
       "      <td>-0.956948</td>\n",
       "      <td>-1.046370</td>\n",
       "      <td>-5</td>\n",
       "      <td>-4.0</td>\n",
       "    </tr>\n",
       "    <tr>\n",
       "      <th>2013-01-06</th>\n",
       "      <td>-0.242780</td>\n",
       "      <td>-0.016623</td>\n",
       "      <td>-0.541045</td>\n",
       "      <td>-5</td>\n",
       "      <td>-5.0</td>\n",
       "    </tr>\n",
       "  </tbody>\n",
       "</table>\n",
       "</div>"
      ],
      "text/plain": [
       "                   A         B         C  D    F\n",
       "2013-01-01  0.000000  0.000000 -0.130654 -5  NaN\n",
       "2013-01-02 -0.068961 -0.102853 -0.214349 -5 -1.0\n",
       "2013-01-03 -0.275312 -1.140510 -0.400254 -5 -2.0\n",
       "2013-01-04 -1.197599 -0.739873 -1.009280 -5 -3.0\n",
       "2013-01-05 -0.299502 -0.956948 -1.046370 -5 -4.0\n",
       "2013-01-06 -0.242780 -0.016623 -0.541045 -5 -5.0"
      ]
     },
     "execution_count": 99,
     "metadata": {},
     "output_type": "execute_result"
    }
   ],
   "source": [
    "df2"
   ]
  },
  {
   "cell_type": "markdown",
   "metadata": {
    "deletable": true,
    "editable": true
   },
   "source": [
    "### 1.1.4 누락 데이터"
   ]
  },
  {
   "cell_type": "code",
   "execution_count": 100,
   "metadata": {
    "collapsed": false
   },
   "outputs": [],
   "source": [
    "df1 = df.reindex(index=dates[0:4], columns=list(df.columns)+ ['E'])"
   ]
  },
  {
   "cell_type": "code",
   "execution_count": 101,
   "metadata": {
    "collapsed": false
   },
   "outputs": [
    {
     "data": {
      "text/html": [
       "<div>\n",
       "<table border=\"1\" class=\"dataframe\">\n",
       "  <thead>\n",
       "    <tr style=\"text-align: right;\">\n",
       "      <th></th>\n",
       "      <th>A</th>\n",
       "      <th>B</th>\n",
       "      <th>C</th>\n",
       "      <th>D</th>\n",
       "      <th>F</th>\n",
       "      <th>E</th>\n",
       "    </tr>\n",
       "  </thead>\n",
       "  <tbody>\n",
       "    <tr>\n",
       "      <th>2013-01-01</th>\n",
       "      <td>0.000000</td>\n",
       "      <td>0.000000</td>\n",
       "      <td>0.130654</td>\n",
       "      <td>5</td>\n",
       "      <td>NaN</td>\n",
       "      <td>NaN</td>\n",
       "    </tr>\n",
       "    <tr>\n",
       "      <th>2013-01-02</th>\n",
       "      <td>0.068961</td>\n",
       "      <td>-0.102853</td>\n",
       "      <td>0.214349</td>\n",
       "      <td>5</td>\n",
       "      <td>1.0</td>\n",
       "      <td>NaN</td>\n",
       "    </tr>\n",
       "    <tr>\n",
       "      <th>2013-01-03</th>\n",
       "      <td>0.275312</td>\n",
       "      <td>-1.140510</td>\n",
       "      <td>-0.400254</td>\n",
       "      <td>5</td>\n",
       "      <td>2.0</td>\n",
       "      <td>NaN</td>\n",
       "    </tr>\n",
       "    <tr>\n",
       "      <th>2013-01-04</th>\n",
       "      <td>-1.197599</td>\n",
       "      <td>0.739873</td>\n",
       "      <td>-1.009280</td>\n",
       "      <td>5</td>\n",
       "      <td>3.0</td>\n",
       "      <td>NaN</td>\n",
       "    </tr>\n",
       "  </tbody>\n",
       "</table>\n",
       "</div>"
      ],
      "text/plain": [
       "                   A         B         C  D    F   E\n",
       "2013-01-01  0.000000  0.000000  0.130654  5  NaN NaN\n",
       "2013-01-02  0.068961 -0.102853  0.214349  5  1.0 NaN\n",
       "2013-01-03  0.275312 -1.140510 -0.400254  5  2.0 NaN\n",
       "2013-01-04 -1.197599  0.739873 -1.009280  5  3.0 NaN"
      ]
     },
     "execution_count": 101,
     "metadata": {},
     "output_type": "execute_result"
    }
   ],
   "source": [
    "df1"
   ]
  },
  {
   "cell_type": "code",
   "execution_count": 102,
   "metadata": {
    "collapsed": true
   },
   "outputs": [],
   "source": [
    "df1.loc[dates[0]:dates[1], 'E'] = 1"
   ]
  },
  {
   "cell_type": "code",
   "execution_count": 103,
   "metadata": {
    "collapsed": false
   },
   "outputs": [
    {
     "data": {
      "text/html": [
       "<div>\n",
       "<table border=\"1\" class=\"dataframe\">\n",
       "  <thead>\n",
       "    <tr style=\"text-align: right;\">\n",
       "      <th></th>\n",
       "      <th>A</th>\n",
       "      <th>B</th>\n",
       "      <th>C</th>\n",
       "      <th>D</th>\n",
       "      <th>F</th>\n",
       "      <th>E</th>\n",
       "    </tr>\n",
       "  </thead>\n",
       "  <tbody>\n",
       "    <tr>\n",
       "      <th>2013-01-01</th>\n",
       "      <td>0.000000</td>\n",
       "      <td>0.000000</td>\n",
       "      <td>0.130654</td>\n",
       "      <td>5</td>\n",
       "      <td>NaN</td>\n",
       "      <td>1.0</td>\n",
       "    </tr>\n",
       "    <tr>\n",
       "      <th>2013-01-02</th>\n",
       "      <td>0.068961</td>\n",
       "      <td>-0.102853</td>\n",
       "      <td>0.214349</td>\n",
       "      <td>5</td>\n",
       "      <td>1.0</td>\n",
       "      <td>1.0</td>\n",
       "    </tr>\n",
       "    <tr>\n",
       "      <th>2013-01-03</th>\n",
       "      <td>0.275312</td>\n",
       "      <td>-1.140510</td>\n",
       "      <td>-0.400254</td>\n",
       "      <td>5</td>\n",
       "      <td>2.0</td>\n",
       "      <td>NaN</td>\n",
       "    </tr>\n",
       "    <tr>\n",
       "      <th>2013-01-04</th>\n",
       "      <td>-1.197599</td>\n",
       "      <td>0.739873</td>\n",
       "      <td>-1.009280</td>\n",
       "      <td>5</td>\n",
       "      <td>3.0</td>\n",
       "      <td>NaN</td>\n",
       "    </tr>\n",
       "  </tbody>\n",
       "</table>\n",
       "</div>"
      ],
      "text/plain": [
       "                   A         B         C  D    F    E\n",
       "2013-01-01  0.000000  0.000000  0.130654  5  NaN  1.0\n",
       "2013-01-02  0.068961 -0.102853  0.214349  5  1.0  1.0\n",
       "2013-01-03  0.275312 -1.140510 -0.400254  5  2.0  NaN\n",
       "2013-01-04 -1.197599  0.739873 -1.009280  5  3.0  NaN"
      ]
     },
     "execution_count": 103,
     "metadata": {},
     "output_type": "execute_result"
    }
   ],
   "source": [
    "df1"
   ]
  },
  {
   "cell_type": "code",
   "execution_count": 104,
   "metadata": {
    "collapsed": false
   },
   "outputs": [
    {
     "data": {
      "text/html": [
       "<div>\n",
       "<table border=\"1\" class=\"dataframe\">\n",
       "  <thead>\n",
       "    <tr style=\"text-align: right;\">\n",
       "      <th></th>\n",
       "      <th>A</th>\n",
       "      <th>B</th>\n",
       "      <th>C</th>\n",
       "      <th>D</th>\n",
       "      <th>F</th>\n",
       "      <th>E</th>\n",
       "    </tr>\n",
       "  </thead>\n",
       "  <tbody>\n",
       "    <tr>\n",
       "      <th>2013-01-02</th>\n",
       "      <td>0.068961</td>\n",
       "      <td>-0.102853</td>\n",
       "      <td>0.214349</td>\n",
       "      <td>5</td>\n",
       "      <td>1.0</td>\n",
       "      <td>1.0</td>\n",
       "    </tr>\n",
       "  </tbody>\n",
       "</table>\n",
       "</div>"
      ],
      "text/plain": [
       "                   A         B         C  D    F    E\n",
       "2013-01-02  0.068961 -0.102853  0.214349  5  1.0  1.0"
      ]
     },
     "execution_count": 104,
     "metadata": {},
     "output_type": "execute_result"
    }
   ],
   "source": [
    "# NaN 항목 지우기\n",
    "df1.dropna(how='any')"
   ]
  },
  {
   "cell_type": "code",
   "execution_count": 105,
   "metadata": {
    "collapsed": false
   },
   "outputs": [
    {
     "data": {
      "text/html": [
       "<div>\n",
       "<table border=\"1\" class=\"dataframe\">\n",
       "  <thead>\n",
       "    <tr style=\"text-align: right;\">\n",
       "      <th></th>\n",
       "      <th>A</th>\n",
       "      <th>B</th>\n",
       "      <th>C</th>\n",
       "      <th>D</th>\n",
       "      <th>F</th>\n",
       "      <th>E</th>\n",
       "    </tr>\n",
       "  </thead>\n",
       "  <tbody>\n",
       "    <tr>\n",
       "      <th>2013-01-01</th>\n",
       "      <td>0.000000</td>\n",
       "      <td>0.000000</td>\n",
       "      <td>0.130654</td>\n",
       "      <td>5</td>\n",
       "      <td>5.0</td>\n",
       "      <td>1.0</td>\n",
       "    </tr>\n",
       "    <tr>\n",
       "      <th>2013-01-02</th>\n",
       "      <td>0.068961</td>\n",
       "      <td>-0.102853</td>\n",
       "      <td>0.214349</td>\n",
       "      <td>5</td>\n",
       "      <td>1.0</td>\n",
       "      <td>1.0</td>\n",
       "    </tr>\n",
       "    <tr>\n",
       "      <th>2013-01-03</th>\n",
       "      <td>0.275312</td>\n",
       "      <td>-1.140510</td>\n",
       "      <td>-0.400254</td>\n",
       "      <td>5</td>\n",
       "      <td>2.0</td>\n",
       "      <td>5.0</td>\n",
       "    </tr>\n",
       "    <tr>\n",
       "      <th>2013-01-04</th>\n",
       "      <td>-1.197599</td>\n",
       "      <td>0.739873</td>\n",
       "      <td>-1.009280</td>\n",
       "      <td>5</td>\n",
       "      <td>3.0</td>\n",
       "      <td>5.0</td>\n",
       "    </tr>\n",
       "  </tbody>\n",
       "</table>\n",
       "</div>"
      ],
      "text/plain": [
       "                   A         B         C  D    F    E\n",
       "2013-01-01  0.000000  0.000000  0.130654  5  5.0  1.0\n",
       "2013-01-02  0.068961 -0.102853  0.214349  5  1.0  1.0\n",
       "2013-01-03  0.275312 -1.140510 -0.400254  5  2.0  5.0\n",
       "2013-01-04 -1.197599  0.739873 -1.009280  5  3.0  5.0"
      ]
     },
     "execution_count": 105,
     "metadata": {},
     "output_type": "execute_result"
    }
   ],
   "source": [
    "#채우기\n",
    "df1.fillna(value=5)"
   ]
  },
  {
   "cell_type": "code",
   "execution_count": 106,
   "metadata": {
    "collapsed": false
   },
   "outputs": [
    {
     "data": {
      "text/html": [
       "<div>\n",
       "<table border=\"1\" class=\"dataframe\">\n",
       "  <thead>\n",
       "    <tr style=\"text-align: right;\">\n",
       "      <th></th>\n",
       "      <th>A</th>\n",
       "      <th>B</th>\n",
       "      <th>C</th>\n",
       "      <th>D</th>\n",
       "      <th>F</th>\n",
       "      <th>E</th>\n",
       "    </tr>\n",
       "  </thead>\n",
       "  <tbody>\n",
       "    <tr>\n",
       "      <th>2013-01-01</th>\n",
       "      <td>False</td>\n",
       "      <td>False</td>\n",
       "      <td>False</td>\n",
       "      <td>False</td>\n",
       "      <td>True</td>\n",
       "      <td>False</td>\n",
       "    </tr>\n",
       "    <tr>\n",
       "      <th>2013-01-02</th>\n",
       "      <td>False</td>\n",
       "      <td>False</td>\n",
       "      <td>False</td>\n",
       "      <td>False</td>\n",
       "      <td>False</td>\n",
       "      <td>False</td>\n",
       "    </tr>\n",
       "    <tr>\n",
       "      <th>2013-01-03</th>\n",
       "      <td>False</td>\n",
       "      <td>False</td>\n",
       "      <td>False</td>\n",
       "      <td>False</td>\n",
       "      <td>False</td>\n",
       "      <td>True</td>\n",
       "    </tr>\n",
       "    <tr>\n",
       "      <th>2013-01-04</th>\n",
       "      <td>False</td>\n",
       "      <td>False</td>\n",
       "      <td>False</td>\n",
       "      <td>False</td>\n",
       "      <td>False</td>\n",
       "      <td>True</td>\n",
       "    </tr>\n",
       "  </tbody>\n",
       "</table>\n",
       "</div>"
      ],
      "text/plain": [
       "                A      B      C      D      F      E\n",
       "2013-01-01  False  False  False  False   True  False\n",
       "2013-01-02  False  False  False  False  False  False\n",
       "2013-01-03  False  False  False  False  False   True\n",
       "2013-01-04  False  False  False  False  False   True"
      ]
     },
     "execution_count": 106,
     "metadata": {},
     "output_type": "execute_result"
    }
   ],
   "source": [
    "pd.isnull(df1)"
   ]
  },
  {
   "cell_type": "markdown",
   "metadata": {},
   "source": [
    "### 1.1.5 연산자\n",
    "#### 1.1.5.1 통계"
   ]
  },
  {
   "cell_type": "code",
   "execution_count": 107,
   "metadata": {
    "collapsed": false
   },
   "outputs": [
    {
     "data": {
      "text/plain": [
       "A   -0.232601\n",
       "B    0.072806\n",
       "C   -0.441991\n",
       "D    5.000000\n",
       "F    3.000000\n",
       "dtype: float64"
      ]
     },
     "execution_count": 107,
     "metadata": {},
     "output_type": "execute_result"
    }
   ],
   "source": [
    "#컬럼별 평균\n",
    "df.mean()"
   ]
  },
  {
   "cell_type": "code",
   "execution_count": 108,
   "metadata": {
    "collapsed": false
   },
   "outputs": [
    {
     "data": {
      "text/plain": [
       "2013-01-01    1.282663\n",
       "2013-01-02    1.236092\n",
       "2013-01-03    1.146910\n",
       "2013-01-04    1.306599\n",
       "2013-01-05    1.722215\n",
       "2013-01-06    1.839910\n",
       "Freq: D, dtype: float64"
      ]
     },
     "execution_count": 108,
     "metadata": {},
     "output_type": "execute_result"
    }
   ],
   "source": [
    "#Index 별 평균\n",
    "df.mean(1)"
   ]
  },
  {
   "cell_type": "code",
   "execution_count": 109,
   "metadata": {
    "collapsed": true
   },
   "outputs": [],
   "source": [
    "s = pd.Series([1,3,5,np.nan,6,8], index=dates).shift(2)"
   ]
  },
  {
   "cell_type": "code",
   "execution_count": 110,
   "metadata": {
    "collapsed": false
   },
   "outputs": [
    {
     "data": {
      "text/plain": [
       "2013-01-01    1.0\n",
       "2013-01-02    3.0\n",
       "2013-01-03    5.0\n",
       "2013-01-04    NaN\n",
       "2013-01-05    6.0\n",
       "2013-01-06    8.0\n",
       "Freq: D, dtype: float64"
      ]
     },
     "execution_count": 110,
     "metadata": {},
     "output_type": "execute_result"
    }
   ],
   "source": [
    "pd.Series([1,3,5,np.nan,6,8], index=dates)"
   ]
  },
  {
   "cell_type": "code",
   "execution_count": 111,
   "metadata": {
    "collapsed": false
   },
   "outputs": [
    {
     "data": {
      "text/html": [
       "<div>\n",
       "<table border=\"1\" class=\"dataframe\">\n",
       "  <thead>\n",
       "    <tr style=\"text-align: right;\">\n",
       "      <th></th>\n",
       "      <th>A</th>\n",
       "      <th>B</th>\n",
       "      <th>C</th>\n",
       "      <th>D</th>\n",
       "      <th>F</th>\n",
       "    </tr>\n",
       "  </thead>\n",
       "  <tbody>\n",
       "    <tr>\n",
       "      <th>2013-01-01</th>\n",
       "      <td>NaN</td>\n",
       "      <td>NaN</td>\n",
       "      <td>NaN</td>\n",
       "      <td>NaN</td>\n",
       "      <td>NaN</td>\n",
       "    </tr>\n",
       "    <tr>\n",
       "      <th>2013-01-02</th>\n",
       "      <td>NaN</td>\n",
       "      <td>NaN</td>\n",
       "      <td>NaN</td>\n",
       "      <td>NaN</td>\n",
       "      <td>NaN</td>\n",
       "    </tr>\n",
       "    <tr>\n",
       "      <th>2013-01-03</th>\n",
       "      <td>-0.724688</td>\n",
       "      <td>-2.140510</td>\n",
       "      <td>-1.400254</td>\n",
       "      <td>4.0</td>\n",
       "      <td>1.0</td>\n",
       "    </tr>\n",
       "    <tr>\n",
       "      <th>2013-01-04</th>\n",
       "      <td>-4.197599</td>\n",
       "      <td>-2.260127</td>\n",
       "      <td>-4.009280</td>\n",
       "      <td>2.0</td>\n",
       "      <td>0.0</td>\n",
       "    </tr>\n",
       "    <tr>\n",
       "      <th>2013-01-05</th>\n",
       "      <td>-5.299502</td>\n",
       "      <td>-4.043052</td>\n",
       "      <td>-6.046370</td>\n",
       "      <td>0.0</td>\n",
       "      <td>-1.0</td>\n",
       "    </tr>\n",
       "    <tr>\n",
       "      <th>2013-01-06</th>\n",
       "      <td>NaN</td>\n",
       "      <td>NaN</td>\n",
       "      <td>NaN</td>\n",
       "      <td>NaN</td>\n",
       "      <td>NaN</td>\n",
       "    </tr>\n",
       "  </tbody>\n",
       "</table>\n",
       "</div>"
      ],
      "text/plain": [
       "                   A         B         C    D    F\n",
       "2013-01-01       NaN       NaN       NaN  NaN  NaN\n",
       "2013-01-02       NaN       NaN       NaN  NaN  NaN\n",
       "2013-01-03 -0.724688 -2.140510 -1.400254  4.0  1.0\n",
       "2013-01-04 -4.197599 -2.260127 -4.009280  2.0  0.0\n",
       "2013-01-05 -5.299502 -4.043052 -6.046370  0.0 -1.0\n",
       "2013-01-06       NaN       NaN       NaN  NaN  NaN"
      ]
     },
     "execution_count": 111,
     "metadata": {},
     "output_type": "execute_result"
    }
   ],
   "source": [
    "df.sub(s, axis='index')"
   ]
  },
  {
   "cell_type": "code",
   "execution_count": 112,
   "metadata": {
    "collapsed": false,
    "deletable": true,
    "editable": true
   },
   "outputs": [
    {
     "data": {
      "text/html": [
       "<div>\n",
       "<table border=\"1\" class=\"dataframe\">\n",
       "  <thead>\n",
       "    <tr style=\"text-align: right;\">\n",
       "      <th></th>\n",
       "      <th>A</th>\n",
       "      <th>B</th>\n",
       "      <th>C</th>\n",
       "      <th>D</th>\n",
       "      <th>F</th>\n",
       "    </tr>\n",
       "  </thead>\n",
       "  <tbody>\n",
       "    <tr>\n",
       "      <th>2013-01-03</th>\n",
       "      <td>-0.724688</td>\n",
       "      <td>-2.140510</td>\n",
       "      <td>-1.400254</td>\n",
       "      <td>4.0</td>\n",
       "      <td>1.0</td>\n",
       "    </tr>\n",
       "    <tr>\n",
       "      <th>2013-01-04</th>\n",
       "      <td>-4.197599</td>\n",
       "      <td>-2.260127</td>\n",
       "      <td>-4.009280</td>\n",
       "      <td>2.0</td>\n",
       "      <td>0.0</td>\n",
       "    </tr>\n",
       "    <tr>\n",
       "      <th>2013-01-05</th>\n",
       "      <td>-5.299502</td>\n",
       "      <td>-4.043052</td>\n",
       "      <td>-6.046370</td>\n",
       "      <td>0.0</td>\n",
       "      <td>-1.0</td>\n",
       "    </tr>\n",
       "  </tbody>\n",
       "</table>\n",
       "</div>"
      ],
      "text/plain": [
       "                   A         B         C    D    F\n",
       "2013-01-03 -0.724688 -2.140510 -1.400254  4.0  1.0\n",
       "2013-01-04 -4.197599 -2.260127 -4.009280  2.0  0.0\n",
       "2013-01-05 -5.299502 -4.043052 -6.046370  0.0 -1.0"
      ]
     },
     "execution_count": 112,
     "metadata": {},
     "output_type": "execute_result"
    }
   ],
   "source": [
    "df.sub(s, axis='index').dropna()"
   ]
  },
  {
   "cell_type": "markdown",
   "metadata": {},
   "source": [
    "#### 1.1.5.2 Apply"
   ]
  },
  {
   "cell_type": "code",
   "execution_count": 114,
   "metadata": {
    "collapsed": false,
    "deletable": true,
    "editable": true,
    "scrolled": true
   },
   "outputs": [
    {
     "data": {
      "text/html": [
       "<div>\n",
       "<table border=\"1\" class=\"dataframe\">\n",
       "  <thead>\n",
       "    <tr style=\"text-align: right;\">\n",
       "      <th></th>\n",
       "      <th>A</th>\n",
       "      <th>B</th>\n",
       "      <th>C</th>\n",
       "      <th>D</th>\n",
       "      <th>F</th>\n",
       "    </tr>\n",
       "  </thead>\n",
       "  <tbody>\n",
       "    <tr>\n",
       "      <th>2013-01-01</th>\n",
       "      <td>0.000000</td>\n",
       "      <td>0.000000</td>\n",
       "      <td>0.130654</td>\n",
       "      <td>5</td>\n",
       "      <td>NaN</td>\n",
       "    </tr>\n",
       "    <tr>\n",
       "      <th>2013-01-02</th>\n",
       "      <td>0.068961</td>\n",
       "      <td>-0.102853</td>\n",
       "      <td>0.214349</td>\n",
       "      <td>5</td>\n",
       "      <td>1.0</td>\n",
       "    </tr>\n",
       "    <tr>\n",
       "      <th>2013-01-03</th>\n",
       "      <td>0.275312</td>\n",
       "      <td>-1.140510</td>\n",
       "      <td>-0.400254</td>\n",
       "      <td>5</td>\n",
       "      <td>2.0</td>\n",
       "    </tr>\n",
       "    <tr>\n",
       "      <th>2013-01-04</th>\n",
       "      <td>-1.197599</td>\n",
       "      <td>0.739873</td>\n",
       "      <td>-1.009280</td>\n",
       "      <td>5</td>\n",
       "      <td>3.0</td>\n",
       "    </tr>\n",
       "    <tr>\n",
       "      <th>2013-01-05</th>\n",
       "      <td>-0.299502</td>\n",
       "      <td>0.956948</td>\n",
       "      <td>-1.046370</td>\n",
       "      <td>5</td>\n",
       "      <td>4.0</td>\n",
       "    </tr>\n",
       "    <tr>\n",
       "      <th>2013-01-06</th>\n",
       "      <td>-0.242780</td>\n",
       "      <td>-0.016623</td>\n",
       "      <td>-0.541045</td>\n",
       "      <td>5</td>\n",
       "      <td>5.0</td>\n",
       "    </tr>\n",
       "  </tbody>\n",
       "</table>\n",
       "</div>"
      ],
      "text/plain": [
       "                   A         B         C  D    F\n",
       "2013-01-01  0.000000  0.000000  0.130654  5  NaN\n",
       "2013-01-02  0.068961 -0.102853  0.214349  5  1.0\n",
       "2013-01-03  0.275312 -1.140510 -0.400254  5  2.0\n",
       "2013-01-04 -1.197599  0.739873 -1.009280  5  3.0\n",
       "2013-01-05 -0.299502  0.956948 -1.046370  5  4.0\n",
       "2013-01-06 -0.242780 -0.016623 -0.541045  5  5.0"
      ]
     },
     "execution_count": 114,
     "metadata": {},
     "output_type": "execute_result"
    }
   ],
   "source": [
    "df"
   ]
  },
  {
   "cell_type": "code",
   "execution_count": 115,
   "metadata": {
    "collapsed": false
   },
   "outputs": [
    {
     "data": {
      "text/html": [
       "<div>\n",
       "<table border=\"1\" class=\"dataframe\">\n",
       "  <thead>\n",
       "    <tr style=\"text-align: right;\">\n",
       "      <th></th>\n",
       "      <th>A</th>\n",
       "      <th>B</th>\n",
       "      <th>C</th>\n",
       "      <th>D</th>\n",
       "      <th>F</th>\n",
       "    </tr>\n",
       "  </thead>\n",
       "  <tbody>\n",
       "    <tr>\n",
       "      <th>2013-01-01</th>\n",
       "      <td>0.000000</td>\n",
       "      <td>0.000000</td>\n",
       "      <td>0.130654</td>\n",
       "      <td>5</td>\n",
       "      <td>NaN</td>\n",
       "    </tr>\n",
       "    <tr>\n",
       "      <th>2013-01-02</th>\n",
       "      <td>0.068961</td>\n",
       "      <td>-0.102853</td>\n",
       "      <td>0.345003</td>\n",
       "      <td>10</td>\n",
       "      <td>1.0</td>\n",
       "    </tr>\n",
       "    <tr>\n",
       "      <th>2013-01-03</th>\n",
       "      <td>0.344273</td>\n",
       "      <td>-1.243362</td>\n",
       "      <td>-0.055251</td>\n",
       "      <td>15</td>\n",
       "      <td>3.0</td>\n",
       "    </tr>\n",
       "    <tr>\n",
       "      <th>2013-01-04</th>\n",
       "      <td>-0.853326</td>\n",
       "      <td>-0.503489</td>\n",
       "      <td>-1.064530</td>\n",
       "      <td>20</td>\n",
       "      <td>6.0</td>\n",
       "    </tr>\n",
       "    <tr>\n",
       "      <th>2013-01-05</th>\n",
       "      <td>-1.152828</td>\n",
       "      <td>0.453458</td>\n",
       "      <td>-2.110900</td>\n",
       "      <td>25</td>\n",
       "      <td>10.0</td>\n",
       "    </tr>\n",
       "    <tr>\n",
       "      <th>2013-01-06</th>\n",
       "      <td>-1.395608</td>\n",
       "      <td>0.436836</td>\n",
       "      <td>-2.651945</td>\n",
       "      <td>30</td>\n",
       "      <td>15.0</td>\n",
       "    </tr>\n",
       "  </tbody>\n",
       "</table>\n",
       "</div>"
      ],
      "text/plain": [
       "                   A         B         C   D     F\n",
       "2013-01-01  0.000000  0.000000  0.130654   5   NaN\n",
       "2013-01-02  0.068961 -0.102853  0.345003  10   1.0\n",
       "2013-01-03  0.344273 -1.243362 -0.055251  15   3.0\n",
       "2013-01-04 -0.853326 -0.503489 -1.064530  20   6.0\n",
       "2013-01-05 -1.152828  0.453458 -2.110900  25  10.0\n",
       "2013-01-06 -1.395608  0.436836 -2.651945  30  15.0"
      ]
     },
     "execution_count": 115,
     "metadata": {},
     "output_type": "execute_result"
    }
   ],
   "source": [
    "df.apply(np.cumsum)"
   ]
  },
  {
   "cell_type": "code",
   "execution_count": 116,
   "metadata": {
    "collapsed": false
   },
   "outputs": [
    {
     "data": {
      "text/plain": [
       "A    1.472911\n",
       "B    2.097457\n",
       "C    1.260719\n",
       "D    0.000000\n",
       "F    4.000000\n",
       "dtype: float64"
      ]
     },
     "execution_count": 116,
     "metadata": {},
     "output_type": "execute_result"
    }
   ],
   "source": [
    "df.apply(lambda x:x.max() - x.min())"
   ]
  },
  {
   "cell_type": "markdown",
   "metadata": {},
   "source": [
    "#### 1.1.5.3 Historamming"
   ]
  },
  {
   "cell_type": "code",
   "execution_count": 117,
   "metadata": {
    "collapsed": true
   },
   "outputs": [],
   "source": [
    "s = pd.Series(np.random.randint(0, 7, size=10))"
   ]
  },
  {
   "cell_type": "code",
   "execution_count": 118,
   "metadata": {
    "collapsed": false
   },
   "outputs": [
    {
     "data": {
      "text/plain": [
       "0    3\n",
       "1    0\n",
       "2    5\n",
       "3    6\n",
       "4    0\n",
       "5    4\n",
       "6    2\n",
       "7    3\n",
       "8    1\n",
       "9    0\n",
       "dtype: int32"
      ]
     },
     "execution_count": 118,
     "metadata": {},
     "output_type": "execute_result"
    }
   ],
   "source": [
    "s"
   ]
  },
  {
   "cell_type": "code",
   "execution_count": 119,
   "metadata": {
    "collapsed": false
   },
   "outputs": [
    {
     "data": {
      "text/plain": [
       "0    3\n",
       "3    2\n",
       "6    1\n",
       "5    1\n",
       "4    1\n",
       "2    1\n",
       "1    1\n",
       "dtype: int64"
      ]
     },
     "execution_count": 119,
     "metadata": {},
     "output_type": "execute_result"
    }
   ],
   "source": [
    "#값별 빈도수 \n",
    "s.value_counts()"
   ]
  },
  {
   "cell_type": "markdown",
   "metadata": {},
   "source": [
    "#### 1.1.5.4 문자열 함수"
   ]
  },
  {
   "cell_type": "code",
   "execution_count": 120,
   "metadata": {
    "collapsed": true
   },
   "outputs": [],
   "source": [
    "s = pd.Series(['A', 'B', 'C', 'Aaba', 'Baca', np.nan, 'CABA', 'dog', 'cat'])"
   ]
  },
  {
   "cell_type": "code",
   "execution_count": 121,
   "metadata": {
    "collapsed": false
   },
   "outputs": [
    {
     "data": {
      "text/plain": [
       "0       a\n",
       "1       b\n",
       "2       c\n",
       "3    aaba\n",
       "4    baca\n",
       "5     NaN\n",
       "6    caba\n",
       "7     dog\n",
       "8     cat\n",
       "dtype: object"
      ]
     },
     "execution_count": 121,
     "metadata": {},
     "output_type": "execute_result"
    }
   ],
   "source": [
    "s.str.lower()"
   ]
  },
  {
   "cell_type": "markdown",
   "metadata": {},
   "source": [
    "### 1.1.6 병합\n",
    "\n",
    "#### 1.1.6.1 Concat"
   ]
  },
  {
   "cell_type": "code",
   "execution_count": 122,
   "metadata": {
    "collapsed": false
   },
   "outputs": [],
   "source": [
    "df = pd.DataFrame(np.random.randn(10,4))"
   ]
  },
  {
   "cell_type": "code",
   "execution_count": 123,
   "metadata": {
    "collapsed": false
   },
   "outputs": [
    {
     "data": {
      "text/html": [
       "<div>\n",
       "<table border=\"1\" class=\"dataframe\">\n",
       "  <thead>\n",
       "    <tr style=\"text-align: right;\">\n",
       "      <th></th>\n",
       "      <th>0</th>\n",
       "      <th>1</th>\n",
       "      <th>2</th>\n",
       "      <th>3</th>\n",
       "    </tr>\n",
       "  </thead>\n",
       "  <tbody>\n",
       "    <tr>\n",
       "      <th>0</th>\n",
       "      <td>0.437351</td>\n",
       "      <td>-2.505223</td>\n",
       "      <td>1.078902</td>\n",
       "      <td>-0.655534</td>\n",
       "    </tr>\n",
       "    <tr>\n",
       "      <th>1</th>\n",
       "      <td>-0.917378</td>\n",
       "      <td>-1.236615</td>\n",
       "      <td>1.171250</td>\n",
       "      <td>0.663209</td>\n",
       "    </tr>\n",
       "    <tr>\n",
       "      <th>2</th>\n",
       "      <td>-0.092449</td>\n",
       "      <td>-0.653837</td>\n",
       "      <td>-0.596762</td>\n",
       "      <td>1.275968</td>\n",
       "    </tr>\n",
       "    <tr>\n",
       "      <th>3</th>\n",
       "      <td>-0.750969</td>\n",
       "      <td>-0.946947</td>\n",
       "      <td>-0.128522</td>\n",
       "      <td>0.156593</td>\n",
       "    </tr>\n",
       "    <tr>\n",
       "      <th>4</th>\n",
       "      <td>-0.849665</td>\n",
       "      <td>-0.443966</td>\n",
       "      <td>1.451677</td>\n",
       "      <td>-0.579664</td>\n",
       "    </tr>\n",
       "    <tr>\n",
       "      <th>5</th>\n",
       "      <td>-1.247865</td>\n",
       "      <td>0.107196</td>\n",
       "      <td>-1.095620</td>\n",
       "      <td>1.152598</td>\n",
       "    </tr>\n",
       "    <tr>\n",
       "      <th>6</th>\n",
       "      <td>-0.277200</td>\n",
       "      <td>1.426482</td>\n",
       "      <td>1.600131</td>\n",
       "      <td>1.093791</td>\n",
       "    </tr>\n",
       "    <tr>\n",
       "      <th>7</th>\n",
       "      <td>0.647650</td>\n",
       "      <td>-0.348740</td>\n",
       "      <td>-1.030609</td>\n",
       "      <td>0.123343</td>\n",
       "    </tr>\n",
       "    <tr>\n",
       "      <th>8</th>\n",
       "      <td>1.713186</td>\n",
       "      <td>-0.146015</td>\n",
       "      <td>-0.078590</td>\n",
       "      <td>0.163573</td>\n",
       "    </tr>\n",
       "    <tr>\n",
       "      <th>9</th>\n",
       "      <td>0.376598</td>\n",
       "      <td>-0.321273</td>\n",
       "      <td>1.214688</td>\n",
       "      <td>0.845784</td>\n",
       "    </tr>\n",
       "  </tbody>\n",
       "</table>\n",
       "</div>"
      ],
      "text/plain": [
       "          0         1         2         3\n",
       "0  0.437351 -2.505223  1.078902 -0.655534\n",
       "1 -0.917378 -1.236615  1.171250  0.663209\n",
       "2 -0.092449 -0.653837 -0.596762  1.275968\n",
       "3 -0.750969 -0.946947 -0.128522  0.156593\n",
       "4 -0.849665 -0.443966  1.451677 -0.579664\n",
       "5 -1.247865  0.107196 -1.095620  1.152598\n",
       "6 -0.277200  1.426482  1.600131  1.093791\n",
       "7  0.647650 -0.348740 -1.030609  0.123343\n",
       "8  1.713186 -0.146015 -0.078590  0.163573\n",
       "9  0.376598 -0.321273  1.214688  0.845784"
      ]
     },
     "execution_count": 123,
     "metadata": {},
     "output_type": "execute_result"
    }
   ],
   "source": [
    "df"
   ]
  },
  {
   "cell_type": "code",
   "execution_count": 124,
   "metadata": {
    "collapsed": true
   },
   "outputs": [],
   "source": [
    "pieces = [df[:3], df[3:7],df[7:]]"
   ]
  },
  {
   "cell_type": "code",
   "execution_count": 125,
   "metadata": {
    "collapsed": false
   },
   "outputs": [
    {
     "data": {
      "text/html": [
       "<div>\n",
       "<table border=\"1\" class=\"dataframe\">\n",
       "  <thead>\n",
       "    <tr style=\"text-align: right;\">\n",
       "      <th></th>\n",
       "      <th>0</th>\n",
       "      <th>1</th>\n",
       "      <th>2</th>\n",
       "      <th>3</th>\n",
       "    </tr>\n",
       "  </thead>\n",
       "  <tbody>\n",
       "    <tr>\n",
       "      <th>0</th>\n",
       "      <td>0.437351</td>\n",
       "      <td>-2.505223</td>\n",
       "      <td>1.078902</td>\n",
       "      <td>-0.655534</td>\n",
       "    </tr>\n",
       "    <tr>\n",
       "      <th>1</th>\n",
       "      <td>-0.917378</td>\n",
       "      <td>-1.236615</td>\n",
       "      <td>1.171250</td>\n",
       "      <td>0.663209</td>\n",
       "    </tr>\n",
       "    <tr>\n",
       "      <th>2</th>\n",
       "      <td>-0.092449</td>\n",
       "      <td>-0.653837</td>\n",
       "      <td>-0.596762</td>\n",
       "      <td>1.275968</td>\n",
       "    </tr>\n",
       "    <tr>\n",
       "      <th>3</th>\n",
       "      <td>-0.750969</td>\n",
       "      <td>-0.946947</td>\n",
       "      <td>-0.128522</td>\n",
       "      <td>0.156593</td>\n",
       "    </tr>\n",
       "    <tr>\n",
       "      <th>4</th>\n",
       "      <td>-0.849665</td>\n",
       "      <td>-0.443966</td>\n",
       "      <td>1.451677</td>\n",
       "      <td>-0.579664</td>\n",
       "    </tr>\n",
       "    <tr>\n",
       "      <th>5</th>\n",
       "      <td>-1.247865</td>\n",
       "      <td>0.107196</td>\n",
       "      <td>-1.095620</td>\n",
       "      <td>1.152598</td>\n",
       "    </tr>\n",
       "    <tr>\n",
       "      <th>6</th>\n",
       "      <td>-0.277200</td>\n",
       "      <td>1.426482</td>\n",
       "      <td>1.600131</td>\n",
       "      <td>1.093791</td>\n",
       "    </tr>\n",
       "    <tr>\n",
       "      <th>7</th>\n",
       "      <td>0.647650</td>\n",
       "      <td>-0.348740</td>\n",
       "      <td>-1.030609</td>\n",
       "      <td>0.123343</td>\n",
       "    </tr>\n",
       "    <tr>\n",
       "      <th>8</th>\n",
       "      <td>1.713186</td>\n",
       "      <td>-0.146015</td>\n",
       "      <td>-0.078590</td>\n",
       "      <td>0.163573</td>\n",
       "    </tr>\n",
       "    <tr>\n",
       "      <th>9</th>\n",
       "      <td>0.376598</td>\n",
       "      <td>-0.321273</td>\n",
       "      <td>1.214688</td>\n",
       "      <td>0.845784</td>\n",
       "    </tr>\n",
       "  </tbody>\n",
       "</table>\n",
       "</div>"
      ],
      "text/plain": [
       "          0         1         2         3\n",
       "0  0.437351 -2.505223  1.078902 -0.655534\n",
       "1 -0.917378 -1.236615  1.171250  0.663209\n",
       "2 -0.092449 -0.653837 -0.596762  1.275968\n",
       "3 -0.750969 -0.946947 -0.128522  0.156593\n",
       "4 -0.849665 -0.443966  1.451677 -0.579664\n",
       "5 -1.247865  0.107196 -1.095620  1.152598\n",
       "6 -0.277200  1.426482  1.600131  1.093791\n",
       "7  0.647650 -0.348740 -1.030609  0.123343\n",
       "8  1.713186 -0.146015 -0.078590  0.163573\n",
       "9  0.376598 -0.321273  1.214688  0.845784"
      ]
     },
     "execution_count": 125,
     "metadata": {},
     "output_type": "execute_result"
    }
   ],
   "source": [
    "pd.concat(pieces)"
   ]
  },
  {
   "cell_type": "markdown",
   "metadata": {},
   "source": [
    "#### 1.1.6.2 join"
   ]
  },
  {
   "cell_type": "code",
   "execution_count": 126,
   "metadata": {
    "collapsed": true
   },
   "outputs": [],
   "source": [
    "left = pd.DataFrame({'key': ['foo', 'foo'], 'lval': [1, 2]})"
   ]
  },
  {
   "cell_type": "code",
   "execution_count": 127,
   "metadata": {
    "collapsed": false
   },
   "outputs": [
    {
     "data": {
      "text/html": [
       "<div>\n",
       "<table border=\"1\" class=\"dataframe\">\n",
       "  <thead>\n",
       "    <tr style=\"text-align: right;\">\n",
       "      <th></th>\n",
       "      <th>key</th>\n",
       "      <th>lval</th>\n",
       "    </tr>\n",
       "  </thead>\n",
       "  <tbody>\n",
       "    <tr>\n",
       "      <th>0</th>\n",
       "      <td>foo</td>\n",
       "      <td>1</td>\n",
       "    </tr>\n",
       "    <tr>\n",
       "      <th>1</th>\n",
       "      <td>foo</td>\n",
       "      <td>2</td>\n",
       "    </tr>\n",
       "  </tbody>\n",
       "</table>\n",
       "</div>"
      ],
      "text/plain": [
       "   key  lval\n",
       "0  foo     1\n",
       "1  foo     2"
      ]
     },
     "execution_count": 127,
     "metadata": {},
     "output_type": "execute_result"
    }
   ],
   "source": [
    "left"
   ]
  },
  {
   "cell_type": "code",
   "execution_count": 128,
   "metadata": {
    "collapsed": false
   },
   "outputs": [],
   "source": [
    "right = pd.DataFrame({'key': ['foo', 'foo'], 'rval': [4, 5]})"
   ]
  },
  {
   "cell_type": "code",
   "execution_count": 129,
   "metadata": {
    "collapsed": false
   },
   "outputs": [
    {
     "data": {
      "text/html": [
       "<div>\n",
       "<table border=\"1\" class=\"dataframe\">\n",
       "  <thead>\n",
       "    <tr style=\"text-align: right;\">\n",
       "      <th></th>\n",
       "      <th>key</th>\n",
       "      <th>rval</th>\n",
       "    </tr>\n",
       "  </thead>\n",
       "  <tbody>\n",
       "    <tr>\n",
       "      <th>0</th>\n",
       "      <td>foo</td>\n",
       "      <td>4</td>\n",
       "    </tr>\n",
       "    <tr>\n",
       "      <th>1</th>\n",
       "      <td>foo</td>\n",
       "      <td>5</td>\n",
       "    </tr>\n",
       "  </tbody>\n",
       "</table>\n",
       "</div>"
      ],
      "text/plain": [
       "   key  rval\n",
       "0  foo     4\n",
       "1  foo     5"
      ]
     },
     "execution_count": 129,
     "metadata": {},
     "output_type": "execute_result"
    }
   ],
   "source": [
    "right"
   ]
  },
  {
   "cell_type": "code",
   "execution_count": 130,
   "metadata": {
    "collapsed": false
   },
   "outputs": [
    {
     "data": {
      "text/html": [
       "<div>\n",
       "<table border=\"1\" class=\"dataframe\">\n",
       "  <thead>\n",
       "    <tr style=\"text-align: right;\">\n",
       "      <th></th>\n",
       "      <th>key</th>\n",
       "      <th>lval</th>\n",
       "      <th>rval</th>\n",
       "    </tr>\n",
       "  </thead>\n",
       "  <tbody>\n",
       "    <tr>\n",
       "      <th>0</th>\n",
       "      <td>foo</td>\n",
       "      <td>1</td>\n",
       "      <td>4</td>\n",
       "    </tr>\n",
       "    <tr>\n",
       "      <th>1</th>\n",
       "      <td>foo</td>\n",
       "      <td>1</td>\n",
       "      <td>5</td>\n",
       "    </tr>\n",
       "    <tr>\n",
       "      <th>2</th>\n",
       "      <td>foo</td>\n",
       "      <td>2</td>\n",
       "      <td>4</td>\n",
       "    </tr>\n",
       "    <tr>\n",
       "      <th>3</th>\n",
       "      <td>foo</td>\n",
       "      <td>2</td>\n",
       "      <td>5</td>\n",
       "    </tr>\n",
       "  </tbody>\n",
       "</table>\n",
       "</div>"
      ],
      "text/plain": [
       "   key  lval  rval\n",
       "0  foo     1     4\n",
       "1  foo     1     5\n",
       "2  foo     2     4\n",
       "3  foo     2     5"
      ]
     },
     "execution_count": 130,
     "metadata": {},
     "output_type": "execute_result"
    }
   ],
   "source": [
    "pd.merge(left, right, on='key')"
   ]
  },
  {
   "cell_type": "markdown",
   "metadata": {},
   "source": [
    "#### 1.1.6.3 Append"
   ]
  },
  {
   "cell_type": "code",
   "execution_count": 131,
   "metadata": {
    "collapsed": true
   },
   "outputs": [],
   "source": [
    "df = pd.DataFrame(np.random.randn(8, 4), columns=['A','B','C','D'])"
   ]
  },
  {
   "cell_type": "code",
   "execution_count": 132,
   "metadata": {
    "collapsed": false
   },
   "outputs": [
    {
     "data": {
      "text/html": [
       "<div>\n",
       "<table border=\"1\" class=\"dataframe\">\n",
       "  <thead>\n",
       "    <tr style=\"text-align: right;\">\n",
       "      <th></th>\n",
       "      <th>A</th>\n",
       "      <th>B</th>\n",
       "      <th>C</th>\n",
       "      <th>D</th>\n",
       "    </tr>\n",
       "  </thead>\n",
       "  <tbody>\n",
       "    <tr>\n",
       "      <th>0</th>\n",
       "      <td>-0.173586</td>\n",
       "      <td>-0.685364</td>\n",
       "      <td>-1.575804</td>\n",
       "      <td>0.640609</td>\n",
       "    </tr>\n",
       "    <tr>\n",
       "      <th>1</th>\n",
       "      <td>-0.075456</td>\n",
       "      <td>1.701383</td>\n",
       "      <td>-0.583597</td>\n",
       "      <td>1.304042</td>\n",
       "    </tr>\n",
       "    <tr>\n",
       "      <th>2</th>\n",
       "      <td>0.602742</td>\n",
       "      <td>-0.562650</td>\n",
       "      <td>1.362339</td>\n",
       "      <td>-0.044354</td>\n",
       "    </tr>\n",
       "    <tr>\n",
       "      <th>3</th>\n",
       "      <td>-0.262211</td>\n",
       "      <td>0.769052</td>\n",
       "      <td>-1.398274</td>\n",
       "      <td>-1.555068</td>\n",
       "    </tr>\n",
       "    <tr>\n",
       "      <th>4</th>\n",
       "      <td>0.096463</td>\n",
       "      <td>0.809712</td>\n",
       "      <td>-0.922647</td>\n",
       "      <td>1.459758</td>\n",
       "    </tr>\n",
       "    <tr>\n",
       "      <th>5</th>\n",
       "      <td>0.288196</td>\n",
       "      <td>1.136738</td>\n",
       "      <td>-1.849978</td>\n",
       "      <td>0.262021</td>\n",
       "    </tr>\n",
       "    <tr>\n",
       "      <th>6</th>\n",
       "      <td>-0.469959</td>\n",
       "      <td>0.400977</td>\n",
       "      <td>0.292678</td>\n",
       "      <td>-0.110822</td>\n",
       "    </tr>\n",
       "    <tr>\n",
       "      <th>7</th>\n",
       "      <td>-2.096250</td>\n",
       "      <td>-0.896124</td>\n",
       "      <td>-0.027674</td>\n",
       "      <td>0.805927</td>\n",
       "    </tr>\n",
       "  </tbody>\n",
       "</table>\n",
       "</div>"
      ],
      "text/plain": [
       "          A         B         C         D\n",
       "0 -0.173586 -0.685364 -1.575804  0.640609\n",
       "1 -0.075456  1.701383 -0.583597  1.304042\n",
       "2  0.602742 -0.562650  1.362339 -0.044354\n",
       "3 -0.262211  0.769052 -1.398274 -1.555068\n",
       "4  0.096463  0.809712 -0.922647  1.459758\n",
       "5  0.288196  1.136738 -1.849978  0.262021\n",
       "6 -0.469959  0.400977  0.292678 -0.110822\n",
       "7 -2.096250 -0.896124 -0.027674  0.805927"
      ]
     },
     "execution_count": 132,
     "metadata": {},
     "output_type": "execute_result"
    }
   ],
   "source": [
    "df"
   ]
  },
  {
   "cell_type": "code",
   "execution_count": 133,
   "metadata": {
    "collapsed": false
   },
   "outputs": [],
   "source": [
    "s = df.iloc[3]"
   ]
  },
  {
   "cell_type": "code",
   "execution_count": 134,
   "metadata": {
    "collapsed": false
   },
   "outputs": [
    {
     "data": {
      "text/html": [
       "<div>\n",
       "<table border=\"1\" class=\"dataframe\">\n",
       "  <thead>\n",
       "    <tr style=\"text-align: right;\">\n",
       "      <th></th>\n",
       "      <th>A</th>\n",
       "      <th>B</th>\n",
       "      <th>C</th>\n",
       "      <th>D</th>\n",
       "    </tr>\n",
       "  </thead>\n",
       "  <tbody>\n",
       "    <tr>\n",
       "      <th>0</th>\n",
       "      <td>-0.173586</td>\n",
       "      <td>-0.685364</td>\n",
       "      <td>-1.575804</td>\n",
       "      <td>0.640609</td>\n",
       "    </tr>\n",
       "    <tr>\n",
       "      <th>1</th>\n",
       "      <td>-0.075456</td>\n",
       "      <td>1.701383</td>\n",
       "      <td>-0.583597</td>\n",
       "      <td>1.304042</td>\n",
       "    </tr>\n",
       "    <tr>\n",
       "      <th>2</th>\n",
       "      <td>0.602742</td>\n",
       "      <td>-0.562650</td>\n",
       "      <td>1.362339</td>\n",
       "      <td>-0.044354</td>\n",
       "    </tr>\n",
       "    <tr>\n",
       "      <th>3</th>\n",
       "      <td>-0.262211</td>\n",
       "      <td>0.769052</td>\n",
       "      <td>-1.398274</td>\n",
       "      <td>-1.555068</td>\n",
       "    </tr>\n",
       "    <tr>\n",
       "      <th>4</th>\n",
       "      <td>0.096463</td>\n",
       "      <td>0.809712</td>\n",
       "      <td>-0.922647</td>\n",
       "      <td>1.459758</td>\n",
       "    </tr>\n",
       "    <tr>\n",
       "      <th>5</th>\n",
       "      <td>0.288196</td>\n",
       "      <td>1.136738</td>\n",
       "      <td>-1.849978</td>\n",
       "      <td>0.262021</td>\n",
       "    </tr>\n",
       "    <tr>\n",
       "      <th>6</th>\n",
       "      <td>-0.469959</td>\n",
       "      <td>0.400977</td>\n",
       "      <td>0.292678</td>\n",
       "      <td>-0.110822</td>\n",
       "    </tr>\n",
       "    <tr>\n",
       "      <th>7</th>\n",
       "      <td>-2.096250</td>\n",
       "      <td>-0.896124</td>\n",
       "      <td>-0.027674</td>\n",
       "      <td>0.805927</td>\n",
       "    </tr>\n",
       "    <tr>\n",
       "      <th>8</th>\n",
       "      <td>-0.262211</td>\n",
       "      <td>0.769052</td>\n",
       "      <td>-1.398274</td>\n",
       "      <td>-1.555068</td>\n",
       "    </tr>\n",
       "  </tbody>\n",
       "</table>\n",
       "</div>"
      ],
      "text/plain": [
       "          A         B         C         D\n",
       "0 -0.173586 -0.685364 -1.575804  0.640609\n",
       "1 -0.075456  1.701383 -0.583597  1.304042\n",
       "2  0.602742 -0.562650  1.362339 -0.044354\n",
       "3 -0.262211  0.769052 -1.398274 -1.555068\n",
       "4  0.096463  0.809712 -0.922647  1.459758\n",
       "5  0.288196  1.136738 -1.849978  0.262021\n",
       "6 -0.469959  0.400977  0.292678 -0.110822\n",
       "7 -2.096250 -0.896124 -0.027674  0.805927\n",
       "8 -0.262211  0.769052 -1.398274 -1.555068"
      ]
     },
     "execution_count": 134,
     "metadata": {},
     "output_type": "execute_result"
    }
   ],
   "source": [
    "df.append(s, ignore_index=True)"
   ]
  },
  {
   "cell_type": "markdown",
   "metadata": {},
   "source": [
    "### 1.1.7 그룹핑"
   ]
  },
  {
   "cell_type": "code",
   "execution_count": 135,
   "metadata": {
    "collapsed": true
   },
   "outputs": [],
   "source": [
    "df = pd.DataFrame({'A' : ['foo', 'bar', 'foo', 'bar',\n",
    "                          'foo', 'bar', 'foo', 'foo'],\n",
    "                   'B' : ['one', 'one', 'two', 'three',\n",
    "                          'two', 'two', 'one', 'three'],\n",
    "                   'C' : np.random.randn(8),\n",
    "                   'D' : np.random.randn(8)})"
   ]
  },
  {
   "cell_type": "code",
   "execution_count": 136,
   "metadata": {
    "collapsed": false
   },
   "outputs": [
    {
     "data": {
      "text/html": [
       "<div>\n",
       "<table border=\"1\" class=\"dataframe\">\n",
       "  <thead>\n",
       "    <tr style=\"text-align: right;\">\n",
       "      <th></th>\n",
       "      <th>A</th>\n",
       "      <th>B</th>\n",
       "      <th>C</th>\n",
       "      <th>D</th>\n",
       "    </tr>\n",
       "  </thead>\n",
       "  <tbody>\n",
       "    <tr>\n",
       "      <th>0</th>\n",
       "      <td>foo</td>\n",
       "      <td>one</td>\n",
       "      <td>0.112586</td>\n",
       "      <td>-1.131186</td>\n",
       "    </tr>\n",
       "    <tr>\n",
       "      <th>1</th>\n",
       "      <td>bar</td>\n",
       "      <td>one</td>\n",
       "      <td>0.333331</td>\n",
       "      <td>0.098309</td>\n",
       "    </tr>\n",
       "    <tr>\n",
       "      <th>2</th>\n",
       "      <td>foo</td>\n",
       "      <td>two</td>\n",
       "      <td>-0.869694</td>\n",
       "      <td>-2.742334</td>\n",
       "    </tr>\n",
       "    <tr>\n",
       "      <th>3</th>\n",
       "      <td>bar</td>\n",
       "      <td>three</td>\n",
       "      <td>-0.097422</td>\n",
       "      <td>-0.202876</td>\n",
       "    </tr>\n",
       "    <tr>\n",
       "      <th>4</th>\n",
       "      <td>foo</td>\n",
       "      <td>two</td>\n",
       "      <td>0.539815</td>\n",
       "      <td>0.667544</td>\n",
       "    </tr>\n",
       "    <tr>\n",
       "      <th>5</th>\n",
       "      <td>bar</td>\n",
       "      <td>two</td>\n",
       "      <td>-0.465934</td>\n",
       "      <td>1.333051</td>\n",
       "    </tr>\n",
       "    <tr>\n",
       "      <th>6</th>\n",
       "      <td>foo</td>\n",
       "      <td>one</td>\n",
       "      <td>-0.482760</td>\n",
       "      <td>0.281359</td>\n",
       "    </tr>\n",
       "    <tr>\n",
       "      <th>7</th>\n",
       "      <td>foo</td>\n",
       "      <td>three</td>\n",
       "      <td>1.222011</td>\n",
       "      <td>0.304097</td>\n",
       "    </tr>\n",
       "  </tbody>\n",
       "</table>\n",
       "</div>"
      ],
      "text/plain": [
       "     A      B         C         D\n",
       "0  foo    one  0.112586 -1.131186\n",
       "1  bar    one  0.333331  0.098309\n",
       "2  foo    two -0.869694 -2.742334\n",
       "3  bar  three -0.097422 -0.202876\n",
       "4  foo    two  0.539815  0.667544\n",
       "5  bar    two -0.465934  1.333051\n",
       "6  foo    one -0.482760  0.281359\n",
       "7  foo  three  1.222011  0.304097"
      ]
     },
     "execution_count": 136,
     "metadata": {},
     "output_type": "execute_result"
    }
   ],
   "source": [
    "df"
   ]
  },
  {
   "cell_type": "code",
   "execution_count": 137,
   "metadata": {
    "collapsed": false
   },
   "outputs": [
    {
     "data": {
      "text/html": [
       "<div>\n",
       "<table border=\"1\" class=\"dataframe\">\n",
       "  <thead>\n",
       "    <tr style=\"text-align: right;\">\n",
       "      <th></th>\n",
       "      <th>C</th>\n",
       "      <th>D</th>\n",
       "    </tr>\n",
       "    <tr>\n",
       "      <th>A</th>\n",
       "      <th></th>\n",
       "      <th></th>\n",
       "    </tr>\n",
       "  </thead>\n",
       "  <tbody>\n",
       "    <tr>\n",
       "      <th>bar</th>\n",
       "      <td>-0.230026</td>\n",
       "      <td>1.228484</td>\n",
       "    </tr>\n",
       "    <tr>\n",
       "      <th>foo</th>\n",
       "      <td>0.521959</td>\n",
       "      <td>-2.620519</td>\n",
       "    </tr>\n",
       "  </tbody>\n",
       "</table>\n",
       "</div>"
      ],
      "text/plain": [
       "            C         D\n",
       "A                      \n",
       "bar -0.230026  1.228484\n",
       "foo  0.521959 -2.620519"
      ]
     },
     "execution_count": 137,
     "metadata": {},
     "output_type": "execute_result"
    }
   ],
   "source": [
    "df.groupby('A').sum()"
   ]
  },
  {
   "cell_type": "code",
   "execution_count": 138,
   "metadata": {
    "collapsed": false
   },
   "outputs": [
    {
     "data": {
      "text/html": [
       "<div>\n",
       "<table border=\"1\" class=\"dataframe\">\n",
       "  <thead>\n",
       "    <tr style=\"text-align: right;\">\n",
       "      <th></th>\n",
       "      <th></th>\n",
       "      <th>C</th>\n",
       "      <th>D</th>\n",
       "    </tr>\n",
       "    <tr>\n",
       "      <th>A</th>\n",
       "      <th>B</th>\n",
       "      <th></th>\n",
       "      <th></th>\n",
       "    </tr>\n",
       "  </thead>\n",
       "  <tbody>\n",
       "    <tr>\n",
       "      <th rowspan=\"3\" valign=\"top\">bar</th>\n",
       "      <th>one</th>\n",
       "      <td>0.333331</td>\n",
       "      <td>0.098309</td>\n",
       "    </tr>\n",
       "    <tr>\n",
       "      <th>three</th>\n",
       "      <td>-0.097422</td>\n",
       "      <td>-0.202876</td>\n",
       "    </tr>\n",
       "    <tr>\n",
       "      <th>two</th>\n",
       "      <td>-0.465934</td>\n",
       "      <td>1.333051</td>\n",
       "    </tr>\n",
       "    <tr>\n",
       "      <th rowspan=\"3\" valign=\"top\">foo</th>\n",
       "      <th>one</th>\n",
       "      <td>-0.370174</td>\n",
       "      <td>-0.849827</td>\n",
       "    </tr>\n",
       "    <tr>\n",
       "      <th>three</th>\n",
       "      <td>1.222011</td>\n",
       "      <td>0.304097</td>\n",
       "    </tr>\n",
       "    <tr>\n",
       "      <th>two</th>\n",
       "      <td>-0.329878</td>\n",
       "      <td>-2.074790</td>\n",
       "    </tr>\n",
       "  </tbody>\n",
       "</table>\n",
       "</div>"
      ],
      "text/plain": [
       "                  C         D\n",
       "A   B                        \n",
       "bar one    0.333331  0.098309\n",
       "    three -0.097422 -0.202876\n",
       "    two   -0.465934  1.333051\n",
       "foo one   -0.370174 -0.849827\n",
       "    three  1.222011  0.304097\n",
       "    two   -0.329878 -2.074790"
      ]
     },
     "execution_count": 138,
     "metadata": {},
     "output_type": "execute_result"
    }
   ],
   "source": [
    "df.groupby(['A','B']).sum()"
   ]
  },
  {
   "cell_type": "markdown",
   "metadata": {},
   "source": [
    "### 1.1.8 변형\n",
    "\n",
    "#### 1.1.8.1 스택"
   ]
  },
  {
   "cell_type": "code",
   "execution_count": 139,
   "metadata": {
    "collapsed": true
   },
   "outputs": [],
   "source": [
    "tuples = list(zip(*[['bar', 'bar', 'baz', 'baz',\n",
    "                     'foo', 'foo', 'qux', 'qux'],\n",
    "                    ['one', 'two', 'one', 'two',\n",
    "                     'one', 'two', 'one', 'two']]))"
   ]
  },
  {
   "cell_type": "code",
   "execution_count": 140,
   "metadata": {
    "collapsed": false
   },
   "outputs": [
    {
     "data": {
      "text/plain": [
       "[('bar', 'one'),\n",
       " ('bar', 'two'),\n",
       " ('baz', 'one'),\n",
       " ('baz', 'two'),\n",
       " ('foo', 'one'),\n",
       " ('foo', 'two'),\n",
       " ('qux', 'one'),\n",
       " ('qux', 'two')]"
      ]
     },
     "execution_count": 140,
     "metadata": {},
     "output_type": "execute_result"
    }
   ],
   "source": [
    "tuples"
   ]
  },
  {
   "cell_type": "code",
   "execution_count": 141,
   "metadata": {
    "collapsed": true
   },
   "outputs": [],
   "source": [
    "index = pd.MultiIndex.from_tuples(tuples, names=['first', 'second'])"
   ]
  },
  {
   "cell_type": "code",
   "execution_count": 142,
   "metadata": {
    "collapsed": false
   },
   "outputs": [
    {
     "data": {
      "text/plain": [
       "MultiIndex(levels=[['bar', 'baz', 'foo', 'qux'], ['one', 'two']],\n",
       "           labels=[[0, 0, 1, 1, 2, 2, 3, 3], [0, 1, 0, 1, 0, 1, 0, 1]],\n",
       "           names=['first', 'second'])"
      ]
     },
     "execution_count": 142,
     "metadata": {},
     "output_type": "execute_result"
    }
   ],
   "source": [
    "index"
   ]
  },
  {
   "cell_type": "code",
   "execution_count": 143,
   "metadata": {
    "collapsed": true
   },
   "outputs": [],
   "source": [
    "df = pd.DataFrame(np.random.randn(8, 2), index=index, columns=['A', 'B'])"
   ]
  },
  {
   "cell_type": "code",
   "execution_count": 144,
   "metadata": {
    "collapsed": true
   },
   "outputs": [],
   "source": [
    "df2 = df[:4]"
   ]
  },
  {
   "cell_type": "code",
   "execution_count": 145,
   "metadata": {
    "collapsed": false
   },
   "outputs": [
    {
     "data": {
      "text/html": [
       "<div>\n",
       "<table border=\"1\" class=\"dataframe\">\n",
       "  <thead>\n",
       "    <tr style=\"text-align: right;\">\n",
       "      <th></th>\n",
       "      <th></th>\n",
       "      <th>A</th>\n",
       "      <th>B</th>\n",
       "    </tr>\n",
       "    <tr>\n",
       "      <th>first</th>\n",
       "      <th>second</th>\n",
       "      <th></th>\n",
       "      <th></th>\n",
       "    </tr>\n",
       "  </thead>\n",
       "  <tbody>\n",
       "    <tr>\n",
       "      <th rowspan=\"2\" valign=\"top\">bar</th>\n",
       "      <th>one</th>\n",
       "      <td>0.645163</td>\n",
       "      <td>1.405926</td>\n",
       "    </tr>\n",
       "    <tr>\n",
       "      <th>two</th>\n",
       "      <td>-2.124382</td>\n",
       "      <td>0.794372</td>\n",
       "    </tr>\n",
       "    <tr>\n",
       "      <th rowspan=\"2\" valign=\"top\">baz</th>\n",
       "      <th>one</th>\n",
       "      <td>-0.629274</td>\n",
       "      <td>-0.305541</td>\n",
       "    </tr>\n",
       "    <tr>\n",
       "      <th>two</th>\n",
       "      <td>-1.112021</td>\n",
       "      <td>-1.304673</td>\n",
       "    </tr>\n",
       "  </tbody>\n",
       "</table>\n",
       "</div>"
      ],
      "text/plain": [
       "                     A         B\n",
       "first second                    \n",
       "bar   one     0.645163  1.405926\n",
       "      two    -2.124382  0.794372\n",
       "baz   one    -0.629274 -0.305541\n",
       "      two    -1.112021 -1.304673"
      ]
     },
     "execution_count": 145,
     "metadata": {},
     "output_type": "execute_result"
    }
   ],
   "source": [
    "df2"
   ]
  },
  {
   "cell_type": "code",
   "execution_count": 146,
   "metadata": {
    "collapsed": true
   },
   "outputs": [],
   "source": [
    "#colume 을 index화 \n",
    "stacked = df2.stack()"
   ]
  },
  {
   "cell_type": "code",
   "execution_count": 147,
   "metadata": {
    "collapsed": false
   },
   "outputs": [
    {
     "data": {
      "text/plain": [
       "first  second   \n",
       "bar    one     A    0.645163\n",
       "               B    1.405926\n",
       "       two     A   -2.124382\n",
       "               B    0.794372\n",
       "baz    one     A   -0.629274\n",
       "               B   -0.305541\n",
       "       two     A   -1.112021\n",
       "               B   -1.304673\n",
       "dtype: float64"
      ]
     },
     "execution_count": 147,
     "metadata": {},
     "output_type": "execute_result"
    }
   ],
   "source": [
    "stacked"
   ]
  },
  {
   "cell_type": "code",
   "execution_count": 148,
   "metadata": {
    "collapsed": false
   },
   "outputs": [
    {
     "data": {
      "text/plain": [
       "pandas.core.series.Series"
      ]
     },
     "execution_count": 148,
     "metadata": {},
     "output_type": "execute_result"
    }
   ],
   "source": [
    "type(stacked)"
   ]
  },
  {
   "cell_type": "code",
   "execution_count": 149,
   "metadata": {
    "collapsed": false,
    "deletable": true,
    "editable": true
   },
   "outputs": [
    {
     "data": {
      "text/plain": [
       "MultiIndex(levels=[['bar', 'baz', 'foo', 'qux'], ['one', 'two'], ['A', 'B']],\n",
       "           labels=[[0, 0, 0, 0, 1, 1, 1, 1], [0, 0, 1, 1, 0, 0, 1, 1], [0, 1, 0, 1, 0, 1, 0, 1]],\n",
       "           names=['first', 'second', None])"
      ]
     },
     "execution_count": 149,
     "metadata": {},
     "output_type": "execute_result"
    }
   ],
   "source": [
    "stacked.index"
   ]
  },
  {
   "cell_type": "code",
   "execution_count": 150,
   "metadata": {
    "collapsed": false,
    "deletable": true,
    "editable": true
   },
   "outputs": [
    {
     "data": {
      "text/plain": [
       "pandas.core.frame.DataFrame"
      ]
     },
     "execution_count": 150,
     "metadata": {},
     "output_type": "execute_result"
    }
   ],
   "source": [
    "type(stacked.unstack())"
   ]
  },
  {
   "cell_type": "code",
   "execution_count": 151,
   "metadata": {
    "collapsed": false
   },
   "outputs": [
    {
     "data": {
      "text/plain": [
       "first  second   \n",
       "bar    one     A    0.645163\n",
       "               B    1.405926\n",
       "       two     A   -2.124382\n",
       "               B    0.794372\n",
       "baz    one     A   -0.629274\n",
       "               B   -0.305541\n",
       "       two     A   -1.112021\n",
       "               B   -1.304673\n",
       "dtype: float64"
      ]
     },
     "execution_count": 151,
     "metadata": {},
     "output_type": "execute_result"
    }
   ],
   "source": [
    "stacked"
   ]
  },
  {
   "cell_type": "code",
   "execution_count": 152,
   "metadata": {
    "collapsed": false
   },
   "outputs": [
    {
     "data": {
      "text/html": [
       "<div>\n",
       "<table border=\"1\" class=\"dataframe\">\n",
       "  <thead>\n",
       "    <tr style=\"text-align: right;\">\n",
       "      <th></th>\n",
       "      <th></th>\n",
       "      <th>A</th>\n",
       "      <th>B</th>\n",
       "    </tr>\n",
       "    <tr>\n",
       "      <th>first</th>\n",
       "      <th>second</th>\n",
       "      <th></th>\n",
       "      <th></th>\n",
       "    </tr>\n",
       "  </thead>\n",
       "  <tbody>\n",
       "    <tr>\n",
       "      <th rowspan=\"2\" valign=\"top\">bar</th>\n",
       "      <th>one</th>\n",
       "      <td>0.645163</td>\n",
       "      <td>1.405926</td>\n",
       "    </tr>\n",
       "    <tr>\n",
       "      <th>two</th>\n",
       "      <td>-2.124382</td>\n",
       "      <td>0.794372</td>\n",
       "    </tr>\n",
       "    <tr>\n",
       "      <th rowspan=\"2\" valign=\"top\">baz</th>\n",
       "      <th>one</th>\n",
       "      <td>-0.629274</td>\n",
       "      <td>-0.305541</td>\n",
       "    </tr>\n",
       "    <tr>\n",
       "      <th>two</th>\n",
       "      <td>-1.112021</td>\n",
       "      <td>-1.304673</td>\n",
       "    </tr>\n",
       "  </tbody>\n",
       "</table>\n",
       "</div>"
      ],
      "text/plain": [
       "                     A         B\n",
       "first second                    \n",
       "bar   one     0.645163  1.405926\n",
       "      two    -2.124382  0.794372\n",
       "baz   one    -0.629274 -0.305541\n",
       "      two    -1.112021 -1.304673"
      ]
     },
     "execution_count": 152,
     "metadata": {},
     "output_type": "execute_result"
    }
   ],
   "source": [
    "stacked.unstack()"
   ]
  },
  {
   "cell_type": "code",
   "execution_count": 153,
   "metadata": {
    "collapsed": false,
    "deletable": true,
    "editable": true
   },
   "outputs": [
    {
     "data": {
      "text/html": [
       "<div>\n",
       "<table border=\"1\" class=\"dataframe\">\n",
       "  <thead>\n",
       "    <tr style=\"text-align: right;\">\n",
       "      <th></th>\n",
       "      <th>second</th>\n",
       "      <th>one</th>\n",
       "      <th>two</th>\n",
       "    </tr>\n",
       "    <tr>\n",
       "      <th>first</th>\n",
       "      <th></th>\n",
       "      <th></th>\n",
       "      <th></th>\n",
       "    </tr>\n",
       "  </thead>\n",
       "  <tbody>\n",
       "    <tr>\n",
       "      <th rowspan=\"2\" valign=\"top\">bar</th>\n",
       "      <th>A</th>\n",
       "      <td>0.645163</td>\n",
       "      <td>-2.124382</td>\n",
       "    </tr>\n",
       "    <tr>\n",
       "      <th>B</th>\n",
       "      <td>1.405926</td>\n",
       "      <td>0.794372</td>\n",
       "    </tr>\n",
       "    <tr>\n",
       "      <th rowspan=\"2\" valign=\"top\">baz</th>\n",
       "      <th>A</th>\n",
       "      <td>-0.629274</td>\n",
       "      <td>-1.112021</td>\n",
       "    </tr>\n",
       "    <tr>\n",
       "      <th>B</th>\n",
       "      <td>-0.305541</td>\n",
       "      <td>-1.304673</td>\n",
       "    </tr>\n",
       "  </tbody>\n",
       "</table>\n",
       "</div>"
      ],
      "text/plain": [
       "second        one       two\n",
       "first                      \n",
       "bar   A  0.645163 -2.124382\n",
       "      B  1.405926  0.794372\n",
       "baz   A -0.629274 -1.112021\n",
       "      B -0.305541 -1.304673"
      ]
     },
     "execution_count": 153,
     "metadata": {},
     "output_type": "execute_result"
    }
   ],
   "source": [
    "stacked.unstack(1)"
   ]
  },
  {
   "cell_type": "code",
   "execution_count": 154,
   "metadata": {
    "collapsed": false,
    "deletable": true,
    "editable": true
   },
   "outputs": [
    {
     "data": {
      "text/html": [
       "<div>\n",
       "<table border=\"1\" class=\"dataframe\">\n",
       "  <thead>\n",
       "    <tr style=\"text-align: right;\">\n",
       "      <th></th>\n",
       "      <th></th>\n",
       "      <th>A</th>\n",
       "      <th>B</th>\n",
       "    </tr>\n",
       "    <tr>\n",
       "      <th>first</th>\n",
       "      <th>second</th>\n",
       "      <th></th>\n",
       "      <th></th>\n",
       "    </tr>\n",
       "  </thead>\n",
       "  <tbody>\n",
       "    <tr>\n",
       "      <th rowspan=\"2\" valign=\"top\">bar</th>\n",
       "      <th>one</th>\n",
       "      <td>0.645163</td>\n",
       "      <td>1.405926</td>\n",
       "    </tr>\n",
       "    <tr>\n",
       "      <th>two</th>\n",
       "      <td>-2.124382</td>\n",
       "      <td>0.794372</td>\n",
       "    </tr>\n",
       "    <tr>\n",
       "      <th rowspan=\"2\" valign=\"top\">baz</th>\n",
       "      <th>one</th>\n",
       "      <td>-0.629274</td>\n",
       "      <td>-0.305541</td>\n",
       "    </tr>\n",
       "    <tr>\n",
       "      <th>two</th>\n",
       "      <td>-1.112021</td>\n",
       "      <td>-1.304673</td>\n",
       "    </tr>\n",
       "  </tbody>\n",
       "</table>\n",
       "</div>"
      ],
      "text/plain": [
       "                     A         B\n",
       "first second                    \n",
       "bar   one     0.645163  1.405926\n",
       "      two    -2.124382  0.794372\n",
       "baz   one    -0.629274 -0.305541\n",
       "      two    -1.112021 -1.304673"
      ]
     },
     "execution_count": 154,
     "metadata": {},
     "output_type": "execute_result"
    }
   ],
   "source": [
    "stacked.unstack(2)"
   ]
  },
  {
   "cell_type": "markdown",
   "metadata": {},
   "source": [
    "#### 1.1.8.2 피벗테이블"
   ]
  },
  {
   "cell_type": "code",
   "execution_count": 155,
   "metadata": {
    "collapsed": true
   },
   "outputs": [],
   "source": [
    "df = pd.DataFrame({'A' : ['one', 'one', 'two', 'three'] * 3,\n",
    "                   'B' : ['A', 'B', 'C'] * 4,\n",
    "                   'C' : ['foo', 'foo', 'foo', 'bar', 'bar', 'bar'] * 2,\n",
    "                   'D' : np.random.randn(12),\n",
    "                   'E' : np.random.randn(12)})"
   ]
  },
  {
   "cell_type": "code",
   "execution_count": 156,
   "metadata": {
    "collapsed": false
   },
   "outputs": [
    {
     "data": {
      "text/html": [
       "<div>\n",
       "<table border=\"1\" class=\"dataframe\">\n",
       "  <thead>\n",
       "    <tr style=\"text-align: right;\">\n",
       "      <th></th>\n",
       "      <th>A</th>\n",
       "      <th>B</th>\n",
       "      <th>C</th>\n",
       "      <th>D</th>\n",
       "      <th>E</th>\n",
       "    </tr>\n",
       "  </thead>\n",
       "  <tbody>\n",
       "    <tr>\n",
       "      <th>0</th>\n",
       "      <td>one</td>\n",
       "      <td>A</td>\n",
       "      <td>foo</td>\n",
       "      <td>2.163510</td>\n",
       "      <td>-0.087261</td>\n",
       "    </tr>\n",
       "    <tr>\n",
       "      <th>1</th>\n",
       "      <td>one</td>\n",
       "      <td>B</td>\n",
       "      <td>foo</td>\n",
       "      <td>1.401198</td>\n",
       "      <td>1.274182</td>\n",
       "    </tr>\n",
       "    <tr>\n",
       "      <th>2</th>\n",
       "      <td>two</td>\n",
       "      <td>C</td>\n",
       "      <td>foo</td>\n",
       "      <td>0.745375</td>\n",
       "      <td>0.231181</td>\n",
       "    </tr>\n",
       "    <tr>\n",
       "      <th>3</th>\n",
       "      <td>three</td>\n",
       "      <td>A</td>\n",
       "      <td>bar</td>\n",
       "      <td>0.250735</td>\n",
       "      <td>-1.039610</td>\n",
       "    </tr>\n",
       "    <tr>\n",
       "      <th>4</th>\n",
       "      <td>one</td>\n",
       "      <td>B</td>\n",
       "      <td>bar</td>\n",
       "      <td>-0.360911</td>\n",
       "      <td>0.082829</td>\n",
       "    </tr>\n",
       "    <tr>\n",
       "      <th>5</th>\n",
       "      <td>one</td>\n",
       "      <td>C</td>\n",
       "      <td>bar</td>\n",
       "      <td>0.186144</td>\n",
       "      <td>3.043790</td>\n",
       "    </tr>\n",
       "    <tr>\n",
       "      <th>6</th>\n",
       "      <td>two</td>\n",
       "      <td>A</td>\n",
       "      <td>foo</td>\n",
       "      <td>-1.463334</td>\n",
       "      <td>1.004466</td>\n",
       "    </tr>\n",
       "    <tr>\n",
       "      <th>7</th>\n",
       "      <td>three</td>\n",
       "      <td>B</td>\n",
       "      <td>foo</td>\n",
       "      <td>-0.746738</td>\n",
       "      <td>0.705609</td>\n",
       "    </tr>\n",
       "    <tr>\n",
       "      <th>8</th>\n",
       "      <td>one</td>\n",
       "      <td>C</td>\n",
       "      <td>foo</td>\n",
       "      <td>0.845246</td>\n",
       "      <td>1.487897</td>\n",
       "    </tr>\n",
       "    <tr>\n",
       "      <th>9</th>\n",
       "      <td>one</td>\n",
       "      <td>A</td>\n",
       "      <td>bar</td>\n",
       "      <td>1.303617</td>\n",
       "      <td>0.175048</td>\n",
       "    </tr>\n",
       "    <tr>\n",
       "      <th>10</th>\n",
       "      <td>two</td>\n",
       "      <td>B</td>\n",
       "      <td>bar</td>\n",
       "      <td>-1.483091</td>\n",
       "      <td>0.991305</td>\n",
       "    </tr>\n",
       "    <tr>\n",
       "      <th>11</th>\n",
       "      <td>three</td>\n",
       "      <td>C</td>\n",
       "      <td>bar</td>\n",
       "      <td>0.876890</td>\n",
       "      <td>0.672098</td>\n",
       "    </tr>\n",
       "  </tbody>\n",
       "</table>\n",
       "</div>"
      ],
      "text/plain": [
       "        A  B    C         D         E\n",
       "0     one  A  foo  2.163510 -0.087261\n",
       "1     one  B  foo  1.401198  1.274182\n",
       "2     two  C  foo  0.745375  0.231181\n",
       "3   three  A  bar  0.250735 -1.039610\n",
       "4     one  B  bar -0.360911  0.082829\n",
       "5     one  C  bar  0.186144  3.043790\n",
       "6     two  A  foo -1.463334  1.004466\n",
       "7   three  B  foo -0.746738  0.705609\n",
       "8     one  C  foo  0.845246  1.487897\n",
       "9     one  A  bar  1.303617  0.175048\n",
       "10    two  B  bar -1.483091  0.991305\n",
       "11  three  C  bar  0.876890  0.672098"
      ]
     },
     "execution_count": 156,
     "metadata": {},
     "output_type": "execute_result"
    }
   ],
   "source": [
    "df"
   ]
  },
  {
   "cell_type": "code",
   "execution_count": 157,
   "metadata": {
    "collapsed": false
   },
   "outputs": [
    {
     "data": {
      "text/html": [
       "<div>\n",
       "<table border=\"1\" class=\"dataframe\">\n",
       "  <thead>\n",
       "    <tr style=\"text-align: right;\">\n",
       "      <th></th>\n",
       "      <th>C</th>\n",
       "      <th>bar</th>\n",
       "      <th>foo</th>\n",
       "    </tr>\n",
       "    <tr>\n",
       "      <th>A</th>\n",
       "      <th>B</th>\n",
       "      <th></th>\n",
       "      <th></th>\n",
       "    </tr>\n",
       "  </thead>\n",
       "  <tbody>\n",
       "    <tr>\n",
       "      <th rowspan=\"3\" valign=\"top\">one</th>\n",
       "      <th>A</th>\n",
       "      <td>1.303617</td>\n",
       "      <td>2.163510</td>\n",
       "    </tr>\n",
       "    <tr>\n",
       "      <th>B</th>\n",
       "      <td>-0.360911</td>\n",
       "      <td>1.401198</td>\n",
       "    </tr>\n",
       "    <tr>\n",
       "      <th>C</th>\n",
       "      <td>0.186144</td>\n",
       "      <td>0.845246</td>\n",
       "    </tr>\n",
       "    <tr>\n",
       "      <th rowspan=\"3\" valign=\"top\">three</th>\n",
       "      <th>A</th>\n",
       "      <td>0.250735</td>\n",
       "      <td>NaN</td>\n",
       "    </tr>\n",
       "    <tr>\n",
       "      <th>B</th>\n",
       "      <td>NaN</td>\n",
       "      <td>-0.746738</td>\n",
       "    </tr>\n",
       "    <tr>\n",
       "      <th>C</th>\n",
       "      <td>0.876890</td>\n",
       "      <td>NaN</td>\n",
       "    </tr>\n",
       "    <tr>\n",
       "      <th rowspan=\"3\" valign=\"top\">two</th>\n",
       "      <th>A</th>\n",
       "      <td>NaN</td>\n",
       "      <td>-1.463334</td>\n",
       "    </tr>\n",
       "    <tr>\n",
       "      <th>B</th>\n",
       "      <td>-1.483091</td>\n",
       "      <td>NaN</td>\n",
       "    </tr>\n",
       "    <tr>\n",
       "      <th>C</th>\n",
       "      <td>NaN</td>\n",
       "      <td>0.745375</td>\n",
       "    </tr>\n",
       "  </tbody>\n",
       "</table>\n",
       "</div>"
      ],
      "text/plain": [
       "C             bar       foo\n",
       "A     B                    \n",
       "one   A  1.303617  2.163510\n",
       "      B -0.360911  1.401198\n",
       "      C  0.186144  0.845246\n",
       "three A  0.250735       NaN\n",
       "      B       NaN -0.746738\n",
       "      C  0.876890       NaN\n",
       "two   A       NaN -1.463334\n",
       "      B -1.483091       NaN\n",
       "      C       NaN  0.745375"
      ]
     },
     "execution_count": 157,
     "metadata": {},
     "output_type": "execute_result"
    }
   ],
   "source": [
    "pd.pivot_table(df, values='D', index=['A','B'], columns=['C'])"
   ]
  },
  {
   "cell_type": "markdown",
   "metadata": {},
   "source": [
    "### 1.1.9 시계열"
   ]
  },
  {
   "cell_type": "code",
   "execution_count": 158,
   "metadata": {
    "collapsed": true
   },
   "outputs": [],
   "source": [
    "rng = pd.date_range('1/1/2012', periods=100, freq='S')"
   ]
  },
  {
   "cell_type": "code",
   "execution_count": 159,
   "metadata": {
    "collapsed": true
   },
   "outputs": [],
   "source": [
    "ts = pd.Series(np.random.randint(0,500,len(rng)), index=rng)"
   ]
  },
  {
   "cell_type": "code",
   "execution_count": 160,
   "metadata": {
    "collapsed": false
   },
   "outputs": [
    {
     "data": {
      "text/plain": [
       "2012-01-01    23786\n",
       "Freq: 5T, dtype: int32"
      ]
     },
     "execution_count": 160,
     "metadata": {},
     "output_type": "execute_result"
    }
   ],
   "source": [
    "ts.resample('5Min').sum()"
   ]
  },
  {
   "cell_type": "code",
   "execution_count": 161,
   "metadata": {
    "collapsed": true
   },
   "outputs": [],
   "source": [
    "rng = pd.date_range('3/6/2012 00:00', periods=5, freq='D')"
   ]
  },
  {
   "cell_type": "code",
   "execution_count": 162,
   "metadata": {
    "collapsed": true
   },
   "outputs": [],
   "source": [
    "ts = pd.Series(np.random.randn(len(rng)), rng)"
   ]
  },
  {
   "cell_type": "code",
   "execution_count": 163,
   "metadata": {
    "collapsed": false,
    "scrolled": true
   },
   "outputs": [
    {
     "data": {
      "text/plain": [
       "DatetimeIndex(['2012-03-06', '2012-03-07', '2012-03-08', '2012-03-09',\n",
       "               '2012-03-10'],\n",
       "              dtype='datetime64[ns]', freq='D')"
      ]
     },
     "execution_count": 163,
     "metadata": {},
     "output_type": "execute_result"
    }
   ],
   "source": [
    "rng"
   ]
  },
  {
   "cell_type": "code",
   "execution_count": 164,
   "metadata": {
    "collapsed": false
   },
   "outputs": [
    {
     "data": {
      "text/plain": [
       "2012-03-06   -0.093021\n",
       "2012-03-07    0.854329\n",
       "2012-03-08    1.441791\n",
       "2012-03-09   -0.010130\n",
       "2012-03-10   -0.939063\n",
       "Freq: D, dtype: float64"
      ]
     },
     "execution_count": 164,
     "metadata": {},
     "output_type": "execute_result"
    }
   ],
   "source": [
    "ts"
   ]
  },
  {
   "cell_type": "code",
   "execution_count": 165,
   "metadata": {
    "collapsed": true
   },
   "outputs": [],
   "source": [
    "ts_utc = ts.tz_localize('UTC')"
   ]
  },
  {
   "cell_type": "code",
   "execution_count": 166,
   "metadata": {
    "collapsed": false
   },
   "outputs": [
    {
     "data": {
      "text/plain": [
       "2012-03-06 00:00:00+00:00   -0.093021\n",
       "2012-03-07 00:00:00+00:00    0.854329\n",
       "2012-03-08 00:00:00+00:00    1.441791\n",
       "2012-03-09 00:00:00+00:00   -0.010130\n",
       "2012-03-10 00:00:00+00:00   -0.939063\n",
       "Freq: D, dtype: float64"
      ]
     },
     "execution_count": 166,
     "metadata": {},
     "output_type": "execute_result"
    }
   ],
   "source": [
    "ts_utc"
   ]
  },
  {
   "cell_type": "code",
   "execution_count": 167,
   "metadata": {
    "collapsed": false
   },
   "outputs": [
    {
     "data": {
      "text/plain": [
       "2012-03-05 19:00:00-05:00   -0.093021\n",
       "2012-03-06 19:00:00-05:00    0.854329\n",
       "2012-03-07 19:00:00-05:00    1.441791\n",
       "2012-03-08 19:00:00-05:00   -0.010130\n",
       "2012-03-09 19:00:00-05:00   -0.939063\n",
       "Freq: D, dtype: float64"
      ]
     },
     "execution_count": 167,
     "metadata": {},
     "output_type": "execute_result"
    }
   ],
   "source": [
    "ts_utc.tz_convert('US/Eastern')"
   ]
  },
  {
   "cell_type": "code",
   "execution_count": 168,
   "metadata": {
    "collapsed": false
   },
   "outputs": [],
   "source": [
    "rng = pd.date_range('1/1/2012', periods=5, freq = 'M')"
   ]
  },
  {
   "cell_type": "code",
   "execution_count": 169,
   "metadata": {
    "collapsed": true
   },
   "outputs": [],
   "source": [
    "ts = pd.Series(np.random.randn(len(rng)), index=rng)"
   ]
  },
  {
   "cell_type": "code",
   "execution_count": 170,
   "metadata": {
    "collapsed": false
   },
   "outputs": [
    {
     "data": {
      "text/plain": [
       "2012-01-31    1.184489\n",
       "2012-02-29   -0.805105\n",
       "2012-03-31   -0.689473\n",
       "2012-04-30    0.164486\n",
       "2012-05-31   -0.870816\n",
       "Freq: M, dtype: float64"
      ]
     },
     "execution_count": 170,
     "metadata": {},
     "output_type": "execute_result"
    }
   ],
   "source": [
    "ts"
   ]
  },
  {
   "cell_type": "code",
   "execution_count": 171,
   "metadata": {
    "collapsed": true
   },
   "outputs": [],
   "source": [
    "ps = ts.to_period()"
   ]
  },
  {
   "cell_type": "code",
   "execution_count": 172,
   "metadata": {
    "collapsed": false
   },
   "outputs": [
    {
     "data": {
      "text/plain": [
       "2012-01    1.184489\n",
       "2012-02   -0.805105\n",
       "2012-03   -0.689473\n",
       "2012-04    0.164486\n",
       "2012-05   -0.870816\n",
       "Freq: M, dtype: float64"
      ]
     },
     "execution_count": 172,
     "metadata": {},
     "output_type": "execute_result"
    }
   ],
   "source": [
    "ps"
   ]
  },
  {
   "cell_type": "code",
   "execution_count": 173,
   "metadata": {
    "collapsed": false
   },
   "outputs": [
    {
     "data": {
      "text/plain": [
       "2012-01-01    1.184489\n",
       "2012-02-01   -0.805105\n",
       "2012-03-01   -0.689473\n",
       "2012-04-01    0.164486\n",
       "2012-05-01   -0.870816\n",
       "Freq: MS, dtype: float64"
      ]
     },
     "execution_count": 173,
     "metadata": {},
     "output_type": "execute_result"
    }
   ],
   "source": [
    "ps.to_timestamp()"
   ]
  },
  {
   "cell_type": "code",
   "execution_count": 174,
   "metadata": {
    "collapsed": true
   },
   "outputs": [],
   "source": [
    " prng = pd.period_range('1990Q1', '2000Q4', freq='Q-NOV')"
   ]
  },
  {
   "cell_type": "code",
   "execution_count": 175,
   "metadata": {
    "collapsed": true
   },
   "outputs": [],
   "source": [
    "ts = pd.Series(np.random.randn(len(prng)), prng)"
   ]
  },
  {
   "cell_type": "code",
   "execution_count": 176,
   "metadata": {
    "collapsed": true
   },
   "outputs": [],
   "source": [
    "ts.index = (prng.asfreq('M', 'e') + 1).asfreq('H', 's') + 9"
   ]
  },
  {
   "cell_type": "code",
   "execution_count": 177,
   "metadata": {
    "collapsed": false
   },
   "outputs": [
    {
     "data": {
      "text/plain": [
       "1990-03-01 09:00   -0.398261\n",
       "1990-06-01 09:00    0.108307\n",
       "1990-09-01 09:00   -1.201678\n",
       "1990-12-01 09:00   -0.136732\n",
       "1991-03-01 09:00    1.151489\n",
       "Freq: H, dtype: float64"
      ]
     },
     "execution_count": 177,
     "metadata": {},
     "output_type": "execute_result"
    }
   ],
   "source": [
    "ts.head()"
   ]
  },
  {
   "cell_type": "markdown",
   "metadata": {},
   "source": [
    "### 1.1.10 분류"
   ]
  },
  {
   "cell_type": "code",
   "execution_count": 178,
   "metadata": {
    "collapsed": true
   },
   "outputs": [],
   "source": [
    "df = pd.DataFrame({\"id\":[1,2,3,4,5,6], \"raw_grade\":['a', 'b', 'b', 'a', 'a', 'e']})"
   ]
  },
  {
   "cell_type": "code",
   "execution_count": 179,
   "metadata": {
    "collapsed": true
   },
   "outputs": [],
   "source": [
    "df[\"grade\"] = df[\"raw_grade\"].astype(\"category\")"
   ]
  },
  {
   "cell_type": "code",
   "execution_count": 180,
   "metadata": {
    "collapsed": false,
    "scrolled": true
   },
   "outputs": [
    {
     "data": {
      "text/plain": [
       "0    a\n",
       "1    b\n",
       "2    b\n",
       "3    a\n",
       "4    a\n",
       "5    e\n",
       "Name: grade, dtype: category\n",
       "Categories (3, object): [a, b, e]"
      ]
     },
     "execution_count": 180,
     "metadata": {},
     "output_type": "execute_result"
    }
   ],
   "source": [
    "df[\"grade\"]"
   ]
  },
  {
   "cell_type": "code",
   "execution_count": 181,
   "metadata": {
    "collapsed": false,
    "scrolled": false
   },
   "outputs": [],
   "source": [
    "df[\"grade\"].cat.categories = [\"very good\", \"good\", \"very bad\"]"
   ]
  },
  {
   "cell_type": "code",
   "execution_count": 182,
   "metadata": {
    "collapsed": false
   },
   "outputs": [
    {
     "data": {
      "text/plain": [
       "0    very good\n",
       "1         good\n",
       "2         good\n",
       "3    very good\n",
       "4    very good\n",
       "5     very bad\n",
       "Name: grade, dtype: category\n",
       "Categories (3, object): [very good, good, very bad]"
      ]
     },
     "execution_count": 182,
     "metadata": {},
     "output_type": "execute_result"
    }
   ],
   "source": [
    "df['grade']"
   ]
  },
  {
   "cell_type": "code",
   "execution_count": 183,
   "metadata": {
    "collapsed": false
   },
   "outputs": [
    {
     "data": {
      "text/html": [
       "<div>\n",
       "<table border=\"1\" class=\"dataframe\">\n",
       "  <thead>\n",
       "    <tr style=\"text-align: right;\">\n",
       "      <th></th>\n",
       "      <th>id</th>\n",
       "      <th>raw_grade</th>\n",
       "      <th>grade</th>\n",
       "    </tr>\n",
       "  </thead>\n",
       "  <tbody>\n",
       "    <tr>\n",
       "      <th>0</th>\n",
       "      <td>1</td>\n",
       "      <td>a</td>\n",
       "      <td>very good</td>\n",
       "    </tr>\n",
       "    <tr>\n",
       "      <th>1</th>\n",
       "      <td>2</td>\n",
       "      <td>b</td>\n",
       "      <td>good</td>\n",
       "    </tr>\n",
       "    <tr>\n",
       "      <th>2</th>\n",
       "      <td>3</td>\n",
       "      <td>b</td>\n",
       "      <td>good</td>\n",
       "    </tr>\n",
       "    <tr>\n",
       "      <th>3</th>\n",
       "      <td>4</td>\n",
       "      <td>a</td>\n",
       "      <td>very good</td>\n",
       "    </tr>\n",
       "    <tr>\n",
       "      <th>4</th>\n",
       "      <td>5</td>\n",
       "      <td>a</td>\n",
       "      <td>very good</td>\n",
       "    </tr>\n",
       "    <tr>\n",
       "      <th>5</th>\n",
       "      <td>6</td>\n",
       "      <td>e</td>\n",
       "      <td>very bad</td>\n",
       "    </tr>\n",
       "  </tbody>\n",
       "</table>\n",
       "</div>"
      ],
      "text/plain": [
       "   id raw_grade      grade\n",
       "0   1         a  very good\n",
       "1   2         b       good\n",
       "2   3         b       good\n",
       "3   4         a  very good\n",
       "4   5         a  very good\n",
       "5   6         e   very bad"
      ]
     },
     "execution_count": 183,
     "metadata": {},
     "output_type": "execute_result"
    }
   ],
   "source": [
    "df"
   ]
  },
  {
   "cell_type": "code",
   "execution_count": 184,
   "metadata": {
    "collapsed": false
   },
   "outputs": [
    {
     "data": {
      "text/plain": [
       "id              int64\n",
       "raw_grade      object\n",
       "grade        category\n",
       "dtype: object"
      ]
     },
     "execution_count": 184,
     "metadata": {},
     "output_type": "execute_result"
    }
   ],
   "source": [
    "df.dtypes"
   ]
  },
  {
   "cell_type": "code",
   "execution_count": 185,
   "metadata": {
    "collapsed": false
   },
   "outputs": [
    {
     "data": {
      "text/html": [
       "<div>\n",
       "<table border=\"1\" class=\"dataframe\">\n",
       "  <thead>\n",
       "    <tr style=\"text-align: right;\">\n",
       "      <th></th>\n",
       "      <th>id</th>\n",
       "      <th>raw_grade</th>\n",
       "      <th>grade</th>\n",
       "    </tr>\n",
       "  </thead>\n",
       "  <tbody>\n",
       "    <tr>\n",
       "      <th>0</th>\n",
       "      <td>1</td>\n",
       "      <td>a</td>\n",
       "      <td>very good</td>\n",
       "    </tr>\n",
       "    <tr>\n",
       "      <th>3</th>\n",
       "      <td>4</td>\n",
       "      <td>a</td>\n",
       "      <td>very good</td>\n",
       "    </tr>\n",
       "    <tr>\n",
       "      <th>4</th>\n",
       "      <td>5</td>\n",
       "      <td>a</td>\n",
       "      <td>very good</td>\n",
       "    </tr>\n",
       "    <tr>\n",
       "      <th>1</th>\n",
       "      <td>2</td>\n",
       "      <td>b</td>\n",
       "      <td>good</td>\n",
       "    </tr>\n",
       "    <tr>\n",
       "      <th>2</th>\n",
       "      <td>3</td>\n",
       "      <td>b</td>\n",
       "      <td>good</td>\n",
       "    </tr>\n",
       "    <tr>\n",
       "      <th>5</th>\n",
       "      <td>6</td>\n",
       "      <td>e</td>\n",
       "      <td>very bad</td>\n",
       "    </tr>\n",
       "  </tbody>\n",
       "</table>\n",
       "</div>"
      ],
      "text/plain": [
       "   id raw_grade      grade\n",
       "0   1         a  very good\n",
       "3   4         a  very good\n",
       "4   5         a  very good\n",
       "1   2         b       good\n",
       "2   3         b       good\n",
       "5   6         e   very bad"
      ]
     },
     "execution_count": 185,
     "metadata": {},
     "output_type": "execute_result"
    }
   ],
   "source": [
    "df.sort_values(by='grade')"
   ]
  },
  {
   "cell_type": "code",
   "execution_count": 186,
   "metadata": {
    "collapsed": false
   },
   "outputs": [
    {
     "data": {
      "text/plain": [
       "grade\n",
       "very good    3\n",
       "good         2\n",
       "very bad     1\n",
       "dtype: int64"
      ]
     },
     "execution_count": 186,
     "metadata": {},
     "output_type": "execute_result"
    }
   ],
   "source": [
    "df.groupby(\"grade\").size()"
   ]
  },
  {
   "cell_type": "code",
   "execution_count": 187,
   "metadata": {
    "collapsed": false
   },
   "outputs": [
    {
     "data": {
      "text/plain": [
       "<pandas.core.groupby.DataFrameGroupBy object at 0x0BB29F90>"
      ]
     },
     "execution_count": 187,
     "metadata": {},
     "output_type": "execute_result"
    }
   ],
   "source": [
    "df.groupby(\"grade\")"
   ]
  },
  {
   "cell_type": "markdown",
   "metadata": {},
   "source": [
    "### 1.1.11 그래프"
   ]
  },
  {
   "cell_type": "code",
   "execution_count": 188,
   "metadata": {
    "collapsed": true
   },
   "outputs": [],
   "source": [
    "import matplotlib.pyplot as plt"
   ]
  },
  {
   "cell_type": "code",
   "execution_count": 189,
   "metadata": {
    "collapsed": true
   },
   "outputs": [],
   "source": [
    "ts = pd.Series(np.random.randn(1000), index=pd.date_range('1/1/2000', periods=1000))"
   ]
  },
  {
   "cell_type": "code",
   "execution_count": 190,
   "metadata": {
    "collapsed": false
   },
   "outputs": [],
   "source": [
    "ts = ts.cumsum()"
   ]
  },
  {
   "cell_type": "code",
   "execution_count": 191,
   "metadata": {
    "collapsed": false
   },
   "outputs": [
    {
     "data": {
      "text/plain": [
       "<matplotlib.axes._subplots.AxesSubplot at 0xbb29290>"
      ]
     },
     "execution_count": 191,
     "metadata": {},
     "output_type": "execute_result"
    }
   ],
   "source": [
    "ts.plot()"
   ]
  },
  {
   "cell_type": "code",
   "execution_count": 192,
   "metadata": {
    "collapsed": false
   },
   "outputs": [
    {
     "data": {
      "text/plain": [
       "<matplotlib.figure.Figure at 0xbb9aed0>"
      ]
     },
     "execution_count": 192,
     "metadata": {},
     "output_type": "execute_result"
    }
   ],
   "source": [
    "plt.figure()"
   ]
  },
  {
   "cell_type": "code",
   "execution_count": 193,
   "metadata": {
    "collapsed": false,
    "editable": true,
    "scrolled": false
   },
   "outputs": [
    {
     "data": {
      "image/png": "[encoded data removed]",
      "text/plain": [
       "<matplotlib.figure.Figure at 0x6f452b0>"
      ]
     },
     "metadata": {},
     "output_type": "display_data"
    },
    {
     "data": {
      "text/plain": [
       "<matplotlib.figure.Figure at 0xbb9aed0>"
      ]
     },
     "metadata": {},
     "output_type": "display_data"
    }
   ],
   "source": [
    "plt.show()"
   ]
  },
  {
   "cell_type": "code",
   "execution_count": 194,
   "metadata": {
    "collapsed": false
   },
   "outputs": [],
   "source": [
    "df = pd.DataFrame(np.random.randn(1000,4), index=ts.index, columns=['A', 'B', 'C', 'D'])"
   ]
  },
  {
   "cell_type": "code",
   "execution_count": 195,
   "metadata": {
    "collapsed": true
   },
   "outputs": [],
   "source": [
    "df = df.cumsum()"
   ]
  },
  {
   "cell_type": "code",
   "execution_count": 196,
   "metadata": {
    "collapsed": false
   },
   "outputs": [
    {
     "data": {
      "text/plain": [
       "<matplotlib.figure.Figure at 0xbc444f0>"
      ]
     },
     "execution_count": 196,
     "metadata": {},
     "output_type": "execute_result"
    }
   ],
   "source": [
    "plt.figure()"
   ]
  },
  {
   "cell_type": "code",
   "execution_count": 197,
   "metadata": {
    "collapsed": false
   },
   "outputs": [
    {
     "data": {
      "text/plain": [
       "<matplotlib.axes._subplots.AxesSubplot at 0xbc37df0>"
      ]
     },
     "execution_count": 197,
     "metadata": {},
     "output_type": "execute_result"
    }
   ],
   "source": [
    "df.plot()"
   ]
  },
  {
   "cell_type": "code",
   "execution_count": 198,
   "metadata": {
    "collapsed": false
   },
   "outputs": [
    {
     "data": {
      "text/plain": [
       "<matplotlib.legend.Legend at 0xbc26f90>"
      ]
     },
     "execution_count": 198,
     "metadata": {},
     "output_type": "execute_result"
    }
   ],
   "source": [
    "plt.legend(loc='best')"
   ]
  },
  {
   "cell_type": "code",
   "execution_count": 199,
   "metadata": {
    "collapsed": false,
    "deletable": true,
    "editable": true,
    "scrolled": false
   },
   "outputs": [
    {
     "data": {
      "text/plain": [
       "<matplotlib.figure.Figure at 0xbc444f0>"
      ]
     },
     "metadata": {},
     "output_type": "display_data"
    },
    {
     "data": {
      "image/png": "[encoded data removed]",
      "text/plain": [
       "<matplotlib.figure.Figure at 0xbc3deb0>"
      ]
     },
     "metadata": {},
     "output_type": "display_data"
    }
   ],
   "source": [
    "plt.show()"
   ]
  },
  {
   "cell_type": "markdown",
   "metadata": {},
   "source": [
    "### 1.1.12 데이터 입출력"
   ]
  },
  {
   "cell_type": "code",
   "execution_count": 200,
   "metadata": {
    "collapsed": true
   },
   "outputs": [],
   "source": [
    "df.to_csv('foo.csv')"
   ]
  },
  {
   "cell_type": "code",
   "execution_count": 201,
   "metadata": {
    "collapsed": false
   },
   "outputs": [
    {
     "data": {
      "text/html": [
       "<div>\n",
       "<table border=\"1\" class=\"dataframe\">\n",
       "  <thead>\n",
       "    <tr style=\"text-align: right;\">\n",
       "      <th></th>\n",
       "      <th>Unnamed: 0</th>\n",
       "      <th>A</th>\n",
       "      <th>B</th>\n",
       "      <th>C</th>\n",
       "      <th>D</th>\n",
       "    </tr>\n",
       "  </thead>\n",
       "  <tbody>\n",
       "    <tr>\n",
       "      <th>0</th>\n",
       "      <td>2000-01-01</td>\n",
       "      <td>-1.953269</td>\n",
       "      <td>1.059402</td>\n",
       "      <td>-0.095953</td>\n",
       "      <td>-0.329493</td>\n",
       "    </tr>\n",
       "    <tr>\n",
       "      <th>1</th>\n",
       "      <td>2000-01-02</td>\n",
       "      <td>-3.056335</td>\n",
       "      <td>0.777558</td>\n",
       "      <td>-0.368448</td>\n",
       "      <td>-0.873706</td>\n",
       "    </tr>\n",
       "    <tr>\n",
       "      <th>2</th>\n",
       "      <td>2000-01-03</td>\n",
       "      <td>-2.588574</td>\n",
       "      <td>2.213147</td>\n",
       "      <td>-0.086678</td>\n",
       "      <td>-0.126194</td>\n",
       "    </tr>\n",
       "    <tr>\n",
       "      <th>3</th>\n",
       "      <td>2000-01-04</td>\n",
       "      <td>-2.552363</td>\n",
       "      <td>2.423185</td>\n",
       "      <td>0.721729</td>\n",
       "      <td>-0.794898</td>\n",
       "    </tr>\n",
       "    <tr>\n",
       "      <th>4</th>\n",
       "      <td>2000-01-05</td>\n",
       "      <td>-2.195377</td>\n",
       "      <td>2.096079</td>\n",
       "      <td>0.094881</td>\n",
       "      <td>-2.139154</td>\n",
       "    </tr>\n",
       "    <tr>\n",
       "      <th>5</th>\n",
       "      <td>2000-01-06</td>\n",
       "      <td>-1.637314</td>\n",
       "      <td>3.064424</td>\n",
       "      <td>0.032646</td>\n",
       "      <td>-1.227146</td>\n",
       "    </tr>\n",
       "    <tr>\n",
       "      <th>6</th>\n",
       "      <td>2000-01-07</td>\n",
       "      <td>-0.106115</td>\n",
       "      <td>2.558711</td>\n",
       "      <td>0.549378</td>\n",
       "      <td>-1.938933</td>\n",
       "    </tr>\n",
       "    <tr>\n",
       "      <th>7</th>\n",
       "      <td>2000-01-08</td>\n",
       "      <td>0.129455</td>\n",
       "      <td>2.268851</td>\n",
       "      <td>-0.524390</td>\n",
       "      <td>-2.463866</td>\n",
       "    </tr>\n",
       "    <tr>\n",
       "      <th>8</th>\n",
       "      <td>2000-01-09</td>\n",
       "      <td>0.420358</td>\n",
       "      <td>1.994828</td>\n",
       "      <td>0.420067</td>\n",
       "      <td>-3.504329</td>\n",
       "    </tr>\n",
       "    <tr>\n",
       "      <th>9</th>\n",
       "      <td>2000-01-10</td>\n",
       "      <td>-1.167474</td>\n",
       "      <td>0.714764</td>\n",
       "      <td>-0.512853</td>\n",
       "      <td>-3.137983</td>\n",
       "    </tr>\n",
       "    <tr>\n",
       "      <th>10</th>\n",
       "      <td>2000-01-11</td>\n",
       "      <td>-2.775966</td>\n",
       "      <td>0.472257</td>\n",
       "      <td>-0.844591</td>\n",
       "      <td>-3.397048</td>\n",
       "    </tr>\n",
       "    <tr>\n",
       "      <th>11</th>\n",
       "      <td>2000-01-12</td>\n",
       "      <td>-3.337314</td>\n",
       "      <td>-0.266220</td>\n",
       "      <td>0.041197</td>\n",
       "      <td>-2.029836</td>\n",
       "    </tr>\n",
       "    <tr>\n",
       "      <th>12</th>\n",
       "      <td>2000-01-13</td>\n",
       "      <td>-4.177834</td>\n",
       "      <td>-1.935439</td>\n",
       "      <td>-0.253281</td>\n",
       "      <td>-2.230649</td>\n",
       "    </tr>\n",
       "    <tr>\n",
       "      <th>13</th>\n",
       "      <td>2000-01-14</td>\n",
       "      <td>-4.815434</td>\n",
       "      <td>-1.932517</td>\n",
       "      <td>0.264675</td>\n",
       "      <td>-2.221244</td>\n",
       "    </tr>\n",
       "    <tr>\n",
       "      <th>14</th>\n",
       "      <td>2000-01-15</td>\n",
       "      <td>-3.695748</td>\n",
       "      <td>-1.571364</td>\n",
       "      <td>1.034188</td>\n",
       "      <td>-3.169989</td>\n",
       "    </tr>\n",
       "    <tr>\n",
       "      <th>15</th>\n",
       "      <td>2000-01-16</td>\n",
       "      <td>-2.657454</td>\n",
       "      <td>-1.071111</td>\n",
       "      <td>-0.099552</td>\n",
       "      <td>-2.478662</td>\n",
       "    </tr>\n",
       "    <tr>\n",
       "      <th>16</th>\n",
       "      <td>2000-01-17</td>\n",
       "      <td>-1.761025</td>\n",
       "      <td>-1.361915</td>\n",
       "      <td>0.387506</td>\n",
       "      <td>-3.692157</td>\n",
       "    </tr>\n",
       "    <tr>\n",
       "      <th>17</th>\n",
       "      <td>2000-01-18</td>\n",
       "      <td>-1.815638</td>\n",
       "      <td>-1.111640</td>\n",
       "      <td>-1.708628</td>\n",
       "      <td>-2.305345</td>\n",
       "    </tr>\n",
       "    <tr>\n",
       "      <th>18</th>\n",
       "      <td>2000-01-19</td>\n",
       "      <td>-2.319682</td>\n",
       "      <td>-0.150927</td>\n",
       "      <td>-0.944853</td>\n",
       "      <td>-1.559141</td>\n",
       "    </tr>\n",
       "    <tr>\n",
       "      <th>19</th>\n",
       "      <td>2000-01-20</td>\n",
       "      <td>-1.753475</td>\n",
       "      <td>1.454052</td>\n",
       "      <td>-1.710125</td>\n",
       "      <td>-1.641964</td>\n",
       "    </tr>\n",
       "    <tr>\n",
       "      <th>20</th>\n",
       "      <td>2000-01-21</td>\n",
       "      <td>-2.582699</td>\n",
       "      <td>1.929022</td>\n",
       "      <td>-2.333608</td>\n",
       "      <td>-2.741880</td>\n",
       "    </tr>\n",
       "    <tr>\n",
       "      <th>21</th>\n",
       "      <td>2000-01-22</td>\n",
       "      <td>-1.698757</td>\n",
       "      <td>1.154178</td>\n",
       "      <td>-3.125740</td>\n",
       "      <td>-4.916226</td>\n",
       "    </tr>\n",
       "    <tr>\n",
       "      <th>22</th>\n",
       "      <td>2000-01-23</td>\n",
       "      <td>-2.233900</td>\n",
       "      <td>0.705659</td>\n",
       "      <td>-3.430809</td>\n",
       "      <td>-5.033220</td>\n",
       "    </tr>\n",
       "    <tr>\n",
       "      <th>23</th>\n",
       "      <td>2000-01-24</td>\n",
       "      <td>-3.022478</td>\n",
       "      <td>1.370087</td>\n",
       "      <td>-2.722105</td>\n",
       "      <td>-4.877159</td>\n",
       "    </tr>\n",
       "    <tr>\n",
       "      <th>24</th>\n",
       "      <td>2000-01-25</td>\n",
       "      <td>-2.495866</td>\n",
       "      <td>1.882755</td>\n",
       "      <td>-3.269977</td>\n",
       "      <td>-4.267167</td>\n",
       "    </tr>\n",
       "    <tr>\n",
       "      <th>25</th>\n",
       "      <td>2000-01-26</td>\n",
       "      <td>-2.988987</td>\n",
       "      <td>3.270328</td>\n",
       "      <td>0.636314</td>\n",
       "      <td>-4.413620</td>\n",
       "    </tr>\n",
       "    <tr>\n",
       "      <th>26</th>\n",
       "      <td>2000-01-27</td>\n",
       "      <td>-4.218365</td>\n",
       "      <td>0.205796</td>\n",
       "      <td>-0.245630</td>\n",
       "      <td>-5.833019</td>\n",
       "    </tr>\n",
       "    <tr>\n",
       "      <th>27</th>\n",
       "      <td>2000-01-28</td>\n",
       "      <td>-2.962456</td>\n",
       "      <td>2.707349</td>\n",
       "      <td>-0.595491</td>\n",
       "      <td>-6.280755</td>\n",
       "    </tr>\n",
       "    <tr>\n",
       "      <th>28</th>\n",
       "      <td>2000-01-29</td>\n",
       "      <td>-2.815354</td>\n",
       "      <td>2.159310</td>\n",
       "      <td>-0.428940</td>\n",
       "      <td>-5.729882</td>\n",
       "    </tr>\n",
       "    <tr>\n",
       "      <th>29</th>\n",
       "      <td>2000-01-30</td>\n",
       "      <td>-3.396818</td>\n",
       "      <td>2.275989</td>\n",
       "      <td>-0.598768</td>\n",
       "      <td>-8.952014</td>\n",
       "    </tr>\n",
       "    <tr>\n",
       "      <th>...</th>\n",
       "      <td>...</td>\n",
       "      <td>...</td>\n",
       "      <td>...</td>\n",
       "      <td>...</td>\n",
       "      <td>...</td>\n",
       "    </tr>\n",
       "    <tr>\n",
       "      <th>970</th>\n",
       "      <td>2002-08-28</td>\n",
       "      <td>67.785771</td>\n",
       "      <td>-4.290578</td>\n",
       "      <td>54.898734</td>\n",
       "      <td>-9.738440</td>\n",
       "    </tr>\n",
       "    <tr>\n",
       "      <th>971</th>\n",
       "      <td>2002-08-29</td>\n",
       "      <td>68.885041</td>\n",
       "      <td>-2.979399</td>\n",
       "      <td>56.190691</td>\n",
       "      <td>-10.244183</td>\n",
       "    </tr>\n",
       "    <tr>\n",
       "      <th>972</th>\n",
       "      <td>2002-08-30</td>\n",
       "      <td>69.797411</td>\n",
       "      <td>-3.705585</td>\n",
       "      <td>58.551440</td>\n",
       "      <td>-10.535424</td>\n",
       "    </tr>\n",
       "    <tr>\n",
       "      <th>973</th>\n",
       "      <td>2002-08-31</td>\n",
       "      <td>68.690418</td>\n",
       "      <td>-4.243623</td>\n",
       "      <td>58.470719</td>\n",
       "      <td>-11.456662</td>\n",
       "    </tr>\n",
       "    <tr>\n",
       "      <th>974</th>\n",
       "      <td>2002-09-01</td>\n",
       "      <td>69.470853</td>\n",
       "      <td>-4.344663</td>\n",
       "      <td>57.263196</td>\n",
       "      <td>-13.165133</td>\n",
       "    </tr>\n",
       "    <tr>\n",
       "      <th>975</th>\n",
       "      <td>2002-09-02</td>\n",
       "      <td>70.160794</td>\n",
       "      <td>-5.085809</td>\n",
       "      <td>58.030993</td>\n",
       "      <td>-11.199882</td>\n",
       "    </tr>\n",
       "    <tr>\n",
       "      <th>976</th>\n",
       "      <td>2002-09-03</td>\n",
       "      <td>70.331433</td>\n",
       "      <td>-3.736786</td>\n",
       "      <td>57.465925</td>\n",
       "      <td>-11.731720</td>\n",
       "    </tr>\n",
       "    <tr>\n",
       "      <th>977</th>\n",
       "      <td>2002-09-04</td>\n",
       "      <td>69.434953</td>\n",
       "      <td>-3.402417</td>\n",
       "      <td>57.433772</td>\n",
       "      <td>-11.094424</td>\n",
       "    </tr>\n",
       "    <tr>\n",
       "      <th>978</th>\n",
       "      <td>2002-09-05</td>\n",
       "      <td>68.696862</td>\n",
       "      <td>-2.912779</td>\n",
       "      <td>57.703417</td>\n",
       "      <td>-9.989619</td>\n",
       "    </tr>\n",
       "    <tr>\n",
       "      <th>979</th>\n",
       "      <td>2002-09-06</td>\n",
       "      <td>69.079544</td>\n",
       "      <td>-3.794667</td>\n",
       "      <td>57.980645</td>\n",
       "      <td>-8.935677</td>\n",
       "    </tr>\n",
       "    <tr>\n",
       "      <th>980</th>\n",
       "      <td>2002-09-07</td>\n",
       "      <td>68.760854</td>\n",
       "      <td>-3.121923</td>\n",
       "      <td>58.677742</td>\n",
       "      <td>-10.004834</td>\n",
       "    </tr>\n",
       "    <tr>\n",
       "      <th>981</th>\n",
       "      <td>2002-09-08</td>\n",
       "      <td>67.281472</td>\n",
       "      <td>-3.728629</td>\n",
       "      <td>58.745914</td>\n",
       "      <td>-9.552905</td>\n",
       "    </tr>\n",
       "    <tr>\n",
       "      <th>982</th>\n",
       "      <td>2002-09-09</td>\n",
       "      <td>65.978196</td>\n",
       "      <td>-4.229758</td>\n",
       "      <td>59.290646</td>\n",
       "      <td>-8.274673</td>\n",
       "    </tr>\n",
       "    <tr>\n",
       "      <th>983</th>\n",
       "      <td>2002-09-10</td>\n",
       "      <td>64.803147</td>\n",
       "      <td>-5.279646</td>\n",
       "      <td>60.077537</td>\n",
       "      <td>-7.508823</td>\n",
       "    </tr>\n",
       "    <tr>\n",
       "      <th>984</th>\n",
       "      <td>2002-09-11</td>\n",
       "      <td>64.492368</td>\n",
       "      <td>-6.298308</td>\n",
       "      <td>60.905025</td>\n",
       "      <td>-8.565559</td>\n",
       "    </tr>\n",
       "    <tr>\n",
       "      <th>985</th>\n",
       "      <td>2002-09-12</td>\n",
       "      <td>64.438746</td>\n",
       "      <td>-7.666792</td>\n",
       "      <td>60.715308</td>\n",
       "      <td>-8.517525</td>\n",
       "    </tr>\n",
       "    <tr>\n",
       "      <th>986</th>\n",
       "      <td>2002-09-13</td>\n",
       "      <td>64.224819</td>\n",
       "      <td>-5.614231</td>\n",
       "      <td>61.576745</td>\n",
       "      <td>-9.470168</td>\n",
       "    </tr>\n",
       "    <tr>\n",
       "      <th>987</th>\n",
       "      <td>2002-09-14</td>\n",
       "      <td>63.282204</td>\n",
       "      <td>-4.210691</td>\n",
       "      <td>60.455875</td>\n",
       "      <td>-9.804497</td>\n",
       "    </tr>\n",
       "    <tr>\n",
       "      <th>988</th>\n",
       "      <td>2002-09-15</td>\n",
       "      <td>64.663181</td>\n",
       "      <td>-3.825353</td>\n",
       "      <td>60.761025</td>\n",
       "      <td>-9.776706</td>\n",
       "    </tr>\n",
       "    <tr>\n",
       "      <th>989</th>\n",
       "      <td>2002-09-16</td>\n",
       "      <td>65.039752</td>\n",
       "      <td>-1.693430</td>\n",
       "      <td>61.788666</td>\n",
       "      <td>-8.845801</td>\n",
       "    </tr>\n",
       "    <tr>\n",
       "      <th>990</th>\n",
       "      <td>2002-09-17</td>\n",
       "      <td>65.245116</td>\n",
       "      <td>-0.556701</td>\n",
       "      <td>62.184926</td>\n",
       "      <td>-8.932605</td>\n",
       "    </tr>\n",
       "    <tr>\n",
       "      <th>991</th>\n",
       "      <td>2002-09-18</td>\n",
       "      <td>65.313663</td>\n",
       "      <td>0.751052</td>\n",
       "      <td>61.929712</td>\n",
       "      <td>-7.159676</td>\n",
       "    </tr>\n",
       "    <tr>\n",
       "      <th>992</th>\n",
       "      <td>2002-09-19</td>\n",
       "      <td>64.441923</td>\n",
       "      <td>0.772559</td>\n",
       "      <td>61.062932</td>\n",
       "      <td>-8.524933</td>\n",
       "    </tr>\n",
       "    <tr>\n",
       "      <th>993</th>\n",
       "      <td>2002-09-20</td>\n",
       "      <td>63.153451</td>\n",
       "      <td>0.596946</td>\n",
       "      <td>61.088407</td>\n",
       "      <td>-8.620157</td>\n",
       "    </tr>\n",
       "    <tr>\n",
       "      <th>994</th>\n",
       "      <td>2002-09-21</td>\n",
       "      <td>63.391948</td>\n",
       "      <td>-1.301189</td>\n",
       "      <td>60.684391</td>\n",
       "      <td>-7.910480</td>\n",
       "    </tr>\n",
       "    <tr>\n",
       "      <th>995</th>\n",
       "      <td>2002-09-22</td>\n",
       "      <td>63.428569</td>\n",
       "      <td>-2.551204</td>\n",
       "      <td>62.039397</td>\n",
       "      <td>-8.046461</td>\n",
       "    </tr>\n",
       "    <tr>\n",
       "      <th>996</th>\n",
       "      <td>2002-09-23</td>\n",
       "      <td>62.702309</td>\n",
       "      <td>-0.605001</td>\n",
       "      <td>62.215867</td>\n",
       "      <td>-7.261257</td>\n",
       "    </tr>\n",
       "    <tr>\n",
       "      <th>997</th>\n",
       "      <td>2002-09-24</td>\n",
       "      <td>62.211804</td>\n",
       "      <td>-1.488015</td>\n",
       "      <td>62.723161</td>\n",
       "      <td>-9.098228</td>\n",
       "    </tr>\n",
       "    <tr>\n",
       "      <th>998</th>\n",
       "      <td>2002-09-25</td>\n",
       "      <td>62.832374</td>\n",
       "      <td>-1.939285</td>\n",
       "      <td>62.301319</td>\n",
       "      <td>-9.914838</td>\n",
       "    </tr>\n",
       "    <tr>\n",
       "      <th>999</th>\n",
       "      <td>2002-09-26</td>\n",
       "      <td>64.134156</td>\n",
       "      <td>-2.318684</td>\n",
       "      <td>61.666339</td>\n",
       "      <td>-11.803845</td>\n",
       "    </tr>\n",
       "  </tbody>\n",
       "</table>\n",
       "<p>1000 rows × 5 columns</p>\n",
       "</div>"
      ],
      "text/plain": [
       "     Unnamed: 0          A         B          C          D\n",
       "0    2000-01-01  -1.953269  1.059402  -0.095953  -0.329493\n",
       "1    2000-01-02  -3.056335  0.777558  -0.368448  -0.873706\n",
       "2    2000-01-03  -2.588574  2.213147  -0.086678  -0.126194\n",
       "3    2000-01-04  -2.552363  2.423185   0.721729  -0.794898\n",
       "4    2000-01-05  -2.195377  2.096079   0.094881  -2.139154\n",
       "5    2000-01-06  -1.637314  3.064424   0.032646  -1.227146\n",
       "6    2000-01-07  -0.106115  2.558711   0.549378  -1.938933\n",
       "7    2000-01-08   0.129455  2.268851  -0.524390  -2.463866\n",
       "8    2000-01-09   0.420358  1.994828   0.420067  -3.504329\n",
       "9    2000-01-10  -1.167474  0.714764  -0.512853  -3.137983\n",
       "10   2000-01-11  -2.775966  0.472257  -0.844591  -3.397048\n",
       "11   2000-01-12  -3.337314 -0.266220   0.041197  -2.029836\n",
       "12   2000-01-13  -4.177834 -1.935439  -0.253281  -2.230649\n",
       "13   2000-01-14  -4.815434 -1.932517   0.264675  -2.221244\n",
       "14   2000-01-15  -3.695748 -1.571364   1.034188  -3.169989\n",
       "15   2000-01-16  -2.657454 -1.071111  -0.099552  -2.478662\n",
       "16   2000-01-17  -1.761025 -1.361915   0.387506  -3.692157\n",
       "17   2000-01-18  -1.815638 -1.111640  -1.708628  -2.305345\n",
       "18   2000-01-19  -2.319682 -0.150927  -0.944853  -1.559141\n",
       "19   2000-01-20  -1.753475  1.454052  -1.710125  -1.641964\n",
       "20   2000-01-21  -2.582699  1.929022  -2.333608  -2.741880\n",
       "21   2000-01-22  -1.698757  1.154178  -3.125740  -4.916226\n",
       "22   2000-01-23  -2.233900  0.705659  -3.430809  -5.033220\n",
       "23   2000-01-24  -3.022478  1.370087  -2.722105  -4.877159\n",
       "24   2000-01-25  -2.495866  1.882755  -3.269977  -4.267167\n",
       "25   2000-01-26  -2.988987  3.270328   0.636314  -4.413620\n",
       "26   2000-01-27  -4.218365  0.205796  -0.245630  -5.833019\n",
       "27   2000-01-28  -2.962456  2.707349  -0.595491  -6.280755\n",
       "28   2000-01-29  -2.815354  2.159310  -0.428940  -5.729882\n",
       "29   2000-01-30  -3.396818  2.275989  -0.598768  -8.952014\n",
       "..          ...        ...       ...        ...        ...\n",
       "970  2002-08-28  67.785771 -4.290578  54.898734  -9.738440\n",
       "971  2002-08-29  68.885041 -2.979399  56.190691 -10.244183\n",
       "972  2002-08-30  69.797411 -3.705585  58.551440 -10.535424\n",
       "973  2002-08-31  68.690418 -4.243623  58.470719 -11.456662\n",
       "974  2002-09-01  69.470853 -4.344663  57.263196 -13.165133\n",
       "975  2002-09-02  70.160794 -5.085809  58.030993 -11.199882\n",
       "976  2002-09-03  70.331433 -3.736786  57.465925 -11.731720\n",
       "977  2002-09-04  69.434953 -3.402417  57.433772 -11.094424\n",
       "978  2002-09-05  68.696862 -2.912779  57.703417  -9.989619\n",
       "979  2002-09-06  69.079544 -3.794667  57.980645  -8.935677\n",
       "980  2002-09-07  68.760854 -3.121923  58.677742 -10.004834\n",
       "981  2002-09-08  67.281472 -3.728629  58.745914  -9.552905\n",
       "982  2002-09-09  65.978196 -4.229758  59.290646  -8.274673\n",
       "983  2002-09-10  64.803147 -5.279646  60.077537  -7.508823\n",
       "984  2002-09-11  64.492368 -6.298308  60.905025  -8.565559\n",
       "985  2002-09-12  64.438746 -7.666792  60.715308  -8.517525\n",
       "986  2002-09-13  64.224819 -5.614231  61.576745  -9.470168\n",
       "987  2002-09-14  63.282204 -4.210691  60.455875  -9.804497\n",
       "988  2002-09-15  64.663181 -3.825353  60.761025  -9.776706\n",
       "989  2002-09-16  65.039752 -1.693430  61.788666  -8.845801\n",
       "990  2002-09-17  65.245116 -0.556701  62.184926  -8.932605\n",
       "991  2002-09-18  65.313663  0.751052  61.929712  -7.159676\n",
       "992  2002-09-19  64.441923  0.772559  61.062932  -8.524933\n",
       "993  2002-09-20  63.153451  0.596946  61.088407  -8.620157\n",
       "994  2002-09-21  63.391948 -1.301189  60.684391  -7.910480\n",
       "995  2002-09-22  63.428569 -2.551204  62.039397  -8.046461\n",
       "996  2002-09-23  62.702309 -0.605001  62.215867  -7.261257\n",
       "997  2002-09-24  62.211804 -1.488015  62.723161  -9.098228\n",
       "998  2002-09-25  62.832374 -1.939285  62.301319  -9.914838\n",
       "999  2002-09-26  64.134156 -2.318684  61.666339 -11.803845\n",
       "\n",
       "[1000 rows x 5 columns]"
      ]
     },
     "execution_count": 201,
     "metadata": {},
     "output_type": "execute_result"
    }
   ],
   "source": [
    "pd.read_csv('foo.csv')"
   ]
  },
  {
   "cell_type": "code",
   "execution_count": 202,
   "metadata": {
    "collapsed": false
   },
   "outputs": [],
   "source": [
    "df.to_json('foo.json')"
   ]
  },
  {
   "cell_type": "code",
   "execution_count": 203,
   "metadata": {
    "collapsed": false
   },
   "outputs": [
    {
     "data": {
      "text/html": [
       "<div>\n",
       "<table border=\"1\" class=\"dataframe\">\n",
       "  <thead>\n",
       "    <tr style=\"text-align: right;\">\n",
       "      <th></th>\n",
       "      <th>A</th>\n",
       "      <th>B</th>\n",
       "      <th>C</th>\n",
       "      <th>D</th>\n",
       "    </tr>\n",
       "  </thead>\n",
       "  <tbody>\n",
       "    <tr>\n",
       "      <th>2001-09-10</th>\n",
       "      <td>17.279952</td>\n",
       "      <td>16.674955</td>\n",
       "      <td>31.308759</td>\n",
       "      <td>-15.733963</td>\n",
       "    </tr>\n",
       "    <tr>\n",
       "      <th>2001-09-11</th>\n",
       "      <td>17.789326</td>\n",
       "      <td>16.980980</td>\n",
       "      <td>31.157326</td>\n",
       "      <td>-14.861080</td>\n",
       "    </tr>\n",
       "    <tr>\n",
       "      <th>2001-09-12</th>\n",
       "      <td>17.758769</td>\n",
       "      <td>16.276473</td>\n",
       "      <td>31.383413</td>\n",
       "      <td>-13.904095</td>\n",
       "    </tr>\n",
       "    <tr>\n",
       "      <th>2001-09-13</th>\n",
       "      <td>18.019521</td>\n",
       "      <td>14.705849</td>\n",
       "      <td>32.577115</td>\n",
       "      <td>-15.127986</td>\n",
       "    </tr>\n",
       "    <tr>\n",
       "      <th>2001-09-14</th>\n",
       "      <td>19.004999</td>\n",
       "      <td>14.260045</td>\n",
       "      <td>32.062243</td>\n",
       "      <td>-13.340268</td>\n",
       "    </tr>\n",
       "    <tr>\n",
       "      <th>2001-09-15</th>\n",
       "      <td>18.998620</td>\n",
       "      <td>13.451159</td>\n",
       "      <td>32.562019</td>\n",
       "      <td>-13.577596</td>\n",
       "    </tr>\n",
       "    <tr>\n",
       "      <th>2001-09-16</th>\n",
       "      <td>19.396521</td>\n",
       "      <td>12.628485</td>\n",
       "      <td>32.230750</td>\n",
       "      <td>-13.027771</td>\n",
       "    </tr>\n",
       "    <tr>\n",
       "      <th>2001-09-17</th>\n",
       "      <td>20.869809</td>\n",
       "      <td>11.956270</td>\n",
       "      <td>33.800403</td>\n",
       "      <td>-13.303721</td>\n",
       "    </tr>\n",
       "    <tr>\n",
       "      <th>2001-09-18</th>\n",
       "      <td>21.178520</td>\n",
       "      <td>12.032346</td>\n",
       "      <td>36.017828</td>\n",
       "      <td>-12.546067</td>\n",
       "    </tr>\n",
       "    <tr>\n",
       "      <th>2001-09-19</th>\n",
       "      <td>20.639850</td>\n",
       "      <td>12.053575</td>\n",
       "      <td>35.683825</td>\n",
       "      <td>-13.506099</td>\n",
       "    </tr>\n",
       "    <tr>\n",
       "      <th>2001-09-20</th>\n",
       "      <td>21.942301</td>\n",
       "      <td>11.561700</td>\n",
       "      <td>35.964258</td>\n",
       "      <td>-14.637231</td>\n",
       "    </tr>\n",
       "    <tr>\n",
       "      <th>2001-09-21</th>\n",
       "      <td>21.776070</td>\n",
       "      <td>11.805748</td>\n",
       "      <td>36.441209</td>\n",
       "      <td>-13.291177</td>\n",
       "    </tr>\n",
       "    <tr>\n",
       "      <th>2001-09-22</th>\n",
       "      <td>22.656084</td>\n",
       "      <td>11.538701</td>\n",
       "      <td>35.652573</td>\n",
       "      <td>-13.450513</td>\n",
       "    </tr>\n",
       "    <tr>\n",
       "      <th>2001-09-23</th>\n",
       "      <td>22.570883</td>\n",
       "      <td>10.927920</td>\n",
       "      <td>36.577175</td>\n",
       "      <td>-13.337939</td>\n",
       "    </tr>\n",
       "    <tr>\n",
       "      <th>2001-09-24</th>\n",
       "      <td>22.349037</td>\n",
       "      <td>10.797255</td>\n",
       "      <td>37.624631</td>\n",
       "      <td>-13.971482</td>\n",
       "    </tr>\n",
       "    <tr>\n",
       "      <th>2001-09-25</th>\n",
       "      <td>21.049137</td>\n",
       "      <td>10.612798</td>\n",
       "      <td>38.030167</td>\n",
       "      <td>-14.638303</td>\n",
       "    </tr>\n",
       "    <tr>\n",
       "      <th>2001-09-26</th>\n",
       "      <td>22.549545</td>\n",
       "      <td>9.327178</td>\n",
       "      <td>38.405200</td>\n",
       "      <td>-14.211858</td>\n",
       "    </tr>\n",
       "    <tr>\n",
       "      <th>2001-09-27</th>\n",
       "      <td>21.722126</td>\n",
       "      <td>10.227344</td>\n",
       "      <td>37.108267</td>\n",
       "      <td>-13.589826</td>\n",
       "    </tr>\n",
       "    <tr>\n",
       "      <th>2001-09-28</th>\n",
       "      <td>20.903663</td>\n",
       "      <td>10.103844</td>\n",
       "      <td>36.018678</td>\n",
       "      <td>-13.511739</td>\n",
       "    </tr>\n",
       "    <tr>\n",
       "      <th>2001-09-29</th>\n",
       "      <td>22.269203</td>\n",
       "      <td>10.241143</td>\n",
       "      <td>36.491477</td>\n",
       "      <td>-13.543251</td>\n",
       "    </tr>\n",
       "    <tr>\n",
       "      <th>2001-09-30</th>\n",
       "      <td>23.555913</td>\n",
       "      <td>10.495839</td>\n",
       "      <td>34.555688</td>\n",
       "      <td>-13.770424</td>\n",
       "    </tr>\n",
       "    <tr>\n",
       "      <th>2001-10-01</th>\n",
       "      <td>22.972429</td>\n",
       "      <td>10.976398</td>\n",
       "      <td>32.501831</td>\n",
       "      <td>-13.260194</td>\n",
       "    </tr>\n",
       "    <tr>\n",
       "      <th>2001-10-02</th>\n",
       "      <td>22.738015</td>\n",
       "      <td>11.109790</td>\n",
       "      <td>31.329136</td>\n",
       "      <td>-10.484904</td>\n",
       "    </tr>\n",
       "    <tr>\n",
       "      <th>2001-10-03</th>\n",
       "      <td>22.843056</td>\n",
       "      <td>9.758342</td>\n",
       "      <td>30.980119</td>\n",
       "      <td>-10.142228</td>\n",
       "    </tr>\n",
       "    <tr>\n",
       "      <th>2001-10-04</th>\n",
       "      <td>21.460900</td>\n",
       "      <td>9.976437</td>\n",
       "      <td>31.921054</td>\n",
       "      <td>-8.769241</td>\n",
       "    </tr>\n",
       "    <tr>\n",
       "      <th>2001-10-05</th>\n",
       "      <td>21.742960</td>\n",
       "      <td>7.123880</td>\n",
       "      <td>31.492268</td>\n",
       "      <td>-9.612271</td>\n",
       "    </tr>\n",
       "    <tr>\n",
       "      <th>2001-10-06</th>\n",
       "      <td>20.064582</td>\n",
       "      <td>6.743360</td>\n",
       "      <td>31.278267</td>\n",
       "      <td>-8.092854</td>\n",
       "    </tr>\n",
       "    <tr>\n",
       "      <th>2001-10-07</th>\n",
       "      <td>19.724491</td>\n",
       "      <td>5.548018</td>\n",
       "      <td>31.919415</td>\n",
       "      <td>-9.074717</td>\n",
       "    </tr>\n",
       "    <tr>\n",
       "      <th>2001-10-08</th>\n",
       "      <td>20.587161</td>\n",
       "      <td>6.210242</td>\n",
       "      <td>33.016761</td>\n",
       "      <td>-9.127419</td>\n",
       "    </tr>\n",
       "    <tr>\n",
       "      <th>2001-10-09</th>\n",
       "      <td>20.752239</td>\n",
       "      <td>5.927713</td>\n",
       "      <td>34.266863</td>\n",
       "      <td>-9.588921</td>\n",
       "    </tr>\n",
       "    <tr>\n",
       "      <th>...</th>\n",
       "      <td>...</td>\n",
       "      <td>...</td>\n",
       "      <td>...</td>\n",
       "      <td>...</td>\n",
       "    </tr>\n",
       "    <tr>\n",
       "      <th>2001-08-11</th>\n",
       "      <td>12.824375</td>\n",
       "      <td>18.412415</td>\n",
       "      <td>25.846035</td>\n",
       "      <td>-18.918511</td>\n",
       "    </tr>\n",
       "    <tr>\n",
       "      <th>2001-08-12</th>\n",
       "      <td>12.855161</td>\n",
       "      <td>17.411567</td>\n",
       "      <td>26.053802</td>\n",
       "      <td>-19.868046</td>\n",
       "    </tr>\n",
       "    <tr>\n",
       "      <th>2001-08-13</th>\n",
       "      <td>14.308046</td>\n",
       "      <td>17.480271</td>\n",
       "      <td>24.593718</td>\n",
       "      <td>-17.742624</td>\n",
       "    </tr>\n",
       "    <tr>\n",
       "      <th>2001-08-14</th>\n",
       "      <td>15.342259</td>\n",
       "      <td>16.917645</td>\n",
       "      <td>25.229090</td>\n",
       "      <td>-19.255996</td>\n",
       "    </tr>\n",
       "    <tr>\n",
       "      <th>2001-08-15</th>\n",
       "      <td>16.751332</td>\n",
       "      <td>17.691013</td>\n",
       "      <td>24.776946</td>\n",
       "      <td>-18.651769</td>\n",
       "    </tr>\n",
       "    <tr>\n",
       "      <th>2001-08-16</th>\n",
       "      <td>16.454013</td>\n",
       "      <td>17.747224</td>\n",
       "      <td>24.629865</td>\n",
       "      <td>-19.099597</td>\n",
       "    </tr>\n",
       "    <tr>\n",
       "      <th>2001-08-17</th>\n",
       "      <td>15.716138</td>\n",
       "      <td>17.637268</td>\n",
       "      <td>23.757072</td>\n",
       "      <td>-18.908696</td>\n",
       "    </tr>\n",
       "    <tr>\n",
       "      <th>2001-08-18</th>\n",
       "      <td>14.819607</td>\n",
       "      <td>17.209322</td>\n",
       "      <td>23.084521</td>\n",
       "      <td>-18.289438</td>\n",
       "    </tr>\n",
       "    <tr>\n",
       "      <th>2001-08-19</th>\n",
       "      <td>14.233528</td>\n",
       "      <td>16.363468</td>\n",
       "      <td>22.539442</td>\n",
       "      <td>-18.329013</td>\n",
       "    </tr>\n",
       "    <tr>\n",
       "      <th>2001-08-20</th>\n",
       "      <td>13.908223</td>\n",
       "      <td>17.601049</td>\n",
       "      <td>21.852107</td>\n",
       "      <td>-18.195913</td>\n",
       "    </tr>\n",
       "    <tr>\n",
       "      <th>2001-08-21</th>\n",
       "      <td>12.756996</td>\n",
       "      <td>17.772231</td>\n",
       "      <td>23.711729</td>\n",
       "      <td>-18.449457</td>\n",
       "    </tr>\n",
       "    <tr>\n",
       "      <th>2001-08-22</th>\n",
       "      <td>13.002915</td>\n",
       "      <td>17.538819</td>\n",
       "      <td>24.815528</td>\n",
       "      <td>-16.690461</td>\n",
       "    </tr>\n",
       "    <tr>\n",
       "      <th>2001-08-23</th>\n",
       "      <td>13.108082</td>\n",
       "      <td>17.278318</td>\n",
       "      <td>26.544827</td>\n",
       "      <td>-15.464372</td>\n",
       "    </tr>\n",
       "    <tr>\n",
       "      <th>2001-08-24</th>\n",
       "      <td>12.786920</td>\n",
       "      <td>16.983958</td>\n",
       "      <td>27.412180</td>\n",
       "      <td>-15.871050</td>\n",
       "    </tr>\n",
       "    <tr>\n",
       "      <th>2001-08-25</th>\n",
       "      <td>14.541072</td>\n",
       "      <td>16.136032</td>\n",
       "      <td>27.045447</td>\n",
       "      <td>-15.605968</td>\n",
       "    </tr>\n",
       "    <tr>\n",
       "      <th>2001-08-26</th>\n",
       "      <td>14.362313</td>\n",
       "      <td>17.685043</td>\n",
       "      <td>26.487615</td>\n",
       "      <td>-15.899242</td>\n",
       "    </tr>\n",
       "    <tr>\n",
       "      <th>2001-08-27</th>\n",
       "      <td>13.497903</td>\n",
       "      <td>16.361659</td>\n",
       "      <td>27.395036</td>\n",
       "      <td>-16.995318</td>\n",
       "    </tr>\n",
       "    <tr>\n",
       "      <th>2001-08-28</th>\n",
       "      <td>13.991125</td>\n",
       "      <td>15.705324</td>\n",
       "      <td>27.514028</td>\n",
       "      <td>-17.553599</td>\n",
       "    </tr>\n",
       "    <tr>\n",
       "      <th>2001-08-29</th>\n",
       "      <td>14.078454</td>\n",
       "      <td>15.725954</td>\n",
       "      <td>25.404401</td>\n",
       "      <td>-16.072619</td>\n",
       "    </tr>\n",
       "    <tr>\n",
       "      <th>2001-08-30</th>\n",
       "      <td>13.886600</td>\n",
       "      <td>15.601429</td>\n",
       "      <td>26.867846</td>\n",
       "      <td>-15.364858</td>\n",
       "    </tr>\n",
       "    <tr>\n",
       "      <th>2001-08-31</th>\n",
       "      <td>14.003967</td>\n",
       "      <td>17.218320</td>\n",
       "      <td>28.500393</td>\n",
       "      <td>-15.062305</td>\n",
       "    </tr>\n",
       "    <tr>\n",
       "      <th>2001-09-01</th>\n",
       "      <td>14.668090</td>\n",
       "      <td>16.101930</td>\n",
       "      <td>27.024913</td>\n",
       "      <td>-15.644372</td>\n",
       "    </tr>\n",
       "    <tr>\n",
       "      <th>2001-09-02</th>\n",
       "      <td>16.041979</td>\n",
       "      <td>16.296620</td>\n",
       "      <td>26.709401</td>\n",
       "      <td>-15.527798</td>\n",
       "    </tr>\n",
       "    <tr>\n",
       "      <th>2001-09-03</th>\n",
       "      <td>15.475686</td>\n",
       "      <td>16.320790</td>\n",
       "      <td>27.602537</td>\n",
       "      <td>-14.300251</td>\n",
       "    </tr>\n",
       "    <tr>\n",
       "      <th>2001-09-04</th>\n",
       "      <td>16.571953</td>\n",
       "      <td>16.753988</td>\n",
       "      <td>29.458607</td>\n",
       "      <td>-15.226924</td>\n",
       "    </tr>\n",
       "    <tr>\n",
       "      <th>2001-09-05</th>\n",
       "      <td>16.544976</td>\n",
       "      <td>17.112200</td>\n",
       "      <td>29.537538</td>\n",
       "      <td>-14.519528</td>\n",
       "    </tr>\n",
       "    <tr>\n",
       "      <th>2001-09-06</th>\n",
       "      <td>18.094270</td>\n",
       "      <td>16.612089</td>\n",
       "      <td>32.105293</td>\n",
       "      <td>-14.585927</td>\n",
       "    </tr>\n",
       "    <tr>\n",
       "      <th>2001-09-07</th>\n",
       "      <td>19.549251</td>\n",
       "      <td>16.393964</td>\n",
       "      <td>32.230395</td>\n",
       "      <td>-15.016939</td>\n",
       "    </tr>\n",
       "    <tr>\n",
       "      <th>2001-09-08</th>\n",
       "      <td>20.154422</td>\n",
       "      <td>16.585758</td>\n",
       "      <td>31.307167</td>\n",
       "      <td>-15.424299</td>\n",
       "    </tr>\n",
       "    <tr>\n",
       "      <th>2001-09-09</th>\n",
       "      <td>19.516595</td>\n",
       "      <td>16.461134</td>\n",
       "      <td>32.149168</td>\n",
       "      <td>-15.939458</td>\n",
       "    </tr>\n",
       "  </tbody>\n",
       "</table>\n",
       "<p>1000 rows × 4 columns</p>\n",
       "</div>"
      ],
      "text/plain": [
       "                    A          B          C          D\n",
       "2001-09-10  17.279952  16.674955  31.308759 -15.733963\n",
       "2001-09-11  17.789326  16.980980  31.157326 -14.861080\n",
       "2001-09-12  17.758769  16.276473  31.383413 -13.904095\n",
       "2001-09-13  18.019521  14.705849  32.577115 -15.127986\n",
       "2001-09-14  19.004999  14.260045  32.062243 -13.340268\n",
       "2001-09-15  18.998620  13.451159  32.562019 -13.577596\n",
       "2001-09-16  19.396521  12.628485  32.230750 -13.027771\n",
       "2001-09-17  20.869809  11.956270  33.800403 -13.303721\n",
       "2001-09-18  21.178520  12.032346  36.017828 -12.546067\n",
       "2001-09-19  20.639850  12.053575  35.683825 -13.506099\n",
       "2001-09-20  21.942301  11.561700  35.964258 -14.637231\n",
       "2001-09-21  21.776070  11.805748  36.441209 -13.291177\n",
       "2001-09-22  22.656084  11.538701  35.652573 -13.450513\n",
       "2001-09-23  22.570883  10.927920  36.577175 -13.337939\n",
       "2001-09-24  22.349037  10.797255  37.624631 -13.971482\n",
       "2001-09-25  21.049137  10.612798  38.030167 -14.638303\n",
       "2001-09-26  22.549545   9.327178  38.405200 -14.211858\n",
       "2001-09-27  21.722126  10.227344  37.108267 -13.589826\n",
       "2001-09-28  20.903663  10.103844  36.018678 -13.511739\n",
       "2001-09-29  22.269203  10.241143  36.491477 -13.543251\n",
       "2001-09-30  23.555913  10.495839  34.555688 -13.770424\n",
       "2001-10-01  22.972429  10.976398  32.501831 -13.260194\n",
       "2001-10-02  22.738015  11.109790  31.329136 -10.484904\n",
       "2001-10-03  22.843056   9.758342  30.980119 -10.142228\n",
       "2001-10-04  21.460900   9.976437  31.921054  -8.769241\n",
       "2001-10-05  21.742960   7.123880  31.492268  -9.612271\n",
       "2001-10-06  20.064582   6.743360  31.278267  -8.092854\n",
       "2001-10-07  19.724491   5.548018  31.919415  -9.074717\n",
       "2001-10-08  20.587161   6.210242  33.016761  -9.127419\n",
       "2001-10-09  20.752239   5.927713  34.266863  -9.588921\n",
       "...               ...        ...        ...        ...\n",
       "2001-08-11  12.824375  18.412415  25.846035 -18.918511\n",
       "2001-08-12  12.855161  17.411567  26.053802 -19.868046\n",
       "2001-08-13  14.308046  17.480271  24.593718 -17.742624\n",
       "2001-08-14  15.342259  16.917645  25.229090 -19.255996\n",
       "2001-08-15  16.751332  17.691013  24.776946 -18.651769\n",
       "2001-08-16  16.454013  17.747224  24.629865 -19.099597\n",
       "2001-08-17  15.716138  17.637268  23.757072 -18.908696\n",
       "2001-08-18  14.819607  17.209322  23.084521 -18.289438\n",
       "2001-08-19  14.233528  16.363468  22.539442 -18.329013\n",
       "2001-08-20  13.908223  17.601049  21.852107 -18.195913\n",
       "2001-08-21  12.756996  17.772231  23.711729 -18.449457\n",
       "2001-08-22  13.002915  17.538819  24.815528 -16.690461\n",
       "2001-08-23  13.108082  17.278318  26.544827 -15.464372\n",
       "2001-08-24  12.786920  16.983958  27.412180 -15.871050\n",
       "2001-08-25  14.541072  16.136032  27.045447 -15.605968\n",
       "2001-08-26  14.362313  17.685043  26.487615 -15.899242\n",
       "2001-08-27  13.497903  16.361659  27.395036 -16.995318\n",
       "2001-08-28  13.991125  15.705324  27.514028 -17.553599\n",
       "2001-08-29  14.078454  15.725954  25.404401 -16.072619\n",
       "2001-08-30  13.886600  15.601429  26.867846 -15.364858\n",
       "2001-08-31  14.003967  17.218320  28.500393 -15.062305\n",
       "2001-09-01  14.668090  16.101930  27.024913 -15.644372\n",
       "2001-09-02  16.041979  16.296620  26.709401 -15.527798\n",
       "2001-09-03  15.475686  16.320790  27.602537 -14.300251\n",
       "2001-09-04  16.571953  16.753988  29.458607 -15.226924\n",
       "2001-09-05  16.544976  17.112200  29.537538 -14.519528\n",
       "2001-09-06  18.094270  16.612089  32.105293 -14.585927\n",
       "2001-09-07  19.549251  16.393964  32.230395 -15.016939\n",
       "2001-09-08  20.154422  16.585758  31.307167 -15.424299\n",
       "2001-09-09  19.516595  16.461134  32.149168 -15.939458\n",
       "\n",
       "[1000 rows x 4 columns]"
      ]
     },
     "execution_count": 203,
     "metadata": {},
     "output_type": "execute_result"
    }
   ],
   "source": [
    "pd.read_json('foo.json')"
   ]
  },
  {
   "cell_type": "code",
   "execution_count": 204,
   "metadata": {
    "collapsed": false
   },
   "outputs": [],
   "source": [
    "df.to_hdf('foo.h5', 'df')"
   ]
  },
  {
   "cell_type": "code",
   "execution_count": 205,
   "metadata": {
    "collapsed": false
   },
   "outputs": [
    {
     "data": {
      "text/html": [
       "<div>\n",
       "<table border=\"1\" class=\"dataframe\">\n",
       "  <thead>\n",
       "    <tr style=\"text-align: right;\">\n",
       "      <th></th>\n",
       "      <th>A</th>\n",
       "      <th>B</th>\n",
       "      <th>C</th>\n",
       "      <th>D</th>\n",
       "    </tr>\n",
       "  </thead>\n",
       "  <tbody>\n",
       "    <tr>\n",
       "      <th>2000-01-01</th>\n",
       "      <td>-1.953269</td>\n",
       "      <td>1.059402</td>\n",
       "      <td>-0.095953</td>\n",
       "      <td>-0.329493</td>\n",
       "    </tr>\n",
       "    <tr>\n",
       "      <th>2000-01-02</th>\n",
       "      <td>-3.056335</td>\n",
       "      <td>0.777558</td>\n",
       "      <td>-0.368448</td>\n",
       "      <td>-0.873706</td>\n",
       "    </tr>\n",
       "    <tr>\n",
       "      <th>2000-01-03</th>\n",
       "      <td>-2.588574</td>\n",
       "      <td>2.213147</td>\n",
       "      <td>-0.086678</td>\n",
       "      <td>-0.126194</td>\n",
       "    </tr>\n",
       "    <tr>\n",
       "      <th>2000-01-04</th>\n",
       "      <td>-2.552363</td>\n",
       "      <td>2.423185</td>\n",
       "      <td>0.721729</td>\n",
       "      <td>-0.794898</td>\n",
       "    </tr>\n",
       "    <tr>\n",
       "      <th>2000-01-05</th>\n",
       "      <td>-2.195377</td>\n",
       "      <td>2.096079</td>\n",
       "      <td>0.094881</td>\n",
       "      <td>-2.139154</td>\n",
       "    </tr>\n",
       "    <tr>\n",
       "      <th>2000-01-06</th>\n",
       "      <td>-1.637314</td>\n",
       "      <td>3.064424</td>\n",
       "      <td>0.032646</td>\n",
       "      <td>-1.227146</td>\n",
       "    </tr>\n",
       "    <tr>\n",
       "      <th>2000-01-07</th>\n",
       "      <td>-0.106115</td>\n",
       "      <td>2.558711</td>\n",
       "      <td>0.549378</td>\n",
       "      <td>-1.938933</td>\n",
       "    </tr>\n",
       "    <tr>\n",
       "      <th>2000-01-08</th>\n",
       "      <td>0.129455</td>\n",
       "      <td>2.268851</td>\n",
       "      <td>-0.524390</td>\n",
       "      <td>-2.463866</td>\n",
       "    </tr>\n",
       "    <tr>\n",
       "      <th>2000-01-09</th>\n",
       "      <td>0.420358</td>\n",
       "      <td>1.994828</td>\n",
       "      <td>0.420067</td>\n",
       "      <td>-3.504329</td>\n",
       "    </tr>\n",
       "    <tr>\n",
       "      <th>2000-01-10</th>\n",
       "      <td>-1.167474</td>\n",
       "      <td>0.714764</td>\n",
       "      <td>-0.512853</td>\n",
       "      <td>-3.137983</td>\n",
       "    </tr>\n",
       "    <tr>\n",
       "      <th>2000-01-11</th>\n",
       "      <td>-2.775966</td>\n",
       "      <td>0.472257</td>\n",
       "      <td>-0.844591</td>\n",
       "      <td>-3.397048</td>\n",
       "    </tr>\n",
       "    <tr>\n",
       "      <th>2000-01-12</th>\n",
       "      <td>-3.337314</td>\n",
       "      <td>-0.266220</td>\n",
       "      <td>0.041197</td>\n",
       "      <td>-2.029836</td>\n",
       "    </tr>\n",
       "    <tr>\n",
       "      <th>2000-01-13</th>\n",
       "      <td>-4.177834</td>\n",
       "      <td>-1.935439</td>\n",
       "      <td>-0.253281</td>\n",
       "      <td>-2.230649</td>\n",
       "    </tr>\n",
       "    <tr>\n",
       "      <th>2000-01-14</th>\n",
       "      <td>-4.815434</td>\n",
       "      <td>-1.932517</td>\n",
       "      <td>0.264675</td>\n",
       "      <td>-2.221244</td>\n",
       "    </tr>\n",
       "    <tr>\n",
       "      <th>2000-01-15</th>\n",
       "      <td>-3.695748</td>\n",
       "      <td>-1.571364</td>\n",
       "      <td>1.034188</td>\n",
       "      <td>-3.169989</td>\n",
       "    </tr>\n",
       "    <tr>\n",
       "      <th>2000-01-16</th>\n",
       "      <td>-2.657454</td>\n",
       "      <td>-1.071111</td>\n",
       "      <td>-0.099552</td>\n",
       "      <td>-2.478662</td>\n",
       "    </tr>\n",
       "    <tr>\n",
       "      <th>2000-01-17</th>\n",
       "      <td>-1.761025</td>\n",
       "      <td>-1.361915</td>\n",
       "      <td>0.387506</td>\n",
       "      <td>-3.692157</td>\n",
       "    </tr>\n",
       "    <tr>\n",
       "      <th>2000-01-18</th>\n",
       "      <td>-1.815638</td>\n",
       "      <td>-1.111640</td>\n",
       "      <td>-1.708628</td>\n",
       "      <td>-2.305345</td>\n",
       "    </tr>\n",
       "    <tr>\n",
       "      <th>2000-01-19</th>\n",
       "      <td>-2.319682</td>\n",
       "      <td>-0.150927</td>\n",
       "      <td>-0.944853</td>\n",
       "      <td>-1.559141</td>\n",
       "    </tr>\n",
       "    <tr>\n",
       "      <th>2000-01-20</th>\n",
       "      <td>-1.753475</td>\n",
       "      <td>1.454052</td>\n",
       "      <td>-1.710125</td>\n",
       "      <td>-1.641964</td>\n",
       "    </tr>\n",
       "    <tr>\n",
       "      <th>2000-01-21</th>\n",
       "      <td>-2.582699</td>\n",
       "      <td>1.929022</td>\n",
       "      <td>-2.333608</td>\n",
       "      <td>-2.741880</td>\n",
       "    </tr>\n",
       "    <tr>\n",
       "      <th>2000-01-22</th>\n",
       "      <td>-1.698757</td>\n",
       "      <td>1.154178</td>\n",
       "      <td>-3.125740</td>\n",
       "      <td>-4.916226</td>\n",
       "    </tr>\n",
       "    <tr>\n",
       "      <th>2000-01-23</th>\n",
       "      <td>-2.233900</td>\n",
       "      <td>0.705659</td>\n",
       "      <td>-3.430809</td>\n",
       "      <td>-5.033220</td>\n",
       "    </tr>\n",
       "    <tr>\n",
       "      <th>2000-01-24</th>\n",
       "      <td>-3.022478</td>\n",
       "      <td>1.370087</td>\n",
       "      <td>-2.722105</td>\n",
       "      <td>-4.877159</td>\n",
       "    </tr>\n",
       "    <tr>\n",
       "      <th>2000-01-25</th>\n",
       "      <td>-2.495866</td>\n",
       "      <td>1.882755</td>\n",
       "      <td>-3.269977</td>\n",
       "      <td>-4.267167</td>\n",
       "    </tr>\n",
       "    <tr>\n",
       "      <th>2000-01-26</th>\n",
       "      <td>-2.988987</td>\n",
       "      <td>3.270328</td>\n",
       "      <td>0.636314</td>\n",
       "      <td>-4.413620</td>\n",
       "    </tr>\n",
       "    <tr>\n",
       "      <th>2000-01-27</th>\n",
       "      <td>-4.218365</td>\n",
       "      <td>0.205796</td>\n",
       "      <td>-0.245630</td>\n",
       "      <td>-5.833019</td>\n",
       "    </tr>\n",
       "    <tr>\n",
       "      <th>2000-01-28</th>\n",
       "      <td>-2.962456</td>\n",
       "      <td>2.707349</td>\n",
       "      <td>-0.595491</td>\n",
       "      <td>-6.280755</td>\n",
       "    </tr>\n",
       "    <tr>\n",
       "      <th>2000-01-29</th>\n",
       "      <td>-2.815354</td>\n",
       "      <td>2.159310</td>\n",
       "      <td>-0.428940</td>\n",
       "      <td>-5.729882</td>\n",
       "    </tr>\n",
       "    <tr>\n",
       "      <th>2000-01-30</th>\n",
       "      <td>-3.396818</td>\n",
       "      <td>2.275989</td>\n",
       "      <td>-0.598768</td>\n",
       "      <td>-8.952014</td>\n",
       "    </tr>\n",
       "    <tr>\n",
       "      <th>...</th>\n",
       "      <td>...</td>\n",
       "      <td>...</td>\n",
       "      <td>...</td>\n",
       "      <td>...</td>\n",
       "    </tr>\n",
       "    <tr>\n",
       "      <th>2002-08-28</th>\n",
       "      <td>67.785771</td>\n",
       "      <td>-4.290578</td>\n",
       "      <td>54.898734</td>\n",
       "      <td>-9.738440</td>\n",
       "    </tr>\n",
       "    <tr>\n",
       "      <th>2002-08-29</th>\n",
       "      <td>68.885041</td>\n",
       "      <td>-2.979399</td>\n",
       "      <td>56.190691</td>\n",
       "      <td>-10.244183</td>\n",
       "    </tr>\n",
       "    <tr>\n",
       "      <th>2002-08-30</th>\n",
       "      <td>69.797411</td>\n",
       "      <td>-3.705585</td>\n",
       "      <td>58.551440</td>\n",
       "      <td>-10.535424</td>\n",
       "    </tr>\n",
       "    <tr>\n",
       "      <th>2002-08-31</th>\n",
       "      <td>68.690418</td>\n",
       "      <td>-4.243623</td>\n",
       "      <td>58.470719</td>\n",
       "      <td>-11.456662</td>\n",
       "    </tr>\n",
       "    <tr>\n",
       "      <th>2002-09-01</th>\n",
       "      <td>69.470853</td>\n",
       "      <td>-4.344663</td>\n",
       "      <td>57.263196</td>\n",
       "      <td>-13.165133</td>\n",
       "    </tr>\n",
       "    <tr>\n",
       "      <th>2002-09-02</th>\n",
       "      <td>70.160794</td>\n",
       "      <td>-5.085809</td>\n",
       "      <td>58.030993</td>\n",
       "      <td>-11.199882</td>\n",
       "    </tr>\n",
       "    <tr>\n",
       "      <th>2002-09-03</th>\n",
       "      <td>70.331433</td>\n",
       "      <td>-3.736786</td>\n",
       "      <td>57.465925</td>\n",
       "      <td>-11.731720</td>\n",
       "    </tr>\n",
       "    <tr>\n",
       "      <th>2002-09-04</th>\n",
       "      <td>69.434953</td>\n",
       "      <td>-3.402417</td>\n",
       "      <td>57.433772</td>\n",
       "      <td>-11.094424</td>\n",
       "    </tr>\n",
       "    <tr>\n",
       "      <th>2002-09-05</th>\n",
       "      <td>68.696862</td>\n",
       "      <td>-2.912779</td>\n",
       "      <td>57.703417</td>\n",
       "      <td>-9.989619</td>\n",
       "    </tr>\n",
       "    <tr>\n",
       "      <th>2002-09-06</th>\n",
       "      <td>69.079544</td>\n",
       "      <td>-3.794667</td>\n",
       "      <td>57.980645</td>\n",
       "      <td>-8.935677</td>\n",
       "    </tr>\n",
       "    <tr>\n",
       "      <th>2002-09-07</th>\n",
       "      <td>68.760854</td>\n",
       "      <td>-3.121923</td>\n",
       "      <td>58.677742</td>\n",
       "      <td>-10.004834</td>\n",
       "    </tr>\n",
       "    <tr>\n",
       "      <th>2002-09-08</th>\n",
       "      <td>67.281472</td>\n",
       "      <td>-3.728629</td>\n",
       "      <td>58.745914</td>\n",
       "      <td>-9.552905</td>\n",
       "    </tr>\n",
       "    <tr>\n",
       "      <th>2002-09-09</th>\n",
       "      <td>65.978196</td>\n",
       "      <td>-4.229758</td>\n",
       "      <td>59.290646</td>\n",
       "      <td>-8.274673</td>\n",
       "    </tr>\n",
       "    <tr>\n",
       "      <th>2002-09-10</th>\n",
       "      <td>64.803147</td>\n",
       "      <td>-5.279646</td>\n",
       "      <td>60.077537</td>\n",
       "      <td>-7.508823</td>\n",
       "    </tr>\n",
       "    <tr>\n",
       "      <th>2002-09-11</th>\n",
       "      <td>64.492368</td>\n",
       "      <td>-6.298308</td>\n",
       "      <td>60.905025</td>\n",
       "      <td>-8.565559</td>\n",
       "    </tr>\n",
       "    <tr>\n",
       "      <th>2002-09-12</th>\n",
       "      <td>64.438746</td>\n",
       "      <td>-7.666792</td>\n",
       "      <td>60.715308</td>\n",
       "      <td>-8.517525</td>\n",
       "    </tr>\n",
       "    <tr>\n",
       "      <th>2002-09-13</th>\n",
       "      <td>64.224819</td>\n",
       "      <td>-5.614231</td>\n",
       "      <td>61.576745</td>\n",
       "      <td>-9.470168</td>\n",
       "    </tr>\n",
       "    <tr>\n",
       "      <th>2002-09-14</th>\n",
       "      <td>63.282204</td>\n",
       "      <td>-4.210691</td>\n",
       "      <td>60.455875</td>\n",
       "      <td>-9.804497</td>\n",
       "    </tr>\n",
       "    <tr>\n",
       "      <th>2002-09-15</th>\n",
       "      <td>64.663181</td>\n",
       "      <td>-3.825353</td>\n",
       "      <td>60.761025</td>\n",
       "      <td>-9.776706</td>\n",
       "    </tr>\n",
       "    <tr>\n",
       "      <th>2002-09-16</th>\n",
       "      <td>65.039752</td>\n",
       "      <td>-1.693430</td>\n",
       "      <td>61.788666</td>\n",
       "      <td>-8.845801</td>\n",
       "    </tr>\n",
       "    <tr>\n",
       "      <th>2002-09-17</th>\n",
       "      <td>65.245116</td>\n",
       "      <td>-0.556701</td>\n",
       "      <td>62.184926</td>\n",
       "      <td>-8.932605</td>\n",
       "    </tr>\n",
       "    <tr>\n",
       "      <th>2002-09-18</th>\n",
       "      <td>65.313663</td>\n",
       "      <td>0.751052</td>\n",
       "      <td>61.929712</td>\n",
       "      <td>-7.159676</td>\n",
       "    </tr>\n",
       "    <tr>\n",
       "      <th>2002-09-19</th>\n",
       "      <td>64.441923</td>\n",
       "      <td>0.772559</td>\n",
       "      <td>61.062932</td>\n",
       "      <td>-8.524933</td>\n",
       "    </tr>\n",
       "    <tr>\n",
       "      <th>2002-09-20</th>\n",
       "      <td>63.153451</td>\n",
       "      <td>0.596946</td>\n",
       "      <td>61.088407</td>\n",
       "      <td>-8.620157</td>\n",
       "    </tr>\n",
       "    <tr>\n",
       "      <th>2002-09-21</th>\n",
       "      <td>63.391948</td>\n",
       "      <td>-1.301189</td>\n",
       "      <td>60.684391</td>\n",
       "      <td>-7.910480</td>\n",
       "    </tr>\n",
       "    <tr>\n",
       "      <th>2002-09-22</th>\n",
       "      <td>63.428569</td>\n",
       "      <td>-2.551204</td>\n",
       "      <td>62.039397</td>\n",
       "      <td>-8.046461</td>\n",
       "    </tr>\n",
       "    <tr>\n",
       "      <th>2002-09-23</th>\n",
       "      <td>62.702309</td>\n",
       "      <td>-0.605001</td>\n",
       "      <td>62.215867</td>\n",
       "      <td>-7.261257</td>\n",
       "    </tr>\n",
       "    <tr>\n",
       "      <th>2002-09-24</th>\n",
       "      <td>62.211804</td>\n",
       "      <td>-1.488015</td>\n",
       "      <td>62.723161</td>\n",
       "      <td>-9.098228</td>\n",
       "    </tr>\n",
       "    <tr>\n",
       "      <th>2002-09-25</th>\n",
       "      <td>62.832374</td>\n",
       "      <td>-1.939285</td>\n",
       "      <td>62.301319</td>\n",
       "      <td>-9.914838</td>\n",
       "    </tr>\n",
       "    <tr>\n",
       "      <th>2002-09-26</th>\n",
       "      <td>64.134156</td>\n",
       "      <td>-2.318684</td>\n",
       "      <td>61.666339</td>\n",
       "      <td>-11.803845</td>\n",
       "    </tr>\n",
       "  </tbody>\n",
       "</table>\n",
       "<p>1000 rows × 4 columns</p>\n",
       "</div>"
      ],
      "text/plain": [
       "                    A         B          C          D\n",
       "2000-01-01  -1.953269  1.059402  -0.095953  -0.329493\n",
       "2000-01-02  -3.056335  0.777558  -0.368448  -0.873706\n",
       "2000-01-03  -2.588574  2.213147  -0.086678  -0.126194\n",
       "2000-01-04  -2.552363  2.423185   0.721729  -0.794898\n",
       "2000-01-05  -2.195377  2.096079   0.094881  -2.139154\n",
       "2000-01-06  -1.637314  3.064424   0.032646  -1.227146\n",
       "2000-01-07  -0.106115  2.558711   0.549378  -1.938933\n",
       "2000-01-08   0.129455  2.268851  -0.524390  -2.463866\n",
       "2000-01-09   0.420358  1.994828   0.420067  -3.504329\n",
       "2000-01-10  -1.167474  0.714764  -0.512853  -3.137983\n",
       "2000-01-11  -2.775966  0.472257  -0.844591  -3.397048\n",
       "2000-01-12  -3.337314 -0.266220   0.041197  -2.029836\n",
       "2000-01-13  -4.177834 -1.935439  -0.253281  -2.230649\n",
       "2000-01-14  -4.815434 -1.932517   0.264675  -2.221244\n",
       "2000-01-15  -3.695748 -1.571364   1.034188  -3.169989\n",
       "2000-01-16  -2.657454 -1.071111  -0.099552  -2.478662\n",
       "2000-01-17  -1.761025 -1.361915   0.387506  -3.692157\n",
       "2000-01-18  -1.815638 -1.111640  -1.708628  -2.305345\n",
       "2000-01-19  -2.319682 -0.150927  -0.944853  -1.559141\n",
       "2000-01-20  -1.753475  1.454052  -1.710125  -1.641964\n",
       "2000-01-21  -2.582699  1.929022  -2.333608  -2.741880\n",
       "2000-01-22  -1.698757  1.154178  -3.125740  -4.916226\n",
       "2000-01-23  -2.233900  0.705659  -3.430809  -5.033220\n",
       "2000-01-24  -3.022478  1.370087  -2.722105  -4.877159\n",
       "2000-01-25  -2.495866  1.882755  -3.269977  -4.267167\n",
       "2000-01-26  -2.988987  3.270328   0.636314  -4.413620\n",
       "2000-01-27  -4.218365  0.205796  -0.245630  -5.833019\n",
       "2000-01-28  -2.962456  2.707349  -0.595491  -6.280755\n",
       "2000-01-29  -2.815354  2.159310  -0.428940  -5.729882\n",
       "2000-01-30  -3.396818  2.275989  -0.598768  -8.952014\n",
       "...               ...       ...        ...        ...\n",
       "2002-08-28  67.785771 -4.290578  54.898734  -9.738440\n",
       "2002-08-29  68.885041 -2.979399  56.190691 -10.244183\n",
       "2002-08-30  69.797411 -3.705585  58.551440 -10.535424\n",
       "2002-08-31  68.690418 -4.243623  58.470719 -11.456662\n",
       "2002-09-01  69.470853 -4.344663  57.263196 -13.165133\n",
       "2002-09-02  70.160794 -5.085809  58.030993 -11.199882\n",
       "2002-09-03  70.331433 -3.736786  57.465925 -11.731720\n",
       "2002-09-04  69.434953 -3.402417  57.433772 -11.094424\n",
       "2002-09-05  68.696862 -2.912779  57.703417  -9.989619\n",
       "2002-09-06  69.079544 -3.794667  57.980645  -8.935677\n",
       "2002-09-07  68.760854 -3.121923  58.677742 -10.004834\n",
       "2002-09-08  67.281472 -3.728629  58.745914  -9.552905\n",
       "2002-09-09  65.978196 -4.229758  59.290646  -8.274673\n",
       "2002-09-10  64.803147 -5.279646  60.077537  -7.508823\n",
       "2002-09-11  64.492368 -6.298308  60.905025  -8.565559\n",
       "2002-09-12  64.438746 -7.666792  60.715308  -8.517525\n",
       "2002-09-13  64.224819 -5.614231  61.576745  -9.470168\n",
       "2002-09-14  63.282204 -4.210691  60.455875  -9.804497\n",
       "2002-09-15  64.663181 -3.825353  60.761025  -9.776706\n",
       "2002-09-16  65.039752 -1.693430  61.788666  -8.845801\n",
       "2002-09-17  65.245116 -0.556701  62.184926  -8.932605\n",
       "2002-09-18  65.313663  0.751052  61.929712  -7.159676\n",
       "2002-09-19  64.441923  0.772559  61.062932  -8.524933\n",
       "2002-09-20  63.153451  0.596946  61.088407  -8.620157\n",
       "2002-09-21  63.391948 -1.301189  60.684391  -7.910480\n",
       "2002-09-22  63.428569 -2.551204  62.039397  -8.046461\n",
       "2002-09-23  62.702309 -0.605001  62.215867  -7.261257\n",
       "2002-09-24  62.211804 -1.488015  62.723161  -9.098228\n",
       "2002-09-25  62.832374 -1.939285  62.301319  -9.914838\n",
       "2002-09-26  64.134156 -2.318684  61.666339 -11.803845\n",
       "\n",
       "[1000 rows x 4 columns]"
      ]
     },
     "execution_count": 205,
     "metadata": {},
     "output_type": "execute_result"
    }
   ],
   "source": [
    "pd.read_hdf('foo.h5','df')"
   ]
  },
  {
   "cell_type": "code",
   "execution_count": 206,
   "metadata": {
    "collapsed": true
   },
   "outputs": [],
   "source": [
    "df.to_pickle('foo.pic')"
   ]
  },
  {
   "cell_type": "code",
   "execution_count": 207,
   "metadata": {
    "collapsed": false
   },
   "outputs": [
    {
     "data": {
      "text/html": [
       "<div>\n",
       "<table border=\"1\" class=\"dataframe\">\n",
       "  <thead>\n",
       "    <tr style=\"text-align: right;\">\n",
       "      <th></th>\n",
       "      <th>A</th>\n",
       "      <th>B</th>\n",
       "      <th>C</th>\n",
       "      <th>D</th>\n",
       "    </tr>\n",
       "  </thead>\n",
       "  <tbody>\n",
       "    <tr>\n",
       "      <th>2000-01-01</th>\n",
       "      <td>-1.953269</td>\n",
       "      <td>1.059402</td>\n",
       "      <td>-0.095953</td>\n",
       "      <td>-0.329493</td>\n",
       "    </tr>\n",
       "    <tr>\n",
       "      <th>2000-01-02</th>\n",
       "      <td>-3.056335</td>\n",
       "      <td>0.777558</td>\n",
       "      <td>-0.368448</td>\n",
       "      <td>-0.873706</td>\n",
       "    </tr>\n",
       "    <tr>\n",
       "      <th>2000-01-03</th>\n",
       "      <td>-2.588574</td>\n",
       "      <td>2.213147</td>\n",
       "      <td>-0.086678</td>\n",
       "      <td>-0.126194</td>\n",
       "    </tr>\n",
       "    <tr>\n",
       "      <th>2000-01-04</th>\n",
       "      <td>-2.552363</td>\n",
       "      <td>2.423185</td>\n",
       "      <td>0.721729</td>\n",
       "      <td>-0.794898</td>\n",
       "    </tr>\n",
       "    <tr>\n",
       "      <th>2000-01-05</th>\n",
       "      <td>-2.195377</td>\n",
       "      <td>2.096079</td>\n",
       "      <td>0.094881</td>\n",
       "      <td>-2.139154</td>\n",
       "    </tr>\n",
       "    <tr>\n",
       "      <th>2000-01-06</th>\n",
       "      <td>-1.637314</td>\n",
       "      <td>3.064424</td>\n",
       "      <td>0.032646</td>\n",
       "      <td>-1.227146</td>\n",
       "    </tr>\n",
       "    <tr>\n",
       "      <th>2000-01-07</th>\n",
       "      <td>-0.106115</td>\n",
       "      <td>2.558711</td>\n",
       "      <td>0.549378</td>\n",
       "      <td>-1.938933</td>\n",
       "    </tr>\n",
       "    <tr>\n",
       "      <th>2000-01-08</th>\n",
       "      <td>0.129455</td>\n",
       "      <td>2.268851</td>\n",
       "      <td>-0.524390</td>\n",
       "      <td>-2.463866</td>\n",
       "    </tr>\n",
       "    <tr>\n",
       "      <th>2000-01-09</th>\n",
       "      <td>0.420358</td>\n",
       "      <td>1.994828</td>\n",
       "      <td>0.420067</td>\n",
       "      <td>-3.504329</td>\n",
       "    </tr>\n",
       "    <tr>\n",
       "      <th>2000-01-10</th>\n",
       "      <td>-1.167474</td>\n",
       "      <td>0.714764</td>\n",
       "      <td>-0.512853</td>\n",
       "      <td>-3.137983</td>\n",
       "    </tr>\n",
       "    <tr>\n",
       "      <th>2000-01-11</th>\n",
       "      <td>-2.775966</td>\n",
       "      <td>0.472257</td>\n",
       "      <td>-0.844591</td>\n",
       "      <td>-3.397048</td>\n",
       "    </tr>\n",
       "    <tr>\n",
       "      <th>2000-01-12</th>\n",
       "      <td>-3.337314</td>\n",
       "      <td>-0.266220</td>\n",
       "      <td>0.041197</td>\n",
       "      <td>-2.029836</td>\n",
       "    </tr>\n",
       "    <tr>\n",
       "      <th>2000-01-13</th>\n",
       "      <td>-4.177834</td>\n",
       "      <td>-1.935439</td>\n",
       "      <td>-0.253281</td>\n",
       "      <td>-2.230649</td>\n",
       "    </tr>\n",
       "    <tr>\n",
       "      <th>2000-01-14</th>\n",
       "      <td>-4.815434</td>\n",
       "      <td>-1.932517</td>\n",
       "      <td>0.264675</td>\n",
       "      <td>-2.221244</td>\n",
       "    </tr>\n",
       "    <tr>\n",
       "      <th>2000-01-15</th>\n",
       "      <td>-3.695748</td>\n",
       "      <td>-1.571364</td>\n",
       "      <td>1.034188</td>\n",
       "      <td>-3.169989</td>\n",
       "    </tr>\n",
       "    <tr>\n",
       "      <th>2000-01-16</th>\n",
       "      <td>-2.657454</td>\n",
       "      <td>-1.071111</td>\n",
       "      <td>-0.099552</td>\n",
       "      <td>-2.478662</td>\n",
       "    </tr>\n",
       "    <tr>\n",
       "      <th>2000-01-17</th>\n",
       "      <td>-1.761025</td>\n",
       "      <td>-1.361915</td>\n",
       "      <td>0.387506</td>\n",
       "      <td>-3.692157</td>\n",
       "    </tr>\n",
       "    <tr>\n",
       "      <th>2000-01-18</th>\n",
       "      <td>-1.815638</td>\n",
       "      <td>-1.111640</td>\n",
       "      <td>-1.708628</td>\n",
       "      <td>-2.305345</td>\n",
       "    </tr>\n",
       "    <tr>\n",
       "      <th>2000-01-19</th>\n",
       "      <td>-2.319682</td>\n",
       "      <td>-0.150927</td>\n",
       "      <td>-0.944853</td>\n",
       "      <td>-1.559141</td>\n",
       "    </tr>\n",
       "    <tr>\n",
       "      <th>2000-01-20</th>\n",
       "      <td>-1.753475</td>\n",
       "      <td>1.454052</td>\n",
       "      <td>-1.710125</td>\n",
       "      <td>-1.641964</td>\n",
       "    </tr>\n",
       "    <tr>\n",
       "      <th>2000-01-21</th>\n",
       "      <td>-2.582699</td>\n",
       "      <td>1.929022</td>\n",
       "      <td>-2.333608</td>\n",
       "      <td>-2.741880</td>\n",
       "    </tr>\n",
       "    <tr>\n",
       "      <th>2000-01-22</th>\n",
       "      <td>-1.698757</td>\n",
       "      <td>1.154178</td>\n",
       "      <td>-3.125740</td>\n",
       "      <td>-4.916226</td>\n",
       "    </tr>\n",
       "    <tr>\n",
       "      <th>2000-01-23</th>\n",
       "      <td>-2.233900</td>\n",
       "      <td>0.705659</td>\n",
       "      <td>-3.430809</td>\n",
       "      <td>-5.033220</td>\n",
       "    </tr>\n",
       "    <tr>\n",
       "      <th>2000-01-24</th>\n",
       "      <td>-3.022478</td>\n",
       "      <td>1.370087</td>\n",
       "      <td>-2.722105</td>\n",
       "      <td>-4.877159</td>\n",
       "    </tr>\n",
       "    <tr>\n",
       "      <th>2000-01-25</th>\n",
       "      <td>-2.495866</td>\n",
       "      <td>1.882755</td>\n",
       "      <td>-3.269977</td>\n",
       "      <td>-4.267167</td>\n",
       "    </tr>\n",
       "    <tr>\n",
       "      <th>2000-01-26</th>\n",
       "      <td>-2.988987</td>\n",
       "      <td>3.270328</td>\n",
       "      <td>0.636314</td>\n",
       "      <td>-4.413620</td>\n",
       "    </tr>\n",
       "    <tr>\n",
       "      <th>2000-01-27</th>\n",
       "      <td>-4.218365</td>\n",
       "      <td>0.205796</td>\n",
       "      <td>-0.245630</td>\n",
       "      <td>-5.833019</td>\n",
       "    </tr>\n",
       "    <tr>\n",
       "      <th>2000-01-28</th>\n",
       "      <td>-2.962456</td>\n",
       "      <td>2.707349</td>\n",
       "      <td>-0.595491</td>\n",
       "      <td>-6.280755</td>\n",
       "    </tr>\n",
       "    <tr>\n",
       "      <th>2000-01-29</th>\n",
       "      <td>-2.815354</td>\n",
       "      <td>2.159310</td>\n",
       "      <td>-0.428940</td>\n",
       "      <td>-5.729882</td>\n",
       "    </tr>\n",
       "    <tr>\n",
       "      <th>2000-01-30</th>\n",
       "      <td>-3.396818</td>\n",
       "      <td>2.275989</td>\n",
       "      <td>-0.598768</td>\n",
       "      <td>-8.952014</td>\n",
       "    </tr>\n",
       "    <tr>\n",
       "      <th>...</th>\n",
       "      <td>...</td>\n",
       "      <td>...</td>\n",
       "      <td>...</td>\n",
       "      <td>...</td>\n",
       "    </tr>\n",
       "    <tr>\n",
       "      <th>2002-08-28</th>\n",
       "      <td>67.785771</td>\n",
       "      <td>-4.290578</td>\n",
       "      <td>54.898734</td>\n",
       "      <td>-9.738440</td>\n",
       "    </tr>\n",
       "    <tr>\n",
       "      <th>2002-08-29</th>\n",
       "      <td>68.885041</td>\n",
       "      <td>-2.979399</td>\n",
       "      <td>56.190691</td>\n",
       "      <td>-10.244183</td>\n",
       "    </tr>\n",
       "    <tr>\n",
       "      <th>2002-08-30</th>\n",
       "      <td>69.797411</td>\n",
       "      <td>-3.705585</td>\n",
       "      <td>58.551440</td>\n",
       "      <td>-10.535424</td>\n",
       "    </tr>\n",
       "    <tr>\n",
       "      <th>2002-08-31</th>\n",
       "      <td>68.690418</td>\n",
       "      <td>-4.243623</td>\n",
       "      <td>58.470719</td>\n",
       "      <td>-11.456662</td>\n",
       "    </tr>\n",
       "    <tr>\n",
       "      <th>2002-09-01</th>\n",
       "      <td>69.470853</td>\n",
       "      <td>-4.344663</td>\n",
       "      <td>57.263196</td>\n",
       "      <td>-13.165133</td>\n",
       "    </tr>\n",
       "    <tr>\n",
       "      <th>2002-09-02</th>\n",
       "      <td>70.160794</td>\n",
       "      <td>-5.085809</td>\n",
       "      <td>58.030993</td>\n",
       "      <td>-11.199882</td>\n",
       "    </tr>\n",
       "    <tr>\n",
       "      <th>2002-09-03</th>\n",
       "      <td>70.331433</td>\n",
       "      <td>-3.736786</td>\n",
       "      <td>57.465925</td>\n",
       "      <td>-11.731720</td>\n",
       "    </tr>\n",
       "    <tr>\n",
       "      <th>2002-09-04</th>\n",
       "      <td>69.434953</td>\n",
       "      <td>-3.402417</td>\n",
       "      <td>57.433772</td>\n",
       "      <td>-11.094424</td>\n",
       "    </tr>\n",
       "    <tr>\n",
       "      <th>2002-09-05</th>\n",
       "      <td>68.696862</td>\n",
       "      <td>-2.912779</td>\n",
       "      <td>57.703417</td>\n",
       "      <td>-9.989619</td>\n",
       "    </tr>\n",
       "    <tr>\n",
       "      <th>2002-09-06</th>\n",
       "      <td>69.079544</td>\n",
       "      <td>-3.794667</td>\n",
       "      <td>57.980645</td>\n",
       "      <td>-8.935677</td>\n",
       "    </tr>\n",
       "    <tr>\n",
       "      <th>2002-09-07</th>\n",
       "      <td>68.760854</td>\n",
       "      <td>-3.121923</td>\n",
       "      <td>58.677742</td>\n",
       "      <td>-10.004834</td>\n",
       "    </tr>\n",
       "    <tr>\n",
       "      <th>2002-09-08</th>\n",
       "      <td>67.281472</td>\n",
       "      <td>-3.728629</td>\n",
       "      <td>58.745914</td>\n",
       "      <td>-9.552905</td>\n",
       "    </tr>\n",
       "    <tr>\n",
       "      <th>2002-09-09</th>\n",
       "      <td>65.978196</td>\n",
       "      <td>-4.229758</td>\n",
       "      <td>59.290646</td>\n",
       "      <td>-8.274673</td>\n",
       "    </tr>\n",
       "    <tr>\n",
       "      <th>2002-09-10</th>\n",
       "      <td>64.803147</td>\n",
       "      <td>-5.279646</td>\n",
       "      <td>60.077537</td>\n",
       "      <td>-7.508823</td>\n",
       "    </tr>\n",
       "    <tr>\n",
       "      <th>2002-09-11</th>\n",
       "      <td>64.492368</td>\n",
       "      <td>-6.298308</td>\n",
       "      <td>60.905025</td>\n",
       "      <td>-8.565559</td>\n",
       "    </tr>\n",
       "    <tr>\n",
       "      <th>2002-09-12</th>\n",
       "      <td>64.438746</td>\n",
       "      <td>-7.666792</td>\n",
       "      <td>60.715308</td>\n",
       "      <td>-8.517525</td>\n",
       "    </tr>\n",
       "    <tr>\n",
       "      <th>2002-09-13</th>\n",
       "      <td>64.224819</td>\n",
       "      <td>-5.614231</td>\n",
       "      <td>61.576745</td>\n",
       "      <td>-9.470168</td>\n",
       "    </tr>\n",
       "    <tr>\n",
       "      <th>2002-09-14</th>\n",
       "      <td>63.282204</td>\n",
       "      <td>-4.210691</td>\n",
       "      <td>60.455875</td>\n",
       "      <td>-9.804497</td>\n",
       "    </tr>\n",
       "    <tr>\n",
       "      <th>2002-09-15</th>\n",
       "      <td>64.663181</td>\n",
       "      <td>-3.825353</td>\n",
       "      <td>60.761025</td>\n",
       "      <td>-9.776706</td>\n",
       "    </tr>\n",
       "    <tr>\n",
       "      <th>2002-09-16</th>\n",
       "      <td>65.039752</td>\n",
       "      <td>-1.693430</td>\n",
       "      <td>61.788666</td>\n",
       "      <td>-8.845801</td>\n",
       "    </tr>\n",
       "    <tr>\n",
       "      <th>2002-09-17</th>\n",
       "      <td>65.245116</td>\n",
       "      <td>-0.556701</td>\n",
       "      <td>62.184926</td>\n",
       "      <td>-8.932605</td>\n",
       "    </tr>\n",
       "    <tr>\n",
       "      <th>2002-09-18</th>\n",
       "      <td>65.313663</td>\n",
       "      <td>0.751052</td>\n",
       "      <td>61.929712</td>\n",
       "      <td>-7.159676</td>\n",
       "    </tr>\n",
       "    <tr>\n",
       "      <th>2002-09-19</th>\n",
       "      <td>64.441923</td>\n",
       "      <td>0.772559</td>\n",
       "      <td>61.062932</td>\n",
       "      <td>-8.524933</td>\n",
       "    </tr>\n",
       "    <tr>\n",
       "      <th>2002-09-20</th>\n",
       "      <td>63.153451</td>\n",
       "      <td>0.596946</td>\n",
       "      <td>61.088407</td>\n",
       "      <td>-8.620157</td>\n",
       "    </tr>\n",
       "    <tr>\n",
       "      <th>2002-09-21</th>\n",
       "      <td>63.391948</td>\n",
       "      <td>-1.301189</td>\n",
       "      <td>60.684391</td>\n",
       "      <td>-7.910480</td>\n",
       "    </tr>\n",
       "    <tr>\n",
       "      <th>2002-09-22</th>\n",
       "      <td>63.428569</td>\n",
       "      <td>-2.551204</td>\n",
       "      <td>62.039397</td>\n",
       "      <td>-8.046461</td>\n",
       "    </tr>\n",
       "    <tr>\n",
       "      <th>2002-09-23</th>\n",
       "      <td>62.702309</td>\n",
       "      <td>-0.605001</td>\n",
       "      <td>62.215867</td>\n",
       "      <td>-7.261257</td>\n",
       "    </tr>\n",
       "    <tr>\n",
       "      <th>2002-09-24</th>\n",
       "      <td>62.211804</td>\n",
       "      <td>-1.488015</td>\n",
       "      <td>62.723161</td>\n",
       "      <td>-9.098228</td>\n",
       "    </tr>\n",
       "    <tr>\n",
       "      <th>2002-09-25</th>\n",
       "      <td>62.832374</td>\n",
       "      <td>-1.939285</td>\n",
       "      <td>62.301319</td>\n",
       "      <td>-9.914838</td>\n",
       "    </tr>\n",
       "    <tr>\n",
       "      <th>2002-09-26</th>\n",
       "      <td>64.134156</td>\n",
       "      <td>-2.318684</td>\n",
       "      <td>61.666339</td>\n",
       "      <td>-11.803845</td>\n",
       "    </tr>\n",
       "  </tbody>\n",
       "</table>\n",
       "<p>1000 rows × 4 columns</p>\n",
       "</div>"
      ],
      "text/plain": [
       "                    A         B          C          D\n",
       "2000-01-01  -1.953269  1.059402  -0.095953  -0.329493\n",
       "2000-01-02  -3.056335  0.777558  -0.368448  -0.873706\n",
       "2000-01-03  -2.588574  2.213147  -0.086678  -0.126194\n",
       "2000-01-04  -2.552363  2.423185   0.721729  -0.794898\n",
       "2000-01-05  -2.195377  2.096079   0.094881  -2.139154\n",
       "2000-01-06  -1.637314  3.064424   0.032646  -1.227146\n",
       "2000-01-07  -0.106115  2.558711   0.549378  -1.938933\n",
       "2000-01-08   0.129455  2.268851  -0.524390  -2.463866\n",
       "2000-01-09   0.420358  1.994828   0.420067  -3.504329\n",
       "2000-01-10  -1.167474  0.714764  -0.512853  -3.137983\n",
       "2000-01-11  -2.775966  0.472257  -0.844591  -3.397048\n",
       "2000-01-12  -3.337314 -0.266220   0.041197  -2.029836\n",
       "2000-01-13  -4.177834 -1.935439  -0.253281  -2.230649\n",
       "2000-01-14  -4.815434 -1.932517   0.264675  -2.221244\n",
       "2000-01-15  -3.695748 -1.571364   1.034188  -3.169989\n",
       "2000-01-16  -2.657454 -1.071111  -0.099552  -2.478662\n",
       "2000-01-17  -1.761025 -1.361915   0.387506  -3.692157\n",
       "2000-01-18  -1.815638 -1.111640  -1.708628  -2.305345\n",
       "2000-01-19  -2.319682 -0.150927  -0.944853  -1.559141\n",
       "2000-01-20  -1.753475  1.454052  -1.710125  -1.641964\n",
       "2000-01-21  -2.582699  1.929022  -2.333608  -2.741880\n",
       "2000-01-22  -1.698757  1.154178  -3.125740  -4.916226\n",
       "2000-01-23  -2.233900  0.705659  -3.430809  -5.033220\n",
       "2000-01-24  -3.022478  1.370087  -2.722105  -4.877159\n",
       "2000-01-25  -2.495866  1.882755  -3.269977  -4.267167\n",
       "2000-01-26  -2.988987  3.270328   0.636314  -4.413620\n",
       "2000-01-27  -4.218365  0.205796  -0.245630  -5.833019\n",
       "2000-01-28  -2.962456  2.707349  -0.595491  -6.280755\n",
       "2000-01-29  -2.815354  2.159310  -0.428940  -5.729882\n",
       "2000-01-30  -3.396818  2.275989  -0.598768  -8.952014\n",
       "...               ...       ...        ...        ...\n",
       "2002-08-28  67.785771 -4.290578  54.898734  -9.738440\n",
       "2002-08-29  68.885041 -2.979399  56.190691 -10.244183\n",
       "2002-08-30  69.797411 -3.705585  58.551440 -10.535424\n",
       "2002-08-31  68.690418 -4.243623  58.470719 -11.456662\n",
       "2002-09-01  69.470853 -4.344663  57.263196 -13.165133\n",
       "2002-09-02  70.160794 -5.085809  58.030993 -11.199882\n",
       "2002-09-03  70.331433 -3.736786  57.465925 -11.731720\n",
       "2002-09-04  69.434953 -3.402417  57.433772 -11.094424\n",
       "2002-09-05  68.696862 -2.912779  57.703417  -9.989619\n",
       "2002-09-06  69.079544 -3.794667  57.980645  -8.935677\n",
       "2002-09-07  68.760854 -3.121923  58.677742 -10.004834\n",
       "2002-09-08  67.281472 -3.728629  58.745914  -9.552905\n",
       "2002-09-09  65.978196 -4.229758  59.290646  -8.274673\n",
       "2002-09-10  64.803147 -5.279646  60.077537  -7.508823\n",
       "2002-09-11  64.492368 -6.298308  60.905025  -8.565559\n",
       "2002-09-12  64.438746 -7.666792  60.715308  -8.517525\n",
       "2002-09-13  64.224819 -5.614231  61.576745  -9.470168\n",
       "2002-09-14  63.282204 -4.210691  60.455875  -9.804497\n",
       "2002-09-15  64.663181 -3.825353  60.761025  -9.776706\n",
       "2002-09-16  65.039752 -1.693430  61.788666  -8.845801\n",
       "2002-09-17  65.245116 -0.556701  62.184926  -8.932605\n",
       "2002-09-18  65.313663  0.751052  61.929712  -7.159676\n",
       "2002-09-19  64.441923  0.772559  61.062932  -8.524933\n",
       "2002-09-20  63.153451  0.596946  61.088407  -8.620157\n",
       "2002-09-21  63.391948 -1.301189  60.684391  -7.910480\n",
       "2002-09-22  63.428569 -2.551204  62.039397  -8.046461\n",
       "2002-09-23  62.702309 -0.605001  62.215867  -7.261257\n",
       "2002-09-24  62.211804 -1.488015  62.723161  -9.098228\n",
       "2002-09-25  62.832374 -1.939285  62.301319  -9.914838\n",
       "2002-09-26  64.134156 -2.318684  61.666339 -11.803845\n",
       "\n",
       "[1000 rows x 4 columns]"
      ]
     },
     "execution_count": 207,
     "metadata": {},
     "output_type": "execute_result"
    }
   ],
   "source": [
    "pd.read_pickle('foo.pic')"
   ]
  },
  {
   "cell_type": "code",
   "execution_count": 208,
   "metadata": {
    "collapsed": true
   },
   "outputs": [],
   "source": [
    "df.to_excel('foo.xlsx', sheet_name='Sheet1')"
   ]
  },
  {
   "cell_type": "code",
   "execution_count": 209,
   "metadata": {
    "collapsed": false
   },
   "outputs": [
    {
     "data": {
      "text/html": [
       "<div>\n",
       "<table border=\"1\" class=\"dataframe\">\n",
       "  <thead>\n",
       "    <tr style=\"text-align: right;\">\n",
       "      <th></th>\n",
       "      <th>A</th>\n",
       "      <th>B</th>\n",
       "      <th>C</th>\n",
       "      <th>D</th>\n",
       "    </tr>\n",
       "  </thead>\n",
       "  <tbody>\n",
       "    <tr>\n",
       "      <th>2000-01-01</th>\n",
       "      <td>-1.953269</td>\n",
       "      <td>1.059402</td>\n",
       "      <td>-0.095953</td>\n",
       "      <td>-0.329493</td>\n",
       "    </tr>\n",
       "    <tr>\n",
       "      <th>2000-01-02</th>\n",
       "      <td>-3.056335</td>\n",
       "      <td>0.777558</td>\n",
       "      <td>-0.368448</td>\n",
       "      <td>-0.873706</td>\n",
       "    </tr>\n",
       "    <tr>\n",
       "      <th>2000-01-03</th>\n",
       "      <td>-2.588574</td>\n",
       "      <td>2.213147</td>\n",
       "      <td>-0.086678</td>\n",
       "      <td>-0.126194</td>\n",
       "    </tr>\n",
       "    <tr>\n",
       "      <th>2000-01-04</th>\n",
       "      <td>-2.552363</td>\n",
       "      <td>2.423185</td>\n",
       "      <td>0.721729</td>\n",
       "      <td>-0.794898</td>\n",
       "    </tr>\n",
       "    <tr>\n",
       "      <th>2000-01-05</th>\n",
       "      <td>-2.195377</td>\n",
       "      <td>2.096079</td>\n",
       "      <td>0.094881</td>\n",
       "      <td>-2.139154</td>\n",
       "    </tr>\n",
       "    <tr>\n",
       "      <th>2000-01-06</th>\n",
       "      <td>-1.637314</td>\n",
       "      <td>3.064424</td>\n",
       "      <td>0.032646</td>\n",
       "      <td>-1.227146</td>\n",
       "    </tr>\n",
       "    <tr>\n",
       "      <th>2000-01-07</th>\n",
       "      <td>-0.106115</td>\n",
       "      <td>2.558711</td>\n",
       "      <td>0.549378</td>\n",
       "      <td>-1.938933</td>\n",
       "    </tr>\n",
       "    <tr>\n",
       "      <th>2000-01-08</th>\n",
       "      <td>0.129455</td>\n",
       "      <td>2.268851</td>\n",
       "      <td>-0.524390</td>\n",
       "      <td>-2.463866</td>\n",
       "    </tr>\n",
       "    <tr>\n",
       "      <th>2000-01-09</th>\n",
       "      <td>0.420358</td>\n",
       "      <td>1.994828</td>\n",
       "      <td>0.420067</td>\n",
       "      <td>-3.504329</td>\n",
       "    </tr>\n",
       "    <tr>\n",
       "      <th>2000-01-10</th>\n",
       "      <td>-1.167474</td>\n",
       "      <td>0.714764</td>\n",
       "      <td>-0.512853</td>\n",
       "      <td>-3.137983</td>\n",
       "    </tr>\n",
       "    <tr>\n",
       "      <th>2000-01-11</th>\n",
       "      <td>-2.775966</td>\n",
       "      <td>0.472257</td>\n",
       "      <td>-0.844591</td>\n",
       "      <td>-3.397048</td>\n",
       "    </tr>\n",
       "    <tr>\n",
       "      <th>2000-01-12</th>\n",
       "      <td>-3.337314</td>\n",
       "      <td>-0.266220</td>\n",
       "      <td>0.041197</td>\n",
       "      <td>-2.029836</td>\n",
       "    </tr>\n",
       "    <tr>\n",
       "      <th>2000-01-13</th>\n",
       "      <td>-4.177834</td>\n",
       "      <td>-1.935439</td>\n",
       "      <td>-0.253281</td>\n",
       "      <td>-2.230649</td>\n",
       "    </tr>\n",
       "    <tr>\n",
       "      <th>2000-01-14</th>\n",
       "      <td>-4.815434</td>\n",
       "      <td>-1.932517</td>\n",
       "      <td>0.264675</td>\n",
       "      <td>-2.221244</td>\n",
       "    </tr>\n",
       "    <tr>\n",
       "      <th>2000-01-15</th>\n",
       "      <td>-3.695748</td>\n",
       "      <td>-1.571364</td>\n",
       "      <td>1.034188</td>\n",
       "      <td>-3.169989</td>\n",
       "    </tr>\n",
       "    <tr>\n",
       "      <th>2000-01-16</th>\n",
       "      <td>-2.657454</td>\n",
       "      <td>-1.071111</td>\n",
       "      <td>-0.099552</td>\n",
       "      <td>-2.478662</td>\n",
       "    </tr>\n",
       "    <tr>\n",
       "      <th>2000-01-17</th>\n",
       "      <td>-1.761025</td>\n",
       "      <td>-1.361915</td>\n",
       "      <td>0.387506</td>\n",
       "      <td>-3.692157</td>\n",
       "    </tr>\n",
       "    <tr>\n",
       "      <th>2000-01-18</th>\n",
       "      <td>-1.815638</td>\n",
       "      <td>-1.111640</td>\n",
       "      <td>-1.708628</td>\n",
       "      <td>-2.305345</td>\n",
       "    </tr>\n",
       "    <tr>\n",
       "      <th>2000-01-19</th>\n",
       "      <td>-2.319682</td>\n",
       "      <td>-0.150927</td>\n",
       "      <td>-0.944853</td>\n",
       "      <td>-1.559141</td>\n",
       "    </tr>\n",
       "    <tr>\n",
       "      <th>2000-01-20</th>\n",
       "      <td>-1.753475</td>\n",
       "      <td>1.454052</td>\n",
       "      <td>-1.710125</td>\n",
       "      <td>-1.641964</td>\n",
       "    </tr>\n",
       "    <tr>\n",
       "      <th>2000-01-21</th>\n",
       "      <td>-2.582699</td>\n",
       "      <td>1.929022</td>\n",
       "      <td>-2.333608</td>\n",
       "      <td>-2.741880</td>\n",
       "    </tr>\n",
       "    <tr>\n",
       "      <th>2000-01-22</th>\n",
       "      <td>-1.698757</td>\n",
       "      <td>1.154178</td>\n",
       "      <td>-3.125740</td>\n",
       "      <td>-4.916226</td>\n",
       "    </tr>\n",
       "    <tr>\n",
       "      <th>2000-01-23</th>\n",
       "      <td>-2.233900</td>\n",
       "      <td>0.705659</td>\n",
       "      <td>-3.430809</td>\n",
       "      <td>-5.033220</td>\n",
       "    </tr>\n",
       "    <tr>\n",
       "      <th>2000-01-24</th>\n",
       "      <td>-3.022478</td>\n",
       "      <td>1.370087</td>\n",
       "      <td>-2.722105</td>\n",
       "      <td>-4.877159</td>\n",
       "    </tr>\n",
       "    <tr>\n",
       "      <th>2000-01-25</th>\n",
       "      <td>-2.495866</td>\n",
       "      <td>1.882755</td>\n",
       "      <td>-3.269977</td>\n",
       "      <td>-4.267167</td>\n",
       "    </tr>\n",
       "    <tr>\n",
       "      <th>2000-01-26</th>\n",
       "      <td>-2.988987</td>\n",
       "      <td>3.270328</td>\n",
       "      <td>0.636314</td>\n",
       "      <td>-4.413620</td>\n",
       "    </tr>\n",
       "    <tr>\n",
       "      <th>2000-01-27</th>\n",
       "      <td>-4.218365</td>\n",
       "      <td>0.205796</td>\n",
       "      <td>-0.245630</td>\n",
       "      <td>-5.833019</td>\n",
       "    </tr>\n",
       "    <tr>\n",
       "      <th>2000-01-28</th>\n",
       "      <td>-2.962456</td>\n",
       "      <td>2.707349</td>\n",
       "      <td>-0.595491</td>\n",
       "      <td>-6.280755</td>\n",
       "    </tr>\n",
       "    <tr>\n",
       "      <th>2000-01-29</th>\n",
       "      <td>-2.815354</td>\n",
       "      <td>2.159310</td>\n",
       "      <td>-0.428940</td>\n",
       "      <td>-5.729882</td>\n",
       "    </tr>\n",
       "    <tr>\n",
       "      <th>2000-01-30</th>\n",
       "      <td>-3.396818</td>\n",
       "      <td>2.275989</td>\n",
       "      <td>-0.598768</td>\n",
       "      <td>-8.952014</td>\n",
       "    </tr>\n",
       "    <tr>\n",
       "      <th>...</th>\n",
       "      <td>...</td>\n",
       "      <td>...</td>\n",
       "      <td>...</td>\n",
       "      <td>...</td>\n",
       "    </tr>\n",
       "    <tr>\n",
       "      <th>2002-08-28</th>\n",
       "      <td>67.785771</td>\n",
       "      <td>-4.290578</td>\n",
       "      <td>54.898734</td>\n",
       "      <td>-9.738440</td>\n",
       "    </tr>\n",
       "    <tr>\n",
       "      <th>2002-08-29</th>\n",
       "      <td>68.885041</td>\n",
       "      <td>-2.979399</td>\n",
       "      <td>56.190691</td>\n",
       "      <td>-10.244183</td>\n",
       "    </tr>\n",
       "    <tr>\n",
       "      <th>2002-08-30</th>\n",
       "      <td>69.797411</td>\n",
       "      <td>-3.705585</td>\n",
       "      <td>58.551440</td>\n",
       "      <td>-10.535424</td>\n",
       "    </tr>\n",
       "    <tr>\n",
       "      <th>2002-08-31</th>\n",
       "      <td>68.690418</td>\n",
       "      <td>-4.243623</td>\n",
       "      <td>58.470719</td>\n",
       "      <td>-11.456662</td>\n",
       "    </tr>\n",
       "    <tr>\n",
       "      <th>2002-09-01</th>\n",
       "      <td>69.470853</td>\n",
       "      <td>-4.344663</td>\n",
       "      <td>57.263196</td>\n",
       "      <td>-13.165133</td>\n",
       "    </tr>\n",
       "    <tr>\n",
       "      <th>2002-09-02</th>\n",
       "      <td>70.160794</td>\n",
       "      <td>-5.085809</td>\n",
       "      <td>58.030993</td>\n",
       "      <td>-11.199882</td>\n",
       "    </tr>\n",
       "    <tr>\n",
       "      <th>2002-09-03</th>\n",
       "      <td>70.331433</td>\n",
       "      <td>-3.736786</td>\n",
       "      <td>57.465925</td>\n",
       "      <td>-11.731720</td>\n",
       "    </tr>\n",
       "    <tr>\n",
       "      <th>2002-09-04</th>\n",
       "      <td>69.434953</td>\n",
       "      <td>-3.402417</td>\n",
       "      <td>57.433772</td>\n",
       "      <td>-11.094424</td>\n",
       "    </tr>\n",
       "    <tr>\n",
       "      <th>2002-09-05</th>\n",
       "      <td>68.696862</td>\n",
       "      <td>-2.912779</td>\n",
       "      <td>57.703417</td>\n",
       "      <td>-9.989619</td>\n",
       "    </tr>\n",
       "    <tr>\n",
       "      <th>2002-09-06</th>\n",
       "      <td>69.079544</td>\n",
       "      <td>-3.794667</td>\n",
       "      <td>57.980645</td>\n",
       "      <td>-8.935677</td>\n",
       "    </tr>\n",
       "    <tr>\n",
       "      <th>2002-09-07</th>\n",
       "      <td>68.760854</td>\n",
       "      <td>-3.121923</td>\n",
       "      <td>58.677742</td>\n",
       "      <td>-10.004834</td>\n",
       "    </tr>\n",
       "    <tr>\n",
       "      <th>2002-09-08</th>\n",
       "      <td>67.281472</td>\n",
       "      <td>-3.728629</td>\n",
       "      <td>58.745914</td>\n",
       "      <td>-9.552905</td>\n",
       "    </tr>\n",
       "    <tr>\n",
       "      <th>2002-09-09</th>\n",
       "      <td>65.978196</td>\n",
       "      <td>-4.229758</td>\n",
       "      <td>59.290646</td>\n",
       "      <td>-8.274673</td>\n",
       "    </tr>\n",
       "    <tr>\n",
       "      <th>2002-09-10</th>\n",
       "      <td>64.803147</td>\n",
       "      <td>-5.279646</td>\n",
       "      <td>60.077537</td>\n",
       "      <td>-7.508823</td>\n",
       "    </tr>\n",
       "    <tr>\n",
       "      <th>2002-09-11</th>\n",
       "      <td>64.492368</td>\n",
       "      <td>-6.298308</td>\n",
       "      <td>60.905025</td>\n",
       "      <td>-8.565559</td>\n",
       "    </tr>\n",
       "    <tr>\n",
       "      <th>2002-09-12</th>\n",
       "      <td>64.438746</td>\n",
       "      <td>-7.666792</td>\n",
       "      <td>60.715308</td>\n",
       "      <td>-8.517525</td>\n",
       "    </tr>\n",
       "    <tr>\n",
       "      <th>2002-09-13</th>\n",
       "      <td>64.224819</td>\n",
       "      <td>-5.614231</td>\n",
       "      <td>61.576745</td>\n",
       "      <td>-9.470168</td>\n",
       "    </tr>\n",
       "    <tr>\n",
       "      <th>2002-09-14</th>\n",
       "      <td>63.282204</td>\n",
       "      <td>-4.210691</td>\n",
       "      <td>60.455875</td>\n",
       "      <td>-9.804497</td>\n",
       "    </tr>\n",
       "    <tr>\n",
       "      <th>2002-09-15</th>\n",
       "      <td>64.663181</td>\n",
       "      <td>-3.825353</td>\n",
       "      <td>60.761025</td>\n",
       "      <td>-9.776706</td>\n",
       "    </tr>\n",
       "    <tr>\n",
       "      <th>2002-09-16</th>\n",
       "      <td>65.039752</td>\n",
       "      <td>-1.693430</td>\n",
       "      <td>61.788666</td>\n",
       "      <td>-8.845801</td>\n",
       "    </tr>\n",
       "    <tr>\n",
       "      <th>2002-09-17</th>\n",
       "      <td>65.245116</td>\n",
       "      <td>-0.556701</td>\n",
       "      <td>62.184926</td>\n",
       "      <td>-8.932605</td>\n",
       "    </tr>\n",
       "    <tr>\n",
       "      <th>2002-09-18</th>\n",
       "      <td>65.313663</td>\n",
       "      <td>0.751052</td>\n",
       "      <td>61.929712</td>\n",
       "      <td>-7.159676</td>\n",
       "    </tr>\n",
       "    <tr>\n",
       "      <th>2002-09-19</th>\n",
       "      <td>64.441923</td>\n",
       "      <td>0.772559</td>\n",
       "      <td>61.062932</td>\n",
       "      <td>-8.524933</td>\n",
       "    </tr>\n",
       "    <tr>\n",
       "      <th>2002-09-20</th>\n",
       "      <td>63.153451</td>\n",
       "      <td>0.596946</td>\n",
       "      <td>61.088407</td>\n",
       "      <td>-8.620157</td>\n",
       "    </tr>\n",
       "    <tr>\n",
       "      <th>2002-09-21</th>\n",
       "      <td>63.391948</td>\n",
       "      <td>-1.301189</td>\n",
       "      <td>60.684391</td>\n",
       "      <td>-7.910480</td>\n",
       "    </tr>\n",
       "    <tr>\n",
       "      <th>2002-09-22</th>\n",
       "      <td>63.428569</td>\n",
       "      <td>-2.551204</td>\n",
       "      <td>62.039397</td>\n",
       "      <td>-8.046461</td>\n",
       "    </tr>\n",
       "    <tr>\n",
       "      <th>2002-09-23</th>\n",
       "      <td>62.702309</td>\n",
       "      <td>-0.605001</td>\n",
       "      <td>62.215867</td>\n",
       "      <td>-7.261257</td>\n",
       "    </tr>\n",
       "    <tr>\n",
       "      <th>2002-09-24</th>\n",
       "      <td>62.211804</td>\n",
       "      <td>-1.488015</td>\n",
       "      <td>62.723161</td>\n",
       "      <td>-9.098228</td>\n",
       "    </tr>\n",
       "    <tr>\n",
       "      <th>2002-09-25</th>\n",
       "      <td>62.832374</td>\n",
       "      <td>-1.939285</td>\n",
       "      <td>62.301319</td>\n",
       "      <td>-9.914838</td>\n",
       "    </tr>\n",
       "    <tr>\n",
       "      <th>2002-09-26</th>\n",
       "      <td>64.134156</td>\n",
       "      <td>-2.318684</td>\n",
       "      <td>61.666339</td>\n",
       "      <td>-11.803845</td>\n",
       "    </tr>\n",
       "  </tbody>\n",
       "</table>\n",
       "<p>1000 rows × 4 columns</p>\n",
       "</div>"
      ],
      "text/plain": [
       "                    A         B          C          D\n",
       "2000-01-01  -1.953269  1.059402  -0.095953  -0.329493\n",
       "2000-01-02  -3.056335  0.777558  -0.368448  -0.873706\n",
       "2000-01-03  -2.588574  2.213147  -0.086678  -0.126194\n",
       "2000-01-04  -2.552363  2.423185   0.721729  -0.794898\n",
       "2000-01-05  -2.195377  2.096079   0.094881  -2.139154\n",
       "2000-01-06  -1.637314  3.064424   0.032646  -1.227146\n",
       "2000-01-07  -0.106115  2.558711   0.549378  -1.938933\n",
       "2000-01-08   0.129455  2.268851  -0.524390  -2.463866\n",
       "2000-01-09   0.420358  1.994828   0.420067  -3.504329\n",
       "2000-01-10  -1.167474  0.714764  -0.512853  -3.137983\n",
       "2000-01-11  -2.775966  0.472257  -0.844591  -3.397048\n",
       "2000-01-12  -3.337314 -0.266220   0.041197  -2.029836\n",
       "2000-01-13  -4.177834 -1.935439  -0.253281  -2.230649\n",
       "2000-01-14  -4.815434 -1.932517   0.264675  -2.221244\n",
       "2000-01-15  -3.695748 -1.571364   1.034188  -3.169989\n",
       "2000-01-16  -2.657454 -1.071111  -0.099552  -2.478662\n",
       "2000-01-17  -1.761025 -1.361915   0.387506  -3.692157\n",
       "2000-01-18  -1.815638 -1.111640  -1.708628  -2.305345\n",
       "2000-01-19  -2.319682 -0.150927  -0.944853  -1.559141\n",
       "2000-01-20  -1.753475  1.454052  -1.710125  -1.641964\n",
       "2000-01-21  -2.582699  1.929022  -2.333608  -2.741880\n",
       "2000-01-22  -1.698757  1.154178  -3.125740  -4.916226\n",
       "2000-01-23  -2.233900  0.705659  -3.430809  -5.033220\n",
       "2000-01-24  -3.022478  1.370087  -2.722105  -4.877159\n",
       "2000-01-25  -2.495866  1.882755  -3.269977  -4.267167\n",
       "2000-01-26  -2.988987  3.270328   0.636314  -4.413620\n",
       "2000-01-27  -4.218365  0.205796  -0.245630  -5.833019\n",
       "2000-01-28  -2.962456  2.707349  -0.595491  -6.280755\n",
       "2000-01-29  -2.815354  2.159310  -0.428940  -5.729882\n",
       "2000-01-30  -3.396818  2.275989  -0.598768  -8.952014\n",
       "...               ...       ...        ...        ...\n",
       "2002-08-28  67.785771 -4.290578  54.898734  -9.738440\n",
       "2002-08-29  68.885041 -2.979399  56.190691 -10.244183\n",
       "2002-08-30  69.797411 -3.705585  58.551440 -10.535424\n",
       "2002-08-31  68.690418 -4.243623  58.470719 -11.456662\n",
       "2002-09-01  69.470853 -4.344663  57.263196 -13.165133\n",
       "2002-09-02  70.160794 -5.085809  58.030993 -11.199882\n",
       "2002-09-03  70.331433 -3.736786  57.465925 -11.731720\n",
       "2002-09-04  69.434953 -3.402417  57.433772 -11.094424\n",
       "2002-09-05  68.696862 -2.912779  57.703417  -9.989619\n",
       "2002-09-06  69.079544 -3.794667  57.980645  -8.935677\n",
       "2002-09-07  68.760854 -3.121923  58.677742 -10.004834\n",
       "2002-09-08  67.281472 -3.728629  58.745914  -9.552905\n",
       "2002-09-09  65.978196 -4.229758  59.290646  -8.274673\n",
       "2002-09-10  64.803147 -5.279646  60.077537  -7.508823\n",
       "2002-09-11  64.492368 -6.298308  60.905025  -8.565559\n",
       "2002-09-12  64.438746 -7.666792  60.715308  -8.517525\n",
       "2002-09-13  64.224819 -5.614231  61.576745  -9.470168\n",
       "2002-09-14  63.282204 -4.210691  60.455875  -9.804497\n",
       "2002-09-15  64.663181 -3.825353  60.761025  -9.776706\n",
       "2002-09-16  65.039752 -1.693430  61.788666  -8.845801\n",
       "2002-09-17  65.245116 -0.556701  62.184926  -8.932605\n",
       "2002-09-18  65.313663  0.751052  61.929712  -7.159676\n",
       "2002-09-19  64.441923  0.772559  61.062932  -8.524933\n",
       "2002-09-20  63.153451  0.596946  61.088407  -8.620157\n",
       "2002-09-21  63.391948 -1.301189  60.684391  -7.910480\n",
       "2002-09-22  63.428569 -2.551204  62.039397  -8.046461\n",
       "2002-09-23  62.702309 -0.605001  62.215867  -7.261257\n",
       "2002-09-24  62.211804 -1.488015  62.723161  -9.098228\n",
       "2002-09-25  62.832374 -1.939285  62.301319  -9.914838\n",
       "2002-09-26  64.134156 -2.318684  61.666339 -11.803845\n",
       "\n",
       "[1000 rows x 4 columns]"
      ]
     },
     "execution_count": 209,
     "metadata": {},
     "output_type": "execute_result"
    }
   ],
   "source": [
    "pd.read_excel('foo.xlsx', 'Sheet1', index_col=None, na_values=['NA'])"
   ]
  },
  {
   "cell_type": "markdown",
   "metadata": {},
   "source": [
    "#### 용량비교 : "
   ]
  },
  {
   "cell_type": "code",
   "execution_count": 210,
   "metadata": {
    "collapsed": false,
    "scrolled": true
   },
   "outputs": [
    {
     "name": "stdout",
     "output_type": "stream",
     "text": [
      " C 드라이브의 볼륨: Windows\n",
      " 볼륨 일련 번호: ACC2-708C\n",
      "\n",
      " c:\\github\\Study_py 디렉터리\n",
      "\n",
      "2017-03-29  오전 09:37            87,438 foo.csv\n",
      "2017-03-29  오전 09:37            47,384 foo.h5\n",
      "2017-03-29  오전 09:37           116,796 foo.json\n",
      "2017-03-29  오전 09:37            40,925 foo.pic\n",
      "2017-03-29  오전 09:37            67,960 foo.xlsx\n",
      "               5개 파일             360,503 바이트\n",
      "               0개 디렉터리  159,629,914,112 바이트 남음\n"
     ]
    }
   ],
   "source": [
    "!dir foo*"
   ]
  },
  {
   "cell_type": "markdown",
   "metadata": {},
   "source": [
    "### Gotchas"
   ]
  },
  {
   "cell_type": "code",
   "execution_count": 211,
   "metadata": {
    "collapsed": false
   },
   "outputs": [
    {
     "name": "stdout",
     "output_type": "stream",
     "text": [
      "I was not None\n"
     ]
    }
   ],
   "source": [
    "if pd.Series([False, True, False]) is not None:\n",
    "    print(\"I was not None\")"
   ]
  },
  {
   "cell_type": "code",
   "execution_count": 212,
   "metadata": {
    "collapsed": false
   },
   "outputs": [
    {
     "name": "stdout",
     "output_type": "stream",
     "text": [
      "I am any\n"
     ]
    }
   ],
   "source": [
    "if pd.Series([False, True, False]).any():\n",
    "    print(\"I am any\")"
   ]
  },
  {
   "cell_type": "code",
   "execution_count": 213,
   "metadata": {
    "collapsed": false
   },
   "outputs": [
    {
     "data": {
      "text/plain": [
       "True"
      ]
     },
     "execution_count": 213,
     "metadata": {},
     "output_type": "execute_result"
    }
   ],
   "source": [
    "pd.Series([True]).bool()"
   ]
  },
  {
   "cell_type": "code",
   "execution_count": 214,
   "metadata": {
    "collapsed": false
   },
   "outputs": [
    {
     "data": {
      "text/plain": [
       "False"
      ]
     },
     "execution_count": 214,
     "metadata": {},
     "output_type": "execute_result"
    }
   ],
   "source": [
    "pd.Series([False]).bool()"
   ]
  },
  {
   "cell_type": "code",
   "execution_count": 215,
   "metadata": {
    "collapsed": false
   },
   "outputs": [
    {
     "data": {
      "text/plain": [
       "True"
      ]
     },
     "execution_count": 215,
     "metadata": {},
     "output_type": "execute_result"
    }
   ],
   "source": [
    "pd.DataFrame([[True]]).bool()"
   ]
  },
  {
   "cell_type": "code",
   "execution_count": 216,
   "metadata": {
    "collapsed": false
   },
   "outputs": [
    {
     "data": {
      "text/plain": [
       "False"
      ]
     },
     "execution_count": 216,
     "metadata": {},
     "output_type": "execute_result"
    }
   ],
   "source": [
    "pd.DataFrame([[False]]).bool()"
   ]
  },
  {
   "cell_type": "markdown",
   "metadata": {
    "deletable": true,
    "editable": true
   },
   "source": [
    "## 1.2 전체 API 목록\n",
    "\n",
    "http://pandas.pydata.org/pandas-docs/stable/api.html"
   ]
  },
  {
   "cell_type": "markdown",
   "metadata": {
    "deletable": true,
    "editable": true
   },
   "source": [
    "## 주식 데이터 표현 예제"
   ]
  },
  {
   "cell_type": "code",
   "execution_count": 217,
   "metadata": {
    "collapsed": false,
    "deletable": true,
    "editable": true
   },
   "outputs": [],
   "source": [
    "import pandas as pd\n",
    "import pandas_datareader.data\n",
    "import requests\n",
    "import datetime\n",
    "import matplotlib.pyplot as plt\n",
    "\n",
    "CODE='005930.KS'\n",
    "df = pandas_datareader.data.DataReader(CODE, \"yahoo\", '2017-01-01', datetime.datetime.now())\n",
    "\n",
    "df['MA_5'] = df['Adj Close'].rolling(window=5, center=False).mean()\n",
    "df['MA_20'] = df['Adj Close'].rolling(window=20, center=False).mean()\n",
    "df['diff'] = df['MA_5'] - df['MA_20']"
   ]
  },
  {
   "cell_type": "code",
   "execution_count": 218,
   "metadata": {
    "collapsed": false,
    "deletable": true,
    "editable": true
   },
   "outputs": [
    {
     "name": "stdout",
     "output_type": "stream",
     "text": [
      "DEAD 2017-02-13 00:00:00 -12600.0\n",
      "GOLD 2017-02-24 00:00:00 7300.0\n",
      "DEAD 2017-03-01 00:00:00 -3450.0\n",
      "GOLD 2017-03-02 00:00:00 1050.0\n"
     ]
    }
   ],
   "source": [
    "fig = plt.gcf()\n",
    "fig.set_size_inches(16,8)\n",
    "\n",
    "#price(가격)\n",
    "price_chart = plt.subplot2grid((4,1),(0,0),rowspan=2)\n",
    "price_chart.plot(df.index, df['Adj Close'], label = 'Adj Close')\n",
    "price_chart.plot(df.index, df['MA_5'], label = 'MA_5')\n",
    "price_chart.plot(df.index, df['MA_20'], label = 'MA_20')\n",
    "\n",
    "plt.title(\"Samsung 2017\")\n",
    "plt.legend(loc='best')\n",
    "\n",
    "vol_chart = plt.subplot2grid((4,1),(2,0), rowspan = 1)\n",
    "vol_chart.bar(df.index, df['Volume'], color = 'c')\n",
    "\n",
    "signal_chart = plt.subplot2grid((4,1), (3,0), rowspan=1)\n",
    "signal_chart.plot(df.index, df['diff'].fillna(0), color = 'g')\n",
    "plt.axhline(y=0, linestyle = '--', color = 'k')\n",
    "\n",
    "prev_key = prev_val = 0\n",
    "for key, val in df['diff'][1:].iteritems():\n",
    "    if val == 0:\n",
    "        continue\n",
    "    elif val * prev_val < 0 and val > prev_val:\n",
    "        print('GOLD', key, val)\n",
    "        price_chart.annotate('Golden', xy = (key, df['MA_20'][key]), xytext=(10,-30), \n",
    "                             textcoords='offset points', arrowprops=dict(arrowstyle='-|>'))        \n",
    "        signal_chart.annotate('BUY', xy = (key, df['diff'][key]), xytext=(10,-30),\n",
    "                              textcoords='offset points', arrowprops=dict(arrowstyle='-|>'))        \n",
    "    elif val * prev_val < 0 and val < prev_val:\n",
    "        print('DEAD', key, val)\n",
    "        price_chart.annotate('Dead', xy = (key, df['MA_20'][key]), xytext=(10,30),\n",
    "                             textcoords='offset points', arrowprops=dict(arrowstyle='-|>'))\n",
    "        signal_chart.annotate('Sell', xy = (key, df['diff'][key]), xytext=(10,30),\n",
    "                             textcoords='offset points', arrowprops=dict(arrowstyle='-|>'))\n",
    "    prev_key, prev_val = key, val\n"
   ]
  },
  {
   "cell_type": "code",
   "execution_count": 219,
   "metadata": {
    "collapsed": false,
    "deletable": true,
    "editable": true
   },
   "outputs": [
    {
     "data": {
      "image/png": "[encoded data removed]",
      "text/plain": [
       "<matplotlib.figure.Figure at 0xc81d2f0>"
      ]
     },
     "metadata": {},
     "output_type": "display_data"
    }
   ],
   "source": [
    "plt.show()"
   ]
  },
  {
   "cell_type": "code",
   "execution_count": 220,
   "metadata": {
    "collapsed": true,
    "deletable": true,
    "editable": true
   },
   "outputs": [],
   "source": [
    "import pandas as pd\n",
    "import pandas_datareader.data\n",
    "import requests\n",
    "import datetime\n",
    "import matplotlib.pyplot as plt\n",
    "\n",
    "CODE='005930.KS'\n",
    "df = pandas_datareader.data.DataReader(CODE, \"yahoo\", '2017-01-01', datetime.datetime.now())"
   ]
  },
  {
   "cell_type": "code",
   "execution_count": 221,
   "metadata": {
    "collapsed": false,
    "deletable": true,
    "editable": true
   },
   "outputs": [
    {
     "data": {
      "text/html": [
       "<div>\n",
       "<table border=\"1\" class=\"dataframe\">\n",
       "  <thead>\n",
       "    <tr style=\"text-align: right;\">\n",
       "      <th></th>\n",
       "      <th>Open</th>\n",
       "      <th>High</th>\n",
       "      <th>Low</th>\n",
       "      <th>Close</th>\n",
       "      <th>Volume</th>\n",
       "      <th>Adj Close</th>\n",
       "    </tr>\n",
       "    <tr>\n",
       "      <th>Date</th>\n",
       "      <th></th>\n",
       "      <th></th>\n",
       "      <th></th>\n",
       "      <th></th>\n",
       "      <th></th>\n",
       "      <th></th>\n",
       "    </tr>\n",
       "  </thead>\n",
       "  <tbody>\n",
       "    <tr>\n",
       "      <th>2017-03-24</th>\n",
       "      <td>2080000.0</td>\n",
       "      <td>2099000.0</td>\n",
       "      <td>2054000.0</td>\n",
       "      <td>2075000.0</td>\n",
       "      <td>256100</td>\n",
       "      <td>2075000.0</td>\n",
       "    </tr>\n",
       "    <tr>\n",
       "      <th>2017-03-27</th>\n",
       "      <td>2060000.0</td>\n",
       "      <td>2094000.0</td>\n",
       "      <td>2059000.0</td>\n",
       "      <td>2060000.0</td>\n",
       "      <td>243500</td>\n",
       "      <td>2060000.0</td>\n",
       "    </tr>\n",
       "    <tr>\n",
       "      <th>2017-03-28</th>\n",
       "      <td>2078000.0</td>\n",
       "      <td>2092000.0</td>\n",
       "      <td>2069000.0</td>\n",
       "      <td>2074000.0</td>\n",
       "      <td>164300</td>\n",
       "      <td>2074000.0</td>\n",
       "    </tr>\n",
       "  </tbody>\n",
       "</table>\n",
       "</div>"
      ],
      "text/plain": [
       "                 Open       High        Low      Close  Volume  Adj Close\n",
       "Date                                                                     \n",
       "2017-03-24  2080000.0  2099000.0  2054000.0  2075000.0  256100  2075000.0\n",
       "2017-03-27  2060000.0  2094000.0  2059000.0  2060000.0  243500  2060000.0\n",
       "2017-03-28  2078000.0  2092000.0  2069000.0  2074000.0  164300  2074000.0"
      ]
     },
     "execution_count": 221,
     "metadata": {},
     "output_type": "execute_result"
    }
   ],
   "source": [
    "df.tail(3)"
   ]
  },
  {
   "cell_type": "code",
   "execution_count": 222,
   "metadata": {
    "collapsed": false,
    "deletable": true,
    "editable": true
   },
   "outputs": [],
   "source": [
    "plt.show()"
   ]
  }
 ],
 "metadata": {
  "anaconda-cloud": {},
  "kernelspec": {
   "display_name": "Python [default]",
   "language": "python",
   "name": "python3"
  },
  "language_info": {
   "codemirror_mode": {
    "name": "ipython",
    "version": 3
   },
   "file_extension": ".py",
   "mimetype": "text/x-python",
   "name": "python",
   "nbconvert_exporter": "python",
   "pygments_lexer": "ipython3",
   "version": "3.5.2"
  },
  "nbpresent": {
   "slides": {
    "00870f5c-31a5-4208-a7b7-2d38d83ed4d7": {
     "id": "00870f5c-31a5-4208-a7b7-2d38d83ed4d7",
     "prev": "6a553b2a-266d-470d-87be-e2f56a222553",
     "regions": {
      "82cbe250-fc56-40db-9191-5d1697561dca": {
       "attrs": {
        "height": 0.8,
        "width": 0.8,
        "x": 0.1,
        "y": 0.1
       },
       "content": {
        "cell": "20e352ab-edf1-4638-8aac-94e0828c1706",
        "part": "whole"
       },
       "id": "82cbe250-fc56-40db-9191-5d1697561dca"
      }
     }
    },
    "0e23b95f-a5e3-4e54-be93-9fadbce5d094": {
     "id": "0e23b95f-a5e3-4e54-be93-9fadbce5d094",
     "prev": "9e696514-1c3c-40a0-8428-761c2a8362d6",
     "regions": {
      "03c550f2-9809-46f1-8a0f-a815934eac3b": {
       "attrs": {
        "height": 0.8,
        "width": 0.8,
        "x": 0.1,
        "y": 0.1
       },
       "content": {
        "cell": "49be9dae-a566-426a-b455-ae4a207bc3e2",
        "part": "whole"
       },
       "id": "03c550f2-9809-46f1-8a0f-a815934eac3b"
      }
     }
    },
    "0e3dba63-13e2-4b7a-86cb-872f924d872f": {
     "id": "0e3dba63-13e2-4b7a-86cb-872f924d872f",
     "prev": null,
     "regions": {
      "51130638-3ad6-4459-8310-35f20d890f6c": {
       "attrs": {
        "height": 0.8,
        "width": 0.8,
        "x": 0.1,
        "y": 0.1
       },
       "content": {
        "cell": "e66d5c5e-12a7-4e3a-9e90-c13209cbcb9e",
        "part": "whole"
       },
       "id": "51130638-3ad6-4459-8310-35f20d890f6c"
      }
     }
    },
    "0f0390cb-2a89-49f3-90cd-f8e790473b2c": {
     "id": "0f0390cb-2a89-49f3-90cd-f8e790473b2c",
     "prev": "b4379257-b19c-4eeb-81a1-2b5f02b785c1",
     "regions": {
      "b0c1b299-8c8d-4a77-8513-67a8c5f44f68": {
       "attrs": {
        "height": 0.8,
        "width": 0.8,
        "x": 0.1,
        "y": 0.1
       },
       "content": {
        "cell": "932d560b-5e40-4311-9ed4-267bfed1244e",
        "part": "whole"
       },
       "id": "b0c1b299-8c8d-4a77-8513-67a8c5f44f68"
      }
     }
    },
    "1470d8ae-6651-4e77-aa56-2c9f42ccb1c5": {
     "id": "1470d8ae-6651-4e77-aa56-2c9f42ccb1c5",
     "prev": "0e23b95f-a5e3-4e54-be93-9fadbce5d094",
     "regions": {
      "663fa50c-4268-4b19-b1eb-2e7ace42fb78": {
       "attrs": {
        "height": 0.8,
        "width": 0.8,
        "x": 0.1,
        "y": 0.1
       },
       "content": {
        "cell": "ed924741-ca42-456a-8693-8cf881d51a33",
        "part": "whole"
       },
       "id": "663fa50c-4268-4b19-b1eb-2e7ace42fb78"
      }
     }
    },
    "3e9b9061-bfa6-4b6d-89d0-e1a5d6bbff79": {
     "id": "3e9b9061-bfa6-4b6d-89d0-e1a5d6bbff79",
     "prev": "bdcae75d-3237-4aab-93f2-3c59de0274b4",
     "regions": {
      "6601da4c-4ad2-4e2c-b596-7bd71d52970b": {
       "attrs": {
        "height": 0.8,
        "width": 0.8,
        "x": 0.1,
        "y": 0.1
       },
       "content": {
        "cell": "6864bb3d-20e4-4a07-886e-09f118a76812",
        "part": "whole"
       },
       "id": "6601da4c-4ad2-4e2c-b596-7bd71d52970b"
      }
     }
    },
    "4a293482-4dbd-48bb-90bc-583bd6a3f073": {
     "id": "4a293482-4dbd-48bb-90bc-583bd6a3f073",
     "prev": "ab3dbcc8-d92f-46d3-82b7-35950cdd9d4a",
     "regions": {
      "63d7de15-d00d-4e2e-b718-7320a5da48d9": {
       "attrs": {
        "height": 0.8,
        "width": 0.8,
        "x": 0.1,
        "y": 0.1
       },
       "content": {
        "cell": "17d3dfc4-8c9b-4161-aff0-08135ce7cf20",
        "part": "whole"
       },
       "id": "63d7de15-d00d-4e2e-b718-7320a5da48d9"
      }
     }
    },
    "4bee371b-0c15-429c-8da0-af26970be1f5": {
     "id": "4bee371b-0c15-429c-8da0-af26970be1f5",
     "prev": "fcef3fed-f763-4b67-8aff-6f7fee4cc733",
     "regions": {
      "15918063-4d0a-4d74-af73-ac0db915039b": {
       "attrs": {
        "height": 0.8,
        "width": 0.8,
        "x": 0.1,
        "y": 0.1
       },
       "content": {
        "cell": "bc1eb46c-fb0a-4bd3-852c-c143041ede5c",
        "part": "whole"
       },
       "id": "15918063-4d0a-4d74-af73-ac0db915039b"
      }
     }
    },
    "512b4732-4b42-46d9-8d5a-d444a7957926": {
     "id": "512b4732-4b42-46d9-8d5a-d444a7957926",
     "prev": "98bb26cf-7edf-4876-b004-bc69d9b2b41d",
     "regions": {
      "9a9e3d8c-451c-417b-ac6a-cfe1adf3559f": {
       "attrs": {
        "height": 1,
        "width": 1,
        "x": 0,
        "y": 0
       },
       "id": "9a9e3d8c-451c-417b-ac6a-cfe1adf3559f"
      }
     }
    },
    "6a553b2a-266d-470d-87be-e2f56a222553": {
     "id": "6a553b2a-266d-470d-87be-e2f56a222553",
     "prev": "4bee371b-0c15-429c-8da0-af26970be1f5",
     "regions": {
      "167940fd-cef0-45c7-887b-3480580a469d": {
       "attrs": {
        "height": 0.8,
        "width": 0.8,
        "x": 0.1,
        "y": 0.1
       },
       "content": {
        "cell": "714e0777-6935-497a-b23e-5a38d0db64e1",
        "part": "whole"
       },
       "id": "167940fd-cef0-45c7-887b-3480580a469d"
      }
     }
    },
    "7809296a-f0ce-4571-a300-79b8676d48e4": {
     "id": "7809296a-f0ce-4571-a300-79b8676d48e4",
     "prev": "1470d8ae-6651-4e77-aa56-2c9f42ccb1c5",
     "regions": {
      "149a4f14-1baf-4185-956a-955c1965f1c6": {
       "attrs": {
        "height": 0.8,
        "width": 0.8,
        "x": 0.1,
        "y": 0.1
       },
       "content": {
        "cell": "ad387461-4005-4e32-85dd-bae890bd3379",
        "part": "whole"
       },
       "id": "149a4f14-1baf-4185-956a-955c1965f1c6"
      }
     }
    },
    "8d2ea0de-4597-48b8-91b0-c75ad79c328d": {
     "id": "8d2ea0de-4597-48b8-91b0-c75ad79c328d",
     "prev": "988f7f09-2623-4d16-978f-7651877bf00a",
     "regions": {
      "5097b89d-e19f-4a1f-8c6e-133757b92af1": {
       "attrs": {
        "height": 0.8,
        "width": 0.8,
        "x": 0.1,
        "y": 0.1
       },
       "content": {
        "cell": "4a38d4ae-1654-4126-ae5b-330eae12f00f",
        "part": "whole"
       },
       "id": "5097b89d-e19f-4a1f-8c6e-133757b92af1"
      }
     }
    },
    "8f46b258-371f-4050-8296-7879cc833a51": {
     "id": "8f46b258-371f-4050-8296-7879cc833a51",
     "prev": "b5010567-1802-4449-8280-abf8867e5e08",
     "regions": {
      "dc2a3459-0371-4c1d-aaad-a7b9ca9beaa1": {
       "attrs": {
        "height": 0.8,
        "width": 0.8,
        "x": 0.1,
        "y": 0.1
       },
       "content": {
        "cell": "45c30890-f0ab-4aff-a38e-9cc1f09b97e3",
        "part": "whole"
       },
       "id": "dc2a3459-0371-4c1d-aaad-a7b9ca9beaa1"
      }
     }
    },
    "95aac8f4-df31-4104-943e-399b03956bb7": {
     "id": "95aac8f4-df31-4104-943e-399b03956bb7",
     "prev": "00870f5c-31a5-4208-a7b7-2d38d83ed4d7",
     "regions": {
      "3519c092-2961-4edd-bd81-4178bb017e4a": {
       "attrs": {
        "height": 0.8,
        "width": 0.8,
        "x": 0.1,
        "y": 0.1
       },
       "content": {
        "cell": "032d0ffe-fcc4-489f-8afe-c592a0bb615e",
        "part": "whole"
       },
       "id": "3519c092-2961-4edd-bd81-4178bb017e4a"
      }
     }
    },
    "988f7f09-2623-4d16-978f-7651877bf00a": {
     "id": "988f7f09-2623-4d16-978f-7651877bf00a",
     "prev": "0f0390cb-2a89-49f3-90cd-f8e790473b2c",
     "regions": {
      "3c886705-ea62-4b96-9f87-41f4941c18d1": {
       "attrs": {
        "height": 0.8,
        "width": 0.8,
        "x": 0.1,
        "y": 0.1
       },
       "content": {
        "cell": "54edce2a-b734-418b-8e35-ab3f5483988a",
        "part": "whole"
       },
       "id": "3c886705-ea62-4b96-9f87-41f4941c18d1"
      }
     }
    },
    "98bb26cf-7edf-4876-b004-bc69d9b2b41d": {
     "id": "98bb26cf-7edf-4876-b004-bc69d9b2b41d",
     "prev": "cbdd725e-7f09-447b-be3d-c4c764fff67b",
     "regions": {
      "c644d39c-1b21-4b88-a929-fcc8d068032d": {
       "attrs": {
        "height": 0.8,
        "width": 0.8,
        "x": 0.1,
        "y": 0.1
       },
       "content": {
        "cell": "8b93f980-e6fd-4e04-9102-055a0adf8083",
        "part": "whole"
       },
       "id": "c644d39c-1b21-4b88-a929-fcc8d068032d"
      }
     }
    },
    "9e696514-1c3c-40a0-8428-761c2a8362d6": {
     "id": "9e696514-1c3c-40a0-8428-761c2a8362d6",
     "prev": "8d2ea0de-4597-48b8-91b0-c75ad79c328d",
     "regions": {
      "fdfd4c33-74b3-4adb-bb7b-556e841e3a18": {
       "attrs": {
        "height": 0.8,
        "width": 0.8,
        "x": 0.1,
        "y": 0.1
       },
       "content": {
        "cell": "b689cd05-fb87-402a-b739-24fb7e5b1890",
        "part": "whole"
       },
       "id": "fdfd4c33-74b3-4adb-bb7b-556e841e3a18"
      }
     }
    },
    "a6f9351c-b4f9-4a1d-931d-68755bf1887a": {
     "id": "a6f9351c-b4f9-4a1d-931d-68755bf1887a",
     "prev": "4a293482-4dbd-48bb-90bc-583bd6a3f073",
     "regions": {
      "fb570c40-1760-4573-8fdd-c8b04ad43540": {
       "attrs": {
        "height": 0.8,
        "width": 0.8,
        "x": 0.1,
        "y": 0.1
       },
       "content": {
        "cell": "c71482d8-3d84-4cd7-a865-cdbf346c8aa1",
        "part": "whole"
       },
       "id": "fb570c40-1760-4573-8fdd-c8b04ad43540"
      }
     }
    },
    "ab3dbcc8-d92f-46d3-82b7-35950cdd9d4a": {
     "id": "ab3dbcc8-d92f-46d3-82b7-35950cdd9d4a",
     "prev": "ac0c7e3b-d1f9-4302-80c1-a01bbfca315c",
     "regions": {
      "e1c2a0bc-91f5-4638-b0d4-ab9692c0baae": {
       "attrs": {
        "height": 0.8,
        "width": 0.8,
        "x": 0.1,
        "y": 0.1
       },
       "content": {
        "cell": "f54b486c-c240-416c-960b-98a82c0b5cf8",
        "part": "whole"
       },
       "id": "e1c2a0bc-91f5-4638-b0d4-ab9692c0baae"
      }
     }
    },
    "ac0c7e3b-d1f9-4302-80c1-a01bbfca315c": {
     "id": "ac0c7e3b-d1f9-4302-80c1-a01bbfca315c",
     "prev": "e0bfa90f-0c5a-4ce6-91db-6cc6e7f40ff3",
     "regions": {
      "d73f250d-b0b3-41df-8d47-b82978afca3f": {
       "attrs": {
        "height": 0.8,
        "width": 0.8,
        "x": 0.1,
        "y": 0.1
       },
       "content": {
        "cell": "61b4fc74-bb38-4286-8ec4-22cf1a0ab3f4",
        "part": "whole"
       },
       "id": "d73f250d-b0b3-41df-8d47-b82978afca3f"
      }
     }
    },
    "b4379257-b19c-4eeb-81a1-2b5f02b785c1": {
     "id": "b4379257-b19c-4eeb-81a1-2b5f02b785c1",
     "prev": "512b4732-4b42-46d9-8d5a-d444a7957926",
     "regions": {
      "37f40f87-4790-47c0-9fa3-a1636d9c2229": {
       "attrs": {
        "height": 0.8,
        "width": 0.2,
        "x": 0.7,
        "y": 0.1
       },
       "id": "37f40f87-4790-47c0-9fa3-a1636d9c2229"
      },
      "41599c37-50de-49ee-aa33-37aa030bff13": {
       "attrs": {
        "height": 0.8,
        "width": 0.2,
        "x": 0.1,
        "y": 0.1
       },
       "id": "41599c37-50de-49ee-aa33-37aa030bff13"
      },
      "cbf99f4e-467a-4802-b5e7-0cf5263f86fb": {
       "attrs": {
        "height": 0.8,
        "width": 0.2,
        "x": 0.4,
        "y": 0.1
       },
       "id": "cbf99f4e-467a-4802-b5e7-0cf5263f86fb"
      }
     }
    },
    "b5010567-1802-4449-8280-abf8867e5e08": {
     "id": "b5010567-1802-4449-8280-abf8867e5e08",
     "prev": "3e9b9061-bfa6-4b6d-89d0-e1a5d6bbff79",
     "regions": {
      "c8ac9174-2950-4ef7-b90c-b9bfff51a4d1": {
       "attrs": {
        "height": 0.8,
        "width": 0.8,
        "x": 0.1,
        "y": 0.1
       },
       "content": {
        "cell": "5cc3fb9d-fc2c-42da-8434-7fb374a279b5",
        "part": "whole"
       },
       "id": "c8ac9174-2950-4ef7-b90c-b9bfff51a4d1"
      }
     }
    },
    "bdcae75d-3237-4aab-93f2-3c59de0274b4": {
     "id": "bdcae75d-3237-4aab-93f2-3c59de0274b4",
     "prev": "0e3dba63-13e2-4b7a-86cb-872f924d872f",
     "regions": {
      "659fbdf5-3634-45bb-8f55-cb2ad81a5da5": {
       "attrs": {
        "height": 0.8,
        "width": 0.8,
        "x": 0.1,
        "y": 0.1
       },
       "content": {
        "cell": "7fa00731-2d0a-4a98-9ef0-d5b23e4b26f5",
        "part": "whole"
       },
       "id": "659fbdf5-3634-45bb-8f55-cb2ad81a5da5"
      }
     }
    },
    "cbdd725e-7f09-447b-be3d-c4c764fff67b": {
     "id": "cbdd725e-7f09-447b-be3d-c4c764fff67b",
     "prev": "a6f9351c-b4f9-4a1d-931d-68755bf1887a",
     "regions": {
      "59ecb648-6092-47e8-866c-6b5d8c3ed85c": {
       "attrs": {
        "height": 0.8,
        "width": 0.8,
        "x": 0.1,
        "y": 0.1
       },
       "content": {
        "cell": "47c47743-9d61-4373-9218-b0df14437d90",
        "part": "whole"
       },
       "id": "59ecb648-6092-47e8-866c-6b5d8c3ed85c"
      }
     }
    },
    "e0bfa90f-0c5a-4ce6-91db-6cc6e7f40ff3": {
     "id": "e0bfa90f-0c5a-4ce6-91db-6cc6e7f40ff3",
     "prev": "8f46b258-371f-4050-8296-7879cc833a51",
     "regions": {
      "58a80420-ebb7-4733-9823-36e29dcc3b9c": {
       "attrs": {
        "height": 0.8,
        "width": 0.8,
        "x": 0.1,
        "y": 0.1
       },
       "content": {
        "cell": "96066229-e5cc-4285-bde6-08381edd2468",
        "part": "whole"
       },
       "id": "58a80420-ebb7-4733-9823-36e29dcc3b9c"
      }
     }
    },
    "fcef3fed-f763-4b67-8aff-6f7fee4cc733": {
     "id": "fcef3fed-f763-4b67-8aff-6f7fee4cc733",
     "prev": "7809296a-f0ce-4571-a300-79b8676d48e4",
     "regions": {
      "9e2c95c4-c24f-4591-80a1-83753156d463": {
       "attrs": {
        "height": 0.8,
        "width": 0.8,
        "x": 0.1,
        "y": 0.1
       },
       "content": {
        "cell": "cbfdbbd5-2a28-4b7c-8aea-0173595333ed",
        "part": "whole"
       },
       "id": "9e2c95c4-c24f-4591-80a1-83753156d463"
      }
     }
    }
   },
   "themes": {}
  }
 },
 "nbformat": 4,
 "nbformat_minor": 1
}
